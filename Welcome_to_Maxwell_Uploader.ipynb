{
 "cells": [
  {
   "cell_type": "markdown",
   "id": "7726ad04",
   "metadata": {},
   "source": [
    "<font color=\"fuchsia\" size=7><i>Uploader App"
   ]
  },
  {
   "cell_type": "markdown",
   "id": "3316c215",
   "metadata": {},
   "source": [
    "This app is used to upload Maxwell ephys data form WetAI to the the Braingeneers database."
   ]
  },
  {
   "cell_type": "markdown",
   "id": "9db10fa7",
   "metadata": {},
   "source": [
    "# <font color=\"grey\"> Introduction"
   ]
  },
  {
   "cell_type": "markdown",
   "id": "bb1a1f7b",
   "metadata": {},
   "source": [
    "Please begin by opening a folder locally using the \"Open Directory\" button. This folder should include the desired experiments (data1.raw.h5, data2... etc). \n",
    "\n",
    "You should then see the available files populate below the button. Please use the prompts to populate the uuid and the notes, then click \"Generate Metadata\".\n",
    "\n",
    "Finally Click \"Upload\" and wait until you see \"Upload complete\". Happy uploading!')"
   ]
  },
  {
   "cell_type": "markdown",
   "id": "37141d58",
   "metadata": {},
   "source": [
    "# <font color=\"fuchsia\">App"
   ]
  },
  {
   "cell_type": "code",
   "execution_count": null,
   "id": "2cfa9b5e",
   "metadata": {},
   "outputs": [],
   "source": [
    "%run Source_Code.ipynb\n",
    "wStart"
   ]
  },
  {
   "cell_type": "code",
   "execution_count": null,
   "id": "b2c0f3f4",
   "metadata": {},
   "outputs": [],
   "source": []
  }
 ],
 "metadata": {
  "hide_input": false,
  "kernelspec": {
   "display_name": "Python 3",
   "language": "python",
   "name": "python3"
  },
  "language_info": {
   "codemirror_mode": {
    "name": "ipython",
    "version": 3
   },
   "file_extension": ".py",
   "mimetype": "text/x-python",
   "name": "python",
   "nbconvert_exporter": "python",
   "pygments_lexer": "ipython3",
   "version": "3.9.5"
  },
  "toc": {
   "base_numbering": 1,
   "nav_menu": {},
   "number_sections": true,
   "sideBar": true,
   "skip_h1_title": false,
   "title_cell": "Table of Contents",
   "title_sidebar": "Contents",
   "toc_cell": false,
   "toc_position": {},
   "toc_section_display": true,
   "toc_window_display": false
  },
  "widgets": {
   "application/vnd.jupyter.widget-state+json": {
    "state": {
     "02ab8a7ce4954b598aead577a822bf85": {
      "model_module": "@jupyter-widgets/controls",
      "model_module_version": "1.5.0",
      "model_name": "DescriptionStyleModel",
      "state": {
       "description_width": ""
      }
     },
     "042bcb319bc0458e9aa0286f76bd1b01": {
      "model_module": "@jupyter-widgets/controls",
      "model_module_version": "1.5.0",
      "model_name": "DropdownModel",
      "state": {
       "_options_labels": [
        "/home/mxwbio/wetai/homepage/Projects",
        "/home/mxwbio/wetai/homepage",
        "/home/mxwbio/wetai",
        "/home/mxwbio",
        "/home",
        "/"
       ],
       "index": 0,
       "layout": "IPY_MODEL_113327c39d634fad936ce5461bcd5ae6",
       "style": "IPY_MODEL_d2dad10976b3498e86d1f76569f25f2e"
      }
     },
     "05cf7dd265824c62bdee647e6a0923b7": {
      "model_module": "@jupyter-widgets/controls",
      "model_module_version": "1.5.0",
      "model_name": "ButtonModel",
      "state": {
       "description": "Select",
       "layout": "IPY_MODEL_1ef11a0b5ac5402484fbf30bee1eb66e",
       "style": "IPY_MODEL_de141e9e2ea74be795439a721ce958c4"
      }
     },
     "05d350988c9e40a3ae7799d7de5752e3": {
      "model_module": "@jupyter-widgets/controls",
      "model_module_version": "1.5.0",
      "model_name": "DescriptionStyleModel",
      "state": {
       "description_width": ""
      }
     },
     "0605435eec294864890da9f8c1e7f2eb": {
      "model_module": "@jupyter-widgets/base",
      "model_module_version": "1.2.0",
      "model_name": "LayoutModel",
      "state": {
       "width": "auto"
      }
     },
     "064791286fb34a45b647936f8be42b37": {
      "model_module": "@jupyter-widgets/base",
      "model_module_version": "1.2.0",
      "model_name": "LayoutModel",
      "state": {
       "margin": "0 0 0 1em"
      }
     },
     "072365678beb46119cadfebbcbf3cd07": {
      "model_module": "@jupyter-widgets/controls",
      "model_module_version": "1.5.0",
      "model_name": "ButtonStyleModel",
      "state": {}
     },
     "077e5ae27bf94aeca54ee4ce09e4a327": {
      "model_module": "@jupyter-widgets/controls",
      "model_module_version": "1.5.0",
      "model_name": "DescriptionStyleModel",
      "state": {
       "description_width": ""
      }
     },
     "0863a28ca7ed4c79a9199a5ee9155eb5": {
      "model_module": "@jupyter-widgets/base",
      "model_module_version": "1.2.0",
      "model_name": "LayoutModel",
      "state": {
       "width": "auto"
      }
     },
     "0920b123e1a746e49c22fa67e2e1a317": {
      "model_module": "@jupyter-widgets/base",
      "model_module_version": "1.2.0",
      "model_name": "LayoutModel",
      "state": {
       "width": "auto"
      }
     },
     "0a1922ae4c194f3e975746670fd54730": {
      "model_module": "@jupyter-widgets/controls",
      "model_module_version": "1.5.0",
      "model_name": "DescriptionStyleModel",
      "state": {
       "description_width": ""
      }
     },
     "0ad2b27372424ad991b3a4637b06f6b9": {
      "model_module": "@jupyter-widgets/controls",
      "model_module_version": "1.5.0",
      "model_name": "VBoxModel",
      "state": {
       "children": [
        "IPY_MODEL_7b48dcdf9faa414db550af12938e7e39",
        "IPY_MODEL_638524b452c64c358d6a2e2953adedd1",
        "IPY_MODEL_2e0e34f37acb440a9ab20b70e24c5956"
       ],
       "layout": "IPY_MODEL_3860a645a3e24775a3fe01620be9e323"
      }
     },
     "0bb86943582049ddbb44402eb0cc7416": {
      "model_module": "@jupyter-widgets/base",
      "model_module_version": "1.2.0",
      "model_name": "LayoutModel",
      "state": {
       "min_width": "6em",
       "width": "6em"
      }
     },
     "0e479b01cf784b7b9fafaeabfaa63fd8": {
      "model_module": "@jupyter-widgets/controls",
      "model_module_version": "1.5.0",
      "model_name": "HTMLModel",
      "state": {
       "layout": "IPY_MODEL_b2d137b0244343b5a6d4c6137fedc51e",
       "style": "IPY_MODEL_3c7a7267e2334da08a31a2283b466385"
      }
     },
     "0e82068613404c84878c9f7424f9f255": {
      "model_module": "@jupyter-widgets/controls",
      "model_module_version": "1.5.0",
      "model_name": "ButtonModel",
      "state": {
       "button_style": "success",
       "description": "Start",
       "layout": "IPY_MODEL_0605435eec294864890da9f8c1e7f2eb",
       "style": "IPY_MODEL_e71561225871413a8f0a3d7173992a4e"
      }
     },
     "0f3a10f7c6ba43638b0336bd36e6be21": {
      "model_module": "@jupyter-widgets/controls",
      "model_module_version": "1.5.0",
      "model_name": "DescriptionStyleModel",
      "state": {
       "description_width": ""
      }
     },
     "0fde06b073f74ba7a05f893847a9704c": {
      "model_module": "@jupyter-widgets/controls",
      "model_module_version": "1.5.0",
      "model_name": "ButtonStyleModel",
      "state": {}
     },
     "0ff4575593c24e57b60253023e37e9ae": {
      "model_module": "@jupyter-widgets/controls",
      "model_module_version": "1.5.0",
      "model_name": "TextareaModel",
      "state": {
       "layout": "IPY_MODEL_e80c580e10ef464ba9998fc81bf5cda6",
       "style": "IPY_MODEL_71cced23494c45f4a41264eb9f92e1c5"
      }
     },
     "113327c39d634fad936ce5461bcd5ae6": {
      "model_module": "@jupyter-widgets/base",
      "model_module_version": "1.2.0",
      "model_name": "LayoutModel",
      "state": {
       "grid_area": "pathlist",
       "width": "auto"
      }
     },
     "1150afe8dbab472baa3d7f9a081d2e65": {
      "model_module": "@jupyter-widgets/base",
      "model_module_version": "1.2.0",
      "model_name": "LayoutModel",
      "state": {
       "width": "auto"
      }
     },
     "1191c41715d84b7c8a6d2ee84d5277dd": {
      "model_module": "@jupyter-widgets/base",
      "model_module_version": "1.2.0",
      "model_name": "LayoutModel",
      "state": {
       "width": "auto"
      }
     },
     "1351c9f5af644da288c16695f12e85c2": {
      "model_module": "@jupyter-widgets/base",
      "model_module_version": "1.2.0",
      "model_name": "LayoutModel",
      "state": {
       "display": "none",
       "grid_area": "filename",
       "width": "auto"
      }
     },
     "158276a5db33419eae164a0dd6d328ac": {
      "model_module": "@jupyter-widgets/controls",
      "model_module_version": "1.5.0",
      "model_name": "BoxModel",
      "state": {
       "children": [
        "IPY_MODEL_56e1d1d3cb024609afc60cf89d98c401"
       ],
       "layout": "IPY_MODEL_f5ad49c815654e48af2bdca872aa5918"
      }
     },
     "1586c658dbcf483c88fe15b91bce54dd": {
      "model_module": "@jupyter-widgets/controls",
      "model_module_version": "1.5.0",
      "model_name": "DescriptionStyleModel",
      "state": {
       "description_width": ""
      }
     },
     "169047689f284cf38912070453998464": {
      "model_module": "@jupyter-widgets/controls",
      "model_module_version": "1.5.0",
      "model_name": "ButtonStyleModel",
      "state": {}
     },
     "17bc21cdf13f4cc781e3db9d258fb8d8": {
      "model_module": "@jupyter-widgets/controls",
      "model_module_version": "1.5.0",
      "model_name": "VBoxModel",
      "state": {
       "children": [
        "IPY_MODEL_3239a298adfe452a8e899faf678439e9",
        "IPY_MODEL_3a68370e8615456bae7d7c22a5cb0fb4",
        "IPY_MODEL_3f402beacf344d1cb98268adc09d2d87"
       ],
       "layout": "IPY_MODEL_3860a645a3e24775a3fe01620be9e323"
      }
     },
     "182b325007404059beab94de083b68fe": {
      "model_module": "@jupyter-widgets/controls",
      "model_module_version": "1.5.0",
      "model_name": "TextModel",
      "state": {
       "description": "UUID",
       "layout": "IPY_MODEL_3d476fe01df24adbb0a9cbe62e726424",
       "style": "IPY_MODEL_02ab8a7ce4954b598aead577a822bf85"
      }
     },
     "1e82986561654b97b04e0f6cb6a64870": {
      "model_module": "@jupyter-widgets/controls",
      "model_module_version": "1.5.0",
      "model_name": "GridBoxModel",
      "state": {
       "children": [
        "IPY_MODEL_e4a7947c1c7d4278aa7dc4894e00220f",
        "IPY_MODEL_d7da698012a841bc8f31bd7578cbbc62",
        "IPY_MODEL_69ce61e0a8234765a02ad82718a6ab42"
       ],
       "layout": "IPY_MODEL_47f7c0e1746248f8bf96957d28746bc8"
      }
     },
     "1ef11a0b5ac5402484fbf30bee1eb66e": {
      "model_module": "@jupyter-widgets/base",
      "model_module_version": "1.2.0",
      "model_name": "LayoutModel",
      "state": {
       "min_width": "6em",
       "width": "6em"
      }
     },
     "1f4821bb45154de085a1b3c57483e13c": {
      "model_module": "@jupyter-widgets/controls",
      "model_module_version": "1.5.0",
      "model_name": "ButtonStyleModel",
      "state": {}
     },
     "1f8f288e980b4236afd540303fe61a24": {
      "model_module": "@jupyter-widgets/base",
      "model_module_version": "1.2.0",
      "model_name": "LayoutModel",
      "state": {
       "overflow": "auto"
      }
     },
     "20689fbe7ae747c7b5a62213b0ef8e5f": {
      "model_module": "@jupyter-widgets/base",
      "model_module_version": "1.2.0",
      "model_name": "LayoutModel",
      "state": {
       "grid_area": "dircontent",
       "width": "auto"
      }
     },
     "2262aa24188f45b999cee0fee3463031": {
      "model_module": "@jupyter-widgets/base",
      "model_module_version": "1.2.0",
      "model_name": "LayoutModel",
      "state": {
       "width": "auto"
      }
     },
     "22811db8caad44918803081e06014352": {
      "model_module": "@jupyter-widgets/controls",
      "model_module_version": "1.5.0",
      "model_name": "ButtonStyleModel",
      "state": {}
     },
     "235ec1727140421bb03f4907caa315cf": {
      "model_module": "@jupyter-widgets/base",
      "model_module_version": "1.2.0",
      "model_name": "LayoutModel",
      "state": {
       "width": "auto"
      }
     },
     "254159ad9030425884d611d93e228bc9": {
      "model_module": "@jupyter-widgets/controls",
      "model_module_version": "1.5.0",
      "model_name": "HTMLModel",
      "state": {
       "layout": "IPY_MODEL_fb4b755b636e4685bd4a2e6f6feccdc1",
       "placeholder": "",
       "style": "IPY_MODEL_941c55bbd256493cb546569ced8c9ad4",
       "value": "<span style=\"color:black;\">No selection</span>"
      }
     },
     "26ab0db90e244f76a0bc8dbc7524e7e9": {
      "model_module": "@jupyter-widgets/base",
      "model_module_version": "1.2.0",
      "model_name": "LayoutModel",
      "state": {
       "grid_area": "filename",
       "width": "auto"
      }
     },
     "2728acf77eff47a68288c094bcc59d9a": {
      "model_module": "@jupyter-widgets/controls",
      "model_module_version": "1.5.0",
      "model_name": "ButtonStyleModel",
      "state": {}
     },
     "29194e07a5fe4508a80e148cefbc4880": {
      "model_module": "@jupyter-widgets/base",
      "model_module_version": "1.2.0",
      "model_name": "LayoutModel",
      "state": {}
     },
     "2a0b26aec91d4b8fa004e029bd7eb2db": {
      "model_module": "@jupyter-widgets/controls",
      "model_module_version": "1.5.0",
      "model_name": "SelectModel",
      "state": {
       "_options_labels": [
        "📁 ..",
        "📁 Apps",
        "📁 Projects"
       ],
       "index": null,
       "layout": "IPY_MODEL_9673ea15f3af4b39846a37cf827ea14a",
       "rows": 8,
       "style": "IPY_MODEL_1586c658dbcf483c88fe15b91bce54dd"
      }
     },
     "2abbbe242e764d7081097e63259dffb3": {
      "model_module": "@jupyter-widgets/base",
      "model_module_version": "1.2.0",
      "model_name": "LayoutModel",
      "state": {
       "display": "none"
      }
     },
     "2b6cf05d094245199431072d099b9666": {
      "model_module": "@jupyter-widgets/base",
      "model_module_version": "1.2.0",
      "model_name": "LayoutModel",
      "state": {
       "width": "auto"
      }
     },
     "2c54ed0a369c426b8f0703bfcad42806": {
      "model_module": "@jupyter-widgets/base",
      "model_module_version": "1.2.0",
      "model_name": "LayoutModel",
      "state": {
       "display": "none"
      }
     },
     "2d881fb2ae1f43608ca7ef4ff4daae23": {
      "model_module": "@jupyter-widgets/controls",
      "model_module_version": "1.5.0",
      "model_name": "SelectModel",
      "state": {
       "_options_labels": [
        "📁 ..",
        "📁 Apps",
        "📁 Projects"
       ],
       "index": null,
       "layout": "IPY_MODEL_ba721dc1f58642acab0064a1f0370c7a",
       "rows": 8,
       "style": "IPY_MODEL_e6761c06e35f4a4dbc8491a7f307163b"
      }
     },
     "2e0e34f37acb440a9ab20b70e24c5956": {
      "model_module": "@jupyter-widgets/controls",
      "model_module_version": "1.5.0",
      "model_name": "HBoxModel",
      "state": {
       "children": [
        "IPY_MODEL_e41588bcb6a5402eb0112a023cece983",
        "IPY_MODEL_e136b6d562454294b3e20fc33d8952c8",
        "IPY_MODEL_158276a5db33419eae164a0dd6d328ac"
       ],
       "layout": "IPY_MODEL_0920b123e1a746e49c22fa67e2e1a317"
      }
     },
     "30b2fad6d28d40c68d80c9245682421b": {
      "model_module": "@jupyter-widgets/base",
      "model_module_version": "1.2.0",
      "model_name": "LayoutModel",
      "state": {
       "margin": "0 0 0 1em"
      }
     },
     "30d7e44651204916af5e9ea9f77df2a4": {
      "model_module": "@jupyter-widgets/controls",
      "model_module_version": "1.5.0",
      "model_name": "DropdownModel",
      "state": {
       "_options_labels": [
        "/home/mxwbio/wetai/homepage",
        "/home/mxwbio/wetai",
        "/home/mxwbio",
        "/home",
        "/"
       ],
       "index": 0,
       "layout": "IPY_MODEL_804b78e47040456589040bb71cd509c6",
       "style": "IPY_MODEL_41b793f8838b4b73b8ec047d86082503"
      }
     },
     "3239a298adfe452a8e899faf678439e9": {
      "model_module": "@jupyter-widgets/controls",
      "model_module_version": "1.5.0",
      "model_name": "HTMLModel",
      "state": {
       "layout": "IPY_MODEL_2c54ed0a369c426b8f0703bfcad42806",
       "style": "IPY_MODEL_0a1922ae4c194f3e975746670fd54730"
      }
     },
     "35862a1ec1764d5ca2b989914deabe07": {
      "model_module": "@jupyter-widgets/controls",
      "model_module_version": "1.5.0",
      "model_name": "ButtonStyleModel",
      "state": {}
     },
     "35ee5cbf476c4a96987ea0b0a4e0145f": {
      "model_module": "@jupyter-widgets/base",
      "model_module_version": "1.2.0",
      "model_name": "LayoutModel",
      "state": {
       "width": "auto"
      }
     },
     "371330acbb824f96be33f646d58a80af": {
      "model_module": "@jupyter-widgets/base",
      "model_module_version": "1.2.0",
      "model_name": "LayoutModel",
      "state": {}
     },
     "372c47ca052a4a41a40c88bfd317b172": {
      "model_module": "@jupyter-widgets/base",
      "model_module_version": "1.2.0",
      "model_name": "LayoutModel",
      "state": {
       "visibility": "hidden"
      }
     },
     "3860a645a3e24775a3fe01620be9e323": {
      "model_module": "@jupyter-widgets/base",
      "model_module_version": "1.2.0",
      "model_name": "LayoutModel",
      "state": {
       "width": "500px"
      }
     },
     "3a58ad8fd2754f7e9fc806eb225ee369": {
      "model_module": "@jupyter-widgets/base",
      "model_module_version": "1.2.0",
      "model_name": "LayoutModel",
      "state": {
       "display": "none",
       "grid_gap": "0px 0px",
       "grid_template_areas": "\n                    'pathlist filename'\n                    'dircontent dircontent'\n                    ",
       "grid_template_columns": "60% 40%",
       "grid_template_rows": "auto auto",
       "width": "auto"
      }
     },
     "3a68370e8615456bae7d7c22a5cb0fb4": {
      "model_module": "@jupyter-widgets/controls",
      "model_module_version": "1.5.0",
      "model_name": "GridBoxModel",
      "state": {
       "children": [
        "IPY_MODEL_042bcb319bc0458e9aa0286f76bd1b01",
        "IPY_MODEL_665e84e749714b9db54a892d32e35181",
        "IPY_MODEL_4e538402e1524306ae4b7e9c2894b530"
       ],
       "layout": "IPY_MODEL_3a58ad8fd2754f7e9fc806eb225ee369"
      }
     },
     "3b59e20ec37f46c9b59877cf3f555f19": {
      "model_module": "@jupyter-widgets/controls",
      "model_module_version": "1.5.0",
      "model_name": "ButtonStyleModel",
      "state": {}
     },
     "3bfeb7baf5e74359abf8348562a229aa": {
      "model_module": "@jupyter-widgets/base",
      "model_module_version": "1.2.0",
      "model_name": "LayoutModel",
      "state": {
       "display": "none"
      }
     },
     "3c7a7267e2334da08a31a2283b466385": {
      "model_module": "@jupyter-widgets/controls",
      "model_module_version": "1.5.0",
      "model_name": "DescriptionStyleModel",
      "state": {
       "description_width": ""
      }
     },
     "3cdac736ef8545c19c716494efe50975": {
      "model_module": "@jupyter-widgets/controls",
      "model_module_version": "1.5.0",
      "model_name": "HBoxModel",
      "state": {
       "children": [
        "IPY_MODEL_05cf7dd265824c62bdee647e6a0923b7",
        "IPY_MODEL_f46561b8baea455ea448234a662a3ae3",
        "IPY_MODEL_a9f51df3ed73475294eaabb16fd9965a"
       ],
       "layout": "IPY_MODEL_b94e4cb778374677af00be09c1ee33e4"
      }
     },
     "3d476fe01df24adbb0a9cbe62e726424": {
      "model_module": "@jupyter-widgets/base",
      "model_module_version": "1.2.0",
      "model_name": "LayoutModel",
      "state": {}
     },
     "3eccf1457fc540dbb8556020527f1ea5": {
      "model_module": "@jupyter-widgets/controls",
      "model_module_version": "1.5.0",
      "model_name": "ButtonStyleModel",
      "state": {}
     },
     "3f402beacf344d1cb98268adc09d2d87": {
      "model_module": "@jupyter-widgets/controls",
      "model_module_version": "1.5.0",
      "model_name": "HBoxModel",
      "state": {
       "children": [
        "IPY_MODEL_84db53cd9db0454ea1899c34f4e10ebe",
        "IPY_MODEL_45d3cc223df741e1b16f7b89d83c8d00",
        "IPY_MODEL_dc95090606084efc8c7edbf0aa11a44b"
       ],
       "layout": "IPY_MODEL_2b6cf05d094245199431072d099b9666"
      }
     },
     "4077501c444e4a73b619db1c345b86ae": {
      "model_module": "@jupyter-widgets/base",
      "model_module_version": "1.2.0",
      "model_name": "LayoutModel",
      "state": {
       "display": "none",
       "min_width": "6em",
       "width": "6em"
      }
     },
     "40cc419330544180a2b2fe650c709b59": {
      "model_module": "@jupyter-widgets/base",
      "model_module_version": "1.2.0",
      "model_name": "LayoutModel",
      "state": {
       "overflow": "auto"
      }
     },
     "41b793f8838b4b73b8ec047d86082503": {
      "model_module": "@jupyter-widgets/controls",
      "model_module_version": "1.5.0",
      "model_name": "DescriptionStyleModel",
      "state": {
       "description_width": ""
      }
     },
     "4228bba3ed8a49a19e508ddb0a1df2ef": {
      "model_module": "@jupyter-widgets/controls",
      "model_module_version": "1.5.0",
      "model_name": "DescriptionStyleModel",
      "state": {
       "description_width": ""
      }
     },
     "44dab6256c11443bb7ac8652d59dabfc": {
      "model_module": "@jupyter-widgets/controls",
      "model_module_version": "1.5.0",
      "model_name": "HTMLModel",
      "state": {
       "layout": "IPY_MODEL_3bfeb7baf5e74359abf8348562a229aa",
       "style": "IPY_MODEL_9efab6df1ea0494c9550c3804893e0fd"
      }
     },
     "45d3cc223df741e1b16f7b89d83c8d00": {
      "model_module": "@jupyter-widgets/controls",
      "model_module_version": "1.5.0",
      "model_name": "ButtonModel",
      "state": {
       "description": "Cancel",
       "layout": "IPY_MODEL_4077501c444e4a73b619db1c345b86ae",
       "style": "IPY_MODEL_fc1927a0b0c541b2bc2599b8fdb4d6e7"
      }
     },
     "46a5a039ba204a2bb3311320f3845cd5": {
      "model_module": "@jupyter-widgets/controls",
      "model_module_version": "1.5.0",
      "model_name": "ButtonModel",
      "state": {
       "button_style": "danger",
       "icon": "refresh",
       "layout": "IPY_MODEL_2262aa24188f45b999cee0fee3463031",
       "style": "IPY_MODEL_22811db8caad44918803081e06014352"
      }
     },
     "47f7c0e1746248f8bf96957d28746bc8": {
      "model_module": "@jupyter-widgets/base",
      "model_module_version": "1.2.0",
      "model_name": "LayoutModel",
      "state": {
       "display": "none",
       "grid_gap": "0px 0px",
       "grid_template_areas": "\n            'pathlist pathlist'\n            'dircontent dircontent'\n            ",
       "grid_template_columns": "60% 40%",
       "grid_template_rows": "auto auto",
       "width": "auto"
      }
     },
     "4828ac320ac84538bb37ed5a0e727a21": {
      "model_module": "@jupyter-widgets/base",
      "model_module_version": "1.2.0",
      "model_name": "LayoutModel",
      "state": {
       "min_width": "6em",
       "width": "6em"
      }
     },
     "4e538402e1524306ae4b7e9c2894b530": {
      "model_module": "@jupyter-widgets/controls",
      "model_module_version": "1.5.0",
      "model_name": "SelectModel",
      "state": {
       "_options_labels": [
        "📁 ..",
        "📁 Maxwell_Activity_Scanner",
        "📁 Maxwell_Controller",
        "📁 Maxwell_Electrode_GUI",
        "📁 Maxwell_Uploader",
        "📁 Microfluidics_Controller"
       ],
       "index": null,
       "layout": "IPY_MODEL_7cfa123fefc64b179bb853fa778a61dc",
       "rows": 8,
       "style": "IPY_MODEL_d5055fc2dd374eb5abfecb188138a736"
      }
     },
     "52c2deea2b7e472ebcc5c6d2e02a0662": {
      "model_module": "@jupyter-widgets/base",
      "model_module_version": "1.2.0",
      "model_name": "LayoutModel",
      "state": {
       "width": "auto"
      }
     },
     "550f9c67894e4e47b7fe90e21c768a89": {
      "model_module": "@jupyter-widgets/controls",
      "model_module_version": "1.5.0",
      "model_name": "ButtonStyleModel",
      "state": {}
     },
     "56e1d1d3cb024609afc60cf89d98c401": {
      "model_module": "@jupyter-widgets/controls",
      "model_module_version": "1.5.0",
      "model_name": "HTMLModel",
      "state": {
       "layout": "IPY_MODEL_064791286fb34a45b647936f8be42b37",
       "placeholder": "",
       "style": "IPY_MODEL_05d350988c9e40a3ae7799d7de5752e3",
       "value": "<span style=\"color:black;\">No selection</span>"
      }
     },
     "5749d565fe7547e8a1c82adb713b3735": {
      "model_module": "@jupyter-widgets/base",
      "model_module_version": "1.2.0",
      "model_name": "LayoutModel",
      "state": {
       "margin": "0 0 0 1em"
      }
     },
     "5786ba17c7ab4ae98ab18b222efd3f2b": {
      "model_module": "@jupyter-widgets/controls",
      "model_module_version": "1.5.0",
      "model_name": "ButtonStyleModel",
      "state": {}
     },
     "58b2a7b156d843209a5ea07e727e4799": {
      "model_module": "@jupyter-widgets/base",
      "model_module_version": "1.2.0",
      "model_name": "LayoutModel",
      "state": {
       "overflow": "auto"
      }
     },
     "58b7e555ce204bfd880110ce7b8dd9e2": {
      "model_module": "@jupyter-widgets/controls",
      "model_module_version": "1.5.0",
      "model_name": "TextModel",
      "state": {
       "disabled": true,
       "layout": "IPY_MODEL_a6329f23093447599578eb6c69020356",
       "placeholder": "output filename",
       "style": "IPY_MODEL_9557c3d7f91e4981825d4adc15a4a488"
      }
     },
     "5cb96d45024b43628ad7489a96f6e440": {
      "model_module": "@jupyter-widgets/controls",
      "model_module_version": "1.5.0",
      "model_name": "TextModel",
      "state": {
       "description": "UUID",
       "layout": "IPY_MODEL_e4748ba6c3ef4dee9fa434918646d34c",
       "style": "IPY_MODEL_df79131d76494e2c8722b494bd24a5ab",
       "value": "2020-03-25-e-testit"
      }
     },
     "5e593bee70df4f07a5175300c103c219": {
      "model_module": "@jupyter-widgets/controls",
      "model_module_version": "1.5.0",
      "model_name": "DescriptionStyleModel",
      "state": {
       "description_width": ""
      }
     },
     "602f457aea634bc5b58021c5c3bce957": {
      "model_module": "@jupyter-widgets/controls",
      "model_module_version": "1.5.0",
      "model_name": "DescriptionStyleModel",
      "state": {
       "description_width": ""
      }
     },
     "60e97167601040a4ac4eefcf3447d5f5": {
      "model_module": "@jupyter-widgets/base",
      "model_module_version": "1.2.0",
      "model_name": "LayoutModel",
      "state": {
       "min_width": "6em",
       "width": "6em"
      }
     },
     "625df4f0b79c463f8dad5eff1cce6e38": {
      "model_module": "@jupyter-widgets/controls",
      "model_module_version": "1.5.0",
      "model_name": "DescriptionStyleModel",
      "state": {
       "description_width": ""
      }
     },
     "638524b452c64c358d6a2e2953adedd1": {
      "model_module": "@jupyter-widgets/controls",
      "model_module_version": "1.5.0",
      "model_name": "GridBoxModel",
      "state": {
       "children": [
        "IPY_MODEL_8fd71b8978574c7197011f4e766668fa",
        "IPY_MODEL_58b7e555ce204bfd880110ce7b8dd9e2",
        "IPY_MODEL_2d881fb2ae1f43608ca7ef4ff4daae23"
       ],
       "layout": "IPY_MODEL_da0bb2ebf7854aaeb1fb2d5e3420c1f1"
      }
     },
     "65673a98b7264758a46446a832884e7b": {
      "model_module": "@jupyter-widgets/base",
      "model_module_version": "1.2.0",
      "model_name": "LayoutModel",
      "state": {
       "display": "none",
       "grid_area": "filename",
       "width": "auto"
      }
     },
     "665e84e749714b9db54a892d32e35181": {
      "model_module": "@jupyter-widgets/controls",
      "model_module_version": "1.5.0",
      "model_name": "TextModel",
      "state": {
       "layout": "IPY_MODEL_26ab0db90e244f76a0bc8dbc7524e7e9",
       "placeholder": "output filename",
       "style": "IPY_MODEL_da02d99ac5e84581815ecbd6853f2541"
      }
     },
     "68c235cb8d9e46ab85d03d35d44b625a": {
      "model_module": "@jupyter-widgets/controls",
      "model_module_version": "1.5.0",
      "model_name": "VBoxModel",
      "state": {
       "children": [
        "IPY_MODEL_44dab6256c11443bb7ac8652d59dabfc",
        "IPY_MODEL_8b665be5ec4b4cd5ba8d615998dde83f",
        "IPY_MODEL_9f70eb87645f4827800e35bf0934aac0"
       ],
       "layout": "IPY_MODEL_3860a645a3e24775a3fe01620be9e323"
      }
     },
     "69ce61e0a8234765a02ad82718a6ab42": {
      "model_module": "@jupyter-widgets/controls",
      "model_module_version": "1.5.0",
      "model_name": "SelectModel",
      "state": {
       "_options_labels": [
        "📁 ..",
        "📁 Apps",
        "📁 Projects"
       ],
       "index": null,
       "layout": "IPY_MODEL_20689fbe7ae747c7b5a62213b0ef8e5f",
       "rows": 8,
       "style": "IPY_MODEL_ef83bb3c49e64b828fed0b6391db5a24"
      }
     },
     "6a2ffcd993214abe9815cb2661c285c5": {
      "model_module": "@jupyter-widgets/controls",
      "model_module_version": "1.5.0",
      "model_name": "ButtonStyleModel",
      "state": {}
     },
     "6a6091998cd9490ab580c51527eb4408": {
      "model_module": "@jupyter-widgets/base",
      "model_module_version": "1.2.0",
      "model_name": "LayoutModel",
      "state": {}
     },
     "6b55b52670084832bae26f349138e8e1": {
      "model_module": "@jupyter-widgets/base",
      "model_module_version": "1.2.0",
      "model_name": "LayoutModel",
      "state": {
       "display": "none"
      }
     },
     "6bbf1277939848fcaf240dfc228e7c6e": {
      "model_module": "@jupyter-widgets/controls",
      "model_module_version": "1.5.0",
      "model_name": "DropdownModel",
      "state": {
       "_options_labels": [
        "/home/mxwbio/wetai/homepage",
        "/home/mxwbio/wetai",
        "/home/mxwbio",
        "/home",
        "/"
       ],
       "index": 0,
       "layout": "IPY_MODEL_7d88a80032c9469885225fdfa45654ce",
       "style": "IPY_MODEL_077e5ae27bf94aeca54ee4ce09e4a327"
      }
     },
     "71cced23494c45f4a41264eb9f92e1c5": {
      "model_module": "@jupyter-widgets/controls",
      "model_module_version": "1.5.0",
      "model_name": "DescriptionStyleModel",
      "state": {
       "description_width": ""
      }
     },
     "74fe75d371d44603b1bba434e45bc498": {
      "model_module": "@jupyter-widgets/controls",
      "model_module_version": "1.5.0",
      "model_name": "HTMLModel",
      "state": {
       "layout": "IPY_MODEL_6b55b52670084832bae26f349138e8e1",
       "style": "IPY_MODEL_602f457aea634bc5b58021c5c3bce957"
      }
     },
     "79ecf7ee475e412ea8cb5491eb0aec57": {
      "model_module": "@jupyter-widgets/base",
      "model_module_version": "1.2.0",
      "model_name": "LayoutModel",
      "state": {
       "overflow": "auto"
      }
     },
     "7a22203637b14a679330b210602d7e2e": {
      "model_module": "@jupyter-widgets/base",
      "model_module_version": "1.2.0",
      "model_name": "LayoutModel",
      "state": {
       "width": "auto"
      }
     },
     "7b48dcdf9faa414db550af12938e7e39": {
      "model_module": "@jupyter-widgets/controls",
      "model_module_version": "1.5.0",
      "model_name": "HTMLModel",
      "state": {
       "layout": "IPY_MODEL_2abbbe242e764d7081097e63259dffb3",
       "style": "IPY_MODEL_dc7b01da524849ce8e3272e35a7aed35"
      }
     },
     "7cfa123fefc64b179bb853fa778a61dc": {
      "model_module": "@jupyter-widgets/base",
      "model_module_version": "1.2.0",
      "model_name": "LayoutModel",
      "state": {
       "grid_area": "dircontent",
       "width": "auto"
      }
     },
     "7d88a80032c9469885225fdfa45654ce": {
      "model_module": "@jupyter-widgets/base",
      "model_module_version": "1.2.0",
      "model_name": "LayoutModel",
      "state": {
       "grid_area": "pathlist",
       "width": "auto"
      }
     },
     "7e82aa9b38e04ce9b7dd2c4a33900cc2": {
      "model_module": "@jupyter-widgets/base",
      "model_module_version": "1.2.0",
      "model_name": "LayoutModel",
      "state": {
       "display": "none",
       "grid_gap": "0px 0px",
       "grid_template_areas": "\n            'pathlist pathlist'\n            'dircontent dircontent'\n            ",
       "grid_template_columns": "60% 40%",
       "grid_template_rows": "auto auto",
       "width": "auto"
      }
     },
     "7f7617bb357d4e03919ae4f1c3ea80e3": {
      "model_module": "@jupyter-widgets/controls",
      "model_module_version": "1.5.0",
      "model_name": "HTMLModel",
      "state": {
       "layout": "IPY_MODEL_b3168bea262a48069416a20a6f0441fd",
       "style": "IPY_MODEL_8c0bc19ffa72468ab1cf597fafdcd713",
       "value": "<h4 class='text-danger'>Select a Folder to Continue</h4>"
      }
     },
     "804b78e47040456589040bb71cd509c6": {
      "model_module": "@jupyter-widgets/base",
      "model_module_version": "1.2.0",
      "model_name": "LayoutModel",
      "state": {
       "grid_area": "pathlist",
       "width": "auto"
      }
     },
     "8168908d3bb74ac182ec8b99f7b0d2da": {
      "model_module": "@jupyter-widgets/base",
      "model_module_version": "1.2.0",
      "model_name": "LayoutModel",
      "state": {
       "grid_area": "dircontent",
       "width": "auto"
      }
     },
     "84db53cd9db0454ea1899c34f4e10ebe": {
      "model_module": "@jupyter-widgets/controls",
      "model_module_version": "1.5.0",
      "model_name": "ButtonModel",
      "state": {
       "description": "Change",
       "layout": "IPY_MODEL_4828ac320ac84538bb37ed5a0e727a21",
       "style": "IPY_MODEL_3eccf1457fc540dbb8556020527f1ea5"
      }
     },
     "85c50e1517114a89815c1234e773e810": {
      "model_module": "@jupyter-widgets/base",
      "model_module_version": "1.2.0",
      "model_name": "LayoutModel",
      "state": {
       "display": "none",
       "grid_area": "filename",
       "width": "auto"
      }
     },
     "8634a193e8004fe3b31832c59253eb38": {
      "model_module": "@jupyter-widgets/controls",
      "model_module_version": "1.5.0",
      "model_name": "HBoxModel",
      "state": {
       "children": [
        "IPY_MODEL_bf76127e6d9f484383a691954fb7b75e",
        "IPY_MODEL_de2534ffc2df40ee9630db2b386db6c5",
        "IPY_MODEL_dd1b4979a3074717931fe0b5b289c664"
       ],
       "layout": "IPY_MODEL_0863a28ca7ed4c79a9199a5ee9155eb5"
      }
     },
     "8688ebaa899b458e9c99ace006673f1d": {
      "model_module": "@jupyter-widgets/base",
      "model_module_version": "1.2.0",
      "model_name": "LayoutModel",
      "state": {}
     },
     "88aeb73dce2a4cea84b9224c8bbfe9af": {
      "model_module": "@jupyter-widgets/base",
      "model_module_version": "1.2.0",
      "model_name": "LayoutModel",
      "state": {
       "display": "none",
       "min_width": "6em",
       "width": "6em"
      }
     },
     "898e1148512946bc8b402ee0afeff5f4": {
      "model_module": "@jupyter-widgets/base",
      "model_module_version": "1.2.0",
      "model_name": "LayoutModel",
      "state": {
       "width": "auto"
      }
     },
     "8992ca273aba4048b8dc5fe645c55be3": {
      "model_module": "@jupyter-widgets/base",
      "model_module_version": "1.2.0",
      "model_name": "LayoutModel",
      "state": {
       "grid_area": "pathlist",
       "width": "auto"
      }
     },
     "8b5784f82d834cd58c52097b6780c373": {
      "model_module": "@jupyter-widgets/controls",
      "model_module_version": "1.5.0",
      "model_name": "ButtonStyleModel",
      "state": {}
     },
     "8b665be5ec4b4cd5ba8d615998dde83f": {
      "model_module": "@jupyter-widgets/controls",
      "model_module_version": "1.5.0",
      "model_name": "GridBoxModel",
      "state": {
       "children": [
        "IPY_MODEL_30d7e44651204916af5e9ea9f77df2a4",
        "IPY_MODEL_dc514eeb4119478ea8f2fa737309123d",
        "IPY_MODEL_2a0b26aec91d4b8fa004e029bd7eb2db"
       ],
       "layout": "IPY_MODEL_7e82aa9b38e04ce9b7dd2c4a33900cc2"
      }
     },
     "8bc6f17e78fe44d786973847688f142f": {
      "model_module": "@jupyter-widgets/controls",
      "model_module_version": "1.5.0",
      "model_name": "ButtonStyleModel",
      "state": {}
     },
     "8bd47e58228e4fd5aaec759a1f3a74d5": {
      "model_module": "@jupyter-widgets/base",
      "model_module_version": "1.2.0",
      "model_name": "LayoutModel",
      "state": {
       "visibility": "hidden"
      }
     },
     "8c0bc19ffa72468ab1cf597fafdcd713": {
      "model_module": "@jupyter-widgets/controls",
      "model_module_version": "1.5.0",
      "model_name": "DescriptionStyleModel",
      "state": {
       "description_width": ""
      }
     },
     "8f60b4a2f8c848ecaad04b78ed812d0a": {
      "model_module": "@jupyter-widgets/base",
      "model_module_version": "1.2.0",
      "model_name": "LayoutModel",
      "state": {}
     },
     "8fd71b8978574c7197011f4e766668fa": {
      "model_module": "@jupyter-widgets/controls",
      "model_module_version": "1.5.0",
      "model_name": "DropdownModel",
      "state": {
       "_options_labels": [
        "/home/mxwbio/wetai/homepage",
        "/home/mxwbio/wetai",
        "/home/mxwbio",
        "/home",
        "/"
       ],
       "index": 0,
       "layout": "IPY_MODEL_8992ca273aba4048b8dc5fe645c55be3",
       "style": "IPY_MODEL_dca2a8e8d2574fc1af5f72acd9c17ba1"
      }
     },
     "906fcb24a28344f89b3b852194ff3f44": {
      "model_module": "@jupyter-widgets/base",
      "model_module_version": "1.2.0",
      "model_name": "LayoutModel",
      "state": {
       "width": "auto"
      }
     },
     "941c55bbd256493cb546569ced8c9ad4": {
      "model_module": "@jupyter-widgets/controls",
      "model_module_version": "1.5.0",
      "model_name": "DescriptionStyleModel",
      "state": {
       "description_width": ""
      }
     },
     "9557c3d7f91e4981825d4adc15a4a488": {
      "model_module": "@jupyter-widgets/controls",
      "model_module_version": "1.5.0",
      "model_name": "DescriptionStyleModel",
      "state": {
       "description_width": ""
      }
     },
     "96500314e1834bb796c0a40f358424df": {
      "model_module": "@jupyter-widgets/controls",
      "model_module_version": "1.5.0",
      "model_name": "DescriptionStyleModel",
      "state": {
       "description_width": ""
      }
     },
     "9673ea15f3af4b39846a37cf827ea14a": {
      "model_module": "@jupyter-widgets/base",
      "model_module_version": "1.2.0",
      "model_name": "LayoutModel",
      "state": {
       "grid_area": "dircontent",
       "width": "auto"
      }
     },
     "97567589bd3f4da9879bb06ae61ab212": {
      "model_module": "@jupyter-widgets/controls",
      "model_module_version": "1.5.0",
      "model_name": "ButtonModel",
      "state": {
       "button_style": "success",
       "description": "Start",
       "layout": "IPY_MODEL_898e1148512946bc8b402ee0afeff5f4",
       "style": "IPY_MODEL_5786ba17c7ab4ae98ab18b222efd3f2b"
      }
     },
     "9efab6df1ea0494c9550c3804893e0fd": {
      "model_module": "@jupyter-widgets/controls",
      "model_module_version": "1.5.0",
      "model_name": "DescriptionStyleModel",
      "state": {
       "description_width": ""
      }
     },
     "9f70eb87645f4827800e35bf0934aac0": {
      "model_module": "@jupyter-widgets/controls",
      "model_module_version": "1.5.0",
      "model_name": "HBoxModel",
      "state": {
       "children": [
        "IPY_MODEL_f633bfa316e84eaf840cd1d0627c81cc",
        "IPY_MODEL_a934d49b11854431913eea98a6e09cba",
        "IPY_MODEL_dd80decacd29483b96b4e4249f419f71"
       ],
       "layout": "IPY_MODEL_235ec1727140421bb03f4907caa315cf"
      }
     },
     "9fc87e42ff3543c0aceafd14da71baac": {
      "model_module": "@jupyter-widgets/controls",
      "model_module_version": "1.5.0",
      "model_name": "ButtonModel",
      "state": {
       "button_style": "success",
       "description": "Upload",
       "layout": "IPY_MODEL_906fcb24a28344f89b3b852194ff3f44",
       "style": "IPY_MODEL_550f9c67894e4e47b7fe90e21c768a89"
      }
     },
     "a0e5f365dc7b49c7a33318ebc6856be2": {
      "model_module": "@jupyter-widgets/controls",
      "model_module_version": "1.5.0",
      "model_name": "FileUploadModel",
      "state": {
       "description_tooltip": null,
       "layout": "IPY_MODEL_6a6091998cd9490ab580c51527eb4408",
       "style": "IPY_MODEL_d1767b3e6272462b8ac3ad874647274c"
      }
     },
     "a2ce94e4921e412fbf4e5cf72761c585": {
      "model_module": "@jupyter-widgets/controls",
      "model_module_version": "1.5.0",
      "model_name": "ButtonModel",
      "state": {
       "button_style": "success",
       "description": "Start",
       "layout": "IPY_MODEL_52c2deea2b7e472ebcc5c6d2e02a0662",
       "style": "IPY_MODEL_169047689f284cf38912070453998464"
      }
     },
     "a5148298a0a746b4ad911eff7ae08e25": {
      "model_module": "@jupyter-widgets/base",
      "model_module_version": "1.2.0",
      "model_name": "LayoutModel",
      "state": {
       "grid_area": "pathlist",
       "width": "auto"
      }
     },
     "a6329f23093447599578eb6c69020356": {
      "model_module": "@jupyter-widgets/base",
      "model_module_version": "1.2.0",
      "model_name": "LayoutModel",
      "state": {
       "display": "none",
       "grid_area": "filename",
       "width": "auto"
      }
     },
     "a653dbaf72ca4532a8774522fc28aac4": {
      "model_module": "@jupyter-widgets/controls",
      "model_module_version": "1.5.0",
      "model_name": "HTMLModel",
      "state": {
       "layout": "IPY_MODEL_5749d565fe7547e8a1c82adb713b3735",
       "placeholder": "",
       "style": "IPY_MODEL_af2c021e487741f9a4abe2fafbfbded4",
       "value": "<span style=\"color:green;\">/home/mxwbio/wetai/homepage/Apps/</span>"
      }
     },
     "a77f249ca64e4747b817e82724013142": {
      "model_module": "@jupyter-widgets/controls",
      "model_module_version": "1.5.0",
      "model_name": "DescriptionStyleModel",
      "state": {
       "description_width": ""
      }
     },
     "a92bcf064f26432b986878f6060981bb": {
      "model_module": "@jupyter-widgets/base",
      "model_module_version": "1.2.0",
      "model_name": "LayoutModel",
      "state": {
       "display": "none",
       "min_width": "6em",
       "width": "6em"
      }
     },
     "a934d49b11854431913eea98a6e09cba": {
      "model_module": "@jupyter-widgets/controls",
      "model_module_version": "1.5.0",
      "model_name": "ButtonModel",
      "state": {
       "description": "Cancel",
       "layout": "IPY_MODEL_a92bcf064f26432b986878f6060981bb",
       "style": "IPY_MODEL_35862a1ec1764d5ca2b989914deabe07"
      }
     },
     "a94a61b0e2634d9a9b6c215b405c0d58": {
      "model_module": "@jupyter-widgets/base",
      "model_module_version": "1.2.0",
      "model_name": "LayoutModel",
      "state": {
       "width": "auto"
      }
     },
     "a9728f34cf20477cb041d5cd3065bbb2": {
      "model_module": "@jupyter-widgets/base",
      "model_module_version": "1.2.0",
      "model_name": "LayoutModel",
      "state": {
       "width": "auto"
      }
     },
     "a9f51df3ed73475294eaabb16fd9965a": {
      "model_module": "@jupyter-widgets/controls",
      "model_module_version": "1.5.0",
      "model_name": "BoxModel",
      "state": {
       "children": [
        "IPY_MODEL_254159ad9030425884d611d93e228bc9"
       ],
       "layout": "IPY_MODEL_1f8f288e980b4236afd540303fe61a24"
      }
     },
     "ab76f8f6e9a7424a9490e6101683a08d": {
      "model_module": "@jupyter-widgets/controls",
      "model_module_version": "1.5.0",
      "model_name": "TextModel",
      "state": {
       "disabled": true,
       "layout": "IPY_MODEL_85c50e1517114a89815c1234e773e810",
       "placeholder": "output filename",
       "style": "IPY_MODEL_4228bba3ed8a49a19e508ddb0a1df2ef"
      }
     },
     "ac345dc076704ca9b1a75b4766bae4af": {
      "model_module": "@jupyter-widgets/controls",
      "model_module_version": "1.5.0",
      "model_name": "TextModel",
      "state": {
       "description": "UUID",
       "layout": "IPY_MODEL_29194e07a5fe4508a80e148cefbc4880",
       "style": "IPY_MODEL_5e593bee70df4f07a5175300c103c219",
       "value": "2020-03-25-e-testit"
      }
     },
     "aca4b876800a4a11975e7c582321f6e7": {
      "model_module": "@jupyter-widgets/base",
      "model_module_version": "1.2.0",
      "model_name": "LayoutModel",
      "state": {
       "display": "none",
       "min_width": "6em",
       "width": "6em"
      }
     },
     "adfcd8ef5f94415f976ebc9decb1cfb3": {
      "model_module": "@jupyter-widgets/controls",
      "model_module_version": "1.5.0",
      "model_name": "ButtonModel",
      "state": {
       "button_style": "success",
       "description": "Upload",
       "layout": "IPY_MODEL_a94a61b0e2634d9a9b6c215b405c0d58",
       "style": "IPY_MODEL_f7e86094f9cb49898b4626105b9cc598"
      }
     },
     "af2c021e487741f9a4abe2fafbfbded4": {
      "model_module": "@jupyter-widgets/controls",
      "model_module_version": "1.5.0",
      "model_name": "DescriptionStyleModel",
      "state": {
       "description_width": ""
      }
     },
     "afc96bc6737e404f9628e560fb3ec936": {
      "model_module": "@jupyter-widgets/controls",
      "model_module_version": "1.5.0",
      "model_name": "DescriptionStyleModel",
      "state": {
       "description_width": ""
      }
     },
     "b118cca4391d4f9291e81e79fcfd5fd4": {
      "model_module": "@jupyter-widgets/controls",
      "model_module_version": "1.5.0",
      "model_name": "ButtonModel",
      "state": {
       "button_style": "info",
       "description": "Continue",
       "layout": "IPY_MODEL_f842f0c77c6641ab923da518cec4de87",
       "style": "IPY_MODEL_beabdefaf1ba43558eba54431adf3f1e"
      }
     },
     "b17a2b851d2440d58497423e8984a3ba": {
      "model_module": "@jupyter-widgets/controls",
      "model_module_version": "1.5.0",
      "model_name": "ButtonStyleModel",
      "state": {}
     },
     "b2d137b0244343b5a6d4c6137fedc51e": {
      "model_module": "@jupyter-widgets/base",
      "model_module_version": "1.2.0",
      "model_name": "LayoutModel",
      "state": {
       "display": "none"
      }
     },
     "b2e3c778a6b34cc78d3c9a8fb99927b6": {
      "model_module": "@jupyter-widgets/base",
      "model_module_version": "1.2.0",
      "model_name": "LayoutModel",
      "state": {
       "width": "500px"
      }
     },
     "b3168bea262a48069416a20a6f0441fd": {
      "model_module": "@jupyter-widgets/base",
      "model_module_version": "1.2.0",
      "model_name": "LayoutModel",
      "state": {
       "visibility": "hidden"
      }
     },
     "b50e1e4960774048a32804e82b71f020": {
      "model_module": "@jupyter-widgets/controls",
      "model_module_version": "1.5.0",
      "model_name": "DescriptionStyleModel",
      "state": {
       "description_width": ""
      }
     },
     "b94e4cb778374677af00be09c1ee33e4": {
      "model_module": "@jupyter-widgets/base",
      "model_module_version": "1.2.0",
      "model_name": "LayoutModel",
      "state": {
       "width": "auto"
      }
     },
     "ba721dc1f58642acab0064a1f0370c7a": {
      "model_module": "@jupyter-widgets/base",
      "model_module_version": "1.2.0",
      "model_name": "LayoutModel",
      "state": {
       "grid_area": "dircontent",
       "width": "auto"
      }
     },
     "bb592d38d46346faa2311126776af70a": {
      "model_module": "@jupyter-widgets/controls",
      "model_module_version": "1.5.0",
      "model_name": "DescriptionStyleModel",
      "state": {
       "description_width": ""
      }
     },
     "bb8058d174564932a9f969b47d68d2eb": {
      "model_module": "@jupyter-widgets/controls",
      "model_module_version": "1.5.0",
      "model_name": "ButtonStyleModel",
      "state": {}
     },
     "beabdefaf1ba43558eba54431adf3f1e": {
      "model_module": "@jupyter-widgets/controls",
      "model_module_version": "1.5.0",
      "model_name": "ButtonStyleModel",
      "state": {}
     },
     "bf76127e6d9f484383a691954fb7b75e": {
      "model_module": "@jupyter-widgets/controls",
      "model_module_version": "1.5.0",
      "model_name": "ButtonModel",
      "state": {
       "description": "Select",
       "layout": "IPY_MODEL_0bb86943582049ddbb44402eb0cc7416",
       "style": "IPY_MODEL_bb8058d174564932a9f969b47d68d2eb"
      }
     },
     "c117f1f4859a433b9f6869dcf51f64ca": {
      "model_module": "@jupyter-widgets/controls",
      "model_module_version": "1.5.0",
      "model_name": "ButtonModel",
      "state": {
       "button_style": "danger",
       "icon": "refresh",
       "layout": "IPY_MODEL_35ee5cbf476c4a96987ea0b0a4e0145f",
       "style": "IPY_MODEL_072365678beb46119cadfebbcbf3cd07"
      }
     },
     "c339d7d5f1524461aebfd531f18aa730": {
      "model_module": "@jupyter-widgets/controls",
      "model_module_version": "1.5.0",
      "model_name": "ButtonModel",
      "state": {
       "button_style": "info",
       "description": "Continue",
       "layout": "IPY_MODEL_7a22203637b14a679330b210602d7e2e",
       "style": "IPY_MODEL_2728acf77eff47a68288c094bcc59d9a"
      }
     },
     "c35ea67ab6fb4962ac1aac58365277d2": {
      "model_module": "@jupyter-widgets/controls",
      "model_module_version": "1.5.0",
      "model_name": "ButtonStyleModel",
      "state": {}
     },
     "c4778db7913141b0a5c47cf662fb6ae7": {
      "model_module": "@jupyter-widgets/controls",
      "model_module_version": "1.5.0",
      "model_name": "ButtonModel",
      "state": {
       "button_style": "success",
       "description": "Upload",
       "layout": "IPY_MODEL_f9e1a6bf34c2400492bbad420e043e44",
       "style": "IPY_MODEL_b17a2b851d2440d58497423e8984a3ba"
      }
     },
     "c50c86bf4dfc462abb8d8c06d81f8c24": {
      "model_module": "@jupyter-widgets/controls",
      "model_module_version": "1.5.0",
      "model_name": "HTMLModel",
      "state": {
       "layout": "IPY_MODEL_372c47ca052a4a41a40c88bfd317b172",
       "style": "IPY_MODEL_ef70baf544014b53a13dc43ed8e23bcb",
       "value": "<h4 class='text-danger'>Select a Folder to Continue</h4>"
      }
     },
     "ccfb1e449be743f8ad0759f470e5876b": {
      "model_module": "@jupyter-widgets/controls",
      "model_module_version": "1.5.0",
      "model_name": "DescriptionStyleModel",
      "state": {
       "description_width": ""
      }
     },
     "ce970769dd4148df8f827524fe8da9c5": {
      "model_module": "@jupyter-widgets/controls",
      "model_module_version": "1.5.0",
      "model_name": "VBoxModel",
      "state": {
       "children": [
        "IPY_MODEL_0e479b01cf784b7b9fafaeabfaa63fd8",
        "IPY_MODEL_1e82986561654b97b04e0f6cb6a64870",
        "IPY_MODEL_8634a193e8004fe3b31832c59253eb38"
       ],
       "layout": "IPY_MODEL_3860a645a3e24775a3fe01620be9e323"
      }
     },
     "d1730e51eb5b40ae815e162aa052bebe": {
      "model_module": "@jupyter-widgets/controls",
      "model_module_version": "1.5.0",
      "model_name": "ButtonStyleModel",
      "state": {}
     },
     "d1767b3e6272462b8ac3ad874647274c": {
      "model_module": "@jupyter-widgets/controls",
      "model_module_version": "1.5.0",
      "model_name": "ButtonStyleModel",
      "state": {}
     },
     "d2884596dc7e427fb893715c35ddfeb8": {
      "model_module": "@jupyter-widgets/controls",
      "model_module_version": "1.5.0",
      "model_name": "DescriptionStyleModel",
      "state": {
       "description_width": ""
      }
     },
     "d2dad10976b3498e86d1f76569f25f2e": {
      "model_module": "@jupyter-widgets/controls",
      "model_module_version": "1.5.0",
      "model_name": "DescriptionStyleModel",
      "state": {
       "description_width": ""
      }
     },
     "d5055fc2dd374eb5abfecb188138a736": {
      "model_module": "@jupyter-widgets/controls",
      "model_module_version": "1.5.0",
      "model_name": "DescriptionStyleModel",
      "state": {
       "description_width": ""
      }
     },
     "d65707e37696491db05e11942a69793d": {
      "model_module": "@jupyter-widgets/controls",
      "model_module_version": "1.5.0",
      "model_name": "HTMLModel",
      "state": {
       "layout": "IPY_MODEL_e1511c09568e435ba2fd8b810aa88f22",
       "placeholder": "",
       "style": "IPY_MODEL_96500314e1834bb796c0a40f358424df",
       "value": "<span style=\"color:black;\">No selection</span>"
      }
     },
     "d71d39f33029441286cb4eeb5a54310f": {
      "model_module": "@jupyter-widgets/controls",
      "model_module_version": "1.5.0",
      "model_name": "DescriptionStyleModel",
      "state": {
       "description_width": ""
      }
     },
     "d7cd15f8bba34f1ba4bfec23d9924c8b": {
      "model_module": "@jupyter-widgets/controls",
      "model_module_version": "1.5.0",
      "model_name": "GridBoxModel",
      "state": {
       "children": [
        "IPY_MODEL_6bbf1277939848fcaf240dfc228e7c6e",
        "IPY_MODEL_ab76f8f6e9a7424a9490e6101683a08d",
        "IPY_MODEL_dccd0df9841a4d54b3fd9640683e11aa"
       ],
       "layout": "IPY_MODEL_e41491171f5245bca8def34efba315d3"
      }
     },
     "d7da698012a841bc8f31bd7578cbbc62": {
      "model_module": "@jupyter-widgets/controls",
      "model_module_version": "1.5.0",
      "model_name": "TextModel",
      "state": {
       "disabled": true,
       "layout": "IPY_MODEL_1351c9f5af644da288c16695f12e85c2",
       "placeholder": "output filename",
       "style": "IPY_MODEL_ccfb1e449be743f8ad0759f470e5876b"
      }
     },
     "d96b6f6b201e48d19b6dbd3a56ed03e7": {
      "model_module": "@jupyter-widgets/controls",
      "model_module_version": "1.5.0",
      "model_name": "VBoxModel",
      "state": {
       "children": [
        "IPY_MODEL_74fe75d371d44603b1bba434e45bc498",
        "IPY_MODEL_d7cd15f8bba34f1ba4bfec23d9924c8b",
        "IPY_MODEL_3cdac736ef8545c19c716494efe50975"
       ],
       "layout": "IPY_MODEL_b2e3c778a6b34cc78d3c9a8fb99927b6"
      }
     },
     "da02d99ac5e84581815ecbd6853f2541": {
      "model_module": "@jupyter-widgets/controls",
      "model_module_version": "1.5.0",
      "model_name": "DescriptionStyleModel",
      "state": {
       "description_width": ""
      }
     },
     "da0bb2ebf7854aaeb1fb2d5e3420c1f1": {
      "model_module": "@jupyter-widgets/base",
      "model_module_version": "1.2.0",
      "model_name": "LayoutModel",
      "state": {
       "display": "none",
       "grid_gap": "0px 0px",
       "grid_template_areas": "\n            'pathlist pathlist'\n            'dircontent dircontent'\n            ",
       "grid_template_columns": "60% 40%",
       "grid_template_rows": "auto auto",
       "width": "auto"
      }
     },
     "dc514eeb4119478ea8f2fa737309123d": {
      "model_module": "@jupyter-widgets/controls",
      "model_module_version": "1.5.0",
      "model_name": "TextModel",
      "state": {
       "disabled": true,
       "layout": "IPY_MODEL_65673a98b7264758a46446a832884e7b",
       "placeholder": "output filename",
       "style": "IPY_MODEL_625df4f0b79c463f8dad5eff1cce6e38"
      }
     },
     "dc7b01da524849ce8e3272e35a7aed35": {
      "model_module": "@jupyter-widgets/controls",
      "model_module_version": "1.5.0",
      "model_name": "DescriptionStyleModel",
      "state": {
       "description_width": ""
      }
     },
     "dc95090606084efc8c7edbf0aa11a44b": {
      "model_module": "@jupyter-widgets/controls",
      "model_module_version": "1.5.0",
      "model_name": "BoxModel",
      "state": {
       "children": [
        "IPY_MODEL_a653dbaf72ca4532a8774522fc28aac4"
       ],
       "layout": "IPY_MODEL_79ecf7ee475e412ea8cb5491eb0aec57"
      }
     },
     "dca2a8e8d2574fc1af5f72acd9c17ba1": {
      "model_module": "@jupyter-widgets/controls",
      "model_module_version": "1.5.0",
      "model_name": "DescriptionStyleModel",
      "state": {
       "description_width": ""
      }
     },
     "dccd0df9841a4d54b3fd9640683e11aa": {
      "model_module": "@jupyter-widgets/controls",
      "model_module_version": "1.5.0",
      "model_name": "SelectModel",
      "state": {
       "_options_labels": [
        "📁 ..",
        "📁 Apps",
        "📁 Projects"
       ],
       "index": null,
       "layout": "IPY_MODEL_8168908d3bb74ac182ec8b99f7b0d2da",
       "rows": 8,
       "style": "IPY_MODEL_a77f249ca64e4747b817e82724013142"
      }
     },
     "dd1b4979a3074717931fe0b5b289c664": {
      "model_module": "@jupyter-widgets/controls",
      "model_module_version": "1.5.0",
      "model_name": "BoxModel",
      "state": {
       "children": [
        "IPY_MODEL_dd1c623b5d9d457d857bd34fce13cf03"
       ],
       "layout": "IPY_MODEL_58b2a7b156d843209a5ea07e727e4799"
      }
     },
     "dd1c623b5d9d457d857bd34fce13cf03": {
      "model_module": "@jupyter-widgets/controls",
      "model_module_version": "1.5.0",
      "model_name": "HTMLModel",
      "state": {
       "layout": "IPY_MODEL_30b2fad6d28d40c68d80c9245682421b",
       "placeholder": "",
       "style": "IPY_MODEL_afc96bc6737e404f9628e560fb3ec936",
       "value": "<span style=\"color:black;\">No selection</span>"
      }
     },
     "dd2acf3b118a4e3b9f55a0a29afd2a70": {
      "model_module": "@jupyter-widgets/controls",
      "model_module_version": "1.5.0",
      "model_name": "ButtonModel",
      "state": {
       "button_style": "info",
       "description": "Continue",
       "layout": "IPY_MODEL_1150afe8dbab472baa3d7f9a081d2e65",
       "style": "IPY_MODEL_6a2ffcd993214abe9815cb2661c285c5"
      }
     },
     "dd80decacd29483b96b4e4249f419f71": {
      "model_module": "@jupyter-widgets/controls",
      "model_module_version": "1.5.0",
      "model_name": "BoxModel",
      "state": {
       "children": [
        "IPY_MODEL_d65707e37696491db05e11942a69793d"
       ],
       "layout": "IPY_MODEL_40cc419330544180a2b2fe650c709b59"
      }
     },
     "de141e9e2ea74be795439a721ce958c4": {
      "model_module": "@jupyter-widgets/controls",
      "model_module_version": "1.5.0",
      "model_name": "ButtonStyleModel",
      "state": {}
     },
     "de2534ffc2df40ee9630db2b386db6c5": {
      "model_module": "@jupyter-widgets/controls",
      "model_module_version": "1.5.0",
      "model_name": "ButtonModel",
      "state": {
       "description": "Cancel",
       "layout": "IPY_MODEL_88aeb73dce2a4cea84b9224c8bbfe9af",
       "style": "IPY_MODEL_e6bb0ed0cc734ff4af95fbab962a14c0"
      }
     },
     "decbecb6c3ed477ab3118578766bbcaa": {
      "model_module": "@jupyter-widgets/base",
      "model_module_version": "1.2.0",
      "model_name": "LayoutModel",
      "state": {
       "min_width": "6em",
       "width": "6em"
      }
     },
     "df79131d76494e2c8722b494bd24a5ab": {
      "model_module": "@jupyter-widgets/controls",
      "model_module_version": "1.5.0",
      "model_name": "DescriptionStyleModel",
      "state": {
       "description_width": ""
      }
     },
     "e0f32de5e96d4ab58f668e3bdaf82818": {
      "model_module": "@jupyter-widgets/controls",
      "model_module_version": "1.5.0",
      "model_name": "TextareaModel",
      "state": {
       "layout": "IPY_MODEL_8688ebaa899b458e9c99ace006673f1d",
       "style": "IPY_MODEL_b50e1e4960774048a32804e82b71f020"
      }
     },
     "e136b6d562454294b3e20fc33d8952c8": {
      "model_module": "@jupyter-widgets/controls",
      "model_module_version": "1.5.0",
      "model_name": "ButtonModel",
      "state": {
       "description": "Cancel",
       "layout": "IPY_MODEL_aca4b876800a4a11975e7c582321f6e7",
       "style": "IPY_MODEL_1f4821bb45154de085a1b3c57483e13c"
      }
     },
     "e1511c09568e435ba2fd8b810aa88f22": {
      "model_module": "@jupyter-widgets/base",
      "model_module_version": "1.2.0",
      "model_name": "LayoutModel",
      "state": {
       "margin": "0 0 0 1em"
      }
     },
     "e2fd39cfd09344018c2dbb61183d257e": {
      "model_module": "@jupyter-widgets/controls",
      "model_module_version": "1.5.0",
      "model_name": "ButtonModel",
      "state": {
       "button_style": "info",
       "description": "Continue",
       "layout": "IPY_MODEL_f4b1da1098614ec295f564fb57bf4ca3",
       "style": "IPY_MODEL_0fde06b073f74ba7a05f893847a9704c"
      }
     },
     "e41491171f5245bca8def34efba315d3": {
      "model_module": "@jupyter-widgets/base",
      "model_module_version": "1.2.0",
      "model_name": "LayoutModel",
      "state": {
       "display": "none",
       "grid_gap": "0px 0px",
       "grid_template_areas": "\n            'pathlist pathlist'\n            'dircontent dircontent'\n            ",
       "grid_template_columns": "60% 40%",
       "grid_template_rows": "auto auto",
       "width": "auto"
      }
     },
     "e41588bcb6a5402eb0112a023cece983": {
      "model_module": "@jupyter-widgets/controls",
      "model_module_version": "1.5.0",
      "model_name": "ButtonModel",
      "state": {
       "description": "Select",
       "layout": "IPY_MODEL_60e97167601040a4ac4eefcf3447d5f5",
       "style": "IPY_MODEL_e6df6a34d83949d28daab708318752dd"
      }
     },
     "e4748ba6c3ef4dee9fa434918646d34c": {
      "model_module": "@jupyter-widgets/base",
      "model_module_version": "1.2.0",
      "model_name": "LayoutModel",
      "state": {}
     },
     "e4a7947c1c7d4278aa7dc4894e00220f": {
      "model_module": "@jupyter-widgets/controls",
      "model_module_version": "1.5.0",
      "model_name": "DropdownModel",
      "state": {
       "_options_labels": [
        "/home/mxwbio/wetai/homepage",
        "/home/mxwbio/wetai",
        "/home/mxwbio",
        "/home",
        "/"
       ],
       "index": 0,
       "layout": "IPY_MODEL_a5148298a0a746b4ad911eff7ae08e25",
       "style": "IPY_MODEL_d71d39f33029441286cb4eeb5a54310f"
      }
     },
     "e6761c06e35f4a4dbc8491a7f307163b": {
      "model_module": "@jupyter-widgets/controls",
      "model_module_version": "1.5.0",
      "model_name": "DescriptionStyleModel",
      "state": {
       "description_width": ""
      }
     },
     "e6bb0ed0cc734ff4af95fbab962a14c0": {
      "model_module": "@jupyter-widgets/controls",
      "model_module_version": "1.5.0",
      "model_name": "ButtonStyleModel",
      "state": {}
     },
     "e6df6a34d83949d28daab708318752dd": {
      "model_module": "@jupyter-widgets/controls",
      "model_module_version": "1.5.0",
      "model_name": "ButtonStyleModel",
      "state": {}
     },
     "e71561225871413a8f0a3d7173992a4e": {
      "model_module": "@jupyter-widgets/controls",
      "model_module_version": "1.5.0",
      "model_name": "ButtonStyleModel",
      "state": {}
     },
     "e80c580e10ef464ba9998fc81bf5cda6": {
      "model_module": "@jupyter-widgets/base",
      "model_module_version": "1.2.0",
      "model_name": "LayoutModel",
      "state": {}
     },
     "eb6ad396a0b44d90beb159b1d5fb833e": {
      "model_module": "@jupyter-widgets/controls",
      "model_module_version": "1.5.0",
      "model_name": "ButtonModel",
      "state": {
       "button_style": "info",
       "description": "Continue",
       "layout": "IPY_MODEL_fc1566e93e1a492f9241efd4df47ae58",
       "style": "IPY_MODEL_8b5784f82d834cd58c52097b6780c373"
      }
     },
     "eb9ed9bee2ac45c78ff6db0fc6bada84": {
      "model_module": "@jupyter-widgets/controls",
      "model_module_version": "1.5.0",
      "model_name": "ButtonModel",
      "state": {
       "button_style": "danger",
       "icon": "refresh",
       "layout": "IPY_MODEL_1191c41715d84b7c8a6d2ee84d5277dd",
       "style": "IPY_MODEL_3b59e20ec37f46c9b59877cf3f555f19"
      }
     },
     "ee9898bd880b42a692d6eebeccb81133": {
      "model_module": "@jupyter-widgets/controls",
      "model_module_version": "1.5.0",
      "model_name": "HTMLModel",
      "state": {
       "layout": "IPY_MODEL_8bd47e58228e4fd5aaec759a1f3a74d5",
       "style": "IPY_MODEL_bb592d38d46346faa2311126776af70a",
       "value": "<h4 class='text-danger'>Select a Folder to Continue</h4>"
      }
     },
     "ee9b3ca0ab614f44a399d62bc713edb9": {
      "model_module": "@jupyter-widgets/controls",
      "model_module_version": "1.5.0",
      "model_name": "TextareaModel",
      "state": {
       "layout": "IPY_MODEL_371330acbb824f96be33f646d58a80af",
       "style": "IPY_MODEL_0f3a10f7c6ba43638b0336bd36e6be21"
      }
     },
     "ef70baf544014b53a13dc43ed8e23bcb": {
      "model_module": "@jupyter-widgets/controls",
      "model_module_version": "1.5.0",
      "model_name": "DescriptionStyleModel",
      "state": {
       "description_width": ""
      }
     },
     "ef83bb3c49e64b828fed0b6391db5a24": {
      "model_module": "@jupyter-widgets/controls",
      "model_module_version": "1.5.0",
      "model_name": "DescriptionStyleModel",
      "state": {
       "description_width": ""
      }
     },
     "f46561b8baea455ea448234a662a3ae3": {
      "model_module": "@jupyter-widgets/controls",
      "model_module_version": "1.5.0",
      "model_name": "ButtonModel",
      "state": {
       "description": "Cancel",
       "layout": "IPY_MODEL_f848d99e9e284c36871baa7f4856c7c3",
       "style": "IPY_MODEL_d1730e51eb5b40ae815e162aa052bebe"
      }
     },
     "f4b1da1098614ec295f564fb57bf4ca3": {
      "model_module": "@jupyter-widgets/base",
      "model_module_version": "1.2.0",
      "model_name": "LayoutModel",
      "state": {
       "width": "auto"
      }
     },
     "f5ad49c815654e48af2bdca872aa5918": {
      "model_module": "@jupyter-widgets/base",
      "model_module_version": "1.2.0",
      "model_name": "LayoutModel",
      "state": {
       "overflow": "auto"
      }
     },
     "f633bfa316e84eaf840cd1d0627c81cc": {
      "model_module": "@jupyter-widgets/controls",
      "model_module_version": "1.5.0",
      "model_name": "ButtonModel",
      "state": {
       "description": "Select",
       "layout": "IPY_MODEL_decbecb6c3ed477ab3118578766bbcaa",
       "style": "IPY_MODEL_c35ea67ab6fb4962ac1aac58365277d2"
      }
     },
     "f7e86094f9cb49898b4626105b9cc598": {
      "model_module": "@jupyter-widgets/controls",
      "model_module_version": "1.5.0",
      "model_name": "ButtonStyleModel",
      "state": {}
     },
     "f842f0c77c6641ab923da518cec4de87": {
      "model_module": "@jupyter-widgets/base",
      "model_module_version": "1.2.0",
      "model_name": "LayoutModel",
      "state": {
       "width": "auto"
      }
     },
     "f848d99e9e284c36871baa7f4856c7c3": {
      "model_module": "@jupyter-widgets/base",
      "model_module_version": "1.2.0",
      "model_name": "LayoutModel",
      "state": {
       "display": "none",
       "min_width": "6em",
       "width": "6em"
      }
     },
     "f85db1d9dad4440d87f54d7f8be5722f": {
      "model_module": "@jupyter-widgets/controls",
      "model_module_version": "1.5.0",
      "model_name": "ButtonModel",
      "state": {
       "button_style": "info",
       "description": "Continue",
       "layout": "IPY_MODEL_a9728f34cf20477cb041d5cd3065bbb2",
       "style": "IPY_MODEL_8bc6f17e78fe44d786973847688f142f"
      }
     },
     "f9e1a6bf34c2400492bbad420e043e44": {
      "model_module": "@jupyter-widgets/base",
      "model_module_version": "1.2.0",
      "model_name": "LayoutModel",
      "state": {
       "width": "auto"
      }
     },
     "fb4b755b636e4685bd4a2e6f6feccdc1": {
      "model_module": "@jupyter-widgets/base",
      "model_module_version": "1.2.0",
      "model_name": "LayoutModel",
      "state": {
       "margin": "0 0 0 1em"
      }
     },
     "fc1566e93e1a492f9241efd4df47ae58": {
      "model_module": "@jupyter-widgets/base",
      "model_module_version": "1.2.0",
      "model_name": "LayoutModel",
      "state": {
       "width": "auto"
      }
     },
     "fc1927a0b0c541b2bc2599b8fdb4d6e7": {
      "model_module": "@jupyter-widgets/controls",
      "model_module_version": "1.5.0",
      "model_name": "ButtonStyleModel",
      "state": {}
     },
     "fcfde999df4e4b21bc51e895df817c2e": {
      "model_module": "@jupyter-widgets/controls",
      "model_module_version": "1.5.0",
      "model_name": "TextModel",
      "state": {
       "description": "UUID",
       "layout": "IPY_MODEL_8f60b4a2f8c848ecaad04b78ed812d0a",
       "style": "IPY_MODEL_d2884596dc7e427fb893715c35ddfeb8"
      }
     }
    },
    "version_major": 2,
    "version_minor": 0
   }
  }
 },
 "nbformat": 4,
 "nbformat_minor": 5
}
