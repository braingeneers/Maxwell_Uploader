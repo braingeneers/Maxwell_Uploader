{
 "cells": [
  {
   "cell_type": "markdown",
   "id": "39912005",
   "metadata": {},
   "source": [
    "<font size=7 face=\"Courier\">Uploader App - Source Code"
   ]
  },
  {
   "cell_type": "markdown",
   "id": "0f732168",
   "metadata": {},
   "source": [
    "<font color=\"red\">\n",
    "\n",
    "**To Do**\n",
    "* Check if selected UUID is already up on PRP"
   ]
  },
  {
   "cell_type": "markdown",
   "id": "e4995720",
   "metadata": {},
   "source": [
    "<font color=\"orange\">Folder used for testing: `/home/mxwbio/Desktop/MxW/SampleDataSet/Organoids/5167/Activity_Scan/000003/`"
   ]
  },
  {
   "cell_type": "markdown",
   "id": "c8cf0a78",
   "metadata": {},
   "source": [
    "# <font color=\"gray\"> Set Up Notebook"
   ]
  },
  {
   "cell_type": "markdown",
   "id": "2888a2d4",
   "metadata": {},
   "source": [
    "import packages"
   ]
  },
  {
   "cell_type": "code",
   "execution_count": null,
   "id": "f2ba7582",
   "metadata": {},
   "outputs": [],
   "source": [
    "import ipywidgets as ipw"
   ]
  },
  {
   "cell_type": "code",
   "execution_count": null,
   "id": "fb4f314b",
   "metadata": {},
   "outputs": [],
   "source": [
    "from IPython.core.display import HTML, display, Javascript, clear_output\n",
    "from ipywidgets import interact, interactive, fixed, interact_manual"
   ]
  },
  {
   "cell_type": "code",
   "execution_count": null,
   "id": "68154456",
   "metadata": {},
   "outputs": [],
   "source": [
    "import json\n",
    "import h5py\n",
    "import os\n",
    "import glob\n",
    "import copy\n",
    "import sys\n",
    "import subprocess\n",
    "\n",
    "import braingeneers.utils.s3wrangler as wr\n",
    "from braingeneers.utils import smart_open\n",
    "#from PyQt5.QtWidgets import QApplication, QWidget, QMessageBox, QLineEdit, QFileDialog, QPushButton, QLabel, QTextEdit\n",
    "#from PyQt5.QtGui import QFont\n",
    "#from PyQt5.QtGui import QIcon"
   ]
  },
  {
   "cell_type": "markdown",
   "id": "59a0f845",
   "metadata": {},
   "source": [
    "Set up variables for S3"
   ]
  },
  {
   "cell_type": "code",
   "execution_count": null,
   "id": "c65d3bc0",
   "metadata": {},
   "outputs": [],
   "source": [
    "s3 = 'aws --endpoint https://s3.nautilus.optiputer.net s3'\n",
    "s3_path = 'braingeneers/ephys/'"
   ]
  },
  {
   "cell_type": "markdown",
   "id": "ceebeaba",
   "metadata": {},
   "source": [
    "Set empty object to hold everything"
   ]
  },
  {
   "cell_type": "code",
   "execution_count": null,
   "id": "7a8db4d4",
   "metadata": {},
   "outputs": [],
   "source": [
    "Uploader = type('uploader', (object,), {})()"
   ]
  },
  {
   "cell_type": "markdown",
   "id": "abc2d703",
   "metadata": {},
   "source": [
    "# <font color=\"blue\">Functions"
   ]
  },
  {
   "cell_type": "markdown",
   "id": "86069f15",
   "metadata": {},
   "source": [
    "## <font color=\"blue\">Get Uploadable files in selected folder"
   ]
  },
  {
   "cell_type": "code",
   "execution_count": null,
   "id": "a9e0e5f4",
   "metadata": {},
   "outputs": [],
   "source": [
    "def getExperiments(exp_path=''):\n",
    "    print(exp_path)\n",
    "    exp_list = glob.glob(exp_path + '/' + '*.h5')\n",
    "    for i, exp in enumerate(exp_list):\n",
    "\n",
    "        try:\n",
    "            with h5py.File(exp, \"r\") as f:\n",
    "                pass\n",
    "\n",
    "        except OSError:\n",
    "            #msg = QMessageBox()\n",
    "            #msg.setIcon(QMessageBox.Warning)\n",
    "\n",
    "            print(f'Error: The file {exp} could not be read!')\n",
    "            #msg.setWindowTitle(\"Warning\")\n",
    "            #msg.setStandardButtons(QMessageBox.Ok | QMessageBox.Cancel)\n",
    "            #retval = msg.exec_()\n",
    "            #exp_list.remove(exp)\n",
    "\n",
    "    return exp_list"
   ]
  },
  {
   "cell_type": "markdown",
   "id": "e449348b",
   "metadata": {},
   "source": [
    "## <font color=\"blue\">Generate UUID for experiment"
   ]
  },
  {
   "cell_type": "code",
   "execution_count": null,
   "id": "8cf76442",
   "metadata": {},
   "outputs": [],
   "source": [
    "def get_uuid_prefix(dir_name, exp_list):\n",
    "    f = h5py.File(exp_list[0], \"r\")\n",
    "    keys = list(f.keys())\n",
    "    time_stamp = str(f.get('time')[()])\n",
    "\n",
    "    # Correct format\n",
    "    meta_time_stamp = time_stamp[10:20] + 'T' + time_stamp[21:29]\n",
    "    f.close()\n",
    "\n",
    "    uuid = meta_time_stamp[:10] + '-e-'\n",
    "    return uuid\n"
   ]
  },
  {
   "cell_type": "markdown",
   "id": "4542d336",
   "metadata": {},
   "source": [
    "## <font color=\"blue\"> Create Template for metadata file"
   ]
  },
  {
   "cell_type": "code",
   "execution_count": null,
   "id": "2e799a3d",
   "metadata": {},
   "outputs": [],
   "source": [
    "def get_metadata_exp_template():\n",
    "    exp_metadata = {\n",
    "        \"blocks\": [ {\"num_frames\": 0, \"path\": \"\", \"source\": \"\", \"timestamp\": \"\" } ],\n",
    "        \"channels\": [],\n",
    "        \"hardware\": \"Maxwell\",\n",
    "        \"name\": \"1well-maxwell\",\n",
    "        \"notes\": \"\",\n",
    "        \"num_channels\": 0,\n",
    "        \"num_current_input_channels\": 0,\n",
    "        \"num_voltage_channels\": 0,\n",
    "        \"offset\": 0,\n",
    "        \"sample_rate\": 20000,\n",
    "        \"scaler\": 1,\n",
    "        \"timestamp\": \"\",\n",
    "        \"units\": \"\\u00b5V\",\n",
    "        \"version\": \"0.0.1\"\n",
    "    }\n",
    "    return exp_metadata"
   ]
  },
  {
   "cell_type": "markdown",
   "id": "9f4b2793",
   "metadata": {},
   "source": [
    "## <font color=\"blue\">Generate Metadata from h5 files"
   ]
  },
  {
   "cell_type": "code",
   "execution_count": null,
   "id": "6c4e5604",
   "metadata": {},
   "outputs": [],
   "source": [
    "\n",
    "def gen_metadata(dir_name, exp_list, uuid='', notes=''):\n",
    "    # Open file\n",
    "    with h5py.File(exp_list[0], \"r\") as f:\n",
    "        keys = list(f.keys())\n",
    "        time_stamp = str(f.get('time')[()])\n",
    "\n",
    "        # Correct format\n",
    "        meta_time_stamp = time_stamp[10:20] + 'T' + time_stamp[21:29]\n",
    "\n",
    "    metadata = {\n",
    "        \"experiments\": [\n",
    "        ],\n",
    "        \"notes\": \" \",\n",
    "        \"timestamp\": \"\",\n",
    "        \"uuid\": \"YYYY-MM-DD-[e]-[descriptor]\"\n",
    "    }\n",
    "\n",
    "    metadata['timestamp'] = meta_time_stamp\n",
    "    metadata['uuid'] = uuid\n",
    "    metadata['notes'] = notes\n",
    "    metadata['experiments'] = [f\"experiment{i + 1}.json\" for i in range(len(exp_list))]\n",
    "\n",
    "    with open(dir_name + '/' + \"metadata.json\", \"w\") as outfile:\n",
    "        json.dump(metadata, outfile, indent=2)"
   ]
  },
  {
   "cell_type": "markdown",
   "id": "a08fafff",
   "metadata": {},
   "source": [
    "## <font color=\"blue\">Generate metadata for each experiment in selected folder"
   ]
  },
  {
   "cell_type": "code",
   "execution_count": null,
   "id": "d893c2f2",
   "metadata": {},
   "outputs": [],
   "source": [
    "\n",
    "def gen_metadata_exp(dir_name, exp_list):\n",
    "    '''\n",
    "    Loop through each experiment file and save corresponding metadata file\n",
    "    '''\n",
    "    exp_metadata = get_metadata_exp_template()\n",
    "\n",
    "    for i, exp in enumerate(exp_list):\n",
    "\n",
    "        print(i, exp)\n",
    "\n",
    "        try:\n",
    "            with h5py.File(exp, \"r\") as f:\n",
    "                cur_metadata = copy.copy(exp_metadata)\n",
    "\n",
    "                # Get keys\n",
    "                keys = list(f.keys())\n",
    "                time_stamp = str(f.get('time')[()])\n",
    "                # Correct time format\n",
    "                meta_time_stamp = time_stamp[10:20] + 'T' + time_stamp[21:29]\n",
    "\n",
    "                # Get blocks\n",
    "                shape = f.get('sig').shape\n",
    "                num_frames = shape[0] * shape[1]\n",
    "                print('Total frames * channels', num_frames)\n",
    "\n",
    "                # Get path\n",
    "                data_path = exp\n",
    "\n",
    "                # Set values\n",
    "                cur_metadata['blocks'][0]['num_frames'] = num_frames\n",
    "                cur_metadata['blocks'][0]['path'] = exp\n",
    "                cur_metadata['blocks'][0]['timestamp'] = meta_time_stamp\n",
    "                cur_metadata['num_channels'] = shape[0]\n",
    "                cur_metadata['num_voltage_channels'] = shape[0]\n",
    "                cur_metadata['timestamp'] = meta_time_stamp\n",
    "\n",
    "                # Write file\n",
    "                with open(dir_name + '/' + \"experiment{}.json\".format(i + 1), \"w\") as outfile:\n",
    "                    json.dump(cur_metadata, outfile, indent=2)\n",
    "\n",
    "        except OSError:\n",
    "            msg = QMessageBox()\n",
    "            msg.setIcon(QMessageBox.Warning)\n",
    "\n",
    "            msg.setText(f'The file {exp} could not be read!')\n",
    "            msg.setWindowTitle(\"Warning\")\n",
    "            msg.setStandardButtons(QMessageBox.Ok | QMessageBox.Cancel)\n",
    "            retval = msg.exec_()"
   ]
  },
  {
   "cell_type": "markdown",
   "id": "c24f9556",
   "metadata": {},
   "source": [
    "## <font color=\"blue\">Upload Data to S3"
   ]
  },
  {
   "cell_type": "code",
   "execution_count": null,
   "id": "d899cf8e",
   "metadata": {},
   "outputs": [],
   "source": [
    "def uploadToS3(uuid, dir_name, exp_list):\n",
    "    # cmd = f\"{s3} sync {dir_name} s3://{s3_path + uuid} \"\n",
    "    # process = subprocess.Popen(cmd.split(), stdout=subprocess.PIPE)\n",
    "    # output, error = process.communicate()\n",
    "\n",
    "    # Upload metadata\n",
    "    wr.upload(local_file=f'{dir_name}/metadata.json', path='s3://braingeneers/ephys/' + uuid + '/metadata.json')\n",
    "\n",
    "    for i in range(len(exp_list)):\n",
    "        wr.upload(local_file=dir_name + f'/experiment{i + 1}.json',\n",
    "                  path=f's3://braingeneers/ephys/{uuid}/original/experiment{i + 1}.json')\n",
    "\n",
    "    # Upload data files\n",
    "    for i,exp in enumerate(exp_list):\n",
    "        print(f'Uploading file {i + 1}/{len(exp_list)}...')\n",
    "        print(f'Uploading {exp}')\n",
    "        filename = exp.split('/')[-1]\n",
    "        print(f'To: s3://braingeneers/ephys/{uuid}/original/data/{filename}')\n",
    "\n",
    "        b = None\n",
    "        file_size = os.path.getsize(exp)/1000000\n",
    "        megabyte_count = 0\n",
    "        with open(exp, 'rb') as local_file, smart_open.open( f's3://braingeneers/ephys/'\\\n",
    "                                                            f'{uuid}/original/data/{filename}', 'wb') as s3file:\n",
    "            while b != b'':\n",
    "                b = local_file.read(1000000)\n",
    "                s3file.write(b)\n",
    "                megabyte_count += 1\n",
    "                print(f'{megabyte_count}\\t of \\t {file_size:3.1f} MB')\n",
    "                #app.main_app.processEvents()\n",
    "\n",
    "        # wr.upload(local_file=exp, path=f's3://braingeneers/ephys/{uuid}/original/data/{filename}')\n",
    "\n",
    "    print(\" \")\n",
    "    print('Upload SuccessfullyComplete!')"
   ]
  },
  {
   "cell_type": "markdown",
   "id": "ada24e35",
   "metadata": {},
   "source": [
    "# <font color=\"green\">Widgets"
   ]
  },
  {
   "cell_type": "markdown",
   "id": "5bc498c9",
   "metadata": {},
   "source": [
    "## <font color=\"green\">Start Button"
   ]
  },
  {
   "cell_type": "code",
   "execution_count": null,
   "id": "e215399e",
   "metadata": {},
   "outputs": [],
   "source": [
    "wStart = ipw.Button(description=\"Start\", button_style=\"success\", layout=ipw.Layout(width='auto'))\n",
    "wStart"
   ]
  },
  {
   "cell_type": "markdown",
   "id": "45e72f7f",
   "metadata": {},
   "source": [
    "## <font color=\"green\">Restart Button"
   ]
  },
  {
   "cell_type": "code",
   "execution_count": null,
   "id": "97f062f2",
   "metadata": {},
   "outputs": [],
   "source": [
    "wRestart = ipw.Button(icon=\"refresh\", button_style=\"danger\", layout=ipw.Layout(width='auto'))\n",
    "wRestart"
   ]
  },
  {
   "cell_type": "markdown",
   "id": "0f839061",
   "metadata": {},
   "source": [
    "## <font color=\"green\">Continue to Check Data"
   ]
  },
  {
   "cell_type": "markdown",
   "id": "49d1cb12",
   "metadata": {},
   "source": [
    "Button that allows uster to Checks data after the have selected a folder with data"
   ]
  },
  {
   "cell_type": "code",
   "execution_count": null,
   "id": "c09e1fe2",
   "metadata": {},
   "outputs": [],
   "source": [
    "wContinueCheckData = ipw.Button(description=\"Continue\", button_style=\"info\", layout=ipw.Layout(width='auto'))\n",
    "wContinueCheckData "
   ]
  },
  {
   "cell_type": "markdown",
   "id": "c575d4ab",
   "metadata": {},
   "source": [
    "## <font color=\"green\"> Check Data Error Message"
   ]
  },
  {
   "cell_type": "markdown",
   "id": "36228e3a",
   "metadata": {},
   "source": [
    "The html text is used to display message to the user if there is an issue with the data or folder they selected"
   ]
  },
  {
   "cell_type": "code",
   "execution_count": null,
   "id": "06c4c14a",
   "metadata": {},
   "outputs": [],
   "source": [
    "wFolderCheckMsg = ipw.HTML(\"<h4 class='text-danger'>Select a Folder to Continue</h4>\",  layout=ipw.Layout(visibility = \"hidden\") )\n",
    "wFolderCheckMsg"
   ]
  },
  {
   "cell_type": "markdown",
   "id": "40c82adb",
   "metadata": {},
   "source": [
    "## <font color=\"green\"> Continue to Metadata Setup"
   ]
  },
  {
   "cell_type": "markdown",
   "id": "fe85809a",
   "metadata": {},
   "source": [
    "After users data is confirmed to be uploadable continue to metadata setup"
   ]
  },
  {
   "cell_type": "code",
   "execution_count": null,
   "id": "5c63ddbe",
   "metadata": {},
   "outputs": [],
   "source": [
    "wContinueMetadata = ipw.Button(description=\"Continue\", button_style=\"info\", layout=ipw.Layout(width='auto')) # disabled=True,\n",
    "wContinueMetadata"
   ]
  },
  {
   "cell_type": "markdown",
   "id": "9e6efea2",
   "metadata": {},
   "source": [
    "## <font color=\"green\">Select Directory to Upload"
   ]
  },
  {
   "cell_type": "markdown",
   "id": "0b7d4415",
   "metadata": {},
   "source": [
    "<font color=\"green\">wSelectFolder</font> is used to select the folder on the maxwell computer with data that we want to uploade. "
   ]
  },
  {
   "cell_type": "markdown",
   "id": "e102fba0",
   "metadata": {},
   "source": [
    "This widget makes use of [ipyfilechooser](https://pypi.org/project/ipyfilechooser/)"
   ]
  },
  {
   "cell_type": "code",
   "execution_count": null,
   "id": "e94616b2",
   "metadata": {},
   "outputs": [],
   "source": [
    "from ipyfilechooser import FileChooser\n",
    "wFileChooser = FileChooser('/home/mxwbio/wetai/homepage')\n",
    "wFileChooser.show_only_dirs = True\n",
    "wFileChooser"
   ]
  },
  {
   "cell_type": "markdown",
   "id": "e9187842",
   "metadata": {},
   "source": [
    "## <font color=\"green\">UUID Text- Dataset Name"
   ]
  },
  {
   "cell_type": "markdown",
   "id": "f433f114",
   "metadata": {},
   "source": [
    "This textbox is where the user inputs their unique id for the experiment, the `UUID`"
   ]
  },
  {
   "cell_type": "code",
   "execution_count": null,
   "id": "3c5fab74",
   "metadata": {},
   "outputs": [],
   "source": [
    "wUUID = ipw.Text(description=\"UUID\")\n",
    "wUUID"
   ]
  },
  {
   "cell_type": "markdown",
   "id": "759f4ca9",
   "metadata": {},
   "source": [
    "## <font color=\"green\">Notes Textbox"
   ]
  },
  {
   "cell_type": "markdown",
   "id": "49cb391e",
   "metadata": {},
   "source": [
    "User can type additional notes here that wil be added to the metadata"
   ]
  },
  {
   "cell_type": "code",
   "execution_count": null,
   "id": "9f3c7eb1",
   "metadata": {},
   "outputs": [],
   "source": [
    "wNotes=ipw.Textarea()\n",
    "wNotes"
   ]
  },
  {
   "cell_type": "markdown",
   "id": "5fba8ef9",
   "metadata": {},
   "source": [
    "## <font color=\"green\">Upload Dataset Button"
   ]
  },
  {
   "cell_type": "markdown",
   "id": "26802fe6",
   "metadata": {},
   "source": [
    "This button will upload the dataset to the braingeneers PRP"
   ]
  },
  {
   "cell_type": "code",
   "execution_count": null,
   "id": "94d830d0",
   "metadata": {},
   "outputs": [],
   "source": [
    "wUpload = ipw.Button(description=\"Upload\", button_style=\"success\", layout=ipw.Layout(width='auto'))\n",
    "wUpload"
   ]
  },
  {
   "cell_type": "markdown",
   "id": "c67e3e74",
   "metadata": {},
   "source": [
    "# <font color=\"orchid\">Final App"
   ]
  },
  {
   "cell_type": "markdown",
   "id": "1bf44636",
   "metadata": {},
   "source": [
    "We combine the widgets and functions to build an interactive app."
   ]
  },
  {
   "cell_type": "markdown",
   "id": "2cbf7dc5",
   "metadata": {},
   "source": [
    "## <font color=\"orchid\"> Start App"
   ]
  },
  {
   "cell_type": "code",
   "execution_count": null,
   "id": "9c0dfd69",
   "metadata": {},
   "outputs": [],
   "source": [
    "def showFolderSelector(b):\n",
    "    clear_output()\n",
    "    print(\"Select Folder to Upload Data From\")\n",
    "    print(\" \")\n",
    "    display(wFileChooser)\n",
    "    display(wFolderCheckMsg)\n",
    "    display(wContinueCheckData)\n",
    "    print(\" \")\n",
    "    display(wRestart)\n",
    "    \n",
    "wStart.on_click( showFolderSelector )"
   ]
  },
  {
   "cell_type": "markdown",
   "id": "fa138ea7",
   "metadata": {},
   "source": [
    "## <font color=\"orchid\"> Restart App"
   ]
  },
  {
   "cell_type": "code",
   "execution_count": null,
   "id": "59b64daf",
   "metadata": {},
   "outputs": [],
   "source": [
    "def restartApp(b):\n",
    "    clear_output()\n",
    "    wFileChooser.reset()                          # Resets the file choos widget\n",
    "    wFolderCheckMsg.layout.visibility = \"hidden\"   # Reset the warning message\n",
    "    wNotes.value = \"\"\n",
    "    display(wStart)                               # Go back to start button\n",
    "    \n",
    "wRestart.on_click( restartApp )"
   ]
  },
  {
   "cell_type": "markdown",
   "id": "2eed589b",
   "metadata": {},
   "source": [
    "## <font color=\"orchid\">Check data in selected folder"
   ]
  },
  {
   "cell_type": "code",
   "execution_count": null,
   "id": "6a0826f1",
   "metadata": {},
   "outputs": [],
   "source": [
    "def checkData(b):\n",
    "    if wFileChooser.value == None:     # Check that user selected a folder before continuing\n",
    "        wFolderCheckMsg.layout.visibility = \"visible\"\n",
    "    else:\n",
    "        clear_output()\n",
    "        print('Checking Data in:')\n",
    "        Uploader.exp_list = getExperiments(wFileChooser.value[:-1])\n",
    "        print(\" \")\n",
    "        print(\"The following \"+str(len(Uploader.exp_list))+\" files will be uploaded\")\n",
    "        for i in Uploader.exp_list:\n",
    "            print(i)\n",
    "        print(\" \")\n",
    "        #wContinueMetadata.disabled=False\n",
    "        display(wContinueMetadata)\n",
    "        print(\" \")\n",
    "        display(wRestart)\n",
    "        \n",
    "wContinueCheckData.on_click(checkData)"
   ]
  },
  {
   "cell_type": "markdown",
   "id": "0fb95de4",
   "metadata": {},
   "source": [
    "## <font color=\"orchid\">Name Dataset"
   ]
  },
  {
   "cell_type": "code",
   "execution_count": null,
   "id": "37476134",
   "metadata": {},
   "outputs": [],
   "source": [
    "def nameData(b):\n",
    "    wUUID.value = get_uuid_prefix(wFileChooser.value,Uploader.exp_list)+\"NAME_HERE\" \n",
    "    \n",
    "    clear_output()\n",
    "    print(\"Name your Dataset\")\n",
    "    display(wUUID)\n",
    "    print(\"Additional Notes\")\n",
    "    display(wNotes)\n",
    "    display(wUpload)\n",
    "    print(\" \")\n",
    "    display(wRestart)\n",
    "    \n",
    "wContinueMetadata.on_click(nameData)"
   ]
  },
  {
   "cell_type": "markdown",
   "id": "617dd1b8",
   "metadata": {},
   "source": [
    "## <font color=\"orchid\">Upload Dataset"
   ]
  },
  {
   "cell_type": "code",
   "execution_count": null,
   "id": "cd5f36f6",
   "metadata": {},
   "outputs": [],
   "source": [
    "def upload(b):\n",
    "    clear_output()\n",
    "    print(\"Generating Metadata...\")\n",
    "    print(\" \")\n",
    "    gen_metadata(wFileChooser.value[:-1], Uploader.exp_list, uuid=wUUID.value, notes=wNotes.value)\n",
    "    gen_metadata_exp(wFileChooser.value[:-1], Uploader.exp_list)\n",
    "    print(\" \")\n",
    "    print(\"Uploading Data...\")\n",
    "    print(\" \")\n",
    "    \n",
    "    uploadToS3( wUUID.value, wFileChooser.value[:-1], Uploader.exp_list)\n",
    "    print(\" \")\n",
    "    display(wRestart)\n",
    "    \n",
    "wUpload.on_click(upload)"
   ]
  },
  {
   "cell_type": "markdown",
   "id": "62c3436d",
   "metadata": {},
   "source": [
    "## <font color=\"orchid\">Test App"
   ]
  },
  {
   "cell_type": "markdown",
   "id": "1741aee7",
   "metadata": {},
   "source": [
    "Uncomment the line below to run the app and test that it works. When test I recommend you `Cell -> Run All` code above. This is useful for debugging."
   ]
  },
  {
   "cell_type": "code",
   "execution_count": null,
   "id": "ee9ed3f3",
   "metadata": {},
   "outputs": [],
   "source": [
    "wStart"
   ]
  },
  {
   "cell_type": "markdown",
   "id": "94d62e07",
   "metadata": {},
   "source": [
    "# <font color=\"brown\">Scratch Paper"
   ]
  },
  {
   "cell_type": "code",
   "execution_count": null,
   "id": "3767133a",
   "metadata": {},
   "outputs": [],
   "source": []
  },
  {
   "cell_type": "markdown",
   "id": "f62d97ca",
   "metadata": {
    "cell_style": "split"
   },
   "source": [
    "## <font color=\"brown\"> Old Code"
   ]
  },
  {
   "cell_type": "markdown",
   "id": "2be198d9",
   "metadata": {},
   "source": [
    "### Initialization code"
   ]
  },
  {
   "cell_type": "code",
   "execution_count": null,
   "id": "81d69a58",
   "metadata": {},
   "outputs": [],
   "source": [
    "# class App(QWidget):\n",
    "\n",
    "#     def __init__(self,main_app = None):\n",
    "#         super().__init__()\n",
    "#         self.main_app = main_app\n",
    "#         self.title = 'MaxWell S3 Experiment Upload'\n",
    "#         self.left = 10\n",
    "#         self.top = 10\n",
    "#         self.width = 800\n",
    "#         self.height = 480\n",
    "\n",
    "#         self.button1 = None\n",
    "#         self.button2 = None\n",
    "#         self.button3 = None\n",
    "\n",
    "#         self.label1 = None\n",
    "#         self.label2 = None\n",
    "#         self.label3 = None\n",
    "#         self.label4 = None\n",
    "#         self.label5 = None\n",
    "\n",
    "#         self.textbox1 = None\n",
    "#         self.textboxlabel1 = None\n",
    "#         self.textbox2 = None\n",
    "#         self.textboxlabel2 = None\n",
    "\n",
    "#         self.infobutton = None\n",
    "\n",
    "#         self.dir_name = 'No Directory Selected'\n",
    "#         self.exp_list = ['No experiments chosen yet']\n",
    "#         self.uuid_prefix = ''\n",
    "\n",
    "#         self.init_ui()"
   ]
  },
  {
   "cell_type": "markdown",
   "id": "2f350ca8",
   "metadata": {},
   "source": [
    "### Creating widgets"
   ]
  },
  {
   "cell_type": "code",
   "execution_count": null,
   "id": "5f9ef4a7",
   "metadata": {},
   "outputs": [],
   "source": [
    "#     def init_ui(self):\n",
    "#         self.setWindowTitle(self.title)\n",
    "#         self.setGeometry(self.left, self.top, self.width, self.height)\n",
    "\n",
    "#         self.button1 = QPushButton(self)\n",
    "#         self.button1.move(0, 5)\n",
    "#         self.button1.setText(\"Open Directory\")\n",
    "#         self.button1.clicked.connect(self.button1_clicked)\n",
    "\n",
    "#         self.button2 = QPushButton(self)\n",
    "#         self.button2.move(0, 60)\n",
    "#         self.button2.setText(\"Generate Metadata\")\n",
    "#         self.button2.clicked.connect(self.button2_clicked)\n",
    "#         self.button2.setEnabled(False)\n",
    "\n",
    "#         self.button3 = QPushButton(self)\n",
    "#         self.button3.move(0, 360)\n",
    "#         self.button3.setText(\"Upload\")\n",
    "#         self.button3.clicked.connect(self.button3_clicked)\n",
    "#         self.button3.setEnabled(False)\n",
    "\n",
    "#         self.infobutton = QPushButton(self)\n",
    "#         self.infobutton.move(140, 360)\n",
    "#         self.infobutton.setText(\"Help\")\n",
    "#         self.infobutton.clicked.connect(self.infobutton_clicked)\n",
    "\n",
    "#         self.label1 = QLabel(self)\n",
    "#         self.label1.setFixedWidth(640)\n",
    "#         self.label1.move(20, 40)\n",
    "#         self.label1.setText(self.dir_name)\n",
    "\n",
    "#         self.label2 = QLabel(self)\n",
    "#         # self.label2.setFixedWidth(200)\n",
    "#         # self.label2.setFixedHeight(20)\n",
    "\n",
    "#         self.label2.move(220, 20)\n",
    "#         self.label2.resize(600, 400)\n",
    "#         self.label2.setText('\\n'.join(self.exp_list))\n",
    "\n",
    "#         self.label3 = QLabel(self)\n",
    "#         self.label3.setFixedWidth(400)\n",
    "#         self.label3.move(220, 0)\n",
    "#         font = self.label3.font()\n",
    "#         font.setBold(True)\n",
    "#         self.label3.setFont(font)\n",
    "#         self.label3.setText('Experiments:')\n",
    "\n",
    "#         self.label4 = QLabel(self)\n",
    "#         self.label4.setFixedWidth(400)\n",
    "#         self.label4.move(20, 400)\n",
    "#         self.label4.setText('')\n",
    "\n",
    "#         self.label5 = QLabel(self)\n",
    "#         self.label5.setFixedWidth(400)\n",
    "#         self.label5.move(20, 420)\n",
    "#         self.label5.setText('')\n",
    "\n",
    "#         self.textboxlabel1 = QLabel(self)\n",
    "#         self.textboxlabel1.setFixedWidth(400)\n",
    "#         self.textboxlabel1.move(20, 90)\n",
    "#         self.textboxlabel1.setText('UUID:')\n",
    "\n",
    "#         self.textbox1 = QLineEdit(self)\n",
    "#         self.textbox1.move(20, 110)\n",
    "#         self.textbox1.resize(180, 20)\n",
    "#         self.textbox1.setEnabled(False)\n",
    "#         self.textbox1.setText(\"None\")\n",
    "\n",
    "#         self.textboxlabel2 = QLabel(self)\n",
    "#         self.textboxlabel2.setFixedWidth(400)\n",
    "#         self.textboxlabel2.move(20, 130)\n",
    "#         self.textboxlabel2.setText('Notes:')\n",
    "\n",
    "#         self.textbox2 = QTextEdit(self)\n",
    "#         self.textbox2.move(20, 150)\n",
    "#         self.textbox2.resize(180, 200)\n",
    "#         self.textbox2.setEnabled(False)\n",
    "#         self.textbox2.setText(\"\")\n",
    "\n",
    "\n",
    "\n",
    "#         self.show()"
   ]
  },
  {
   "cell_type": "markdown",
   "id": "7968e254",
   "metadata": {},
   "source": [
    "### <font color=\"orange\">Adding function to widgets"
   ]
  },
  {
   "cell_type": "code",
   "execution_count": null,
   "id": "a3f8f36f",
   "metadata": {},
   "outputs": [],
   "source": [
    "#     def button1_clicked(self):\n",
    "#         self.open_directory_dialog()\n",
    "#         self.button2.setEnabled(True)\n",
    "#         self.uuid_prefix = get_uuid_prefix(self.dir_name, self.exp_list)\n",
    "#         self.textbox1.setText(self.uuid_prefix)\n",
    "#         self.textbox1.setEnabled(True)\n",
    "#         self.textbox2.setEnabled(True)\n",
    "\n",
    "#     def button2_clicked(self):\n",
    "#         print('Generating metadata...')\n",
    "\n",
    "#         self.uuid = self.textbox1.text()\n",
    "#         self.notes = self.textbox2.toPlainText()\n",
    "\n",
    "#         gen_metadata(self.dir_name, self.exp_list, uuid=self.uuid, notes=self.notes)\n",
    "#         gen_metadata_exp(self.dir_name, self.exp_list)\n",
    "\n",
    "#         self.button3.setEnabled(True)\n",
    "\n",
    "#     def button3_clicked(self):\n",
    "#         print('Uploading to S3...')\n",
    "#         self.button3.setText(\"Uploading...\")\n",
    "#         upload_dir_s3(self.uuid, self.dir_name, self.exp_list,app=self)\n",
    "\n",
    "#         # self.label4 = QLabel(self)\n",
    "#         # self.label4.setFixedWidth(400)\n",
    "#         # self.label4.move(0, 380)\n",
    "#         # self.label4.setText('COMPLETE')\n",
    "\n",
    "\n",
    "\n",
    "\n",
    "#     def open_directory_dialog(self):\n",
    "#         options = QFileDialog.Options()\n",
    "#         options |= QFileDialog.DontUseNativeDialog\n",
    "#         self.dir_name = str(\n",
    "#             QFileDialog.getExistingDirectory(self, \"Experiment Directory for S3 upload\", options=options))\n",
    "\n",
    "#         self.label1.setText(self.dir_name)\n",
    "\n",
    "#         self.exp_list = get_experiments(self.dir_name)\n",
    "#         self.label2.setText('\\n'.join(self.exp_list))"
   ]
  },
  {
   "cell_type": "markdown",
   "id": "0682d412",
   "metadata": {},
   "source": [
    "### Functions"
   ]
  },
  {
   "cell_type": "code",
   "execution_count": null,
   "id": "e7e17493",
   "metadata": {},
   "outputs": [],
   "source": [
    "# Methods for creating metadata\n",
    "# def get_experiments(exp_path=''):\n",
    "#     print(exp_path)\n",
    "#     exp_list = glob.glob(exp_path + '/' + '*.h5')\n",
    "#     for i, exp in enumerate(exp_list):\n",
    "\n",
    "#         try:\n",
    "#             with h5py.File(exp, \"r\") as f:\n",
    "#                 pass\n",
    "\n",
    "#         except OSError:\n",
    "#             msg = QMessageBox()\n",
    "#             msg.setIcon(QMessageBox.Warning)\n",
    "\n",
    "#             msg.setText(f'The file {exp} could not be read!')\n",
    "#             msg.setWindowTitle(\"Warning\")\n",
    "#             msg.setStandardButtons(QMessageBox.Ok | QMessageBox.Cancel)\n",
    "#             retval = msg.exec_()\n",
    "#             exp_list.remove(exp)\n",
    "\n",
    "#     return exp_list\n",
    "\n",
    "\n",
    "# def get_uuid_prefix(dir_name, exp_list):\n",
    "#     f = h5py.File(exp_list[0], \"r\")\n",
    "#     keys = list(f.keys())\n",
    "#     time_stamp = str(f.get('time')[()])\n",
    "\n",
    "#     # Correct format\n",
    "#     meta_time_stamp = time_stamp[10:20] + 'T' + time_stamp[21:29]\n",
    "#     f.close()\n",
    "\n",
    "#     uuid = meta_time_stamp[:10] + '-e-'\n",
    "#     return uuid\n",
    "\n",
    "\n",
    "# def gen_metadata(dir_name, exp_list, uuid='', notes=''):\n",
    "#     # Open file\n",
    "#     with h5py.File(exp_list[0], \"r\") as f:\n",
    "#         keys = list(f.keys())\n",
    "#         time_stamp = str(f.get('time')[()])\n",
    "\n",
    "#         # Correct format\n",
    "#         meta_time_stamp = time_stamp[10:20] + 'T' + time_stamp[21:29]\n",
    "\n",
    "#     metadata = {\n",
    "#         \"experiments\": [\n",
    "#         ],\n",
    "#         \"notes\": \" \",\n",
    "#         \"timestamp\": \"\",\n",
    "#         \"uuid\": \"YYYY-MM-DD-[e]-[descriptor]\"\n",
    "#     }\n",
    "\n",
    "#     metadata['timestamp'] = meta_time_stamp\n",
    "#     metadata['uuid'] = uuid\n",
    "#     metadata['notes'] = notes\n",
    "#     metadata['experiments'] = [f\"experiment{i + 1}.json\" for i in range(len(exp_list))]\n",
    "\n",
    "#     with open(dir_name + '/' + \"metadata.json\", \"w\") as outfile:\n",
    "#         json.dump(metadata, outfile, indent=2)\n",
    "\n",
    "\n",
    "# def gen_metadata_exp(dir_name, exp_list):\n",
    "#     '''\n",
    "#     Loop through each experiment file and save corresponding metadata file\n",
    "#     '''\n",
    "#     exp_metadata = get_metadata_exp_template()\n",
    "\n",
    "#     for i, exp in enumerate(exp_list):\n",
    "\n",
    "#         print(i, exp)\n",
    "\n",
    "#         try:\n",
    "#             with h5py.File(exp, \"r\") as f:\n",
    "#                 cur_metadata = copy.copy(exp_metadata)\n",
    "\n",
    "#                 # Get keys\n",
    "#                 keys = list(f.keys())\n",
    "#                 time_stamp = str(f.get('time')[()])\n",
    "#                 # Correct time format\n",
    "#                 meta_time_stamp = time_stamp[10:20] + 'T' + time_stamp[21:29]\n",
    "\n",
    "#                 # Get blocks\n",
    "#                 shape = f.get('sig').shape\n",
    "#                 num_frames = shape[0] * shape[1]\n",
    "#                 print('Total frames * channels', num_frames)\n",
    "\n",
    "#                 # Get path\n",
    "#                 data_path = exp\n",
    "\n",
    "#                 # Set values\n",
    "#                 cur_metadata['blocks'][0]['num_frames'] = num_frames\n",
    "#                 cur_metadata['blocks'][0]['path'] = exp\n",
    "#                 cur_metadata['blocks'][0]['timestamp'] = meta_time_stamp\n",
    "#                 cur_metadata['num_channels'] = shape[0]\n",
    "#                 cur_metadata['num_voltage_channels'] = shape[0]\n",
    "#                 cur_metadata['timestamp'] = meta_time_stamp\n",
    "\n",
    "#                 # Write file\n",
    "#                 with open(dir_name + '/' + \"experiment{}.json\".format(i + 1), \"w\") as outfile:\n",
    "#                     json.dump(cur_metadata, outfile, indent=2)\n",
    "\n",
    "#         except OSError:\n",
    "#             msg = QMessageBox()\n",
    "#             msg.setIcon(QMessageBox.Warning)\n",
    "\n",
    "#             msg.setText(f'The file {exp} could not be read!')\n",
    "#             msg.setWindowTitle(\"Warning\")\n",
    "#             msg.setStandardButtons(QMessageBox.Ok | QMessageBox.Cancel)\n",
    "#             retval = msg.exec_()"
   ]
  },
  {
   "cell_type": "markdown",
   "id": "158ecc43",
   "metadata": {},
   "source": [
    "### Calling main app"
   ]
  },
  {
   "cell_type": "code",
   "execution_count": null,
   "id": "06b66b4d",
   "metadata": {},
   "outputs": [],
   "source": [
    "# if __name__ == '__main__':\n",
    "#     main_app = QApplication(sys.argv)\n",
    "#     ex = App(main_app)\n",
    "#     sys.exit(main_app.exec_())"
   ]
  },
  {
   "cell_type": "markdown",
   "id": "6ca9a94e",
   "metadata": {},
   "source": [
    "### commented out code"
   ]
  },
  {
   "cell_type": "code",
   "execution_count": null,
   "id": "159523df",
   "metadata": {},
   "outputs": [],
   "source": [
    "# filename = '210626_Stim2.raw.h5'\n",
    "# descriptor = 'Test'\n",
    "# notes = 'Test_notes'\n",
    "\n",
    "# with h5py.File(filename, \"r\") as f:\n",
    "#     # List all groups\n",
    "#     print(\"Keys: %s\" % f.keys())\n",
    "#     keys = list(f.keys())\n",
    "#     a_group_key = list(f.keys())[0]\n",
    "#     # Get the data\n",
    "#     data = list(f[a_group_key])\n",
    "#     x = f.get('sig')[()]\n",
    "#     settings = f.get('time')[()]\n",
    "#     mapping = f.get('mapping')[()]"
   ]
  },
  {
   "cell_type": "code",
   "execution_count": null,
   "id": "bd62575e",
   "metadata": {},
   "outputs": [],
   "source": [
    "\n"
   ]
  },
  {
   "cell_type": "code",
   "execution_count": null,
   "id": "32375316",
   "metadata": {},
   "outputs": [],
   "source": []
  },
  {
   "cell_type": "code",
   "execution_count": null,
   "id": "c1391e5b",
   "metadata": {},
   "outputs": [],
   "source": []
  }
 ],
 "metadata": {
  "hide_input": false,
  "kernelspec": {
   "display_name": "Python 3",
   "language": "python",
   "name": "python3"
  },
  "language_info": {
   "codemirror_mode": {
    "name": "ipython",
    "version": 3
   },
   "file_extension": ".py",
   "mimetype": "text/x-python",
   "name": "python",
   "nbconvert_exporter": "python",
   "pygments_lexer": "ipython3",
   "version": "3.9.5"
  },
  "toc": {
   "base_numbering": 1,
   "nav_menu": {},
   "number_sections": true,
   "sideBar": true,
   "skip_h1_title": false,
   "title_cell": "Table of Contents",
   "title_sidebar": "Contents",
   "toc_cell": false,
   "toc_position": {},
   "toc_section_display": true,
   "toc_window_display": false
  },
  "widgets": {
   "application/vnd.jupyter.widget-state+json": {
    "state": {
     "0156aaa6c063414da8ae6132251f30a1": {
      "model_module": "@jupyter-widgets/base",
      "model_module_version": "1.2.0",
      "model_name": "LayoutModel",
      "state": {
       "display": "none",
       "grid_gap": "0px 0px",
       "grid_template_areas": "\n            'pathlist pathlist'\n            'dircontent dircontent'\n            ",
       "grid_template_columns": "60% 40%",
       "grid_template_rows": "auto auto",
       "width": "auto"
      }
     },
     "016b146be43a45b385fd2f1895e49e3b": {
      "model_module": "@jupyter-widgets/controls",
      "model_module_version": "1.5.0",
      "model_name": "VBoxModel",
      "state": {
       "children": [
        "IPY_MODEL_19bb72d77dd545afab5f624d323697aa",
        "IPY_MODEL_bb086a88fb144b9dbd3cbfa2c897699b",
        "IPY_MODEL_f738d7d4a22344f6bbf2295eda2e1c7c"
       ],
       "layout": "IPY_MODEL_fa1c638f1dc5461abd6706e880677eba"
      }
     },
     "019f0a144a4a4c47acddf599a344060c": {
      "model_module": "@jupyter-widgets/controls",
      "model_module_version": "1.5.0",
      "model_name": "ButtonModel",
      "state": {
       "button_style": "info",
       "description": "Continue",
       "layout": "IPY_MODEL_6d9f1e6c110943619560fdb28b92a309",
       "style": "IPY_MODEL_42391bc605a84588973a7c3377175d90"
      }
     },
     "01bf1305d57c44a0a630071df950456c": {
      "model_module": "@jupyter-widgets/controls",
      "model_module_version": "1.5.0",
      "model_name": "ButtonStyleModel",
      "state": {}
     },
     "01d2c23e674a42d585c29fca967b7330": {
      "model_module": "@jupyter-widgets/base",
      "model_module_version": "1.2.0",
      "model_name": "LayoutModel",
      "state": {}
     },
     "01df4ee360b349b0aa9b6feb6758e2c5": {
      "model_module": "@jupyter-widgets/controls",
      "model_module_version": "1.5.0",
      "model_name": "ButtonModel",
      "state": {
       "button_style": "danger",
       "icon": "refresh",
       "layout": "IPY_MODEL_3dfa7ac27caf4beaa4f18a2faf2fdaf1",
       "style": "IPY_MODEL_e31282ac4fd642789abd9182347eeb42"
      }
     },
     "023242927b0b4f5cac502c9032efe7b4": {
      "model_module": "@jupyter-widgets/controls",
      "model_module_version": "1.5.0",
      "model_name": "ButtonStyleModel",
      "state": {}
     },
     "023500f0c4a845d0befd8a16d68897b2": {
      "model_module": "@jupyter-widgets/base",
      "model_module_version": "1.2.0",
      "model_name": "LayoutModel",
      "state": {
       "min_width": "6em",
       "width": "6em"
      }
     },
     "026db7c281fd4b03860df58c3ce5cd94": {
      "model_module": "@jupyter-widgets/controls",
      "model_module_version": "1.5.0",
      "model_name": "ButtonStyleModel",
      "state": {}
     },
     "02aa8923679341f8a5811704ea7135f8": {
      "model_module": "@jupyter-widgets/controls",
      "model_module_version": "1.5.0",
      "model_name": "ButtonStyleModel",
      "state": {}
     },
     "02cd15c1d2dd4e46b458f8773b4b706b": {
      "model_module": "@jupyter-widgets/base",
      "model_module_version": "1.2.0",
      "model_name": "LayoutModel",
      "state": {
       "display": "none"
      }
     },
     "035a322a374c4385817c6bd3b236dba9": {
      "model_module": "@jupyter-widgets/controls",
      "model_module_version": "1.5.0",
      "model_name": "HTMLModel",
      "state": {
       "layout": "IPY_MODEL_346be9216ea74b10bc01c5a8b5e3c993",
       "style": "IPY_MODEL_2af703ccaabc4ce99b88864bacc29be6"
      }
     },
     "03640470185f4e77af35134428163819": {
      "model_module": "@jupyter-widgets/controls",
      "model_module_version": "1.5.0",
      "model_name": "VBoxModel",
      "state": {
       "children": [
        "IPY_MODEL_0d8472f05c87486c8da91ce030dfc33a",
        "IPY_MODEL_ba91540334e54c2db023df23caf08d15",
        "IPY_MODEL_45c2d7bbd40347adb78f029927e5a7b4"
       ],
       "layout": "IPY_MODEL_fa1c638f1dc5461abd6706e880677eba"
      }
     },
     "03b896504c3e461eabba9fef74cba195": {
      "model_module": "@jupyter-widgets/base",
      "model_module_version": "1.2.0",
      "model_name": "LayoutModel",
      "state": {}
     },
     "03bc4e45c761448a92c59be7eebbda82": {
      "model_module": "@jupyter-widgets/controls",
      "model_module_version": "1.5.0",
      "model_name": "DescriptionStyleModel",
      "state": {
       "description_width": ""
      }
     },
     "03d0b6560c974ac68a5141af8de1adea": {
      "model_module": "@jupyter-widgets/controls",
      "model_module_version": "1.5.0",
      "model_name": "BoxModel",
      "state": {
       "children": [
        "IPY_MODEL_2c6c131edab242ee833654953c199373"
       ],
       "layout": "IPY_MODEL_81a6c669802b44a7bbbfdbbe72aec785"
      }
     },
     "03ff2954fdfc405fa4bd98c075481759": {
      "model_module": "@jupyter-widgets/controls",
      "model_module_version": "1.5.0",
      "model_name": "DescriptionStyleModel",
      "state": {
       "description_width": ""
      }
     },
     "052c5112eaac4f99bc75e7b0cb26449e": {
      "model_module": "@jupyter-widgets/controls",
      "model_module_version": "1.5.0",
      "model_name": "TextModel",
      "state": {
       "disabled": true,
       "layout": "IPY_MODEL_e889ec28ec9d4352899d68ed44a35096",
       "placeholder": "output filename",
       "style": "IPY_MODEL_11f7c37ebb864996bc3c1839c04bf0b3"
      }
     },
     "0572a5b519514a51a910c2e70ab1d962": {
      "model_module": "@jupyter-widgets/controls",
      "model_module_version": "1.5.0",
      "model_name": "ButtonStyleModel",
      "state": {}
     },
     "05c2e517d8d34b4c85af32f52c71286a": {
      "model_module": "@jupyter-widgets/base",
      "model_module_version": "1.2.0",
      "model_name": "LayoutModel",
      "state": {
       "display": "none",
       "grid_gap": "0px 0px",
       "grid_template_areas": "\n            'pathlist pathlist'\n            'dircontent dircontent'\n            ",
       "grid_template_columns": "60% 40%",
       "grid_template_rows": "auto auto",
       "width": "auto"
      }
     },
     "05c982cd2a8144a5adf277785e7e2ccf": {
      "model_module": "@jupyter-widgets/controls",
      "model_module_version": "1.5.0",
      "model_name": "DescriptionStyleModel",
      "state": {
       "description_width": ""
      }
     },
     "06054f3de1d3452eaff803b2538ac5b2": {
      "model_module": "@jupyter-widgets/controls",
      "model_module_version": "1.5.0",
      "model_name": "ButtonModel",
      "state": {
       "button_style": "danger",
       "description": "Restart",
       "layout": "IPY_MODEL_67703d8633384ad08c4bbccc93fafdac",
       "style": "IPY_MODEL_18e117dfe58047d897b7417120cdef7e"
      }
     },
     "065546c7f1ee40d9a28c70776ccdafc7": {
      "model_module": "@jupyter-widgets/controls",
      "model_module_version": "1.5.0",
      "model_name": "DescriptionStyleModel",
      "state": {
       "description_width": ""
      }
     },
     "065822cf6d994fa48bbcf8b1d78b9fa4": {
      "model_module": "@jupyter-widgets/base",
      "model_module_version": "1.2.0",
      "model_name": "LayoutModel",
      "state": {
       "width": "auto"
      }
     },
     "066b5711087e4b1aab59eb75879e690d": {
      "model_module": "@jupyter-widgets/controls",
      "model_module_version": "1.5.0",
      "model_name": "HTMLModel",
      "state": {
       "layout": "IPY_MODEL_d2f1c79ecd7c4ec2876dfbaf30890f21",
       "style": "IPY_MODEL_33f78e6531e14bcd8d82f60979e1ba17",
       "value": "<h4 class='text-danger'>Select a Folder to Continue</h4>"
      }
     },
     "06b91b76f0f248908a046749ad5d3257": {
      "model_module": "@jupyter-widgets/controls",
      "model_module_version": "1.5.0",
      "model_name": "HTMLModel",
      "state": {
       "layout": "IPY_MODEL_7e19ecd2884143329320096bdec081ff",
       "placeholder": "",
       "style": "IPY_MODEL_be60290919a046e78d0eaed106a70174",
       "value": "<span style=\"color:green;\">/home/mxwbio/Desktop/MxW/SampleDataSet/Organoids/5167/Activity_Scan/000003/</span>"
      }
     },
     "06dbcba0d7b843a9ade4d6310c024f73": {
      "model_module": "@jupyter-widgets/controls",
      "model_module_version": "1.5.0",
      "model_name": "HBoxModel",
      "state": {
       "children": [
        "IPY_MODEL_b2d4b9cd013c48fabe0580e059cec36c",
        "IPY_MODEL_a9668fa233104170bd5f9dee8eabe6fe",
        "IPY_MODEL_ddf42d134a37425ca1b96679d26b89aa"
       ],
       "layout": "IPY_MODEL_fa86089d3d75493d8092f2d1a6e46bef"
      }
     },
     "07242bd8f626452c9abc67759caba065": {
      "model_module": "@jupyter-widgets/controls",
      "model_module_version": "1.5.0",
      "model_name": "ButtonModel",
      "state": {
       "button_style": "success",
       "description": "Start",
       "layout": "IPY_MODEL_975f70ffda4a4447b063a037dfe1c9d3",
       "style": "IPY_MODEL_fd11a3ed4d2b434fbfe2cc3c1d178d39"
      }
     },
     "072dc9214c744dbba62cdbc36372372c": {
      "model_module": "@jupyter-widgets/controls",
      "model_module_version": "1.5.0",
      "model_name": "DescriptionStyleModel",
      "state": {
       "description_width": ""
      }
     },
     "0766d45300554259aff6d6b74e1b0b2c": {
      "model_module": "@jupyter-widgets/controls",
      "model_module_version": "1.5.0",
      "model_name": "VBoxModel",
      "state": {
       "children": [
        "IPY_MODEL_aac25b20167d4dd28a9ee08c242d90ff",
        "IPY_MODEL_da4b4cf21a27423b9ff1ea3c09644a4e",
        "IPY_MODEL_9ce2b472290443c280103ac015acfc49"
       ],
       "layout": "IPY_MODEL_e467badf394f437291622f51acfce1ec"
      }
     },
     "07ac895dea4b4f43a49ac0b3231833ff": {
      "model_module": "@jupyter-widgets/controls",
      "model_module_version": "1.5.0",
      "model_name": "ButtonModel",
      "state": {
       "description": "Cancel",
       "layout": "IPY_MODEL_6f3359eedcaf4712a578f392f8b8b1d3",
       "style": "IPY_MODEL_2d117bba88f541e7b122c8135207c804"
      }
     },
     "07d45e7604fd4a0eb7bccc6db878a332": {
      "model_module": "@jupyter-widgets/base",
      "model_module_version": "1.2.0",
      "model_name": "LayoutModel",
      "state": {}
     },
     "07e007e221db4a5cada19a7e4c0dadad": {
      "model_module": "@jupyter-widgets/controls",
      "model_module_version": "1.5.0",
      "model_name": "GridBoxModel",
      "state": {
       "children": [
        "IPY_MODEL_5ba10b398235413da77f2ccd769e43b5",
        "IPY_MODEL_1ae2174a35344219a76a70afee226ee8",
        "IPY_MODEL_4845b4d0ae944b2492aeda904630f758"
       ],
       "layout": "IPY_MODEL_298fb124bc1e4adbb0d84ebc3855aada"
      }
     },
     "0801930490dc4409b5cf19143bdfc2bc": {
      "model_module": "@jupyter-widgets/base",
      "model_module_version": "1.2.0",
      "model_name": "LayoutModel",
      "state": {
       "width": "auto"
      }
     },
     "085b0cf32820413891f480d04e45198f": {
      "model_module": "@jupyter-widgets/controls",
      "model_module_version": "1.5.0",
      "model_name": "ButtonModel",
      "state": {
       "description": "Change",
       "layout": "IPY_MODEL_1f4a990e93e04d599eec47cffee643d4",
       "style": "IPY_MODEL_7c9e1d23472a45c9aadb69d8f190c096"
      }
     },
     "0867dded4e88470fa41fd8ca802b4b26": {
      "model_module": "@jupyter-widgets/controls",
      "model_module_version": "1.5.0",
      "model_name": "DropdownModel",
      "state": {
       "_options_labels": [
        "/home/mxwbio/Desktop/MxW/SampleDataSet/Organoids/5167/Activity_Scan/000003",
        "/home/mxwbio/Desktop/MxW/SampleDataSet/Organoids/5167/Activity_Scan",
        "/home/mxwbio/Desktop/MxW/SampleDataSet/Organoids/5167",
        "/home/mxwbio/Desktop/MxW/SampleDataSet/Organoids",
        "/home/mxwbio/Desktop/MxW/SampleDataSet",
        "/home/mxwbio/Desktop/MxW",
        "/home/mxwbio/Desktop",
        "/home/mxwbio",
        "/home",
        "/"
       ],
       "index": 0,
       "layout": "IPY_MODEL_da27c81c7eeb449bb3b9d4db002c639c",
       "style": "IPY_MODEL_80e0b90823b4438eb556e9a2fd786344"
      }
     },
     "0923768856cb4ef58d31f85e2d3119fb": {
      "model_module": "@jupyter-widgets/base",
      "model_module_version": "1.2.0",
      "model_name": "LayoutModel",
      "state": {
       "grid_gap": "0px 0px",
       "grid_template_areas": "\n            'pathlist pathlist'\n            'dircontent dircontent'\n            ",
       "grid_template_columns": "60% 40%",
       "grid_template_rows": "auto auto",
       "width": "auto"
      }
     },
     "0924d9153e604c7186ac1450509c9e18": {
      "model_module": "@jupyter-widgets/controls",
      "model_module_version": "1.5.0",
      "model_name": "ButtonModel",
      "state": {
       "description": "Cancel",
       "layout": "IPY_MODEL_e947a731cd3a4e9ba0301b4e2631195a",
       "style": "IPY_MODEL_026db7c281fd4b03860df58c3ce5cd94"
      }
     },
     "0a0dd41f6d2c453ca3b151239968d72f": {
      "model_module": "@jupyter-widgets/base",
      "model_module_version": "1.2.0",
      "model_name": "LayoutModel",
      "state": {
       "width": "auto"
      }
     },
     "0a4a71a988f9404ab04c41d9605a5bfd": {
      "model_module": "@jupyter-widgets/controls",
      "model_module_version": "1.5.0",
      "model_name": "ButtonStyleModel",
      "state": {}
     },
     "0a4a80cd4f474bec95208d35547886f2": {
      "model_module": "@jupyter-widgets/controls",
      "model_module_version": "1.5.0",
      "model_name": "TextareaModel",
      "state": {
       "layout": "IPY_MODEL_b3a5832d01e145d58bb558d099bb2d47",
       "style": "IPY_MODEL_25fd586a71744092b9428582114e2437"
      }
     },
     "0a5767d379e1462ca47e542d8aeabfb1": {
      "model_module": "@jupyter-widgets/controls",
      "model_module_version": "1.5.0",
      "model_name": "DescriptionStyleModel",
      "state": {
       "description_width": ""
      }
     },
     "0a891a9fdc3443ddb119c515bc11d3f0": {
      "model_module": "@jupyter-widgets/base",
      "model_module_version": "1.2.0",
      "model_name": "LayoutModel",
      "state": {}
     },
     "0a8d20dd17d6493698a14e6271df76cf": {
      "model_module": "@jupyter-widgets/base",
      "model_module_version": "1.2.0",
      "model_name": "LayoutModel",
      "state": {}
     },
     "0b0c201443b34c3aaa9c2042c42ee31f": {
      "model_module": "@jupyter-widgets/base",
      "model_module_version": "1.2.0",
      "model_name": "LayoutModel",
      "state": {
       "display": "none",
       "min_width": "6em",
       "width": "6em"
      }
     },
     "0b4331b229494147986a14262b7a07c7": {
      "model_module": "@jupyter-widgets/controls",
      "model_module_version": "1.5.0",
      "model_name": "HTMLModel",
      "state": {
       "layout": "IPY_MODEL_548359ffee33418f887c596f0c9bf52f",
       "style": "IPY_MODEL_94919f1ebdea4bb28db888020507f815"
      }
     },
     "0b7deba39e024bc4b25c8edf6ab41243": {
      "model_module": "@jupyter-widgets/controls",
      "model_module_version": "1.5.0",
      "model_name": "DescriptionStyleModel",
      "state": {
       "description_width": ""
      }
     },
     "0c28f68e92494188ad6bb0c447e88246": {
      "model_module": "@jupyter-widgets/base",
      "model_module_version": "1.2.0",
      "model_name": "LayoutModel",
      "state": {
       "display": "none",
       "min_width": "6em",
       "width": "6em"
      }
     },
     "0c5b5bca874346f5aa7ebf366716a848": {
      "model_module": "@jupyter-widgets/controls",
      "model_module_version": "1.5.0",
      "model_name": "DescriptionStyleModel",
      "state": {
       "description_width": ""
      }
     },
     "0c8b2fac9d784d90b4f5572c62a3539e": {
      "model_module": "@jupyter-widgets/controls",
      "model_module_version": "1.5.0",
      "model_name": "ButtonModel",
      "state": {
       "button_style": "success",
       "description": "Upload",
       "layout": "IPY_MODEL_b49af3f53e8a4ab68949db76d5ac8df2",
       "style": "IPY_MODEL_da2f3717310142f88669e1a1cd4f4f04"
      }
     },
     "0ca3ae072d0d48f2a9182761c15ce78f": {
      "model_module": "@jupyter-widgets/base",
      "model_module_version": "1.2.0",
      "model_name": "LayoutModel",
      "state": {}
     },
     "0d0b614796a445ee8ef97c315bef4472": {
      "model_module": "@jupyter-widgets/controls",
      "model_module_version": "1.5.0",
      "model_name": "DescriptionStyleModel",
      "state": {
       "description_width": ""
      }
     },
     "0d48ccc8e49e4af1a936a0717ec26f06": {
      "model_module": "@jupyter-widgets/base",
      "model_module_version": "1.2.0",
      "model_name": "LayoutModel",
      "state": {
       "width": "auto"
      }
     },
     "0d631d9a7c1f4bf0a319ec1a2b46a418": {
      "model_module": "@jupyter-widgets/base",
      "model_module_version": "1.2.0",
      "model_name": "LayoutModel",
      "state": {}
     },
     "0d8472f05c87486c8da91ce030dfc33a": {
      "model_module": "@jupyter-widgets/controls",
      "model_module_version": "1.5.0",
      "model_name": "HTMLModel",
      "state": {
       "layout": "IPY_MODEL_dea4ae084a054fcda2d2ba5ea712fa24",
       "style": "IPY_MODEL_5a143d03a3c54e3d8341b5eefdcb4c9b"
      }
     },
     "0d8bc3d1fb664ef8899ea47925382a8b": {
      "model_module": "@jupyter-widgets/base",
      "model_module_version": "1.2.0",
      "model_name": "LayoutModel",
      "state": {
       "width": "auto"
      }
     },
     "0e0be86a6f274b52ab20dece64893c53": {
      "model_module": "@jupyter-widgets/controls",
      "model_module_version": "1.5.0",
      "model_name": "DropdownModel",
      "state": {
       "_options_labels": [
        "/home/mxwbio/wetai/homepage",
        "/home/mxwbio/wetai",
        "/home/mxwbio",
        "/home",
        "/"
       ],
       "index": 0,
       "layout": "IPY_MODEL_5d494d18c7ef4e058d4556fd1cca5267",
       "style": "IPY_MODEL_a1c4bbcb83d24d2ba74812211c8b6c82"
      }
     },
     "0e3c0d64a2e244858813c71302b9baa8": {
      "model_module": "@jupyter-widgets/base",
      "model_module_version": "1.2.0",
      "model_name": "LayoutModel",
      "state": {
       "display": "none",
       "grid_area": "filename",
       "width": "auto"
      }
     },
     "0e8ba9acddb04af2afcf737d870091dc": {
      "model_module": "@jupyter-widgets/controls",
      "model_module_version": "1.5.0",
      "model_name": "DescriptionStyleModel",
      "state": {
       "description_width": ""
      }
     },
     "0ea4cdf7087244468f9e74962df76159": {
      "model_module": "@jupyter-widgets/controls",
      "model_module_version": "1.5.0",
      "model_name": "ButtonModel",
      "state": {
       "description": "Change",
       "layout": "IPY_MODEL_a3209fc46f9949c6898092e497e0a21b",
       "style": "IPY_MODEL_7418626e997b44929ea7cb882d965a26"
      }
     },
     "0ee1168a859f4539bec546eba0326873": {
      "model_module": "@jupyter-widgets/base",
      "model_module_version": "1.2.0",
      "model_name": "LayoutModel",
      "state": {
       "display": "none",
       "min_width": "6em",
       "width": "6em"
      }
     },
     "0f14df01c6d646439bae122d5166b72d": {
      "model_module": "@jupyter-widgets/base",
      "model_module_version": "1.2.0",
      "model_name": "LayoutModel",
      "state": {
       "width": "auto"
      }
     },
     "0f76ba091b7b48eb98cbd67bb80cfa7e": {
      "model_module": "@jupyter-widgets/controls",
      "model_module_version": "1.5.0",
      "model_name": "DescriptionStyleModel",
      "state": {
       "description_width": ""
      }
     },
     "0f8fb580141946699354480f5264bf86": {
      "model_module": "@jupyter-widgets/controls",
      "model_module_version": "1.5.0",
      "model_name": "ButtonModel",
      "state": {
       "button_style": "info",
       "description": "Continue",
       "layout": "IPY_MODEL_82614531b4d246909e2ef63f20c7bde9",
       "style": "IPY_MODEL_60bc1f5efa4d4ae997bdd0fcb883290b"
      }
     },
     "0f9ebad9357a4622bb8f8de3b895da2f": {
      "model_module": "@jupyter-widgets/controls",
      "model_module_version": "1.5.0",
      "model_name": "ButtonStyleModel",
      "state": {}
     },
     "1009cb27f8cd46faaa0693d804ee9f67": {
      "model_module": "@jupyter-widgets/controls",
      "model_module_version": "1.5.0",
      "model_name": "BoxModel",
      "state": {
       "children": [
        "IPY_MODEL_f5052df3271f4d969b4d22d63b030050"
       ],
       "layout": "IPY_MODEL_85be891031184f3aa81b0f707b8af41f"
      }
     },
     "10100cfffe0047fa9aa51a297eff7800": {
      "model_module": "@jupyter-widgets/controls",
      "model_module_version": "1.5.0",
      "model_name": "ButtonModel",
      "state": {
       "description": "Select",
       "layout": "IPY_MODEL_a29328499b8c4891b16a8a3a2a70d55b",
       "style": "IPY_MODEL_c654444ca4064113bbc9a49bb0ec50d1"
      }
     },
     "1040d9bede1f42a394720459810dfdb4": {
      "model_module": "@jupyter-widgets/controls",
      "model_module_version": "1.5.0",
      "model_name": "ButtonStyleModel",
      "state": {}
     },
     "1070c944d7e248a88a8c6214bcb12c83": {
      "model_module": "@jupyter-widgets/base",
      "model_module_version": "1.2.0",
      "model_name": "LayoutModel",
      "state": {
       "visibility": "hidden"
      }
     },
     "107d6d017aa543348aa7bb17133d125a": {
      "model_module": "@jupyter-widgets/controls",
      "model_module_version": "1.5.0",
      "model_name": "ButtonModel",
      "state": {
       "button_style": "danger",
       "icon": "refresh",
       "layout": "IPY_MODEL_21c475a70acb4502b9b4af6219245407",
       "style": "IPY_MODEL_971df0a9e16842f18f3eebc915297789"
      }
     },
     "10bc649077e946e9aabed958e658176b": {
      "model_module": "@jupyter-widgets/controls",
      "model_module_version": "1.5.0",
      "model_name": "TextareaModel",
      "state": {
       "layout": "IPY_MODEL_37fc1605d22d4b8c8b843d63f75292de",
       "style": "IPY_MODEL_1fffbf2d45e44844803652f3d57a6977"
      }
     },
     "10c699dbaca44cd4af7f0b2b5d9723e0": {
      "model_module": "@jupyter-widgets/controls",
      "model_module_version": "1.5.0",
      "model_name": "DropdownModel",
      "state": {
       "_options_labels": [
        "/home/mxwbio/Desktop/MxW/SampleDataSet/Organoids/5167/Activity_Scan/000003",
        "/home/mxwbio/Desktop/MxW/SampleDataSet/Organoids/5167/Activity_Scan",
        "/home/mxwbio/Desktop/MxW/SampleDataSet/Organoids/5167",
        "/home/mxwbio/Desktop/MxW/SampleDataSet/Organoids",
        "/home/mxwbio/Desktop/MxW/SampleDataSet",
        "/home/mxwbio/Desktop/MxW",
        "/home/mxwbio/Desktop",
        "/home/mxwbio",
        "/home",
        "/"
       ],
       "index": 0,
       "layout": "IPY_MODEL_759d32b1fc1f44a29fee30bf06260657",
       "style": "IPY_MODEL_10ffe6abb3bb4359a80ee8ddefb11b29"
      }
     },
     "10d42b4e63764810afed848f9b4958b8": {
      "model_module": "@jupyter-widgets/base",
      "model_module_version": "1.2.0",
      "model_name": "LayoutModel",
      "state": {
       "display": "none",
       "min_width": "6em",
       "width": "6em"
      }
     },
     "10ffe6abb3bb4359a80ee8ddefb11b29": {
      "model_module": "@jupyter-widgets/controls",
      "model_module_version": "1.5.0",
      "model_name": "DescriptionStyleModel",
      "state": {
       "description_width": ""
      }
     },
     "114d7d6d91794b0b9ca853ad62db24c0": {
      "model_module": "@jupyter-widgets/base",
      "model_module_version": "1.2.0",
      "model_name": "LayoutModel",
      "state": {}
     },
     "1162c9e387f840f0b0b389c5aecfbf6d": {
      "model_module": "@jupyter-widgets/base",
      "model_module_version": "1.2.0",
      "model_name": "LayoutModel",
      "state": {
       "grid_area": "pathlist",
       "width": "auto"
      }
     },
     "11f7c37ebb864996bc3c1839c04bf0b3": {
      "model_module": "@jupyter-widgets/controls",
      "model_module_version": "1.5.0",
      "model_name": "DescriptionStyleModel",
      "state": {
       "description_width": ""
      }
     },
     "121f55b779ca449dbda412dff21aa1b2": {
      "model_module": "@jupyter-widgets/controls",
      "model_module_version": "1.5.0",
      "model_name": "ButtonModel",
      "state": {
       "button_style": "danger",
       "icon": "refresh",
       "layout": "IPY_MODEL_a89b93adbaff496d8719a4c66b4e866d",
       "style": "IPY_MODEL_672a5a0c1ace4496a460760c5dd29821"
      }
     },
     "1241b47d208c4c3996e2311552849e07": {
      "model_module": "@jupyter-widgets/controls",
      "model_module_version": "1.5.0",
      "model_name": "ButtonModel",
      "state": {
       "button_style": "info",
       "description": "Continue",
       "layout": "IPY_MODEL_b6559618adde4409abf866104eb159d3",
       "style": "IPY_MODEL_36a946ae39cb4b71bb36f1fdc175b6df"
      }
     },
     "1244674c87c44934a3af62dd356bf35f": {
      "model_module": "@jupyter-widgets/base",
      "model_module_version": "1.2.0",
      "model_name": "LayoutModel",
      "state": {}
     },
     "129f10f5635b4b3fb8572a06a8c0b3cd": {
      "model_module": "@jupyter-widgets/controls",
      "model_module_version": "1.5.0",
      "model_name": "TextareaModel",
      "state": {
       "layout": "IPY_MODEL_6c3a70e5ba564a0eaae262a6714e1514",
       "style": "IPY_MODEL_a09925be8f3b4631adc6041aa3a591a6"
      }
     },
     "14fc571e6ec04efeb95e618b76544e49": {
      "model_module": "@jupyter-widgets/base",
      "model_module_version": "1.2.0",
      "model_name": "LayoutModel",
      "state": {
       "display": "none",
       "grid_gap": "0px 0px",
       "grid_template_areas": "\n            'pathlist pathlist'\n            'dircontent dircontent'\n            ",
       "grid_template_columns": "60% 40%",
       "grid_template_rows": "auto auto",
       "width": "auto"
      }
     },
     "15826d0922f147d7a927ed8230c102a1": {
      "model_module": "@jupyter-widgets/controls",
      "model_module_version": "1.5.0",
      "model_name": "DropdownModel",
      "state": {
       "_options_labels": [
        "/home/mxwbio/wetai/homepage",
        "/home/mxwbio/wetai",
        "/home/mxwbio",
        "/home",
        "/"
       ],
       "index": 0,
       "layout": "IPY_MODEL_1162c9e387f840f0b0b389c5aecfbf6d",
       "style": "IPY_MODEL_3e8405cc0d954f1e805470f33338eede"
      }
     },
     "161a5c41ecda405f8d8e0265ad1d0c4e": {
      "model_module": "@jupyter-widgets/controls",
      "model_module_version": "1.5.0",
      "model_name": "SelectModel",
      "state": {
       "_options_labels": [
        "📁 ..",
        "📁 Apps",
        "📁 Projects"
       ],
       "index": null,
       "layout": "IPY_MODEL_793fc050e9ea48118ca3252736462059",
       "rows": 8,
       "style": "IPY_MODEL_d0dd4634f927495b887c7805b2f0c07d"
      }
     },
     "178d62eb329c4e4d976b16f39bad8d09": {
      "model_module": "@jupyter-widgets/base",
      "model_module_version": "1.2.0",
      "model_name": "LayoutModel",
      "state": {
       "width": "auto"
      }
     },
     "17c48b3d43ce46638ee332e428929365": {
      "model_module": "@jupyter-widgets/controls",
      "model_module_version": "1.5.0",
      "model_name": "DescriptionStyleModel",
      "state": {
       "description_width": ""
      }
     },
     "18b70a53ae524fdea313a182aeaa0e17": {
      "model_module": "@jupyter-widgets/controls",
      "model_module_version": "1.5.0",
      "model_name": "ButtonStyleModel",
      "state": {}
     },
     "18e117dfe58047d897b7417120cdef7e": {
      "model_module": "@jupyter-widgets/controls",
      "model_module_version": "1.5.0",
      "model_name": "ButtonStyleModel",
      "state": {}
     },
     "19bb72d77dd545afab5f624d323697aa": {
      "model_module": "@jupyter-widgets/controls",
      "model_module_version": "1.5.0",
      "model_name": "HTMLModel",
      "state": {
       "layout": "IPY_MODEL_9ddd2a5a52464daa9b47147b82b32141",
       "style": "IPY_MODEL_c9fc991568914efb9d34886a8c6d1a9d"
      }
     },
     "19d090be322f4bcb80386c5ff797c41c": {
      "model_module": "@jupyter-widgets/controls",
      "model_module_version": "1.5.0",
      "model_name": "DescriptionStyleModel",
      "state": {
       "description_width": ""
      }
     },
     "1a438a8cade94d6195d4c6cab10f8abd": {
      "model_module": "@jupyter-widgets/controls",
      "model_module_version": "1.5.0",
      "model_name": "SelectModel",
      "state": {
       "_options_labels": [
        "📁 .."
       ],
       "index": null,
       "layout": "IPY_MODEL_6f76089436a04585bf414830d377b858",
       "rows": 8,
       "style": "IPY_MODEL_773ca8988ca942479195269c16ab265a"
      }
     },
     "1a57d0362d3d437784e7a6072b0ee1b7": {
      "model_module": "@jupyter-widgets/controls",
      "model_module_version": "1.5.0",
      "model_name": "HTMLModel",
      "state": {
       "layout": "IPY_MODEL_671bb5ab69dd46289e7b953f87289524",
       "style": "IPY_MODEL_c43f29088d6740a292fb9845824e2392",
       "value": "<h4 class='text-danger'>Select a Folder to Continue</h4>"
      }
     },
     "1ae2174a35344219a76a70afee226ee8": {
      "model_module": "@jupyter-widgets/controls",
      "model_module_version": "1.5.0",
      "model_name": "TextModel",
      "state": {
       "disabled": true,
       "layout": "IPY_MODEL_b0869aa9e2f94c7b9e13992e2c055f9c",
       "placeholder": "output filename",
       "style": "IPY_MODEL_66f21f99b73f4777b7014275d4e44a07"
      }
     },
     "1aff3a1aad8645be84beb021cc821b61": {
      "model_module": "@jupyter-widgets/controls",
      "model_module_version": "1.5.0",
      "model_name": "HTMLModel",
      "state": {
       "layout": "IPY_MODEL_27eedc5b4d8b4cb495d9f5bddbd23dea",
       "style": "IPY_MODEL_2a38bc83c22f4cf99f7096fa931303cb",
       "value": "<h4 class='text-danger'>Select a Folder to Continue</h4>"
      }
     },
     "1b07b26d289d40f5bcbe6e2978f225b2": {
      "model_module": "@jupyter-widgets/base",
      "model_module_version": "1.2.0",
      "model_name": "LayoutModel",
      "state": {
       "grid_area": "pathlist",
       "width": "auto"
      }
     },
     "1b6cc50d05bb4302abbb3f5d5a2bea57": {
      "model_module": "@jupyter-widgets/controls",
      "model_module_version": "1.5.0",
      "model_name": "DescriptionStyleModel",
      "state": {
       "description_width": ""
      }
     },
     "1b7d0d20c5e5433f91debe90a0bb4046": {
      "model_module": "@jupyter-widgets/controls",
      "model_module_version": "1.5.0",
      "model_name": "ButtonModel",
      "state": {
       "description": "Select",
       "layout": "IPY_MODEL_96edf807c53741f08bbe719c23ce79dc",
       "style": "IPY_MODEL_65e952ed415c49afaf98b5304c8891b8"
      }
     },
     "1bac0883e71042358a7741a879824863": {
      "model_module": "@jupyter-widgets/controls",
      "model_module_version": "1.5.0",
      "model_name": "ButtonModel",
      "state": {
       "description": "Cancel",
       "layout": "IPY_MODEL_0b0c201443b34c3aaa9c2042c42ee31f",
       "style": "IPY_MODEL_34d80db581e54a3282bea02206c8928b"
      }
     },
     "1bb01bcad2f14509a9e4c00820ff4b06": {
      "model_module": "@jupyter-widgets/controls",
      "model_module_version": "1.5.0",
      "model_name": "DropdownModel",
      "state": {
       "_options_labels": [
        "/home/mxwbio/wetai/homepage/Projects",
        "/home/mxwbio/wetai/homepage",
        "/home/mxwbio/wetai",
        "/home/mxwbio",
        "/home",
        "/"
       ],
       "index": 0,
       "layout": "IPY_MODEL_ed7ffc3272e0490d857bacc583920669",
       "style": "IPY_MODEL_03bc4e45c761448a92c59be7eebbda82"
      }
     },
     "1c6236503fa84980a01ddc1202a885f5": {
      "model_module": "@jupyter-widgets/base",
      "model_module_version": "1.2.0",
      "model_name": "LayoutModel",
      "state": {}
     },
     "1c708dc0210f4505a451bbf28683cf03": {
      "model_module": "@jupyter-widgets/base",
      "model_module_version": "1.2.0",
      "model_name": "LayoutModel",
      "state": {}
     },
     "1c7f0a2fa71f4a86ae6e41d2aa522eb1": {
      "model_module": "@jupyter-widgets/controls",
      "model_module_version": "1.5.0",
      "model_name": "DescriptionStyleModel",
      "state": {
       "description_width": ""
      }
     },
     "1ce6894e7d7f4636aa5ba3b83c95a0cd": {
      "model_module": "@jupyter-widgets/controls",
      "model_module_version": "1.5.0",
      "model_name": "HTMLModel",
      "state": {
       "layout": "IPY_MODEL_f5d5d5510fac4bc2b8d99ac0d3a50b0b",
       "style": "IPY_MODEL_441c9fe8519d45b9803d5a11b250a706",
       "value": "<h2 class='text-danger'>Select a Folder to Continue</h2>"
      }
     },
     "1d4b8c0b90f245d78f0add89e9bceb88": {
      "model_module": "@jupyter-widgets/base",
      "model_module_version": "1.2.0",
      "model_name": "LayoutModel",
      "state": {
       "overflow": "auto"
      }
     },
     "1d7e99d243484332b9d5f1dc5539df5d": {
      "model_module": "@jupyter-widgets/controls",
      "model_module_version": "1.5.0",
      "model_name": "DescriptionStyleModel",
      "state": {
       "description_width": ""
      }
     },
     "1dee8412557c4305b57d5b3b356a99ef": {
      "model_module": "@jupyter-widgets/controls",
      "model_module_version": "1.5.0",
      "model_name": "DescriptionStyleModel",
      "state": {
       "description_width": ""
      }
     },
     "1e478905da5340868b9b3552e9fddb79": {
      "model_module": "@jupyter-widgets/controls",
      "model_module_version": "1.5.0",
      "model_name": "DescriptionStyleModel",
      "state": {
       "description_width": ""
      }
     },
     "1e97853a1c2c4e8eb1add1b410143404": {
      "model_module": "@jupyter-widgets/controls",
      "model_module_version": "1.5.0",
      "model_name": "ButtonStyleModel",
      "state": {}
     },
     "1f0c3b22e0cf446da1f147909b3eaa10": {
      "model_module": "@jupyter-widgets/controls",
      "model_module_version": "1.5.0",
      "model_name": "DescriptionStyleModel",
      "state": {
       "description_width": ""
      }
     },
     "1f4a990e93e04d599eec47cffee643d4": {
      "model_module": "@jupyter-widgets/base",
      "model_module_version": "1.2.0",
      "model_name": "LayoutModel",
      "state": {
       "min_width": "6em",
       "width": "6em"
      }
     },
     "1f5b9a32288d4bad85b93d108b2b6a51": {
      "model_module": "@jupyter-widgets/controls",
      "model_module_version": "1.5.0",
      "model_name": "DescriptionStyleModel",
      "state": {
       "description_width": ""
      }
     },
     "1fa21ef91b754d268b7c2172a5bd79af": {
      "model_module": "@jupyter-widgets/base",
      "model_module_version": "1.2.0",
      "model_name": "LayoutModel",
      "state": {
       "width": "auto"
      }
     },
     "1fb791a45f5548a2aaa82c7ec411292d": {
      "model_module": "@jupyter-widgets/base",
      "model_module_version": "1.2.0",
      "model_name": "LayoutModel",
      "state": {
       "overflow": "auto"
      }
     },
     "1fffbf2d45e44844803652f3d57a6977": {
      "model_module": "@jupyter-widgets/controls",
      "model_module_version": "1.5.0",
      "model_name": "DescriptionStyleModel",
      "state": {
       "description_width": ""
      }
     },
     "2071756c7e924422842cbb9e71fc1242": {
      "model_module": "@jupyter-widgets/controls",
      "model_module_version": "1.5.0",
      "model_name": "ButtonStyleModel",
      "state": {}
     },
     "2073ca5062dc41339a5a8a66b5e7693c": {
      "model_module": "@jupyter-widgets/controls",
      "model_module_version": "1.5.0",
      "model_name": "DescriptionStyleModel",
      "state": {
       "description_width": ""
      }
     },
     "2119e7b7c75d4d7091f512c3f24753c4": {
      "model_module": "@jupyter-widgets/controls",
      "model_module_version": "1.5.0",
      "model_name": "DescriptionStyleModel",
      "state": {
       "description_width": ""
      }
     },
     "212ec4fdd22a40609b103cd9dfb67675": {
      "model_module": "@jupyter-widgets/controls",
      "model_module_version": "1.5.0",
      "model_name": "DescriptionStyleModel",
      "state": {
       "description_width": ""
      }
     },
     "2142762aaa1045e58c1f6a4e77c61f84": {
      "model_module": "@jupyter-widgets/controls",
      "model_module_version": "1.5.0",
      "model_name": "ButtonModel",
      "state": {
       "button_style": "danger",
       "description": "Restart",
       "layout": "IPY_MODEL_be8c8d7d56cf4e099b516c1100b60fc6",
       "style": "IPY_MODEL_361c3d6bd8cd4a61832bfa1ad1a96d5e"
      }
     },
     "217597a584764591aad793a1fc885376": {
      "model_module": "@jupyter-widgets/controls",
      "model_module_version": "1.5.0",
      "model_name": "BoxModel",
      "state": {
       "children": [
        "IPY_MODEL_dc7a803cf30942949f8197909febc5c1"
       ],
       "layout": "IPY_MODEL_8bc4f728687047ad9d64134687a8e1e7"
      }
     },
     "21c475a70acb4502b9b4af6219245407": {
      "model_module": "@jupyter-widgets/base",
      "model_module_version": "1.2.0",
      "model_name": "LayoutModel",
      "state": {
       "width": "auto"
      }
     },
     "21cb4a5d775d4fadaa1784e9e91fb8f7": {
      "model_module": "@jupyter-widgets/controls",
      "model_module_version": "1.5.0",
      "model_name": "ButtonStyleModel",
      "state": {}
     },
     "21e5f9e2a5b541418d953c9e844b132a": {
      "model_module": "@jupyter-widgets/base",
      "model_module_version": "1.2.0",
      "model_name": "LayoutModel",
      "state": {}
     },
     "21e77808690442f2a139bf86dd1ad564": {
      "model_module": "@jupyter-widgets/controls",
      "model_module_version": "1.5.0",
      "model_name": "HTMLModel",
      "state": {
       "layout": "IPY_MODEL_4780c20bbdb9485a974e34ac4a47ccf3",
       "placeholder": "",
       "style": "IPY_MODEL_17c48b3d43ce46638ee332e428929365",
       "value": "<span style=\"color:black;\">No selection</span>"
      }
     },
     "2234fc543e2d460c974522541df813e1": {
      "model_module": "@jupyter-widgets/controls",
      "model_module_version": "1.5.0",
      "model_name": "TextModel",
      "state": {
       "disabled": true,
       "layout": "IPY_MODEL_c48d394ed03d4e0e840d53bb49bb43ab",
       "placeholder": "output filename",
       "style": "IPY_MODEL_af4879e384db444ea015731d30994e47"
      }
     },
     "228c82f0bd3a49d28a24fcaf7fcb589f": {
      "model_module": "@jupyter-widgets/base",
      "model_module_version": "1.2.0",
      "model_name": "LayoutModel",
      "state": {
       "display": "none",
       "grid_area": "filename",
       "width": "auto"
      }
     },
     "230e8f3841cd42949e74ea688b69bb65": {
      "model_module": "@jupyter-widgets/controls",
      "model_module_version": "1.5.0",
      "model_name": "ButtonStyleModel",
      "state": {}
     },
     "235ecc7c60244a9ebc58d9a65ec45675": {
      "model_module": "@jupyter-widgets/controls",
      "model_module_version": "1.5.0",
      "model_name": "DescriptionStyleModel",
      "state": {
       "description_width": ""
      }
     },
     "23a782c98ca54066a34631adf3e4ac7c": {
      "model_module": "@jupyter-widgets/controls",
      "model_module_version": "1.5.0",
      "model_name": "ButtonModel",
      "state": {
       "button_style": "info",
       "description": "Continue",
       "layout": "IPY_MODEL_d07ff9eed76f47d69413609d09370efa",
       "style": "IPY_MODEL_c40124028bfa4478b19cc954a8cd21fc"
      }
     },
     "23b4946149f24baa889537cfe3347a78": {
      "model_module": "@jupyter-widgets/controls",
      "model_module_version": "1.5.0",
      "model_name": "TextModel",
      "state": {
       "description": "UUID",
       "layout": "IPY_MODEL_1c708dc0210f4505a451bbf28683cf03",
       "style": "IPY_MODEL_910767a437bc4295bebf62f7f4ca1f60"
      }
     },
     "23b7130937494ec29d0367a0a5ea0811": {
      "model_module": "@jupyter-widgets/base",
      "model_module_version": "1.2.0",
      "model_name": "LayoutModel",
      "state": {
       "display": "none",
       "grid_gap": "0px 0px",
       "grid_template_areas": "\n            'pathlist pathlist'\n            'dircontent dircontent'\n            ",
       "grid_template_columns": "60% 40%",
       "grid_template_rows": "auto auto",
       "width": "auto"
      }
     },
     "23f8a8ed18dd48a88937bc4dc615cef2": {
      "model_module": "@jupyter-widgets/base",
      "model_module_version": "1.2.0",
      "model_name": "LayoutModel",
      "state": {
       "grid_area": "dircontent",
       "width": "auto"
      }
     },
     "243d9e0c93a54dafa82e2af8c71b7da7": {
      "model_module": "@jupyter-widgets/base",
      "model_module_version": "1.2.0",
      "model_name": "LayoutModel",
      "state": {}
     },
     "24f85dce0171471bbe18add4e5b55275": {
      "model_module": "@jupyter-widgets/controls",
      "model_module_version": "1.5.0",
      "model_name": "ButtonStyleModel",
      "state": {}
     },
     "24fba389cb024421b761fd94122245ff": {
      "model_module": "@jupyter-widgets/base",
      "model_module_version": "1.2.0",
      "model_name": "LayoutModel",
      "state": {
       "grid_area": "dircontent",
       "width": "auto"
      }
     },
     "251baac9cad844b58f2aa99680b5b913": {
      "model_module": "@jupyter-widgets/base",
      "model_module_version": "1.2.0",
      "model_name": "LayoutModel",
      "state": {
       "visibility": "hidden"
      }
     },
     "25a83c693dc24f55addd9fa3406e9d02": {
      "model_module": "@jupyter-widgets/controls",
      "model_module_version": "1.5.0",
      "model_name": "ButtonStyleModel",
      "state": {}
     },
     "25b90d630ea34cec925cea3256598ab7": {
      "model_module": "@jupyter-widgets/base",
      "model_module_version": "1.2.0",
      "model_name": "LayoutModel",
      "state": {
       "min_width": "6em",
       "width": "6em"
      }
     },
     "25d731937d8c42e5be4543c3d189fbfe": {
      "model_module": "@jupyter-widgets/controls",
      "model_module_version": "1.5.0",
      "model_name": "DescriptionStyleModel",
      "state": {
       "description_width": ""
      }
     },
     "25fd586a71744092b9428582114e2437": {
      "model_module": "@jupyter-widgets/controls",
      "model_module_version": "1.5.0",
      "model_name": "DescriptionStyleModel",
      "state": {
       "description_width": ""
      }
     },
     "266a3f47eab54a55bb6d95f17cf11144": {
      "model_module": "@jupyter-widgets/base",
      "model_module_version": "1.2.0",
      "model_name": "LayoutModel",
      "state": {
       "grid_area": "pathlist",
       "width": "auto"
      }
     },
     "269ca6b8626c4aaf93938f7705c86022": {
      "model_module": "@jupyter-widgets/controls",
      "model_module_version": "1.5.0",
      "model_name": "DescriptionStyleModel",
      "state": {
       "description_width": ""
      }
     },
     "26f9f58ab778495c9a9b822a0e8b4322": {
      "model_module": "@jupyter-widgets/controls",
      "model_module_version": "1.5.0",
      "model_name": "VBoxModel",
      "state": {
       "children": [
        "IPY_MODEL_2fb3ed5668304b5685f8408941d33b9f",
        "IPY_MODEL_566e2a5ea97c49d9a015080899030883",
        "IPY_MODEL_af69959bcdaa498bb5e7103c4946a4aa"
       ],
       "layout": "IPY_MODEL_fa1c638f1dc5461abd6706e880677eba"
      }
     },
     "274190d35acb4b3a9efd73fb3d189b23": {
      "model_module": "@jupyter-widgets/controls",
      "model_module_version": "1.5.0",
      "model_name": "ButtonModel",
      "state": {
       "description": "Cancel",
       "layout": "IPY_MODEL_0ee1168a859f4539bec546eba0326873",
       "style": "IPY_MODEL_4b087f8306054114b1a14e1b1c93987f"
      }
     },
     "276301b8f9ea4673a50213a4a5aaa259": {
      "model_module": "@jupyter-widgets/controls",
      "model_module_version": "1.5.0",
      "model_name": "DescriptionStyleModel",
      "state": {
       "description_width": ""
      }
     },
     "276e3b841da2424ba0e753a33be79514": {
      "model_module": "@jupyter-widgets/controls",
      "model_module_version": "1.5.0",
      "model_name": "ButtonStyleModel",
      "state": {}
     },
     "27eedc5b4d8b4cb495d9f5bddbd23dea": {
      "model_module": "@jupyter-widgets/base",
      "model_module_version": "1.2.0",
      "model_name": "LayoutModel",
      "state": {}
     },
     "28668e26a753414eb4367ca685c6af1a": {
      "model_module": "@jupyter-widgets/controls",
      "model_module_version": "1.5.0",
      "model_name": "ButtonModel",
      "state": {
       "button_style": "info",
       "description": "Continue",
       "layout": "IPY_MODEL_0d8bc3d1fb664ef8899ea47925382a8b",
       "style": "IPY_MODEL_d342eda10d62464c9ea904e496aaa0e5"
      }
     },
     "291daa31e28248b092134617f6ec8512": {
      "model_module": "@jupyter-widgets/base",
      "model_module_version": "1.2.0",
      "model_name": "LayoutModel",
      "state": {
       "width": "auto"
      }
     },
     "298fb124bc1e4adbb0d84ebc3855aada": {
      "model_module": "@jupyter-widgets/base",
      "model_module_version": "1.2.0",
      "model_name": "LayoutModel",
      "state": {
       "display": "none",
       "grid_gap": "0px 0px",
       "grid_template_areas": "\n            'pathlist pathlist'\n            'dircontent dircontent'\n            ",
       "grid_template_columns": "60% 40%",
       "grid_template_rows": "auto auto",
       "width": "auto"
      }
     },
     "29d3ffcdd95340b58f0587321c55bf8f": {
      "model_module": "@jupyter-widgets/controls",
      "model_module_version": "1.5.0",
      "model_name": "ButtonModel",
      "state": {
       "button_style": "info",
       "description": "Continue",
       "disabled": true,
       "layout": "IPY_MODEL_6eb11bc6aab4476d89065adcf653388d",
       "style": "IPY_MODEL_5e10a74f2aff48168830324242d14cb6"
      }
     },
     "29d59698344642d4929242a99608036a": {
      "model_module": "@jupyter-widgets/controls",
      "model_module_version": "1.5.0",
      "model_name": "DescriptionStyleModel",
      "state": {
       "description_width": ""
      }
     },
     "2a2b59145f6148729e8dc9380b6c886c": {
      "model_module": "@jupyter-widgets/controls",
      "model_module_version": "1.5.0",
      "model_name": "DropdownModel",
      "state": {
       "_options_labels": [
        "/home/mxwbio/wetai/homepage",
        "/home/mxwbio/wetai",
        "/home/mxwbio",
        "/home",
        "/"
       ],
       "index": 0,
       "layout": "IPY_MODEL_266a3f47eab54a55bb6d95f17cf11144",
       "style": "IPY_MODEL_a15444a2b65b4167846c3da3b7fca484"
      }
     },
     "2a38bc83c22f4cf99f7096fa931303cb": {
      "model_module": "@jupyter-widgets/controls",
      "model_module_version": "1.5.0",
      "model_name": "DescriptionStyleModel",
      "state": {
       "description_width": ""
      }
     },
     "2a6cfdbcfe704bd68cfcf23be182ea48": {
      "model_module": "@jupyter-widgets/base",
      "model_module_version": "1.2.0",
      "model_name": "LayoutModel",
      "state": {
       "visibility": "visible"
      }
     },
     "2af703ccaabc4ce99b88864bacc29be6": {
      "model_module": "@jupyter-widgets/controls",
      "model_module_version": "1.5.0",
      "model_name": "DescriptionStyleModel",
      "state": {
       "description_width": ""
      }
     },
     "2b1b971d6cc948638199f3b360300118": {
      "model_module": "@jupyter-widgets/base",
      "model_module_version": "1.2.0",
      "model_name": "LayoutModel",
      "state": {
       "display": "none",
       "grid_area": "filename",
       "width": "auto"
      }
     },
     "2b3be3fb0af54fc8a62a42bb3bdfde8f": {
      "model_module": "@jupyter-widgets/controls",
      "model_module_version": "1.5.0",
      "model_name": "HTMLModel",
      "state": {
       "layout": "IPY_MODEL_7efa71d007e1415a95f08218cd23e8d2",
       "placeholder": "",
       "style": "IPY_MODEL_41b176e2160140759498bced4d2fad6f",
       "value": "<span style=\"color:green;\">/home/mxwbio/Desktop/MxW/SampleDataSet/Organoids/5167/Activity_Scan/000003/</span>"
      }
     },
     "2b7c786fb12c419eab8c342a59fd98f0": {
      "model_module": "@jupyter-widgets/controls",
      "model_module_version": "1.5.0",
      "model_name": "DescriptionStyleModel",
      "state": {
       "description_width": ""
      }
     },
     "2bf63df70cdb44319b95604d06fb73ac": {
      "model_module": "@jupyter-widgets/controls",
      "model_module_version": "1.5.0",
      "model_name": "HTMLModel",
      "state": {
       "layout": "IPY_MODEL_3447f90e44e94a5cbdfce52b802919b4",
       "placeholder": "",
       "style": "IPY_MODEL_dfb9ecb2301f46c2863ab397c496c477",
       "value": "<span style=\"color:black;\">No selection</span>"
      }
     },
     "2c5210eaa71f411bb1aa8650ad7ccdc5": {
      "model_module": "@jupyter-widgets/controls",
      "model_module_version": "1.5.0",
      "model_name": "ButtonModel",
      "state": {
       "button_style": "success",
       "description": "Start",
       "layout": "IPY_MODEL_547685c368b34da592fe1d872abc5b87",
       "style": "IPY_MODEL_41f1d36345944f5dad15bc390f892f79"
      }
     },
     "2c6c131edab242ee833654953c199373": {
      "model_module": "@jupyter-widgets/controls",
      "model_module_version": "1.5.0",
      "model_name": "HTMLModel",
      "state": {
       "layout": "IPY_MODEL_b95bde16ede04aae95cdee12ca0d338a",
       "placeholder": "",
       "style": "IPY_MODEL_ad300bd4ff314dca8656e04544c13bfd",
       "value": "<span style=\"color:black;\">No selection</span>"
      }
     },
     "2c739c9e46bb4dc9968ebacaf18dfe7c": {
      "model_module": "@jupyter-widgets/controls",
      "model_module_version": "1.5.0",
      "model_name": "VBoxModel",
      "state": {
       "children": [
        "IPY_MODEL_a592a00e090a4bb69db170ae2c661f8b",
        "IPY_MODEL_e87ac987ccb7432f971bed1d261e0847",
        "IPY_MODEL_06dbcba0d7b843a9ade4d6310c024f73"
       ],
       "layout": "IPY_MODEL_fa1c638f1dc5461abd6706e880677eba"
      }
     },
     "2d117bba88f541e7b122c8135207c804": {
      "model_module": "@jupyter-widgets/controls",
      "model_module_version": "1.5.0",
      "model_name": "ButtonStyleModel",
      "state": {}
     },
     "2e06637adc06427cb091d040ae648e87": {
      "model_module": "@jupyter-widgets/controls",
      "model_module_version": "1.5.0",
      "model_name": "ButtonModel",
      "state": {
       "button_style": "danger",
       "description": "Restart",
       "layout": "IPY_MODEL_440b1e8eac0a4bc3a2eaf9357af1ffc4",
       "style": "IPY_MODEL_a808519461a64d0eb5974fcae23e72ef"
      }
     },
     "2e3b320aec6144cf9dce7877d17db260": {
      "model_module": "@jupyter-widgets/controls",
      "model_module_version": "1.5.0",
      "model_name": "ButtonModel",
      "state": {
       "button_style": "success",
       "description": "Start",
       "layout": "IPY_MODEL_87ba84879a344138a008c00b8c9c9f3e",
       "style": "IPY_MODEL_aff82a6c52844b30b60d526a762de76c"
      }
     },
     "2ec3fedd412f4352b2faadb42927dddd": {
      "model_module": "@jupyter-widgets/controls",
      "model_module_version": "1.5.0",
      "model_name": "ButtonModel",
      "state": {
       "description": "Change",
       "layout": "IPY_MODEL_3103be5fd1db423980f2b3af63a7abe5",
       "style": "IPY_MODEL_9a1bf471ca564449945ed1a0a7883ac7"
      }
     },
     "2ef4158b01594d38b71dee7478a4b08d": {
      "model_module": "@jupyter-widgets/controls",
      "model_module_version": "1.5.0",
      "model_name": "DropdownModel",
      "state": {
       "_options_labels": [
        "/home/mxwbio/wetai/homepage",
        "/home/mxwbio/wetai",
        "/home/mxwbio",
        "/home",
        "/"
       ],
       "index": 0,
       "layout": "IPY_MODEL_c143bac5aa09491ebca6f2abf47ffc19",
       "style": "IPY_MODEL_8c656a8a6c9644cb9347e8bdb82bd5d0"
      }
     },
     "2f12be4dbcc14e22a3dbc9dbb06343da": {
      "model_module": "@jupyter-widgets/controls",
      "model_module_version": "1.5.0",
      "model_name": "DescriptionStyleModel",
      "state": {
       "description_width": ""
      }
     },
     "2f19af4ee5674f14b0cf080421b85d5b": {
      "model_module": "@jupyter-widgets/controls",
      "model_module_version": "1.5.0",
      "model_name": "ButtonStyleModel",
      "state": {}
     },
     "2f2ae267b83e454ba439d8aed7e33fd0": {
      "model_module": "@jupyter-widgets/base",
      "model_module_version": "1.2.0",
      "model_name": "LayoutModel",
      "state": {
       "grid_area": "pathlist",
       "width": "auto"
      }
     },
     "2f46f31a21e74c6e829272029b67c2be": {
      "model_module": "@jupyter-widgets/controls",
      "model_module_version": "1.5.0",
      "model_name": "BoxModel",
      "state": {
       "children": [
        "IPY_MODEL_3a5cd92f9716489fa81b2cf3924f5359"
       ],
       "layout": "IPY_MODEL_d8eaeb100d624569a116fedde65312cc"
      }
     },
     "2f5effff985847e3916304a04d5984fd": {
      "model_module": "@jupyter-widgets/base",
      "model_module_version": "1.2.0",
      "model_name": "LayoutModel",
      "state": {
       "display": "none",
       "grid_gap": "0px 0px",
       "grid_template_areas": "\n            'pathlist pathlist'\n            'dircontent dircontent'\n            ",
       "grid_template_columns": "60% 40%",
       "grid_template_rows": "auto auto",
       "width": "auto"
      }
     },
     "2f82187248974856bc10829f9012ad55": {
      "model_module": "@jupyter-widgets/controls",
      "model_module_version": "1.5.0",
      "model_name": "ButtonModel",
      "state": {
       "description": "Change",
       "layout": "IPY_MODEL_a502bfbf8d1f43c5849ac89bfb8078cc",
       "style": "IPY_MODEL_276e3b841da2424ba0e753a33be79514"
      }
     },
     "2fb3ed5668304b5685f8408941d33b9f": {
      "model_module": "@jupyter-widgets/controls",
      "model_module_version": "1.5.0",
      "model_name": "HTMLModel",
      "state": {
       "layout": "IPY_MODEL_d5e31541fecc4b5481a3cc16dfc62f82",
       "style": "IPY_MODEL_5a1f74d41fb641c3b5eb9013f2125a73"
      }
     },
     "2fc469277d3a425d87893c3cd927b876": {
      "model_module": "@jupyter-widgets/base",
      "model_module_version": "1.2.0",
      "model_name": "LayoutModel",
      "state": {
       "overflow": "auto"
      }
     },
     "30068806c514400084c73b7419ba98d2": {
      "model_module": "@jupyter-widgets/base",
      "model_module_version": "1.2.0",
      "model_name": "LayoutModel",
      "state": {
       "display": "none",
       "grid_area": "filename",
       "width": "auto"
      }
     },
     "305356a6683b49a1a08eae72c811583d": {
      "model_module": "@jupyter-widgets/base",
      "model_module_version": "1.2.0",
      "model_name": "LayoutModel",
      "state": {
       "width": "auto"
      }
     },
     "30d2ce177bb9459eb10afcc54a707b52": {
      "model_module": "@jupyter-widgets/controls",
      "model_module_version": "1.5.0",
      "model_name": "BoxModel",
      "state": {
       "children": [
        "IPY_MODEL_f946ad9bb2fb4d5cad62db4d7e8a24dd"
       ],
       "layout": "IPY_MODEL_1fb791a45f5548a2aaa82c7ec411292d"
      }
     },
     "3103be5fd1db423980f2b3af63a7abe5": {
      "model_module": "@jupyter-widgets/base",
      "model_module_version": "1.2.0",
      "model_name": "LayoutModel",
      "state": {
       "min_width": "6em",
       "width": "6em"
      }
     },
     "3156a2c4d22f4d73bc8fa737d09280d3": {
      "model_module": "@jupyter-widgets/controls",
      "model_module_version": "1.5.0",
      "model_name": "HTMLModel",
      "state": {
       "layout": "IPY_MODEL_5d85e1bd3ea5420e88073f1852137182",
       "style": "IPY_MODEL_8e6e13a3fd9540258b3de7df0a7c0681",
       "value": "<p style='text-color:danger'>Select a Folder to Continue</p>"
      }
     },
     "31e136112ede4e32a5857061bac0416e": {
      "model_module": "@jupyter-widgets/controls",
      "model_module_version": "1.5.0",
      "model_name": "ButtonModel",
      "state": {
       "button_style": "info",
       "description": "Upload",
       "layout": "IPY_MODEL_065822cf6d994fa48bbcf8b1d78b9fa4",
       "style": "IPY_MODEL_5974d687899440e7ad08fd8b74db09cd"
      }
     },
     "3390cc21a5d442d690c3d1430dfa55ec": {
      "model_module": "@jupyter-widgets/base",
      "model_module_version": "1.2.0",
      "model_name": "LayoutModel",
      "state": {
       "width": "auto"
      }
     },
     "33f78e6531e14bcd8d82f60979e1ba17": {
      "model_module": "@jupyter-widgets/controls",
      "model_module_version": "1.5.0",
      "model_name": "DescriptionStyleModel",
      "state": {
       "description_width": ""
      }
     },
     "343fd9d8692543b190d881166ddac9be": {
      "model_module": "@jupyter-widgets/base",
      "model_module_version": "1.2.0",
      "model_name": "LayoutModel",
      "state": {
       "grid_area": "dircontent",
       "width": "auto"
      }
     },
     "3447f90e44e94a5cbdfce52b802919b4": {
      "model_module": "@jupyter-widgets/base",
      "model_module_version": "1.2.0",
      "model_name": "LayoutModel",
      "state": {
       "margin": "0 0 0 1em"
      }
     },
     "346be9216ea74b10bc01c5a8b5e3c993": {
      "model_module": "@jupyter-widgets/base",
      "model_module_version": "1.2.0",
      "model_name": "LayoutModel",
      "state": {
       "display": "none"
      }
     },
     "3477a58d6e0a4ffaaced5c6beacb0f33": {
      "model_module": "@jupyter-widgets/controls",
      "model_module_version": "1.5.0",
      "model_name": "ButtonStyleModel",
      "state": {}
     },
     "34b05b53193b43df8dc085aec0f27757": {
      "model_module": "@jupyter-widgets/controls",
      "model_module_version": "1.5.0",
      "model_name": "HBoxModel",
      "state": {
       "children": [
        "IPY_MODEL_881b3c43c482419c85bdd9293e3b24c9",
        "IPY_MODEL_77630b3ebbe347eabcea22b3aec9b3c7",
        "IPY_MODEL_81dcf501aa2841d98ae4228cfc5942fd"
       ],
       "layout": "IPY_MODEL_c531cdd2be7246ff987024050cd1a880"
      }
     },
     "34bee1674f9549aeb04e6538a431c3f1": {
      "model_module": "@jupyter-widgets/controls",
      "model_module_version": "1.5.0",
      "model_name": "TextModel",
      "state": {
       "description": "UUID",
       "layout": "IPY_MODEL_632f2a9b2bb54a1c9ba4448dc6d274c1",
       "style": "IPY_MODEL_072dc9214c744dbba62cdbc36372372c"
      }
     },
     "34d80db581e54a3282bea02206c8928b": {
      "model_module": "@jupyter-widgets/controls",
      "model_module_version": "1.5.0",
      "model_name": "ButtonStyleModel",
      "state": {}
     },
     "34ed98ae96e94d78a929cc08c545fb0a": {
      "model_module": "@jupyter-widgets/controls",
      "model_module_version": "1.5.0",
      "model_name": "DescriptionStyleModel",
      "state": {
       "description_width": ""
      }
     },
     "35019daa68cf4ad69032d6b2be56f4b8": {
      "model_module": "@jupyter-widgets/base",
      "model_module_version": "1.2.0",
      "model_name": "LayoutModel",
      "state": {}
     },
     "35693d2d6edb4367aa3661160cd145cc": {
      "model_module": "@jupyter-widgets/base",
      "model_module_version": "1.2.0",
      "model_name": "LayoutModel",
      "state": {
       "grid_gap": "0px 0px",
       "grid_template_areas": "\n            'pathlist pathlist'\n            'dircontent dircontent'\n            ",
       "grid_template_columns": "60% 40%",
       "grid_template_rows": "auto auto",
       "width": "auto"
      }
     },
     "361c3d6bd8cd4a61832bfa1ad1a96d5e": {
      "model_module": "@jupyter-widgets/controls",
      "model_module_version": "1.5.0",
      "model_name": "ButtonStyleModel",
      "state": {}
     },
     "362e0ec88cf846fabcd5d7768e51e809": {
      "model_module": "@jupyter-widgets/controls",
      "model_module_version": "1.5.0",
      "model_name": "VBoxModel",
      "state": {
       "children": [
        "IPY_MODEL_40b704b421864dde8ca857d55cb5609f",
        "IPY_MODEL_6f92e04583f84c7ea8bcc4bf30503cb6",
        "IPY_MODEL_c1ce08f16e66445e9a601b9bb81be07e"
       ],
       "layout": "IPY_MODEL_fa1c638f1dc5461abd6706e880677eba"
      }
     },
     "3654095d81cb44c68d59f41706ac0e34": {
      "model_module": "@jupyter-widgets/base",
      "model_module_version": "1.2.0",
      "model_name": "LayoutModel",
      "state": {
       "visibility": "visible"
      }
     },
     "365cc0f591d44325a06df413f049642d": {
      "model_module": "@jupyter-widgets/base",
      "model_module_version": "1.2.0",
      "model_name": "LayoutModel",
      "state": {
       "width": "auto"
      }
     },
     "3661bcb358094e72858176dbd8c8f2d3": {
      "model_module": "@jupyter-widgets/controls",
      "model_module_version": "1.5.0",
      "model_name": "TextModel",
      "state": {
       "disabled": true,
       "layout": "IPY_MODEL_bc5042f5ed8c49fda52f345a9df2117a",
       "placeholder": "output filename",
       "style": "IPY_MODEL_cc2c3b916d9745d9b8d994f3ec3518bc"
      }
     },
     "36a946ae39cb4b71bb36f1fdc175b6df": {
      "model_module": "@jupyter-widgets/controls",
      "model_module_version": "1.5.0",
      "model_name": "ButtonStyleModel",
      "state": {}
     },
     "36ad2dbcf0a94873b7b91b4d10ac5d21": {
      "model_module": "@jupyter-widgets/base",
      "model_module_version": "1.2.0",
      "model_name": "LayoutModel",
      "state": {
       "visibility": "hidden"
      }
     },
     "36d83e8db2134df8b26dc4033f6c4130": {
      "model_module": "@jupyter-widgets/controls",
      "model_module_version": "1.5.0",
      "model_name": "DescriptionStyleModel",
      "state": {
       "description_width": ""
      }
     },
     "36fd9d50b6a84555842a29e6c827e05c": {
      "model_module": "@jupyter-widgets/base",
      "model_module_version": "1.2.0",
      "model_name": "LayoutModel",
      "state": {
       "grid_area": "dircontent",
       "width": "auto"
      }
     },
     "373dadaead4c43988b8c9c798f89590c": {
      "model_module": "@jupyter-widgets/controls",
      "model_module_version": "1.5.0",
      "model_name": "TextModel",
      "state": {
       "disabled": true,
       "layout": "IPY_MODEL_8123c8e0533943b7a45a688f96f0a2d7",
       "placeholder": "output filename",
       "style": "IPY_MODEL_53589bcca5e248f7a751c44ebbba00f0"
      }
     },
     "378e503807844dc488ebd399ccfc25d6": {
      "model_module": "@jupyter-widgets/controls",
      "model_module_version": "1.5.0",
      "model_name": "SelectModel",
      "state": {
       "_options_labels": [
        "📁 ..",
        "📁 Apps",
        "📁 Projects"
       ],
       "index": null,
       "layout": "IPY_MODEL_bab110cd4a7a44499440c144b2df6a8b",
       "rows": 8,
       "style": "IPY_MODEL_1d7e99d243484332b9d5f1dc5539df5d"
      }
     },
     "37fc1605d22d4b8c8b843d63f75292de": {
      "model_module": "@jupyter-widgets/base",
      "model_module_version": "1.2.0",
      "model_name": "LayoutModel",
      "state": {}
     },
     "37fd0239afb4463cbf65f225871246af": {
      "model_module": "@jupyter-widgets/controls",
      "model_module_version": "1.5.0",
      "model_name": "HTMLModel",
      "state": {
       "layout": "IPY_MODEL_94844bdb36bc42438ee0bd01390809b0",
       "style": "IPY_MODEL_0b7deba39e024bc4b25c8edf6ab41243",
       "value": "<h4 class='text-danger'>Select a Folder to Continue</h4>"
      }
     },
     "387ad4b5b66742a3b28acbcded498019": {
      "model_module": "@jupyter-widgets/controls",
      "model_module_version": "1.5.0",
      "model_name": "DescriptionStyleModel",
      "state": {
       "description_width": ""
      }
     },
     "3a19907a1f9e4b5a984b1b9bef9cc4be": {
      "model_module": "@jupyter-widgets/base",
      "model_module_version": "1.2.0",
      "model_name": "LayoutModel",
      "state": {
       "width": "auto"
      }
     },
     "3a5cd92f9716489fa81b2cf3924f5359": {
      "model_module": "@jupyter-widgets/controls",
      "model_module_version": "1.5.0",
      "model_name": "HTMLModel",
      "state": {
       "layout": "IPY_MODEL_f30aa128eaab4424aaa6dae4e21da944",
       "placeholder": "",
       "style": "IPY_MODEL_276301b8f9ea4673a50213a4a5aaa259",
       "value": "<span style=\"color:green;\">/home/mxwbio/Desktop/MxW/SampleDataSet/Organoids/5167/Activity_Scan/000003/</span>"
      }
     },
     "3ae7a317c7c243d0b68d0c4bf8e269cf": {
      "model_module": "@jupyter-widgets/controls",
      "model_module_version": "1.5.0",
      "model_name": "DescriptionStyleModel",
      "state": {
       "description_width": ""
      }
     },
     "3b94712553b8479aac5e5a1a78d9d36d": {
      "model_module": "@jupyter-widgets/controls",
      "model_module_version": "1.5.0",
      "model_name": "BoxModel",
      "state": {
       "children": [
        "IPY_MODEL_2bf63df70cdb44319b95604d06fb73ac"
       ],
       "layout": "IPY_MODEL_1d4b8c0b90f245d78f0add89e9bceb88"
      }
     },
     "3baeba6dae1745798b1e4285b9acf013": {
      "model_module": "@jupyter-widgets/controls",
      "model_module_version": "1.5.0",
      "model_name": "HTMLModel",
      "state": {
       "layout": "IPY_MODEL_fcc87f9945b745b597ca92aa4cba9f94",
       "style": "IPY_MODEL_b1a907d4fae04c57959f8d5e2e6b02b3",
       "value": "<h4 class='text-danger'>Select a Folder to Continue</h4>"
      }
     },
     "3be2a49b0d3547e694a98d9187928023": {
      "model_module": "@jupyter-widgets/base",
      "model_module_version": "1.2.0",
      "model_name": "LayoutModel",
      "state": {
       "width": "auto"
      }
     },
     "3c64459c9e8340d090274e5a1167c0d2": {
      "model_module": "@jupyter-widgets/controls",
      "model_module_version": "1.5.0",
      "model_name": "DescriptionStyleModel",
      "state": {
       "description_width": ""
      }
     },
     "3cc093a453414f598132f8a4653eae2b": {
      "model_module": "@jupyter-widgets/base",
      "model_module_version": "1.2.0",
      "model_name": "LayoutModel",
      "state": {
       "width": "auto"
      }
     },
     "3d14e33732eb487e9d3380749de1e3c2": {
      "model_module": "@jupyter-widgets/controls",
      "model_module_version": "1.5.0",
      "model_name": "ButtonModel",
      "state": {
       "button_style": "danger",
       "icon": "refresh",
       "layout": "IPY_MODEL_627c6078f0c641bd8a513fa6781a6ac3",
       "style": "IPY_MODEL_c21d48a34cea4353baf9b9f155a0d473"
      }
     },
     "3d485128b13a4d81b1569ae0a7078fda": {
      "model_module": "@jupyter-widgets/controls",
      "model_module_version": "1.5.0",
      "model_name": "ButtonModel",
      "state": {
       "button_style": "info",
       "description": "Continue",
       "layout": "IPY_MODEL_cf83c7b8a7bb416fbe10219950070fb7",
       "style": "IPY_MODEL_6f881702b2434bbb9784994632037104"
      }
     },
     "3dfa7ac27caf4beaa4f18a2faf2fdaf1": {
      "model_module": "@jupyter-widgets/base",
      "model_module_version": "1.2.0",
      "model_name": "LayoutModel",
      "state": {
       "width": "auto"
      }
     },
     "3e598c30277c4a2ba702d979919dad04": {
      "model_module": "@jupyter-widgets/base",
      "model_module_version": "1.2.0",
      "model_name": "LayoutModel",
      "state": {
       "margin": "0 0 0 1em"
      }
     },
     "3e70b83cbc974920a970dfcd794c6c54": {
      "model_module": "@jupyter-widgets/controls",
      "model_module_version": "1.5.0",
      "model_name": "ButtonStyleModel",
      "state": {}
     },
     "3e8405cc0d954f1e805470f33338eede": {
      "model_module": "@jupyter-widgets/controls",
      "model_module_version": "1.5.0",
      "model_name": "DescriptionStyleModel",
      "state": {
       "description_width": ""
      }
     },
     "3f0f2879db0e4030a0ebb1c48595ffac": {
      "model_module": "@jupyter-widgets/controls",
      "model_module_version": "1.5.0",
      "model_name": "ButtonModel",
      "state": {
       "button_style": "success",
       "description": "Start",
       "layout": "IPY_MODEL_5bc51d32a6e948438248fc59a697de40",
       "style": "IPY_MODEL_1040d9bede1f42a394720459810dfdb4"
      }
     },
     "3fd673aea7ce47b18a2da7817b141b17": {
      "model_module": "@jupyter-widgets/controls",
      "model_module_version": "1.5.0",
      "model_name": "TextModel",
      "state": {
       "disabled": true,
       "layout": "IPY_MODEL_228c82f0bd3a49d28a24fcaf7fcb589f",
       "placeholder": "output filename",
       "style": "IPY_MODEL_f9a5e04070fd46e3bd2b58a396894516"
      }
     },
     "40b704b421864dde8ca857d55cb5609f": {
      "model_module": "@jupyter-widgets/controls",
      "model_module_version": "1.5.0",
      "model_name": "HTMLModel",
      "state": {
       "layout": "IPY_MODEL_73576f803c80497f81c6e33698bc271c",
       "style": "IPY_MODEL_6cb02fac17c049cf9d76dcbd17195cac"
      }
     },
     "40f3c4e23e094ebaa21f3e717476b26c": {
      "model_module": "@jupyter-widgets/base",
      "model_module_version": "1.2.0",
      "model_name": "LayoutModel",
      "state": {
       "width": "auto"
      }
     },
     "413303d548614fd694c58da4b541814e": {
      "model_module": "@jupyter-widgets/controls",
      "model_module_version": "1.5.0",
      "model_name": "DescriptionStyleModel",
      "state": {
       "description_width": ""
      }
     },
     "41b176e2160140759498bced4d2fad6f": {
      "model_module": "@jupyter-widgets/controls",
      "model_module_version": "1.5.0",
      "model_name": "DescriptionStyleModel",
      "state": {
       "description_width": ""
      }
     },
     "41c0d9ae167042e6b8aa0fa2d8a53aa6": {
      "model_module": "@jupyter-widgets/controls",
      "model_module_version": "1.5.0",
      "model_name": "ButtonStyleModel",
      "state": {}
     },
     "41c1efa4af384d45bd6217efca23ea02": {
      "model_module": "@jupyter-widgets/controls",
      "model_module_version": "1.5.0",
      "model_name": "DropdownModel",
      "state": {
       "_options_labels": [
        "/home/mxwbio/Desktop/MxW/SampleDataSet/Organoids/5167/Activity_Scan/000003",
        "/home/mxwbio/Desktop/MxW/SampleDataSet/Organoids/5167/Activity_Scan",
        "/home/mxwbio/Desktop/MxW/SampleDataSet/Organoids/5167",
        "/home/mxwbio/Desktop/MxW/SampleDataSet/Organoids",
        "/home/mxwbio/Desktop/MxW/SampleDataSet",
        "/home/mxwbio/Desktop/MxW",
        "/home/mxwbio/Desktop",
        "/home/mxwbio",
        "/home",
        "/"
       ],
       "index": 0,
       "layout": "IPY_MODEL_1b07b26d289d40f5bcbe6e2978f225b2",
       "style": "IPY_MODEL_be75bf1bc3ba4fd2ab489720b42e449c"
      }
     },
     "41f1d36345944f5dad15bc390f892f79": {
      "model_module": "@jupyter-widgets/controls",
      "model_module_version": "1.5.0",
      "model_name": "ButtonStyleModel",
      "state": {}
     },
     "42391bc605a84588973a7c3377175d90": {
      "model_module": "@jupyter-widgets/controls",
      "model_module_version": "1.5.0",
      "model_name": "ButtonStyleModel",
      "state": {}
     },
     "4263b1f85970495d861346b24bf78246": {
      "model_module": "@jupyter-widgets/base",
      "model_module_version": "1.2.0",
      "model_name": "LayoutModel",
      "state": {
       "overflow": "auto"
      }
     },
     "428ac8a4eada4cd2acc5ada859df91c3": {
      "model_module": "@jupyter-widgets/controls",
      "model_module_version": "1.5.0",
      "model_name": "DescriptionStyleModel",
      "state": {
       "description_width": ""
      }
     },
     "42dd94e7a2df48e09232be12001146a9": {
      "model_module": "@jupyter-widgets/controls",
      "model_module_version": "1.5.0",
      "model_name": "TextareaModel",
      "state": {
       "layout": "IPY_MODEL_945f9dd225b045ddbc5e6d634bea2d31",
       "style": "IPY_MODEL_3ae7a317c7c243d0b68d0c4bf8e269cf"
      }
     },
     "4358705bbed2420a8c9dc6c3328c4b64": {
      "model_module": "@jupyter-widgets/controls",
      "model_module_version": "1.5.0",
      "model_name": "HTMLModel",
      "state": {
       "layout": "IPY_MODEL_3654095d81cb44c68d59f41706ac0e34",
       "style": "IPY_MODEL_0f76ba091b7b48eb98cbd67bb80cfa7e",
       "value": "<h4 class='text-danger'>Select a Folder to Continue</h4>"
      }
     },
     "439659c80375486fa6e4304e1b4bb9e8": {
      "model_module": "@jupyter-widgets/base",
      "model_module_version": "1.2.0",
      "model_name": "LayoutModel",
      "state": {}
     },
     "43ae8c3dc384445dbd9486f197f384e2": {
      "model_module": "@jupyter-widgets/controls",
      "model_module_version": "1.5.0",
      "model_name": "ButtonStyleModel",
      "state": {}
     },
     "43c167b075764da1a928d4d01946b9c5": {
      "model_module": "@jupyter-widgets/controls",
      "model_module_version": "1.5.0",
      "model_name": "ButtonStyleModel",
      "state": {}
     },
     "440b1e8eac0a4bc3a2eaf9357af1ffc4": {
      "model_module": "@jupyter-widgets/base",
      "model_module_version": "1.2.0",
      "model_name": "LayoutModel",
      "state": {
       "width": "auto"
      }
     },
     "441c9fe8519d45b9803d5a11b250a706": {
      "model_module": "@jupyter-widgets/controls",
      "model_module_version": "1.5.0",
      "model_name": "DescriptionStyleModel",
      "state": {
       "description_width": ""
      }
     },
     "4423bc15dfc147b8aa7992d67decb41a": {
      "model_module": "@jupyter-widgets/controls",
      "model_module_version": "1.5.0",
      "model_name": "ButtonStyleModel",
      "state": {}
     },
     "444c93a837dd4057b7333b3a46f32bfe": {
      "model_module": "@jupyter-widgets/base",
      "model_module_version": "1.2.0",
      "model_name": "LayoutModel",
      "state": {
       "min_width": "6em",
       "width": "6em"
      }
     },
     "4580c20ae0314ae4849aa51757edc76d": {
      "model_module": "@jupyter-widgets/controls",
      "model_module_version": "1.5.0",
      "model_name": "DescriptionStyleModel",
      "state": {
       "description_width": ""
      }
     },
     "459b33fcf3c5400da767a3cad569904b": {
      "model_module": "@jupyter-widgets/controls",
      "model_module_version": "1.5.0",
      "model_name": "DropdownModel",
      "state": {
       "_options_labels": [
        "/home/mxwbio/wetai/homepage",
        "/home/mxwbio/wetai",
        "/home/mxwbio",
        "/home",
        "/"
       ],
       "index": 0,
       "layout": "IPY_MODEL_a2b065f756354a469132434f81f59074",
       "style": "IPY_MODEL_4e0d86bca20a4600990776febbd8c063"
      }
     },
     "45c2d7bbd40347adb78f029927e5a7b4": {
      "model_module": "@jupyter-widgets/controls",
      "model_module_version": "1.5.0",
      "model_name": "HBoxModel",
      "state": {
       "children": [
        "IPY_MODEL_1b7d0d20c5e5433f91debe90a0bb4046",
        "IPY_MODEL_d17889deb93a4203aba2ff918ebd1aab",
        "IPY_MODEL_d979303bc3bc4332bcf15b531f59506d"
       ],
       "layout": "IPY_MODEL_c82011ef499c4e78932d1d0de90975d4"
      }
     },
     "461c66c3eab04d649d24d615ea20e422": {
      "model_module": "@jupyter-widgets/controls",
      "model_module_version": "1.5.0",
      "model_name": "DropdownModel",
      "state": {
       "_options_labels": [
        "/home/mxwbio/Desktop/MxW/SampleDataSet/Organoids/5167/Activity_Scan/000003",
        "/home/mxwbio/Desktop/MxW/SampleDataSet/Organoids/5167/Activity_Scan",
        "/home/mxwbio/Desktop/MxW/SampleDataSet/Organoids/5167",
        "/home/mxwbio/Desktop/MxW/SampleDataSet/Organoids",
        "/home/mxwbio/Desktop/MxW/SampleDataSet",
        "/home/mxwbio/Desktop/MxW",
        "/home/mxwbio/Desktop",
        "/home/mxwbio",
        "/home",
        "/"
       ],
       "index": 0,
       "layout": "IPY_MODEL_f859aadda63d434da75235c00ad1cb2c",
       "style": "IPY_MODEL_19d090be322f4bcb80386c5ff797c41c"
      }
     },
     "467859dbb9354443a4850019804582fa": {
      "model_module": "@jupyter-widgets/base",
      "model_module_version": "1.2.0",
      "model_name": "LayoutModel",
      "state": {
       "display": "none",
       "grid_area": "filename",
       "width": "auto"
      }
     },
     "468f74384e774cb8b2bf82680b8a15e6": {
      "model_module": "@jupyter-widgets/controls",
      "model_module_version": "1.5.0",
      "model_name": "TextModel",
      "state": {
       "description": "UUID",
       "layout": "IPY_MODEL_a606dad22f24412ca0459baecf06257e",
       "style": "IPY_MODEL_bb2219ecb5154ded8da2ecd82a08fa30",
       "value": "2020-03-25-e-testit"
      }
     },
     "46b1d1f5e8b74c258e3f954fd2388d32": {
      "model_module": "@jupyter-widgets/controls",
      "model_module_version": "1.5.0",
      "model_name": "TextareaModel",
      "state": {
       "layout": "IPY_MODEL_e1b03e29c520498e8f52803135222054",
       "style": "IPY_MODEL_1e478905da5340868b9b3552e9fddb79"
      }
     },
     "472acf042dde4e07a04d41cbb1df494e": {
      "model_module": "@jupyter-widgets/controls",
      "model_module_version": "1.5.0",
      "model_name": "TextareaModel",
      "state": {
       "layout": "IPY_MODEL_89c0094c34174970a9f17a6652b57e98",
       "style": "IPY_MODEL_e58369c087284909b1836030cee27eca"
      }
     },
     "4780c20bbdb9485a974e34ac4a47ccf3": {
      "model_module": "@jupyter-widgets/base",
      "model_module_version": "1.2.0",
      "model_name": "LayoutModel",
      "state": {
       "margin": "0 0 0 1em"
      }
     },
     "4793ce1947b44ee9ba940397df4a84aa": {
      "model_module": "@jupyter-widgets/controls",
      "model_module_version": "1.5.0",
      "model_name": "TextModel",
      "state": {
       "description": "UUID",
       "layout": "IPY_MODEL_01d2c23e674a42d585c29fca967b7330",
       "style": "IPY_MODEL_2073ca5062dc41339a5a8a66b5e7693c"
      }
     },
     "4795bf62e2e64b9093789d93263f5497": {
      "model_module": "@jupyter-widgets/base",
      "model_module_version": "1.2.0",
      "model_name": "LayoutModel",
      "state": {
       "width": "auto"
      }
     },
     "47cfdd1544ed408083641d3ce08102f4": {
      "model_module": "@jupyter-widgets/controls",
      "model_module_version": "1.5.0",
      "model_name": "ButtonModel",
      "state": {
       "button_style": "info",
       "description": "Continue",
       "layout": "IPY_MODEL_1fa21ef91b754d268b7c2172a5bd79af",
       "style": "IPY_MODEL_3477a58d6e0a4ffaaced5c6beacb0f33"
      }
     },
     "47dd0a28fab843748ccc384561c400ac": {
      "model_module": "@jupyter-widgets/base",
      "model_module_version": "1.2.0",
      "model_name": "LayoutModel",
      "state": {
       "width": "auto"
      }
     },
     "4845b4d0ae944b2492aeda904630f758": {
      "model_module": "@jupyter-widgets/controls",
      "model_module_version": "1.5.0",
      "model_name": "SelectModel",
      "state": {
       "_options_labels": [
        "📁 .."
       ],
       "index": null,
       "layout": "IPY_MODEL_343fd9d8692543b190d881166ddac9be",
       "rows": 8,
       "style": "IPY_MODEL_dbfaacdac84e470f8a4ab01f3e956509"
      }
     },
     "495284206b67487bb411c8cfa75d3e9b": {
      "model_module": "@jupyter-widgets/controls",
      "model_module_version": "1.5.0",
      "model_name": "TextModel",
      "state": {
       "disabled": true,
       "layout": "IPY_MODEL_d383da71da8646238d0114f775b961bf",
       "placeholder": "output filename",
       "style": "IPY_MODEL_928b7ecdd15f430ca9eea899797c9a76"
      }
     },
     "4962efc5909d4fe3bb82bc385ebfd9bc": {
      "model_module": "@jupyter-widgets/controls",
      "model_module_version": "1.5.0",
      "model_name": "DescriptionStyleModel",
      "state": {
       "description_width": ""
      }
     },
     "49eb42b6aad7472eb56a4a1194a96268": {
      "model_module": "@jupyter-widgets/controls",
      "model_module_version": "1.5.0",
      "model_name": "DescriptionStyleModel",
      "state": {
       "description_width": ""
      }
     },
     "49eba6b9c62a4749aff238462ee5faab": {
      "model_module": "@jupyter-widgets/controls",
      "model_module_version": "1.5.0",
      "model_name": "ButtonStyleModel",
      "state": {}
     },
     "4a407b90ec714aa0a18b10597291af25": {
      "model_module": "@jupyter-widgets/controls",
      "model_module_version": "1.5.0",
      "model_name": "ButtonModel",
      "state": {
       "button_style": "success",
       "description": "Upload",
       "layout": "IPY_MODEL_fcf30ebff13d488d978bc66c991cf311",
       "style": "IPY_MODEL_d276213ed7b94ef08d0ad26d34da365e"
      }
     },
     "4a6a36d4617d43eeb5b3d1d8aba9fbf3": {
      "model_module": "@jupyter-widgets/base",
      "model_module_version": "1.2.0",
      "model_name": "LayoutModel",
      "state": {
       "width": "auto"
      }
     },
     "4aef34cea4dc4caa8475e080ffd2022d": {
      "model_module": "@jupyter-widgets/base",
      "model_module_version": "1.2.0",
      "model_name": "LayoutModel",
      "state": {
       "display": "none",
       "grid_gap": "0px 0px",
       "grid_template_areas": "\n            'pathlist pathlist'\n            'dircontent dircontent'\n            ",
       "grid_template_columns": "60% 40%",
       "grid_template_rows": "auto auto",
       "width": "auto"
      }
     },
     "4b087f8306054114b1a14e1b1c93987f": {
      "model_module": "@jupyter-widgets/controls",
      "model_module_version": "1.5.0",
      "model_name": "ButtonStyleModel",
      "state": {}
     },
     "4bc4a288d518483f9c8fc8e94fc4247d": {
      "model_module": "@jupyter-widgets/base",
      "model_module_version": "1.2.0",
      "model_name": "LayoutModel",
      "state": {
       "grid_area": "dircontent",
       "width": "auto"
      }
     },
     "4c58a2af6e5c474cbc98c2473cb65f20": {
      "model_module": "@jupyter-widgets/controls",
      "model_module_version": "1.5.0",
      "model_name": "ButtonModel",
      "state": {
       "description": "Change",
       "disabled": true,
       "layout": "IPY_MODEL_25b90d630ea34cec925cea3256598ab7",
       "style": "IPY_MODEL_84bc5afecff043d0a0ed2e3cc8786c3e"
      }
     },
     "4d18ffe270e64f37a8237756079cd8b5": {
      "model_module": "@jupyter-widgets/controls",
      "model_module_version": "1.5.0",
      "model_name": "DescriptionStyleModel",
      "state": {
       "description_width": ""
      }
     },
     "4d5d3eef125349cb9f4df4a42cd09ed5": {
      "model_module": "@jupyter-widgets/base",
      "model_module_version": "1.2.0",
      "model_name": "LayoutModel",
      "state": {
       "display": "none",
       "min_width": "6em",
       "width": "6em"
      }
     },
     "4df63f3e531049caa504fd09e208ffe5": {
      "model_module": "@jupyter-widgets/base",
      "model_module_version": "1.2.0",
      "model_name": "LayoutModel",
      "state": {
       "display": "none",
       "grid_area": "filename",
       "width": "auto"
      }
     },
     "4e0d86bca20a4600990776febbd8c063": {
      "model_module": "@jupyter-widgets/controls",
      "model_module_version": "1.5.0",
      "model_name": "DescriptionStyleModel",
      "state": {
       "description_width": ""
      }
     },
     "4e9b86d98634489bb91b98a582f3dbd1": {
      "model_module": "@jupyter-widgets/controls",
      "model_module_version": "1.5.0",
      "model_name": "HTMLModel",
      "state": {
       "layout": "IPY_MODEL_1244674c87c44934a3af62dd356bf35f",
       "style": "IPY_MODEL_2b7c786fb12c419eab8c342a59fd98f0",
       "value": "<h4 class='text-danger'>Select a Folder to Continue</h4>"
      }
     },
     "4f5056719efb4bfab2f6c555512ef40e": {
      "model_module": "@jupyter-widgets/base",
      "model_module_version": "1.2.0",
      "model_name": "LayoutModel",
      "state": {
       "visibility": "hidden"
      }
     },
     "5032aa5cb22447b7b1013a5f88779ccc": {
      "model_module": "@jupyter-widgets/controls",
      "model_module_version": "1.5.0",
      "model_name": "TextModel",
      "state": {
       "description": "UUID",
       "layout": "IPY_MODEL_0a891a9fdc3443ddb119c515bc11d3f0",
       "style": "IPY_MODEL_88d703c95f2940d9a09f34164d704850"
      }
     },
     "507fa176b1904ed093a94697cde73f15": {
      "model_module": "@jupyter-widgets/controls",
      "model_module_version": "1.5.0",
      "model_name": "HTMLModel",
      "state": {
       "layout": "IPY_MODEL_02cd15c1d2dd4e46b458f8773b4b706b",
       "style": "IPY_MODEL_1b6cc50d05bb4302abbb3f5d5a2bea57"
      }
     },
     "51661f1bf97a408bad86263af2eaabce": {
      "model_module": "@jupyter-widgets/controls",
      "model_module_version": "1.5.0",
      "model_name": "HTMLModel",
      "state": {
       "layout": "IPY_MODEL_2a6cfdbcfe704bd68cfcf23be182ea48",
       "style": "IPY_MODEL_f4294a4c7a7a4b938292746872931c54",
       "value": "<h4 class='text-danger'>Select a Folder to Continue</h4>"
      }
     },
     "517062c4fa0441949edb8a4fa2ac9aa3": {
      "model_module": "@jupyter-widgets/controls",
      "model_module_version": "1.5.0",
      "model_name": "HTMLModel",
      "state": {
       "layout": "IPY_MODEL_d5a9decd6b0e4809824404a3e816cf35",
       "style": "IPY_MODEL_6fcd23e75f294230a1128c455366f69b",
       "value": "<h2>Select a Folder to Continue</h2>"
      }
     },
     "51bf0550502447abb7b8e06ee3723f21": {
      "model_module": "@jupyter-widgets/controls",
      "model_module_version": "1.5.0",
      "model_name": "ButtonStyleModel",
      "state": {}
     },
     "53589bcca5e248f7a751c44ebbba00f0": {
      "model_module": "@jupyter-widgets/controls",
      "model_module_version": "1.5.0",
      "model_name": "DescriptionStyleModel",
      "state": {
       "description_width": ""
      }
     },
     "53b16a9db90c4dcd8026ab7c390cbf96": {
      "model_module": "@jupyter-widgets/base",
      "model_module_version": "1.2.0",
      "model_name": "LayoutModel",
      "state": {
       "display": "none"
      }
     },
     "540b2a83ef364794a21eab3bf35fce9e": {
      "model_module": "@jupyter-widgets/base",
      "model_module_version": "1.2.0",
      "model_name": "LayoutModel",
      "state": {
       "width": "auto"
      }
     },
     "543031765be24aa3a88ce816c1050460": {
      "model_module": "@jupyter-widgets/base",
      "model_module_version": "1.2.0",
      "model_name": "LayoutModel",
      "state": {
       "width": "auto"
      }
     },
     "547685c368b34da592fe1d872abc5b87": {
      "model_module": "@jupyter-widgets/base",
      "model_module_version": "1.2.0",
      "model_name": "LayoutModel",
      "state": {
       "width": "auto"
      }
     },
     "547d5ad036d14d06b924fd85798ed5a5": {
      "model_module": "@jupyter-widgets/base",
      "model_module_version": "1.2.0",
      "model_name": "LayoutModel",
      "state": {}
     },
     "5481721bb4714b45a633d79fa8449a99": {
      "model_module": "@jupyter-widgets/controls",
      "model_module_version": "1.5.0",
      "model_name": "DescriptionStyleModel",
      "state": {
       "description_width": ""
      }
     },
     "548359ffee33418f887c596f0c9bf52f": {
      "model_module": "@jupyter-widgets/base",
      "model_module_version": "1.2.0",
      "model_name": "LayoutModel",
      "state": {
       "display": "none"
      }
     },
     "54fbd7586c1d409d998a73393ed5bb45": {
      "model_module": "@jupyter-widgets/base",
      "model_module_version": "1.2.0",
      "model_name": "LayoutModel",
      "state": {
       "visibility": "hidden"
      }
     },
     "55fb2bfd359d4ba592f013c9e230e99d": {
      "model_module": "@jupyter-widgets/controls",
      "model_module_version": "1.5.0",
      "model_name": "HBoxModel",
      "state": {
       "children": [
        "IPY_MODEL_4c58a2af6e5c474cbc98c2473cb65f20",
        "IPY_MODEL_07ac895dea4b4f43a49ac0b3231833ff",
        "IPY_MODEL_2f46f31a21e74c6e829272029b67c2be"
       ],
       "layout": "IPY_MODEL_be430cf9ff6a43eb98d67ca879a1efaa"
      }
     },
     "5647986b28a84f97bacc712151a2abf8": {
      "model_module": "@jupyter-widgets/base",
      "model_module_version": "1.2.0",
      "model_name": "LayoutModel",
      "state": {
       "width": "auto"
      }
     },
     "5653e70104244690a13a4896b97be618": {
      "model_module": "@jupyter-widgets/controls",
      "model_module_version": "1.5.0",
      "model_name": "DropdownModel",
      "state": {
       "_options_labels": [
        "/home/mxwbio/wetai/homepage",
        "/home/mxwbio/wetai",
        "/home/mxwbio",
        "/home",
        "/"
       ],
       "index": 0,
       "layout": "IPY_MODEL_2f2ae267b83e454ba439d8aed7e33fd0",
       "style": "IPY_MODEL_6b4579761a194b0eb46e66862ba43657"
      }
     },
     "565b3d6c58f94e71ba39037209517133": {
      "model_module": "@jupyter-widgets/controls",
      "model_module_version": "1.5.0",
      "model_name": "ButtonStyleModel",
      "state": {}
     },
     "566e2a5ea97c49d9a015080899030883": {
      "model_module": "@jupyter-widgets/controls",
      "model_module_version": "1.5.0",
      "model_name": "GridBoxModel",
      "state": {
       "children": [
        "IPY_MODEL_0867dded4e88470fa41fd8ca802b4b26",
        "IPY_MODEL_63d15968f024446ab9fbf63fd6c6d5fe",
        "IPY_MODEL_92912f178bc645a09812370d1aebec8e"
       ],
       "layout": "IPY_MODEL_0156aaa6c063414da8ae6132251f30a1"
      }
     },
     "5688dcecdc894df48f58c1f0a1e55854": {
      "model_module": "@jupyter-widgets/controls",
      "model_module_version": "1.5.0",
      "model_name": "DescriptionStyleModel",
      "state": {
       "description_width": ""
      }
     },
     "56907e94c6354601a1054a0ba3e2e0c2": {
      "model_module": "@jupyter-widgets/base",
      "model_module_version": "1.2.0",
      "model_name": "LayoutModel",
      "state": {
       "width": "auto"
      }
     },
     "57ab6e9294a8469fa356303a1ccdd0db": {
      "model_module": "@jupyter-widgets/controls",
      "model_module_version": "1.5.0",
      "model_name": "DescriptionStyleModel",
      "state": {
       "description_width": ""
      }
     },
     "58169951e52d4fadb777ac4e8d628df0": {
      "model_module": "@jupyter-widgets/controls",
      "model_module_version": "1.5.0",
      "model_name": "GridBoxModel",
      "state": {
       "children": [
        "IPY_MODEL_1bb01bcad2f14509a9e4c00820ff4b06",
        "IPY_MODEL_61660732264e4d49b89c93997a1686e6",
        "IPY_MODEL_8fd85232b6744e43a4b0715b7934a124"
       ],
       "layout": "IPY_MODEL_05c2e517d8d34b4c85af32f52c71286a"
      }
     },
     "5831b7658db24240809256e78814e2a0": {
      "model_module": "@jupyter-widgets/base",
      "model_module_version": "1.2.0",
      "model_name": "LayoutModel",
      "state": {}
     },
     "5834f70fa236470bba760cd2588623f3": {
      "model_module": "@jupyter-widgets/base",
      "model_module_version": "1.2.0",
      "model_name": "LayoutModel",
      "state": {
       "display": "none",
       "min_width": "6em",
       "width": "6em"
      }
     },
     "58cea7bc6ece4f5e935eb18409e800b0": {
      "model_module": "@jupyter-widgets/controls",
      "model_module_version": "1.5.0",
      "model_name": "DescriptionStyleModel",
      "state": {
       "description_width": ""
      }
     },
     "59383ade9dbc49f2b0f453035f628632": {
      "model_module": "@jupyter-widgets/controls",
      "model_module_version": "1.5.0",
      "model_name": "ButtonModel",
      "state": {
       "description": "Cancel",
       "layout": "IPY_MODEL_5f0982e8e85646b3b5678a0310d3feb5",
       "style": "IPY_MODEL_eb72d8f5100444c0a93b3565aa59c12c"
      }
     },
     "5959c9d5dc98478f9a71f741d695177e": {
      "model_module": "@jupyter-widgets/controls",
      "model_module_version": "1.5.0",
      "model_name": "HTMLModel",
      "state": {
       "layout": "IPY_MODEL_a913ead12fd74260ae7bfb7913df03e6",
       "style": "IPY_MODEL_a10db7bcac06414c8e3ec3280ee6e0cf",
       "value": "<h4 class='text-danger'>Select a Folder to Continue</h4>"
      }
     },
     "5974d687899440e7ad08fd8b74db09cd": {
      "model_module": "@jupyter-widgets/controls",
      "model_module_version": "1.5.0",
      "model_name": "ButtonStyleModel",
      "state": {}
     },
     "5984d138246242d9a9d72ccaa5cb10b3": {
      "model_module": "@jupyter-widgets/controls",
      "model_module_version": "1.5.0",
      "model_name": "TextareaModel",
      "state": {
       "layout": "IPY_MODEL_0a8d20dd17d6493698a14e6271df76cf",
       "style": "IPY_MODEL_934485a0dfec4fa9b3a35f34646a3ae4",
       "value": "Here we are test if a message is saved adsf awf jaisdof jiasdjf aifhuga siduflh ajsdfh asdfj iaosdfji adfios alsdifj aosdijf ioasdjf oaisdjf ioasdjfio ajsdfio jasiodfj aoisdjf asdfj oiasdf oasdjf asdfi jasdof jaisdfo oiasdfj oasdjf iasdjf oiasdf jiaosdfj "
      }
     },
     "5a143d03a3c54e3d8341b5eefdcb4c9b": {
      "model_module": "@jupyter-widgets/controls",
      "model_module_version": "1.5.0",
      "model_name": "DescriptionStyleModel",
      "state": {
       "description_width": ""
      }
     },
     "5a184f2c6c82466b95119aea32836696": {
      "model_module": "@jupyter-widgets/controls",
      "model_module_version": "1.5.0",
      "model_name": "DescriptionStyleModel",
      "state": {
       "description_width": ""
      }
     },
     "5a1f74d41fb641c3b5eb9013f2125a73": {
      "model_module": "@jupyter-widgets/controls",
      "model_module_version": "1.5.0",
      "model_name": "DescriptionStyleModel",
      "state": {
       "description_width": ""
      }
     },
     "5a7be241a5914901b4e528287ecd5b5b": {
      "model_module": "@jupyter-widgets/controls",
      "model_module_version": "1.5.0",
      "model_name": "ButtonStyleModel",
      "state": {}
     },
     "5aafbcb8e8a543e0a49208fd31042e7e": {
      "model_module": "@jupyter-widgets/base",
      "model_module_version": "1.2.0",
      "model_name": "LayoutModel",
      "state": {
       "grid_gap": "0px 0px",
       "grid_template_areas": "\n            'pathlist pathlist'\n            'dircontent dircontent'\n            ",
       "grid_template_columns": "60% 40%",
       "grid_template_rows": "auto auto",
       "width": "auto"
      }
     },
     "5b07fd37da29408c8477f1fe9f729e16": {
      "model_module": "@jupyter-widgets/controls",
      "model_module_version": "1.5.0",
      "model_name": "ButtonStyleModel",
      "state": {}
     },
     "5b745ac3671a4db5b5e48cb5c2410469": {
      "model_module": "@jupyter-widgets/base",
      "model_module_version": "1.2.0",
      "model_name": "LayoutModel",
      "state": {
       "display": "none"
      }
     },
     "5ba10b398235413da77f2ccd769e43b5": {
      "model_module": "@jupyter-widgets/controls",
      "model_module_version": "1.5.0",
      "model_name": "DropdownModel",
      "state": {
       "_options_labels": [
        "/home/mxwbio/Desktop/MxW/SampleDataSet/Organoids/5167/Activity_Scan/000003",
        "/home/mxwbio/Desktop/MxW/SampleDataSet/Organoids/5167/Activity_Scan",
        "/home/mxwbio/Desktop/MxW/SampleDataSet/Organoids/5167",
        "/home/mxwbio/Desktop/MxW/SampleDataSet/Organoids",
        "/home/mxwbio/Desktop/MxW/SampleDataSet",
        "/home/mxwbio/Desktop/MxW",
        "/home/mxwbio/Desktop",
        "/home/mxwbio",
        "/home",
        "/"
       ],
       "index": 0,
       "layout": "IPY_MODEL_aab780ace9374913bd7d80094bce6c28",
       "style": "IPY_MODEL_235ecc7c60244a9ebc58d9a65ec45675"
      }
     },
     "5bc51d32a6e948438248fc59a697de40": {
      "model_module": "@jupyter-widgets/base",
      "model_module_version": "1.2.0",
      "model_name": "LayoutModel",
      "state": {
       "width": "auto"
      }
     },
     "5ccba693082e45a8b82cf4637de62b90": {
      "model_module": "@jupyter-widgets/base",
      "model_module_version": "1.2.0",
      "model_name": "LayoutModel",
      "state": {
       "overflow": "auto"
      }
     },
     "5d494d18c7ef4e058d4556fd1cca5267": {
      "model_module": "@jupyter-widgets/base",
      "model_module_version": "1.2.0",
      "model_name": "LayoutModel",
      "state": {
       "grid_area": "pathlist",
       "width": "auto"
      }
     },
     "5d85e1bd3ea5420e88073f1852137182": {
      "model_module": "@jupyter-widgets/base",
      "model_module_version": "1.2.0",
      "model_name": "LayoutModel",
      "state": {}
     },
     "5dcf64d0ba2d4fc59fbf1dc8f0135796": {
      "model_module": "@jupyter-widgets/base",
      "model_module_version": "1.2.0",
      "model_name": "LayoutModel",
      "state": {
       "display": "none",
       "grid_area": "filename",
       "width": "auto"
      }
     },
     "5df6bb7061ff4710a375f5f568c1773d": {
      "model_module": "@jupyter-widgets/controls",
      "model_module_version": "1.5.0",
      "model_name": "ButtonStyleModel",
      "state": {}
     },
     "5e10a74f2aff48168830324242d14cb6": {
      "model_module": "@jupyter-widgets/controls",
      "model_module_version": "1.5.0",
      "model_name": "ButtonStyleModel",
      "state": {}
     },
     "5e74799ad1ff4abe93d00d9c9a62bf15": {
      "model_module": "@jupyter-widgets/base",
      "model_module_version": "1.2.0",
      "model_name": "LayoutModel",
      "state": {
       "width": "auto"
      }
     },
     "5eb0ace2c1b7439ca7ff766881172b8e": {
      "model_module": "@jupyter-widgets/base",
      "model_module_version": "1.2.0",
      "model_name": "LayoutModel",
      "state": {
       "margin": "0 0 0 1em"
      }
     },
     "5ecaff7ae2634cb99d4c8ebaf0d96802": {
      "model_module": "@jupyter-widgets/controls",
      "model_module_version": "1.5.0",
      "model_name": "ButtonStyleModel",
      "state": {}
     },
     "5f0982e8e85646b3b5678a0310d3feb5": {
      "model_module": "@jupyter-widgets/base",
      "model_module_version": "1.2.0",
      "model_name": "LayoutModel",
      "state": {
       "display": "none",
       "min_width": "6em",
       "width": "6em"
      }
     },
     "5f8dc7848c7643d095889ea1534af04e": {
      "model_module": "@jupyter-widgets/base",
      "model_module_version": "1.2.0",
      "model_name": "LayoutModel",
      "state": {
       "display": "none",
       "grid_gap": "0px 0px",
       "grid_template_areas": "\n            'pathlist pathlist'\n            'dircontent dircontent'\n            ",
       "grid_template_columns": "60% 40%",
       "grid_template_rows": "auto auto",
       "width": "auto"
      }
     },
     "5fbe6d040d30472ebf2d03f9f78eb1eb": {
      "model_module": "@jupyter-widgets/controls",
      "model_module_version": "1.5.0",
      "model_name": "ButtonStyleModel",
      "state": {}
     },
     "60bc1f5efa4d4ae997bdd0fcb883290b": {
      "model_module": "@jupyter-widgets/controls",
      "model_module_version": "1.5.0",
      "model_name": "ButtonStyleModel",
      "state": {}
     },
     "60f3ad5bba2b478395211072df294f78": {
      "model_module": "@jupyter-widgets/base",
      "model_module_version": "1.2.0",
      "model_name": "LayoutModel",
      "state": {
       "width": "auto"
      }
     },
     "61660732264e4d49b89c93997a1686e6": {
      "model_module": "@jupyter-widgets/controls",
      "model_module_version": "1.5.0",
      "model_name": "TextModel",
      "state": {
       "disabled": true,
       "layout": "IPY_MODEL_2b1b971d6cc948638199f3b360300118",
       "placeholder": "output filename",
       "style": "IPY_MODEL_de2957623738408d8b51fc4b3e0b5a41"
      }
     },
     "627c6078f0c641bd8a513fa6781a6ac3": {
      "model_module": "@jupyter-widgets/base",
      "model_module_version": "1.2.0",
      "model_name": "LayoutModel",
      "state": {
       "width": "auto"
      }
     },
     "62d9ab372cd544f6859a607021740489": {
      "model_module": "@jupyter-widgets/controls",
      "model_module_version": "1.5.0",
      "model_name": "HTMLModel",
      "state": {
       "layout": "IPY_MODEL_72bccc7068b64cf19318816c2ac51810",
       "style": "IPY_MODEL_0a5767d379e1462ca47e542d8aeabfb1"
      }
     },
     "632f2a9b2bb54a1c9ba4448dc6d274c1": {
      "model_module": "@jupyter-widgets/base",
      "model_module_version": "1.2.0",
      "model_name": "LayoutModel",
      "state": {}
     },
     "63974348b0434156a53ce0fd727b0665": {
      "model_module": "@jupyter-widgets/controls",
      "model_module_version": "1.5.0",
      "model_name": "ButtonStyleModel",
      "state": {}
     },
     "63d15968f024446ab9fbf63fd6c6d5fe": {
      "model_module": "@jupyter-widgets/controls",
      "model_module_version": "1.5.0",
      "model_name": "TextModel",
      "state": {
       "disabled": true,
       "layout": "IPY_MODEL_93035932136241b5979e2b84a0ecad8b",
       "placeholder": "output filename",
       "style": "IPY_MODEL_212ec4fdd22a40609b103cd9dfb67675"
      }
     },
     "64314640e2874536830ce854bb15f4c4": {
      "model_module": "@jupyter-widgets/controls",
      "model_module_version": "1.5.0",
      "model_name": "ButtonStyleModel",
      "state": {}
     },
     "645688b058b44927b1235745be8e10c1": {
      "model_module": "@jupyter-widgets/controls",
      "model_module_version": "1.5.0",
      "model_name": "ButtonStyleModel",
      "state": {}
     },
     "6473e2156b7e42b48972ac044bea75f3": {
      "model_module": "@jupyter-widgets/controls",
      "model_module_version": "1.5.0",
      "model_name": "DescriptionStyleModel",
      "state": {
       "description_width": ""
      }
     },
     "64836daa7b6d4e3babd3c92709921800": {
      "model_module": "@jupyter-widgets/controls",
      "model_module_version": "1.5.0",
      "model_name": "ButtonModel",
      "state": {
       "button_style": "success",
       "description": "Upload",
       "layout": "IPY_MODEL_d14dd3212a214743abf43a2d18b821e9",
       "style": "IPY_MODEL_76aaa57a1bdd4bfbaf25a99ed46c6f69"
      }
     },
     "658dd71648d24cd3bb74b8963c7d27d5": {
      "model_module": "@jupyter-widgets/base",
      "model_module_version": "1.2.0",
      "model_name": "LayoutModel",
      "state": {
       "width": "auto"
      }
     },
     "65a5887792c345fcadb580daf4713ff7": {
      "model_module": "@jupyter-widgets/controls",
      "model_module_version": "1.5.0",
      "model_name": "VBoxModel",
      "state": {
       "children": [
        "IPY_MODEL_84a95c4a6ee8481eb3af9ab3dd0b4309",
        "IPY_MODEL_a176ecae4ffb4972977d3f24cc3c235f",
        "IPY_MODEL_c1d19ff74f8e4f2bbfbd44cf9303f434"
       ],
       "layout": "IPY_MODEL_fa1c638f1dc5461abd6706e880677eba"
      }
     },
     "65e952ed415c49afaf98b5304c8891b8": {
      "model_module": "@jupyter-widgets/controls",
      "model_module_version": "1.5.0",
      "model_name": "ButtonStyleModel",
      "state": {}
     },
     "6656dd8a02b543b28a2adc22cd304e87": {
      "model_module": "@jupyter-widgets/base",
      "model_module_version": "1.2.0",
      "model_name": "LayoutModel",
      "state": {}
     },
     "66b41a12bd744f84a7a2fdac37d3d0ef": {
      "model_module": "@jupyter-widgets/controls",
      "model_module_version": "1.5.0",
      "model_name": "ButtonStyleModel",
      "state": {}
     },
     "66f21f99b73f4777b7014275d4e44a07": {
      "model_module": "@jupyter-widgets/controls",
      "model_module_version": "1.5.0",
      "model_name": "DescriptionStyleModel",
      "state": {
       "description_width": ""
      }
     },
     "670a82313a7347fc9a048581748f372e": {
      "model_module": "@jupyter-widgets/controls",
      "model_module_version": "1.5.0",
      "model_name": "ButtonModel",
      "state": {
       "button_style": "danger",
       "icon": "refresh",
       "layout": "IPY_MODEL_8a9c5c01a11e4934a2d5898751fd3afa",
       "style": "IPY_MODEL_43c167b075764da1a928d4d01946b9c5"
      }
     },
     "671bb5ab69dd46289e7b953f87289524": {
      "model_module": "@jupyter-widgets/base",
      "model_module_version": "1.2.0",
      "model_name": "LayoutModel",
      "state": {
       "visibility": "hidden"
      }
     },
     "671fba8f3db94c63976efa221db13265": {
      "model_module": "@jupyter-widgets/base",
      "model_module_version": "1.2.0",
      "model_name": "LayoutModel",
      "state": {
       "width": "auto"
      }
     },
     "672a5a0c1ace4496a460760c5dd29821": {
      "model_module": "@jupyter-widgets/controls",
      "model_module_version": "1.5.0",
      "model_name": "ButtonStyleModel",
      "state": {}
     },
     "67454c707b1c434abcea37ac1254b856": {
      "model_module": "@jupyter-widgets/base",
      "model_module_version": "1.2.0",
      "model_name": "LayoutModel",
      "state": {
       "width": "auto"
      }
     },
     "67703d8633384ad08c4bbccc93fafdac": {
      "model_module": "@jupyter-widgets/base",
      "model_module_version": "1.2.0",
      "model_name": "LayoutModel",
      "state": {
       "width": "auto"
      }
     },
     "680ca2bcd6c744ba879a9377ea6757d2": {
      "model_module": "@jupyter-widgets/controls",
      "model_module_version": "1.5.0",
      "model_name": "DescriptionStyleModel",
      "state": {
       "description_width": ""
      }
     },
     "68483007131f43a99d93059136c86734": {
      "model_module": "@jupyter-widgets/controls",
      "model_module_version": "1.5.0",
      "model_name": "SelectModel",
      "state": {
       "_options_labels": [
        "📁 .."
       ],
       "index": null,
       "layout": "IPY_MODEL_23f8a8ed18dd48a88937bc4dc615cef2",
       "rows": 8,
       "style": "IPY_MODEL_1f0c3b22e0cf446da1f147909b3eaa10"
      }
     },
     "6887eceda4f14a89b48f99170aa9f579": {
      "model_module": "@jupyter-widgets/controls",
      "model_module_version": "1.5.0",
      "model_name": "HTMLModel",
      "state": {
       "layout": "IPY_MODEL_b9211a8f30df427bb319f2324d901768",
       "placeholder": "",
       "style": "IPY_MODEL_5481721bb4714b45a633d79fa8449a99",
       "value": "<span style=\"color:black;\">No selection</span>"
      }
     },
     "6990febd15ce4ccb9c7694ac2b1fafb7": {
      "model_module": "@jupyter-widgets/controls",
      "model_module_version": "1.5.0",
      "model_name": "ButtonModel",
      "state": {
       "button_style": "success",
       "description": "Upload",
       "layout": "IPY_MODEL_60f3ad5bba2b478395211072df294f78",
       "style": "IPY_MODEL_a13722569a14455da66e3d0ec968f307"
      }
     },
     "69eab73fe5144e82be95f86bdbd20deb": {
      "model_module": "@jupyter-widgets/controls",
      "model_module_version": "1.5.0",
      "model_name": "ButtonStyleModel",
      "state": {}
     },
     "6a461734c9374f7fbd853129b26f0954": {
      "model_module": "@jupyter-widgets/base",
      "model_module_version": "1.2.0",
      "model_name": "LayoutModel",
      "state": {
       "grid_area": "pathlist",
       "width": "auto"
      }
     },
     "6a4dc547e034455d9f2e41238fe43ee3": {
      "model_module": "@jupyter-widgets/controls",
      "model_module_version": "1.5.0",
      "model_name": "TextareaModel",
      "state": {
       "layout": "IPY_MODEL_ab4019afea234fdc8000040bae4789ab",
       "style": "IPY_MODEL_0c5b5bca874346f5aa7ebf366716a848"
      }
     },
     "6a5ca7eb30314766b4d91c5d2eeba580": {
      "model_module": "@jupyter-widgets/base",
      "model_module_version": "1.2.0",
      "model_name": "LayoutModel",
      "state": {
       "width": "auto"
      }
     },
     "6a79d414be94461e9638b0a2c0e0425b": {
      "model_module": "@jupyter-widgets/controls",
      "model_module_version": "1.5.0",
      "model_name": "ButtonModel",
      "state": {
       "button_style": "danger",
       "icon": "refresh",
       "layout": "IPY_MODEL_97671ffccad645abbfc0a8a2529bba1c",
       "style": "IPY_MODEL_0a4a71a988f9404ab04c41d9605a5bfd"
      }
     },
     "6af39a0bdeff4dc7bf18222dc5b67eef": {
      "model_module": "@jupyter-widgets/controls",
      "model_module_version": "1.5.0",
      "model_name": "ButtonModel",
      "state": {
       "button_style": "info",
       "description": "Continue",
       "layout": "IPY_MODEL_d8f28aa632584e22ad279fd706d730dc",
       "style": "IPY_MODEL_8c2000ffd4644ad2aa27ca16ab391536"
      }
     },
     "6b4579761a194b0eb46e66862ba43657": {
      "model_module": "@jupyter-widgets/controls",
      "model_module_version": "1.5.0",
      "model_name": "DescriptionStyleModel",
      "state": {
       "description_width": ""
      }
     },
     "6c3a70e5ba564a0eaae262a6714e1514": {
      "model_module": "@jupyter-widgets/base",
      "model_module_version": "1.2.0",
      "model_name": "LayoutModel",
      "state": {}
     },
     "6c5764592b7044739b9af91e2c2bc596": {
      "model_module": "@jupyter-widgets/controls",
      "model_module_version": "1.5.0",
      "model_name": "TextModel",
      "state": {
       "description": "UUID",
       "layout": "IPY_MODEL_07d45e7604fd4a0eb7bccc6db878a332",
       "style": "IPY_MODEL_80cc7fcfc4cf4f4ab973766369f30043",
       "value": "2020-03-25-e-testit"
      }
     },
     "6ca31603ce3648f3a26557dd885e8e82": {
      "model_module": "@jupyter-widgets/controls",
      "model_module_version": "1.5.0",
      "model_name": "HTMLModel",
      "state": {
       "layout": "IPY_MODEL_6ff3b5c8c47c420aa2019b09b29cfa69",
       "style": "IPY_MODEL_7098e73a860f4992b221a1f9cf4570a8",
       "value": "<h4 class='text-danger'>Select a Folder to Continue</h4>"
      }
     },
     "6cb02fac17c049cf9d76dcbd17195cac": {
      "model_module": "@jupyter-widgets/controls",
      "model_module_version": "1.5.0",
      "model_name": "DescriptionStyleModel",
      "state": {
       "description_width": ""
      }
     },
     "6cf0bea8d00e4763a8fa3270ebbea64e": {
      "model_module": "@jupyter-widgets/controls",
      "model_module_version": "1.5.0",
      "model_name": "ButtonModel",
      "state": {
       "description": "Cancel",
       "layout": "IPY_MODEL_c74d1d634f9f4bc3a49a7ff08f2107c9",
       "style": "IPY_MODEL_e6b39d4c4087468799d38fccdc4acaba"
      }
     },
     "6d868b3be4544548b6272a68ac8474ef": {
      "model_module": "@jupyter-widgets/base",
      "model_module_version": "1.2.0",
      "model_name": "LayoutModel",
      "state": {
       "width": "auto"
      }
     },
     "6d9f1e6c110943619560fdb28b92a309": {
      "model_module": "@jupyter-widgets/base",
      "model_module_version": "1.2.0",
      "model_name": "LayoutModel",
      "state": {
       "width": "auto"
      }
     },
     "6de8194f93924af4afe67e670bff1f53": {
      "model_module": "@jupyter-widgets/controls",
      "model_module_version": "1.5.0",
      "model_name": "ButtonModel",
      "state": {
       "button_style": "success",
       "description": "Start",
       "layout": "IPY_MODEL_b4173727659541fea0f5c1d9d6a980b8",
       "style": "IPY_MODEL_dadb726fded540ea956a697d66f8096f"
      }
     },
     "6dfe2ed8698c40d0a55ee0ba76d24e5b": {
      "model_module": "@jupyter-widgets/controls",
      "model_module_version": "1.5.0",
      "model_name": "ButtonModel",
      "state": {
       "button_style": "success",
       "description": "Start",
       "layout": "IPY_MODEL_a557c882c6db426bb302ca97bd10e9ea",
       "style": "IPY_MODEL_43ae8c3dc384445dbd9486f197f384e2"
      }
     },
     "6e679f57f6ec409cb2ba76f1a553d6c9": {
      "model_module": "@jupyter-widgets/controls",
      "model_module_version": "1.5.0",
      "model_name": "ButtonStyleModel",
      "state": {}
     },
     "6e67f5439692448fa3b16555719dbfd1": {
      "model_module": "@jupyter-widgets/controls",
      "model_module_version": "1.5.0",
      "model_name": "SelectModel",
      "state": {
       "_options_labels": [
        "📁 ..",
        "📁 Apps",
        "📁 Projects"
       ],
       "index": null,
       "layout": "IPY_MODEL_f6be8a09a3af4d6cb34c1f3405ceaf1b",
       "rows": 8,
       "style": "IPY_MODEL_05c982cd2a8144a5adf277785e7e2ccf"
      }
     },
     "6eb11bc6aab4476d89065adcf653388d": {
      "model_module": "@jupyter-widgets/base",
      "model_module_version": "1.2.0",
      "model_name": "LayoutModel",
      "state": {
       "width": "auto"
      }
     },
     "6f3359eedcaf4712a578f392f8b8b1d3": {
      "model_module": "@jupyter-widgets/base",
      "model_module_version": "1.2.0",
      "model_name": "LayoutModel",
      "state": {
       "min_width": "6em",
       "width": "6em"
      }
     },
     "6f7376c28983454bb4cede138a9c1aa4": {
      "model_module": "@jupyter-widgets/base",
      "model_module_version": "1.2.0",
      "model_name": "LayoutModel",
      "state": {
       "width": "auto"
      }
     },
     "6f76089436a04585bf414830d377b858": {
      "model_module": "@jupyter-widgets/base",
      "model_module_version": "1.2.0",
      "model_name": "LayoutModel",
      "state": {
       "grid_area": "dircontent",
       "width": "auto"
      }
     },
     "6f881702b2434bbb9784994632037104": {
      "model_module": "@jupyter-widgets/controls",
      "model_module_version": "1.5.0",
      "model_name": "ButtonStyleModel",
      "state": {}
     },
     "6f92e04583f84c7ea8bcc4bf30503cb6": {
      "model_module": "@jupyter-widgets/controls",
      "model_module_version": "1.5.0",
      "model_name": "GridBoxModel",
      "state": {
       "children": [
        "IPY_MODEL_10c699dbaca44cd4af7f0b2b5d9723e0",
        "IPY_MODEL_f629b28aba44431a94650c4e63460aa8",
        "IPY_MODEL_1a438a8cade94d6195d4c6cab10f8abd"
       ],
       "layout": "IPY_MODEL_2f5effff985847e3916304a04d5984fd"
      }
     },
     "6fcd23e75f294230a1128c455366f69b": {
      "model_module": "@jupyter-widgets/controls",
      "model_module_version": "1.5.0",
      "model_name": "DescriptionStyleModel",
      "state": {
       "description_width": ""
      }
     },
     "6ff3b5c8c47c420aa2019b09b29cfa69": {
      "model_module": "@jupyter-widgets/base",
      "model_module_version": "1.2.0",
      "model_name": "LayoutModel",
      "state": {
       "visibility": "hidden"
      }
     },
     "7094f9f37ae04d85a25116655e98b39f": {
      "model_module": "@jupyter-widgets/controls",
      "model_module_version": "1.5.0",
      "model_name": "ButtonStyleModel",
      "state": {}
     },
     "7098e73a860f4992b221a1f9cf4570a8": {
      "model_module": "@jupyter-widgets/controls",
      "model_module_version": "1.5.0",
      "model_name": "DescriptionStyleModel",
      "state": {
       "description_width": ""
      }
     },
     "7149474662bb4b538746a77974976e5a": {
      "model_module": "@jupyter-widgets/base",
      "model_module_version": "1.2.0",
      "model_name": "LayoutModel",
      "state": {
       "width": "auto"
      }
     },
     "7168dabb855640af8fd0a7f88cfe8c3c": {
      "model_module": "@jupyter-widgets/controls",
      "model_module_version": "1.5.0",
      "model_name": "ButtonModel",
      "state": {
       "button_style": "success",
       "description": "Start",
       "layout": "IPY_MODEL_6f7376c28983454bb4cede138a9c1aa4",
       "style": "IPY_MODEL_78b0f9eb11a74802af3823801225181d"
      }
     },
     "72317ab1a8b44c1f8d24c96550c48c3b": {
      "model_module": "@jupyter-widgets/controls",
      "model_module_version": "1.5.0",
      "model_name": "BoxModel",
      "state": {
       "children": [
        "IPY_MODEL_fd6b32fa7272467fb0afc9905e11388c"
       ],
       "layout": "IPY_MODEL_a27b6fe51c434a98bb4ac4093bda3a17"
      }
     },
     "725c004e200e43039ecfba3ac203a115": {
      "model_module": "@jupyter-widgets/controls",
      "model_module_version": "1.5.0",
      "model_name": "TextModel",
      "state": {
       "description": "UUID",
       "layout": "IPY_MODEL_547d5ad036d14d06b924fd85798ed5a5",
       "style": "IPY_MODEL_bb09a7eea8234f4eb628b75739103d0e",
       "value": "x"
      }
     },
     "72bccc7068b64cf19318816c2ac51810": {
      "model_module": "@jupyter-widgets/base",
      "model_module_version": "1.2.0",
      "model_name": "LayoutModel",
      "state": {
       "display": "none"
      }
     },
     "72d6c613204a4930a22fe75eccad5d00": {
      "model_module": "@jupyter-widgets/controls",
      "model_module_version": "1.5.0",
      "model_name": "BoxModel",
      "state": {
       "children": [
        "IPY_MODEL_2b3be3fb0af54fc8a62a42bb3bdfde8f"
       ],
       "layout": "IPY_MODEL_f35d0dfaa2d44660b91825e7a4993d5e"
      }
     },
     "73576f803c80497f81c6e33698bc271c": {
      "model_module": "@jupyter-widgets/base",
      "model_module_version": "1.2.0",
      "model_name": "LayoutModel",
      "state": {
       "display": "none"
      }
     },
     "735e37f42a9e4820a3c4d1ce287f3c53": {
      "model_module": "@jupyter-widgets/controls",
      "model_module_version": "1.5.0",
      "model_name": "ButtonStyleModel",
      "state": {}
     },
     "73d99cf2f30d4a1295ea5a49b6f5487f": {
      "model_module": "@jupyter-widgets/base",
      "model_module_version": "1.2.0",
      "model_name": "LayoutModel",
      "state": {
       "min_width": "6em",
       "width": "6em"
      }
     },
     "7418626e997b44929ea7cb882d965a26": {
      "model_module": "@jupyter-widgets/controls",
      "model_module_version": "1.5.0",
      "model_name": "ButtonStyleModel",
      "state": {}
     },
     "7474d56151594efea6fd88f9004b45ce": {
      "model_module": "@jupyter-widgets/controls",
      "model_module_version": "1.5.0",
      "model_name": "ButtonModel",
      "state": {
       "button_style": "info",
       "description": "Continue",
       "layout": "IPY_MODEL_93c6f3be8b0c4d78b2fe704eac436867",
       "style": "IPY_MODEL_51bf0550502447abb7b8e06ee3723f21"
      }
     },
     "748d27a7e00c47b3ad8df0cf4c027838": {
      "model_module": "@jupyter-widgets/base",
      "model_module_version": "1.2.0",
      "model_name": "LayoutModel",
      "state": {
       "width": "auto"
      }
     },
     "74c582ec74c5465e885a45d6f1598c9c": {
      "model_module": "@jupyter-widgets/controls",
      "model_module_version": "1.5.0",
      "model_name": "TextareaModel",
      "state": {
       "layout": "IPY_MODEL_c103ca8509d748f0b3d30e84df973682",
       "style": "IPY_MODEL_2119e7b7c75d4d7091f512c3f24753c4",
       "value": "Not Additional Notes"
      }
     },
     "759d32b1fc1f44a29fee30bf06260657": {
      "model_module": "@jupyter-widgets/base",
      "model_module_version": "1.2.0",
      "model_name": "LayoutModel",
      "state": {
       "grid_area": "pathlist",
       "width": "auto"
      }
     },
     "760a6fa3d65340ceabc0417ea70cd2c2": {
      "model_module": "@jupyter-widgets/base",
      "model_module_version": "1.2.0",
      "model_name": "LayoutModel",
      "state": {
       "min_width": "6em",
       "width": "6em"
      }
     },
     "765de43b5bd64a0ea45724577f710442": {
      "model_module": "@jupyter-widgets/base",
      "model_module_version": "1.2.0",
      "model_name": "LayoutModel",
      "state": {
       "min_width": "6em",
       "width": "6em"
      }
     },
     "76aaa57a1bdd4bfbaf25a99ed46c6f69": {
      "model_module": "@jupyter-widgets/controls",
      "model_module_version": "1.5.0",
      "model_name": "ButtonStyleModel",
      "state": {}
     },
     "76c574d2a4b24ba398f2fb9d0fea5de5": {
      "model_module": "@jupyter-widgets/controls",
      "model_module_version": "1.5.0",
      "model_name": "GridBoxModel",
      "state": {
       "children": [
        "IPY_MODEL_461c66c3eab04d649d24d615ea20e422",
        "IPY_MODEL_2234fc543e2d460c974522541df813e1",
        "IPY_MODEL_68483007131f43a99d93059136c86734"
       ],
       "layout": "IPY_MODEL_5f8dc7848c7643d095889ea1534af04e"
      }
     },
     "773ca8988ca942479195269c16ab265a": {
      "model_module": "@jupyter-widgets/controls",
      "model_module_version": "1.5.0",
      "model_name": "DescriptionStyleModel",
      "state": {
       "description_width": ""
      }
     },
     "77630b3ebbe347eabcea22b3aec9b3c7": {
      "model_module": "@jupyter-widgets/controls",
      "model_module_version": "1.5.0",
      "model_name": "ButtonModel",
      "state": {
       "description": "Cancel",
       "layout": "IPY_MODEL_10d42b4e63764810afed848f9b4958b8",
       "style": "IPY_MODEL_9b24063b388945bba4c38d7138d4b347"
      }
     },
     "77d14fd52edb406b9f66126a238fd813": {
      "model_module": "@jupyter-widgets/controls",
      "model_module_version": "1.5.0",
      "model_name": "ButtonStyleModel",
      "state": {}
     },
     "7894abc6e8034c4caadce2fe23106672": {
      "model_module": "@jupyter-widgets/controls",
      "model_module_version": "1.5.0",
      "model_name": "DescriptionStyleModel",
      "state": {
       "description_width": ""
      }
     },
     "78b0f9eb11a74802af3823801225181d": {
      "model_module": "@jupyter-widgets/controls",
      "model_module_version": "1.5.0",
      "model_name": "ButtonStyleModel",
      "state": {}
     },
     "7932d498485c4c8e8a282269c40e15ee": {
      "model_module": "@jupyter-widgets/base",
      "model_module_version": "1.2.0",
      "model_name": "LayoutModel",
      "state": {
       "visibility": "hidden"
      }
     },
     "793fc050e9ea48118ca3252736462059": {
      "model_module": "@jupyter-widgets/base",
      "model_module_version": "1.2.0",
      "model_name": "LayoutModel",
      "state": {
       "grid_area": "dircontent",
       "width": "auto"
      }
     },
     "79e8d4143e1c4ad89673d68cfc6d4d45": {
      "model_module": "@jupyter-widgets/controls",
      "model_module_version": "1.5.0",
      "model_name": "HTMLModel",
      "state": {
       "layout": "IPY_MODEL_1070c944d7e248a88a8c6214bcb12c83",
       "style": "IPY_MODEL_4d18ffe270e64f37a8237756079cd8b5",
       "value": "<h4 class='text-danger'>Select a Folder to Continue</h4>"
      }
     },
     "79fa04eecf1f4b69b0a5cba869abb60d": {
      "model_module": "@jupyter-widgets/base",
      "model_module_version": "1.2.0",
      "model_name": "LayoutModel",
      "state": {
       "width": "auto"
      }
     },
     "7a05a10cb8ab41b5b61a6c14e215a2c7": {
      "model_module": "@jupyter-widgets/controls",
      "model_module_version": "1.5.0",
      "model_name": "ButtonModel",
      "state": {
       "description": "Change",
       "layout": "IPY_MODEL_760a6fa3d65340ceabc0417ea70cd2c2",
       "style": "IPY_MODEL_ca6a6ab573d94982be34acf8889743ba"
      }
     },
     "7a5707ce3137478d93bb76955274b013": {
      "model_module": "@jupyter-widgets/base",
      "model_module_version": "1.2.0",
      "model_name": "LayoutModel",
      "state": {
       "width": "auto"
      }
     },
     "7abd860049914bb7a2359251f69dadf9": {
      "model_module": "@jupyter-widgets/controls",
      "model_module_version": "1.5.0",
      "model_name": "GridBoxModel",
      "state": {
       "children": [
        "IPY_MODEL_459b33fcf3c5400da767a3cad569904b",
        "IPY_MODEL_b299d2e7df424376b9a88702432a29ff",
        "IPY_MODEL_378e503807844dc488ebd399ccfc25d6"
       ],
       "layout": "IPY_MODEL_c1444d10e8d441c78663b62e6e49b103"
      }
     },
     "7b8bfb27bee44125a22ae122baf3d5e0": {
      "model_module": "@jupyter-widgets/controls",
      "model_module_version": "1.5.0",
      "model_name": "SelectModel",
      "state": {
       "_options_labels": [
        "📁 .."
       ],
       "index": null,
       "layout": "IPY_MODEL_899d2d89bb3b45ba95749f86642adfad",
       "rows": 8,
       "style": "IPY_MODEL_7894abc6e8034c4caadce2fe23106672"
      }
     },
     "7bd9f42cba074f0bb90904d0a1b5fd87": {
      "model_module": "@jupyter-widgets/controls",
      "model_module_version": "1.5.0",
      "model_name": "DescriptionStyleModel",
      "state": {
       "description_width": ""
      }
     },
     "7bf79511596a484186846b9b3e9b105a": {
      "model_module": "@jupyter-widgets/base",
      "model_module_version": "1.2.0",
      "model_name": "LayoutModel",
      "state": {}
     },
     "7c306d7b1355454c881a1ad7640cf948": {
      "model_module": "@jupyter-widgets/controls",
      "model_module_version": "1.5.0",
      "model_name": "DescriptionStyleModel",
      "state": {
       "description_width": ""
      }
     },
     "7c9e1d23472a45c9aadb69d8f190c096": {
      "model_module": "@jupyter-widgets/controls",
      "model_module_version": "1.5.0",
      "model_name": "ButtonStyleModel",
      "state": {}
     },
     "7c9eec03a67940228d10f0a2cb615c21": {
      "model_module": "@jupyter-widgets/base",
      "model_module_version": "1.2.0",
      "model_name": "LayoutModel",
      "state": {
       "grid_area": "dircontent",
       "width": "auto"
      }
     },
     "7cb3eed0341740c789d709be658caa18": {
      "model_module": "@jupyter-widgets/base",
      "model_module_version": "1.2.0",
      "model_name": "LayoutModel",
      "state": {}
     },
     "7db118cf01bf40edbf22e2724853d409": {
      "model_module": "@jupyter-widgets/controls",
      "model_module_version": "1.5.0",
      "model_name": "DescriptionStyleModel",
      "state": {
       "description_width": ""
      }
     },
     "7e19ecd2884143329320096bdec081ff": {
      "model_module": "@jupyter-widgets/base",
      "model_module_version": "1.2.0",
      "model_name": "LayoutModel",
      "state": {
       "margin": "0 0 0 1em"
      }
     },
     "7e58e559bf814481aec6d6cb13edc0bb": {
      "model_module": "@jupyter-widgets/controls",
      "model_module_version": "1.5.0",
      "model_name": "ButtonStyleModel",
      "state": {}
     },
     "7e96a03dcf824eea84aa30acf2da519e": {
      "model_module": "@jupyter-widgets/controls",
      "model_module_version": "1.5.0",
      "model_name": "HBoxModel",
      "state": {
       "children": [
        "IPY_MODEL_8c1dbf7e58ba4bcdb9c75460263097d5",
        "IPY_MODEL_1bac0883e71042358a7741a879824863",
        "IPY_MODEL_03d0b6560c974ac68a5141af8de1adea"
       ],
       "layout": "IPY_MODEL_e8fb8b7fffb248958925008fe90902b4"
      }
     },
     "7efa71d007e1415a95f08218cd23e8d2": {
      "model_module": "@jupyter-widgets/base",
      "model_module_version": "1.2.0",
      "model_name": "LayoutModel",
      "state": {
       "margin": "0 0 0 1em"
      }
     },
     "8010d44de22d409bad5224ab02c59ee5": {
      "model_module": "@jupyter-widgets/controls",
      "model_module_version": "1.5.0",
      "model_name": "TextModel",
      "state": {
       "disabled": true,
       "layout": "IPY_MODEL_467859dbb9354443a4850019804582fa",
       "placeholder": "output filename",
       "style": "IPY_MODEL_413303d548614fd694c58da4b541814e"
      }
     },
     "802aa1fdb53e41c499329c96e05d943d": {
      "model_module": "@jupyter-widgets/controls",
      "model_module_version": "1.5.0",
      "model_name": "DescriptionStyleModel",
      "state": {
       "description_width": ""
      }
     },
     "806ac3ab52eb48a0ab863487fc74e161": {
      "model_module": "@jupyter-widgets/base",
      "model_module_version": "1.2.0",
      "model_name": "LayoutModel",
      "state": {
       "display": "none"
      }
     },
     "80720cf3274547b4aeb1b6148f69e6ec": {
      "model_module": "@jupyter-widgets/base",
      "model_module_version": "1.2.0",
      "model_name": "LayoutModel",
      "state": {
       "width": "auto"
      }
     },
     "8097b46876b047f395420963e6a7116c": {
      "model_module": "@jupyter-widgets/controls",
      "model_module_version": "1.5.0",
      "model_name": "TextareaModel",
      "state": {
       "layout": "IPY_MODEL_6656dd8a02b543b28a2adc22cd304e87",
       "style": "IPY_MODEL_9ead0ad081e34f869f47290360a8360e"
      }
     },
     "80c5309a78174d90a20ceb065c29b988": {
      "model_module": "@jupyter-widgets/base",
      "model_module_version": "1.2.0",
      "model_name": "LayoutModel",
      "state": {
       "width": "auto"
      }
     },
     "80cc7fcfc4cf4f4ab973766369f30043": {
      "model_module": "@jupyter-widgets/controls",
      "model_module_version": "1.5.0",
      "model_name": "DescriptionStyleModel",
      "state": {
       "description_width": ""
      }
     },
     "80e0b90823b4438eb556e9a2fd786344": {
      "model_module": "@jupyter-widgets/controls",
      "model_module_version": "1.5.0",
      "model_name": "DescriptionStyleModel",
      "state": {
       "description_width": ""
      }
     },
     "8123c8e0533943b7a45a688f96f0a2d7": {
      "model_module": "@jupyter-widgets/base",
      "model_module_version": "1.2.0",
      "model_name": "LayoutModel",
      "state": {
       "display": "none",
       "grid_area": "filename",
       "width": "auto"
      }
     },
     "81a6c669802b44a7bbbfdbbe72aec785": {
      "model_module": "@jupyter-widgets/base",
      "model_module_version": "1.2.0",
      "model_name": "LayoutModel",
      "state": {
       "overflow": "auto"
      }
     },
     "81dcf501aa2841d98ae4228cfc5942fd": {
      "model_module": "@jupyter-widgets/controls",
      "model_module_version": "1.5.0",
      "model_name": "BoxModel",
      "state": {
       "children": [
        "IPY_MODEL_21e77808690442f2a139bf86dd1ad564"
       ],
       "layout": "IPY_MODEL_2fc469277d3a425d87893c3cd927b876"
      }
     },
     "82614531b4d246909e2ef63f20c7bde9": {
      "model_module": "@jupyter-widgets/base",
      "model_module_version": "1.2.0",
      "model_name": "LayoutModel",
      "state": {
       "width": "auto"
      }
     },
     "84a95c4a6ee8481eb3af9ab3dd0b4309": {
      "model_module": "@jupyter-widgets/controls",
      "model_module_version": "1.5.0",
      "model_name": "HTMLModel",
      "state": {
       "layout": "IPY_MODEL_5b745ac3671a4db5b5e48cb5c2410469",
       "style": "IPY_MODEL_c52ba93b54ce41e88fe7a3669f73bf6f"
      }
     },
     "84b2df8210444843bfd5102089a4e705": {
      "model_module": "@jupyter-widgets/controls",
      "model_module_version": "1.5.0",
      "model_name": "HBoxModel",
      "state": {
       "children": [
        "IPY_MODEL_b637e31e9de741369146adfddd2b8579",
        "IPY_MODEL_e4bd49dc1b6947a580d62eb6bb6113b2",
        "IPY_MODEL_a7c688e6900c4e839b00e4d48c9f8147"
       ],
       "layout": "IPY_MODEL_8c4dc50d00b3467fad4b2742e5ea16b3"
      }
     },
     "84bc5afecff043d0a0ed2e3cc8786c3e": {
      "model_module": "@jupyter-widgets/controls",
      "model_module_version": "1.5.0",
      "model_name": "ButtonStyleModel",
      "state": {}
     },
     "8576f675ba3440d8bf6d9666f792ac55": {
      "model_module": "@jupyter-widgets/base",
      "model_module_version": "1.2.0",
      "model_name": "LayoutModel",
      "state": {
       "display": "none"
      }
     },
     "85be891031184f3aa81b0f707b8af41f": {
      "model_module": "@jupyter-widgets/base",
      "model_module_version": "1.2.0",
      "model_name": "LayoutModel",
      "state": {
       "overflow": "auto"
      }
     },
     "863af8bea6044de7afb0a9fae9bb2d4e": {
      "model_module": "@jupyter-widgets/base",
      "model_module_version": "1.2.0",
      "model_name": "LayoutModel",
      "state": {
       "display": "none"
      }
     },
     "86edcfad44b949d78afa83fb5f160146": {
      "model_module": "@jupyter-widgets/controls",
      "model_module_version": "1.5.0",
      "model_name": "HTMLModel",
      "state": {
       "layout": "IPY_MODEL_7cb3eed0341740c789d709be658caa18",
       "style": "IPY_MODEL_7bd9f42cba074f0bb90904d0a1b5fd87",
       "value": "<h4 class='text-danger'>Select a Folder to Continue</h4>"
      }
     },
     "87a83313d6ab4fb4ade060e87a46385d": {
      "model_module": "@jupyter-widgets/controls",
      "model_module_version": "1.5.0",
      "model_name": "DescriptionStyleModel",
      "state": {
       "description_width": ""
      }
     },
     "87ba84879a344138a008c00b8c9c9f3e": {
      "model_module": "@jupyter-widgets/base",
      "model_module_version": "1.2.0",
      "model_name": "LayoutModel",
      "state": {
       "width": "auto"
      }
     },
     "881b3c43c482419c85bdd9293e3b24c9": {
      "model_module": "@jupyter-widgets/controls",
      "model_module_version": "1.5.0",
      "model_name": "ButtonModel",
      "state": {
       "description": "Select",
       "layout": "IPY_MODEL_d0751f09ae9b443cb8f2f5dd68244947",
       "style": "IPY_MODEL_0f9ebad9357a4622bb8f8de3b895da2f"
      }
     },
     "888e043024c74bb3839235f8f2eacedc": {
      "model_module": "@jupyter-widgets/controls",
      "model_module_version": "1.5.0",
      "model_name": "HTMLModel",
      "state": {
       "layout": "IPY_MODEL_afeaf4d47a62481d8805a7a6ddd2f467",
       "style": "IPY_MODEL_03ff2954fdfc405fa4bd98c075481759",
       "value": "<h4 class='text-danger'>Select a Folder to Continue</h4>"
      }
     },
     "888f859cd72b466aad7ded28f9f8fc60": {
      "model_module": "@jupyter-widgets/controls",
      "model_module_version": "1.5.0",
      "model_name": "DescriptionStyleModel",
      "state": {
       "description_width": ""
      }
     },
     "88d703c95f2940d9a09f34164d704850": {
      "model_module": "@jupyter-widgets/controls",
      "model_module_version": "1.5.0",
      "model_name": "DescriptionStyleModel",
      "state": {
       "description_width": ""
      }
     },
     "89140d82783544be82ce8990c3d80d03": {
      "model_module": "@jupyter-widgets/base",
      "model_module_version": "1.2.0",
      "model_name": "LayoutModel",
      "state": {
       "width": "auto"
      }
     },
     "893fa7e043d3439eb20b84fbe8240712": {
      "model_module": "@jupyter-widgets/controls",
      "model_module_version": "1.5.0",
      "model_name": "ButtonModel",
      "state": {
       "button_style": "success",
       "description": "Upload",
       "layout": "IPY_MODEL_3be2a49b0d3547e694a98d9187928023",
       "style": "IPY_MODEL_2f19af4ee5674f14b0cf080421b85d5b"
      }
     },
     "899d2d89bb3b45ba95749f86642adfad": {
      "model_module": "@jupyter-widgets/base",
      "model_module_version": "1.2.0",
      "model_name": "LayoutModel",
      "state": {
       "grid_area": "dircontent",
       "width": "auto"
      }
     },
     "89c0094c34174970a9f17a6652b57e98": {
      "model_module": "@jupyter-widgets/base",
      "model_module_version": "1.2.0",
      "model_name": "LayoutModel",
      "state": {}
     },
     "8a308753093a45cdbac355dbb48ebbcc": {
      "model_module": "@jupyter-widgets/controls",
      "model_module_version": "1.5.0",
      "model_name": "ButtonModel",
      "state": {
       "button_style": "success",
       "description": "Start",
       "layout": "IPY_MODEL_cad529f961da4f64a1ba26a4bb06c75e",
       "style": "IPY_MODEL_3e70b83cbc974920a970dfcd794c6c54"
      }
     },
     "8a9c5c01a11e4934a2d5898751fd3afa": {
      "model_module": "@jupyter-widgets/base",
      "model_module_version": "1.2.0",
      "model_name": "LayoutModel",
      "state": {
       "width": "auto"
      }
     },
     "8abf22a165c747d8b8e1277d102b7380": {
      "model_module": "@jupyter-widgets/base",
      "model_module_version": "1.2.0",
      "model_name": "LayoutModel",
      "state": {}
     },
     "8b2080b7a85c4b039d8a54357fba39aa": {
      "model_module": "@jupyter-widgets/controls",
      "model_module_version": "1.5.0",
      "model_name": "HBoxModel",
      "state": {
       "children": [
        "IPY_MODEL_10100cfffe0047fa9aa51a297eff7800",
        "IPY_MODEL_274190d35acb4b3a9efd73fb3d189b23",
        "IPY_MODEL_30d2ce177bb9459eb10afcc54a707b52"
       ],
       "layout": "IPY_MODEL_9d735b8292fe428b8d87ee17d5c91b1a"
      }
     },
     "8b2bd440e45346918366491f10f83ccc": {
      "model_module": "@jupyter-widgets/base",
      "model_module_version": "1.2.0",
      "model_name": "LayoutModel",
      "state": {
       "width": "auto"
      }
     },
     "8b52430851604cb4984a3d31ccc696e1": {
      "model_module": "@jupyter-widgets/base",
      "model_module_version": "1.2.0",
      "model_name": "LayoutModel",
      "state": {}
     },
     "8bc4f728687047ad9d64134687a8e1e7": {
      "model_module": "@jupyter-widgets/base",
      "model_module_version": "1.2.0",
      "model_name": "LayoutModel",
      "state": {
       "overflow": "auto"
      }
     },
     "8bfcb7806f72424eb0f18e7b68c4b380": {
      "model_module": "@jupyter-widgets/controls",
      "model_module_version": "1.5.0",
      "model_name": "SelectModel",
      "state": {
       "_options_labels": [
        "📁 .."
       ],
       "index": null,
       "layout": "IPY_MODEL_7c9eec03a67940228d10f0a2cb615c21",
       "rows": 8,
       "style": "IPY_MODEL_b4b6e803d7104347871e44f86d5ba64f"
      }
     },
     "8c1dbf7e58ba4bcdb9c75460263097d5": {
      "model_module": "@jupyter-widgets/controls",
      "model_module_version": "1.5.0",
      "model_name": "ButtonModel",
      "state": {
       "description": "Select",
       "layout": "IPY_MODEL_765de43b5bd64a0ea45724577f710442",
       "style": "IPY_MODEL_5b07fd37da29408c8477f1fe9f729e16"
      }
     },
     "8c2000ffd4644ad2aa27ca16ab391536": {
      "model_module": "@jupyter-widgets/controls",
      "model_module_version": "1.5.0",
      "model_name": "ButtonStyleModel",
      "state": {}
     },
     "8c4dc50d00b3467fad4b2742e5ea16b3": {
      "model_module": "@jupyter-widgets/base",
      "model_module_version": "1.2.0",
      "model_name": "LayoutModel",
      "state": {
       "width": "auto"
      }
     },
     "8c656a8a6c9644cb9347e8bdb82bd5d0": {
      "model_module": "@jupyter-widgets/controls",
      "model_module_version": "1.5.0",
      "model_name": "DescriptionStyleModel",
      "state": {
       "description_width": ""
      }
     },
     "8d09bde29ddd442bb5bf3f1168cef367": {
      "model_module": "@jupyter-widgets/controls",
      "model_module_version": "1.5.0",
      "model_name": "HTMLModel",
      "state": {
       "layout": "IPY_MODEL_863af8bea6044de7afb0a9fae9bb2d4e",
       "style": "IPY_MODEL_0e8ba9acddb04af2afcf737d870091dc"
      }
     },
     "8d1d98d2c090428f91541f26b043eb7f": {
      "model_module": "@jupyter-widgets/controls",
      "model_module_version": "1.5.0",
      "model_name": "DescriptionStyleModel",
      "state": {
       "description_width": ""
      }
     },
     "8d5b78bae87f433a89745dac0a22125f": {
      "model_module": "@jupyter-widgets/controls",
      "model_module_version": "1.5.0",
      "model_name": "ButtonModel",
      "state": {
       "button_style": "success",
       "description": "Upload",
       "layout": "IPY_MODEL_e97df43200a941c7a606cbf17c438c20",
       "style": "IPY_MODEL_41c0d9ae167042e6b8aa0fa2d8a53aa6"
      }
     },
     "8d81d872766a43cc95768f68a902edfc": {
      "model_module": "@jupyter-widgets/controls",
      "model_module_version": "1.5.0",
      "model_name": "ButtonModel",
      "state": {
       "button_style": "info",
       "description": "Continue",
       "layout": "IPY_MODEL_748d27a7e00c47b3ad8df0cf4c027838",
       "style": "IPY_MODEL_a9fff3f39bcb4b3f9f95fc64d65b6d09"
      }
     },
     "8da8f6ff88844f7aaf0cd97e3ed5e42c": {
      "model_module": "@jupyter-widgets/controls",
      "model_module_version": "1.5.0",
      "model_name": "ButtonModel",
      "state": {
       "button_style": "success",
       "description": "Start",
       "layout": "IPY_MODEL_7a5707ce3137478d93bb76955274b013",
       "style": "IPY_MODEL_5df6bb7061ff4710a375f5f568c1773d"
      }
     },
     "8dc8fab4b8c243c7b87c20df063c54b0": {
      "model_module": "@jupyter-widgets/base",
      "model_module_version": "1.2.0",
      "model_name": "LayoutModel",
      "state": {
       "width": "auto"
      }
     },
     "8e6e13a3fd9540258b3de7df0a7c0681": {
      "model_module": "@jupyter-widgets/controls",
      "model_module_version": "1.5.0",
      "model_name": "DescriptionStyleModel",
      "state": {
       "description_width": ""
      }
     },
     "8e8284be1f914da89357246ba007238f": {
      "model_module": "@jupyter-widgets/controls",
      "model_module_version": "1.5.0",
      "model_name": "DescriptionStyleModel",
      "state": {
       "description_width": ""
      }
     },
     "8e8baec597ed4c48859dfae8e9ff69bb": {
      "model_module": "@jupyter-widgets/controls",
      "model_module_version": "1.5.0",
      "model_name": "ButtonStyleModel",
      "state": {}
     },
     "8f1261ba4aa1486ab0e0aaa470ddd79b": {
      "model_module": "@jupyter-widgets/controls",
      "model_module_version": "1.5.0",
      "model_name": "ButtonModel",
      "state": {
       "button_style": "info",
       "description": "Continue",
       "layout": "IPY_MODEL_0f14df01c6d646439bae122d5166b72d",
       "style": "IPY_MODEL_e2b48c9c084a41a4a04a4b9bb210c2bf"
      }
     },
     "8f429872406d4d7abe9a80eb6ef92c38": {
      "model_module": "@jupyter-widgets/controls",
      "model_module_version": "1.5.0",
      "model_name": "TextModel",
      "state": {
       "disabled": true,
       "layout": "IPY_MODEL_4df63f3e531049caa504fd09e208ffe5",
       "placeholder": "output filename",
       "style": "IPY_MODEL_ad75c412bb3a49759d27545fa33de718"
      }
     },
     "8f9d3fe5f149413e899203d5f2878355": {
      "model_module": "@jupyter-widgets/controls",
      "model_module_version": "1.5.0",
      "model_name": "HBoxModel",
      "state": {
       "children": [
        "IPY_MODEL_085b0cf32820413891f480d04e45198f",
        "IPY_MODEL_98be0d95e5f346fb896ee813cb91dfa7",
        "IPY_MODEL_af300b5e8873445381971d3bc42345fb"
       ],
       "layout": "IPY_MODEL_40f3c4e23e094ebaa21f3e717476b26c"
      }
     },
     "8fd85232b6744e43a4b0715b7934a124": {
      "model_module": "@jupyter-widgets/controls",
      "model_module_version": "1.5.0",
      "model_name": "SelectModel",
      "state": {
       "_options_labels": [
        "📁 ..",
        "📁 Maxwell_Activity_Scanner",
        "📁 Maxwell_Controller",
        "📁 Maxwell_Electrode_GUI",
        "📁 Maxwell_Uploader",
        "📁 Microfluidics_Controller"
       ],
       "index": null,
       "layout": "IPY_MODEL_ce0d81d5f3c5488cae851729b5d7612c",
       "rows": 8,
       "style": "IPY_MODEL_f30be6897ab04ea7ac13622d069c9335"
      }
     },
     "90bce12f162d435b9db3a05de7d2b779": {
      "model_module": "@jupyter-widgets/controls",
      "model_module_version": "1.5.0",
      "model_name": "TextareaModel",
      "state": {
       "layout": "IPY_MODEL_0ca3ae072d0d48f2a9182761c15ce78f",
       "style": "IPY_MODEL_57ab6e9294a8469fa356303a1ccdd0db"
      }
     },
     "910767a437bc4295bebf62f7f4ca1f60": {
      "model_module": "@jupyter-widgets/controls",
      "model_module_version": "1.5.0",
      "model_name": "DescriptionStyleModel",
      "state": {
       "description_width": ""
      }
     },
     "9162a9bcd0ca4fb5ab62e361c66a3c01": {
      "model_module": "@jupyter-widgets/controls",
      "model_module_version": "1.5.0",
      "model_name": "ButtonModel",
      "state": {
       "button_style": "info",
       "description": "Continue",
       "layout": "IPY_MODEL_47dd0a28fab843748ccc384561c400ac",
       "style": "IPY_MODEL_66b41a12bd744f84a7a2fdac37d3d0ef"
      }
     },
     "91b1d23b6ccc4f7aa7a792487bf72d01": {
      "model_module": "@jupyter-widgets/controls",
      "model_module_version": "1.5.0",
      "model_name": "DescriptionStyleModel",
      "state": {
       "description_width": ""
      }
     },
     "9202fbb35da34c159f15d6ae97bc2781": {
      "model_module": "@jupyter-widgets/controls",
      "model_module_version": "1.5.0",
      "model_name": "DescriptionStyleModel",
      "state": {
       "description_width": ""
      }
     },
     "928b7ecdd15f430ca9eea899797c9a76": {
      "model_module": "@jupyter-widgets/controls",
      "model_module_version": "1.5.0",
      "model_name": "DescriptionStyleModel",
      "state": {
       "description_width": ""
      }
     },
     "92912f178bc645a09812370d1aebec8e": {
      "model_module": "@jupyter-widgets/controls",
      "model_module_version": "1.5.0",
      "model_name": "SelectModel",
      "state": {
       "_options_labels": [
        "📁 .."
       ],
       "index": null,
       "layout": "IPY_MODEL_ca4f284b0ba345629803c1181b015adf",
       "rows": 8,
       "style": "IPY_MODEL_8d1d98d2c090428f91541f26b043eb7f"
      }
     },
     "93035932136241b5979e2b84a0ecad8b": {
      "model_module": "@jupyter-widgets/base",
      "model_module_version": "1.2.0",
      "model_name": "LayoutModel",
      "state": {
       "display": "none",
       "grid_area": "filename",
       "width": "auto"
      }
     },
     "930fea5f979842f588c6128ea38eda00": {
      "model_module": "@jupyter-widgets/controls",
      "model_module_version": "1.5.0",
      "model_name": "GridBoxModel",
      "state": {
       "children": [
        "IPY_MODEL_15826d0922f147d7a927ed8230c102a1",
        "IPY_MODEL_3661bcb358094e72858176dbd8c8f2d3",
        "IPY_MODEL_9aad697e3bc243b382b29a4f584bb9a1"
       ],
       "layout": "IPY_MODEL_9d2e1adba8dc45f19b5e1a5c4ae75734"
      }
     },
     "9331c29052974698b6684efd9b8bb47f": {
      "model_module": "@jupyter-widgets/base",
      "model_module_version": "1.2.0",
      "model_name": "LayoutModel",
      "state": {
       "width": "auto"
      }
     },
     "934485a0dfec4fa9b3a35f34646a3ae4": {
      "model_module": "@jupyter-widgets/controls",
      "model_module_version": "1.5.0",
      "model_name": "DescriptionStyleModel",
      "state": {
       "description_width": ""
      }
     },
     "939ae1d2c0694695b8c384a6fd27ba4a": {
      "model_module": "@jupyter-widgets/controls",
      "model_module_version": "1.5.0",
      "model_name": "ButtonModel",
      "state": {
       "button_style": "success",
       "description": "Start",
       "layout": "IPY_MODEL_c180471f0d2f441e915689dea68a0dd8",
       "style": "IPY_MODEL_230e8f3841cd42949e74ea688b69bb65"
      }
     },
     "93c6f3be8b0c4d78b2fe704eac436867": {
      "model_module": "@jupyter-widgets/base",
      "model_module_version": "1.2.0",
      "model_name": "LayoutModel",
      "state": {
       "width": "auto"
      }
     },
     "93e03c013ee84b20a161f12b4f89f63d": {
      "model_module": "@jupyter-widgets/base",
      "model_module_version": "1.2.0",
      "model_name": "LayoutModel",
      "state": {
       "visibility": "hidden"
      }
     },
     "941187cba22e4f2bb3448626bb5d2ebf": {
      "model_module": "@jupyter-widgets/controls",
      "model_module_version": "1.5.0",
      "model_name": "TextModel",
      "state": {
       "description": "UUID",
       "layout": "IPY_MODEL_e5e6121b67fe46a6940117b39baed73d",
       "style": "IPY_MODEL_25d731937d8c42e5be4543c3d189fbfe"
      }
     },
     "945f9dd225b045ddbc5e6d634bea2d31": {
      "model_module": "@jupyter-widgets/base",
      "model_module_version": "1.2.0",
      "model_name": "LayoutModel",
      "state": {}
     },
     "94844bdb36bc42438ee0bd01390809b0": {
      "model_module": "@jupyter-widgets/base",
      "model_module_version": "1.2.0",
      "model_name": "LayoutModel",
      "state": {
       "visibility": "hidden"
      }
     },
     "94860687115a4791adfa58a2d6a150a8": {
      "model_module": "@jupyter-widgets/base",
      "model_module_version": "1.2.0",
      "model_name": "LayoutModel",
      "state": {
       "display": "none",
       "grid_gap": "0px 0px",
       "grid_template_areas": "\n            'pathlist pathlist'\n            'dircontent dircontent'\n            ",
       "grid_template_columns": "60% 40%",
       "grid_template_rows": "auto auto",
       "width": "auto"
      }
     },
     "94919f1ebdea4bb28db888020507f815": {
      "model_module": "@jupyter-widgets/controls",
      "model_module_version": "1.5.0",
      "model_name": "DescriptionStyleModel",
      "state": {
       "description_width": ""
      }
     },
     "9689b5b6deb143c691ef0bdd4b614164": {
      "model_module": "@jupyter-widgets/base",
      "model_module_version": "1.2.0",
      "model_name": "LayoutModel",
      "state": {
       "margin": "0 0 0 1em"
      }
     },
     "96edf807c53741f08bbe719c23ce79dc": {
      "model_module": "@jupyter-widgets/base",
      "model_module_version": "1.2.0",
      "model_name": "LayoutModel",
      "state": {
       "min_width": "6em",
       "width": "6em"
      }
     },
     "971df0a9e16842f18f3eebc915297789": {
      "model_module": "@jupyter-widgets/controls",
      "model_module_version": "1.5.0",
      "model_name": "ButtonStyleModel",
      "state": {}
     },
     "97350ae5e147492691028a6ddd075251": {
      "model_module": "@jupyter-widgets/controls",
      "model_module_version": "1.5.0",
      "model_name": "DescriptionStyleModel",
      "state": {
       "description_width": ""
      }
     },
     "975f70ffda4a4447b063a037dfe1c9d3": {
      "model_module": "@jupyter-widgets/base",
      "model_module_version": "1.2.0",
      "model_name": "LayoutModel",
      "state": {
       "width": "auto"
      }
     },
     "97671ffccad645abbfc0a8a2529bba1c": {
      "model_module": "@jupyter-widgets/base",
      "model_module_version": "1.2.0",
      "model_name": "LayoutModel",
      "state": {
       "width": "auto"
      }
     },
     "97a531af53594b38b2470c532be06fa7": {
      "model_module": "@jupyter-widgets/base",
      "model_module_version": "1.2.0",
      "model_name": "LayoutModel",
      "state": {
       "width": "auto"
      }
     },
     "9808e61544e84147a4aef163c235fb35": {
      "model_module": "@jupyter-widgets/base",
      "model_module_version": "1.2.0",
      "model_name": "LayoutModel",
      "state": {
       "display": "none"
      }
     },
     "98422f15f02449ab819099499a26684e": {
      "model_module": "@jupyter-widgets/controls",
      "model_module_version": "1.5.0",
      "model_name": "TextModel",
      "state": {
       "description": "UUID",
       "layout": "IPY_MODEL_f225d02577ac4907aac9e34bd3510d43",
       "style": "IPY_MODEL_6473e2156b7e42b48972ac044bea75f3"
      }
     },
     "98be0d95e5f346fb896ee813cb91dfa7": {
      "model_module": "@jupyter-widgets/controls",
      "model_module_version": "1.5.0",
      "model_name": "ButtonModel",
      "state": {
       "description": "Cancel",
       "layout": "IPY_MODEL_5834f70fa236470bba760cd2588623f3",
       "style": "IPY_MODEL_5a7be241a5914901b4e528287ecd5b5b"
      }
     },
     "991d40d3f5994c23bb49fe6582322b85": {
      "model_module": "@jupyter-widgets/controls",
      "model_module_version": "1.5.0",
      "model_name": "VBoxModel",
      "state": {
       "children": [
        "IPY_MODEL_62d9ab372cd544f6859a607021740489",
        "IPY_MODEL_58169951e52d4fadb777ac4e8d628df0",
        "IPY_MODEL_84b2df8210444843bfd5102089a4e705"
       ],
       "layout": "IPY_MODEL_fa1c638f1dc5461abd6706e880677eba"
      }
     },
     "999dbf5f0d284dff8bd2d5ddfaa4a06f": {
      "model_module": "@jupyter-widgets/controls",
      "model_module_version": "1.5.0",
      "model_name": "GridBoxModel",
      "state": {
       "children": [
        "IPY_MODEL_dd8b6a06abaf44f1803981dea6f2550a",
        "IPY_MODEL_3fd673aea7ce47b18a2da7817b141b17",
        "IPY_MODEL_b061f0c33a224d478a720be61ef75ef7"
       ],
       "layout": "IPY_MODEL_5aafbcb8e8a543e0a49208fd31042e7e"
      }
     },
     "9a1bf471ca564449945ed1a0a7883ac7": {
      "model_module": "@jupyter-widgets/controls",
      "model_module_version": "1.5.0",
      "model_name": "ButtonStyleModel",
      "state": {}
     },
     "9a67c34e2ad64eb5b719cf896a4b04db": {
      "model_module": "@jupyter-widgets/base",
      "model_module_version": "1.2.0",
      "model_name": "LayoutModel",
      "state": {
       "width": "auto"
      }
     },
     "9aad697e3bc243b382b29a4f584bb9a1": {
      "model_module": "@jupyter-widgets/controls",
      "model_module_version": "1.5.0",
      "model_name": "SelectModel",
      "state": {
       "_options_labels": [
        "📁 ..",
        "📁 Apps",
        "📁 Projects"
       ],
       "index": null,
       "layout": "IPY_MODEL_36fd9d50b6a84555842a29e6c827e05c",
       "rows": 8,
       "style": "IPY_MODEL_9cf0a629d43d45a69b9b6b91c3b21acf"
      }
     },
     "9b24063b388945bba4c38d7138d4b347": {
      "model_module": "@jupyter-widgets/controls",
      "model_module_version": "1.5.0",
      "model_name": "ButtonStyleModel",
      "state": {}
     },
     "9b84718a09cd413ebf04e7de85a386f5": {
      "model_module": "@jupyter-widgets/controls",
      "model_module_version": "1.5.0",
      "model_name": "ButtonStyleModel",
      "state": {}
     },
     "9bde03994ffb4541934ced115e776719": {
      "model_module": "@jupyter-widgets/base",
      "model_module_version": "1.2.0",
      "model_name": "LayoutModel",
      "state": {}
     },
     "9c0ffe15bca04e5780466dbd9a65e236": {
      "model_module": "@jupyter-widgets/controls",
      "model_module_version": "1.5.0",
      "model_name": "ButtonStyleModel",
      "state": {}
     },
     "9c4763f7d3af458fb680ee284b4bca5f": {
      "model_module": "@jupyter-widgets/controls",
      "model_module_version": "1.5.0",
      "model_name": "DescriptionStyleModel",
      "state": {
       "description_width": ""
      }
     },
     "9cad9f623ad6481fab48498d779a93f0": {
      "model_module": "@jupyter-widgets/base",
      "model_module_version": "1.2.0",
      "model_name": "LayoutModel",
      "state": {
       "width": "auto"
      }
     },
     "9ce2b472290443c280103ac015acfc49": {
      "model_module": "@jupyter-widgets/controls",
      "model_module_version": "1.5.0",
      "model_name": "HBoxModel",
      "state": {
       "children": [
        "IPY_MODEL_2ec3fedd412f4352b2faadb42927dddd",
        "IPY_MODEL_0924d9153e604c7186ac1450509c9e18",
        "IPY_MODEL_72317ab1a8b44c1f8d24c96550c48c3b"
       ],
       "layout": "IPY_MODEL_9cad9f623ad6481fab48498d779a93f0"
      }
     },
     "9cf0a629d43d45a69b9b6b91c3b21acf": {
      "model_module": "@jupyter-widgets/controls",
      "model_module_version": "1.5.0",
      "model_name": "DescriptionStyleModel",
      "state": {
       "description_width": ""
      }
     },
     "9cfe27f8e72e4ecca584c1a9477f55ed": {
      "model_module": "@jupyter-widgets/controls",
      "model_module_version": "1.5.0",
      "model_name": "ButtonModel",
      "state": {
       "button_style": "danger",
       "description": "Restart",
       "layout": "IPY_MODEL_178d62eb329c4e4d976b16f39bad8d09",
       "style": "IPY_MODEL_e8ada262bf454d4fba8dbfa98ff8e567"
      }
     },
     "9d2e1adba8dc45f19b5e1a5c4ae75734": {
      "model_module": "@jupyter-widgets/base",
      "model_module_version": "1.2.0",
      "model_name": "LayoutModel",
      "state": {
       "display": "none",
       "grid_gap": "0px 0px",
       "grid_template_areas": "\n            'pathlist pathlist'\n            'dircontent dircontent'\n            ",
       "grid_template_columns": "60% 40%",
       "grid_template_rows": "auto auto",
       "width": "auto"
      }
     },
     "9d64d345d7f647b884b72f2e2ff3b44c": {
      "model_module": "@jupyter-widgets/base",
      "model_module_version": "1.2.0",
      "model_name": "LayoutModel",
      "state": {
       "display": "none",
       "min_width": "6em",
       "width": "6em"
      }
     },
     "9d735b8292fe428b8d87ee17d5c91b1a": {
      "model_module": "@jupyter-widgets/base",
      "model_module_version": "1.2.0",
      "model_name": "LayoutModel",
      "state": {
       "width": "auto"
      }
     },
     "9da4e0b8a02b4d1c9e09e42645f6f20e": {
      "model_module": "@jupyter-widgets/base",
      "model_module_version": "1.2.0",
      "model_name": "LayoutModel",
      "state": {
       "width": "auto"
      }
     },
     "9ddd2a5a52464daa9b47147b82b32141": {
      "model_module": "@jupyter-widgets/base",
      "model_module_version": "1.2.0",
      "model_name": "LayoutModel",
      "state": {
       "display": "none"
      }
     },
     "9ead0ad081e34f869f47290360a8360e": {
      "model_module": "@jupyter-widgets/controls",
      "model_module_version": "1.5.0",
      "model_name": "DescriptionStyleModel",
      "state": {
       "description_width": ""
      }
     },
     "9eb99915450445289eb28fc8597b6969": {
      "model_module": "@jupyter-widgets/controls",
      "model_module_version": "1.5.0",
      "model_name": "ButtonModel",
      "state": {
       "button_style": "info",
       "description": "Continue",
       "disabled": true,
       "layout": "IPY_MODEL_3cc093a453414f598132f8a4653eae2b",
       "style": "IPY_MODEL_5ecaff7ae2634cb99d4c8ebaf0d96802"
      }
     },
     "9ec6d744470543e8a5f2fe09d5674448": {
      "model_module": "@jupyter-widgets/controls",
      "model_module_version": "1.5.0",
      "model_name": "ButtonModel",
      "state": {
       "description": "Select",
       "layout": "IPY_MODEL_dcc25a5fc5314c1d81ac2338365d4b19",
       "style": "IPY_MODEL_b2295ce948484ab2a1c03366ba47b4d8"
      }
     },
     "9f1e5310ff7246c5ab2ae8ea2b867182": {
      "model_module": "@jupyter-widgets/base",
      "model_module_version": "1.2.0",
      "model_name": "LayoutModel",
      "state": {}
     },
     "9f547ec6e5f848a98d244df00af389c4": {
      "model_module": "@jupyter-widgets/controls",
      "model_module_version": "1.5.0",
      "model_name": "ButtonModel",
      "state": {
       "button_style": "info",
       "description": "Continue",
       "layout": "IPY_MODEL_4795bf62e2e64b9093789d93263f5497",
       "style": "IPY_MODEL_645688b058b44927b1235745be8e10c1"
      }
     },
     "a09088d7a2974e3b94b0b02db8a365d6": {
      "model_module": "@jupyter-widgets/controls",
      "model_module_version": "1.5.0",
      "model_name": "TextareaModel",
      "state": {
       "layout": "IPY_MODEL_9bde03994ffb4541934ced115e776719",
       "style": "IPY_MODEL_c3a4763447614b05875869a2e7edc345"
      }
     },
     "a09925be8f3b4631adc6041aa3a591a6": {
      "model_module": "@jupyter-widgets/controls",
      "model_module_version": "1.5.0",
      "model_name": "DescriptionStyleModel",
      "state": {
       "description_width": ""
      }
     },
     "a10db7bcac06414c8e3ec3280ee6e0cf": {
      "model_module": "@jupyter-widgets/controls",
      "model_module_version": "1.5.0",
      "model_name": "DescriptionStyleModel",
      "state": {
       "description_width": ""
      }
     },
     "a13722569a14455da66e3d0ec968f307": {
      "model_module": "@jupyter-widgets/controls",
      "model_module_version": "1.5.0",
      "model_name": "ButtonStyleModel",
      "state": {}
     },
     "a1385835bf864820987a8f7b5d174416": {
      "model_module": "@jupyter-widgets/controls",
      "model_module_version": "1.5.0",
      "model_name": "TextModel",
      "state": {
       "description": "UUID",
       "layout": "IPY_MODEL_a5e8885ad2884ddfb9d529937189d903",
       "style": "IPY_MODEL_c15fcb02b146419392f96d678feb4de0"
      }
     },
     "a15444a2b65b4167846c3da3b7fca484": {
      "model_module": "@jupyter-widgets/controls",
      "model_module_version": "1.5.0",
      "model_name": "DescriptionStyleModel",
      "state": {
       "description_width": ""
      }
     },
     "a1553eaf708945cda43df241c81c3570": {
      "model_module": "@jupyter-widgets/base",
      "model_module_version": "1.2.0",
      "model_name": "LayoutModel",
      "state": {
       "grid_area": "dircontent",
       "width": "auto"
      }
     },
     "a176ecae4ffb4972977d3f24cc3c235f": {
      "model_module": "@jupyter-widgets/controls",
      "model_module_version": "1.5.0",
      "model_name": "GridBoxModel",
      "state": {
       "children": [
        "IPY_MODEL_f3e39645ab0f4f98a117b65157aba578",
        "IPY_MODEL_8010d44de22d409bad5224ab02c59ee5",
        "IPY_MODEL_6e67f5439692448fa3b16555719dbfd1"
       ],
       "layout": "IPY_MODEL_14fc571e6ec04efeb95e618b76544e49"
      }
     },
     "a1bf46cc96a144369574519305b5af9d": {
      "model_module": "@jupyter-widgets/controls",
      "model_module_version": "1.5.0",
      "model_name": "ButtonStyleModel",
      "state": {}
     },
     "a1c4bbcb83d24d2ba74812211c8b6c82": {
      "model_module": "@jupyter-widgets/controls",
      "model_module_version": "1.5.0",
      "model_name": "DescriptionStyleModel",
      "state": {
       "description_width": ""
      }
     },
     "a27b6fe51c434a98bb4ac4093bda3a17": {
      "model_module": "@jupyter-widgets/base",
      "model_module_version": "1.2.0",
      "model_name": "LayoutModel",
      "state": {
       "overflow": "auto"
      }
     },
     "a29328499b8c4891b16a8a3a2a70d55b": {
      "model_module": "@jupyter-widgets/base",
      "model_module_version": "1.2.0",
      "model_name": "LayoutModel",
      "state": {
       "min_width": "6em",
       "width": "6em"
      }
     },
     "a2b065f756354a469132434f81f59074": {
      "model_module": "@jupyter-widgets/base",
      "model_module_version": "1.2.0",
      "model_name": "LayoutModel",
      "state": {
       "grid_area": "pathlist",
       "width": "auto"
      }
     },
     "a3209fc46f9949c6898092e497e0a21b": {
      "model_module": "@jupyter-widgets/base",
      "model_module_version": "1.2.0",
      "model_name": "LayoutModel",
      "state": {
       "min_width": "6em",
       "width": "6em"
      }
     },
     "a3adaa4599cc4e72a669ebdb0193e947": {
      "model_module": "@jupyter-widgets/controls",
      "model_module_version": "1.5.0",
      "model_name": "TextModel",
      "state": {
       "description": "UUID",
       "layout": "IPY_MODEL_d247df132f3a4529b438fdfcd6273d66",
       "style": "IPY_MODEL_3c64459c9e8340d090274e5a1167c0d2"
      }
     },
     "a4d98669163a46aa93385b2357c5cfaf": {
      "model_module": "@jupyter-widgets/controls",
      "model_module_version": "1.5.0",
      "model_name": "HTMLModel",
      "state": {
       "layout": "IPY_MODEL_7932d498485c4c8e8a282269c40e15ee",
       "style": "IPY_MODEL_f6b49a0366dc4d52a0d83bae672a832d",
       "value": "<h4 class='text-danger'>Select a Folder to Continue</h4>"
      }
     },
     "a502bfbf8d1f43c5849ac89bfb8078cc": {
      "model_module": "@jupyter-widgets/base",
      "model_module_version": "1.2.0",
      "model_name": "LayoutModel",
      "state": {
       "min_width": "6em",
       "width": "6em"
      }
     },
     "a557c882c6db426bb302ca97bd10e9ea": {
      "model_module": "@jupyter-widgets/base",
      "model_module_version": "1.2.0",
      "model_name": "LayoutModel",
      "state": {
       "width": "auto"
      }
     },
     "a592a00e090a4bb69db170ae2c661f8b": {
      "model_module": "@jupyter-widgets/controls",
      "model_module_version": "1.5.0",
      "model_name": "HTMLModel",
      "state": {
       "layout": "IPY_MODEL_9808e61544e84147a4aef163c235fb35",
       "style": "IPY_MODEL_0d0b614796a445ee8ef97c315bef4472"
      }
     },
     "a5e8885ad2884ddfb9d529937189d903": {
      "model_module": "@jupyter-widgets/base",
      "model_module_version": "1.2.0",
      "model_name": "LayoutModel",
      "state": {}
     },
     "a606dad22f24412ca0459baecf06257e": {
      "model_module": "@jupyter-widgets/base",
      "model_module_version": "1.2.0",
      "model_name": "LayoutModel",
      "state": {}
     },
     "a666231d218d4e2f96a2f8150fc04188": {
      "model_module": "@jupyter-widgets/controls",
      "model_module_version": "1.5.0",
      "model_name": "TextareaModel",
      "state": {
       "layout": "IPY_MODEL_af14927b11f8423081e9c05badc117d3",
       "style": "IPY_MODEL_1c7f0a2fa71f4a86ae6e41d2aa522eb1"
      }
     },
     "a6d28c2eb8a6437e89bcf57c95cf6271": {
      "model_module": "@jupyter-widgets/controls",
      "model_module_version": "1.5.0",
      "model_name": "TextareaModel",
      "state": {
       "description": "Notes",
       "layout": "IPY_MODEL_439659c80375486fa6e4304e1b4bb9e8",
       "style": "IPY_MODEL_49eb42b6aad7472eb56a4a1194a96268"
      }
     },
     "a76582e7b96c46e8b206534536f5de47": {
      "model_module": "@jupyter-widgets/controls",
      "model_module_version": "1.5.0",
      "model_name": "ButtonModel",
      "state": {
       "description": "Change",
       "layout": "IPY_MODEL_444c93a837dd4057b7333b3a46f32bfe",
       "style": "IPY_MODEL_25a83c693dc24f55addd9fa3406e9d02"
      }
     },
     "a7c688e6900c4e839b00e4d48c9f8147": {
      "model_module": "@jupyter-widgets/controls",
      "model_module_version": "1.5.0",
      "model_name": "BoxModel",
      "state": {
       "children": [
        "IPY_MODEL_c2b096703a9848efa4691e0019b9d8e8"
       ],
       "layout": "IPY_MODEL_4263b1f85970495d861346b24bf78246"
      }
     },
     "a808519461a64d0eb5974fcae23e72ef": {
      "model_module": "@jupyter-widgets/controls",
      "model_module_version": "1.5.0",
      "model_name": "ButtonStyleModel",
      "state": {}
     },
     "a81fc8dda3c94fac8c0deb18a8a3e436": {
      "model_module": "@jupyter-widgets/controls",
      "model_module_version": "1.5.0",
      "model_name": "HTMLModel",
      "state": {
       "layout": "IPY_MODEL_7bf79511596a484186846b9b3e9b105a",
       "style": "IPY_MODEL_b715b610074144f4bae3181b77c334ae",
       "value": "<h5 class='text-danger'>Select a Folder to Continue</h5>"
      }
     },
     "a89b93adbaff496d8719a4c66b4e866d": {
      "model_module": "@jupyter-widgets/base",
      "model_module_version": "1.2.0",
      "model_name": "LayoutModel",
      "state": {
       "width": "auto"
      }
     },
     "a8add2ec88b44079a0423583233191e3": {
      "model_module": "@jupyter-widgets/base",
      "model_module_version": "1.2.0",
      "model_name": "LayoutModel",
      "state": {
       "overflow": "auto"
      }
     },
     "a8b9d7e547de4adead487b32ae9d255e": {
      "model_module": "@jupyter-widgets/controls",
      "model_module_version": "1.5.0",
      "model_name": "ButtonStyleModel",
      "state": {}
     },
     "a8c1e067e61e4d9e8a016a5a950f1507": {
      "model_module": "@jupyter-widgets/controls",
      "model_module_version": "1.5.0",
      "model_name": "VBoxModel",
      "state": {
       "children": [
        "IPY_MODEL_8d09bde29ddd442bb5bf3f1168cef367",
        "IPY_MODEL_999dbf5f0d284dff8bd2d5ddfaa4a06f",
        "IPY_MODEL_55fb2bfd359d4ba592f013c9e230e99d"
       ],
       "layout": "IPY_MODEL_fa1c638f1dc5461abd6706e880677eba"
      }
     },
     "a913ead12fd74260ae7bfb7913df03e6": {
      "model_module": "@jupyter-widgets/base",
      "model_module_version": "1.2.0",
      "model_name": "LayoutModel",
      "state": {
       "visibility": "hidden"
      }
     },
     "a9668fa233104170bd5f9dee8eabe6fe": {
      "model_module": "@jupyter-widgets/controls",
      "model_module_version": "1.5.0",
      "model_name": "ButtonModel",
      "state": {
       "description": "Cancel",
       "layout": "IPY_MODEL_023500f0c4a845d0befd8a16d68897b2",
       "style": "IPY_MODEL_cb10045fda384da5a5f38f1cdd4bd6e2"
      }
     },
     "a9fff3f39bcb4b3f9f95fc64d65b6d09": {
      "model_module": "@jupyter-widgets/controls",
      "model_module_version": "1.5.0",
      "model_name": "ButtonStyleModel",
      "state": {}
     },
     "aa352e397cf845fea1723a5da7086bd2": {
      "model_module": "@jupyter-widgets/base",
      "model_module_version": "1.2.0",
      "model_name": "LayoutModel",
      "state": {
       "margin": "0 0 0 1em"
      }
     },
     "aab780ace9374913bd7d80094bce6c28": {
      "model_module": "@jupyter-widgets/base",
      "model_module_version": "1.2.0",
      "model_name": "LayoutModel",
      "state": {
       "grid_area": "pathlist",
       "width": "auto"
      }
     },
     "aac25b20167d4dd28a9ee08c242d90ff": {
      "model_module": "@jupyter-widgets/controls",
      "model_module_version": "1.5.0",
      "model_name": "HTMLModel",
      "state": {
       "layout": "IPY_MODEL_53b16a9db90c4dcd8026ab7c390cbf96",
       "style": "IPY_MODEL_7c306d7b1355454c881a1ad7640cf948"
      }
     },
     "aac791522d4246299d21b0ebc800b09c": {
      "model_module": "@jupyter-widgets/controls",
      "model_module_version": "1.5.0",
      "model_name": "VBoxModel",
      "state": {
       "children": [
        "IPY_MODEL_0b4331b229494147986a14262b7a07c7",
        "IPY_MODEL_930fea5f979842f588c6128ea38eda00",
        "IPY_MODEL_8b2080b7a85c4b039d8a54357fba39aa"
       ],
       "layout": "IPY_MODEL_fa1c638f1dc5461abd6706e880677eba"
      }
     },
     "ab3dcd499a284cfcb44d246e81bfd416": {
      "model_module": "@jupyter-widgets/controls",
      "model_module_version": "1.5.0",
      "model_name": "TextareaModel",
      "state": {
       "description": "Additional Notes",
       "layout": "IPY_MODEL_d13f948fb4894382815473471b18ab41",
       "style": "IPY_MODEL_7db118cf01bf40edbf22e2724853d409"
      }
     },
     "ab4019afea234fdc8000040bae4789ab": {
      "model_module": "@jupyter-widgets/base",
      "model_module_version": "1.2.0",
      "model_name": "LayoutModel",
      "state": {}
     },
     "abadb3f48e82486cbb31d195aadb5f8c": {
      "model_module": "@jupyter-widgets/base",
      "model_module_version": "1.2.0",
      "model_name": "LayoutModel",
      "state": {
       "overflow": "auto"
      }
     },
     "abaf7fae8f1143caa2e040d99ddec905": {
      "model_module": "@jupyter-widgets/controls",
      "model_module_version": "1.5.0",
      "model_name": "HTMLModel",
      "state": {
       "layout": "IPY_MODEL_fe78ad9fe80548aa8845c826aff431f0",
       "style": "IPY_MODEL_f84e88669ddf40df8b991644f101d135",
       "value": "<h4 class='text-danger'>Select a Folder to Continue</h4>"
      }
     },
     "abd070a91f534ecc998827f43939453d": {
      "model_module": "@jupyter-widgets/controls",
      "model_module_version": "1.5.0",
      "model_name": "ButtonStyleModel",
      "state": {}
     },
     "acd07316dce5450c816c58285f337539": {
      "model_module": "@jupyter-widgets/controls",
      "model_module_version": "1.5.0",
      "model_name": "HTMLModel",
      "state": {
       "layout": "IPY_MODEL_4f5056719efb4bfab2f6c555512ef40e",
       "style": "IPY_MODEL_1dee8412557c4305b57d5b3b356a99ef",
       "value": "<h4 class='text-danger'>Select a Folder to Continue</h4>"
      }
     },
     "ad2364c39a904bbe9ef183082ce2b67e": {
      "model_module": "@jupyter-widgets/base",
      "model_module_version": "1.2.0",
      "model_name": "LayoutModel",
      "state": {
       "overflow": "auto"
      }
     },
     "ad300bd4ff314dca8656e04544c13bfd": {
      "model_module": "@jupyter-widgets/controls",
      "model_module_version": "1.5.0",
      "model_name": "DescriptionStyleModel",
      "state": {
       "description_width": ""
      }
     },
     "ad75c412bb3a49759d27545fa33de718": {
      "model_module": "@jupyter-widgets/controls",
      "model_module_version": "1.5.0",
      "model_name": "DescriptionStyleModel",
      "state": {
       "description_width": ""
      }
     },
     "add3604fe7714e09b0fdbb7d321b8272": {
      "model_module": "@jupyter-widgets/controls",
      "model_module_version": "1.5.0",
      "model_name": "DescriptionStyleModel",
      "state": {
       "description_width": ""
      }
     },
     "af14927b11f8423081e9c05badc117d3": {
      "model_module": "@jupyter-widgets/base",
      "model_module_version": "1.2.0",
      "model_name": "LayoutModel",
      "state": {}
     },
     "af300b5e8873445381971d3bc42345fb": {
      "model_module": "@jupyter-widgets/controls",
      "model_module_version": "1.5.0",
      "model_name": "BoxModel",
      "state": {
       "children": [
        "IPY_MODEL_ef7fdd01a85f4be7a81548603058d027"
       ],
       "layout": "IPY_MODEL_abadb3f48e82486cbb31d195aadb5f8c"
      }
     },
     "af4879e384db444ea015731d30994e47": {
      "model_module": "@jupyter-widgets/controls",
      "model_module_version": "1.5.0",
      "model_name": "DescriptionStyleModel",
      "state": {
       "description_width": ""
      }
     },
     "af65590798e8438a8f4f6ca9ff0cf469": {
      "model_module": "@jupyter-widgets/controls",
      "model_module_version": "1.5.0",
      "model_name": "HTMLModel",
      "state": {
       "layout": "IPY_MODEL_5eb0ace2c1b7439ca7ff766881172b8e",
       "placeholder": "",
       "style": "IPY_MODEL_add3604fe7714e09b0fdbb7d321b8272",
       "value": "<span style=\"color:black;\">No selection</span>"
      }
     },
     "af69959bcdaa498bb5e7103c4946a4aa": {
      "model_module": "@jupyter-widgets/controls",
      "model_module_version": "1.5.0",
      "model_name": "HBoxModel",
      "state": {
       "children": [
        "IPY_MODEL_a76582e7b96c46e8b206534536f5de47",
        "IPY_MODEL_d2cb095ad17443c7aeaa7c3d6320a035",
        "IPY_MODEL_bb8785897b2e4ae8a4750403157aaeb0"
       ],
       "layout": "IPY_MODEL_6d868b3be4544548b6272a68ac8474ef"
      }
     },
     "af8dfaec95be439fbc7a9cef4fca7678": {
      "model_module": "@jupyter-widgets/base",
      "model_module_version": "1.2.0",
      "model_name": "LayoutModel",
      "state": {
       "overflow": "auto"
      }
     },
     "afeaf4d47a62481d8805a7a6ddd2f467": {
      "model_module": "@jupyter-widgets/base",
      "model_module_version": "1.2.0",
      "model_name": "LayoutModel",
      "state": {}
     },
     "aff82a6c52844b30b60d526a762de76c": {
      "model_module": "@jupyter-widgets/controls",
      "model_module_version": "1.5.0",
      "model_name": "ButtonStyleModel",
      "state": {}
     },
     "b0134f973d9e421aad738a2c6c5ad302": {
      "model_module": "@jupyter-widgets/controls",
      "model_module_version": "1.5.0",
      "model_name": "HTMLModel",
      "state": {
       "layout": "IPY_MODEL_806ac3ab52eb48a0ab863487fc74e161",
       "style": "IPY_MODEL_9202fbb35da34c159f15d6ae97bc2781"
      }
     },
     "b061f0c33a224d478a720be61ef75ef7": {
      "model_module": "@jupyter-widgets/controls",
      "model_module_version": "1.5.0",
      "model_name": "SelectModel",
      "state": {
       "_options_labels": [
        "📁 .."
       ],
       "index": null,
       "layout": "IPY_MODEL_4bc4a288d518483f9c8fc8e94fc4247d",
       "rows": 8,
       "style": "IPY_MODEL_bc8ec72a4b334ea3a94169edd02faa1a"
      }
     },
     "b0869aa9e2f94c7b9e13992e2c055f9c": {
      "model_module": "@jupyter-widgets/base",
      "model_module_version": "1.2.0",
      "model_name": "LayoutModel",
      "state": {
       "display": "none",
       "grid_area": "filename",
       "width": "auto"
      }
     },
     "b1a907d4fae04c57959f8d5e2e6b02b3": {
      "model_module": "@jupyter-widgets/controls",
      "model_module_version": "1.5.0",
      "model_name": "DescriptionStyleModel",
      "state": {
       "description_width": ""
      }
     },
     "b2295ce948484ab2a1c03366ba47b4d8": {
      "model_module": "@jupyter-widgets/controls",
      "model_module_version": "1.5.0",
      "model_name": "ButtonStyleModel",
      "state": {}
     },
     "b299d2e7df424376b9a88702432a29ff": {
      "model_module": "@jupyter-widgets/controls",
      "model_module_version": "1.5.0",
      "model_name": "TextModel",
      "state": {
       "disabled": true,
       "layout": "IPY_MODEL_5dcf64d0ba2d4fc59fbf1dc8f0135796",
       "placeholder": "output filename",
       "style": "IPY_MODEL_91b1d23b6ccc4f7aa7a792487bf72d01"
      }
     },
     "b2cad89d9f8645d5a86b74cde0212b04": {
      "model_module": "@jupyter-widgets/controls",
      "model_module_version": "1.5.0",
      "model_name": "HBoxModel",
      "state": {
       "children": [
        "IPY_MODEL_7a05a10cb8ab41b5b61a6c14e215a2c7",
        "IPY_MODEL_c8b5a79e15b64d39b5103a5f0c1aa754",
        "IPY_MODEL_72d6c613204a4930a22fe75eccad5d00"
       ],
       "layout": "IPY_MODEL_540b2a83ef364794a21eab3bf35fce9e"
      }
     },
     "b2d4b9cd013c48fabe0580e059cec36c": {
      "model_module": "@jupyter-widgets/controls",
      "model_module_version": "1.5.0",
      "model_name": "ButtonModel",
      "state": {
       "description": "Select",
       "layout": "IPY_MODEL_b864151698cf4c6aa4ba632c3b6a73d7",
       "style": "IPY_MODEL_a8b9d7e547de4adead487b32ae9d255e"
      }
     },
     "b3101fed2e6f46c4b4a1b0a7eb637236": {
      "model_module": "@jupyter-widgets/base",
      "model_module_version": "1.2.0",
      "model_name": "LayoutModel",
      "state": {
       "width": "auto"
      }
     },
     "b3a5832d01e145d58bb558d099bb2d47": {
      "model_module": "@jupyter-widgets/base",
      "model_module_version": "1.2.0",
      "model_name": "LayoutModel",
      "state": {}
     },
     "b3c2713925154cb7865b9cd8d85f3bcb": {
      "model_module": "@jupyter-widgets/controls",
      "model_module_version": "1.5.0",
      "model_name": "ButtonModel",
      "state": {
       "description": "Cancel",
       "layout": "IPY_MODEL_f5e41b8308cc491f9a8f2ebfbb8e6615",
       "style": "IPY_MODEL_24f85dce0171471bbe18add4e5b55275"
      }
     },
     "b4173727659541fea0f5c1d9d6a980b8": {
      "model_module": "@jupyter-widgets/base",
      "model_module_version": "1.2.0",
      "model_name": "LayoutModel",
      "state": {
       "width": "auto"
      }
     },
     "b49af3f53e8a4ab68949db76d5ac8df2": {
      "model_module": "@jupyter-widgets/base",
      "model_module_version": "1.2.0",
      "model_name": "LayoutModel",
      "state": {
       "width": "auto"
      }
     },
     "b4b6e803d7104347871e44f86d5ba64f": {
      "model_module": "@jupyter-widgets/controls",
      "model_module_version": "1.5.0",
      "model_name": "DescriptionStyleModel",
      "state": {
       "description_width": ""
      }
     },
     "b56379ef6d1f4ef093c1366430c3f87a": {
      "model_module": "@jupyter-widgets/base",
      "model_module_version": "1.2.0",
      "model_name": "LayoutModel",
      "state": {
       "width": "auto"
      }
     },
     "b637e31e9de741369146adfddd2b8579": {
      "model_module": "@jupyter-widgets/controls",
      "model_module_version": "1.5.0",
      "model_name": "ButtonModel",
      "state": {
       "description": "Select",
       "layout": "IPY_MODEL_73d99cf2f30d4a1295ea5a49b6f5487f",
       "style": "IPY_MODEL_4423bc15dfc147b8aa7992d67decb41a"
      }
     },
     "b6559618adde4409abf866104eb159d3": {
      "model_module": "@jupyter-widgets/base",
      "model_module_version": "1.2.0",
      "model_name": "LayoutModel",
      "state": {
       "width": "auto"
      }
     },
     "b70a39fad20948f188f2335b86ed2090": {
      "model_module": "@jupyter-widgets/controls",
      "model_module_version": "1.5.0",
      "model_name": "DescriptionStyleModel",
      "state": {
       "description_width": ""
      }
     },
     "b715b610074144f4bae3181b77c334ae": {
      "model_module": "@jupyter-widgets/controls",
      "model_module_version": "1.5.0",
      "model_name": "DescriptionStyleModel",
      "state": {
       "description_width": ""
      }
     },
     "b864151698cf4c6aa4ba632c3b6a73d7": {
      "model_module": "@jupyter-widgets/base",
      "model_module_version": "1.2.0",
      "model_name": "LayoutModel",
      "state": {
       "min_width": "6em",
       "width": "6em"
      }
     },
     "b8763ba02faa4b90b07d54f99544119c": {
      "model_module": "@jupyter-widgets/controls",
      "model_module_version": "1.5.0",
      "model_name": "ButtonModel",
      "state": {
       "button_style": "danger",
       "icon": "refresh",
       "layout": "IPY_MODEL_0801930490dc4409b5cf19143bdfc2bc",
       "style": "IPY_MODEL_e43870c945a745a081cb6709464bf468"
      }
     },
     "b8bda2750fb44c56b882ad4989404017": {
      "model_module": "@jupyter-widgets/controls",
      "model_module_version": "1.5.0",
      "model_name": "ButtonModel",
      "state": {
       "button_style": "info",
       "description": "Continue",
       "layout": "IPY_MODEL_305356a6683b49a1a08eae72c811583d",
       "style": "IPY_MODEL_6e679f57f6ec409cb2ba76f1a553d6c9"
      }
     },
     "b8eb9818dc3947dfab4964f58f38542a": {
      "model_module": "@jupyter-widgets/base",
      "model_module_version": "1.2.0",
      "model_name": "LayoutModel",
      "state": {
       "margin": "0 0 0 1em"
      }
     },
     "b8ffc065539c4f1eaeb20b2116f292a8": {
      "model_module": "@jupyter-widgets/controls",
      "model_module_version": "1.5.0",
      "model_name": "ButtonStyleModel",
      "state": {}
     },
     "b91485af35b34d12a1c8319d8d08dae2": {
      "model_module": "@jupyter-widgets/controls",
      "model_module_version": "1.5.0",
      "model_name": "ButtonStyleModel",
      "state": {}
     },
     "b9211a8f30df427bb319f2324d901768": {
      "model_module": "@jupyter-widgets/base",
      "model_module_version": "1.2.0",
      "model_name": "LayoutModel",
      "state": {
       "margin": "0 0 0 1em"
      }
     },
     "b95bde16ede04aae95cdee12ca0d338a": {
      "model_module": "@jupyter-widgets/base",
      "model_module_version": "1.2.0",
      "model_name": "LayoutModel",
      "state": {
       "margin": "0 0 0 1em"
      }
     },
     "b9cb82baaab944b98daa6cd4c13a7ee3": {
      "model_module": "@jupyter-widgets/controls",
      "model_module_version": "1.5.0",
      "model_name": "ButtonStyleModel",
      "state": {}
     },
     "ba91540334e54c2db023df23caf08d15": {
      "model_module": "@jupyter-widgets/controls",
      "model_module_version": "1.5.0",
      "model_name": "GridBoxModel",
      "state": {
       "children": [
        "IPY_MODEL_2a2b59145f6148729e8dc9380b6c886c",
        "IPY_MODEL_bd1a889230a647eeb4e35688180cf052",
        "IPY_MODEL_becc7b8313ab4b54b62019140b18241a"
       ],
       "layout": "IPY_MODEL_94860687115a4791adfa58a2d6a150a8"
      }
     },
     "bab110cd4a7a44499440c144b2df6a8b": {
      "model_module": "@jupyter-widgets/base",
      "model_module_version": "1.2.0",
      "model_name": "LayoutModel",
      "state": {
       "grid_area": "dircontent",
       "width": "auto"
      }
     },
     "bb086a88fb144b9dbd3cbfa2c897699b": {
      "model_module": "@jupyter-widgets/controls",
      "model_module_version": "1.5.0",
      "model_name": "GridBoxModel",
      "state": {
       "children": [
        "IPY_MODEL_2ef4158b01594d38b71dee7478a4b08d",
        "IPY_MODEL_495284206b67487bb411c8cfa75d3e9b",
        "IPY_MODEL_161a5c41ecda405f8d8e0265ad1d0c4e"
       ],
       "layout": "IPY_MODEL_0923768856cb4ef58d31f85e2d3119fb"
      }
     },
     "bb09a7eea8234f4eb628b75739103d0e": {
      "model_module": "@jupyter-widgets/controls",
      "model_module_version": "1.5.0",
      "model_name": "DescriptionStyleModel",
      "state": {
       "description_width": ""
      }
     },
     "bb2219ecb5154ded8da2ecd82a08fa30": {
      "model_module": "@jupyter-widgets/controls",
      "model_module_version": "1.5.0",
      "model_name": "DescriptionStyleModel",
      "state": {
       "description_width": ""
      }
     },
     "bb8785897b2e4ae8a4750403157aaeb0": {
      "model_module": "@jupyter-widgets/controls",
      "model_module_version": "1.5.0",
      "model_name": "BoxModel",
      "state": {
       "children": [
        "IPY_MODEL_06b91b76f0f248908a046749ad5d3257"
       ],
       "layout": "IPY_MODEL_a8add2ec88b44079a0423583233191e3"
      }
     },
     "bbd3b17b87ae475fbb59a3449ea0fd3d": {
      "model_module": "@jupyter-widgets/controls",
      "model_module_version": "1.5.0",
      "model_name": "ButtonModel",
      "state": {
       "button_style": "success",
       "description": "Upload",
       "layout": "IPY_MODEL_b56379ef6d1f4ef093c1366430c3f87a",
       "style": "IPY_MODEL_02aa8923679341f8a5811704ea7135f8"
      }
     },
     "bc5042f5ed8c49fda52f345a9df2117a": {
      "model_module": "@jupyter-widgets/base",
      "model_module_version": "1.2.0",
      "model_name": "LayoutModel",
      "state": {
       "display": "none",
       "grid_area": "filename",
       "width": "auto"
      }
     },
     "bc5d736adb3f4f379661561020e11441": {
      "model_module": "@jupyter-widgets/base",
      "model_module_version": "1.2.0",
      "model_name": "LayoutModel",
      "state": {
       "width": "auto"
      }
     },
     "bc8ec72a4b334ea3a94169edd02faa1a": {
      "model_module": "@jupyter-widgets/controls",
      "model_module_version": "1.5.0",
      "model_name": "DescriptionStyleModel",
      "state": {
       "description_width": ""
      }
     },
     "bcad9891149645cea750edf39775de41": {
      "model_module": "@jupyter-widgets/base",
      "model_module_version": "1.2.0",
      "model_name": "LayoutModel",
      "state": {
       "width": "auto"
      }
     },
     "bcd9636a60c04b45bcd3c1b8b541627e": {
      "model_module": "@jupyter-widgets/controls",
      "model_module_version": "1.5.0",
      "model_name": "HTMLModel",
      "state": {
       "layout": "IPY_MODEL_0d631d9a7c1f4bf0a319ec1a2b46a418",
       "style": "IPY_MODEL_ef2d6088ab52409db8fdee0e17ff4333",
       "value": "<p style='text-color:red'>Select a Folder to Continue</p>"
      }
     },
     "bd1a889230a647eeb4e35688180cf052": {
      "model_module": "@jupyter-widgets/controls",
      "model_module_version": "1.5.0",
      "model_name": "TextModel",
      "state": {
       "disabled": true,
       "layout": "IPY_MODEL_0e3c0d64a2e244858813c71302b9baa8",
       "placeholder": "output filename",
       "style": "IPY_MODEL_4962efc5909d4fe3bb82bc385ebfd9bc"
      }
     },
     "bd9b6fcf3a4b4755a84bbf142cb3d3ce": {
      "model_module": "@jupyter-widgets/base",
      "model_module_version": "1.2.0",
      "model_name": "LayoutModel",
      "state": {
       "grid_area": "pathlist",
       "width": "auto"
      }
     },
     "bdcfec1aa1a646689d4ade92df166e7e": {
      "model_module": "@jupyter-widgets/base",
      "model_module_version": "1.2.0",
      "model_name": "LayoutModel",
      "state": {
       "display": "none",
       "min_width": "6em",
       "width": "6em"
      }
     },
     "bdf00d603cb040b0a7d04a5b6fc412d8": {
      "model_module": "@jupyter-widgets/controls",
      "model_module_version": "1.5.0",
      "model_name": "ButtonModel",
      "state": {
       "button_style": "success",
       "description": "Upload",
       "layout": "IPY_MODEL_543031765be24aa3a88ce816c1050460",
       "style": "IPY_MODEL_2071756c7e924422842cbb9e71fc1242"
      }
     },
     "be430cf9ff6a43eb98d67ca879a1efaa": {
      "model_module": "@jupyter-widgets/base",
      "model_module_version": "1.2.0",
      "model_name": "LayoutModel",
      "state": {
       "width": "auto"
      }
     },
     "be60290919a046e78d0eaed106a70174": {
      "model_module": "@jupyter-widgets/controls",
      "model_module_version": "1.5.0",
      "model_name": "DescriptionStyleModel",
      "state": {
       "description_width": ""
      }
     },
     "be75bf1bc3ba4fd2ab489720b42e449c": {
      "model_module": "@jupyter-widgets/controls",
      "model_module_version": "1.5.0",
      "model_name": "DescriptionStyleModel",
      "state": {
       "description_width": ""
      }
     },
     "be8c8d7d56cf4e099b516c1100b60fc6": {
      "model_module": "@jupyter-widgets/base",
      "model_module_version": "1.2.0",
      "model_name": "LayoutModel",
      "state": {
       "width": "auto"
      }
     },
     "becc7b8313ab4b54b62019140b18241a": {
      "model_module": "@jupyter-widgets/controls",
      "model_module_version": "1.5.0",
      "model_name": "SelectModel",
      "state": {
       "_options_labels": [
        "📁 ..",
        "📁 Apps",
        "📁 Projects"
       ],
       "index": null,
       "layout": "IPY_MODEL_a1553eaf708945cda43df241c81c3570",
       "rows": 8,
       "style": "IPY_MODEL_5688dcecdc894df48f58c1f0a1e55854"
      }
     },
     "c02c2a9d231d4e14b749e40dbb33556d": {
      "model_module": "@jupyter-widgets/base",
      "model_module_version": "1.2.0",
      "model_name": "LayoutModel",
      "state": {
       "grid_area": "pathlist",
       "width": "auto"
      }
     },
     "c04eaec2b2dd47bb8fee8f5ac35b9abb": {
      "model_module": "@jupyter-widgets/controls",
      "model_module_version": "1.5.0",
      "model_name": "ButtonModel",
      "state": {
       "button_style": "success",
       "description": "Upload",
       "layout": "IPY_MODEL_8b2bd440e45346918366491f10f83ccc",
       "style": "IPY_MODEL_fa93328c49554f10ad9566a122c904bc"
      }
     },
     "c103ca8509d748f0b3d30e84df973682": {
      "model_module": "@jupyter-widgets/base",
      "model_module_version": "1.2.0",
      "model_name": "LayoutModel",
      "state": {}
     },
     "c143bac5aa09491ebca6f2abf47ffc19": {
      "model_module": "@jupyter-widgets/base",
      "model_module_version": "1.2.0",
      "model_name": "LayoutModel",
      "state": {
       "grid_area": "pathlist",
       "width": "auto"
      }
     },
     "c1444d10e8d441c78663b62e6e49b103": {
      "model_module": "@jupyter-widgets/base",
      "model_module_version": "1.2.0",
      "model_name": "LayoutModel",
      "state": {
       "display": "none",
       "grid_gap": "0px 0px",
       "grid_template_areas": "\n            'pathlist pathlist'\n            'dircontent dircontent'\n            ",
       "grid_template_columns": "60% 40%",
       "grid_template_rows": "auto auto",
       "width": "auto"
      }
     },
     "c15fcb02b146419392f96d678feb4de0": {
      "model_module": "@jupyter-widgets/controls",
      "model_module_version": "1.5.0",
      "model_name": "DescriptionStyleModel",
      "state": {
       "description_width": ""
      }
     },
     "c180471f0d2f441e915689dea68a0dd8": {
      "model_module": "@jupyter-widgets/base",
      "model_module_version": "1.2.0",
      "model_name": "LayoutModel",
      "state": {
       "width": "auto"
      }
     },
     "c1be2e57953d4b98b71ae6bc53103dff": {
      "model_module": "@jupyter-widgets/controls",
      "model_module_version": "1.5.0",
      "model_name": "GridBoxModel",
      "state": {
       "children": [
        "IPY_MODEL_ea875f6dbf234655917b17b9a5e61b6e",
        "IPY_MODEL_8f429872406d4d7abe9a80eb6ef92c38",
        "IPY_MODEL_7b8bfb27bee44125a22ae122baf3d5e0"
       ],
       "layout": "IPY_MODEL_f6483707233d4965b263d140e27be2ad"
      }
     },
     "c1ce08f16e66445e9a601b9bb81be07e": {
      "model_module": "@jupyter-widgets/controls",
      "model_module_version": "1.5.0",
      "model_name": "HBoxModel",
      "state": {
       "children": [
        "IPY_MODEL_0ea4cdf7087244468f9e74962df76159",
        "IPY_MODEL_6cf0bea8d00e4763a8fa3270ebbea64e",
        "IPY_MODEL_217597a584764591aad793a1fc885376"
       ],
       "layout": "IPY_MODEL_9a67c34e2ad64eb5b719cf896a4b04db"
      }
     },
     "c1d19ff74f8e4f2bbfbd44cf9303f434": {
      "model_module": "@jupyter-widgets/controls",
      "model_module_version": "1.5.0",
      "model_name": "HBoxModel",
      "state": {
       "children": [
        "IPY_MODEL_9ec6d744470543e8a5f2fe09d5674448",
        "IPY_MODEL_59383ade9dbc49f2b0f453035f628632",
        "IPY_MODEL_3b94712553b8479aac5e5a1a78d9d36d"
       ],
       "layout": "IPY_MODEL_8dc8fab4b8c243c7b87c20df063c54b0"
      }
     },
     "c21d48a34cea4353baf9b9f155a0d473": {
      "model_module": "@jupyter-widgets/controls",
      "model_module_version": "1.5.0",
      "model_name": "ButtonStyleModel",
      "state": {}
     },
     "c2b096703a9848efa4691e0019b9d8e8": {
      "model_module": "@jupyter-widgets/controls",
      "model_module_version": "1.5.0",
      "model_name": "HTMLModel",
      "state": {
       "layout": "IPY_MODEL_9689b5b6deb143c691ef0bdd4b614164",
       "placeholder": "",
       "style": "IPY_MODEL_97350ae5e147492691028a6ddd075251",
       "value": "<span style=\"color:black;\">No selection</span>"
      }
     },
     "c2d2006b6fb8480faf0a475cec56539a": {
      "model_module": "@jupyter-widgets/controls",
      "model_module_version": "1.5.0",
      "model_name": "HTMLModel",
      "state": {
       "layout": "IPY_MODEL_21e5f9e2a5b541418d953c9e844b132a",
       "style": "IPY_MODEL_9c4763f7d3af458fb680ee284b4bca5f",
       "value": "<h2 class='danger'>Select a Folder to Continue</h2>"
      }
     },
     "c313094d45524604970fc737eb50bb87": {
      "model_module": "@jupyter-widgets/controls",
      "model_module_version": "1.5.0",
      "model_name": "ButtonStyleModel",
      "state": {}
     },
     "c325f555b04a470fb57e960d90520677": {
      "model_module": "@jupyter-widgets/controls",
      "model_module_version": "1.5.0",
      "model_name": "ButtonModel",
      "state": {
       "button_style": "success",
       "description": "Start",
       "layout": "IPY_MODEL_7149474662bb4b538746a77974976e5a",
       "style": "IPY_MODEL_9c0ffe15bca04e5780466dbd9a65e236"
      }
     },
     "c343534708a5437a8a797b585fd0ed18": {
      "model_module": "@jupyter-widgets/controls",
      "model_module_version": "1.5.0",
      "model_name": "HTMLModel",
      "state": {
       "layout": "IPY_MODEL_54fbd7586c1d409d998a73393ed5bb45",
       "style": "IPY_MODEL_4580c20ae0314ae4849aa51757edc76d",
       "value": "<h4 class='text-danger'>Select a Folder to Continue</h4>"
      }
     },
     "c3a4763447614b05875869a2e7edc345": {
      "model_module": "@jupyter-widgets/controls",
      "model_module_version": "1.5.0",
      "model_name": "DescriptionStyleModel",
      "state": {
       "description_width": ""
      }
     },
     "c3c4f25e24084c22ac1c3dd003622539": {
      "model_module": "@jupyter-widgets/controls",
      "model_module_version": "1.5.0",
      "model_name": "ButtonModel",
      "state": {
       "button_style": "danger",
       "icon": "refresh",
       "layout": "IPY_MODEL_79fa04eecf1f4b69b0a5cba869abb60d",
       "style": "IPY_MODEL_7094f9f37ae04d85a25116655e98b39f"
      }
     },
     "c40124028bfa4478b19cc954a8cd21fc": {
      "model_module": "@jupyter-widgets/controls",
      "model_module_version": "1.5.0",
      "model_name": "ButtonStyleModel",
      "state": {}
     },
     "c43f29088d6740a292fb9845824e2392": {
      "model_module": "@jupyter-widgets/controls",
      "model_module_version": "1.5.0",
      "model_name": "DescriptionStyleModel",
      "state": {
       "description_width": ""
      }
     },
     "c46cd10f72e346438b7b28a38307e076": {
      "model_module": "@jupyter-widgets/base",
      "model_module_version": "1.2.0",
      "model_name": "LayoutModel",
      "state": {
       "display": "none",
       "grid_area": "filename",
       "width": "auto"
      }
     },
     "c48d394ed03d4e0e840d53bb49bb43ab": {
      "model_module": "@jupyter-widgets/base",
      "model_module_version": "1.2.0",
      "model_name": "LayoutModel",
      "state": {
       "display": "none",
       "grid_area": "filename",
       "width": "auto"
      }
     },
     "c4e73584fec4461f93415b950fa5309f": {
      "model_module": "@jupyter-widgets/controls",
      "model_module_version": "1.5.0",
      "model_name": "HTMLModel",
      "state": {
       "layout": "IPY_MODEL_1c6236503fa84980a01ddc1202a885f5",
       "style": "IPY_MODEL_c6fd33b192104ae8bf89700d6b121056",
       "value": "<p >Select a Folder to Continue</p>"
      }
     },
     "c50f653aee1b4ad282a402284d2eed47": {
      "model_module": "@jupyter-widgets/controls",
      "model_module_version": "1.5.0",
      "model_name": "DescriptionStyleModel",
      "state": {
       "description_width": ""
      }
     },
     "c517f894ab6449b090d1e317079b9d0f": {
      "model_module": "@jupyter-widgets/controls",
      "model_module_version": "1.5.0",
      "model_name": "ButtonModel",
      "state": {
       "button_style": "danger",
       "icon": "refresh",
       "layout": "IPY_MODEL_0d48ccc8e49e4af1a936a0717ec26f06",
       "style": "IPY_MODEL_21cb4a5d775d4fadaa1784e9e91fb8f7"
      }
     },
     "c518f11cb7a24362bf2611e7f012ef53": {
      "model_module": "@jupyter-widgets/controls",
      "model_module_version": "1.5.0",
      "model_name": "SelectModel",
      "state": {
       "_options_labels": [
        "📁 ..",
        "📁 Apps",
        "📁 Projects"
       ],
       "index": null,
       "layout": "IPY_MODEL_ef338831196747bb88a4cfaa1fd3be16",
       "rows": 8,
       "style": "IPY_MODEL_ebf6b920aff84a48a13a243f097d4669"
      }
     },
     "c52ba93b54ce41e88fe7a3669f73bf6f": {
      "model_module": "@jupyter-widgets/controls",
      "model_module_version": "1.5.0",
      "model_name": "DescriptionStyleModel",
      "state": {
       "description_width": ""
      }
     },
     "c531cdd2be7246ff987024050cd1a880": {
      "model_module": "@jupyter-widgets/base",
      "model_module_version": "1.2.0",
      "model_name": "LayoutModel",
      "state": {
       "width": "auto"
      }
     },
     "c5cc266747034e3b9b55c005b3bfbb0c": {
      "model_module": "@jupyter-widgets/controls",
      "model_module_version": "1.5.0",
      "model_name": "ButtonModel",
      "state": {
       "button_style": "info",
       "description": "Continue",
       "layout": "IPY_MODEL_365cc0f591d44325a06df413f049642d",
       "style": "IPY_MODEL_b91485af35b34d12a1c8319d8d08dae2"
      }
     },
     "c654444ca4064113bbc9a49bb0ec50d1": {
      "model_module": "@jupyter-widgets/controls",
      "model_module_version": "1.5.0",
      "model_name": "ButtonStyleModel",
      "state": {}
     },
     "c6fd33b192104ae8bf89700d6b121056": {
      "model_module": "@jupyter-widgets/controls",
      "model_module_version": "1.5.0",
      "model_name": "DescriptionStyleModel",
      "state": {
       "description_width": ""
      }
     },
     "c74d1d634f9f4bc3a49a7ff08f2107c9": {
      "model_module": "@jupyter-widgets/base",
      "model_module_version": "1.2.0",
      "model_name": "LayoutModel",
      "state": {
       "display": "none",
       "min_width": "6em",
       "width": "6em"
      }
     },
     "c82011ef499c4e78932d1d0de90975d4": {
      "model_module": "@jupyter-widgets/base",
      "model_module_version": "1.2.0",
      "model_name": "LayoutModel",
      "state": {
       "width": "auto"
      }
     },
     "c8b5a79e15b64d39b5103a5f0c1aa754": {
      "model_module": "@jupyter-widgets/controls",
      "model_module_version": "1.5.0",
      "model_name": "ButtonModel",
      "state": {
       "description": "Cancel",
       "layout": "IPY_MODEL_bdcfec1aa1a646689d4ade92df166e7e",
       "style": "IPY_MODEL_abd070a91f534ecc998827f43939453d"
      }
     },
     "c95ae960132e4171a78dc7b2956dae08": {
      "model_module": "@jupyter-widgets/controls",
      "model_module_version": "1.5.0",
      "model_name": "ButtonModel",
      "state": {
       "button_style": "danger",
       "icon": "refresh",
       "layout": "IPY_MODEL_291daa31e28248b092134617f6ec8512",
       "style": "IPY_MODEL_fa3aa3ef8ba64c0d8d5ba4d0f1fdd9b2"
      }
     },
     "c9b5e560c57a48399884a4ad1ae6aa0b": {
      "model_module": "@jupyter-widgets/controls",
      "model_module_version": "1.5.0",
      "model_name": "HTMLModel",
      "state": {
       "layout": "IPY_MODEL_03b896504c3e461eabba9fef74cba195",
       "style": "IPY_MODEL_269ca6b8626c4aaf93938f7705c86022",
       "value": "<p class='danger'>Select a Folder to Continue</p>"
      }
     },
     "c9e302f47dea468b9ebe94d094d8df08": {
      "model_module": "@jupyter-widgets/controls",
      "model_module_version": "1.5.0",
      "model_name": "ButtonModel",
      "state": {
       "button_style": "info",
       "description": "Continue",
       "layout": "IPY_MODEL_56907e94c6354601a1054a0ba3e2e0c2",
       "style": "IPY_MODEL_1e97853a1c2c4e8eb1add1b410143404"
      }
     },
     "c9fc991568914efb9d34886a8c6d1a9d": {
      "model_module": "@jupyter-widgets/controls",
      "model_module_version": "1.5.0",
      "model_name": "DescriptionStyleModel",
      "state": {
       "description_width": ""
      }
     },
     "ca4f284b0ba345629803c1181b015adf": {
      "model_module": "@jupyter-widgets/base",
      "model_module_version": "1.2.0",
      "model_name": "LayoutModel",
      "state": {
       "grid_area": "dircontent",
       "width": "auto"
      }
     },
     "ca6a6ab573d94982be34acf8889743ba": {
      "model_module": "@jupyter-widgets/controls",
      "model_module_version": "1.5.0",
      "model_name": "ButtonStyleModel",
      "state": {}
     },
     "cad529f961da4f64a1ba26a4bb06c75e": {
      "model_module": "@jupyter-widgets/base",
      "model_module_version": "1.2.0",
      "model_name": "LayoutModel",
      "state": {
       "width": "auto"
      }
     },
     "cb10045fda384da5a5f38f1cdd4bd6e2": {
      "model_module": "@jupyter-widgets/controls",
      "model_module_version": "1.5.0",
      "model_name": "ButtonStyleModel",
      "state": {}
     },
     "cb5ff43c8a8249afbbb141eec9f5e9b0": {
      "model_module": "@jupyter-widgets/controls",
      "model_module_version": "1.5.0",
      "model_name": "ButtonModel",
      "state": {
       "button_style": "info",
       "description": "Continue",
       "layout": "IPY_MODEL_b3101fed2e6f46c4b4a1b0a7eb637236",
       "style": "IPY_MODEL_18b70a53ae524fdea313a182aeaa0e17"
      }
     },
     "cc0c79f2dbc6472dadeaf7080f415c6f": {
      "model_module": "@jupyter-widgets/controls",
      "model_module_version": "1.5.0",
      "model_name": "ButtonModel",
      "state": {
       "button_style": "info",
       "description": "Continue",
       "layout": "IPY_MODEL_9331c29052974698b6684efd9b8bb47f",
       "style": "IPY_MODEL_f9a372e970ec41e4b8705cde5607e2e1"
      }
     },
     "cc2c3b916d9745d9b8d994f3ec3518bc": {
      "model_module": "@jupyter-widgets/controls",
      "model_module_version": "1.5.0",
      "model_name": "DescriptionStyleModel",
      "state": {
       "description_width": ""
      }
     },
     "ce0d81d5f3c5488cae851729b5d7612c": {
      "model_module": "@jupyter-widgets/base",
      "model_module_version": "1.2.0",
      "model_name": "LayoutModel",
      "state": {
       "grid_area": "dircontent",
       "width": "auto"
      }
     },
     "ce24f0e6f9b44196b22ea881900590b6": {
      "model_module": "@jupyter-widgets/controls",
      "model_module_version": "1.5.0",
      "model_name": "HTMLModel",
      "state": {
       "layout": "IPY_MODEL_f571239a53b946508c16d07acb882606",
       "style": "IPY_MODEL_fbd66b1314a94322bc98db070379dfb6"
      }
     },
     "ce799146e8a74e76aef333f4d5a9738d": {
      "model_module": "@jupyter-widgets/controls",
      "model_module_version": "1.5.0",
      "model_name": "HTMLModel",
      "state": {
       "layout": "IPY_MODEL_aa352e397cf845fea1723a5da7086bd2",
       "placeholder": "",
       "style": "IPY_MODEL_f3d54a117203437d91a824ab35c76436",
       "value": "<span style=\"color:black;\">No selection</span>"
      }
     },
     "ce7e29a71ac24850a4ac5ce855b5ca2b": {
      "model_module": "@jupyter-widgets/controls",
      "model_module_version": "1.5.0",
      "model_name": "ButtonModel",
      "state": {
       "button_style": "danger",
       "icon": "refresh",
       "layout": "IPY_MODEL_3390cc21a5d442d690c3d1430dfa55ec",
       "style": "IPY_MODEL_7e58e559bf814481aec6d6cb13edc0bb"
      }
     },
     "ce92907cdad342d791ed33be01257c1a": {
      "model_module": "@jupyter-widgets/controls",
      "model_module_version": "1.5.0",
      "model_name": "ButtonModel",
      "state": {
       "button_style": "danger",
       "icon": "refresh",
       "layout": "IPY_MODEL_6a5ca7eb30314766b4d91c5d2eeba580",
       "style": "IPY_MODEL_63974348b0434156a53ce0fd727b0665"
      }
     },
     "cebdfbaa68d54321a45dda680031e188": {
      "model_module": "@jupyter-widgets/controls",
      "model_module_version": "1.5.0",
      "model_name": "ButtonModel",
      "state": {
       "button_style": "info",
       "description": "Continue",
       "layout": "IPY_MODEL_5647986b28a84f97bacc712151a2abf8",
       "style": "IPY_MODEL_64314640e2874536830ce854bb15f4c4"
      }
     },
     "cec1114b9133466a9304e634d977a8e2": {
      "model_module": "@jupyter-widgets/controls",
      "model_module_version": "1.5.0",
      "model_name": "DescriptionStyleModel",
      "state": {
       "description_width": ""
      }
     },
     "cf83c7b8a7bb416fbe10219950070fb7": {
      "model_module": "@jupyter-widgets/base",
      "model_module_version": "1.2.0",
      "model_name": "LayoutModel",
      "state": {
       "width": "auto"
      }
     },
     "d03ed105f86c418aac79d993bca9bffc": {
      "model_module": "@jupyter-widgets/controls",
      "model_module_version": "1.5.0",
      "model_name": "ButtonStyleModel",
      "state": {}
     },
     "d0751f09ae9b443cb8f2f5dd68244947": {
      "model_module": "@jupyter-widgets/base",
      "model_module_version": "1.2.0",
      "model_name": "LayoutModel",
      "state": {
       "min_width": "6em",
       "width": "6em"
      }
     },
     "d07ff9eed76f47d69413609d09370efa": {
      "model_module": "@jupyter-widgets/base",
      "model_module_version": "1.2.0",
      "model_name": "LayoutModel",
      "state": {
       "width": "auto"
      }
     },
     "d0aef5ecac4c4c5ab8d2f39ac5cbc00c": {
      "model_module": "@jupyter-widgets/controls",
      "model_module_version": "1.5.0",
      "model_name": "HTMLModel",
      "state": {
       "layout": "IPY_MODEL_8abf22a165c747d8b8e1277d102b7380",
       "style": "IPY_MODEL_ed67374c150f4621a4de98e641bc9a86",
       "value": "<h4 class='text-danger'>Select a Folder to Continue</h4>"
      }
     },
     "d0dd4634f927495b887c7805b2f0c07d": {
      "model_module": "@jupyter-widgets/controls",
      "model_module_version": "1.5.0",
      "model_name": "DescriptionStyleModel",
      "state": {
       "description_width": ""
      }
     },
     "d0e54e14841d43cabda5487014018b1a": {
      "model_module": "@jupyter-widgets/base",
      "model_module_version": "1.2.0",
      "model_name": "LayoutModel",
      "state": {
       "width": "auto"
      }
     },
     "d10048ed2415420a815ef9bbb793e73e": {
      "model_module": "@jupyter-widgets/base",
      "model_module_version": "1.2.0",
      "model_name": "LayoutModel",
      "state": {}
     },
     "d13f948fb4894382815473471b18ab41": {
      "model_module": "@jupyter-widgets/base",
      "model_module_version": "1.2.0",
      "model_name": "LayoutModel",
      "state": {}
     },
     "d14dd3212a214743abf43a2d18b821e9": {
      "model_module": "@jupyter-widgets/base",
      "model_module_version": "1.2.0",
      "model_name": "LayoutModel",
      "state": {
       "width": "auto"
      }
     },
     "d17889deb93a4203aba2ff918ebd1aab": {
      "model_module": "@jupyter-widgets/controls",
      "model_module_version": "1.5.0",
      "model_name": "ButtonModel",
      "state": {
       "description": "Cancel",
       "layout": "IPY_MODEL_9d64d345d7f647b884b72f2e2ff3b44c",
       "style": "IPY_MODEL_023242927b0b4f5cac502c9032efe7b4"
      }
     },
     "d2077a58072a4c5a9ef0d949a7a63d22": {
      "model_module": "@jupyter-widgets/controls",
      "model_module_version": "1.5.0",
      "model_name": "ButtonModel",
      "state": {
       "description": "Select",
       "layout": "IPY_MODEL_f6ffff66aeb1471baa714deb327597b8",
       "style": "IPY_MODEL_9b84718a09cd413ebf04e7de85a386f5"
      }
     },
     "d22c617ae4184380b0b2ee45e1ef6e8d": {
      "model_module": "@jupyter-widgets/base",
      "model_module_version": "1.2.0",
      "model_name": "LayoutModel",
      "state": {
       "display": "none",
       "min_width": "6em",
       "width": "6em"
      }
     },
     "d247df132f3a4529b438fdfcd6273d66": {
      "model_module": "@jupyter-widgets/base",
      "model_module_version": "1.2.0",
      "model_name": "LayoutModel",
      "state": {}
     },
     "d26a5621aba74df3880bb443977ba380": {
      "model_module": "@jupyter-widgets/controls",
      "model_module_version": "1.5.0",
      "model_name": "HBoxModel",
      "state": {
       "children": [
        "IPY_MODEL_2f82187248974856bc10829f9012ad55",
        "IPY_MODEL_f7059ebc586949acb629680ff86ee831",
        "IPY_MODEL_1009cb27f8cd46faaa0693d804ee9f67"
       ],
       "layout": "IPY_MODEL_f8890764d7a545968cc498e2f85a5955"
      }
     },
     "d276213ed7b94ef08d0ad26d34da365e": {
      "model_module": "@jupyter-widgets/controls",
      "model_module_version": "1.5.0",
      "model_name": "ButtonStyleModel",
      "state": {}
     },
     "d2cb095ad17443c7aeaa7c3d6320a035": {
      "model_module": "@jupyter-widgets/controls",
      "model_module_version": "1.5.0",
      "model_name": "ButtonModel",
      "state": {
       "description": "Cancel",
       "layout": "IPY_MODEL_0c28f68e92494188ad6bb0c447e88246",
       "style": "IPY_MODEL_b8ffc065539c4f1eaeb20b2116f292a8"
      }
     },
     "d2dd472beced4466bad7c5723838da80": {
      "model_module": "@jupyter-widgets/controls",
      "model_module_version": "1.5.0",
      "model_name": "ButtonStyleModel",
      "state": {}
     },
     "d2f1c79ecd7c4ec2876dfbaf30890f21": {
      "model_module": "@jupyter-widgets/base",
      "model_module_version": "1.2.0",
      "model_name": "LayoutModel",
      "state": {
       "visibility": "hidden"
      }
     },
     "d342eda10d62464c9ea904e496aaa0e5": {
      "model_module": "@jupyter-widgets/controls",
      "model_module_version": "1.5.0",
      "model_name": "ButtonStyleModel",
      "state": {}
     },
     "d374c93781a94f76b4afdd223b99c8c3": {
      "model_module": "@jupyter-widgets/controls",
      "model_module_version": "1.5.0",
      "model_name": "HTMLModel",
      "state": {
       "layout": "IPY_MODEL_251baac9cad844b58f2aa99680b5b913",
       "style": "IPY_MODEL_36d83e8db2134df8b26dc4033f6c4130",
       "value": "<h4 class='text-danger'>Select a Folder to Continue</h4>"
      }
     },
     "d383da71da8646238d0114f775b961bf": {
      "model_module": "@jupyter-widgets/base",
      "model_module_version": "1.2.0",
      "model_name": "LayoutModel",
      "state": {
       "display": "none",
       "grid_area": "filename",
       "width": "auto"
      }
     },
     "d5a9decd6b0e4809824404a3e816cf35": {
      "model_module": "@jupyter-widgets/base",
      "model_module_version": "1.2.0",
      "model_name": "LayoutModel",
      "state": {}
     },
     "d5e31541fecc4b5481a3cc16dfc62f82": {
      "model_module": "@jupyter-widgets/base",
      "model_module_version": "1.2.0",
      "model_name": "LayoutModel",
      "state": {
       "display": "none"
      }
     },
     "d8eaeb100d624569a116fedde65312cc": {
      "model_module": "@jupyter-widgets/base",
      "model_module_version": "1.2.0",
      "model_name": "LayoutModel",
      "state": {
       "overflow": "auto"
      }
     },
     "d8f28aa632584e22ad279fd706d730dc": {
      "model_module": "@jupyter-widgets/base",
      "model_module_version": "1.2.0",
      "model_name": "LayoutModel",
      "state": {
       "width": "auto"
      }
     },
     "d979303bc3bc4332bcf15b531f59506d": {
      "model_module": "@jupyter-widgets/controls",
      "model_module_version": "1.5.0",
      "model_name": "BoxModel",
      "state": {
       "children": [
        "IPY_MODEL_ce799146e8a74e76aef333f4d5a9738d"
       ],
       "layout": "IPY_MODEL_af8dfaec95be439fbc7a9cef4fca7678"
      }
     },
     "da27c81c7eeb449bb3b9d4db002c639c": {
      "model_module": "@jupyter-widgets/base",
      "model_module_version": "1.2.0",
      "model_name": "LayoutModel",
      "state": {
       "grid_area": "pathlist",
       "width": "auto"
      }
     },
     "da2f3717310142f88669e1a1cd4f4f04": {
      "model_module": "@jupyter-widgets/controls",
      "model_module_version": "1.5.0",
      "model_name": "ButtonStyleModel",
      "state": {}
     },
     "da4b4cf21a27423b9ff1ea3c09644a4e": {
      "model_module": "@jupyter-widgets/controls",
      "model_module_version": "1.5.0",
      "model_name": "GridBoxModel",
      "state": {
       "children": [
        "IPY_MODEL_41c1efa4af384d45bd6217efca23ea02",
        "IPY_MODEL_e17cf10d5cc141368a9f1e72f4618895",
        "IPY_MODEL_8bfcb7806f72424eb0f18e7b68c4b380"
       ],
       "layout": "IPY_MODEL_4aef34cea4dc4caa8475e080ffd2022d"
      }
     },
     "dad285f3da9442069eb0a132c3f03be9": {
      "model_module": "@jupyter-widgets/controls",
      "model_module_version": "1.5.0",
      "model_name": "ButtonModel",
      "state": {
       "button_style": "info",
       "description": "Continue",
       "layout": "IPY_MODEL_0a0dd41f6d2c453ca3b151239968d72f",
       "style": "IPY_MODEL_49eba6b9c62a4749aff238462ee5faab"
      }
     },
     "dadb726fded540ea956a697d66f8096f": {
      "model_module": "@jupyter-widgets/controls",
      "model_module_version": "1.5.0",
      "model_name": "ButtonStyleModel",
      "state": {}
     },
     "dbfaacdac84e470f8a4ab01f3e956509": {
      "model_module": "@jupyter-widgets/controls",
      "model_module_version": "1.5.0",
      "model_name": "DescriptionStyleModel",
      "state": {
       "description_width": ""
      }
     },
     "dc7a803cf30942949f8197909febc5c1": {
      "model_module": "@jupyter-widgets/controls",
      "model_module_version": "1.5.0",
      "model_name": "HTMLModel",
      "state": {
       "layout": "IPY_MODEL_3e598c30277c4a2ba702d979919dad04",
       "placeholder": "",
       "style": "IPY_MODEL_428ac8a4eada4cd2acc5ada859df91c3",
       "value": "<span style=\"color:green;\">/home/mxwbio/Desktop/MxW/SampleDataSet/Organoids/5167/Activity_Scan/000003/</span>"
      }
     },
     "dcc25a5fc5314c1d81ac2338365d4b19": {
      "model_module": "@jupyter-widgets/base",
      "model_module_version": "1.2.0",
      "model_name": "LayoutModel",
      "state": {
       "min_width": "6em",
       "width": "6em"
      }
     },
     "dd863e1e1a1e4caf90f024dfba873c7f": {
      "model_module": "@jupyter-widgets/controls",
      "model_module_version": "1.5.0",
      "model_name": "HTMLModel",
      "state": {
       "layout": "IPY_MODEL_8576f675ba3440d8bf6d9666f792ac55",
       "style": "IPY_MODEL_c50f653aee1b4ad282a402284d2eed47"
      }
     },
     "dd8b6a06abaf44f1803981dea6f2550a": {
      "model_module": "@jupyter-widgets/controls",
      "model_module_version": "1.5.0",
      "model_name": "DropdownModel",
      "state": {
       "_options_labels": [
        "/home/mxwbio/Desktop/MxW/SampleDataSet/Organoids/5167/Activity_Scan/000003",
        "/home/mxwbio/Desktop/MxW/SampleDataSet/Organoids/5167/Activity_Scan",
        "/home/mxwbio/Desktop/MxW/SampleDataSet/Organoids/5167",
        "/home/mxwbio/Desktop/MxW/SampleDataSet/Organoids",
        "/home/mxwbio/Desktop/MxW/SampleDataSet",
        "/home/mxwbio/Desktop/MxW",
        "/home/mxwbio/Desktop",
        "/home/mxwbio",
        "/home",
        "/"
       ],
       "index": 0,
       "layout": "IPY_MODEL_bd9b6fcf3a4b4755a84bbf142cb3d3ce",
       "style": "IPY_MODEL_58cea7bc6ece4f5e935eb18409e800b0"
      }
     },
     "ddd09ac05b344d20b2358976652666f3": {
      "model_module": "@jupyter-widgets/controls",
      "model_module_version": "1.5.0",
      "model_name": "ButtonModel",
      "state": {
       "description": "Start",
       "layout": "IPY_MODEL_243d9e0c93a54dafa82e2af8c71b7da7",
       "style": "IPY_MODEL_d03ed105f86c418aac79d993bca9bffc"
      }
     },
     "ddf42d134a37425ca1b96679d26b89aa": {
      "model_module": "@jupyter-widgets/controls",
      "model_module_version": "1.5.0",
      "model_name": "BoxModel",
      "state": {
       "children": [
        "IPY_MODEL_6887eceda4f14a89b48f99170aa9f579"
       ],
       "layout": "IPY_MODEL_5ccba693082e45a8b82cf4637de62b90"
      }
     },
     "de2957623738408d8b51fc4b3e0b5a41": {
      "model_module": "@jupyter-widgets/controls",
      "model_module_version": "1.5.0",
      "model_name": "DescriptionStyleModel",
      "state": {
       "description_width": ""
      }
     },
     "de80ac86f2e648d5ba90b7e16ecc6320": {
      "model_module": "@jupyter-widgets/base",
      "model_module_version": "1.2.0",
      "model_name": "LayoutModel",
      "state": {
       "margin": "0 0 0 1em"
      }
     },
     "dea4ae084a054fcda2d2ba5ea712fa24": {
      "model_module": "@jupyter-widgets/base",
      "model_module_version": "1.2.0",
      "model_name": "LayoutModel",
      "state": {
       "display": "none"
      }
     },
     "df64c38c316b4d79a576293d170e9619": {
      "model_module": "@jupyter-widgets/controls",
      "model_module_version": "1.5.0",
      "model_name": "ButtonModel",
      "state": {
       "button_style": "info",
       "description": "Continue",
       "layout": "IPY_MODEL_d0e54e14841d43cabda5487014018b1a",
       "style": "IPY_MODEL_e3c16b82582d435d8a8bc7c0d210035b"
      }
     },
     "dfb29ffe856e479483ce3c3896b975bc": {
      "model_module": "@jupyter-widgets/controls",
      "model_module_version": "1.5.0",
      "model_name": "ButtonModel",
      "state": {
       "button_style": "success",
       "description": "Start",
       "layout": "IPY_MODEL_4a6a36d4617d43eeb5b3d1d8aba9fbf3",
       "style": "IPY_MODEL_735e37f42a9e4820a3c4d1ce287f3c53"
      }
     },
     "dfb9ecb2301f46c2863ab397c496c477": {
      "model_module": "@jupyter-widgets/controls",
      "model_module_version": "1.5.0",
      "model_name": "DescriptionStyleModel",
      "state": {
       "description_width": ""
      }
     },
     "e057be9de0104a648034bf70795e535e": {
      "model_module": "@jupyter-widgets/controls",
      "model_module_version": "1.5.0",
      "model_name": "ButtonModel",
      "state": {
       "button_style": "success",
       "description": "Start",
       "layout": "IPY_MODEL_e3cad508c2de4ae58da01ab96b3566e0",
       "style": "IPY_MODEL_d2dd472beced4466bad7c5723838da80"
      }
     },
     "e065c8d8748e4f98ae4b1a354b1f38fd": {
      "model_module": "@jupyter-widgets/controls",
      "model_module_version": "1.5.0",
      "model_name": "ButtonModel",
      "state": {
       "button_style": "success",
       "description": "Upload",
       "layout": "IPY_MODEL_bcad9891149645cea750edf39775de41",
       "style": "IPY_MODEL_565b3d6c58f94e71ba39037209517133"
      }
     },
     "e0d66123ee0a4f03838e411f1e44e0f7": {
      "model_module": "@jupyter-widgets/controls",
      "model_module_version": "1.5.0",
      "model_name": "ButtonModel",
      "state": {
       "button_style": "success",
       "description": "Upload",
       "layout": "IPY_MODEL_5e74799ad1ff4abe93d00d9c9a62bf15",
       "style": "IPY_MODEL_77d14fd52edb406b9f66126a238fd813"
      }
     },
     "e17cf10d5cc141368a9f1e72f4618895": {
      "model_module": "@jupyter-widgets/controls",
      "model_module_version": "1.5.0",
      "model_name": "TextModel",
      "state": {
       "disabled": true,
       "layout": "IPY_MODEL_c46cd10f72e346438b7b28a38307e076",
       "placeholder": "output filename",
       "style": "IPY_MODEL_e38bd2280748430c8f7ea59b0f3d3253"
      }
     },
     "e1b03e29c520498e8f52803135222054": {
      "model_module": "@jupyter-widgets/base",
      "model_module_version": "1.2.0",
      "model_name": "LayoutModel",
      "state": {}
     },
     "e2b48c9c084a41a4a04a4b9bb210c2bf": {
      "model_module": "@jupyter-widgets/controls",
      "model_module_version": "1.5.0",
      "model_name": "ButtonStyleModel",
      "state": {}
     },
     "e31282ac4fd642789abd9182347eeb42": {
      "model_module": "@jupyter-widgets/controls",
      "model_module_version": "1.5.0",
      "model_name": "ButtonStyleModel",
      "state": {}
     },
     "e31af998678f49a9a044a25d8703a161": {
      "model_module": "@jupyter-widgets/controls",
      "model_module_version": "1.5.0",
      "model_name": "DescriptionStyleModel",
      "state": {
       "description_width": ""
      }
     },
     "e33da501b5c14bc4b88522cac2102e19": {
      "model_module": "@jupyter-widgets/controls",
      "model_module_version": "1.5.0",
      "model_name": "TextModel",
      "state": {
       "description": "UUID",
       "layout": "IPY_MODEL_9f1e5310ff7246c5ab2ae8ea2b867182",
       "style": "IPY_MODEL_802aa1fdb53e41c499329c96e05d943d",
       "value": "2020-03-25-e-testit"
      }
     },
     "e3594421345049f182bfdaceaa01f6b6": {
      "model_module": "@jupyter-widgets/controls",
      "model_module_version": "1.5.0",
      "model_name": "HTMLModel",
      "state": {
       "layout": "IPY_MODEL_36ad2dbcf0a94873b7b91b4d10ac5d21",
       "style": "IPY_MODEL_888f859cd72b466aad7ded28f9f8fc60",
       "value": "<h4 class='text-danger'>Select a Folder to Continue</h4>"
      }
     },
     "e38bd2280748430c8f7ea59b0f3d3253": {
      "model_module": "@jupyter-widgets/controls",
      "model_module_version": "1.5.0",
      "model_name": "DescriptionStyleModel",
      "state": {
       "description_width": ""
      }
     },
     "e3c16b82582d435d8a8bc7c0d210035b": {
      "model_module": "@jupyter-widgets/controls",
      "model_module_version": "1.5.0",
      "model_name": "ButtonStyleModel",
      "state": {}
     },
     "e3cad508c2de4ae58da01ab96b3566e0": {
      "model_module": "@jupyter-widgets/base",
      "model_module_version": "1.2.0",
      "model_name": "LayoutModel",
      "state": {
       "width": "auto"
      }
     },
     "e3d51df9c0be48e184daaed7e6a9182c": {
      "model_module": "@jupyter-widgets/controls",
      "model_module_version": "1.5.0",
      "model_name": "HTMLModel",
      "state": {
       "layout": "IPY_MODEL_114d7d6d91794b0b9ca853ad62db24c0",
       "style": "IPY_MODEL_680ca2bcd6c744ba879a9377ea6757d2",
       "value": "<h4 class='text-danger'>Select a Folder to Continue</h4>"
      }
     },
     "e43870c945a745a081cb6709464bf468": {
      "model_module": "@jupyter-widgets/controls",
      "model_module_version": "1.5.0",
      "model_name": "ButtonStyleModel",
      "state": {}
     },
     "e454becf13a64df0b78028ecff7be982": {
      "model_module": "@jupyter-widgets/base",
      "model_module_version": "1.2.0",
      "model_name": "LayoutModel",
      "state": {
       "margin": "0 0 0 1em"
      }
     },
     "e467badf394f437291622f51acfce1ec": {
      "model_module": "@jupyter-widgets/base",
      "model_module_version": "1.2.0",
      "model_name": "LayoutModel",
      "state": {
       "width": "500px"
      }
     },
     "e4bd49dc1b6947a580d62eb6bb6113b2": {
      "model_module": "@jupyter-widgets/controls",
      "model_module_version": "1.5.0",
      "model_name": "ButtonModel",
      "state": {
       "description": "Cancel",
       "layout": "IPY_MODEL_4d5d3eef125349cb9f4df4a42cd09ed5",
       "style": "IPY_MODEL_f4bfb8850bd24561aa6eb4dafe3b41cf"
      }
     },
     "e58369c087284909b1836030cee27eca": {
      "model_module": "@jupyter-widgets/controls",
      "model_module_version": "1.5.0",
      "model_name": "DescriptionStyleModel",
      "state": {
       "description_width": ""
      }
     },
     "e58ac81863f34674ab5138a8484c51fc": {
      "model_module": "@jupyter-widgets/controls",
      "model_module_version": "1.5.0",
      "model_name": "VBoxModel",
      "state": {
       "children": [
        "IPY_MODEL_dd863e1e1a1e4caf90f024dfba873c7f",
        "IPY_MODEL_7abd860049914bb7a2359251f69dadf9",
        "IPY_MODEL_7e96a03dcf824eea84aa30acf2da519e"
       ],
       "layout": "IPY_MODEL_fa1c638f1dc5461abd6706e880677eba"
      }
     },
     "e5e6121b67fe46a6940117b39baed73d": {
      "model_module": "@jupyter-widgets/base",
      "model_module_version": "1.2.0",
      "model_name": "LayoutModel",
      "state": {}
     },
     "e6232e7d5e614331bb97fd256860a269": {
      "model_module": "@jupyter-widgets/controls",
      "model_module_version": "1.5.0",
      "model_name": "ButtonModel",
      "state": {
       "button_style": "success",
       "description": "Start",
       "layout": "IPY_MODEL_97a531af53594b38b2470c532be06fa7",
       "style": "IPY_MODEL_a1bf46cc96a144369574519305b5af9d"
      }
     },
     "e6b39d4c4087468799d38fccdc4acaba": {
      "model_module": "@jupyter-widgets/controls",
      "model_module_version": "1.5.0",
      "model_name": "ButtonStyleModel",
      "state": {}
     },
     "e7b6fffce419405c968a073bb2491c7e": {
      "model_module": "@jupyter-widgets/controls",
      "model_module_version": "1.5.0",
      "model_name": "VBoxModel",
      "state": {
       "children": [
        "IPY_MODEL_035a322a374c4385817c6bd3b236dba9",
        "IPY_MODEL_76c574d2a4b24ba398f2fb9d0fea5de5",
        "IPY_MODEL_d26a5621aba74df3880bb443977ba380"
       ],
       "layout": "IPY_MODEL_e467badf394f437291622f51acfce1ec"
      }
     },
     "e87ac987ccb7432f971bed1d261e0847": {
      "model_module": "@jupyter-widgets/controls",
      "model_module_version": "1.5.0",
      "model_name": "GridBoxModel",
      "state": {
       "children": [
        "IPY_MODEL_5653e70104244690a13a4896b97be618",
        "IPY_MODEL_052c5112eaac4f99bc75e7b0cb26449e",
        "IPY_MODEL_c518f11cb7a24362bf2611e7f012ef53"
       ],
       "layout": "IPY_MODEL_35693d2d6edb4367aa3661160cd145cc"
      }
     },
     "e889ec28ec9d4352899d68ed44a35096": {
      "model_module": "@jupyter-widgets/base",
      "model_module_version": "1.2.0",
      "model_name": "LayoutModel",
      "state": {
       "display": "none",
       "grid_area": "filename",
       "width": "auto"
      }
     },
     "e8ada262bf454d4fba8dbfa98ff8e567": {
      "model_module": "@jupyter-widgets/controls",
      "model_module_version": "1.5.0",
      "model_name": "ButtonStyleModel",
      "state": {}
     },
     "e8fb8b7fffb248958925008fe90902b4": {
      "model_module": "@jupyter-widgets/base",
      "model_module_version": "1.2.0",
      "model_name": "LayoutModel",
      "state": {
       "width": "auto"
      }
     },
     "e947a731cd3a4e9ba0301b4e2631195a": {
      "model_module": "@jupyter-widgets/base",
      "model_module_version": "1.2.0",
      "model_name": "LayoutModel",
      "state": {
       "display": "none",
       "min_width": "6em",
       "width": "6em"
      }
     },
     "e97df43200a941c7a606cbf17c438c20": {
      "model_module": "@jupyter-widgets/base",
      "model_module_version": "1.2.0",
      "model_name": "LayoutModel",
      "state": {
       "width": "auto"
      }
     },
     "ea875f6dbf234655917b17b9a5e61b6e": {
      "model_module": "@jupyter-widgets/controls",
      "model_module_version": "1.5.0",
      "model_name": "DropdownModel",
      "state": {
       "_options_labels": [
        "/home/mxwbio/Desktop/MxW/SampleDataSet/Organoids/5167/Activity_Scan/000003",
        "/home/mxwbio/Desktop/MxW/SampleDataSet/Organoids/5167/Activity_Scan",
        "/home/mxwbio/Desktop/MxW/SampleDataSet/Organoids/5167",
        "/home/mxwbio/Desktop/MxW/SampleDataSet/Organoids",
        "/home/mxwbio/Desktop/MxW/SampleDataSet",
        "/home/mxwbio/Desktop/MxW",
        "/home/mxwbio/Desktop",
        "/home/mxwbio",
        "/home",
        "/"
       ],
       "index": 0,
       "layout": "IPY_MODEL_6a461734c9374f7fbd853129b26f0954",
       "style": "IPY_MODEL_b70a39fad20948f188f2335b86ed2090"
      }
     },
     "eb173f3cc54b4038819ac2d43ec814df": {
      "model_module": "@jupyter-widgets/controls",
      "model_module_version": "1.5.0",
      "model_name": "ButtonModel",
      "state": {
       "button_style": "info",
       "description": "Continue",
       "layout": "IPY_MODEL_671fba8f3db94c63976efa221db13265",
       "style": "IPY_MODEL_8e8baec597ed4c48859dfae8e9ff69bb"
      }
     },
     "eb4692abeb6149a28d4037e9906ffd72": {
      "model_module": "@jupyter-widgets/controls",
      "model_module_version": "1.5.0",
      "model_name": "SelectModel",
      "state": {
       "_options_labels": [
        "📁 ..",
        "📁 Apps",
        "📁 Projects"
       ],
       "index": null,
       "layout": "IPY_MODEL_24fba389cb024421b761fd94122245ff",
       "rows": 8,
       "style": "IPY_MODEL_1f5b9a32288d4bad85b93d108b2b6a51"
      }
     },
     "eb72d8f5100444c0a93b3565aa59c12c": {
      "model_module": "@jupyter-widgets/controls",
      "model_module_version": "1.5.0",
      "model_name": "ButtonStyleModel",
      "state": {}
     },
     "ebf6b920aff84a48a13a243f097d4669": {
      "model_module": "@jupyter-widgets/controls",
      "model_module_version": "1.5.0",
      "model_name": "DescriptionStyleModel",
      "state": {
       "description_width": ""
      }
     },
     "ec0c9beda4944a34a89d95d03c755116": {
      "model_module": "@jupyter-widgets/controls",
      "model_module_version": "1.5.0",
      "model_name": "ButtonModel",
      "state": {
       "button_style": "info",
       "description": "Continue",
       "layout": "IPY_MODEL_bc5d736adb3f4f379661561020e11441",
       "style": "IPY_MODEL_01bf1305d57c44a0a630071df950456c"
      }
     },
     "ec73e492ac2e47a680471e3ac1fb544b": {
      "model_module": "@jupyter-widgets/controls",
      "model_module_version": "1.5.0",
      "model_name": "VBoxModel",
      "state": {
       "children": [
        "IPY_MODEL_507fa176b1904ed093a94697cde73f15",
        "IPY_MODEL_f564bc982bc3437fbf9a031372aa6766",
        "IPY_MODEL_34b05b53193b43df8dc085aec0f27757"
       ],
       "layout": "IPY_MODEL_fa1c638f1dc5461abd6706e880677eba"
      }
     },
     "ecbeb123a8e545ec9922477577e38532": {
      "model_module": "@jupyter-widgets/controls",
      "model_module_version": "1.5.0",
      "model_name": "ButtonModel",
      "state": {
       "button_style": "info",
       "description": "Continue",
       "layout": "IPY_MODEL_80c5309a78174d90a20ceb065c29b988",
       "style": "IPY_MODEL_f4d96e75246940cd8a014ddbcaf93452"
      }
     },
     "ed04d04cb35241b4b506fc491c22ea36": {
      "model_module": "@jupyter-widgets/controls",
      "model_module_version": "1.5.0",
      "model_name": "ButtonModel",
      "state": {
       "button_style": "info",
       "description": "Continue",
       "layout": "IPY_MODEL_80720cf3274547b4aeb1b6148f69e6ec",
       "style": "IPY_MODEL_69eab73fe5144e82be95f86bdbd20deb"
      }
     },
     "ed1f2bfb2529490e91ed92c99759c95e": {
      "model_module": "@jupyter-widgets/controls",
      "model_module_version": "1.5.0",
      "model_name": "HTMLModel",
      "state": {
       "layout": "IPY_MODEL_35019daa68cf4ad69032d6b2be56f4b8",
       "style": "IPY_MODEL_29d59698344642d4929242a99608036a",
       "value": "<h4 class='text-danger'>Select a Folder to Continue</h4>"
      }
     },
     "ed67374c150f4621a4de98e641bc9a86": {
      "model_module": "@jupyter-widgets/controls",
      "model_module_version": "1.5.0",
      "model_name": "DescriptionStyleModel",
      "state": {
       "description_width": ""
      }
     },
     "ed7ffc3272e0490d857bacc583920669": {
      "model_module": "@jupyter-widgets/base",
      "model_module_version": "1.2.0",
      "model_name": "LayoutModel",
      "state": {
       "grid_area": "pathlist",
       "width": "auto"
      }
     },
     "ee3487d573bb48c2855b1e2405f90431": {
      "model_module": "@jupyter-widgets/controls",
      "model_module_version": "1.5.0",
      "model_name": "ButtonStyleModel",
      "state": {}
     },
     "eed0544d25324e2d985b09e4b003ffa5": {
      "model_module": "@jupyter-widgets/controls",
      "model_module_version": "1.5.0",
      "model_name": "TextareaModel",
      "state": {
       "layout": "IPY_MODEL_8b52430851604cb4984a3d31ccc696e1",
       "style": "IPY_MODEL_5a184f2c6c82466b95119aea32836696"
      }
     },
     "ef2d6088ab52409db8fdee0e17ff4333": {
      "model_module": "@jupyter-widgets/controls",
      "model_module_version": "1.5.0",
      "model_name": "DescriptionStyleModel",
      "state": {
       "description_width": ""
      }
     },
     "ef338831196747bb88a4cfaa1fd3be16": {
      "model_module": "@jupyter-widgets/base",
      "model_module_version": "1.2.0",
      "model_name": "LayoutModel",
      "state": {
       "grid_area": "dircontent",
       "width": "auto"
      }
     },
     "ef7055800d2a4877b3b985167ac4d87f": {
      "model_module": "@jupyter-widgets/controls",
      "model_module_version": "1.5.0",
      "model_name": "TextModel",
      "state": {
       "description": "UUID",
       "layout": "IPY_MODEL_d10048ed2415420a815ef9bbb793e73e",
       "style": "IPY_MODEL_34ed98ae96e94d78a929cc08c545fb0a",
       "value": "2020-03-25-e-testit"
      }
     },
     "ef7fdd01a85f4be7a81548603058d027": {
      "model_module": "@jupyter-widgets/controls",
      "model_module_version": "1.5.0",
      "model_name": "HTMLModel",
      "state": {
       "layout": "IPY_MODEL_b8eb9818dc3947dfab4964f58f38542a",
       "placeholder": "",
       "style": "IPY_MODEL_2f12be4dbcc14e22a3dbc9dbb06343da",
       "value": "<span style=\"color:green;\">/home/mxwbio/Desktop/MxW/SampleDataSet/Organoids/5167/Activity_Scan/000003/</span>"
      }
     },
     "f225a38904164a759340642d9c13dc60": {
      "model_module": "@jupyter-widgets/controls",
      "model_module_version": "1.5.0",
      "model_name": "ButtonModel",
      "state": {
       "button_style": "info",
       "description": "Continue",
       "layout": "IPY_MODEL_89140d82783544be82ce8990c3d80d03",
       "style": "IPY_MODEL_c313094d45524604970fc737eb50bb87"
      }
     },
     "f225d02577ac4907aac9e34bd3510d43": {
      "model_module": "@jupyter-widgets/base",
      "model_module_version": "1.2.0",
      "model_name": "LayoutModel",
      "state": {}
     },
     "f3042751cc3a420987cc537a1ef41c63": {
      "model_module": "@jupyter-widgets/controls",
      "model_module_version": "1.5.0",
      "model_name": "ButtonModel",
      "state": {
       "button_style": "success",
       "description": "Start",
       "layout": "IPY_MODEL_3a19907a1f9e4b5a984b1b9bef9cc4be",
       "style": "IPY_MODEL_0572a5b519514a51a910c2e70ab1d962"
      }
     },
     "f30aa128eaab4424aaa6dae4e21da944": {
      "model_module": "@jupyter-widgets/base",
      "model_module_version": "1.2.0",
      "model_name": "LayoutModel",
      "state": {
       "margin": "0 0 0 1em"
      }
     },
     "f30be6897ab04ea7ac13622d069c9335": {
      "model_module": "@jupyter-widgets/controls",
      "model_module_version": "1.5.0",
      "model_name": "DescriptionStyleModel",
      "state": {
       "description_width": ""
      }
     },
     "f35d0dfaa2d44660b91825e7a4993d5e": {
      "model_module": "@jupyter-widgets/base",
      "model_module_version": "1.2.0",
      "model_name": "LayoutModel",
      "state": {
       "overflow": "auto"
      }
     },
     "f3bd7b2b270544258bf83e63e7b5fc16": {
      "model_module": "@jupyter-widgets/controls",
      "model_module_version": "1.5.0",
      "model_name": "VBoxModel",
      "state": {
       "children": [
        "IPY_MODEL_b0134f973d9e421aad738a2c6c5ad302",
        "IPY_MODEL_c1be2e57953d4b98b71ae6bc53103dff",
        "IPY_MODEL_8f9d3fe5f149413e899203d5f2878355"
       ],
       "layout": "IPY_MODEL_fa1c638f1dc5461abd6706e880677eba"
      }
     },
     "f3d54a117203437d91a824ab35c76436": {
      "model_module": "@jupyter-widgets/controls",
      "model_module_version": "1.5.0",
      "model_name": "DescriptionStyleModel",
      "state": {
       "description_width": ""
      }
     },
     "f3e39645ab0f4f98a117b65157aba578": {
      "model_module": "@jupyter-widgets/controls",
      "model_module_version": "1.5.0",
      "model_name": "DropdownModel",
      "state": {
       "_options_labels": [
        "/home/mxwbio/wetai/homepage",
        "/home/mxwbio/wetai",
        "/home/mxwbio",
        "/home",
        "/"
       ],
       "index": 0,
       "layout": "IPY_MODEL_c02c2a9d231d4e14b749e40dbb33556d",
       "style": "IPY_MODEL_8e8284be1f914da89357246ba007238f"
      }
     },
     "f4294a4c7a7a4b938292746872931c54": {
      "model_module": "@jupyter-widgets/controls",
      "model_module_version": "1.5.0",
      "model_name": "DescriptionStyleModel",
      "state": {
       "description_width": ""
      }
     },
     "f4bfb8850bd24561aa6eb4dafe3b41cf": {
      "model_module": "@jupyter-widgets/controls",
      "model_module_version": "1.5.0",
      "model_name": "ButtonStyleModel",
      "state": {}
     },
     "f4d96e75246940cd8a014ddbcaf93452": {
      "model_module": "@jupyter-widgets/controls",
      "model_module_version": "1.5.0",
      "model_name": "ButtonStyleModel",
      "state": {}
     },
     "f4ff9e6b6d194205be55c5c059d780a6": {
      "model_module": "@jupyter-widgets/controls",
      "model_module_version": "1.5.0",
      "model_name": "ButtonModel",
      "state": {
       "button_style": "info",
       "description": "Continue",
       "layout": "IPY_MODEL_658dd71648d24cd3bb74b8963c7d27d5",
       "style": "IPY_MODEL_b9cb82baaab944b98daa6cd4c13a7ee3"
      }
     },
     "f5052df3271f4d969b4d22d63b030050": {
      "model_module": "@jupyter-widgets/controls",
      "model_module_version": "1.5.0",
      "model_name": "HTMLModel",
      "state": {
       "layout": "IPY_MODEL_e454becf13a64df0b78028ecff7be982",
       "placeholder": "",
       "style": "IPY_MODEL_065546c7f1ee40d9a28c70776ccdafc7",
       "value": "<span style=\"color:green;\">/home/mxwbio/Desktop/MxW/SampleDataSet/Organoids/5167/Activity_Scan/000003/</span>"
      }
     },
     "f564bc982bc3437fbf9a031372aa6766": {
      "model_module": "@jupyter-widgets/controls",
      "model_module_version": "1.5.0",
      "model_name": "GridBoxModel",
      "state": {
       "children": [
        "IPY_MODEL_0e0be86a6f274b52ab20dece64893c53",
        "IPY_MODEL_373dadaead4c43988b8c9c798f89590c",
        "IPY_MODEL_eb4692abeb6149a28d4037e9906ffd72"
       ],
       "layout": "IPY_MODEL_23b7130937494ec29d0367a0a5ea0811"
      }
     },
     "f571239a53b946508c16d07acb882606": {
      "model_module": "@jupyter-widgets/base",
      "model_module_version": "1.2.0",
      "model_name": "LayoutModel",
      "state": {
       "display": "none"
      }
     },
     "f5d5d5510fac4bc2b8d99ac0d3a50b0b": {
      "model_module": "@jupyter-widgets/base",
      "model_module_version": "1.2.0",
      "model_name": "LayoutModel",
      "state": {}
     },
     "f5e41b8308cc491f9a8f2ebfbb8e6615": {
      "model_module": "@jupyter-widgets/base",
      "model_module_version": "1.2.0",
      "model_name": "LayoutModel",
      "state": {
       "min_width": "6em",
       "width": "6em"
      }
     },
     "f629b28aba44431a94650c4e63460aa8": {
      "model_module": "@jupyter-widgets/controls",
      "model_module_version": "1.5.0",
      "model_name": "TextModel",
      "state": {
       "disabled": true,
       "layout": "IPY_MODEL_30068806c514400084c73b7419ba98d2",
       "placeholder": "output filename",
       "style": "IPY_MODEL_cec1114b9133466a9304e634d977a8e2"
      }
     },
     "f6483707233d4965b263d140e27be2ad": {
      "model_module": "@jupyter-widgets/base",
      "model_module_version": "1.2.0",
      "model_name": "LayoutModel",
      "state": {
       "display": "none",
       "grid_gap": "0px 0px",
       "grid_template_areas": "\n            'pathlist pathlist'\n            'dircontent dircontent'\n            ",
       "grid_template_columns": "60% 40%",
       "grid_template_rows": "auto auto",
       "width": "auto"
      }
     },
     "f66bae738f8b4ccca08b145f0593a23b": {
      "model_module": "@jupyter-widgets/controls",
      "model_module_version": "1.5.0",
      "model_name": "ButtonModel",
      "state": {
       "button_style": "success",
       "description": "Start",
       "layout": "IPY_MODEL_9da4e0b8a02b4d1c9e09e42645f6f20e",
       "style": "IPY_MODEL_5fbe6d040d30472ebf2d03f9f78eb1eb"
      }
     },
     "f6b49a0366dc4d52a0d83bae672a832d": {
      "model_module": "@jupyter-widgets/controls",
      "model_module_version": "1.5.0",
      "model_name": "DescriptionStyleModel",
      "state": {
       "description_width": ""
      }
     },
     "f6be8a09a3af4d6cb34c1f3405ceaf1b": {
      "model_module": "@jupyter-widgets/base",
      "model_module_version": "1.2.0",
      "model_name": "LayoutModel",
      "state": {
       "grid_area": "dircontent",
       "width": "auto"
      }
     },
     "f6ffff66aeb1471baa714deb327597b8": {
      "model_module": "@jupyter-widgets/base",
      "model_module_version": "1.2.0",
      "model_name": "LayoutModel",
      "state": {
       "min_width": "6em",
       "width": "6em"
      }
     },
     "f7059ebc586949acb629680ff86ee831": {
      "model_module": "@jupyter-widgets/controls",
      "model_module_version": "1.5.0",
      "model_name": "ButtonModel",
      "state": {
       "description": "Cancel",
       "layout": "IPY_MODEL_d22c617ae4184380b0b2ee45e1ef6e8d",
       "style": "IPY_MODEL_ee3487d573bb48c2855b1e2405f90431"
      }
     },
     "f738d7d4a22344f6bbf2295eda2e1c7c": {
      "model_module": "@jupyter-widgets/controls",
      "model_module_version": "1.5.0",
      "model_name": "HBoxModel",
      "state": {
       "children": [
        "IPY_MODEL_d2077a58072a4c5a9ef0d949a7a63d22",
        "IPY_MODEL_b3c2713925154cb7865b9cd8d85f3bcb",
        "IPY_MODEL_fb526315c0f847109c4b05446ccdef92"
       ],
       "layout": "IPY_MODEL_67454c707b1c434abcea37ac1254b856"
      }
     },
     "f84e88669ddf40df8b991644f101d135": {
      "model_module": "@jupyter-widgets/controls",
      "model_module_version": "1.5.0",
      "model_name": "DescriptionStyleModel",
      "state": {
       "description_width": ""
      }
     },
     "f859aadda63d434da75235c00ad1cb2c": {
      "model_module": "@jupyter-widgets/base",
      "model_module_version": "1.2.0",
      "model_name": "LayoutModel",
      "state": {
       "grid_area": "pathlist",
       "width": "auto"
      }
     },
     "f8890764d7a545968cc498e2f85a5955": {
      "model_module": "@jupyter-widgets/base",
      "model_module_version": "1.2.0",
      "model_name": "LayoutModel",
      "state": {
       "width": "auto"
      }
     },
     "f946ad9bb2fb4d5cad62db4d7e8a24dd": {
      "model_module": "@jupyter-widgets/controls",
      "model_module_version": "1.5.0",
      "model_name": "HTMLModel",
      "state": {
       "layout": "IPY_MODEL_de80ac86f2e648d5ba90b7e16ecc6320",
       "placeholder": "",
       "style": "IPY_MODEL_87a83313d6ab4fb4ade060e87a46385d",
       "value": "<span style=\"color:black;\">No selection</span>"
      }
     },
     "f9a372e970ec41e4b8705cde5607e2e1": {
      "model_module": "@jupyter-widgets/controls",
      "model_module_version": "1.5.0",
      "model_name": "ButtonStyleModel",
      "state": {}
     },
     "f9a5e04070fd46e3bd2b58a396894516": {
      "model_module": "@jupyter-widgets/controls",
      "model_module_version": "1.5.0",
      "model_name": "DescriptionStyleModel",
      "state": {
       "description_width": ""
      }
     },
     "fa1c638f1dc5461abd6706e880677eba": {
      "model_module": "@jupyter-widgets/base",
      "model_module_version": "1.2.0",
      "model_name": "LayoutModel",
      "state": {
       "width": "500px"
      }
     },
     "fa3aa3ef8ba64c0d8d5ba4d0f1fdd9b2": {
      "model_module": "@jupyter-widgets/controls",
      "model_module_version": "1.5.0",
      "model_name": "ButtonStyleModel",
      "state": {}
     },
     "fa86089d3d75493d8092f2d1a6e46bef": {
      "model_module": "@jupyter-widgets/base",
      "model_module_version": "1.2.0",
      "model_name": "LayoutModel",
      "state": {
       "width": "auto"
      }
     },
     "fa93328c49554f10ad9566a122c904bc": {
      "model_module": "@jupyter-widgets/controls",
      "model_module_version": "1.5.0",
      "model_name": "ButtonStyleModel",
      "state": {}
     },
     "fb526315c0f847109c4b05446ccdef92": {
      "model_module": "@jupyter-widgets/controls",
      "model_module_version": "1.5.0",
      "model_name": "BoxModel",
      "state": {
       "children": [
        "IPY_MODEL_af65590798e8438a8f4f6ca9ff0cf469"
       ],
       "layout": "IPY_MODEL_ad2364c39a904bbe9ef183082ce2b67e"
      }
     },
     "fbd66b1314a94322bc98db070379dfb6": {
      "model_module": "@jupyter-widgets/controls",
      "model_module_version": "1.5.0",
      "model_name": "DescriptionStyleModel",
      "state": {
       "description_width": ""
      }
     },
     "fc91dc553d924e47a2461b45acb4c99b": {
      "model_module": "@jupyter-widgets/controls",
      "model_module_version": "1.5.0",
      "model_name": "VBoxModel",
      "state": {
       "children": [
        "IPY_MODEL_ce24f0e6f9b44196b22ea881900590b6",
        "IPY_MODEL_07e007e221db4a5cada19a7e4c0dadad",
        "IPY_MODEL_b2cad89d9f8645d5a86b74cde0212b04"
       ],
       "layout": "IPY_MODEL_e467badf394f437291622f51acfce1ec"
      }
     },
     "fc920000cf0b48ea8a861ed1ef3f9d13": {
      "model_module": "@jupyter-widgets/controls",
      "model_module_version": "1.5.0",
      "model_name": "HTMLModel",
      "state": {
       "layout": "IPY_MODEL_5831b7658db24240809256e78814e2a0",
       "style": "IPY_MODEL_387ad4b5b66742a3b28acbcded498019",
       "value": "<h4 class='text-danger'>Select a Folder to Continue</h4>"
      }
     },
     "fcc87f9945b745b597ca92aa4cba9f94": {
      "model_module": "@jupyter-widgets/base",
      "model_module_version": "1.2.0",
      "model_name": "LayoutModel",
      "state": {
       "visibility": "hidden"
      }
     },
     "fcf30ebff13d488d978bc66c991cf311": {
      "model_module": "@jupyter-widgets/base",
      "model_module_version": "1.2.0",
      "model_name": "LayoutModel",
      "state": {
       "width": "auto"
      }
     },
     "fd11a3ed4d2b434fbfe2cc3c1d178d39": {
      "model_module": "@jupyter-widgets/controls",
      "model_module_version": "1.5.0",
      "model_name": "ButtonStyleModel",
      "state": {}
     },
     "fd6b32fa7272467fb0afc9905e11388c": {
      "model_module": "@jupyter-widgets/controls",
      "model_module_version": "1.5.0",
      "model_name": "HTMLModel",
      "state": {
       "layout": "IPY_MODEL_fe0e353f8c344b2fa0fb0d4e236f7600",
       "placeholder": "",
       "style": "IPY_MODEL_e31af998678f49a9a044a25d8703a161",
       "value": "<span style=\"color:green;\">/home/mxwbio/Desktop/MxW/SampleDataSet/Organoids/5167/Activity_Scan/000003/</span>"
      }
     },
     "fe0e353f8c344b2fa0fb0d4e236f7600": {
      "model_module": "@jupyter-widgets/base",
      "model_module_version": "1.2.0",
      "model_name": "LayoutModel",
      "state": {
       "margin": "0 0 0 1em"
      }
     },
     "fe78ad9fe80548aa8845c826aff431f0": {
      "model_module": "@jupyter-widgets/base",
      "model_module_version": "1.2.0",
      "model_name": "LayoutModel",
      "state": {
       "visibility": "hidden"
      }
     }
    },
    "version_major": 2,
    "version_minor": 0
   }
  }
 },
 "nbformat": 4,
 "nbformat_minor": 5
}
