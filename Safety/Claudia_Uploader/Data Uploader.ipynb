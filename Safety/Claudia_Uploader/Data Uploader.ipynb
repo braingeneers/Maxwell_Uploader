{
 "cells": [
  {
   "cell_type": "markdown",
   "id": "5e575007",
   "metadata": {},
   "source": [
    "<font size=7> Data Uploader"
   ]
  },
  {
   "cell_type": "markdown",
   "id": "25da13a0",
   "metadata": {},
   "source": [
    "<font color=\"red\"><b>Not Started"
   ]
  },
  {
   "cell_type": "markdown",
   "id": "49dc1463",
   "metadata": {},
   "source": [
    "<font color=\"orange\">Complete this notebook once the source code for hte application is finished"
   ]
  },
  {
   "cell_type": "code",
   "execution_count": null,
   "id": "ebc7e3b7",
   "metadata": {},
   "outputs": [],
   "source": []
  }
 ],
 "metadata": {
  "hide_input": false,
  "kernelspec": {
   "display_name": "Python 3",
   "language": "python",
   "name": "python3"
  },
  "language_info": {
   "codemirror_mode": {
    "name": "ipython",
    "version": 3
   },
   "file_extension": ".py",
   "mimetype": "text/x-python",
   "name": "python",
   "nbconvert_exporter": "python",
   "pygments_lexer": "ipython3",
   "version": "3.8.8"
  },
  "toc": {
   "base_numbering": 1,
   "nav_menu": {},
   "number_sections": true,
   "sideBar": true,
   "skip_h1_title": false,
   "title_cell": "Table of Contents",
   "title_sidebar": "Contents",
   "toc_cell": false,
   "toc_position": {},
   "toc_section_display": true,
   "toc_window_display": false
  }
 },
 "nbformat": 4,
 "nbformat_minor": 5
}
