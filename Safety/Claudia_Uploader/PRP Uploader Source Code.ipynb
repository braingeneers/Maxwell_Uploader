{
 "cells": [
  {
   "cell_type": "markdown",
   "id": "ae0f6356",
   "metadata": {},
   "source": [
    "<font size=7>PRP Uploader Source Code"
   ]
  },
  {
   "cell_type": "markdown",
   "id": "11a356bb",
   "metadata": {},
   "source": [
    "This is where all the code wich is run inside the <font color=\"blue\">Data Uploader App</font> is located."
   ]
  },
  {
   "cell_type": "markdown",
   "id": "e12c02ca",
   "metadata": {
    "slideshow": {
     "slide_type": "slide"
    }
   },
   "source": [
    "<font color=\"red\">\n",
    "\n",
    "**TO DO**\n",
    "* Put together Uploader box\n",
    "* Test everythign works\n",
    "* Embed in Ephys Analyzer app\n",
    "* Write data to JSON file\n",
    "* Figure out how to make folders that have spaces work correctly"
   ]
  },
  {
   "cell_type": "markdown",
   "id": "b2ad2dcc",
   "metadata": {},
   "source": [
    "**References**\n",
    "* [Widgets layout documentaton](https://ipywidgets.readthedocs.io/en/latest/examples/Widget%20Styling.html)"
   ]
  },
  {
   "cell_type": "markdown",
   "id": "08d1cb3f",
   "metadata": {},
   "source": [
    "# <font color=\"gray\">Set Up Notebook"
   ]
  },
  {
   "cell_type": "markdown",
   "id": "ce2618ba",
   "metadata": {},
   "source": [
    "## Import packages"
   ]
  },
  {
   "cell_type": "code",
   "execution_count": null,
   "id": "after-sunrise",
   "metadata": {},
   "outputs": [],
   "source": [
    "import numpy as np\n",
    "import matplotlib.pyplot as plt\n",
    "\n",
    "\n",
    "from ipywidgets import interact, interactive, fixed, interact_manual\n",
    "import ipywidgets as widgets\n",
    "from IPython.display import display\n",
    "from IPython.display import clear_output\n",
    "\n",
    "import sys\n",
    "import os \n",
    "import glob\n",
    "import re\n",
    "import json\n",
    "import random\n",
    "\n",
    "#import braingeneers\n",
    "#from braingeneers import datasets_electrophysiology as ephys\n",
    "#from braingeneers import analysis"
   ]
  },
  {
   "cell_type": "markdown",
   "id": "710ab0b0",
   "metadata": {},
   "source": [
    "## expUploader object"
   ]
  },
  {
   "cell_type": "code",
   "execution_count": null,
   "id": "abba1c3e",
   "metadata": {},
   "outputs": [],
   "source": [
    "#create empty object instead of formal class\n",
    "#save widgets in this object\n",
    "expUploader = type('', (object,), {})()"
   ]
  },
  {
   "cell_type": "markdown",
   "id": "medium-hours",
   "metadata": {},
   "source": [
    "# <font color=\"orchid\">UUID"
   ]
  },
  {
   "cell_type": "markdown",
   "id": "eb641676",
   "metadata": {},
   "source": [
    "## <font color=\"green\">Widgets</font>"
   ]
  },
  {
   "cell_type": "markdown",
   "id": "3d26b432",
   "metadata": {},
   "source": [
    "### <font color=\"red\">Experiment name</font>"
   ]
  },
  {
   "cell_type": "markdown",
   "id": "82cf2dd1",
   "metadata": {},
   "source": [
    "Create a text box where user inputs the experiment name"
   ]
  },
  {
   "cell_type": "code",
   "execution_count": null,
   "id": "00cdd9e3",
   "metadata": {},
   "outputs": [],
   "source": [
    "#Experiment name \n",
    "#program requests user input \n",
    "#user inputs experiment name \n",
    "exp_name = widgets.Text(\n",
    "    description = \"Exp. Name:\",\n",
    "    input = '',\n",
    "    #\"Exp. name: \", #program waiting for the user to input data before moving on  \n",
    "    disabled = False,\n",
    "\n",
    ")\n",
    "exp_name"
   ]
  },
  {
   "cell_type": "markdown",
   "id": "f18197a2",
   "metadata": {},
   "source": [
    "### <font color=\"red\">Date"
   ]
  },
  {
   "cell_type": "markdown",
   "id": "8f5428ba",
   "metadata": {},
   "source": [
    "Use the [date picker widget](https://ipywidgets.readthedocs.io/en/latest/examples/Widget%20List.html#Date-picker) to create a tool where user selects the date.\n",
    "\n",
    "First number sequence is date of experiment \n",
    "    \n",
    "    [year-month-day]"
   ]
  },
  {
   "cell_type": "code",
   "execution_count": null,
   "id": "bebf513c",
   "metadata": {},
   "outputs": [],
   "source": [
    "#Experiment date\n",
    "#widget does not work on safari \n",
    "#user picks date of experiment \n",
    "exp_date = widgets.DatePicker(\n",
    "    description = 'Exp. Date:', #exp. equates experiment \n",
    "    disabled = False\n",
    ")"
   ]
  },
  {
   "cell_type": "code",
   "execution_count": null,
   "id": "a0691230",
   "metadata": {},
   "outputs": [],
   "source": [
    "exp_date "
   ]
  },
  {
   "cell_type": "markdown",
   "id": "5f66a40b",
   "metadata": {},
   "source": [
    "Convert experiment date into a string"
   ]
  },
  {
   "cell_type": "code",
   "execution_count": null,
   "id": "60ec4d1d",
   "metadata": {},
   "outputs": [],
   "source": [
    "exp_date.value #widget value\n",
    "\n",
    "myDate = exp_date.value #save value in new variable\n",
    "str(myDate) #make variable into a string\n",
    "expUploader.dateUUID = str(myDate) #save string variable dateUUID to empty uploader object\n",
    "expUploader.dateUUID #prints object value"
   ]
  },
  {
   "cell_type": "markdown",
   "id": "36b6ee12",
   "metadata": {},
   "source": [
    "### <font color=\"red\">Experiment type"
   ]
  },
  {
   "cell_type": "markdown",
   "id": "1d14a9a6",
   "metadata": {},
   "source": [
    "Use a dropdown widget so the user can select the experiment type."
   ]
  },
  {
   "cell_type": "markdown",
   "id": "a90ede24",
   "metadata": {},
   "source": [
    "type of experiments: \n",
    "        \n",
    "        ephys (e), fluidics (f), imaging (i), calcium (c), patch clamp (p)"
   ]
  },
  {
   "cell_type": "code",
   "execution_count": null,
   "id": "0a716b01",
   "metadata": {},
   "outputs": [],
   "source": [
    "#program displays experiment options in a dropdown\n",
    "exp_type = widgets.Dropdown(\n",
    "    options = [('Calcium','c'), ('Ephys','e'), ('Fluidics','f'), ('Imaging','i'), ('MEA','m'), ('Patch Clamp','p')],  \n",
    "    description = 'Type:',\n",
    "    disabled = False, \n",
    ") \n",
    "exp_type"
   ]
  },
  {
   "cell_type": "code",
   "execution_count": null,
   "id": "ea283cf1",
   "metadata": {},
   "outputs": [],
   "source": [
    "#electrode array options\n",
    "#not using these options yet\n",
    "e_type = widgets.Dropdown(\n",
    "    options = [('MEA', 'm'), ('Axion', 'a'), ('SeaMoss', 's'), ('Roberts', 'r')],  \n",
    "    description = 'Type:',\n",
    "    disabled = False, \n",
    ")\n",
    "e_type"
   ]
  },
  {
   "cell_type": "markdown",
   "id": "dd4d6a39",
   "metadata": {},
   "source": [
    "#### <font color=\"red\">Imaging indicator options"
   ]
  },
  {
   "cell_type": "markdown",
   "id": "7575752f",
   "metadata": {},
   "source": [
    "Type of imaging techniques "
   ]
  },
  {
   "cell_type": "markdown",
   "id": "4b7b1e4b",
   "metadata": {},
   "source": [
    "Immunoflurescence imaging indicators and patch clamp options"
   ]
  },
  {
   "cell_type": "code",
   "execution_count": null,
   "id": "83c6b80c",
   "metadata": {},
   "outputs": [],
   "source": [
    "#imaging indicator options\n",
    "#place holders for now, need to ask jess about which indicators she prefers\n",
    "#add markdown headings for each widgets \n",
    "im_type = widgets.Dropdown(\n",
    "    options = ['ca2+', 'eGFP', 'k+'],  \n",
    "    description = 'Type:',\n",
    "    disabled = False, \n",
    ")\n",
    "im_type"
   ]
  },
  {
   "cell_type": "code",
   "execution_count": null,
   "id": "90c952b5",
   "metadata": {},
   "outputs": [],
   "source": [
    "#cell clamping \n",
    "c_type = widgets.Dropdown(\n",
    "    options = ['Patch clamp', 'whole cell', 'voltage clamping'],  \n",
    "    description = 'Clamp type:',\n",
    "    disabled = False, \n",
    ")\n",
    "c_type"
   ]
  },
  {
   "cell_type": "markdown",
   "id": "701a578a",
   "metadata": {},
   "source": [
    "## <font color=\"green\">Button"
   ]
  },
  {
   "cell_type": "markdown",
   "id": "85a48d29",
   "metadata": {},
   "source": [
    "Create a button, later attach a function that when clicked creates correctly formatted UUID and prints it. \n",
    "\n",
    "Make sure to make a selection for date and experiement type, and fill in the text boxes in the widgets"
   ]
  },
  {
   "cell_type": "code",
   "execution_count": null,
   "id": "c568103f",
   "metadata": {},
   "outputs": [],
   "source": [
    "#button (without funciton) to generate uuid from widgets\n",
    "uuid_button = widgets.Button(\n",
    "    description = 'UUID',\n",
    "    disabled = False, \n",
    "    button_style = '', #UUID format YYYY-MM-DD-experiment type-experiment shorthand\n",
    "    tooltip = 'UUID format: YYYY-MM-DD- experiment type - experiment shorthand', #message that appears when user hovers over button \n",
    "    icon = '',\n",
    ")\n",
    "uuid_button"
   ]
  },
  {
   "cell_type": "markdown",
   "id": "written-arrest",
   "metadata": {},
   "source": [
    "## <font color=\"green\">UUID button function (what makes the button work)"
   ]
  },
  {
   "cell_type": "markdown",
   "id": "f3d25f02",
   "metadata": {
    "cell_style": "split"
   },
   "source": [
    "Create a function called <font color=\"blue\"> getUUID function</font> which will run when the <font color=\"green\">UUID Button </font> widget is clicked. This function will extract UUID widget values, format, and save the resulting outputs into a variable called `UUID`\n",
    "\n",
    "Run this piece of code before clicking the 'UUID' button for it to work."
   ]
  },
  {
   "cell_type": "code",
   "execution_count": null,
   "id": "a5f4b03f",
   "metadata": {},
   "outputs": [],
   "source": [
    "#every time you add to the function refresh the button in the cells above \n",
    "import ipywidgets as ipw\n",
    "\n",
    "import ipywidgets as widgets \n",
    "\n",
    "from ipywidgets import interact, interactive, fixed, interact_manual\n",
    "\n",
    "from IPython.core.display import HTML, display, Javascript, clear_output\n",
    "\n",
    "def makeUUID(b):\n",
    "    expUploader.date = str(exp_date.value) #accessing widget value\n",
    "    expUploader.type = str(exp_type.value) #\n",
    "    expUploader.name = exp_name.value\n",
    "    #print('UUID: {}'.format(expUploader.date),'{}'.format(expUploader.type),'{}'.format(expUploader.name))\n",
    "    expUploader.uuid = expUploader.date +\"-\"+expUploader.type+\"-\"+expUploader.name\n",
    "    print(\"UUID: {}\".format(expUploader.uuid))\n",
    "    #take everything from widgets to grab the widget values to produce UUID in correct format, then save and print for user\n",
    "    \n",
    "uuid_button.on_click(makeUUID)"
   ]
  },
  {
   "cell_type": "markdown",
   "id": "0e514828",
   "metadata": {},
   "source": [
    "### <font color='red'>To Do"
   ]
  },
  {
   "cell_type": "markdown",
   "id": "c9761103",
   "metadata": {},
   "source": [
    "want experiment uploader uuid to have a variable called UUID which is the actual uuid name to use for file upload: `expUploader.UUID`"
   ]
  },
  {
   "cell_type": "markdown",
   "id": "7da73e6d",
   "metadata": {},
   "source": [
    "figure out how to concatinate variables for this"
   ]
  },
  {
   "cell_type": "markdown",
   "id": "4ad09cf1",
   "metadata": {},
   "source": [
    "## <font color=\"Blue\"> Widget Box"
   ]
  },
  {
   "cell_type": "markdown",
   "id": "d4baf3d7",
   "metadata": {},
   "source": [
    "Collect all of the <font color=\"green\">widgets</font> that you created in this section and put them into a single <font color=\"blue\">widget box</font>. \n",
    "\n",
    "UUID format: \n",
    "YYYY-MM-DD-ET-ESH\n",
    "\n",
    "ET = experiment type, ESH = experiment shorthand "
   ]
  },
  {
   "cell_type": "markdown",
   "id": "7da6f034",
   "metadata": {},
   "source": [
    "format `uuid_button` widget"
   ]
  },
  {
   "cell_type": "code",
   "execution_count": null,
   "id": "ac6523cf",
   "metadata": {},
   "outputs": [],
   "source": [
    "#Hbox arranages multiple widgets horizontally \n",
    "uuid_button_box = ipw.HBox([uuid_button]) #arrange uuid_button horizontally in a \"box\" \n",
    "uuid_button_box.layout.justify_content = \"center\" #center the \"box\"\n",
    "\n",
    "#UUID button user description \n",
    "uuid_title= ipw.HTML(\"<h3 class = 'text-center'><font color='orchid'>createUUID</font>\") #create title for the uuid button box\n",
    "\n",
    "\n",
    "#use HBOX to put widgets in a row \n",
    "uuid_row = ipw.HBox([exp_date, exp_type, exp_name])\n",
    "\n",
    "\n",
    "\n",
    "#uuid button box\n",
    "uuid = ipw.VBox([uuid_title, uuid_row, uuid_button_box])\n",
    "uuid.layout.align_items = 'flex-start'\n",
    "\n"
   ]
  },
  {
   "cell_type": "code",
   "execution_count": null,
   "id": "e9baf460",
   "metadata": {},
   "outputs": [],
   "source": [
    "#final box for this button\n",
    "\n",
    "from ipywidgets import Layout, Button, Box, HBox, VBox\n",
    "\n",
    "\n",
    "uuid_button_box = ipw.HBox([uuid_button]) #arrange uuid_button horizontally in a \"box\" \n",
    "#uuid_button_box.layout.justify_content = 'center' #center the \"box\" title\n",
    "uuid_title= ipw.HTML(\"<h3 class = 'text-large'><font color='orchid'>createUUID</font>\") #create title for the uuid button box\n",
    "uuid_row = ipw.HBox([exp_date, exp_type, exp_name]) #arrange experimental widgets horizontally\n",
    "#uuid_row.layout.justify_content = 'center'\n",
    "uuid = ipw.VBox([uuid_title, uuid_row, uuid_button_box]) #arrange the uuid button box, uuid row, and uuid title vertically\n",
    "uuid_layout = Layout()\n",
    "\n",
    "uuid\n",
    "\n",
    "#figure out layout sizes"
   ]
  },
  {
   "cell_type": "markdown",
   "id": "641fc02a",
   "metadata": {},
   "source": [
    "# <font color=\"brown\">UUID PRP file uploader"
   ]
  },
  {
   "cell_type": "markdown",
   "id": "d03d5e02",
   "metadata": {},
   "source": [
    "## <font color=\"green\">Create PRP dictionary "
   ]
  },
  {
   "cell_type": "markdown",
   "id": "f628aec5",
   "metadata": {},
   "source": [
    "`exp_type` widget tells us what type of experimental data is being saved on wetai. Tells us which folder the file should be saved under on the PRP. Each folder on the PRP corresponds to a specific type of experimental data on wetai.\n",
    "\n",
    "Know the type of data that was selected in the `exp_type`  widget, use this to select the corresponding folder on the PRP.\n",
    "\n",
    "Create a dictionary for uploading experiment data types specifically to the PRP (independent from the experiment types uploaded to wetai)"
   ]
  },
  {
   "cell_type": "code",
   "execution_count": null,
   "id": "6bc8efd5",
   "metadata": {},
   "outputs": [],
   "source": [
    "types_map = {\n",
    "    'e':\"ephys\",\n",
    "    'i':\"imaging\", \n",
    "    'f': \"fluidics\", \n",
    "    'c': \"calcium\", \n",
    "    'p': \"patchclamp\", \n",
    "    'r':\"raster\"\n",
    "} "
   ]
  },
  {
   "cell_type": "markdown",
   "id": "7986b276",
   "metadata": {},
   "source": [
    "print specific dictionary key value"
   ]
  },
  {
   "cell_type": "code",
   "execution_count": null,
   "id": "c014a2fb",
   "metadata": {},
   "outputs": [],
   "source": [
    "#exp_type.value\n",
    "type_to_prp= types_map[exp_type.value]\n",
    "type_to_prp"
   ]
  },
  {
   "cell_type": "code",
   "execution_count": null,
   "id": "85dc6ff7",
   "metadata": {},
   "outputs": [],
   "source": [
    "#returns the content at end of terminal pathway \n",
    "!echo s3://braingeneers/{type_to_prp}/{expUploader.uuid}"
   ]
  },
  {
   "cell_type": "code",
   "execution_count": null,
   "id": "6e4eb308",
   "metadata": {},
   "outputs": [],
   "source": [
    "#!aws3 cp ./{user_folder.value}  s3://braingeneers/{prp_folder}/{expUploader.uuid} --recursive --public-read\n"
   ]
  },
  {
   "cell_type": "markdown",
   "id": "f21bc2db",
   "metadata": {},
   "source": [
    "We use the dictionary `types_to_prp` to get the folder name corresponding to the type of data selected by the user."
   ]
  },
  {
   "cell_type": "markdown",
   "id": "6357b386",
   "metadata": {},
   "source": [
    "<font color=\"orange\"> Code below shows the names of all the folders on the prp"
   ]
  },
  {
   "cell_type": "code",
   "execution_count": null,
   "id": "9c96d511",
   "metadata": {},
   "outputs": [],
   "source": [
    "!aws3 ls s3://braingeneers/"
   ]
  },
  {
   "cell_type": "markdown",
   "id": "71841e6f",
   "metadata": {},
   "source": [
    "## <font color=\"green\">Widgets"
   ]
  },
  {
   "cell_type": "markdown",
   "id": "bea93c53",
   "metadata": {},
   "source": [
    "Create a button that when clicked will upload your dataset to the PRP. Use the commands in the Reference material to figure out how to do this. When you uplaod the file, it should have the same name that was created from your uuid section. "
   ]
  },
  {
   "cell_type": "markdown",
   "id": "5e333b30",
   "metadata": {},
   "source": [
    "Make 'files to prp' folder on jupyter. Save files here when uploading to PRP."
   ]
  },
  {
   "cell_type": "code",
   "execution_count": null,
   "id": "e733da27",
   "metadata": {},
   "outputs": [],
   "source": [
    "! ls"
   ]
  },
  {
   "cell_type": "markdown",
   "id": "52a97f8c",
   "metadata": {},
   "source": [
    "### <font color=\"red\">Select a folder"
   ]
  },
  {
   "cell_type": "markdown",
   "id": "1a4610da",
   "metadata": {},
   "source": [
    "Create dropdown to display folders on PRP to select where to upload your data file."
   ]
  },
  {
   "cell_type": "code",
   "execution_count": null,
   "id": "ff22471f",
   "metadata": {},
   "outputs": [],
   "source": [
    "#uuid saved in expuploader object\n",
    "expUploader.uuid\n",
    "\n",
    "#selected file uploaded to expUploader PRP directory\n",
    "#listing out only folders on computer\n",
    "my_folders = !ls -d */ #this command shows all folders on prp saved in my_folders\n",
    "\n",
    "#display my_folders as options in drop down menu\n",
    "userOptions = ipw.Dropdown(options=my_folders)\n",
    "userOptions"
   ]
  },
  {
   "cell_type": "code",
   "execution_count": null,
   "id": "0cfe14ad",
   "metadata": {},
   "outputs": [],
   "source": [
    "#print value of selected folder\n",
    "userOptions.value\n",
    "\n",
    "\n",
    "#attach python variable to a terminal command\n",
    "!echo ./{userOptions.value} \n",
    "\n",
    "\n",
    "\n",
    "#file in the python variable\n",
    "#showing the terminal command for uploading to prp\n",
    "#save file type in correct folder, f saved in fluidics\n",
    "#incorrectly saving file type in this pathway\n",
    "!echo s3://braingeneers/ephys/{expUploader.uuid} \n"
   ]
  },
  {
   "cell_type": "markdown",
   "id": "1af21846",
   "metadata": {},
   "source": [
    "### <font color=\"red\">Upload button"
   ]
  },
  {
   "cell_type": "markdown",
   "id": "02eaff56",
   "metadata": {},
   "source": [
    "create a button and function that when clicked will upload data from wetai to the prp"
   ]
  },
  {
   "cell_type": "code",
   "execution_count": null,
   "id": "bb83c00c",
   "metadata": {},
   "outputs": [],
   "source": [
    "prp_type_folder = types_to_prp[exp_type.value]\n",
    "#!aws3 cp ./{user_folder.value}  s3://braingeneers/{prp_type_folder}/{expUploader.uuid} --acl public-read --recursive \n",
    "!echo  ./{userOptions.value}"
   ]
  },
  {
   "cell_type": "code",
   "execution_count": null,
   "id": "341365e5",
   "metadata": {},
   "outputs": [],
   "source": [
    "#creates upload button \n",
    "upload_button = ipw.Button(description=\"upload file\")\n",
    "#prp command to prove file was uploaded?\n",
    "\n",
    "#add function to button \n",
    "def upload_func(b):\n",
    "    #copies jupyter folder to the prp s3\n",
    "    prp_type_folder = types_to_prp[exp_type.value]\n",
    "    !aws3 cp ./{userOptions.value}  s3://braingeneers/{prp_type_folder}/{expUploader.uuid} --acl public-read --recursive \n",
    "        \n",
    "upload_button.on_click(upload_func)\n",
    "\n",
    "upload_button"
   ]
  },
  {
   "cell_type": "markdown",
   "id": "7bfa61c7",
   "metadata": {},
   "source": [
    "### <font color=\"red\">Save output with UUID"
   ]
  },
  {
   "cell_type": "code",
   "execution_count": null,
   "id": "29e59aac",
   "metadata": {},
   "outputs": [],
   "source": [
    "expUploader.uuid"
   ]
  },
  {
   "cell_type": "markdown",
   "id": "90773849",
   "metadata": {},
   "source": [
    "## <font color=\"blue\"> Widget box"
   ]
  },
  {
   "cell_type": "code",
   "execution_count": null,
   "id": "516ef8eb",
   "metadata": {},
   "outputs": [],
   "source": [
    "# #Hbox arranages multiple widgets horizontally \n",
    "uploader_button_box = ipw.HBox([userOptions,upload_button]) #arrange upload_button horizontally in a \"box\" \n",
    "uploader_button_box.layout.justify_content = \"center\" #center the \"box\"\n",
    "\n",
    "uploader_button_box\n",
    "\n",
    "\n",
    "# #UUID button user description \n",
    "# uploader_title= ipw.HTML(\"<h3 class = 'text-center'><font color='orchid'>Upload Dataset</font>\") #create title for the uuid button box\n",
    "# uploader_title\n",
    "\n"
   ]
  },
  {
   "cell_type": "code",
   "execution_count": null,
   "id": "a38d8a46",
   "metadata": {},
   "outputs": [],
   "source": [
    "#UUID button user description \n",
    "uploader_title= ipw.HTML(\"<h3 class = 'text-center'><font color='orchid'>Select PRP folder</font>\") #create title for the uuid button box\n",
    "uploader_title"
   ]
  },
  {
   "cell_type": "code",
   "execution_count": null,
   "id": "915ec501",
   "metadata": {},
   "outputs": [],
   "source": [
    "#uuid button box\n",
    "uploader = ipw.VBox([uploader_title,uploader_button_box])\n",
    "uploader.layout.align_items = 'flex-start'\n",
    "uploader"
   ]
  },
  {
   "cell_type": "markdown",
   "id": "b07f0d53",
   "metadata": {},
   "source": [
    "useful code"
   ]
  },
  {
   "cell_type": "code",
   "execution_count": null,
   "id": "c5f46952",
   "metadata": {},
   "outputs": [],
   "source": [
    "!mkdir {ExpUploader.uuid}"
   ]
  },
  {
   "cell_type": "markdown",
   "id": "cbbf7206",
   "metadata": {},
   "source": [
    "## <font color=\"gray\">Reference Material: AWS command line examples:"
   ]
  },
  {
   "cell_type": "markdown",
   "id": "5b05a394",
   "metadata": {},
   "source": [
    "list files on this computer (relative to the folder where this Jupyter notebook is)"
   ]
  },
  {
   "cell_type": "code",
   "execution_count": null,
   "id": "5263cca0",
   "metadata": {},
   "outputs": [],
   "source": [
    "!ls"
   ]
  },
  {
   "cell_type": "markdown",
   "id": "64dc3cb4",
   "metadata": {},
   "source": [
    "list all files in Braingeneers S3 folder on PRP  (long version)"
   ]
  },
  {
   "cell_type": "code",
   "execution_count": null,
   "id": "f9b1f082",
   "metadata": {},
   "outputs": [],
   "source": [
    "!aws3 ls"
   ]
  },
  {
   "cell_type": "markdown",
   "id": "964c0a47",
   "metadata": {},
   "source": [
    "list all files in Braingeneers S3 folder on PRP (short version with alias/enviroment variable screated by Elliott)"
   ]
  },
  {
   "cell_type": "code",
   "execution_count": null,
   "id": "955dd000",
   "metadata": {},
   "outputs": [],
   "source": [
    "!aws3 ls s3://braingeneers/"
   ]
  },
  {
   "cell_type": "markdown",
   "id": "61fee891",
   "metadata": {
    "slideshow": {
     "slide_type": "slide"
    }
   },
   "source": [
    "**Downloading from cloud:** copy file *from* PRP AWS S3 down to this computer (Format: cp {SOURCE} {DESTINATION})"
   ]
  },
  {
   "cell_type": "code",
   "execution_count": null,
   "id": "30be1b4c",
   "metadata": {
    "slideshow": {
     "slide_type": "slide"
    }
   },
   "outputs": [],
   "source": [
    "!aws3 cp s3://braingeneers/ephys/2020-11-27-e-UCSF-axionplate/derived/metadata.json ."
   ]
  },
  {
   "cell_type": "markdown",
   "id": "44a93c87",
   "metadata": {
    "slideshow": {
     "slide_type": "slide"
    }
   },
   "source": [
    "How to pass variables from Jupyter to Command line"
   ]
  },
  {
   "cell_type": "code",
   "execution_count": null,
   "id": "6b916ea1",
   "metadata": {
    "slideshow": {
     "slide_type": "slide"
    }
   },
   "outputs": [],
   "source": [
    "x = \"ahjkgk\"\n",
    "if True: \n",
    "    !echo {x}\n"
   ]
  },
  {
   "cell_type": "markdown",
   "id": "78a97c9d",
   "metadata": {},
   "source": [
    "**Upload everything** in local UUID folder --- {UUID} plugs in the variable storing UUID into the terminal command"
   ]
  },
  {
   "cell_type": "code",
   "execution_count": null,
   "id": "91dfebb3",
   "metadata": {},
   "outputs": [],
   "source": [
    "expUploader.uuid"
   ]
  },
  {
   "cell_type": "code",
   "execution_count": null,
   "id": "36aa4b4a",
   "metadata": {},
   "outputs": [],
   "source": [
    "!aws3 cp ./{UUID}/ s3://braingeneers/ephys/2020-11-27-e-UCSF-axionplate/ --recursive --public-read\n"
   ]
  },
  {
   "cell_type": "markdown",
   "id": "eb374b85",
   "metadata": {},
   "source": [
    "copy file *to* PRP AWS S3 from this computer (Format: cp {SOURCE} {DESTINATION}) -- in this case the command is also recursive and copying everything inside \"2021-04-09-e-claudia-test/\" folder on this computer"
   ]
  },
  {
   "cell_type": "code",
   "execution_count": null,
   "id": "fa9a383b",
   "metadata": {},
   "outputs": [],
   "source": [
    "!aws3 cp ./2021-04-09-e-claudia-test/ s3://braingeneers/ephys/2021-04-09-e-claudia-test/ --acl public-read --recursive #use when uploading to prp\n"
   ]
  },
  {
   "cell_type": "markdown",
   "id": "f1a5439a",
   "metadata": {},
   "source": [
    "list files in claudia test foler on PRP to check"
   ]
  },
  {
   "cell_type": "code",
   "execution_count": null,
   "id": "a0d85b92",
   "metadata": {},
   "outputs": [],
   "source": [
    "!aws3 ls s3://braingeneers/ephys/2021-04-09-e-claudia-test/\n",
    "    \n"
   ]
  },
  {
   "cell_type": "markdown",
   "id": "0174c5e4",
   "metadata": {},
   "source": [
    "# <font color=\"blue\">JSON"
   ]
  },
  {
   "cell_type": "markdown",
   "id": "8806dd9d",
   "metadata": {},
   "source": [
    "<font color=\"red\">\n",
    "    \n",
    "**Claudia** : We should build an interface where the user inputs their data"
   ]
  },
  {
   "cell_type": "markdown",
   "id": "514c335d",
   "metadata": {},
   "source": [
    "## <font color=\"blue\">Reading - Simple example"
   ]
  },
  {
   "cell_type": "code",
   "execution_count": null,
   "id": "735af075",
   "metadata": {},
   "outputs": [],
   "source": [
    "#Read a JSON and print it out with nice formatting\n",
    "import json\n",
    "path_to_json = \"./files to PRP/metadata.json\"\n",
    "with open(path_to_json, \"r\") as fp:\n",
    "    metadata = json.load(fp)\n",
    "    json_formatted_str = json.dumps(metadata, indent=5)\n",
    "    print(json_formatted_str)"
   ]
  },
  {
   "cell_type": "markdown",
   "id": "3e5a618f",
   "metadata": {},
   "source": [
    "## <font color=\"blue\">Reading - Fancy Example"
   ]
  },
  {
   "cell_type": "code",
   "execution_count": null,
   "id": "fc41cdb3",
   "metadata": {},
   "outputs": [],
   "source": [
    "#Elliott's code for JSON\n",
    "import uuid\n",
    "class renderJSON(object):\n",
    "    def __init__(self, json_data):\n",
    "        if isinstance(json_data, dict):\n",
    "            self.json_str = json.dumps(json_data)\n",
    "        else:\n",
    "            self.json_str = json_data\n",
    "        self.uuid = str(uuid.uuid4())\n",
    "        # This line is missed out in most of the versions of this script across the web, it is essential for this to work interleaved with print statements\n",
    "        #self._ipython_display_()\n",
    "        \n",
    "    def _ipython_display_(self):\n",
    "        display(HTML('<div id=\"{}\" style=\"height: auto; width:100%;\"></div>'.format(self.uuid)))\n",
    "        display(HTML(\"\"\"<script>\n",
    "        require([\"https://rawgit.com/caldwell/renderjson/master/renderjson.js\"], function() {\n",
    "          renderjson.set_show_to_level(1)\n",
    "          document.getElementById('%s').appendChild(renderjson(%s))\n",
    "        });</script>\n",
    "        \"\"\" % (self.uuid, self.json_str)))\n",
    "        \n"
   ]
  },
  {
   "cell_type": "code",
   "execution_count": null,
   "id": "7d3db3f2",
   "metadata": {},
   "outputs": [],
   "source": [
    "metadata"
   ]
  },
  {
   "cell_type": "code",
   "execution_count": null,
   "id": "fbf5e908",
   "metadata": {},
   "outputs": [],
   "source": [
    "renderJSON(metadata )"
   ]
  },
  {
   "cell_type": "markdown",
   "id": "2f44899f",
   "metadata": {},
   "source": [
    "## <font color=\"blue\"> Write to a JSON file"
   ]
  },
  {
   "cell_type": "code",
   "execution_count": null,
   "id": "1aeaf2ae",
   "metadata": {},
   "outputs": [],
   "source": []
  },
  {
   "cell_type": "code",
   "execution_count": null,
   "id": "643add76",
   "metadata": {},
   "outputs": [],
   "source": []
  },
  {
   "cell_type": "code",
   "execution_count": null,
   "id": "eb56dd3b",
   "metadata": {},
   "outputs": [],
   "source": []
  },
  {
   "cell_type": "code",
   "execution_count": null,
   "id": "54000daf",
   "metadata": {},
   "outputs": [],
   "source": []
  },
  {
   "cell_type": "markdown",
   "id": "1bc8ba7a",
   "metadata": {},
   "source": [
    "# References for Developers <small>(aka: Claudia)"
   ]
  },
  {
   "cell_type": "code",
   "execution_count": null,
   "id": "c0b82c45",
   "metadata": {},
   "outputs": [],
   "source": [
    "#jupyter widgets tutorial for \n",
    "#buttons, \n",
    "#assigning button function, \n",
    "#dropdown menu "
   ]
  },
  {
   "cell_type": "markdown",
   "id": "f7687070",
   "metadata": {},
   "source": [
    "Use this section to jot down and useful links you may want to remember. Also use this space to write log and errors or issues that you may want to fix later."
   ]
  },
  {
   "cell_type": "markdown",
   "id": "63f6cded",
   "metadata": {},
   "source": [
    "**Useful Links**\n",
    "* [Organizing Data Wiki](https://github.com/braingeneers/wiki/blob/main/shared/organizing-data.md)\n",
    "* [Do the wetAI tutorials](http://wetai.gi.ucsc.edu:8008/tree/Apps/braingeneers/Learn_WetAI)\n",
    "* [List of jupyter widgets](https://ipywidgets.readthedocs.io/en/latest/examples/Widget%20List.html)\n"
   ]
  },
  {
   "cell_type": "code",
   "execution_count": null,
   "id": "minus-extraction",
   "metadata": {},
   "outputs": [],
   "source": [
    "from ipywidgets import FileUpload\n",
    "from IPython.display import display\n",
    "upload = FileUpload(multiple=True)\n",
    "display(upload)"
   ]
  },
  {
   "cell_type": "code",
   "execution_count": null,
   "id": "de949d90",
   "metadata": {},
   "outputs": [],
   "source": [
    "print(upload.value)"
   ]
  },
  {
   "cell_type": "code",
   "execution_count": null,
   "id": "e98b1b04",
   "metadata": {},
   "outputs": [],
   "source": [
    "with open('z_merged_output.txt', 'wb') as output_file: \n",
    "    for uploaded_filename in upload.value:\n",
    "        content = upload.value[uploaded_filename]['content']   \n",
    "        output_file.write(content) "
   ]
  },
  {
   "cell_type": "code",
   "execution_count": null,
   "id": "4c9b0293",
   "metadata": {},
   "outputs": [],
   "source": []
  },
  {
   "cell_type": "markdown",
   "id": "musical-component",
   "metadata": {},
   "source": [
    "### Create Experiment JSONS\n",
    "Each experiment with \"filename\".* should have a corresponding \"filename\".json file, which describes the experiment"
   ]
  },
  {
   "cell_type": "markdown",
   "id": "capital-chick",
   "metadata": {},
   "source": [
    "Example: **6well-intancontroller.json**\n",
    "\n",
    "        {\n",
    "            \"blocks\": [\n",
    "                {\n",
    "                    \"num_frames\": 1200240,\n",
    "                    \"path\": \"6well-intancontroller_201006_182018.bin\",\n",
    "                    \"source\": \"./original/2020-10-06-e-UCSF-neurons-axionplate/6well-intancontroller_201006_182018.rhd\",\n",
    "                    \"timestamp\": \"2020-10-06T18:20:18\"\n",
    "                },\n",
    "                {\n",
    "                    \"num_frames\": 1200240,\n",
    "                    \"path\": \"6well-intancontroller_201006_182124.bin\",\n",
    "                    \"source\": \"./original/2020-10-06-e-UCSF-neurons-axionplate/6well-intancontroller_201006_182124.rhd\",\n",
    "                    \"timestamp\": \"2020-10-06T18:21:24\"\n",
    "                },\n",
    "                {\n",
    "                    \"num_frames\": 300240,\n",
    "                    \"path\": \"6well-intancontroller_201006_182235.bin\",\n",
    "                    \"source\": \"./original/2020-10-06-e-UCSF-neurons-axionplate/6well-intancontroller_201006_182235.rhd\",\n",
    "                    \"timestamp\": \"2020-10-06T18:22:35\"\n",
    "                }\n",
    "            ],\n",
    "            \"channels\": [],\n",
    "            \"hardware\": \"Intan RHD 2000 Controller\",\n",
    "            \"name\": \"6well-intancontroller\",\n",
    "            \"notes\": \"\",\n",
    "            \"num_channels\": 32,\n",
    "            \"num_current_input_channels\": 0,\n",
    "            \"num_voltage_channels\": 32,\n",
    "            \"offset\": 0,\n",
    "            \"sample_rate\": 20000,\n",
    "            \"scaler\": 0.195,\n",
    "            \"timestamp\": \"2020-10-06T18:20:18\",\n",
    "            \"units\": \"\\u00b5V\",\n",
    "            \"version\": \"0.0.1\"\n",
    "        }\n",
    "    "
   ]
  },
  {
   "cell_type": "markdown",
   "id": "innocent-scholar",
   "metadata": {},
   "source": [
    "Provide ephys, fluidics, imaging, calcium, patchclamp templates"
   ]
  },
  {
   "cell_type": "markdown",
   "id": "incorporated-bernard",
   "metadata": {},
   "source": [
    "For each experiment, provide a JSON:"
   ]
  },
  {
   "cell_type": "code",
   "execution_count": null,
   "id": "specialized-virtue",
   "metadata": {},
   "outputs": [],
   "source": [
    "#Make JSONs\n"
   ]
  },
  {
   "cell_type": "markdown",
   "id": "sticky-cliff",
   "metadata": {},
   "source": [
    "### Copy Your Data to PRP S3"
   ]
  },
  {
   "cell_type": "code",
   "execution_count": null,
   "id": "located-thanksgiving",
   "metadata": {},
   "outputs": [],
   "source": [
    "#[press a button to copy]\n"
   ]
  },
  {
   "cell_type": "code",
   "execution_count": null,
   "id": "ba395fe6",
   "metadata": {},
   "outputs": [],
   "source": []
  },
  {
   "cell_type": "code",
   "execution_count": null,
   "id": "23ddc6b9",
   "metadata": {},
   "outputs": [],
   "source": []
  },
  {
   "cell_type": "code",
   "execution_count": null,
   "id": "45692ff9",
   "metadata": {},
   "outputs": [],
   "source": []
  },
  {
   "cell_type": "code",
   "execution_count": null,
   "id": "05fd3e2f",
   "metadata": {},
   "outputs": [],
   "source": []
  },
  {
   "cell_type": "markdown",
   "id": "adolescent-patrol",
   "metadata": {},
   "source": [
    "### Post a Github Issue To Announce the Dataset"
   ]
  },
  {
   "cell_type": "markdown",
   "id": "cultural-victoria",
   "metadata": {},
   "source": [
    "**Github issue content:**\n",
    "\n",
    "Title: Experiment UUID\n",
    "\n",
    "Body: Medatata.json?? as plaintext? \n",
    "\n",
    "+ info about who uploaded it & did the experiment"
   ]
  },
  {
   "cell_type": "code",
   "execution_count": null,
   "id": "moving-regular",
   "metadata": {},
   "outputs": [],
   "source": [
    "#Preview content before posting???\n",
    "# print JSONs, etc."
   ]
  },
  {
   "cell_type": "code",
   "execution_count": null,
   "id": "computational-anchor",
   "metadata": {},
   "outputs": [],
   "source": [
    "#[press a button to post github issue]\n",
    "# How to post an automated github issue with Python: https://gist.github.com/JeffPaine/3145490"
   ]
  },
  {
   "cell_type": "markdown",
   "id": "comprehensive-sender",
   "metadata": {},
   "source": []
  },
  {
   "cell_type": "code",
   "execution_count": null,
   "id": "7abcac52",
   "metadata": {},
   "outputs": [],
   "source": []
  },
  {
   "cell_type": "code",
   "execution_count": null,
   "id": "aa80fd94",
   "metadata": {},
   "outputs": [],
   "source": []
  },
  {
   "cell_type": "code",
   "execution_count": null,
   "id": "d812d53d",
   "metadata": {},
   "outputs": [],
   "source": []
  },
  {
   "cell_type": "markdown",
   "id": "organic-giving",
   "metadata": {},
   "source": [
    "# Create a Metadata JSON File"
   ]
  },
  {
   "cell_type": "markdown",
   "id": "conscious-village",
   "metadata": {},
   "source": [
    "Experiment should have a **metadata.json** file which looks like this: \n",
    "\n",
    "        {\n",
    "        \"experiments\": [\n",
    "            \"6well-raspi-2020-10-06-18-28-54.json\",\n",
    "            \"6well-raspi-2020-10-06-18-30-17.json\",\n",
    "            \"6well-intancontroller.json\",\n",
    "            \"24well-intancontroller.json\"\n",
    "        ],\n",
    "        \"issue\": \" \",\n",
    "        \"notes\": \" \",\n",
    "        \"timestamp\": \"2020-10-06T17:41:31\",\n",
    "        \"uuid\": \"2020-10-06-e-UCSF-neurons-axionplate\"\n",
    "        }"
   ]
  },
  {
   "cell_type": "code",
   "execution_count": null,
   "id": "american-benefit",
   "metadata": {},
   "outputs": [],
   "source": [
    "# Create & save metadata.json\n",
    "\n",
    "# Save JSON file\n",
    "with open(UUID, \"rw\") as fp:\n",
    "    metadata = json.load(fp)\n",
    "    #metadata[\"experiments\"] = json_names\n",
    "    #metadata[\"timestamp\"] = \"2020-10-06T12:49:12\"\n",
    "    #metadata[\"uuid\"] = \"2020-10-06-e-UCSF-neurons-axionplate\"\n",
    "    #metadata[\"notes\"] = \"https://docs.google.com/document/d/1rphuB7pzRtAYW-MH67JWsbju1k_fUGopBwyqy2NniSk/edit?usp=sharing\"\n",
    "    json.dump(metadata, fp)\n",
    "print(\"Saved!\\n\")\n",
    "# Display JSON\n",
    "print(json.dumps(metadata, indent=4))"
   ]
  },
  {
   "cell_type": "code",
   "execution_count": null,
   "id": "proper-thumbnail",
   "metadata": {},
   "outputs": [],
   "source": [
    "#check an exitsing json\n",
    "e_guid = \"derived/2020-11-27-e-UCSF-axionplate/cells_faraday_1.json\"\n",
    "\n",
    "with open(e_guid, \"r\") as fp:\n",
    "    metadata = json.load(fp)\n",
    "\n",
    "# Display JSON\n",
    "print(json.dumps(metadata, indent=4))\n",
    "\n"
   ]
  },
  {
   "cell_type": "markdown",
   "id": "1c536796",
   "metadata": {},
   "source": [
    "# Extra Code dump"
   ]
  },
  {
   "cell_type": "code",
   "execution_count": null,
   "id": "ambient-procedure",
   "metadata": {
    "slideshow": {
     "slide_type": "slide"
    }
   },
   "outputs": [],
   "source": [
    "#scrap code\n",
    "if UUID[11] == 'e': experiment_type = \"ephys\"\n",
    "if UUID[11] == 'f': experiment_type = \"fluidics\"\n",
    "if UUID[11] == 'i': experiment_type = \"imaging\"\n",
    "if UUID[11] == 'c': experiment_type = \"calcium\"\n",
    "if UUID[11] == 'p': experiment_type = \"patchclamp\"\n",
    "\n",
    "\n",
    "SOURCE=\"./*\"\n",
    "DESTINATION=\"s3://braingeneers/\" + experiment_type +\"/\" + UUID + \"/\"\n",
    "\n",
    "!aws --endpoint https://s3.nautilus.optiputer.net s3 cp $SOURCE $DESTINATION\n",
    "!aws --endpoint https://s3.nautilus.optiputer.net s3 ls s3://braingeneers/\n",
    "!aws3 ls s3://braingeneers/ "
   ]
  },
  {
   "cell_type": "code",
   "execution_count": null,
   "id": "1b416313",
   "metadata": {},
   "outputs": [],
   "source": [
    "#Elliott's code for JSON\n",
    "class renderJSON(object):\n",
    "    def __init__(self, json_data):\n",
    "        if isinstance(json_data, dict):\n",
    "            self.json_str = json.dumps(json_data)\n",
    "        else:\n",
    "            self.json_str = json_data\n",
    "        self.uuid = str(uuid.uuid4())\n",
    "        # This line is missed out in most of the versions of this script across the web, it is essential for this to work interleaved with print statements\n",
    "        self._ipython_display_()\n",
    "        \n",
    "    def _ipython_display_(self):\n",
    "        display(HTML('<div id=\"{}\" style=\"height: auto; width:100%;\"></div>'.format(self.uuid)))\n",
    "        display(HTML(\"\"\"<script>\n",
    "        require([\"https://rawgit.com/caldwell/renderjson/master/renderjson.js\"], function() {\n",
    "          renderjson.set_show_to_level(1)\n",
    "          document.getElementById('%s').appendChild(renderjson(%s))\n",
    "        });</script>\n",
    "        \"\"\" % (self.uuid, self.json_str)))\n",
    "        \n"
   ]
  },
  {
   "cell_type": "code",
   "execution_count": null,
   "id": "915f7e66",
   "metadata": {},
   "outputs": [],
   "source": [
    "import uuid"
   ]
  },
  {
   "cell_type": "code",
   "execution_count": null,
   "id": "91df2f44",
   "metadata": {},
   "outputs": [],
   "source": [
    "renderJSON(metadata )"
   ]
  },
  {
   "cell_type": "code",
   "execution_count": null,
   "id": "286ee819",
   "metadata": {},
   "outputs": [],
   "source": []
  },
  {
   "cell_type": "code",
   "execution_count": null,
   "id": "2375d8c4",
   "metadata": {},
   "outputs": [],
   "source": [
    "#renderJSON(metadata)"
   ]
  },
  {
   "cell_type": "code",
   "execution_count": null,
   "id": "0f698065",
   "metadata": {},
   "outputs": [],
   "source": []
  },
  {
   "cell_type": "code",
   "execution_count": null,
   "id": "587c5ce7",
   "metadata": {},
   "outputs": [],
   "source": []
  },
  {
   "cell_type": "code",
   "execution_count": null,
   "id": "b0f12405",
   "metadata": {},
   "outputs": [],
   "source": []
  },
  {
   "cell_type": "markdown",
   "id": "974fc94d",
   "metadata": {},
   "source": [
    "# <font color = \"brown\"> Scratch Paper"
   ]
  },
  {
   "cell_type": "markdown",
   "id": "ba5a2606",
   "metadata": {},
   "source": [
    "test out stuff you don't know here"
   ]
  },
  {
   "cell_type": "markdown",
   "id": "9d0a0330",
   "metadata": {},
   "source": [
    "## <font color = \"brown\"> Dictionary"
   ]
  },
  {
   "cell_type": "markdown",
   "id": "587049fc",
   "metadata": {},
   "source": [
    "create empty dictionary"
   ]
  },
  {
   "cell_type": "code",
   "execution_count": null,
   "id": "7dfe24bb",
   "metadata": {},
   "outputs": [],
   "source": [
    "#a dictionary stores data key:value pairs, ordered, can be changed, no duplicates\n",
    "#create empty dictionary \n",
    "testDictionary = {} "
   ]
  },
  {
   "cell_type": "markdown",
   "id": "43f49a7f",
   "metadata": {},
   "source": [
    "check to see if its a dictionary"
   ]
  },
  {
   "cell_type": "code",
   "execution_count": null,
   "id": "5e58b3ba",
   "metadata": {},
   "outputs": [],
   "source": [
    "#check the type of variable testDictionary is\n",
    "type (testDictionary) "
   ]
  },
  {
   "cell_type": "markdown",
   "id": "82dab3f1",
   "metadata": {},
   "source": [
    "add stuff to dictionary"
   ]
  },
  {
   "cell_type": "code",
   "execution_count": null,
   "id": "953c885e",
   "metadata": {},
   "outputs": [],
   "source": [
    "#add key:value pair to dictionary using brackets\n",
    "testDictionary[\"color\"] = \"red\""
   ]
  },
  {
   "cell_type": "code",
   "execution_count": null,
   "id": "b8e573fc",
   "metadata": {},
   "outputs": [],
   "source": [
    "#print dictionary content\n",
    "print (testDictionary)"
   ]
  },
  {
   "cell_type": "code",
   "execution_count": null,
   "id": "1688e3f9",
   "metadata": {},
   "outputs": [],
   "source": [
    "#add key:value pair to existing dictionary\n",
    "testDictionary[\"car\"] = \"toyota\""
   ]
  },
  {
   "cell_type": "code",
   "execution_count": null,
   "id": "6ef7b507",
   "metadata": {},
   "outputs": [],
   "source": [
    "#all key:value pairs printed to screen\n",
    "print(testDictionary)"
   ]
  },
  {
   "cell_type": "markdown",
   "id": "aa07f1e5",
   "metadata": {},
   "source": [
    "<font color = \"red\"> to do </font> create dictionary with stuff already inside"
   ]
  },
  {
   "cell_type": "code",
   "execution_count": null,
   "id": "23fcbe8b",
   "metadata": {},
   "outputs": [],
   "source": [
    "#create empty dictionary\n",
    "ephysExperiments = {\n",
    "    \"e\":\"ephys\",\n",
    "    \"i\":\"imaging\",\n",
    "    \"f\":\"fludics\",\n",
    "    \"m\":\"MEA\",\n",
    "    \"p\":\"patchclamp\"\n",
    "}\n",
    "\n",
    "#add key:value pair to dictionary\n",
    "ephysExperiments[\"c\"]=\"calcium\"\n",
    "\n",
    "print (ephysExperiments)"
   ]
  },
  {
   "cell_type": "code",
   "execution_count": null,
   "id": "1620afe1",
   "metadata": {},
   "outputs": [],
   "source": []
  },
  {
   "cell_type": "markdown",
   "id": "7fedb374",
   "metadata": {},
   "source": [
    "<font color = \"red\"> to do </font> remove stuff from dictionary"
   ]
  },
  {
   "cell_type": "code",
   "execution_count": null,
   "id": "c27a5dc0",
   "metadata": {},
   "outputs": [],
   "source": [
    "del ephysExperiments[\"p\"] #del removes item from the dictionary with its key \n",
    "print(ephysExperiments)"
   ]
  },
  {
   "cell_type": "markdown",
   "id": "eba98e11",
   "metadata": {},
   "source": [
    "## move no longer needed code here"
   ]
  },
  {
   "cell_type": "markdown",
   "id": "f83dd2e4",
   "metadata": {},
   "source": [
    "You will create a <font color=\"orchid\">widget box</font> where the user inputs information like `experiment name`, `date`, and `experiment type`. Then when the user clicks `create`, it will output the correct UUID "
   ]
  },
  {
   "cell_type": "markdown",
   "id": "be826a22",
   "metadata": {},
   "source": [
    "\n",
    "Example: 2019-08-09-e-gmpopova"
   ]
  },
  {
   "cell_type": "code",
   "execution_count": null,
   "id": "40bd3782",
   "metadata": {},
   "outputs": [],
   "source": [
    "#Goal:\n",
    "#take user input data - experiment name, date, and experiment type\n",
    "#create a dropdown for the experiment type (ask Jess which kind of experiments she expects to upload) \n",
    "#concatinte user data into UUID format\n",
    "#'Create UUID' button generates the UUID in the desired format "
   ]
  },
  {
   "cell_type": "code",
   "execution_count": null,
   "id": "aba117b2",
   "metadata": {},
   "outputs": [],
   "source": [
    "#UUID format \n",
    "#YYYY-MM-DD-ET-ESH\n",
    "#ET = experiment type\n",
    "#ESH = experiment shorthand "
   ]
  },
  {
   "cell_type": "code",
   "execution_count": null,
   "id": "8c97777c",
   "metadata": {},
   "outputs": [],
   "source": [
    "#widget box practice from jupyter Widgets tutorial  \n",
    "\n",
    "import ipywidgets as ipw\n",
    "\n",
    "import ipywidgets as widgets \n",
    "\n",
    "from ipywidgets import interact, interactive, fixed, interact_manual\n",
    "\n",
    "from IPython.core.display import HTML, display, Javascript, clear_output"
   ]
  },
  {
   "cell_type": "markdown",
   "id": "a54a0af0",
   "metadata": {},
   "source": [
    "experiment name asks for user to input name"
   ]
  },
  {
   "cell_type": "code",
   "execution_count": null,
   "id": "f7786871",
   "metadata": {},
   "outputs": [],
   "source": [
    "#Experiment name \n",
    "#program requests user input \n",
    "#user inputs experiment name \n",
    "exp_name = ipw.Text(\n",
    "    #value = input ('Experiment Name: '), #program waiting for the user to input data before moving on  \n",
    "    placeholder = 'Enter experiment name',\n",
    "    description = 'Name: ',\n",
    "    disabled = False,\n",
    ")"
   ]
  },
  {
   "cell_type": "code",
   "execution_count": null,
   "id": "0db48cf6",
   "metadata": {},
   "outputs": [],
   "source": [
    "#Experiment type\n",
    "#program displays options in a dropdown\n",
    "exp_type = ipw.Dropdown(\n",
    "    options = ['Calcium (c)', 'Ephys (e)', 'Fluidics (f)', 'Imaging (i)', 'MEA (m)', 'Patch Clamp (p)'],\n",
    "    #value = string, ???  \n",
    "    description = 'Type:',\n",
    "    disabled = False, \n",
    ")                      "
   ]
  },
  {
   "cell_type": "code",
   "execution_count": null,
   "id": "931d0ef6",
   "metadata": {},
   "outputs": [],
   "source": [
    "exp_type"
   ]
  },
  {
   "cell_type": "code",
   "execution_count": null,
   "id": "0b685f86",
   "metadata": {},
   "outputs": [],
   "source": [
    "#'experiment type' button function '\n",
    "exp_type"
   ]
  },
  {
   "cell_type": "code",
   "execution_count": null,
   "id": "06ba2655",
   "metadata": {},
   "outputs": [],
   "source": [
    "#electrode options\n",
    "e_type = ipw.Dropdown(\n",
    "    options = [('MEA', 'm'), ('Axion', 'a'), ('SeaMoss', 's'), ('Roberts', 'r')],  \n",
    "    description = 'Type:',\n",
    "    disabled = False, \n",
    ")"
   ]
  },
  {
   "cell_type": "code",
   "execution_count": null,
   "id": "65c804d4",
   "metadata": {},
   "outputs": [],
   "source": [
    "e_type"
   ]
  },
  {
   "cell_type": "code",
   "execution_count": null,
   "id": "192e298d",
   "metadata": {},
   "outputs": [],
   "source": [
    "#imaging indicator options\n",
    "#place holders for now, need to ask jess about which indicators she prefers\n",
    "im_type = ipw.Dropdown(\n",
    "    options = ['ca2+', 'eGFP', 'k+'],  \n",
    "    description = 'Type:',\n",
    "    disabled = False, \n",
    ")"
   ]
  },
  {
   "cell_type": "code",
   "execution_count": null,
   "id": "8b5f2b52",
   "metadata": {},
   "outputs": [],
   "source": [
    "im_type"
   ]
  },
  {
   "cell_type": "code",
   "execution_count": null,
   "id": "d7bba7e5",
   "metadata": {},
   "outputs": [],
   "source": [
    "#cell clamping \n",
    "c_type = ipw.Dropdown(\n",
    "    options = ['Patch clamp', 'whole cell', 'micromanipulator'],  \n",
    "    description = 'Clamp type:',\n",
    "    disabled = False, \n",
    ")"
   ]
  },
  {
   "cell_type": "code",
   "execution_count": null,
   "id": "c83ba6d6",
   "metadata": {},
   "outputs": [],
   "source": [
    "c_type"
   ]
  },
  {
   "cell_type": "code",
   "execution_count": null,
   "id": "5ca06ceb",
   "metadata": {},
   "outputs": [],
   "source": [
    "#if user selects MEA, another dropdown would state options (roger's, seamoss, or axion)\n",
    "#dropdown in a dropdown\n",
    "#maybe use a loop? for loop?\n",
    "#MEA and the type next to it (in dropdown)"
   ]
  },
  {
   "cell_type": "code",
   "execution_count": null,
   "id": "d0b98b23",
   "metadata": {},
   "outputs": [],
   "source": [
    "#if user selects imaging or Ca2+ imaging, another dropdown states indicator options "
   ]
  },
  {
   "cell_type": "code",
   "execution_count": null,
   "id": "a6b7823b",
   "metadata": {
    "code_folding": []
   },
   "outputs": [],
   "source": [
    "#Go button\n",
    "#from widgets page\n",
    "go_button = widgets.Button(\n",
    "    description = 'Create UUID',\n",
    "    disabled = False, \n",
    "    button_style = '', #UUID format YYYY-MM-DD-experiment type-experiment shorthand\n",
    "    tooltip = 'Create UUID', #message that appears when user hovers over button \n",
    "    icon = '',\n",
    ")"
   ]
  },
  {
   "cell_type": "code",
   "execution_count": null,
   "id": "7c1e1559",
   "metadata": {},
   "outputs": [],
   "source": [
    "#widgets.Button "
   ]
  },
  {
   "cell_type": "code",
   "execution_count": null,
   "id": "394741ed",
   "metadata": {},
   "outputs": [],
   "source": [
    "go_button "
   ]
  },
  {
   "cell_type": "code",
   "execution_count": null,
   "id": "11957432",
   "metadata": {},
   "outputs": [],
   "source": [
    "#assigning function to Go button\n",
    "#btn = ipw.Button(description = \"Say Hello\")\n",
    "#btn"
   ]
  },
  {
   "cell_type": "markdown",
   "id": "e76d569c",
   "metadata": {},
   "source": [
    "#### Get JSON"
   ]
  },
  {
   "cell_type": "code",
   "execution_count": null,
   "id": "9ca160cd",
   "metadata": {},
   "outputs": [],
   "source": [
    "#is the above code necessary if i have this code for a button\n",
    "#same thing as above \n",
    "btn = ipw.Button(description = \"Create UUID\")\n",
    "btn "
   ]
  },
  {
   "cell_type": "code",
   "execution_count": null,
   "id": "50df98eb",
   "metadata": {},
   "outputs": [],
   "source": [
    "#btn.value"
   ]
  },
  {
   "cell_type": "code",
   "execution_count": null,
   "id": "bfdb2545",
   "metadata": {},
   "outputs": [],
   "source": [
    "#getUUID function "
   ]
  },
  {
   "cell_type": "code",
   "execution_count": null,
   "id": "f7deb4eb",
   "metadata": {},
   "outputs": [],
   "source": [
    "def testFunction (b): #b is btn aka button\n",
    "    b.value = \"hello\" #add a value to the btn, \"hello\" "
   ]
  },
  {
   "cell_type": "code",
   "execution_count": null,
   "id": "9e769fb6",
   "metadata": {},
   "outputs": [],
   "source": [
    "btn.on_click(testFunction)"
   ]
  },
  {
   "cell_type": "code",
   "execution_count": null,
   "id": "45408806",
   "metadata": {},
   "outputs": [],
   "source": [
    "#when running, include print string \"this is your UUID\" "
   ]
  },
  {
   "cell_type": "code",
   "execution_count": null,
   "id": "43afc467",
   "metadata": {},
   "outputs": [],
   "source": [
    "#fancy button\n",
    "#widgets.Button( \n",
    "    #icon = \"battery-quarter\", \n",
    "    #button_style = \"danger\", \n",
    "    #layout= Layout(width = 'auto'),\n",
    "#)"
   ]
  }
 ],
 "metadata": {
  "hide_input": false,
  "kernelspec": {
   "display_name": "Python 3",
   "language": "python",
   "name": "python3"
  },
  "language_info": {
   "codemirror_mode": {
    "name": "ipython",
    "version": 3
   },
   "file_extension": ".py",
   "mimetype": "text/x-python",
   "name": "python",
   "nbconvert_exporter": "python",
   "pygments_lexer": "ipython3",
   "version": "3.9.5"
  },
  "toc": {
   "base_numbering": 1,
   "nav_menu": {
    "height": "235px",
    "width": "359px"
   },
   "number_sections": true,
   "sideBar": true,
   "skip_h1_title": false,
   "title_cell": "Table of Contents",
   "title_sidebar": "Contents",
   "toc_cell": false,
   "toc_position": {},
   "toc_section_display": true,
   "toc_window_display": false
  },
  "varInspector": {
   "cols": {
    "lenName": 16,
    "lenType": 16,
    "lenVar": 40
   },
   "kernels_config": {
    "python": {
     "delete_cmd_postfix": "",
     "delete_cmd_prefix": "del ",
     "library": "var_list.py",
     "varRefreshCmd": "print(var_dic_list())"
    },
    "r": {
     "delete_cmd_postfix": ") ",
     "delete_cmd_prefix": "rm(",
     "library": "var_list.r",
     "varRefreshCmd": "cat(var_dic_list()) "
    }
   },
   "types_to_exclude": [
    "module",
    "function",
    "builtin_function_or_method",
    "instance",
    "_Feature"
   ],
   "window_display": false
  },
  "widgets": {
   "application/vnd.jupyter.widget-state+json": {
    "state": {},
    "version_major": 2,
    "version_minor": 0
   }
  }
 },
 "nbformat": 4,
 "nbformat_minor": 5
}
