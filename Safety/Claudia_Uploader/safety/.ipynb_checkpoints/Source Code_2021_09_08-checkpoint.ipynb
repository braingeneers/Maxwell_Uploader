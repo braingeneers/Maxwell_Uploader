{
 "cells": [
  {
   "cell_type": "markdown",
   "id": "ae0f6356",
   "metadata": {},
   "source": [
    "<font size=7>Data Uploader Source Code"
   ]
  },
  {
   "cell_type": "markdown",
   "id": "11a356bb",
   "metadata": {},
   "source": [
    "This is where all the code wich is run inside the <font color=\"blue\">Data Uploader App</font> is located."
   ]
  },
  {
   "cell_type": "markdown",
   "id": "e12c02ca",
   "metadata": {
    "slideshow": {
     "slide_type": "slide"
    }
   },
   "source": [
    "**TO DO**\n",
    "* Finsh Create experiment UUID\" section. \n",
    "* Add more descriptions\n"
   ]
  },
  {
   "cell_type": "markdown",
   "id": "b2ad2dcc",
   "metadata": {},
   "source": [
    "**References**\n",
    "* [Widgets layout documentaton](https://ipywidgets.readthedocs.io/en/latest/examples/Widget%20Styling.html)"
   ]
  },
  {
   "cell_type": "markdown",
   "id": "08d1cb3f",
   "metadata": {
    "heading_collapsed": true
   },
   "source": [
    "# <font color=\"gray\">Set Up Notebook"
   ]
  },
  {
   "cell_type": "markdown",
   "id": "ce2618ba",
   "metadata": {
    "hidden": true
   },
   "source": [
    "## Import stuff"
   ]
  },
  {
   "cell_type": "code",
   "execution_count": 131,
   "id": "after-sunrise",
   "metadata": {
    "hidden": true
   },
   "outputs": [],
   "source": [
    "import numpy as np\n",
    "import matplotlib.pyplot as plt\n",
    "\n",
    "\n",
    "from ipywidgets import interact, interactive, fixed, interact_manual\n",
    "import ipywidgets as widgets\n",
    "from IPython.display import display\n",
    "from IPython.display import clear_output\n",
    "\n",
    "import sys\n",
    "import os \n",
    "import glob\n",
    "import re\n",
    "import json\n",
    "import random\n",
    "\n",
    "#import braingeneers\n",
    "#from braingeneers import datasets_electrophysiology as ephys\n",
    "#from braingeneers import analysis"
   ]
  },
  {
   "cell_type": "markdown",
   "id": "710ab0b0",
   "metadata": {
    "hidden": true
   },
   "source": [
    "## Create class expUploader"
   ]
  },
  {
   "cell_type": "code",
   "execution_count": 132,
   "id": "abba1c3e",
   "metadata": {
    "hidden": true
   },
   "outputs": [],
   "source": [
    "#create an empty object instead of formal class\n",
    "expUploader = type('', (object,), {})()"
   ]
  },
  {
   "cell_type": "markdown",
   "id": "medium-hours",
   "metadata": {},
   "source": [
    "# <font color=\"magenta\">Create experiment UUID"
   ]
  },
  {
   "cell_type": "markdown",
   "id": "f83dd2e4",
   "metadata": {},
   "source": [
    "You will create a <font color=\"orchid\">widget box</font> where the user inputs information like `experiment name`, `date`, and `experiment type`. Then when the user clicks `create`, it will output the correct UUID "
   ]
  },
  {
   "cell_type": "markdown",
   "id": "be826a22",
   "metadata": {},
   "source": [
    "\n",
    "Example: 2019-08-09-e-gmpopova"
   ]
  },
  {
   "cell_type": "markdown",
   "id": "eba98e11",
   "metadata": {
    "heading_collapsed": true
   },
   "source": [
    "## Widget Scratch Paper <font color=\"red\">Rename and Clean"
   ]
  },
  {
   "cell_type": "code",
   "execution_count": 133,
   "id": "40bd3782",
   "metadata": {
    "hidden": true
   },
   "outputs": [],
   "source": [
    "#Goal:\n",
    "#take user input data - experiment name, date, and experiment type\n",
    "#create a dropdown for the experiment type (ask Jess which kind of experiments she expects to upload) \n",
    "#concatinte user data into UUID format\n",
    "#'Create UUID' button generates the UUID in the desired format "
   ]
  },
  {
   "cell_type": "code",
   "execution_count": 134,
   "id": "aba117b2",
   "metadata": {
    "hidden": true
   },
   "outputs": [],
   "source": [
    "#UUID format \n",
    "#YYYY-MM-DD-ET-ESH\n",
    "#ET = experiment type\n",
    "#ESH = experiment shorthand "
   ]
  },
  {
   "cell_type": "code",
   "execution_count": 135,
   "id": "8c97777c",
   "metadata": {
    "hidden": true
   },
   "outputs": [],
   "source": [
    "#widget box practice from jupyter Widgets tutorial  \n",
    "\n",
    "import ipywidgets as ipw\n",
    "\n",
    "import ipywidgets as widgets \n",
    "\n",
    "from ipywidgets import interact, interactive, fixed, interact_manual\n",
    "\n",
    "from IPython.core.display import HTML, display, Javascript, clear_output"
   ]
  },
  {
   "cell_type": "code",
   "execution_count": 136,
   "id": "b064b043",
   "metadata": {
    "hidden": true
   },
   "outputs": [],
   "source": [
    "#widgets practice \n",
    "#ipw.IntSlider()"
   ]
  },
  {
   "cell_type": "code",
   "execution_count": 137,
   "id": "aeb1f370",
   "metadata": {
    "hidden": true
   },
   "outputs": [
    {
     "data": {
      "application/vnd.jupyter.widget-view+json": {
       "model_id": "63d80f0ed8304cc1b4242475e170f05a",
       "version_major": 2,
       "version_minor": 0
      },
      "text/plain": [
       "Text(value='')"
      ]
     },
     "metadata": {},
     "output_type": "display_data"
    }
   ],
   "source": [
    "exp_name = ipw.Text()\n",
    "exp_name"
   ]
  },
  {
   "cell_type": "code",
   "execution_count": 138,
   "id": "f7786871",
   "metadata": {
    "hidden": true
   },
   "outputs": [],
   "source": [
    "#Experiment name \n",
    "#program requests user input \n",
    "#user inputs experiment name \n",
    "exp_name = ipw.Text(\n",
    "    #value = input ('Experiment Name: '), #program waiting for the user to input data before moving on  \n",
    "    placeholder = 'Enter experiment name',\n",
    "    description = 'Name: ',\n",
    "    disabled = False,\n",
    ")"
   ]
  },
  {
   "cell_type": "code",
   "execution_count": 139,
   "id": "1836590f",
   "metadata": {
    "hidden": true
   },
   "outputs": [
    {
     "data": {
      "application/vnd.jupyter.widget-view+json": {
       "model_id": "1f4facfe343d4aff975de2854cdcf9a5",
       "version_major": 2,
       "version_minor": 0
      },
      "text/plain": [
       "Text(value='', description='Name: ', placeholder='Enter experiment name')"
      ]
     },
     "metadata": {},
     "output_type": "display_data"
    }
   ],
   "source": [
    "exp_name "
   ]
  },
  {
   "cell_type": "code",
   "execution_count": 140,
   "id": "0db48cf6",
   "metadata": {
    "hidden": true
   },
   "outputs": [],
   "source": [
    "#Experiment type\n",
    "#program displays options in a dropdown\n",
    "exp_type = ipw.Dropdown(\n",
    "    options = ['Calcium (c)', 'Ephys (e)', 'Fluidics (f)', 'Imaging (i)', 'MEA (m)', 'Patch Clamp (p)'],\n",
    "    #value = string, ???  \n",
    "    description = 'Type:',\n",
    "    disabled = False, \n",
    ")                      "
   ]
  },
  {
   "cell_type": "code",
   "execution_count": 141,
   "id": "931d0ef6",
   "metadata": {
    "hidden": true
   },
   "outputs": [
    {
     "data": {
      "application/vnd.jupyter.widget-view+json": {
       "model_id": "43527e2da8ab4fd5bfe6b113c71c58c5",
       "version_major": 2,
       "version_minor": 0
      },
      "text/plain": [
       "Dropdown(description='Type:', options=('Calcium (c)', 'Ephys (e)', 'Fluidics (f)', 'Imaging (i)', 'MEA (m)', '…"
      ]
     },
     "metadata": {},
     "output_type": "display_data"
    }
   ],
   "source": [
    "exp_type"
   ]
  },
  {
   "cell_type": "code",
   "execution_count": 142,
   "id": "0b685f86",
   "metadata": {
    "hidden": true
   },
   "outputs": [
    {
     "data": {
      "application/vnd.jupyter.widget-view+json": {
       "model_id": "43527e2da8ab4fd5bfe6b113c71c58c5",
       "version_major": 2,
       "version_minor": 0
      },
      "text/plain": [
       "Dropdown(description='Type:', options=('Calcium (c)', 'Ephys (e)', 'Fluidics (f)', 'Imaging (i)', 'MEA (m)', '…"
      ]
     },
     "metadata": {},
     "output_type": "display_data"
    }
   ],
   "source": [
    "#'experiment type' button function '\n",
    "exp_type"
   ]
  },
  {
   "cell_type": "code",
   "execution_count": 143,
   "id": "06ba2655",
   "metadata": {
    "hidden": true
   },
   "outputs": [],
   "source": [
    "#electrode options\n",
    "e_type = ipw.Dropdown(\n",
    "    options = [('MEA', 'm'), ('Axion', 'a'), ('SeaMoss', 's'), ('Roberts', 'r')],  \n",
    "    description = 'Type:',\n",
    "    disabled = False, \n",
    ")"
   ]
  },
  {
   "cell_type": "code",
   "execution_count": 144,
   "id": "65c804d4",
   "metadata": {
    "hidden": true
   },
   "outputs": [
    {
     "data": {
      "application/vnd.jupyter.widget-view+json": {
       "model_id": "127776ccb8a6494989c2393f64300a35",
       "version_major": 2,
       "version_minor": 0
      },
      "text/plain": [
       "Dropdown(description='Type:', options=(('MEA', 'm'), ('Axion', 'a'), ('SeaMoss', 's'), ('Roberts', 'r')), valu…"
      ]
     },
     "metadata": {},
     "output_type": "display_data"
    }
   ],
   "source": [
    "e_type"
   ]
  },
  {
   "cell_type": "code",
   "execution_count": 145,
   "id": "192e298d",
   "metadata": {
    "hidden": true
   },
   "outputs": [],
   "source": [
    "#imaging indicator options\n",
    "#place holders for now, need to ask jess about which indicators she prefers\n",
    "im_type = ipw.Dropdown(\n",
    "    options = ['ca2+', 'eGFP', 'k+'],  \n",
    "    description = 'Type:',\n",
    "    disabled = False, \n",
    ")"
   ]
  },
  {
   "cell_type": "code",
   "execution_count": 146,
   "id": "8b5f2b52",
   "metadata": {
    "hidden": true
   },
   "outputs": [
    {
     "data": {
      "application/vnd.jupyter.widget-view+json": {
       "model_id": "c931b34758e64ff8b34c9da9bc5e9915",
       "version_major": 2,
       "version_minor": 0
      },
      "text/plain": [
       "Dropdown(description='Type:', options=('ca2+', 'eGFP', 'k+'), value='ca2+')"
      ]
     },
     "metadata": {},
     "output_type": "display_data"
    }
   ],
   "source": [
    "im_type"
   ]
  },
  {
   "cell_type": "code",
   "execution_count": 147,
   "id": "d7bba7e5",
   "metadata": {
    "hidden": true
   },
   "outputs": [],
   "source": [
    "#cell clamping \n",
    "c_type = ipw.Dropdown(\n",
    "    options = ['Patch clamp', 'whole cell', 'micromanipulator'],  \n",
    "    description = 'Clamp type:',\n",
    "    disabled = False, \n",
    ")"
   ]
  },
  {
   "cell_type": "code",
   "execution_count": 148,
   "id": "c83ba6d6",
   "metadata": {
    "hidden": true
   },
   "outputs": [
    {
     "data": {
      "application/vnd.jupyter.widget-view+json": {
       "model_id": "f7e5f8b0ed3840f6a71103436e091464",
       "version_major": 2,
       "version_minor": 0
      },
      "text/plain": [
       "Dropdown(description='Clamp type:', options=('Patch clamp', 'whole cell', 'micromanipulator'), value='Patch cl…"
      ]
     },
     "metadata": {},
     "output_type": "display_data"
    }
   ],
   "source": [
    "c_type"
   ]
  },
  {
   "cell_type": "code",
   "execution_count": 149,
   "id": "5ca06ceb",
   "metadata": {
    "hidden": true
   },
   "outputs": [],
   "source": [
    "#if user selects MEA, another dropdown would state options (roger's, seamoss, or axion)\n",
    "#dropdown in a dropdown\n",
    "#maybe use a loop? for loop?\n",
    "#MEA and the type next to it (in dropdown)"
   ]
  },
  {
   "cell_type": "code",
   "execution_count": 150,
   "id": "d0b98b23",
   "metadata": {
    "hidden": true
   },
   "outputs": [],
   "source": [
    "#if user selects imaging or Ca2+ imaging, another dropdown states indicator options "
   ]
  },
  {
   "cell_type": "code",
   "execution_count": 151,
   "id": "a6b7823b",
   "metadata": {
    "code_folding": [],
    "hidden": true
   },
   "outputs": [],
   "source": [
    "#Go button\n",
    "#from widgets page\n",
    "go_button = widgets.Button(\n",
    "    description = 'Create UUID',\n",
    "    disabled = False, \n",
    "    button_style = '', #UUID format YYYY-MM-DD-experiment type-experiment shorthand\n",
    "    tooltip = 'Create UUID', #message that appears when user hovers over button \n",
    "    icon = '',\n",
    ")"
   ]
  },
  {
   "cell_type": "code",
   "execution_count": 152,
   "id": "7c1e1559",
   "metadata": {
    "hidden": true
   },
   "outputs": [],
   "source": [
    "#widgets.Button "
   ]
  },
  {
   "cell_type": "code",
   "execution_count": 153,
   "id": "394741ed",
   "metadata": {
    "hidden": true
   },
   "outputs": [
    {
     "data": {
      "application/vnd.jupyter.widget-view+json": {
       "model_id": "ea338c0f405947aa9583dfdf31589677",
       "version_major": 2,
       "version_minor": 0
      },
      "text/plain": [
       "Button(description='Create UUID', style=ButtonStyle(), tooltip='Create UUID')"
      ]
     },
     "metadata": {},
     "output_type": "display_data"
    }
   ],
   "source": [
    "go_button "
   ]
  },
  {
   "cell_type": "code",
   "execution_count": 154,
   "id": "11957432",
   "metadata": {
    "hidden": true
   },
   "outputs": [],
   "source": [
    "#assigning function to Go button\n",
    "#btn = ipw.Button(description = \"Say Hello\")\n",
    "#btn"
   ]
  },
  {
   "cell_type": "markdown",
   "id": "e76d569c",
   "metadata": {
    "hidden": true
   },
   "source": [
    "#### Get JSON"
   ]
  },
  {
   "cell_type": "code",
   "execution_count": 155,
   "id": "9ca160cd",
   "metadata": {
    "hidden": true
   },
   "outputs": [
    {
     "data": {
      "application/vnd.jupyter.widget-view+json": {
       "model_id": "4a82c7594c674637800564cdd1c81a34",
       "version_major": 2,
       "version_minor": 0
      },
      "text/plain": [
       "Button(description='Create UUID', style=ButtonStyle())"
      ]
     },
     "metadata": {},
     "output_type": "display_data"
    }
   ],
   "source": [
    "#is the above code necessary if i have this code for a button\n",
    "#same thing as above \n",
    "btn = ipw.Button(description = \"Create UUID\")\n",
    "btn "
   ]
  },
  {
   "cell_type": "code",
   "execution_count": 157,
   "id": "50df98eb",
   "metadata": {
    "hidden": true
   },
   "outputs": [],
   "source": [
    "#btn.value"
   ]
  },
  {
   "cell_type": "code",
   "execution_count": 158,
   "id": "bfdb2545",
   "metadata": {
    "hidden": true
   },
   "outputs": [],
   "source": [
    "#getUUID function "
   ]
  },
  {
   "cell_type": "code",
   "execution_count": 159,
   "id": "f7deb4eb",
   "metadata": {
    "hidden": true
   },
   "outputs": [],
   "source": [
    "def testFunction (b): #b is btn aka button\n",
    "    b.value = \"hello\" #add a value to the btn, \"hello\" "
   ]
  },
  {
   "cell_type": "code",
   "execution_count": 160,
   "id": "9e769fb6",
   "metadata": {
    "hidden": true
   },
   "outputs": [],
   "source": [
    "btn.on_click(testFunction)"
   ]
  },
  {
   "cell_type": "code",
   "execution_count": 161,
   "id": "45408806",
   "metadata": {
    "hidden": true
   },
   "outputs": [],
   "source": [
    "#when running, include print string \"this is your UUID\" "
   ]
  },
  {
   "cell_type": "code",
   "execution_count": 162,
   "id": "43afc467",
   "metadata": {
    "hidden": true
   },
   "outputs": [],
   "source": [
    "#fancy button\n",
    "#widgets.Button( \n",
    "    #icon = \"battery-quarter\", \n",
    "    #button_style = \"danger\", \n",
    "    #layout= Layout(width = 'auto'),\n",
    "#)"
   ]
  },
  {
   "cell_type": "markdown",
   "id": "3d26b432",
   "metadata": {
    "heading_collapsed": true
   },
   "source": [
    "## <font color=\"green\">Experiment name widget</font>"
   ]
  },
  {
   "cell_type": "markdown",
   "id": "82cf2dd1",
   "metadata": {
    "hidden": true
   },
   "source": [
    "Create a text box where use inputs the experiment name"
   ]
  },
  {
   "cell_type": "code",
   "execution_count": 163,
   "id": "00cdd9e3",
   "metadata": {
    "hidden": true
   },
   "outputs": [],
   "source": [
    "#Experiment name \n",
    "#program requests user input \n",
    "#user inputs experiment name \n",
    "exp_name = ipw.Text(\n",
    "    #value = input ('Experiment Name: '), #program waiting for the user to input data before moving on  \n",
    "    placeholder = 'Enter experiment name',\n",
    "    description = 'Name: ',\n",
    "    disabled = False,\n",
    ")"
   ]
  },
  {
   "cell_type": "code",
   "execution_count": 164,
   "id": "76e14316",
   "metadata": {
    "hidden": true
   },
   "outputs": [
    {
     "data": {
      "application/vnd.jupyter.widget-view+json": {
       "model_id": "a1caa3af660a43bb977b9ac803e8eaba",
       "version_major": 2,
       "version_minor": 0
      },
      "text/plain": [
       "Text(value='', description='Name: ', placeholder='Enter experiment name')"
      ]
     },
     "metadata": {},
     "output_type": "display_data"
    }
   ],
   "source": [
    "exp_name "
   ]
  },
  {
   "cell_type": "markdown",
   "id": "f18197a2",
   "metadata": {
    "heading_collapsed": true
   },
   "source": [
    "## <font color=\"green\">Date widget"
   ]
  },
  {
   "cell_type": "markdown",
   "id": "8f5428ba",
   "metadata": {
    "hidden": true
   },
   "source": [
    "use the [date picker widget](https://ipywidgets.readthedocs.io/en/latest/examples/Widget%20List.html#Date-picker) to create a tool where user selects the date. Figure out how to then extract the date information from the widget in string format so that it can be used later."
   ]
  },
  {
   "cell_type": "markdown",
   "id": "e29c69e2",
   "metadata": {
    "hidden": true
   },
   "source": [
    "First number sequence is date of experiment \n",
    "    \n",
    "    [year-month-day]\n"
   ]
  },
  {
   "cell_type": "code",
   "execution_count": 165,
   "id": "bebf513c",
   "metadata": {
    "hidden": true
   },
   "outputs": [],
   "source": [
    "#Experiment date\n",
    "#widget does not work on safari \n",
    "#user picks date of experiment \n",
    "exp_date = widgets.DatePicker(\n",
    "    description = 'Exp. Date:', #exp. equates experiment \n",
    "    disabled = False\n",
    ")"
   ]
  },
  {
   "cell_type": "code",
   "execution_count": 166,
   "id": "a0691230",
   "metadata": {
    "hidden": true
   },
   "outputs": [
    {
     "data": {
      "application/vnd.jupyter.widget-view+json": {
       "model_id": "8b3cc3d8d0c6406ca125c3ffffcbc023",
       "version_major": 2,
       "version_minor": 0
      },
      "text/plain": [
       "DatePicker(value=None, description='Exp. Date:')"
      ]
     },
     "metadata": {},
     "output_type": "display_data"
    }
   ],
   "source": [
    "exp_date "
   ]
  },
  {
   "cell_type": "markdown",
   "id": "5f66a40b",
   "metadata": {
    "hidden": true
   },
   "source": [
    "Code for debugging"
   ]
  },
  {
   "cell_type": "code",
   "execution_count": 167,
   "id": "60ec4d1d",
   "metadata": {
    "hidden": true
   },
   "outputs": [
    {
     "data": {
      "text/plain": [
       "'None'"
      ]
     },
     "execution_count": 167,
     "metadata": {},
     "output_type": "execute_result"
    }
   ],
   "source": [
    "#turn 'experiment date' into a string\n",
    "exp_date.value\n",
    "\n",
    "myDate = exp_date.value\n",
    "str(myDate)\n",
    "expUploader.dateUUID = str(myDate)\n",
    "expUploader.dateUUID"
   ]
  },
  {
   "cell_type": "markdown",
   "id": "36b6ee12",
   "metadata": {},
   "source": [
    "## <font color=\"green\">Experiment type widget"
   ]
  },
  {
   "cell_type": "markdown",
   "id": "1d14a9a6",
   "metadata": {},
   "source": [
    "Use a dropdown widget where the user can select the experiment type"
   ]
  },
  {
   "cell_type": "markdown",
   "id": "a90ede24",
   "metadata": {},
   "source": [
    "Middle letter is type of experiment: \n",
    "        \n",
    "        ephys (e), fluidics (f), imaging (i), calcium (c), patch clamp (p)?"
   ]
  },
  {
   "cell_type": "code",
   "execution_count": 274,
   "id": "0a716b01",
   "metadata": {},
   "outputs": [],
   "source": [
    "#Experiment type\n",
    "#program displays options in a dropdown\n",
    "exp_type = ipw.Dropdown(\n",
    "    options = [('Calcium','c'), ('Ephys','e'), ('Fluidics','f'), ('Imaging','i'), ('MEA','m'), ('Patch Clamp','p')],\n",
    "    #value = string, ???  \n",
    "    description = 'Type:',\n",
    "    disabled = False, \n",
    ") "
   ]
  },
  {
   "cell_type": "code",
   "execution_count": 275,
   "id": "ef0ac94b",
   "metadata": {},
   "outputs": [
    {
     "data": {
      "application/vnd.jupyter.widget-view+json": {
       "model_id": "368b1b4df478446b89dc7febead36876",
       "version_major": 2,
       "version_minor": 0
      },
      "text/plain": [
       "Dropdown(description='Type:', options=(('Calcium', 'c'), ('Ephys', 'e'), ('Fluidics', 'f'), ('Imaging', 'i'), …"
      ]
     },
     "metadata": {},
     "output_type": "display_data"
    }
   ],
   "source": [
    "exp_type"
   ]
  },
  {
   "cell_type": "code",
   "execution_count": 276,
   "id": "ea283cf1",
   "metadata": {},
   "outputs": [],
   "source": [
    "#electrode options\n",
    "e_type = ipw.Dropdown(\n",
    "    options = [('MEA', 'm'), ('Axion', 'a'), ('SeaMoss', 's'), ('Roberts', 'r')],  \n",
    "    description = 'Type:',\n",
    "    disabled = False, \n",
    ")"
   ]
  },
  {
   "cell_type": "code",
   "execution_count": 277,
   "id": "15694ca5",
   "metadata": {},
   "outputs": [
    {
     "data": {
      "application/vnd.jupyter.widget-view+json": {
       "model_id": "0f4d7ebf46464e26a4788dadc3f6767d",
       "version_major": 2,
       "version_minor": 0
      },
      "text/plain": [
       "Dropdown(description='Type:', options=(('MEA', 'm'), ('Axion', 'a'), ('SeaMoss', 's'), ('Roberts', 'r')), valu…"
      ]
     },
     "metadata": {},
     "output_type": "display_data"
    }
   ],
   "source": [
    "e_type"
   ]
  },
  {
   "cell_type": "markdown",
   "id": "dd4d6a39",
   "metadata": {},
   "source": [
    "### Imaging indicator options"
   ]
  },
  {
   "cell_type": "code",
   "execution_count": 278,
   "id": "83c6b80c",
   "metadata": {},
   "outputs": [],
   "source": [
    "#imaging indicator options\n",
    "#place holders for now, need to ask jess about which indicators she prefers\n",
    "#add markdown headings for each widgets \n",
    "im_type = ipw.Dropdown(\n",
    "    options = ['ca2+', 'eGFP', 'k+'],  \n",
    "    description = 'Type:',\n",
    "    disabled = False, \n",
    ")"
   ]
  },
  {
   "cell_type": "code",
   "execution_count": 173,
   "id": "1282b6cf",
   "metadata": {},
   "outputs": [
    {
     "data": {
      "application/vnd.jupyter.widget-view+json": {
       "model_id": "fef5539cfad24e21992eea7d579b6eed",
       "version_major": 2,
       "version_minor": 0
      },
      "text/plain": [
       "Dropdown(description='Type:', options=('ca2+', 'eGFP', 'k+'), value='ca2+')"
      ]
     },
     "metadata": {},
     "output_type": "display_data"
    }
   ],
   "source": [
    "im_type"
   ]
  },
  {
   "cell_type": "code",
   "execution_count": 174,
   "id": "90c952b5",
   "metadata": {},
   "outputs": [],
   "source": [
    "#cell clamping \n",
    "c_type = ipw.Dropdown(\n",
    "    options = ['Patch clamp', 'whole cell', 'micromanipulator'],  \n",
    "    description = 'Clamp type:',\n",
    "    disabled = False, \n",
    ")"
   ]
  },
  {
   "cell_type": "code",
   "execution_count": 175,
   "id": "f7b0e3ac",
   "metadata": {},
   "outputs": [
    {
     "data": {
      "application/vnd.jupyter.widget-view+json": {
       "model_id": "c48c2277620c4e8cafb494e1480f52a6",
       "version_major": 2,
       "version_minor": 0
      },
      "text/plain": [
       "Dropdown(description='Clamp type:', options=('Patch clamp', 'whole cell', 'micromanipulator'), value='Patch cl…"
      ]
     },
     "metadata": {},
     "output_type": "display_data"
    }
   ],
   "source": [
    "c_type"
   ]
  },
  {
   "cell_type": "markdown",
   "id": "701a578a",
   "metadata": {
    "heading_collapsed": true
   },
   "source": [
    "## <font color=\"green\">'Create UUID' button"
   ]
  },
  {
   "cell_type": "markdown",
   "id": "85a48d29",
   "metadata": {
    "hidden": true
   },
   "source": [
    "Create a button that when clicked runs a function that creates the correctly formatted UUID and prints it."
   ]
  },
  {
   "cell_type": "code",
   "execution_count": 176,
   "id": "c568103f",
   "metadata": {
    "hidden": true
   },
   "outputs": [],
   "source": [
    "#UUID button\n",
    "#from widgets page\n",
    "#rename button\n",
    "uuid_button = widgets.Button(\n",
    "    description = 'Create UUID',\n",
    "    disabled = False, \n",
    "    button_style = '', #UUID format YYYY-MM-DD-experiment type-experiment shorthand\n",
    "    tooltip = 'UUID format: YYYY-MM-DD- experiment type - experiment shorthand', #message that appears when user hovers over button \n",
    "    icon = '',\n",
    ")"
   ]
  },
  {
   "cell_type": "code",
   "execution_count": 177,
   "id": "b894ebc1",
   "metadata": {
    "hidden": true
   },
   "outputs": [
    {
     "data": {
      "application/vnd.jupyter.widget-view+json": {
       "model_id": "16ea23895cfe426684061d3b08b32aed",
       "version_major": 2,
       "version_minor": 0
      },
      "text/plain": [
       "Button(description='Create UUID', style=ButtonStyle(), tooltip='UUID format: YYYY-MM-DD- experiment type - exp…"
      ]
     },
     "metadata": {},
     "output_type": "display_data"
    }
   ],
   "source": [
    "uuid_button"
   ]
  },
  {
   "cell_type": "markdown",
   "id": "written-arrest",
   "metadata": {
    "heading_collapsed": true
   },
   "source": [
    "## <font color=\"blue\"> getUUID function"
   ]
  },
  {
   "cell_type": "markdown",
   "id": "f3d25f02",
   "metadata": {
    "hidden": true
   },
   "source": [
    "Create a function called <font color=\"blue\"> getUUID function</font> which will run when the <font color=\"green\">Go Button widget</font> is clicked. This function will extract the necessary information from the widgets that were created and then format to save the resulting output into a variable called `UUID`"
   ]
  },
  {
   "cell_type": "code",
   "execution_count": 178,
   "id": "a5f4b03f",
   "metadata": {
    "hidden": true
   },
   "outputs": [],
   "source": [
    "#assign value and save \n",
    "#every time you add function refresh the button in the cells above \n",
    "#would it be better to include the paramteres in the expUploader class instead?\n",
    "import ipywidgets as ipw\n",
    "\n",
    "import ipywidgets as widgets \n",
    "\n",
    "from ipywidgets import interact, interactive, fixed, interact_manual\n",
    "\n",
    "from IPython.core.display import HTML, display, Javascript, clear_output\n",
    "\n",
    "def makeUUID(b):\n",
    "    expUploader.date = str(exp_date.value) #accessing widget value\n",
    "    expUploader.type = str(exp_type.value)\n",
    "    expUploader.name = exp_name.value\n",
    "    #print('UUID: {}'.format(expUploader.date),'{}'.format(expUploader.type),'{}'.format(expUploader.name))\n",
    "    expUploader.uuid = expUploader.date +\"-\"+expUploader.type+\"-\"+expUploader.name\n",
    "    print(\"UUID: {}\".format(expUploader.uuid))\n",
    "    #take everything from widgets to grab the widget values to produce UUID in correct format, then save and print for user\n",
    "    \n",
    "uuid_button.on_click(makeUUID)"
   ]
  },
  {
   "cell_type": "markdown",
   "id": "0e514828",
   "metadata": {
    "hidden": true
   },
   "source": [
    "### <font color='red'>To Do"
   ]
  },
  {
   "cell_type": "markdown",
   "id": "c9761103",
   "metadata": {
    "hidden": true
   },
   "source": [
    "want experiment uploader uuid to have a variable called UUID which is the actual uuid name to use for file upload: `expUploader.UUID`"
   ]
  },
  {
   "cell_type": "markdown",
   "id": "7da73e6d",
   "metadata": {
    "hidden": true
   },
   "source": [
    "figure out how to concatinate variables for this"
   ]
  },
  {
   "cell_type": "markdown",
   "id": "4ad09cf1",
   "metadata": {},
   "source": [
    "## <font color=\"orchid\"> Create UUID Box"
   ]
  },
  {
   "cell_type": "markdown",
   "id": "d4baf3d7",
   "metadata": {},
   "source": [
    "Collect all of the <font color=\"green\">widgets</font> that you created in this section and put them into a single <font color=\"orchid\">widget box</font>. Make sure that all the widgets look nicely formatted."
   ]
  },
  {
   "cell_type": "code",
   "execution_count": 179,
   "id": "9c8581d1",
   "metadata": {},
   "outputs": [],
   "source": [
    "#UUID format \n",
    "#YYYY-MM-DD-ET-ESH\n",
    "#ET = experiment type\n",
    "#ESH = experiment shorthand "
   ]
  },
  {
   "cell_type": "markdown",
   "id": "7da6f034",
   "metadata": {},
   "source": [
    "format `uuid_button` widget"
   ]
  },
  {
   "cell_type": "code",
   "execution_count": 180,
   "id": "ac6523cf",
   "metadata": {},
   "outputs": [],
   "source": [
    "#Hbox arranages multiple widgets horizontally \n",
    "uuid_button_box = ipw.HBox([uuid_button]) #arrange uuid_button horizontally in a \"box\" \n",
    "uuid_button_box.layout.justify_content = \"center\" #center the \"box\""
   ]
  },
  {
   "cell_type": "code",
   "execution_count": 181,
   "id": "b2f16407",
   "metadata": {},
   "outputs": [
    {
     "data": {
      "application/vnd.jupyter.widget-view+json": {
       "model_id": "1e66a09384e641d59c95eb5c99f8c93e",
       "version_major": 2,
       "version_minor": 0
      },
      "text/plain": [
       "HTML(value=\"<h3 class = 'text-center'><font color='orchid'>createUUID</font>\")"
      ]
     },
     "metadata": {},
     "output_type": "display_data"
    }
   ],
   "source": [
    "#UUID button user description \n",
    "uuid_title= ipw.HTML(\"<h3 class = 'text-center'><font color='orchid'>createUUID</font>\") #create title for the uuid button box\n",
    "uuid_title"
   ]
  },
  {
   "cell_type": "code",
   "execution_count": 182,
   "id": "a64628f2",
   "metadata": {
    "slideshow": {
     "slide_type": "slide"
    }
   },
   "outputs": [
    {
     "data": {
      "application/vnd.jupyter.widget-view+json": {
       "model_id": "3c05ecbf3e354e3a90f45de749255ec1",
       "version_major": 2,
       "version_minor": 0
      },
      "text/plain": [
       "HBox(children=(DatePicker(value=None, description='Exp. Date:'), Dropdown(description='Type:', options=(('Calc…"
      ]
     },
     "metadata": {},
     "output_type": "display_data"
    }
   ],
   "source": [
    "#use HBOX to put widgets in a row \n",
    "uuid_row = ipw.HBox([exp_date, exp_type, exp_name]) #\n",
    "uuid_row"
   ]
  },
  {
   "cell_type": "code",
   "execution_count": null,
   "id": "a3aa2991",
   "metadata": {},
   "outputs": [],
   "source": []
  },
  {
   "cell_type": "code",
   "execution_count": null,
   "id": "71777e10",
   "metadata": {},
   "outputs": [],
   "source": []
  },
  {
   "cell_type": "code",
   "execution_count": null,
   "id": "28b5ae29",
   "metadata": {},
   "outputs": [],
   "source": []
  },
  {
   "cell_type": "code",
   "execution_count": 183,
   "id": "a8a69c02",
   "metadata": {},
   "outputs": [
    {
     "data": {
      "application/vnd.jupyter.widget-view+json": {
       "model_id": "705b500bd14640199f4257d4e0d58b4c",
       "version_major": 2,
       "version_minor": 0
      },
      "text/plain": [
       "Box(children=(Button(button_style='danger', description='correct', layout=Layout(width='auto'), style=ButtonSt…"
      ]
     },
     "metadata": {},
     "output_type": "display_data"
    }
   ],
   "source": [
    "#vbox example\n",
    "from ipywidgets import Layout, Button, Box\n",
    "\n",
    "items_layout = Layout( width='auto')     # override the default width of the button to 'auto' to let the button grow\n",
    "\n",
    "box_layout = Layout(display='flex',\n",
    "                    flex_flow='column',\n",
    "                    align_items='stretch',\n",
    "                    border='solid',\n",
    "                    width='50%')\n",
    "\n",
    "words = ['correct', 'horse', 'battery', 'staple']\n",
    "items = [Button(description=word, layout=items_layout, button_style='danger') for word in words]\n",
    "box = Box(children=items, layout=box_layout)\n",
    "box"
   ]
  },
  {
   "cell_type": "code",
   "execution_count": null,
   "id": "51763e51",
   "metadata": {},
   "outputs": [],
   "source": []
  },
  {
   "cell_type": "code",
   "execution_count": null,
   "id": "92380354",
   "metadata": {},
   "outputs": [],
   "source": []
  },
  {
   "cell_type": "code",
   "execution_count": 184,
   "id": "b08c4888",
   "metadata": {},
   "outputs": [
    {
     "data": {
      "application/vnd.jupyter.widget-view+json": {
       "model_id": "9fd77a1a6a2240c7bcfc7d44703bbe5a",
       "version_major": 2,
       "version_minor": 0
      },
      "text/plain": [
       "VBox(children=(Box(children=(Button(button_style='danger', description='weight=1; auto', layout=Layout(flex='1…"
      ]
     },
     "metadata": {},
     "output_type": "display_data"
    }
   ],
   "source": [
    "#hbox example\n",
    "from ipywidgets import Layout, Button, Box, VBox\n",
    "\n",
    "# Items flex proportionally to the weight and the left over space around the text\n",
    "items_auto = [\n",
    "    Button(description='weight=1; auto', layout=Layout(flex='1 1 auto', width='auto'), button_style='danger'),\n",
    "    Button(description='weight=3; auto', layout=Layout(flex='3 1 auto', width='auto'), button_style='danger'),\n",
    "    Button(description='weight=1; auto', layout=Layout(flex='1 1 auto', width='auto'), button_style='danger'),\n",
    " ]\n",
    "\n",
    "# Items flex proportionally to the weight\n",
    "items_0 = [\n",
    "    Button(description='weight=1; 0%', layout=Layout(flex='1 1 0%', width='auto'), button_style='danger'),\n",
    "    Button(description='weight=3; 0%', layout=Layout(flex='3 1 0%', width='auto'), button_style='danger'),\n",
    "    Button(description='weight=1; 0%', layout=Layout(flex='1 1 0%', width='auto'), button_style='danger'),\n",
    " ]\n",
    "box_layout = Layout(display='flex',\n",
    "                    flex_flow='row',\n",
    "                    align_items='stretch',\n",
    "                    width='70%')\n",
    "box_auto = Box(children=items_auto, layout=box_layout)\n",
    "box_0 = Box(children=items_0, layout=box_layout)\n",
    "VBox([box_auto, box_0])"
   ]
  },
  {
   "cell_type": "code",
   "execution_count": null,
   "id": "f8c0084d",
   "metadata": {},
   "outputs": [],
   "source": []
  },
  {
   "cell_type": "code",
   "execution_count": null,
   "id": "e2ffcc59",
   "metadata": {},
   "outputs": [],
   "source": []
  },
  {
   "cell_type": "code",
   "execution_count": null,
   "id": "fc8bcd2c",
   "metadata": {},
   "outputs": [],
   "source": []
  },
  {
   "cell_type": "code",
   "execution_count": 265,
   "id": "e6f499db",
   "metadata": {
    "cell_style": "split"
   },
   "outputs": [
    {
     "data": {
      "application/vnd.jupyter.widget-view+json": {
       "model_id": "faadeb5b827f4513a1e1867e3474ac6a",
       "version_major": 2,
       "version_minor": 0
      },
      "text/plain": [
       "VBox(children=(HTML(value=\"<h3 class = 'text-large'><font color='orchid'>createUUID</font>\"), HBox(children=(D…"
      ]
     },
     "metadata": {},
     "output_type": "display_data"
    }
   ],
   "source": [
    "#uuid button box\n",
    "uuid = ipw.VBox([uuid_title, uuid_row, uuid_button_box])\n",
    "uuid.layout.align_items = 'flex-start'\n",
    "uuid"
   ]
  },
  {
   "cell_type": "code",
   "execution_count": null,
   "id": "6aa910ab",
   "metadata": {},
   "outputs": [],
   "source": []
  },
  {
   "cell_type": "code",
   "execution_count": 266,
   "id": "e9baf460",
   "metadata": {},
   "outputs": [
    {
     "data": {
      "application/vnd.jupyter.widget-view+json": {
       "model_id": "cbbb89544b094fec8d2b79507dd04a2f",
       "version_major": 2,
       "version_minor": 0
      },
      "text/plain": [
       "VBox(children=(HTML(value=\"<h3 class = 'text-large'><font color='orchid'>createUUID</font>\"), HBox(children=(D…"
      ]
     },
     "metadata": {},
     "output_type": "display_data"
    },
    {
     "name": "stdout",
     "output_type": "stream",
     "text": [
      "UUID: 2021-04-09-e-claudia-test\n"
     ]
    }
   ],
   "source": [
    "from ipywidgets import Layout, Button, Box, HBox, VBox\n",
    "\n",
    "\n",
    "uuid_button_box = ipw.HBox([uuid_button]) #arrange uuid_button horizontally in a \"box\" \n",
    "#uuid_button_box.layout.justify_content = 'center' #center the \"box\" title\n",
    "uuid_title= ipw.HTML(\"<h3 class = 'text-large'><font color='orchid'>createUUID</font>\") #create title for the uuid button box\n",
    "uuid_row = ipw.HBox([exp_date, exp_type, exp_name]) #arrange experimental widgets horizontally\n",
    "#uuid_row.layout.justify_content = 'center'\n",
    "uuid = ipw.VBox([uuid_title, uuid_row, uuid_button_box]) #arrange the uuid button box, uuid row, and uuid title vertically\n",
    "uuid_layout = Layout()\n",
    "uuid\n",
    "\n",
    "#figure out layout sizes\n"
   ]
  },
  {
   "cell_type": "code",
   "execution_count": 187,
   "id": "1d550999",
   "metadata": {},
   "outputs": [
    {
     "data": {
      "text/plain": [
       "'2021-08-19-i-ASDF'"
      ]
     },
     "execution_count": 187,
     "metadata": {},
     "output_type": "execute_result"
    }
   ],
   "source": []
  },
  {
   "cell_type": "code",
   "execution_count": null,
   "id": "bcb3b92c",
   "metadata": {},
   "outputs": [],
   "source": []
  },
  {
   "cell_type": "markdown",
   "id": "7d759e1b",
   "metadata": {},
   "source": [
    "## <font color=\"brown\">elliott stuff"
   ]
  },
  {
   "cell_type": "markdown",
   "id": "cd9b6846",
   "metadata": {},
   "source": [
    "<font color=\"red\">claudia finish up this code. Clean it. And the use it to build ur the actual upload box"
   ]
  },
  {
   "cell_type": "markdown",
   "id": "1a4610da",
   "metadata": {},
   "source": [
    "We have the name for our folder that we want to upload here. HTis is what was created earlier"
   ]
  },
  {
   "cell_type": "code",
   "execution_count": 228,
   "id": "62758a44",
   "metadata": {},
   "outputs": [
    {
     "data": {
      "text/plain": [
       "'2021-04-09-e-claudia-test'"
      ]
     },
     "execution_count": 228,
     "metadata": {},
     "output_type": "execute_result"
    }
   ],
   "source": [
    "expUploader.uuid #uuid saved in expuploader object once generated"
   ]
  },
  {
   "cell_type": "markdown",
   "id": "b1cfe48c",
   "metadata": {},
   "source": [
    "Select a file to upload"
   ]
  },
  {
   "cell_type": "code",
   "execution_count": 245,
   "id": "bebb6cc4",
   "metadata": {},
   "outputs": [],
   "source": [
    "my_folders = !ls -d */ #file uploaded to expUploader directory"
   ]
  },
  {
   "cell_type": "code",
   "execution_count": 257,
   "id": "e9349846",
   "metadata": {},
   "outputs": [
    {
     "name": "stdout",
     "output_type": "stream",
     "text": [
      "ls: cannot access 'expUploader': No such file or directory\r\n"
     ]
    }
   ],
   "source": [
    "!ls expUploader #exists on jupyter only before uploading to prp"
   ]
  },
  {
   "cell_type": "markdown",
   "id": "54b543fd",
   "metadata": {},
   "source": [
    "Use this drowpdown to select a folder"
   ]
  },
  {
   "cell_type": "code",
   "execution_count": 267,
   "id": "3325f55b",
   "metadata": {},
   "outputs": [
    {
     "data": {
      "application/vnd.jupyter.widget-view+json": {
       "model_id": "0e057ea73e064a44b1a927da11eacc9a",
       "version_major": 2,
       "version_minor": 0
      },
      "text/plain": [
       "Dropdown(options=('2021-04-09-e-claudia-test/', 'test/'), value='2021-04-09-e-claudia-test/')"
      ]
     },
     "metadata": {},
     "output_type": "display_data"
    }
   ],
   "source": [
    "#save jupytter file values as user_folder\n",
    "#display values in a dropdown menu\n",
    "user_folder = ipw.Dropdown(options=my_folders)\n",
    "user_folder"
   ]
  },
  {
   "cell_type": "markdown",
   "id": "5575b431",
   "metadata": {},
   "source": [
    "When the user cliks this button the folder is uploaded to the prp"
   ]
  },
  {
   "cell_type": "code",
   "execution_count": 268,
   "id": "ae2bb690",
   "metadata": {},
   "outputs": [
    {
     "data": {
      "text/plain": [
       "'test/'"
      ]
     },
     "execution_count": 268,
     "metadata": {},
     "output_type": "execute_result"
    }
   ],
   "source": [
    "user_folder.value #source for uploading jupyter data to the PRP"
   ]
  },
  {
   "cell_type": "code",
   "execution_count": 269,
   "id": "f7cb30e5",
   "metadata": {},
   "outputs": [
    {
     "name": "stdout",
     "output_type": "stream",
     "text": [
      "./test/\r\n"
     ]
    }
   ],
   "source": [
    "!echo ./{user_folder.value} "
   ]
  },
  {
   "cell_type": "code",
   "execution_count": 270,
   "id": "36726ee6",
   "metadata": {},
   "outputs": [
    {
     "name": "stdout",
     "output_type": "stream",
     "text": [
      "s3://braingeneers/ephys/2021-04-09-e-claudia-test\r\n"
     ]
    }
   ],
   "source": [
    "!echo s3://braingeneers/ephys/{expUploader.uuid} "
   ]
  },
  {
   "cell_type": "markdown",
   "id": "e32ba2bc",
   "metadata": {},
   "source": [
    "<font color=\"red\"> Claudia: create an `if` statement that allows looks at the type of data the user selects and then has the create folder on the prp for uploading\n",
    "    \n",
    "example\n",
    "`s3://braingeneers/{variable_with_correct_name}/{expUploader.uuid}`"
   ]
  },
  {
   "cell_type": "code",
   "execution_count": null,
   "id": "cc959b51",
   "metadata": {},
   "outputs": [],
   "source": []
  },
  {
   "cell_type": "code",
   "execution_count": null,
   "id": "feff5cc9",
   "metadata": {},
   "outputs": [],
   "source": [
    "#values for dictionary\n",
    "#seperate from the types widget?\n",
    "types_map = {'e':\"ephys\",'i':\"imaging\", 'f': \"fluidics\", 'c': \"calcium\", 'p': \"patchclamp\"}"
   ]
  },
  {
   "cell_type": "code",
   "execution_count": 237,
   "id": "0f624d45",
   "metadata": {},
   "outputs": [],
   "source": [
    "#create types dictionary \n",
    "prp_type_folder = types_map[ exp_type.value ] "
   ]
  },
  {
   "cell_type": "code",
   "execution_count": 238,
   "id": "ace9a005",
   "metadata": {},
   "outputs": [],
   "source": []
  },
  {
   "cell_type": "code",
   "execution_count": 239,
   "id": "35ae6fe1",
   "metadata": {},
   "outputs": [
    {
     "name": "stdout",
     "output_type": "stream",
     "text": [
      "s3://braingeneers/ephys/2021-04-09-e-claudia-test\r\n"
     ]
    }
   ],
   "source": [
    "!echo s3://braingeneers/{prp_type_folder}/{expUploader.uuid}"
   ]
  },
  {
   "cell_type": "code",
   "execution_count": null,
   "id": "8fa224a1",
   "metadata": {},
   "outputs": [],
   "source": []
  },
  {
   "cell_type": "markdown",
   "id": "641fc02a",
   "metadata": {},
   "source": [
    "## <font color=\"brown\">elliott stuff (September 1)"
   ]
  },
  {
   "cell_type": "markdown",
   "id": "e3373812",
   "metadata": {},
   "source": [
    "`exp_type` widget tells us what tupe of data is being saved. Thus, it tells us which folder we should saved the data to on the PRP, because each folder on the PRP corresponds to a specific data set."
   ]
  },
  {
   "cell_type": "markdown",
   "id": "82a1c5f6",
   "metadata": {},
   "source": [
    "We need look up the type of data that was selected in the `exp_type`  widget and use this knowledge to select the corresponding folder on the PRP"
   ]
  },
  {
   "cell_type": "code",
   "execution_count": 297,
   "id": "933da91a",
   "metadata": {},
   "outputs": [
    {
     "data": {
      "application/vnd.jupyter.widget-view+json": {
       "model_id": "368b1b4df478446b89dc7febead36876",
       "version_major": 2,
       "version_minor": 0
      },
      "text/plain": [
       "Dropdown(description='Type:', index=1, options=(('Calcium', 'c'), ('Ephys', 'e'), ('Fluidics', 'f'), ('Imaging…"
      ]
     },
     "metadata": {},
     "output_type": "display_data"
    }
   ],
   "source": [
    "exp_type"
   ]
  },
  {
   "cell_type": "markdown",
   "id": "f628aec5",
   "metadata": {},
   "source": [
    "below is a Dictionary that tell the user the name of the folder on the PRP where the type of data that the user has selected should go"
   ]
  },
  {
   "cell_type": "code",
   "execution_count": 298,
   "id": "6bc8efd5",
   "metadata": {},
   "outputs": [],
   "source": [
    "#values for dictionary\n",
    "#seperate from the types widget?\n",
    "types_to_prp = {'e':\"ephys\",'i':\"imaging\", 'f': \"fluidics\", 'c': \"calcium\", 'p': \"patchclamp\", 'r':\"raster\"} "
   ]
  },
  {
   "cell_type": "code",
   "execution_count": null,
   "id": "853c75c6",
   "metadata": {},
   "outputs": [],
   "source": []
  },
  {
   "cell_type": "markdown",
   "id": "f21bc2db",
   "metadata": {},
   "source": [
    "We use the dictionary `types_to_prp` to get the folder name corresponding tothe type of data selected by the user."
   ]
  },
  {
   "cell_type": "markdown",
   "id": "6357b386",
   "metadata": {},
   "source": [
    "<font color=\"orange\"> Colde below shows u the names of all the folder s on teh prp"
   ]
  },
  {
   "cell_type": "code",
   "execution_count": 303,
   "id": "9c96d511",
   "metadata": {},
   "outputs": [
    {
     "name": "stdout",
     "output_type": "stream",
     "text": [
      "                           PRE archive/\r\n",
      "                           PRE ephys/\r\n",
      "                           PRE fluidics/\r\n",
      "                           PRE imaging/\r\n",
      "                           PRE personal/\r\n",
      "2020-11-16 15:05:20  124223564 file_list.json\r\n",
      "2021-01-14 01:36:21  337773221 glacier_list.json\r\n"
     ]
    }
   ],
   "source": [
    "#!aws3 ls s3://braingeneers/"
   ]
  },
  {
   "cell_type": "code",
   "execution_count": null,
   "id": "d7ba87e9",
   "metadata": {},
   "outputs": [],
   "source": []
  },
  {
   "cell_type": "code",
   "execution_count": null,
   "id": "f16f4bcc",
   "metadata": {},
   "outputs": [],
   "source": []
  },
  {
   "cell_type": "code",
   "execution_count": null,
   "id": "1b674d08",
   "metadata": {},
   "outputs": [],
   "source": []
  },
  {
   "cell_type": "markdown",
   "id": "e59b59cf",
   "metadata": {},
   "source": [
    "## Upload button"
   ]
  },
  {
   "cell_type": "markdown",
   "id": "947b6b69",
   "metadata": {},
   "source": [
    "Create button that uploads the data"
   ]
  },
  {
   "cell_type": "code",
   "execution_count": 293,
   "id": "e96faa6c",
   "metadata": {},
   "outputs": [],
   "source": [
    "#creates upload button \n",
    "upload_button = ipw.Button(description=\"click to upload\")"
   ]
  },
  {
   "cell_type": "code",
   "execution_count": 294,
   "id": "d4160042",
   "metadata": {},
   "outputs": [
    {
     "data": {
      "application/vnd.jupyter.widget-view+json": {
       "model_id": "429043f8541a49cd93b5729a44ae6a22",
       "version_major": 2,
       "version_minor": 0
      },
      "text/plain": [
       "Button(description='click to upload', style=ButtonStyle())"
      ]
     },
     "metadata": {},
     "output_type": "display_data"
    },
    {
     "name": "stdout",
     "output_type": "stream",
     "text": [
      "Completed 4 Bytes/4 Bytes (7 Bytes/s) with 1 file(s) remaining\r",
      "upload: test/untitled.txt to s3://braingeneers/ephys/2021-04-09-e-claudia-test/untitled.txt\r\n"
     ]
    }
   ],
   "source": [
    "upload_button"
   ]
  },
  {
   "cell_type": "markdown",
   "id": "c89e11e8",
   "metadata": {},
   "source": [
    "When the button is click make sure the following line of code runs correctly"
   ]
  },
  {
   "cell_type": "code",
   "execution_count": 295,
   "id": "03805028",
   "metadata": {},
   "outputs": [],
   "source": [
    "#add function to button \n",
    "def upload_func(b):\n",
    "    #copies jupyter folder to the prp s3\n",
    "    prp_type_folder = types_to_prp[exp_type.value]\n",
    "    !aws3 cp ./{user_folder.value}  s3://braingeneers/{prp_type_folder}/{expUploader.uuid} --acl public-read --recursive "
   ]
  },
  {
   "cell_type": "code",
   "execution_count": 296,
   "id": "75345d94",
   "metadata": {},
   "outputs": [],
   "source": [
    "upload_button.on_click(upload_func)"
   ]
  },
  {
   "cell_type": "markdown",
   "id": "1595add0",
   "metadata": {
    "heading_collapsed": true
   },
   "source": [
    "## ignore"
   ]
  },
  {
   "cell_type": "markdown",
   "id": "5249ea12",
   "metadata": {
    "hidden": true
   },
   "source": [
    "### failed attempt"
   ]
  },
  {
   "cell_type": "markdown",
   "id": "b1adfe96",
   "metadata": {
    "hidden": true
   },
   "source": [
    "The final output after the function runs should save the `UUID` into a variable that is called `UUID`"
   ]
  },
  {
   "cell_type": "code",
   "execution_count": null,
   "id": "db459026",
   "metadata": {
    "code_folding": [],
    "hidden": true
   },
   "outputs": [],
   "source": [
    "import ipywidgets as ipw\n",
    "\n",
    "import ipywidgets as widgets \n",
    "\n",
    "from ipywidgets import interact, interactive, fixed, interact_manual\n",
    "\n",
    "from IPython.core.display import HTML, display, Javascript, clear_output"
   ]
  },
  {
   "cell_type": "code",
   "execution_count": null,
   "id": "ed715c8b",
   "metadata": {
    "hidden": true
   },
   "outputs": [],
   "source": [
    "expUploader: type('', (object,), {})() # dont think this is correct, would a class be needed? #empty onject expUploader\n",
    "    \n",
    "#def expName: \n",
    "exp_name = ipw.Text( #value = input ('Experiment Name: '), #program waiting for the user to input data before moving on  \n",
    "placeholder = 'Enter experiment name',\n",
    "description = 'Name: ',\n",
    "disabled = False,)\n",
    "\n",
    "#def expDate:\n",
    "exp_date = widgets.DatePicker(\n",
    "description = 'Exp. Date:', #exp. equates experiment \n",
    "disabled = False)\n",
    "    \n",
    "#def expType:\n",
    "exp_type = ipw.Dropdown(\n",
    "options = [('Calcium','c'), ('Ephys','e'), ('Fluidics','f'), ('Imagingi','i'), ('MEA','m'), ('Patch Clamp','p')], #value = string, ???  \n",
    "description = 'Type:',\n",
    "disabled = False,) \n",
    "\n",
    "#def makeUUID(b):\n",
    "expUploader.date = str(exp_date.value) #accessing widget value\n",
    "expUploader.type = str(exp_type.value)\n",
    "expUploader.name = exp_name.value #print('UUID: {}'.format(expUploader.date),'{}'.format(expUploader.type),'{}'.format(expUploader.name))\n",
    "expUploader.uuid = expUploader.date +\"-\"+expUploader.type+\"-\"+expUploader.name\n",
    "print(\"UUID: {}\".format(expUploader.uuid)) #take everything from widgets to grab the widget values to produce UUID in correct format, then save and print for user\n",
    "\n",
    "#def uuidBtn:\n",
    "uuid_button = widgets.Button(\n",
    "description = 'Create UUID',\n",
    "disabled = False, \n",
    "button_style = '', #UUID format YYYY-MM-DD-experiment type-experiment shorthand\n",
    "tooltip = 'UUID format: YYYY-MM-DD- experiment type - experiment shorthand', #message that appears when user hovers over button \n",
    "icon = '',)\n",
    "    \n",
    "uuid_button.on_click(makeUUID)\n",
    "\n",
    "uuid = ipw.VBox([uuid_title, uuid_row, uuid_button_box])\n",
    "\n",
    "uuid"
   ]
  },
  {
   "cell_type": "markdown",
   "id": "cbc1ba6f",
   "metadata": {
    "hidden": true
   },
   "source": [
    "### second attempt with class/ methods"
   ]
  },
  {
   "cell_type": "code",
   "execution_count": null,
   "id": "142a6d88",
   "metadata": {
    "hidden": true
   },
   "outputs": [],
   "source": [
    "#imports\n",
    "import ipywidgets as ipw\n",
    "\n",
    "import ipywidgets as widgets \n",
    "\n",
    "from ipywidgets import interact, interactive, fixed, interact_manual\n",
    "\n",
    "from IPython.core.display import HTML, display, Javascript, clear_output\n",
    "\n",
    "from ipywidgets import FileUpload #change fileupload to ExpUploader\n",
    "\n",
    "from IPython.display import display\n",
    "\n",
    "\n",
    "\n",
    "class ExpUploader: \n",
    "    \"\"\" The ExpUploader class generates a UUID for the user's file and uploads it to wetAi on the s3 cloud server. \"\"\"\n",
    "    \n",
    "    \n",
    "    def __init__ (self): #create new instance ExpUploader.__init__\n",
    "        \"\"\" Instances of the ExpUploader class. \"\"\"\n",
    "        self.create_expDate = exp_date \n",
    "        self.create_expType = exp_type \n",
    "        self.create_expName = exp_name\n",
    "    \n",
    "    def create_expDate(self):\n",
    "        exp_date = widgets.DatePicker(description = 'Exp. Date:', disabled = False) #constructs experiment date widget\n",
    "        \n",
    "        \n",
    "    def create_expType(self):\n",
    "        exp_type = ipw.Dropdown(options = [('Calcium','c'), ('Ephys','e'), ('Fluidics','f'), ('Imaginging','i'), ('MEA','m'), ('Patch Clamp','p')], description = 'Type:', disabled = False,)\n",
    "        #constructs experiment type widget \n",
    "        #value = one letter code\n",
    "        \n",
    "        \n",
    "    def create_expName(self):\n",
    "        exp_name = ipw.Text(placeholder = 'Enter experiment name', description = 'Name: ', disabled = False,) \n",
    "        #constructs experiment name widget\n",
    "        #value = user input ('Experiment Name: ')\n",
    "      \n",
    "        \n",
    "        \n",
    "    def create_uuid_button(self):\n",
    "        uuid_button = widgets.Button(description = 'Create UUID', disabled = False, button_style = '', \n",
    "        #UUID format YYYY-MM-DD-experiment type-experiment shorthand\n",
    "        tooltip = 'UUID format: YYYY-MM-DD- experiment type - experiment shorthand', \n",
    "        #message that appears when user hovers over button \n",
    "        icon = '',)\n",
    "        pass\n",
    "        \n",
    "    \n",
    "    def get_uuid_button_function(b): #YYYY-MM-DD-ET-ESH\n",
    "        ExpUploader.date = str(exp_date.value)\n",
    "        ExpUploader.type = str(exp_type.value)\n",
    "        ExpUploader.name = exp_name.value\n",
    "        ExpUploader.uuid = ExpUploader.date +\"-\"+ExpUploader.type+\"-\"+ExpUploader.name\n",
    "        print(\"UUID: {}\".format(ExpUploader.uuid))\n",
    "        create_uuid_button.on_click(get_uuid_button_function) #assigns function to uuid button created in create_uuid_button method\n",
    "        pass\n",
    "        \n",
    "    def create_uuid_button_box(self): #puts uuid widgets in a pretty box\n",
    "        uuid_button_box = ipw.HBox([uuid_button])\n",
    "        uuid_button_box.layout.justify_content = \"center\"\n",
    "        uuid_title = ipw.HTML(\"<h3 class = 'text-center'><font color='pink'>createUUID</font>\")\n",
    "        uuid_row = ipw.HBox([exp_date, exp_type, exp_name]) \n",
    "        uuid = ipw.VBox([uuid_title, uuid_row, uuid_button_box])\n",
    "        pass\n",
    "        \n",
    "    \n",
    "    def build_uploader_widget(self):\n",
    "        upload = FileUpload(multiple=True)\n",
    "        display(upload)\n",
    "        with open('z_merged_output.txt', 'wb') as output_file: \n",
    "            for uploaded_filename in upload.value:\n",
    "                content = upload.value[uploaded_filename]['content']   \n",
    "                output_file.write(content)\n",
    "                pass\n",
    "        \n",
    "    \n",
    "    def get_uploader_widget_function(b): #uploads file to s3 server\n",
    "        !mkdir {ExpUploader.uuid}\n",
    "        pass\n",
    "    \n",
    "    def create_uploader_widget_box(self): #puts uploading widgets in a pretty box \n",
    "        pass\n",
    "        \n",
    "                "
   ]
  },
  {
   "cell_type": "markdown",
   "id": "71841e6f",
   "metadata": {
    "heading_collapsed": true
   },
   "source": [
    "# Build Uploader Widget Box"
   ]
  },
  {
   "cell_type": "markdown",
   "id": "bea93c53",
   "metadata": {
    "hidden": true
   },
   "source": [
    "<font color=\"red\">Create a button that when clicked will upload your dataset to the Cloud. Use the commands in the Reference material to figure out how to do this. When you uplaod the file, it should have the same name that was created from your `Create experiment uuid section.` "
   ]
  },
  {
   "cell_type": "markdown",
   "id": "1af78431",
   "metadata": {
    "hidden": true
   },
   "source": [
    "## <font color=\"green\">Create the widgets for uploading"
   ]
  },
  {
   "cell_type": "markdown",
   "id": "8e772d84",
   "metadata": {
    "hidden": true
   },
   "source": [
    "<font color=\"red\"> Figure out what other widgets you need"
   ]
  },
  {
   "cell_type": "code",
   "execution_count": 121,
   "id": "a5d09062",
   "metadata": {
    "hidden": true
   },
   "outputs": [
    {
     "data": {
      "application/vnd.jupyter.widget-view+json": {
       "model_id": "5f4aa1432f40488a9aa0bbe5df507a3c",
       "version_major": 2,
       "version_minor": 0
      },
      "text/plain": [
       "FileUpload(value={'Readme.txt': {'metadata': {'name': 'Readme.txt', 'type': 'text/plain', 'size': 172, 'lastMo…"
      ]
     },
     "metadata": {},
     "output_type": "display_data"
    }
   ],
   "source": [
    "#example\n",
    "from ipywidgets import FileUpload\n",
    "from IPython.display import display\n",
    "\n",
    "uploadExp = widgets.FileUpload(multiple=True)\n",
    "display(upload)"
   ]
  },
  {
   "cell_type": "code",
   "execution_count": null,
   "id": "55693c78",
   "metadata": {
    "hidden": true
   },
   "outputs": [],
   "source": [
    "print(uploadExp.value)"
   ]
  },
  {
   "cell_type": "code",
   "execution_count": 119,
   "id": "a787b5c8",
   "metadata": {
    "hidden": true
   },
   "outputs": [
    {
     "ename": "SyntaxError",
     "evalue": "invalid syntax (<ipython-input-119-615515200dd7>, line 3)",
     "output_type": "error",
     "traceback": [
      "\u001b[0;36m  File \u001b[0;32m\"<ipython-input-119-615515200dd7>\"\u001b[0;36m, line \u001b[0;32m3\u001b[0m\n\u001b[0;31m    with open('z_merged_output.txt', 'wb') as !aws3 cp ./2021-04-09-e-claudia-test/ s3://braingeneers/ephys/2021-04-09-e-claudia-test/ --acl public-read --recursive:\u001b[0m\n\u001b[0m                                              ^\u001b[0m\n\u001b[0;31mSyntaxError\u001b[0m\u001b[0;31m:\u001b[0m invalid syntax\n"
     ]
    }
   ],
   "source": []
  },
  {
   "cell_type": "code",
   "execution_count": 122,
   "id": "6993ea44",
   "metadata": {
    "hidden": true
   },
   "outputs": [],
   "source": [
    "#create 'to prp' folder on jupyter\n",
    "#use folder to upload to prp\n",
    "#find intro to bash tutorial / terminal"
   ]
  },
  {
   "cell_type": "code",
   "execution_count": null,
   "id": "104cf17f",
   "metadata": {
    "hidden": true
   },
   "outputs": [],
   "source": []
  },
  {
   "cell_type": "code",
   "execution_count": null,
   "id": "180b0aa6",
   "metadata": {
    "hidden": true
   },
   "outputs": [],
   "source": []
  },
  {
   "cell_type": "code",
   "execution_count": 124,
   "id": "e733da27",
   "metadata": {
    "hidden": true
   },
   "outputs": [
    {
     "name": "stdout",
     "output_type": "stream",
     "text": [
      " 2021-04-09-e-claudia-test\t\t\t   'Source Code.ipynb'\r\n",
      "'Backup-Copy_Create a New Dataset-04-09-21.ipynb'   test\r\n",
      "'Data Uploader.ipynb'\t\t\t\t    z_merged_output.txt\r\n",
      " metadata.json\r\n"
     ]
    }
   ],
   "source": [
    "! ls"
   ]
  },
  {
   "cell_type": "code",
   "execution_count": 127,
   "id": "0e349fa4",
   "metadata": {
    "hidden": true
   },
   "outputs": [
    {
     "name": "stdout",
     "output_type": "stream",
     "text": [
      "{\r\n",
      " \"cells\": [\r\n",
      "  {\r\n",
      "   \"cell_type\": \"markdown\",\r\n",
      "   \"id\": \"ae0f6356\",\r\n",
      "   \"metadata\": {},\r\n",
      "   \"source\": [\r\n",
      "    \"<font size=7>Data Uploader Source Code\"\r\n",
      "   ]\r\n",
      "  },\r\n",
      "  {\r\n",
      "   \"cell_type\": \"markdown\",\r\n",
      "   \"id\": \"11a356bb\",\r\n",
      "   \"metadata\": {},\r\n",
      "   \"source\": [\r\n",
      "    \"This is where all the code wich is run inside the <font color=\\\"blue\\\">Data Uploader App</font> is located.\"\r\n",
      "   ]\r\n",
      "  },\r\n",
      "  {\r\n",
      "   \"cell_type\": \"markdown\",\r\n",
      "   \"id\": \"e12c02ca\",\r\n",
      "   \"metadata\": {\r\n",
      "    \"slideshow\": {\r\n",
      "     \"slide_type\": \"slide\"\r\n",
      "    }\r\n",
      "   },\r\n",
      "   \"source\": [\r\n",
      "    \"**TO DO**\\n\",\r\n",
      "    \"* Finsh Create experiment UUID\\\" section. \\n\",\r\n",
      "    \"* Add more descriptions\\n\"\r\n",
      "   ]\r\n",
      "  },\r\n",
      "  {\r\n",
      "   \"cell_type\": \"markdown\",\r\n",
      "   \"id\": \"b2ad2dcc\",\r\n",
      "   \"metadata\": {},\r\n",
      "   \"source\": [\r\n",
      "    \"**References**\\n\",\r\n",
      "    \"* [Widgets layout documentaton](https://ipywidgets.readthedocs.io/en/latest/examples/Widget%20Styling.html)\"\r\n",
      "   ]\r\n",
      "  },\r\n",
      "  {\r\n",
      "   \"cell_type\": \"markdown\",\r\n",
      "   \"id\": \"08d1cb3f\",\r\n",
      "   \"metadata\": {\r\n",
      "    \"heading_collapsed\": true\r\n",
      "   },\r\n",
      "   \"source\": [\r\n",
      "    \"# <font color=\\\"gray\\\">Set Up Notebook\"\r\n",
      "   ]\r\n",
      "  },\r\n",
      "  {\r\n",
      "   \"cell_type\": \"markdown\",\r\n",
      "   \"id\": \"ce2618ba\",\r\n",
      "   \"metadata\": {\r\n",
      "    \"hidden\": true\r\n",
      "   },\r\n",
      "   \"source\": [\r\n",
      "    \"## Import stuff\"\r\n",
      "   ]\r\n",
      "  },\r\n",
      "  {\r\n",
      "   \"cell_type\": \"code\",\r\n",
      "   \"execution_count\": 12,\r\n",
      "   \"id\": \"after-sunrise\",\r\n",
      "   \"metadata\": {\r\n",
      "    \"hidden\": true\r\n",
      "   },\r\n",
      "   \"outputs\": [],\r\n",
      "   \"source\": [\r\n",
      "    \"import numpy as np\\n\",\r\n",
      "    \"import matplotlib.pyplot as plt\\n\",\r\n",
      "    \"\\n\",\r\n",
      "    \"\\n\",\r\n",
      "    \"from ipywidgets import interact, interactive, fixed, interact_manual\\n\",\r\n",
      "    \"import ipywidgets as widgets\\n\",\r\n",
      "    \"from IPython.display import display\\n\",\r\n",
      "    \"from IPython.display import clear_output\\n\",\r\n",
      "    \"\\n\",\r\n",
      "    \"import sys\\n\",\r\n",
      "    \"import os \\n\",\r\n",
      "    \"import glob\\n\",\r\n",
      "    \"import re\\n\",\r\n",
      "    \"import json\\n\",\r\n",
      "    \"import random\\n\",\r\n",
      "    \"\\n\",\r\n",
      "    \"#import braingeneers\\n\",\r\n",
      "    \"#from braingeneers import datasets_electrophysiology as ephys\\n\",\r\n",
      "    \"#from braingeneers import analysis\"\r\n",
      "   ]\r\n",
      "  },\r\n",
      "  {\r\n",
      "   \"cell_type\": \"markdown\",\r\n",
      "   \"id\": \"710ab0b0\",\r\n",
      "   \"metadata\": {\r\n",
      "    \"hidden\": true\r\n",
      "   },\r\n",
      "   \"source\": [\r\n",
      "    \"## Create class expUploader\"\r\n",
      "   ]\r\n",
      "  },\r\n",
      "  {\r\n",
      "   \"cell_type\": \"code\",\r\n",
      "   \"execution_count\": 13,\r\n",
      "   \"id\": \"abba1c3e\",\r\n",
      "   \"metadata\": {\r\n",
      "    \"hidden\": true\r\n",
      "   },\r\n",
      "   \"outputs\": [],\r\n",
      "   \"source\": [\r\n",
      "    \"#create an empty object instead of formal class\\n\",\r\n",
      "    \"expUploader = type('', (object,), {})()\"\r\n",
      "   ]\r\n",
      "  },\r\n",
      "  {\r\n",
      "   \"cell_type\": \"markdown\",\r\n",
      "   \"id\": \"medium-hours\",\r\n",
      "   \"metadata\": {\r\n",
      "    \"heading_collapsed\": true\r\n",
      "   },\r\n",
      "   \"source\": [\r\n",
      "    \"# <font color=\\\"magenta\\\">Create experiment UUID\"\r\n",
      "   ]\r\n",
      "  },\r\n",
      "  {\r\n",
      "   \"cell_type\": \"markdown\",\r\n",
      "   \"id\": \"f83dd2e4\",\r\n",
      "   \"metadata\": {\r\n",
      "    \"hidden\": true\r\n",
      "   },\r\n",
      "   \"source\": [\r\n",
      "    \"You will create a <font color=\\\"orchid\\\">widget box</font> where the user inputs information like `experiment name`, `date`, and `experiment type`. Then when the user clicks `create`, it will output the correct UUID \"\r\n",
      "   ]\r\n",
      "  },\r\n",
      "  {\r\n",
      "   \"cell_type\": \"markdown\",\r\n",
      "   \"id\": \"be826a22\",\r\n",
      "   \"metadata\": {\r\n",
      "    \"hidden\": true\r\n",
      "   },\r\n",
      "   \"source\": [\r\n",
      "    \"\\n\",\r\n",
      "    \"Example: 2019-08-09-e-gmpopova\"\r\n",
      "   ]\r\n",
      "  },\r\n",
      "  {\r\n",
      "   \"cell_type\": \"markdown\",\r\n",
      "   \"id\": \"eba98e11\",\r\n",
      "   \"metadata\": {\r\n",
      "    \"hidden\": true\r\n",
      "   },\r\n",
      "   \"source\": [\r\n",
      "    \"## Widget Scratch Paper <font color=\\\"red\\\">Rename and Clean\"\r\n",
      "   ]\r\n",
      "  },\r\n",
      "  {\r\n",
      "   \"cell_type\": \"code\",\r\n",
      "   \"execution_count\": 14,\r\n",
      "   \"id\": \"40bd3782\",\r\n",
      "   \"metadata\": {\r\n",
      "    \"hidden\": true\r\n",
      "   },\r\n",
      "   \"outputs\": [],\r\n",
      "   \"source\": [\r\n",
      "    \"#Goal:\\n\",\r\n",
      "    \"#take user input data - experiment name, date, and experiment type\\n\",\r\n",
      "    \"#create a dropdown for the experiment type (ask Jess which kind of experiments she expects to upload) \\n\",\r\n",
      "    \"#concatinte user data into UUID format\\n\",\r\n",
      "    \"#'Create UUID' button generates the UUID in the desired format \"\r\n",
      "   ]\r\n",
      "  },\r\n",
      "  {\r\n",
      "   \"cell_type\": \"code\",\r\n",
      "   \"execution_count\": 15,\r\n",
      "   \"id\": \"aba117b2\",\r\n",
      "   \"metadata\": {\r\n",
      "    \"hidden\": true\r\n",
      "   },\r\n",
      "   \"outputs\": [],\r\n",
      "   \"source\": [\r\n",
      "    \"#UUID format \\n\",\r\n",
      "    \"#YYYY-MM-DD-ET-ESH\\n\",\r\n",
      "    \"#ET = experiment type\\n\",\r\n",
      "    \"#ESH = experiment shorthand \"\r\n",
      "   ]\r\n",
      "  },\r\n",
      "  {\r\n",
      "   \"cell_type\": \"code\",\r\n",
      "   \"execution_count\": 16,\r\n",
      "   \"id\": \"8c97777c\",\r\n",
      "   \"metadata\": {\r\n",
      "    \"hidden\": true\r\n",
      "   },\r\n",
      "   \"outputs\": [],\r\n",
      "   \"source\": [\r\n",
      "    \"#widget box practice from jupyter Widgets tutorial  \\n\",\r\n",
      "    \"\\n\",\r\n",
      "    \"import ipywidgets as ipw\\n\",\r\n",
      "    \"\\n\",\r\n",
      "    \"import ipywidgets as widgets \\n\",\r\n",
      "    \"\\n\",\r\n",
      "    \"from ipywidgets import interact, interactive, fixed, interact_manual\\n\",\r\n",
      "    \"\\n\",\r\n",
      "    \"from IPython.core.display import HTML, display, Javascript, clear_output\"\r\n",
      "   ]\r\n",
      "  },\r\n",
      "  {\r\n",
      "   \"cell_type\": \"code\",\r\n",
      "   \"execution_count\": 17,\r\n",
      "   \"id\": \"b064b043\",\r\n",
      "   \"metadata\": {\r\n",
      "    \"hidden\": true\r\n",
      "   },\r\n",
      "   \"outputs\": [],\r\n",
      "   \"source\": [\r\n",
      "    \"#widgets practice \\n\",\r\n",
      "    \"#ipw.IntSlider()\"\r\n",
      "   ]\r\n",
      "  },\r\n",
      "  {\r\n",
      "   \"cell_type\": \"code\",\r\n",
      "   \"execution_count\": 18,\r\n",
      "   \"id\": \"aeb1f370\",\r\n",
      "   \"metadata\": {\r\n",
      "    \"hidden\": true\r\n",
      "   },\r\n",
      "   \"outputs\": [\r\n",
      "    {\r\n",
      "     \"data\": {\r\n",
      "      \"application/vnd.jupyter.widget-view+json\": {\r\n",
      "       \"model_id\": \"cb9d4ff72dbc4556a34416eb6ac3c41c\",\r\n",
      "       \"version_major\": 2,\r\n",
      "       \"version_minor\": 0\r\n",
      "      },\r\n",
      "      \"text/plain\": [\r\n",
      "       \"Text(value='')\"\r\n",
      "      ]\r\n",
      "     },\r\n",
      "     \"metadata\": {},\r\n",
      "     \"output_type\": \"display_data\"\r\n",
      "    }\r\n",
      "   ],\r\n",
      "   \"source\": [\r\n",
      "    \"exp_name = ipw.Text()\\n\",\r\n",
      "    \"exp_name\"\r\n",
      "   ]\r\n",
      "  },\r\n",
      "  {\r\n",
      "   \"cell_type\": \"code\",\r\n",
      "   \"execution_count\": 19,\r\n",
      "   \"id\": \"f7786871\",\r\n",
      "   \"metadata\": {\r\n",
      "    \"hidden\": true\r\n",
      "   },\r\n",
      "   \"outputs\": [],\r\n",
      "   \"source\": [\r\n",
      "    \"#Experiment name \\n\",\r\n",
      "    \"#program requests user input \\n\",\r\n",
      "    \"#user inputs experiment name \\n\",\r\n",
      "    \"exp_name = ipw.Text(\\n\",\r\n",
      "    \"    #value = input ('Experiment Name: '), #program waiting for the user to input data before moving on  \\n\",\r\n",
      "    \"    placeholder = 'Enter experiment name',\\n\",\r\n",
      "    \"    description = 'Name: ',\\n\",\r\n",
      "    \"    disabled = False,\\n\",\r\n",
      "    \")\"\r\n",
      "   ]\r\n",
      "  },\r\n",
      "  {\r\n",
      "   \"cell_type\": \"code\",\r\n",
      "   \"execution_count\": 20,\r\n",
      "   \"id\": \"1836590f\",\r\n",
      "   \"metadata\": {\r\n",
      "    \"hidden\": true\r\n",
      "   },\r\n",
      "   \"outputs\": [\r\n",
      "    {\r\n",
      "     \"data\": {\r\n",
      "      \"application/vnd.jupyter.widget-view+json\": {\r\n",
      "       \"model_id\": \"9e40f6abb70c4a15af158cdad00a8e5a\",\r\n",
      "       \"version_major\": 2,\r\n",
      "       \"version_minor\": 0\r\n",
      "      },\r\n",
      "      \"text/plain\": [\r\n",
      "       \"Text(value='', description='Name: ', placeholder='Enter experiment name')\"\r\n",
      "      ]\r\n",
      "     },\r\n",
      "     \"metadata\": {},\r\n",
      "     \"output_type\": \"display_data\"\r\n",
      "    }\r\n",
      "   ],\r\n",
      "   \"source\": [\r\n",
      "    \"exp_name \"\r\n",
      "   ]\r\n",
      "  },\r\n",
      "  {\r\n",
      "   \"cell_type\": \"code\",\r\n",
      "   \"execution_count\": 21,\r\n",
      "   \"id\": \"0db48cf6\",\r\n",
      "   \"metadata\": {\r\n",
      "    \"hidden\": true\r\n",
      "   },\r\n",
      "   \"outputs\": [],\r\n",
      "   \"source\": [\r\n",
      "    \"#Experiment type\\n\",\r\n",
      "    \"#program displays options in a dropdown\\n\",\r\n",
      "    \"exp_type = ipw.Dropdown(\\n\",\r\n",
      "    \"    options = ['Calcium (c)', 'Ephys (e)', 'Fluidics (f)', 'Imaging (i)', 'MEA (m)', 'Patch Clamp (p)'],\\n\",\r\n",
      "    \"    #value = string, ???  \\n\",\r\n",
      "    \"    description = 'Type:',\\n\",\r\n",
      "    \"    disabled = False, \\n\",\r\n",
      "    \")                      \"\r\n",
      "   ]\r\n",
      "  },\r\n",
      "  {\r\n",
      "   \"cell_type\": \"code\",\r\n",
      "   \"execution_count\": 22,\r\n",
      "   \"id\": \"931d0ef6\",\r\n",
      "   \"metadata\": {\r\n",
      "    \"hidden\": true\r\n",
      "   },\r\n",
      "   \"outputs\": [\r\n",
      "    {\r\n",
      "     \"data\": {\r\n",
      "      \"application/vnd.jupyter.widget-view+json\": {\r\n",
      "       \"model_id\": \"26f4b82b343c4bc7813b8d71b3fbbd2d\",\r\n",
      "       \"version_major\": 2,\r\n",
      "       \"version_minor\": 0\r\n",
      "      },\r\n",
      "      \"text/plain\": [\r\n",
      "       \"Dropdown(description='Type:', options=('Calcium (c)', 'Ephys (e)', 'Fluidics (f)', 'Imaging (i)', 'MEA (m)', '…\"\r\n",
      "      ]\r\n",
      "     },\r\n",
      "     \"metadata\": {},\r\n",
      "     \"output_type\": \"display_data\"\r\n",
      "    }\r\n",
      "   ],\r\n",
      "   \"source\": [\r\n",
      "    \"exp_type\"\r\n",
      "   ]\r\n",
      "  },\r\n",
      "  {\r\n",
      "   \"cell_type\": \"code\",\r\n",
      "   \"execution_count\": 24,\r\n",
      "   \"id\": \"0b685f86\",\r\n",
      "   \"metadata\": {\r\n",
      "    \"hidden\": true\r\n",
      "   },\r\n",
      "   \"outputs\": [\r\n",
      "    {\r\n",
      "     \"data\": {\r\n",
      "      \"application/vnd.jupyter.widget-view+json\": {\r\n",
      "       \"model_id\": \"26f4b82b343c4bc7813b8d71b3fbbd2d\",\r\n",
      "       \"version_major\": 2,\r\n",
      "       \"version_minor\": 0\r\n",
      "      },\r\n",
      "      \"text/plain\": [\r\n",
      "       \"Dropdown(description='Type:', options=('Calcium (c)', 'Ephys (e)', 'Fluidics (f)', 'Imaging (i)', 'MEA (m)', '…\"\r\n",
      "      ]\r\n",
      "     },\r\n",
      "     \"metadata\": {},\r\n",
      "     \"output_type\": \"display_data\"\r\n",
      "    }\r\n",
      "   ],\r\n",
      "   \"source\": [\r\n",
      "    \"#'experiment type' button function '\\n\",\r\n",
      "    \"exp_type\"\r\n",
      "   ]\r\n",
      "  },\r\n",
      "  {\r\n",
      "   \"cell_type\": \"code\",\r\n",
      "   \"execution_count\": 25,\r\n",
      "   \"id\": \"06ba2655\",\r\n",
      "   \"metadata\": {\r\n",
      "    \"hidden\": true\r\n",
      "   },\r\n",
      "   \"outputs\": [],\r\n",
      "   \"source\": [\r\n",
      "    \"#electrode options\\n\",\r\n",
      "    \"e_type = ipw.Dropdown(\\n\",\r\n",
      "    \"    options = [('MEA', 'm'), ('Axion', 'a'), ('SeaMoss', 's'), ('Roberts', 'r')],  \\n\",\r\n",
      "    \"    description = 'Type:',\\n\",\r\n",
      "    \"    disabled = False, \\n\",\r\n",
      "    \")\"\r\n",
      "   ]\r\n",
      "  },\r\n",
      "  {\r\n",
      "   \"cell_type\": \"code\",\r\n",
      "   \"execution_count\": 26,\r\n",
      "   \"id\": \"65c804d4\",\r\n",
      "   \"metadata\": {\r\n",
      "    \"hidden\": true\r\n",
      "   },\r\n",
      "   \"outputs\": [\r\n",
      "    {\r\n",
      "     \"data\": {\r\n",
      "      \"application/vnd.jupyter.widget-view+json\": {\r\n",
      "       \"model_id\": \"107ffa3effda493a9d89cbd401c96e20\",\r\n",
      "       \"version_major\": 2,\r\n",
      "       \"version_minor\": 0\r\n",
      "      },\r\n",
      "      \"text/plain\": [\r\n",
      "       \"Dropdown(description='Type:', options=(('MEA', 'm'), ('Axion', 'a'), ('SeaMoss', 's'), ('Roberts', 'r')), valu…\"\r\n",
      "      ]\r\n",
      "     },\r\n",
      "     \"metadata\": {},\r\n",
      "     \"output_type\": \"display_data\"\r\n",
      "    }\r\n",
      "   ],\r\n",
      "   \"source\": [\r\n",
      "    \"e_type\"\r\n",
      "   ]\r\n",
      "  },\r\n",
      "  {\r\n",
      "   \"cell_type\": \"code\",\r\n",
      "   \"execution_count\": 27,\r\n",
      "   \"id\": \"192e298d\",\r\n",
      "   \"metadata\": {\r\n",
      "    \"hidden\": true\r\n",
      "   },\r\n",
      "   \"outputs\": [],\r\n",
      "   \"source\": [\r\n",
      "    \"#imaging indicator options\\n\",\r\n",
      "    \"#place holders for now, need to ask jess about which indicators she prefers\\n\",\r\n",
      "    \"im_type = ipw.Dropdown(\\n\",\r\n",
      "    \"    options = ['ca2+', 'eGFP', 'k+'],  \\n\",\r\n",
      "    \"    description = 'Type:',\\n\",\r\n",
      "    \"    disabled = False, \\n\",\r\n",
      "    \")\"\r\n",
      "   ]\r\n",
      "  },\r\n",
      "  {\r\n",
      "   \"cell_type\": \"code\",\r\n",
      "   \"execution_count\": 28,\r\n",
      "   \"id\": \"8b5f2b52\",\r\n",
      "   \"metadata\": {\r\n",
      "    \"hidden\": true\r\n",
      "   },\r\n",
      "   \"outputs\": [\r\n",
      "    {\r\n",
      "     \"data\": {\r\n",
      "      \"application/vnd.jupyter.widget-view+json\": {\r\n",
      "       \"model_id\": \"c6019a40bd9242c6b882094ef4f211de\",\r\n",
      "       \"version_major\": 2,\r\n",
      "       \"version_minor\": 0\r\n",
      "      },\r\n",
      "      \"text/plain\": [\r\n",
      "       \"Dropdown(description='Type:', options=('ca2+', 'eGFP', 'k+'), value='ca2+')\"\r\n",
      "      ]\r\n",
      "     },\r\n",
      "     \"metadata\": {},\r\n",
      "     \"output_type\": \"display_data\"\r\n",
      "    }\r\n",
      "   ],\r\n",
      "   \"source\": [\r\n",
      "    \"im_type\"\r\n",
      "   ]\r\n",
      "  },\r\n",
      "  {\r\n",
      "   \"cell_type\": \"code\",\r\n",
      "   \"execution_count\": 29,\r\n",
      "   \"id\": \"d7bba7e5\",\r\n",
      "   \"metadata\": {\r\n",
      "    \"hidden\": true\r\n",
      "   },\r\n",
      "   \"outputs\": [],\r\n",
      "   \"source\": [\r\n",
      "    \"#cell clamping \\n\",\r\n",
      "    \"c_type = ipw.Dropdown(\\n\",\r\n",
      "    \"    options = ['Patch clamp', 'whole cell', 'micromanipulator'],  \\n\",\r\n",
      "    \"    description = 'Clamp type:',\\n\",\r\n",
      "    \"    disabled = False, \\n\",\r\n",
      "    \")\"\r\n",
      "   ]\r\n",
      "  },\r\n",
      "  {\r\n",
      "   \"cell_type\": \"code\",\r\n",
      "   \"execution_count\": 30,\r\n",
      "   \"id\": \"c83ba6d6\",\r\n",
      "   \"metadata\": {\r\n",
      "    \"hidden\": true\r\n",
      "   },\r\n",
      "   \"outputs\": [\r\n",
      "    {\r\n",
      "     \"data\": {\r\n",
      "      \"application/vnd.jupyter.widget-view+json\": {\r\n",
      "       \"model_id\": \"0a726cad52be432f8f6203bcd232def5\",\r\n",
      "       \"version_major\": 2,\r\n",
      "       \"version_minor\": 0\r\n",
      "      },\r\n",
      "      \"text/plain\": [\r\n",
      "       \"Dropdown(description='Clamp type:', options=('Patch clamp', 'whole cell', 'micromanipulator'), value='Patch cl…\"\r\n",
      "      ]\r\n",
      "     },\r\n",
      "     \"metadata\": {},\r\n",
      "     \"output_type\": \"display_data\"\r\n",
      "    }\r\n",
      "   ],\r\n",
      "   \"source\": [\r\n",
      "    \"c_type\"\r\n",
      "   ]\r\n",
      "  },\r\n",
      "  {\r\n",
      "   \"cell_type\": \"code\",\r\n",
      "   \"execution_count\": null,\r\n",
      "   \"id\": \"5ca06ceb\",\r\n",
      "   \"metadata\": {\r\n",
      "    \"hidden\": true\r\n",
      "   },\r\n",
      "   \"outputs\": [],\r\n",
      "   \"source\": [\r\n",
      "    \"#if user selects MEA, another dropdown would state options (roger's, seamoss, or axion)\\n\",\r\n",
      "    \"#dropdown in a dropdown\\n\",\r\n",
      "    \"#maybe use a loop? for loop?\\n\",\r\n",
      "    \"#MEA and the type next to it (in dropdown)\"\r\n",
      "   ]\r\n",
      "  },\r\n",
      "  {\r\n",
      "   \"cell_type\": \"code\",\r\n",
      "   \"execution_count\": null,\r\n",
      "   \"id\": \"d0b98b23\",\r\n",
      "   \"metadata\": {\r\n",
      "    \"hidden\": true\r\n",
      "   },\r\n",
      "   \"outputs\": [],\r\n",
      "   \"source\": [\r\n",
      "    \"#if user selects imaging or Ca2+ imaging, another dropdown states indicator options \"\r\n",
      "   ]\r\n",
      "  },\r\n",
      "  {\r\n",
      "   \"cell_type\": \"code\",\r\n",
      "   \"execution_count\": 31,\r\n",
      "   \"id\": \"a6b7823b\",\r\n",
      "   \"metadata\": {\r\n",
      "    \"code_folding\": [],\r\n",
      "    \"hidden\": true\r\n",
      "   },\r\n",
      "   \"outputs\": [],\r\n",
      "   \"source\": [\r\n",
      "    \"#Go button\\n\",\r\n",
      "    \"#from widgets page\\n\",\r\n",
      "    \"go_button = widgets.Button(\\n\",\r\n",
      "    \"    description = 'Create UUID',\\n\",\r\n",
      "    \"    disabled = False, \\n\",\r\n",
      "    \"    button_style = '', #UUID format YYYY-MM-DD-experiment type-experiment shorthand\\n\",\r\n",
      "    \"    tooltip = 'Create UUID', #message that appears when user hovers over button \\n\",\r\n",
      "    \"    icon = '',\\n\",\r\n",
      "    \")\"\r\n",
      "   ]\r\n",
      "  },\r\n",
      "  {\r\n",
      "   \"cell_type\": \"code\",\r\n",
      "   \"execution_count\": null,\r\n",
      "   \"id\": \"7c1e1559\",\r\n",
      "   \"metadata\": {\r\n",
      "    \"hidden\": true\r\n",
      "   },\r\n",
      "   \"outputs\": [],\r\n",
      "   \"source\": [\r\n",
      "    \"#widgets.Button \"\r\n",
      "   ]\r\n",
      "  },\r\n",
      "  {\r\n",
      "   \"cell_type\": \"code\",\r\n",
      "   \"execution_count\": 32,\r\n",
      "   \"id\": \"394741ed\",\r\n",
      "   \"metadata\": {\r\n",
      "    \"hidden\": true\r\n",
      "   },\r\n",
      "   \"outputs\": [\r\n",
      "    {\r\n",
      "     \"data\": {\r\n",
      "      \"application/vnd.jupyter.widget-view+json\": {\r\n",
      "       \"model_id\": \"57a2a8e6322149eebdcdf78e37de59d3\",\r\n",
      "       \"version_major\": 2,\r\n",
      "       \"version_minor\": 0\r\n",
      "      },\r\n",
      "      \"text/plain\": [\r\n",
      "       \"Button(description='Create UUID', style=ButtonStyle(), tooltip='Create UUID')\"\r\n",
      "      ]\r\n",
      "     },\r\n",
      "     \"metadata\": {},\r\n",
      "     \"output_type\": \"display_data\"\r\n",
      "    }\r\n",
      "   ],\r\n",
      "   \"source\": [\r\n",
      "    \"go_button \"\r\n",
      "   ]\r\n",
      "  },\r\n",
      "  {\r\n",
      "   \"cell_type\": \"code\",\r\n",
      "   \"execution_count\": null,\r\n",
      "   \"id\": \"11957432\",\r\n",
      "   \"metadata\": {\r\n",
      "    \"hidden\": true\r\n",
      "   },\r\n",
      "   \"outputs\": [],\r\n",
      "   \"source\": [\r\n",
      "    \"#assigning function to Go button\\n\",\r\n",
      "    \"#btn = ipw.Button(description = \\\"Say Hello\\\")\\n\",\r\n",
      "    \"#btn\"\r\n",
      "   ]\r\n",
      "  },\r\n",
      "  {\r\n",
      "   \"cell_type\": \"markdown\",\r\n",
      "   \"id\": \"e76d569c\",\r\n",
      "   \"metadata\": {\r\n",
      "    \"hidden\": true\r\n",
      "   },\r\n",
      "   \"source\": [\r\n",
      "    \"#### Get JSON\"\r\n",
      "   ]\r\n",
      "  },\r\n",
      "  {\r\n",
      "   \"cell_type\": \"code\",\r\n",
      "   \"execution_count\": 36,\r\n",
      "   \"id\": \"9ca160cd\",\r\n",
      "   \"metadata\": {\r\n",
      "    \"hidden\": true\r\n",
      "   },\r\n",
      "   \"outputs\": [\r\n",
      "    {\r\n",
      "     \"data\": {\r\n",
      "      \"application/vnd.jupyter.widget-view+json\": {\r\n",
      "       \"model_id\": \"52ae4f8efede476b9c33576d67e97d89\",\r\n",
      "       \"version_major\": 2,\r\n",
      "       \"version_minor\": 0\r\n",
      "      },\r\n",
      "      \"text/plain\": [\r\n",
      "       \"Button(description='Create UUID', style=ButtonStyle())\"\r\n",
      "      ]\r\n",
      "     },\r\n",
      "     \"metadata\": {},\r\n",
      "     \"output_type\": \"display_data\"\r\n",
      "    }\r\n",
      "   ],\r\n",
      "   \"source\": [\r\n",
      "    \"#is the above code necessary if i have this code for a button\\n\",\r\n",
      "    \"#same thing as above \\n\",\r\n",
      "    \"btn = ipw.Button(description = \\\"Create UUID\\\")\\n\",\r\n",
      "    \"btn \"\r\n",
      "   ]\r\n",
      "  },\r\n",
      "  {\r\n",
      "   \"cell_type\": \"code\",\r\n",
      "   \"execution_count\": 35,\r\n",
      "   \"id\": \"50df98eb\",\r\n",
      "   \"metadata\": {\r\n",
      "    \"hidden\": true\r\n",
      "   },\r\n",
      "   \"outputs\": [\r\n",
      "    {\r\n",
      "     \"ename\": \"AttributeError\",\r\n",
      "     \"evalue\": \"'Button' object has no attribute 'value'\",\r\n",
      "     \"output_type\": \"error\",\r\n",
      "     \"traceback\": [\r\n",
      "      \"\\u001b[0;31m---------------------------------------------------------------------------\\u001b[0m\",\r\n",
      "      \"\\u001b[0;31mAttributeError\\u001b[0m                            Traceback (most recent call last)\",\r\n",
      "      \"\\u001b[0;32m<ipython-input-35-990ce946476e>\\u001b[0m in \\u001b[0;36m<module>\\u001b[0;34m\\u001b[0m\\n\\u001b[0;32m----> 1\\u001b[0;31m \\u001b[0mbtn\\u001b[0m\\u001b[0;34m.\\u001b[0m\\u001b[0mvalue\\u001b[0m\\u001b[0;34m\\u001b[0m\\u001b[0;34m\\u001b[0m\\u001b[0m\\n\\u001b[0m\",\r\n",
      "      \"\\u001b[0;31mAttributeError\\u001b[0m: 'Button' object has no attribute 'value'\"\r\n",
      "     ]\r\n",
      "    }\r\n",
      "   ],\r\n",
      "   \"source\": [\r\n",
      "    \"btn.value\"\r\n",
      "   ]\r\n",
      "  },\r\n",
      "  {\r\n",
      "   \"cell_type\": \"code\",\r\n",
      "   \"execution_count\": null,\r\n",
      "   \"id\": \"bfdb2545\",\r\n",
      "   \"metadata\": {\r\n",
      "    \"hidden\": true\r\n",
      "   },\r\n",
      "   \"outputs\": [],\r\n",
      "   \"source\": [\r\n",
      "    \"#getUUID function \"\r\n",
      "   ]\r\n",
      "  },\r\n",
      "  {\r\n",
      "   \"cell_type\": \"code\",\r\n",
      "   \"execution_count\": 37,\r\n",
      "   \"id\": \"f7deb4eb\",\r\n",
      "   \"metadata\": {\r\n",
      "    \"hidden\": true\r\n",
      "   },\r\n",
      "   \"outputs\": [],\r\n",
      "   \"source\": [\r\n",
      "    \"def testFunction (b): #b is btn aka button\\n\",\r\n",
      "    \"    b.value = \\\"hello\\\" #add a value to the btn, \\\"hello\\\" \"\r\n",
      "   ]\r\n",
      "  },\r\n",
      "  {\r\n",
      "   \"cell_type\": \"code\",\r\n",
      "   \"execution_count\": 38,\r\n",
      "   \"id\": \"9e769fb6\",\r\n",
      "   \"metadata\": {\r\n",
      "    \"hidden\": true\r\n",
      "   },\r\n",
      "   \"outputs\": [],\r\n",
      "   \"source\": [\r\n",
      "    \"btn.on_click(testFunction)\"\r\n",
      "   ]\r\n",
      "  },\r\n",
      "  {\r\n",
      "   \"cell_type\": \"code\",\r\n",
      "   \"execution_count\": null,\r\n",
      "   \"id\": \"45408806\",\r\n",
      "   \"metadata\": {\r\n",
      "    \"hidden\": true\r\n",
      "   },\r\n",
      "   \"outputs\": [],\r\n",
      "   \"source\": [\r\n",
      "    \"#when running, include print string \\\"this is your UUID\\\" \"\r\n",
      "   ]\r\n",
      "  },\r\n",
      "  {\r\n",
      "   \"cell_type\": \"code\",\r\n",
      "   \"execution_count\": null,\r\n",
      "   \"id\": \"43afc467\",\r\n",
      "   \"metadata\": {\r\n",
      "    \"hidden\": true\r\n",
      "   },\r\n",
      "   \"outputs\": [],\r\n",
      "   \"source\": [\r\n",
      "    \"#fancy button\\n\",\r\n",
      "    \"#widgets.Button( \\n\",\r\n",
      "    \"    #icon = \\\"battery-quarter\\\", \\n\",\r\n",
      "    \"    #button_style = \\\"danger\\\", \\n\",\r\n",
      "    \"    #layout= Layout(width = 'auto'),\\n\",\r\n",
      "    \"#)\"\r\n",
      "   ]\r\n",
      "  },\r\n",
      "  {\r\n",
      "   \"cell_type\": \"markdown\",\r\n",
      "   \"id\": \"3d26b432\",\r\n",
      "   \"metadata\": {\r\n",
      "    \"hidden\": true\r\n",
      "   },\r\n",
      "   \"source\": [\r\n",
      "    \"## <font color=\\\"green\\\">Experiment name widget</font>\"\r\n",
      "   ]\r\n",
      "  },\r\n",
      "  {\r\n",
      "   \"cell_type\": \"markdown\",\r\n",
      "   \"id\": \"82cf2dd1\",\r\n",
      "   \"metadata\": {\r\n",
      "    \"hidden\": true\r\n",
      "   },\r\n",
      "   \"source\": [\r\n",
      "    \"Create a text box where use inputs the experiment name\"\r\n",
      "   ]\r\n",
      "  },\r\n",
      "  {\r\n",
      "   \"cell_type\": \"code\",\r\n",
      "   \"execution_count\": 39,\r\n",
      "   \"id\": \"00cdd9e3\",\r\n",
      "   \"metadata\": {\r\n",
      "    \"hidden\": true\r\n",
      "   },\r\n",
      "   \"outputs\": [],\r\n",
      "   \"source\": [\r\n",
      "    \"#Experiment name \\n\",\r\n",
      "    \"#program requests user input \\n\",\r\n",
      "    \"#user inputs experiment name \\n\",\r\n",
      "    \"exp_name = ipw.Text(\\n\",\r\n",
      "    \"    #value = input ('Experiment Name: '), #program waiting for the user to input data before moving on  \\n\",\r\n",
      "    \"    placeholder = 'Enter experiment name',\\n\",\r\n",
      "    \"    description = 'Name: ',\\n\",\r\n",
      "    \"    disabled = False,\\n\",\r\n",
      "    \")\"\r\n",
      "   ]\r\n",
      "  },\r\n",
      "  {\r\n",
      "   \"cell_type\": \"code\",\r\n",
      "   \"execution_count\": 40,\r\n",
      "   \"id\": \"76e14316\",\r\n",
      "   \"metadata\": {\r\n",
      "    \"hidden\": true\r\n",
      "   },\r\n",
      "   \"outputs\": [\r\n",
      "    {\r\n",
      "     \"data\": {\r\n",
      "      \"application/vnd.jupyter.widget-view+json\": {\r\n",
      "       \"model_id\": \"4370d8cb87af412f9be9bcafdb17af02\",\r\n",
      "       \"version_major\": 2,\r\n",
      "       \"version_minor\": 0\r\n",
      "      },\r\n",
      "      \"text/plain\": [\r\n",
      "       \"Text(value='', description='Name: ', placeholder='Enter experiment name')\"\r\n",
      "      ]\r\n",
      "     },\r\n",
      "     \"metadata\": {},\r\n",
      "     \"output_type\": \"display_data\"\r\n",
      "    }\r\n",
      "   ],\r\n",
      "   \"source\": [\r\n",
      "    \"exp_name \"\r\n",
      "   ]\r\n",
      "  },\r\n",
      "  {\r\n",
      "   \"cell_type\": \"markdown\",\r\n",
      "   \"id\": \"f18197a2\",\r\n",
      "   \"metadata\": {\r\n",
      "    \"hidden\": true\r\n",
      "   },\r\n",
      "   \"source\": [\r\n",
      "    \"## <font color=\\\"green\\\">Date widget\"\r\n",
      "   ]\r\n",
      "  },\r\n",
      "  {\r\n",
      "   \"cell_type\": \"markdown\",\r\n",
      "   \"id\": \"8f5428ba\",\r\n",
      "   \"metadata\": {\r\n",
      "    \"hidden\": true\r\n",
      "   },\r\n",
      "   \"source\": [\r\n",
      "    \"use the [date picker widget](https://ipywidgets.readthedocs.io/en/latest/examples/Widget%20List.html#Date-picker) to create a tool where user selects the date. Figure out how to then extract the date information from the widget in string format so that it can be used later.\"\r\n",
      "   ]\r\n",
      "  },\r\n",
      "  {\r\n",
      "   \"cell_type\": \"markdown\",\r\n",
      "   \"id\": \"e29c69e2\",\r\n",
      "   \"metadata\": {\r\n",
      "    \"hidden\": true\r\n",
      "   },\r\n",
      "   \"source\": [\r\n",
      "    \"First number sequence is date of experiment \\n\",\r\n",
      "    \"    \\n\",\r\n",
      "    \"    [year-month-day]\\n\"\r\n",
      "   ]\r\n",
      "  },\r\n",
      "  {\r\n",
      "   \"cell_type\": \"code\",\r\n",
      "   \"execution_count\": 41,\r\n",
      "   \"id\": \"bebf513c\",\r\n",
      "   \"metadata\": {\r\n",
      "    \"hidden\": true\r\n",
      "   },\r\n",
      "   \"outputs\": [],\r\n",
      "   \"source\": [\r\n",
      "    \"#Experiment date\\n\",\r\n",
      "    \"#widget does not work on safari \\n\",\r\n",
      "    \"#user picks date of experiment \\n\",\r\n",
      "    \"exp_date = widgets.DatePicker(\\n\",\r\n",
      "    \"    description = 'Exp. Date:', #exp. equates experiment \\n\",\r\n",
      "    \"    disabled = False\\n\",\r\n",
      "    \")\"\r\n",
      "   ]\r\n",
      "  },\r\n",
      "  {\r\n",
      "   \"cell_type\": \"code\",\r\n",
      "   \"execution_count\": 42,\r\n",
      "   \"id\": \"a0691230\",\r\n",
      "   \"metadata\": {\r\n",
      "    \"hidden\": true\r\n",
      "   },\r\n",
      "   \"outputs\": [\r\n",
      "    {\r\n",
      "     \"data\": {\r\n",
      "      \"application/vnd.jupyter.widget-view+json\": {\r\n",
      "       \"model_id\": \"b9f7798e4e5d4c0fa9e6c991622f89d1\",\r\n",
      "       \"version_major\": 2,\r\n",
      "       \"version_minor\": 0\r\n",
      "      },\r\n",
      "      \"text/plain\": [\r\n",
      "       \"DatePicker(value=None, description='Exp. Date:')\"\r\n",
      "      ]\r\n",
      "     },\r\n",
      "     \"metadata\": {},\r\n",
      "     \"output_type\": \"display_data\"\r\n",
      "    }\r\n",
      "   ],\r\n",
      "   \"source\": [\r\n",
      "    \"exp_date \"\r\n",
      "   ]\r\n",
      "  },\r\n",
      "  {\r\n",
      "   \"cell_type\": \"markdown\",\r\n",
      "   \"id\": \"5f66a40b\",\r\n",
      "   \"metadata\": {\r\n",
      "    \"hidden\": true\r\n",
      "   },\r\n",
      "   \"source\": [\r\n",
      "    \"Code for debugging\"\r\n",
      "   ]\r\n",
      "  },\r\n",
      "  {\r\n",
      "   \"cell_type\": \"code\",\r\n",
      "   \"execution_count\": 43,\r\n",
      "   \"id\": \"60ec4d1d\",\r\n",
      "   \"metadata\": {\r\n",
      "    \"hidden\": true\r\n",
      "   },\r\n",
      "   \"outputs\": [\r\n",
      "    {\r\n",
      "     \"data\": {\r\n",
      "      \"text/plain\": [\r\n",
      "       \"'None'\"\r\n",
      "      ]\r\n",
      "     },\r\n",
      "     \"execution_count\": 43,\r\n",
      "     \"metadata\": {},\r\n",
      "     \"output_type\": \"execute_result\"\r\n",
      "    }\r\n",
      "   ],\r\n",
      "   \"source\": [\r\n",
      "    \"#turn 'experiment date' into a string\\n\",\r\n",
      "    \"exp_date.value\\n\",\r\n",
      "    \"\\n\",\r\n",
      "    \"myDate = exp_date.value\\n\",\r\n",
      "    \"str(myDate)\\n\",\r\n",
      "    \"expUploader.dateUUID = str(myDate)\\n\",\r\n",
      "    \"expUploader.dateUUID\"\r\n",
      "   ]\r\n",
      "  },\r\n",
      "  {\r\n",
      "   \"cell_type\": \"markdown\",\r\n",
      "   \"id\": \"36b6ee12\",\r\n",
      "   \"metadata\": {\r\n",
      "    \"hidden\": true\r\n",
      "   },\r\n",
      "   \"source\": [\r\n",
      "    \"## <font color=\\\"green\\\">Experiment type widget\"\r\n",
      "   ]\r\n",
      "  },\r\n",
      "  {\r\n",
      "   \"cell_type\": \"markdown\",\r\n",
      "   \"id\": \"1d14a9a6\",\r\n",
      "   \"metadata\": {\r\n",
      "    \"hidden\": true\r\n",
      "   },\r\n",
      "   \"source\": [\r\n",
      "    \"Use a dropdown widget where the user can select the experiment type\"\r\n",
      "   ]\r\n",
      "  },\r\n",
      "  {\r\n",
      "   \"cell_type\": \"markdown\",\r\n",
      "   \"id\": \"a90ede24\",\r\n",
      "   \"metadata\": {\r\n",
      "    \"hidden\": true\r\n",
      "   },\r\n",
      "   \"source\": [\r\n",
      "    \"Middle letter is type of experiment: \\n\",\r\n",
      "    \"        \\n\",\r\n",
      "    \"        ephys (e), fluidics (f), imaging (i), calcium (c), patch clamp (p)?\"\r\n",
      "   ]\r\n",
      "  },\r\n",
      "  {\r\n",
      "   \"cell_type\": \"code\",\r\n",
      "   \"execution_count\": 44,\r\n",
      "   \"id\": \"0a716b01\",\r\n",
      "   \"metadata\": {\r\n",
      "    \"hidden\": true\r\n",
      "   },\r\n",
      "   \"outputs\": [],\r\n",
      "   \"source\": [\r\n",
      "    \"#Experiment type\\n\",\r\n",
      "    \"#program displays options in a dropdown\\n\",\r\n",
      "    \"exp_type = ipw.Dropdown(\\n\",\r\n",
      "    \"    options = [('Calcium','c'), ('Ephys','e'), ('Fluidics','f'), ('Imagingi','i'), ('MEA','m'), ('Patch Clamp','p')],\\n\",\r\n",
      "    \"    #value = string, ???  \\n\",\r\n",
      "    \"    description = 'Type:',\\n\",\r\n",
      "    \"    disabled = False, \\n\",\r\n",
      "    \") \"\r\n",
      "   ]\r\n",
      "  },\r\n",
      "  {\r\n",
      "   \"cell_type\": \"code\",\r\n",
      "   \"execution_count\": 45,\r\n",
      "   \"id\": \"ef0ac94b\",\r\n",
      "   \"metadata\": {\r\n",
      "    \"hidden\": true\r\n",
      "   },\r\n",
      "   \"outputs\": [\r\n",
      "    {\r\n",
      "     \"data\": {\r\n",
      "      \"application/vnd.jupyter.widget-view+json\": {\r\n",
      "       \"model_id\": \"13328f1f32484b258656ba7787ec6bfb\",\r\n",
      "       \"version_major\": 2,\r\n",
      "       \"version_minor\": 0\r\n",
      "      },\r\n",
      "      \"text/plain\": [\r\n",
      "       \"Dropdown(description='Type:', options=(('Calcium', 'c'), ('Ephys', 'e'), ('Fluidics', 'f'), ('Imagingi', 'i'),…\"\r\n",
      "      ]\r\n",
      "     },\r\n",
      "     \"metadata\": {},\r\n",
      "     \"output_type\": \"display_data\"\r\n",
      "    }\r\n",
      "   ],\r\n",
      "   \"source\": [\r\n",
      "    \"exp_type\"\r\n",
      "   ]\r\n",
      "  },\r\n",
      "  {\r\n",
      "   \"cell_type\": \"code\",\r\n",
      "   \"execution_count\": 46,\r\n",
      "   \"id\": \"ea283cf1\",\r\n",
      "   \"metadata\": {\r\n",
      "    \"hidden\": true\r\n",
      "   },\r\n",
      "   \"outputs\": [],\r\n",
      "   \"source\": [\r\n",
      "    \"#electrode options\\n\",\r\n",
      "    \"e_type = ipw.Dropdown(\\n\",\r\n",
      "    \"    options = [('MEA', 'm'), ('Axion', 'a'), ('SeaMoss', 's'), ('Roberts', 'r')],  \\n\",\r\n",
      "    \"    description = 'Type:',\\n\",\r\n",
      "    \"    disabled = False, \\n\",\r\n",
      "    \")\"\r\n",
      "   ]\r\n",
      "  },\r\n",
      "  {\r\n",
      "   \"cell_type\": \"code\",\r\n",
      "   \"execution_count\": 47,\r\n",
      "   \"id\": \"15694ca5\",\r\n",
      "   \"metadata\": {\r\n",
      "    \"hidden\": true\r\n",
      "   },\r\n",
      "   \"outputs\": [\r\n",
      "    {\r\n",
      "     \"data\": {\r\n",
      "      \"application/vnd.jupyter.widget-view+json\": {\r\n",
      "       \"model_id\": \"643b29fc39e44e438370fd452855c8eb\",\r\n",
      "       \"version_major\": 2,\r\n",
      "       \"version_minor\": 0\r\n",
      "      },\r\n",
      "      \"text/plain\": [\r\n",
      "       \"Dropdown(description='Type:', options=(('MEA', 'm'), ('Axion', 'a'), ('SeaMoss', 's'), ('Roberts', 'r')), valu…\"\r\n",
      "      ]\r\n",
      "     },\r\n",
      "     \"metadata\": {},\r\n",
      "     \"output_type\": \"display_data\"\r\n",
      "    }\r\n",
      "   ],\r\n",
      "   \"source\": [\r\n",
      "    \"e_type\"\r\n",
      "   ]\r\n",
      "  },\r\n",
      "  {\r\n",
      "   \"cell_type\": \"markdown\",\r\n",
      "   \"id\": \"dd4d6a39\",\r\n",
      "   \"metadata\": {\r\n",
      "    \"hidden\": true\r\n",
      "   },\r\n",
      "   \"source\": [\r\n",
      "    \"### Imaging indicator options\"\r\n",
      "   ]\r\n",
      "  },\r\n",
      "  {\r\n",
      "   \"cell_type\": \"code\",\r\n",
      "   \"execution_count\": 48,\r\n",
      "   \"id\": \"83c6b80c\",\r\n",
      "   \"metadata\": {\r\n",
      "    \"hidden\": true\r\n",
      "   },\r\n",
      "   \"outputs\": [],\r\n",
      "   \"source\": [\r\n",
      "    \"#imaging indicator options\\n\",\r\n",
      "    \"#place holders for now, need to ask jess about which indicators she prefers\\n\",\r\n",
      "    \"#add markdown headings for each widgets \\n\",\r\n",
      "    \"im_type = ipw.Dropdown(\\n\",\r\n",
      "    \"    options = ['ca2+', 'eGFP', 'k+'],  \\n\",\r\n",
      "    \"    description = 'Type:',\\n\",\r\n",
      "    \"    disabled = False, \\n\",\r\n",
      "    \")\"\r\n",
      "   ]\r\n",
      "  },\r\n",
      "  {\r\n",
      "   \"cell_type\": \"code\",\r\n",
      "   \"execution_count\": 49,\r\n",
      "   \"id\": \"1282b6cf\",\r\n",
      "   \"metadata\": {\r\n",
      "    \"hidden\": true\r\n",
      "   },\r\n",
      "   \"outputs\": [\r\n",
      "    {\r\n",
      "     \"data\": {\r\n",
      "      \"application/vnd.jupyter.widget-view+json\": {\r\n",
      "       \"model_id\": \"6cda62720fd14fc685a1ca5ac187f2c8\",\r\n",
      "       \"version_major\": 2,\r\n",
      "       \"version_minor\": 0\r\n",
      "      },\r\n",
      "      \"text/plain\": [\r\n",
      "       \"Dropdown(description='Type:', options=('ca2+', 'eGFP', 'k+'), value='ca2+')\"\r\n",
      "      ]\r\n",
      "     },\r\n",
      "     \"metadata\": {},\r\n",
      "     \"output_type\": \"display_data\"\r\n",
      "    }\r\n",
      "   ],\r\n",
      "   \"source\": [\r\n",
      "    \"im_type\"\r\n",
      "   ]\r\n",
      "  },\r\n",
      "  {\r\n",
      "   \"cell_type\": \"code\",\r\n",
      "   \"execution_count\": 50,\r\n",
      "   \"id\": \"90c952b5\",\r\n",
      "   \"metadata\": {\r\n",
      "    \"hidden\": true\r\n",
      "   },\r\n",
      "   \"outputs\": [],\r\n",
      "   \"source\": [\r\n",
      "    \"#cell clamping \\n\",\r\n",
      "    \"c_type = ipw.Dropdown(\\n\",\r\n",
      "    \"    options = ['Patch clamp', 'whole cell', 'micromanipulator'],  \\n\",\r\n",
      "    \"    description = 'Clamp type:',\\n\",\r\n",
      "    \"    disabled = False, \\n\",\r\n",
      "    \")\"\r\n",
      "   ]\r\n",
      "  },\r\n",
      "  {\r\n",
      "   \"cell_type\": \"code\",\r\n",
      "   \"execution_count\": 51,\r\n",
      "   \"id\": \"f7b0e3ac\",\r\n",
      "   \"metadata\": {\r\n",
      "    \"hidden\": true\r\n",
      "   },\r\n",
      "   \"outputs\": [\r\n",
      "    {\r\n",
      "     \"data\": {\r\n",
      "      \"application/vnd.jupyter.widget-view+json\": {\r\n",
      "       \"model_id\": \"d286cd50c8d54b09813013fcadc01861\",\r\n",
      "       \"version_major\": 2,\r\n",
      "       \"version_minor\": 0\r\n",
      "      },\r\n",
      "      \"text/plain\": [\r\n",
      "       \"Dropdown(description='Clamp type:', options=('Patch clamp', 'whole cell', 'micromanipulator'), value='Patch cl…\"\r\n",
      "      ]\r\n",
      "     },\r\n",
      "     \"metadata\": {},\r\n",
      "     \"output_type\": \"display_data\"\r\n",
      "    }\r\n",
      "   ],\r\n",
      "   \"source\": [\r\n",
      "    \"c_type\"\r\n",
      "   ]\r\n",
      "  },\r\n",
      "  {\r\n",
      "   \"cell_type\": \"markdown\",\r\n",
      "   \"id\": \"701a578a\",\r\n",
      "   \"metadata\": {\r\n",
      "    \"hidden\": true\r\n",
      "   },\r\n",
      "   \"source\": [\r\n",
      "    \"## <font color=\\\"green\\\">'Create UUID' button\"\r\n",
      "   ]\r\n",
      "  },\r\n",
      "  {\r\n",
      "   \"cell_type\": \"markdown\",\r\n",
      "   \"id\": \"85a48d29\",\r\n",
      "   \"metadata\": {\r\n",
      "    \"hidden\": true\r\n",
      "   },\r\n",
      "   \"source\": [\r\n",
      "    \"Create a button that when clicked runs a function that creates the correctly formatted UUID and prints it.\"\r\n",
      "   ]\r\n",
      "  },\r\n",
      "  {\r\n",
      "   \"cell_type\": \"code\",\r\n",
      "   \"execution_count\": 52,\r\n",
      "   \"id\": \"c568103f\",\r\n",
      "   \"metadata\": {\r\n",
      "    \"hidden\": true\r\n",
      "   },\r\n",
      "   \"outputs\": [],\r\n",
      "   \"source\": [\r\n",
      "    \"#UUID button\\n\",\r\n",
      "    \"#from widgets page\\n\",\r\n",
      "    \"#rename button\\n\",\r\n",
      "    \"uuid_button = widgets.Button(\\n\",\r\n",
      "    \"    description = 'Create UUID',\\n\",\r\n",
      "    \"    disabled = False, \\n\",\r\n",
      "    \"    button_style = '', #UUID format YYYY-MM-DD-experiment type-experiment shorthand\\n\",\r\n",
      "    \"    tooltip = 'UUID format: YYYY-MM-DD- experiment type - experiment shorthand', #message that appears when user hovers over button \\n\",\r\n",
      "    \"    icon = '',\\n\",\r\n",
      "    \")\"\r\n",
      "   ]\r\n",
      "  },\r\n",
      "  {\r\n",
      "   \"cell_type\": \"code\",\r\n",
      "   \"execution_count\": 53,\r\n",
      "   \"id\": \"b894ebc1\",\r\n",
      "   \"metadata\": {\r\n",
      "    \"hidden\": true\r\n",
      "   },\r\n",
      "   \"outputs\": [\r\n",
      "    {\r\n",
      "     \"data\": {\r\n",
      "      \"application/vnd.jupyter.widget-view+json\": {\r\n",
      "       \"model_id\": \"efe4e93b6f8644dcb07b98f3fbbfd078\",\r\n",
      "       \"version_major\": 2,\r\n",
      "       \"version_minor\": 0\r\n",
      "      },\r\n",
      "      \"text/plain\": [\r\n",
      "       \"Button(description='Create UUID', style=ButtonStyle(), tooltip='UUID format: YYYY-MM-DD- experiment type - exp…\"\r\n",
      "      ]\r\n",
      "     },\r\n",
      "     \"metadata\": {},\r\n",
      "     \"output_type\": \"display_data\"\r\n",
      "    },\r\n",
      "    {\r\n",
      "     \"name\": \"stdout\",\r\n",
      "     \"output_type\": \"stream\",\r\n",
      "     \"text\": [\r\n",
      "      \"UUID: None-c-\\n\",\r\n",
      "      \"UUID: None-c-\\n\"\r\n",
      "     ]\r\n",
      "    }\r\n",
      "   ],\r\n",
      "   \"source\": [\r\n",
      "    \"uuid_button\"\r\n",
      "   ]\r\n",
      "  },\r\n",
      "  {\r\n",
      "   \"cell_type\": \"markdown\",\r\n",
      "   \"id\": \"written-arrest\",\r\n",
      "   \"metadata\": {\r\n",
      "    \"hidden\": true\r\n",
      "   },\r\n",
      "   \"source\": [\r\n",
      "    \"## <font color=\\\"blue\\\"> getUUID function\"\r\n",
      "   ]\r\n",
      "  },\r\n",
      "  {\r\n",
      "   \"cell_type\": \"markdown\",\r\n",
      "   \"id\": \"f3d25f02\",\r\n",
      "   \"metadata\": {\r\n",
      "    \"hidden\": true\r\n",
      "   },\r\n",
      "   \"source\": [\r\n",
      "    \"Create a function called <font color=\\\"blue\\\"> getUUID function</font> which will run when the <font color=\\\"green\\\">Go Button widget</font> is clicked. This function will extract the necessary information from the widgets that were created and then format to save the resulting output into a variable called `UUID`\"\r\n",
      "   ]\r\n",
      "  },\r\n",
      "  {\r\n",
      "   \"cell_type\": \"code\",\r\n",
      "   \"execution_count\": 54,\r\n",
      "   \"id\": \"a5f4b03f\",\r\n",
      "   \"metadata\": {\r\n",
      "    \"hidden\": true\r\n",
      "   },\r\n",
      "   \"outputs\": [],\r\n",
      "   \"source\": [\r\n",
      "    \"#assign value and save \\n\",\r\n",
      "    \"#every time you add function refresh the button in the cells above \\n\",\r\n",
      "    \"#would it be better to include the paramteres in the expUploader class instead?\\n\",\r\n",
      "    \"import ipywidgets as ipw\\n\",\r\n",
      "    \"\\n\",\r\n",
      "    \"import ipywidgets as widgets \\n\",\r\n",
      "    \"\\n\",\r\n",
      "    \"from ipywidgets import interact, interactive, fixed, interact_manual\\n\",\r\n",
      "    \"\\n\",\r\n",
      "    \"from IPython.core.display import HTML, display, Javascript, clear_output\\n\",\r\n",
      "    \"\\n\",\r\n",
      "    \"def makeUUID(b):\\n\",\r\n",
      "    \"    expUploader.date = str(exp_date.value) #accessing widget value\\n\",\r\n",
      "    \"    expUploader.type = str(exp_type.value)\\n\",\r\n",
      "    \"    expUploader.name = exp_name.value\\n\",\r\n",
      "    \"    #print('UUID: {}'.format(expUploader.date),'{}'.format(expUploader.type),'{}'.format(expUploader.name))\\n\",\r\n",
      "    \"    expUploader.uuid = expUploader.date +\\\"-\\\"+expUploader.type+\\\"-\\\"+expUploader.name\\n\",\r\n",
      "    \"    print(\\\"UUID: {}\\\".format(expUploader.uuid))\\n\",\r\n",
      "    \"    #take everything from widgets to grab the widget values to produce UUID in correct format, then save and print for user\\n\",\r\n",
      "    \"    \\n\",\r\n",
      "    \"uuid_button.on_click(makeUUID)\"\r\n",
      "   ]\r\n",
      "  },\r\n",
      "  {\r\n",
      "   \"cell_type\": \"markdown\",\r\n",
      "   \"id\": \"0e514828\",\r\n",
      "   \"metadata\": {\r\n",
      "    \"hidden\": true\r\n",
      "   },\r\n",
      "   \"source\": [\r\n",
      "    \"### <font color='red'>To Do\"\r\n",
      "   ]\r\n",
      "  },\r\n",
      "  {\r\n",
      "   \"cell_type\": \"markdown\",\r\n",
      "   \"id\": \"c9761103\",\r\n",
      "   \"metadata\": {\r\n",
      "    \"hidden\": true\r\n",
      "   },\r\n",
      "   \"source\": [\r\n",
      "    \"want experiment uploader uuid to have a variable called UUID which is the actual uuid name to use for file upload: `expUploader.UUID`\"\r\n",
      "   ]\r\n",
      "  },\r\n",
      "  {\r\n",
      "   \"cell_type\": \"markdown\",\r\n",
      "   \"id\": \"7da73e6d\",\r\n",
      "   \"metadata\": {\r\n",
      "    \"hidden\": true\r\n",
      "   },\r\n",
      "   \"source\": [\r\n",
      "    \"figure out how to concatinate variables for this\"\r\n",
      "   ]\r\n",
      "  },\r\n",
      "  {\r\n",
      "   \"cell_type\": \"markdown\",\r\n",
      "   \"id\": \"4ad09cf1\",\r\n",
      "   \"metadata\": {\r\n",
      "    \"hidden\": true\r\n",
      "   },\r\n",
      "   \"source\": [\r\n",
      "    \"## <font color=\\\"orchid\\\"> Create UUID Box\"\r\n",
      "   ]\r\n",
      "  },\r\n",
      "  {\r\n",
      "   \"cell_type\": \"markdown\",\r\n",
      "   \"id\": \"d4baf3d7\",\r\n",
      "   \"metadata\": {\r\n",
      "    \"hidden\": true\r\n",
      "   },\r\n",
      "   \"source\": [\r\n",
      "    \"Collect all of the <font color=\\\"green\\\">widgets</font> that you created in this section and put them into a single <font color=\\\"orchid\\\">widget box</font>. Make sure that all the widgets look nicely formatted.\"\r\n",
      "   ]\r\n",
      "  },\r\n",
      "  {\r\n",
      "   \"cell_type\": \"code\",\r\n",
      "   \"execution_count\": null,\r\n",
      "   \"id\": \"9c8581d1\",\r\n",
      "   \"metadata\": {\r\n",
      "    \"hidden\": true\r\n",
      "   },\r\n",
      "   \"outputs\": [],\r\n",
      "   \"source\": [\r\n",
      "    \"#UUID format \\n\",\r\n",
      "    \"#YYYY-MM-DD-ET-ESH\\n\",\r\n",
      "    \"#ET = experiment type\\n\",\r\n",
      "    \"#ESH = experiment shorthand \"\r\n",
      "   ]\r\n",
      "  },\r\n",
      "  {\r\n",
      "   \"cell_type\": \"markdown\",\r\n",
      "   \"id\": \"7da6f034\",\r\n",
      "   \"metadata\": {\r\n",
      "    \"hidden\": true\r\n",
      "   },\r\n",
      "   \"source\": [\r\n",
      "    \"format `uuid_button` widget\"\r\n",
      "   ]\r\n",
      "  },\r\n",
      "  {\r\n",
      "   \"cell_type\": \"code\",\r\n",
      "   \"execution_count\": 61,\r\n",
      "   \"id\": \"ac6523cf\",\r\n",
      "   \"metadata\": {\r\n",
      "    \"hidden\": true\r\n",
      "   },\r\n",
      "   \"outputs\": [],\r\n",
      "   \"source\": [\r\n",
      "    \"#Hbox arranages multiple widgets horizontally \\n\",\r\n",
      "    \"uuid_button_box = ipw.HBox([uuid_button]) #arrange uuid_button horizontally in a \\\"box\\\" \\n\",\r\n",
      "    \"uuid_button_box.layout.justify_content = \\\"center\\\" #center the \\\"box\\\"\"\r\n",
      "   ]\r\n",
      "  },\r\n",
      "  {\r\n",
      "   \"cell_type\": \"code\",\r\n",
      "   \"execution_count\": 59,\r\n",
      "   \"id\": \"b2f16407\",\r\n",
      "   \"metadata\": {\r\n",
      "    \"hidden\": true\r\n",
      "   },\r\n",
      "   \"outputs\": [\r\n",
      "    {\r\n",
      "     \"data\": {\r\n",
      "      \"application/vnd.jupyter.widget-view+json\": {\r\n",
      "       \"model_id\": \"c404dcd38e1841e6993333d18bb5272d\",\r\n",
      "       \"version_major\": 2,\r\n",
      "       \"version_minor\": 0\r\n",
      "      },\r\n",
      "      \"text/plain\": [\r\n",
      "       \"HTML(value=\\\"<h3 class = 'text-center'><font color='orchid'>createUUID</font>\\\")\"\r\n",
      "      ]\r\n",
      "     },\r\n",
      "     \"metadata\": {},\r\n",
      "     \"output_type\": \"display_data\"\r\n",
      "    }\r\n",
      "   ],\r\n",
      "   \"source\": [\r\n",
      "    \"#UUID button user description \\n\",\r\n",
      "    \"uuid_title= ipw.HTML(\\\"<h3 class = 'text-center'><font color='orchid'>createUUID</font>\\\") #create title for the uuid button box\\n\",\r\n",
      "    \"uuid_title\"\r\n",
      "   ]\r\n",
      "  },\r\n",
      "  {\r\n",
      "   \"cell_type\": \"code\",\r\n",
      "   \"execution_count\": 57,\r\n",
      "   \"id\": \"a64628f2\",\r\n",
      "   \"metadata\": {\r\n",
      "    \"hidden\": true,\r\n",
      "    \"slideshow\": {\r\n",
      "     \"slide_type\": \"slide\"\r\n",
      "    }\r\n",
      "   },\r\n",
      "   \"outputs\": [\r\n",
      "    {\r\n",
      "     \"data\": {\r\n",
      "      \"application/vnd.jupyter.widget-view+json\": {\r\n",
      "       \"model_id\": \"5dd52896ff41408aae3613c114998af4\",\r\n",
      "       \"version_major\": 2,\r\n",
      "       \"version_minor\": 0\r\n",
      "      },\r\n",
      "      \"text/plain\": [\r\n",
      "       \"HBox(children=(DatePicker(value=None, description='Exp. Date:'), Dropdown(description='Type:', options=(('Calc…\"\r\n",
      "      ]\r\n",
      "     },\r\n",
      "     \"metadata\": {},\r\n",
      "     \"output_type\": \"display_data\"\r\n",
      "    }\r\n",
      "   ],\r\n",
      "   \"source\": [\r\n",
      "    \"#use HBOX to put widgets in a row \\n\",\r\n",
      "    \"uuid_row = ipw.HBox([exp_date, exp_type, exp_name]) #\\n\",\r\n",
      "    \"uuid_row\"\r\n",
      "   ]\r\n",
      "  },\r\n",
      "  {\r\n",
      "   \"cell_type\": \"code\",\r\n",
      "   \"execution_count\": null,\r\n",
      "   \"id\": \"a3aa2991\",\r\n",
      "   \"metadata\": {\r\n",
      "    \"hidden\": true\r\n",
      "   },\r\n",
      "   \"outputs\": [],\r\n",
      "   \"source\": []\r\n",
      "  },\r\n",
      "  {\r\n",
      "   \"cell_type\": \"code\",\r\n",
      "   \"execution_count\": null,\r\n",
      "   \"id\": \"71777e10\",\r\n",
      "   \"metadata\": {\r\n",
      "    \"hidden\": true\r\n",
      "   },\r\n",
      "   \"outputs\": [],\r\n",
      "   \"source\": []\r\n",
      "  },\r\n",
      "  {\r\n",
      "   \"cell_type\": \"code\",\r\n",
      "   \"execution_count\": null,\r\n",
      "   \"id\": \"28b5ae29\",\r\n",
      "   \"metadata\": {\r\n",
      "    \"hidden\": true\r\n",
      "   },\r\n",
      "   \"outputs\": [],\r\n",
      "   \"source\": []\r\n",
      "  },\r\n",
      "  {\r\n",
      "   \"cell_type\": \"code\",\r\n",
      "   \"execution_count\": 62,\r\n",
      "   \"id\": \"a8a69c02\",\r\n",
      "   \"metadata\": {\r\n",
      "    \"hidden\": true\r\n",
      "   },\r\n",
      "   \"outputs\": [\r\n",
      "    {\r\n",
      "     \"data\": {\r\n",
      "      \"application/vnd.jupyter.widget-view+json\": {\r\n",
      "       \"model_id\": \"2c39465a1b4148358268de5544d6f30d\",\r\n",
      "       \"version_major\": 2,\r\n",
      "       \"version_minor\": 0\r\n",
      "      },\r\n",
      "      \"text/plain\": [\r\n",
      "       \"Box(children=(Button(button_style='danger', description='correct', layout=Layout(width='auto'), style=ButtonSt…\"\r\n",
      "      ]\r\n",
      "     },\r\n",
      "     \"metadata\": {},\r\n",
      "     \"output_type\": \"display_data\"\r\n",
      "    }\r\n",
      "   ],\r\n",
      "   \"source\": [\r\n",
      "    \"#vbox example\\n\",\r\n",
      "    \"from ipywidgets import Layout, Button, Box\\n\",\r\n",
      "    \"\\n\",\r\n",
      "    \"items_layout = Layout( width='auto')     # override the default width of the button to 'auto' to let the button grow\\n\",\r\n",
      "    \"\\n\",\r\n",
      "    \"box_layout = Layout(display='flex',\\n\",\r\n",
      "    \"                    flex_flow='column',\\n\",\r\n",
      "    \"                    align_items='stretch',\\n\",\r\n",
      "    \"                    border='solid',\\n\",\r\n",
      "    \"                    width='50%')\\n\",\r\n",
      "    \"\\n\",\r\n",
      "    \"words = ['correct', 'horse', 'battery', 'staple']\\n\",\r\n",
      "    \"items = [Button(description=word, layout=items_layout, button_style='danger') for word in words]\\n\",\r\n",
      "    \"box = Box(children=items, layout=box_layout)\\n\",\r\n",
      "    \"box\"\r\n",
      "   ]\r\n",
      "  },\r\n",
      "  {\r\n",
      "   \"cell_type\": \"code\",\r\n",
      "   \"execution_count\": null,\r\n",
      "   \"id\": \"51763e51\",\r\n",
      "   \"metadata\": {\r\n",
      "    \"hidden\": true\r\n",
      "   },\r\n",
      "   \"outputs\": [],\r\n",
      "   \"source\": []\r\n",
      "  },\r\n",
      "  {\r\n",
      "   \"cell_type\": \"code\",\r\n",
      "   \"execution_count\": null,\r\n",
      "   \"id\": \"92380354\",\r\n",
      "   \"metadata\": {\r\n",
      "    \"hidden\": true\r\n",
      "   },\r\n",
      "   \"outputs\": [],\r\n",
      "   \"source\": []\r\n",
      "  },\r\n",
      "  {\r\n",
      "   \"cell_type\": \"code\",\r\n",
      "   \"execution_count\": 63,\r\n",
      "   \"id\": \"b08c4888\",\r\n",
      "   \"metadata\": {\r\n",
      "    \"hidden\": true\r\n",
      "   },\r\n",
      "   \"outputs\": [\r\n",
      "    {\r\n",
      "     \"data\": {\r\n",
      "      \"application/vnd.jupyter.widget-view+json\": {\r\n",
      "       \"model_id\": \"403c6ccff9f645a1b5f0a7c229a03391\",\r\n",
      "       \"version_major\": 2,\r\n",
      "       \"version_minor\": 0\r\n",
      "      },\r\n",
      "      \"text/plain\": [\r\n",
      "       \"VBox(children=(Box(children=(Button(button_style='danger', description='weight=1; auto', layout=Layout(flex='1…\"\r\n",
      "      ]\r\n",
      "     },\r\n",
      "     \"metadata\": {},\r\n",
      "     \"output_type\": \"display_data\"\r\n",
      "    }\r\n",
      "   ],\r\n",
      "   \"source\": [\r\n",
      "    \"#hbox example\\n\",\r\n",
      "    \"from ipywidgets import Layout, Button, Box, VBox\\n\",\r\n",
      "    \"\\n\",\r\n",
      "    \"# Items flex proportionally to the weight and the left over space around the text\\n\",\r\n",
      "    \"items_auto = [\\n\",\r\n",
      "    \"    Button(description='weight=1; auto', layout=Layout(flex='1 1 auto', width='auto'), button_style='danger'),\\n\",\r\n",
      "    \"    Button(description='weight=3; auto', layout=Layout(flex='3 1 auto', width='auto'), button_style='danger'),\\n\",\r\n",
      "    \"    Button(description='weight=1; auto', layout=Layout(flex='1 1 auto', width='auto'), button_style='danger'),\\n\",\r\n",
      "    \" ]\\n\",\r\n",
      "    \"\\n\",\r\n",
      "    \"# Items flex proportionally to the weight\\n\",\r\n",
      "    \"items_0 = [\\n\",\r\n",
      "    \"    Button(description='weight=1; 0%', layout=Layout(flex='1 1 0%', width='auto'), button_style='danger'),\\n\",\r\n",
      "    \"    Button(description='weight=3; 0%', layout=Layout(flex='3 1 0%', width='auto'), button_style='danger'),\\n\",\r\n",
      "    \"    Button(description='weight=1; 0%', layout=Layout(flex='1 1 0%', width='auto'), button_style='danger'),\\n\",\r\n",
      "    \" ]\\n\",\r\n",
      "    \"box_layout = Layout(display='flex',\\n\",\r\n",
      "    \"                    flex_flow='row',\\n\",\r\n",
      "    \"                    align_items='stretch',\\n\",\r\n",
      "    \"                    width='70%')\\n\",\r\n",
      "    \"box_auto = Box(children=items_auto, layout=box_layout)\\n\",\r\n",
      "    \"box_0 = Box(children=items_0, layout=box_layout)\\n\",\r\n",
      "    \"VBox([box_auto, box_0])\"\r\n",
      "   ]\r\n",
      "  },\r\n",
      "  {\r\n",
      "   \"cell_type\": \"code\",\r\n",
      "   \"execution_count\": null,\r\n",
      "   \"id\": \"f8c0084d\",\r\n",
      "   \"metadata\": {\r\n",
      "    \"hidden\": true\r\n",
      "   },\r\n",
      "   \"outputs\": [],\r\n",
      "   \"source\": []\r\n",
      "  },\r\n",
      "  {\r\n",
      "   \"cell_type\": \"code\",\r\n",
      "   \"execution_count\": null,\r\n",
      "   \"id\": \"e2ffcc59\",\r\n",
      "   \"metadata\": {\r\n",
      "    \"hidden\": true\r\n",
      "   },\r\n",
      "   \"outputs\": [],\r\n",
      "   \"source\": []\r\n",
      "  },\r\n",
      "  {\r\n",
      "   \"cell_type\": \"code\",\r\n",
      "   \"execution_count\": null,\r\n",
      "   \"id\": \"fc8bcd2c\",\r\n",
      "   \"metadata\": {\r\n",
      "    \"hidden\": true\r\n",
      "   },\r\n",
      "   \"outputs\": [],\r\n",
      "   \"source\": []\r\n",
      "  },\r\n",
      "  {\r\n",
      "   \"cell_type\": \"code\",\r\n",
      "   \"execution_count\": 73,\r\n",
      "   \"id\": \"e6f499db\",\r\n",
      "   \"metadata\": {\r\n",
      "    \"cell_style\": \"split\",\r\n",
      "    \"hidden\": true\r\n",
      "   },\r\n",
      "   \"outputs\": [\r\n",
      "    {\r\n",
      "     \"data\": {\r\n",
      "      \"application/vnd.jupyter.widget-view+json\": {\r\n",
      "       \"model_id\": \"434d60e0a8cb4e4590796a81362768fb\",\r\n",
      "       \"version_major\": 2,\r\n",
      "       \"version_minor\": 0\r\n",
      "      },\r\n",
      "      \"text/plain\": [\r\n",
      "       \"VBox(children=(HTML(value=\\\"<h3 class = 'text-center'><font color='orchid'>createUUID</font>\\\", layout=Layout(ju…\"\r\n",
      "      ]\r\n",
      "     },\r\n",
      "     \"metadata\": {},\r\n",
      "     \"output_type\": \"display_data\"\r\n",
      "    }\r\n",
      "   ],\r\n",
      "   \"source\": [\r\n",
      "    \"#uuid button box\\n\",\r\n",
      "    \"uuid = ipw.VBox([uuid_title, uuid_row, uuid_button_box])\\n\",\r\n",
      "    \"uuid.layout.align_items = 'flex-start'\\n\",\r\n",
      "    \"uuid\"\r\n",
      "   ]\r\n",
      "  },\r\n",
      "  {\r\n",
      "   \"cell_type\": \"code\",\r\n",
      "   \"execution_count\": null,\r\n",
      "   \"id\": \"6aa910ab\",\r\n",
      "   \"metadata\": {\r\n",
      "    \"hidden\": true\r\n",
      "   },\r\n",
      "   \"outputs\": [],\r\n",
      "   \"source\": []\r\n",
      "  },\r\n",
      "  {\r\n",
      "   \"cell_type\": \"code\",\r\n",
      "   \"execution_count\": 95,\r\n",
      "   \"id\": \"e9baf460\",\r\n",
      "   \"metadata\": {\r\n",
      "    \"hidden\": true\r\n",
      "   },\r\n",
      "   \"outputs\": [\r\n",
      "    {\r\n",
      "     \"data\": {\r\n",
      "      \"application/vnd.jupyter.widget-view+json\": {\r\n",
      "       \"model_id\": \"d7723db00e744eeaa90965d5e80c7a27\",\r\n",
      "       \"version_major\": 2,\r\n",
      "       \"version_minor\": 0\r\n",
      "      },\r\n",
      "      \"text/plain\": [\r\n",
      "       \"VBox(children=(HTML(value=\\\"<h3 class = 'text-large'><font color='orchid'>createUUID</font>\\\"), HBox(children=(D…\"\r\n",
      "      ]\r\n",
      "     },\r\n",
      "     \"metadata\": {},\r\n",
      "     \"output_type\": \"display_data\"\r\n",
      "    }\r\n",
      "   ],\r\n",
      "   \"source\": [\r\n",
      "    \"from ipywidgets import Layout, Button, Box, HBox, VBox\\n\",\r\n",
      "    \"\\n\",\r\n",
      "    \"\\n\",\r\n",
      "    \"uuid_button_box = ipw.HBox([uuid_button]) #arrange uuid_button horizontally in a \\\"box\\\" \\n\",\r\n",
      "    \"#uuid_button_box.layout.justify_content = 'center' #center the \\\"box\\\" title\\n\",\r\n",
      "    \"uuid_title= ipw.HTML(\\\"<h3 class = 'text-large'><font color='orchid'>createUUID</font>\\\") #create title for the uuid button box\\n\",\r\n",
      "    \"uuid_row = ipw.HBox([exp_date, exp_type, exp_name]) #arrange experimental widgets horizontally\\n\",\r\n",
      "    \"#uuid_row.layout.justify_content = 'center'\\n\",\r\n",
      "    \"uuid = ipw.VBox([uuid_title, uuid_row, uuid_button_box]) #arrange the uuid button box, uuid row, and uuid title vertically\\n\",\r\n",
      "    \"uuid_layout = Layout()\\n\",\r\n",
      "    \"uuid\\n\",\r\n",
      "    \"\\n\",\r\n",
      "    \"#figure out layout sizes\\n\"\r\n",
      "   ]\r\n",
      "  },\r\n",
      "  {\r\n",
      "   \"cell_type\": \"code\",\r\n",
      "   \"execution_count\": null,\r\n",
      "   \"id\": \"1d550999\",\r\n",
      "   \"metadata\": {\r\n",
      "    \"hidden\": true\r\n",
      "   },\r\n",
      "   \"outputs\": [],\r\n",
      "   \"source\": []\r\n",
      "  },\r\n",
      "  {\r\n",
      "   \"cell_type\": \"code\",\r\n",
      "   \"execution_count\": null,\r\n",
      "   \"id\": \"bcb3b92c\",\r\n",
      "   \"metadata\": {\r\n",
      "    \"hidden\": true\r\n",
      "   },\r\n",
      "   \"outputs\": [],\r\n",
      "   \"source\": []\r\n",
      "  },\r\n",
      "  {\r\n",
      "   \"cell_type\": \"code\",\r\n",
      "   \"execution_count\": null,\r\n",
      "   \"id\": \"d3d12304\",\r\n",
      "   \"metadata\": {\r\n",
      "    \"hidden\": true\r\n",
      "   },\r\n",
      "   \"outputs\": [],\r\n",
      "   \"source\": []\r\n",
      "  },\r\n",
      "  {\r\n",
      "   \"cell_type\": \"markdown\",\r\n",
      "   \"id\": \"1595add0\",\r\n",
      "   \"metadata\": {\r\n",
      "    \"heading_collapsed\": true,\r\n",
      "    \"hidden\": true\r\n",
      "   },\r\n",
      "   \"source\": [\r\n",
      "    \"## ignore\"\r\n",
      "   ]\r\n",
      "  },\r\n",
      "  {\r\n",
      "   \"cell_type\": \"markdown\",\r\n",
      "   \"id\": \"5249ea12\",\r\n",
      "   \"metadata\": {\r\n",
      "    \"hidden\": true\r\n",
      "   },\r\n",
      "   \"source\": [\r\n",
      "    \"### failed attempt\"\r\n",
      "   ]\r\n",
      "  },\r\n",
      "  {\r\n",
      "   \"cell_type\": \"markdown\",\r\n",
      "   \"id\": \"b1adfe96\",\r\n",
      "   \"metadata\": {\r\n",
      "    \"hidden\": true\r\n",
      "   },\r\n",
      "   \"source\": [\r\n",
      "    \"The final output after the function runs should save the `UUID` into a variable that is called `UUID`\"\r\n",
      "   ]\r\n",
      "  },\r\n",
      "  {\r\n",
      "   \"cell_type\": \"code\",\r\n",
      "   \"execution_count\": null,\r\n",
      "   \"id\": \"db459026\",\r\n",
      "   \"metadata\": {\r\n",
      "    \"code_folding\": [],\r\n",
      "    \"hidden\": true\r\n",
      "   },\r\n",
      "   \"outputs\": [],\r\n",
      "   \"source\": [\r\n",
      "    \"import ipywidgets as ipw\\n\",\r\n",
      "    \"\\n\",\r\n",
      "    \"import ipywidgets as widgets \\n\",\r\n",
      "    \"\\n\",\r\n",
      "    \"from ipywidgets import interact, interactive, fixed, interact_manual\\n\",\r\n",
      "    \"\\n\",\r\n",
      "    \"from IPython.core.display import HTML, display, Javascript, clear_output\"\r\n",
      "   ]\r\n",
      "  },\r\n",
      "  {\r\n",
      "   \"cell_type\": \"code\",\r\n",
      "   \"execution_count\": null,\r\n",
      "   \"id\": \"ed715c8b\",\r\n",
      "   \"metadata\": {\r\n",
      "    \"hidden\": true\r\n",
      "   },\r\n",
      "   \"outputs\": [],\r\n",
      "   \"source\": [\r\n",
      "    \"expUploader: type('', (object,), {})() # dont think this is correct, would a class be needed? #empty onject expUploader\\n\",\r\n",
      "    \"    \\n\",\r\n",
      "    \"#def expName: \\n\",\r\n",
      "    \"exp_name = ipw.Text( #value = input ('Experiment Name: '), #program waiting for the user to input data before moving on  \\n\",\r\n",
      "    \"placeholder = 'Enter experiment name',\\n\",\r\n",
      "    \"description = 'Name: ',\\n\",\r\n",
      "    \"disabled = False,)\\n\",\r\n",
      "    \"\\n\",\r\n",
      "    \"#def expDate:\\n\",\r\n",
      "    \"exp_date = widgets.DatePicker(\\n\",\r\n",
      "    \"description = 'Exp. Date:', #exp. equates experiment \\n\",\r\n",
      "    \"disabled = False)\\n\",\r\n",
      "    \"    \\n\",\r\n",
      "    \"#def expType:\\n\",\r\n",
      "    \"exp_type = ipw.Dropdown(\\n\",\r\n",
      "    \"options = [('Calcium','c'), ('Ephys','e'), ('Fluidics','f'), ('Imagingi','i'), ('MEA','m'), ('Patch Clamp','p')], #value = string, ???  \\n\",\r\n",
      "    \"description = 'Type:',\\n\",\r\n",
      "    \"disabled = False,) \\n\",\r\n",
      "    \"\\n\",\r\n",
      "    \"#def makeUUID(b):\\n\",\r\n",
      "    \"expUploader.date = str(exp_date.value) #accessing widget value\\n\",\r\n",
      "    \"expUploader.type = str(exp_type.value)\\n\",\r\n",
      "    \"expUploader.name = exp_name.value #print('UUID: {}'.format(expUploader.date),'{}'.format(expUploader.type),'{}'.format(expUploader.name))\\n\",\r\n",
      "    \"expUploader.uuid = expUploader.date +\\\"-\\\"+expUploader.type+\\\"-\\\"+expUploader.name\\n\",\r\n",
      "    \"print(\\\"UUID: {}\\\".format(expUploader.uuid)) #take everything from widgets to grab the widget values to produce UUID in correct format, then save and print for user\\n\",\r\n",
      "    \"\\n\",\r\n",
      "    \"#def uuidBtn:\\n\",\r\n",
      "    \"uuid_button = widgets.Button(\\n\",\r\n",
      "    \"description = 'Create UUID',\\n\",\r\n",
      "    \"disabled = False, \\n\",\r\n",
      "    \"button_style = '', #UUID format YYYY-MM-DD-experiment type-experiment shorthand\\n\",\r\n",
      "    \"tooltip = 'UUID format: YYYY-MM-DD- experiment type - experiment shorthand', #message that appears when user hovers over button \\n\",\r\n",
      "    \"icon = '',)\\n\",\r\n",
      "    \"    \\n\",\r\n",
      "    \"uuid_button.on_click(makeUUID)\\n\",\r\n",
      "    \"\\n\",\r\n",
      "    \"uuid = ipw.VBox([uuid_title, uuid_row, uuid_button_box])\\n\",\r\n",
      "    \"\\n\",\r\n",
      "    \"uuid\"\r\n",
      "   ]\r\n",
      "  },\r\n",
      "  {\r\n",
      "   \"cell_type\": \"markdown\",\r\n",
      "   \"id\": \"cbc1ba6f\",\r\n",
      "   \"metadata\": {\r\n",
      "    \"hidden\": true\r\n",
      "   },\r\n",
      "   \"source\": [\r\n",
      "    \"### second attempt with class/ methods\"\r\n",
      "   ]\r\n",
      "  },\r\n",
      "  {\r\n",
      "   \"cell_type\": \"code\",\r\n",
      "   \"execution_count\": null,\r\n",
      "   \"id\": \"142a6d88\",\r\n",
      "   \"metadata\": {\r\n",
      "    \"hidden\": true\r\n",
      "   },\r\n",
      "   \"outputs\": [],\r\n",
      "   \"source\": [\r\n",
      "    \"#imports\\n\",\r\n",
      "    \"import ipywidgets as ipw\\n\",\r\n",
      "    \"\\n\",\r\n",
      "    \"import ipywidgets as widgets \\n\",\r\n",
      "    \"\\n\",\r\n",
      "    \"from ipywidgets import interact, interactive, fixed, interact_manual\\n\",\r\n",
      "    \"\\n\",\r\n",
      "    \"from IPython.core.display import HTML, display, Javascript, clear_output\\n\",\r\n",
      "    \"\\n\",\r\n",
      "    \"from ipywidgets import FileUpload #change fileupload to ExpUploader\\n\",\r\n",
      "    \"\\n\",\r\n",
      "    \"from IPython.display import display\\n\",\r\n",
      "    \"\\n\",\r\n",
      "    \"\\n\",\r\n",
      "    \"\\n\",\r\n",
      "    \"class ExpUploader: \\n\",\r\n",
      "    \"    \\\"\\\"\\\" The ExpUploader class generates a UUID for the user's file and uploads it to wetAi on the s3 cloud server. \\\"\\\"\\\"\\n\",\r\n",
      "    \"    \\n\",\r\n",
      "    \"    \\n\",\r\n",
      "    \"    def __init__ (self): #create new instance ExpUploader.__init__\\n\",\r\n",
      "    \"        \\\"\\\"\\\" Instances of the ExpUploader class. \\\"\\\"\\\"\\n\",\r\n",
      "    \"        self.create_expDate = exp_date \\n\",\r\n",
      "    \"        self.create_expType = exp_type \\n\",\r\n",
      "    \"        self.create_expName = exp_name\\n\",\r\n",
      "    \"    \\n\",\r\n",
      "    \"    def create_expDate(self):\\n\",\r\n",
      "    \"        exp_date = widgets.DatePicker(description = 'Exp. Date:', disabled = False) #constructs experiment date widget\\n\",\r\n",
      "    \"        \\n\",\r\n",
      "    \"        \\n\",\r\n",
      "    \"    def create_expType(self):\\n\",\r\n",
      "    \"        exp_type = ipw.Dropdown(options = [('Calcium','c'), ('Ephys','e'), ('Fluidics','f'), ('Imaginging','i'), ('MEA','m'), ('Patch Clamp','p')], description = 'Type:', disabled = False,)\\n\",\r\n",
      "    \"        #constructs experiment type widget \\n\",\r\n",
      "    \"        #value = one letter code\\n\",\r\n",
      "    \"        \\n\",\r\n",
      "    \"        \\n\",\r\n",
      "    \"    def create_expName(self):\\n\",\r\n",
      "    \"        exp_name = ipw.Text(placeholder = 'Enter experiment name', description = 'Name: ', disabled = False,) \\n\",\r\n",
      "    \"        #constructs experiment name widget\\n\",\r\n",
      "    \"        #value = user input ('Experiment Name: ')\\n\",\r\n",
      "    \"      \\n\",\r\n",
      "    \"        \\n\",\r\n",
      "    \"        \\n\",\r\n",
      "    \"    def create_uuid_button(self):\\n\",\r\n",
      "    \"        uuid_button = widgets.Button(description = 'Create UUID', disabled = False, button_style = '', \\n\",\r\n",
      "    \"        #UUID format YYYY-MM-DD-experiment type-experiment shorthand\\n\",\r\n",
      "    \"        tooltip = 'UUID format: YYYY-MM-DD- experiment type - experiment shorthand', \\n\",\r\n",
      "    \"        #message that appears when user hovers over button \\n\",\r\n",
      "    \"        icon = '',)\\n\",\r\n",
      "    \"        pass\\n\",\r\n",
      "    \"        \\n\",\r\n",
      "    \"    \\n\",\r\n",
      "    \"    def get_uuid_button_function(b): #YYYY-MM-DD-ET-ESH\\n\",\r\n",
      "    \"        ExpUploader.date = str(exp_date.value)\\n\",\r\n",
      "    \"        ExpUploader.type = str(exp_type.value)\\n\",\r\n",
      "    \"        ExpUploader.name = exp_name.value\\n\",\r\n",
      "    \"        ExpUploader.uuid = ExpUploader.date +\\\"-\\\"+ExpUploader.type+\\\"-\\\"+ExpUploader.name\\n\",\r\n",
      "    \"        print(\\\"UUID: {}\\\".format(ExpUploader.uuid))\\n\",\r\n",
      "    \"        create_uuid_button.on_click(get_uuid_button_function) #assigns function to uuid button created in create_uuid_button method\\n\",\r\n",
      "    \"        pass\\n\",\r\n",
      "    \"        \\n\",\r\n",
      "    \"    def create_uuid_button_box(self): #puts uuid widgets in a pretty box\\n\",\r\n",
      "    \"        uuid_button_box = ipw.HBox([uuid_button])\\n\",\r\n",
      "    \"        uuid_button_box.layout.justify_content = \\\"center\\\"\\n\",\r\n",
      "    \"        uuid_title = ipw.HTML(\\\"<h3 class = 'text-center'><font color='pink'>createUUID</font>\\\")\\n\",\r\n",
      "    \"        uuid_row = ipw.HBox([exp_date, exp_type, exp_name]) \\n\",\r\n",
      "    \"        uuid = ipw.VBox([uuid_title, uuid_row, uuid_button_box])\\n\",\r\n",
      "    \"        pass\\n\",\r\n",
      "    \"        \\n\",\r\n",
      "    \"    \\n\",\r\n",
      "    \"    def build_uploader_widget(self):\\n\",\r\n",
      "    \"        upload = FileUpload(multiple=True)\\n\",\r\n",
      "    \"        display(upload)\\n\",\r\n",
      "    \"        with open('z_merged_output.txt', 'wb') as output_file: \\n\",\r\n",
      "    \"            for uploaded_filename in upload.value:\\n\",\r\n",
      "    \"                content = upload.value[uploaded_filename]['content']   \\n\",\r\n",
      "    \"                output_file.write(content)\\n\",\r\n",
      "    \"                pass\\n\",\r\n",
      "    \"        \\n\",\r\n",
      "    \"    \\n\",\r\n",
      "    \"    def get_uploader_widget_function(b): #uploads file to s3 server\\n\",\r\n",
      "    \"        !mkdir {ExpUploader.uuid}\\n\",\r\n",
      "    \"        pass\\n\",\r\n",
      "    \"    \\n\",\r\n",
      "    \"    def create_uploader_widget_box(self): #puts uploading widgets in a pretty box \\n\",\r\n",
      "    \"        pass\\n\",\r\n",
      "    \"        \\n\",\r\n",
      "    \"                \"\r\n",
      "   ]\r\n",
      "  },\r\n",
      "  {\r\n",
      "   \"cell_type\": \"markdown\",\r\n",
      "   \"id\": \"71841e6f\",\r\n",
      "   \"metadata\": {},\r\n",
      "   \"source\": [\r\n",
      "    \"# Build Uploader Widget Box\"\r\n",
      "   ]\r\n",
      "  },\r\n",
      "  {\r\n",
      "   \"cell_type\": \"markdown\",\r\n",
      "   \"id\": \"bea93c53\",\r\n",
      "   \"metadata\": {},\r\n",
      "   \"source\": [\r\n",
      "    \"<font color=\\\"red\\\">Create a button that when clicked will upload your dataset to the Cloud. Use the commands in the Reference material to figure out how to do this. When you uplaod the file, it should have the same name that was created from your `Create experiment uuid section.` \"\r\n",
      "   ]\r\n",
      "  },\r\n",
      "  {\r\n",
      "   \"cell_type\": \"markdown\",\r\n",
      "   \"id\": \"1af78431\",\r\n",
      "   \"metadata\": {},\r\n",
      "   \"source\": [\r\n",
      "    \"## <font color=\\\"green\\\">Create the widgets for uploading\"\r\n",
      "   ]\r\n",
      "  },\r\n",
      "  {\r\n",
      "   \"cell_type\": \"markdown\",\r\n",
      "   \"id\": \"8e772d84\",\r\n",
      "   \"metadata\": {},\r\n",
      "   \"source\": [\r\n",
      "    \"<font color=\\\"red\\\"> Figure out what other widgets you need\"\r\n",
      "   ]\r\n",
      "  },\r\n",
      "  {\r\n",
      "   \"cell_type\": \"code\",\r\n",
      "   \"execution_count\": 121,\r\n",
      "   \"id\": \"a5d09062\",\r\n",
      "   \"metadata\": {},\r\n",
      "   \"outputs\": [\r\n",
      "    {\r\n",
      "     \"data\": {\r\n",
      "      \"application/vnd.jupyter.widget-view+json\": {\r\n",
      "       \"model_id\": \"5f4aa1432f40488a9aa0bbe5df507a3c\",\r\n",
      "       \"version_major\": 2,\r\n",
      "       \"version_minor\": 0\r\n",
      "      },\r\n",
      "      \"text/plain\": [\r\n",
      "       \"FileUpload(value={'Readme.txt': {'metadata': {'name': 'Readme.txt', 'type': 'text/plain', 'size': 172, 'lastMo…\"\r\n",
      "      ]\r\n",
      "     },\r\n",
      "     \"metadata\": {},\r\n",
      "     \"output_type\": \"display_data\"\r\n",
      "    }\r\n",
      "   ],\r\n",
      "   \"source\": [\r\n",
      "    \"#example\\n\",\r\n",
      "    \"from ipywidgets import FileUpload\\n\",\r\n",
      "    \"from IPython.display import display\\n\",\r\n",
      "    \"\\n\",\r\n",
      "    \"uploadExp = widgets.FileUpload(multiple=True)\\n\",\r\n",
      "    \"display(upload)\"\r\n",
      "   ]\r\n",
      "  },\r\n",
      "  {\r\n",
      "   \"cell_type\": \"code\",\r\n",
      "   \"execution_count\": null,\r\n",
      "   \"id\": \"55693c78\",\r\n",
      "   \"metadata\": {},\r\n",
      "   \"outputs\": [],\r\n",
      "   \"source\": [\r\n",
      "    \"print(uploadExp.value)\"\r\n",
      "   ]\r\n",
      "  },\r\n",
      "  {\r\n",
      "   \"cell_type\": \"code\",\r\n",
      "   \"execution_count\": 119,\r\n",
      "   \"id\": \"a787b5c8\",\r\n",
      "   \"metadata\": {},\r\n",
      "   \"outputs\": [\r\n",
      "    {\r\n",
      "     \"ename\": \"SyntaxError\",\r\n",
      "     \"evalue\": \"invalid syntax (<ipython-input-119-615515200dd7>, line 3)\",\r\n",
      "     \"output_type\": \"error\",\r\n",
      "     \"traceback\": [\r\n",
      "      \"\\u001b[0;36m  File \\u001b[0;32m\\\"<ipython-input-119-615515200dd7>\\\"\\u001b[0;36m, line \\u001b[0;32m3\\u001b[0m\\n\\u001b[0;31m    with open('z_merged_output.txt', 'wb') as !aws3 cp ./2021-04-09-e-claudia-test/ s3://braingeneers/ephys/2021-04-09-e-claudia-test/ --acl public-read --recursive:\\u001b[0m\\n\\u001b[0m                                              ^\\u001b[0m\\n\\u001b[0;31mSyntaxError\\u001b[0m\\u001b[0;31m:\\u001b[0m invalid syntax\\n\"\r\n",
      "     ]\r\n",
      "    }\r\n",
      "   ],\r\n",
      "   \"source\": []\r\n",
      "  },\r\n",
      "  {\r\n",
      "   \"cell_type\": \"code\",\r\n",
      "   \"execution_count\": 122,\r\n",
      "   \"id\": \"6993ea44\",\r\n",
      "   \"metadata\": {},\r\n",
      "   \"outputs\": [],\r\n",
      "   \"source\": [\r\n",
      "    \"#create 'to prp' folder on jupyter\\n\",\r\n",
      "    \"#use folder to upload to prp\\n\",\r\n",
      "    \"#find intro to bash tutorial / terminal\"\r\n",
      "   ]\r\n",
      "  },\r\n",
      "  {\r\n",
      "   \"cell_type\": \"code\",\r\n",
      "   \"execution_count\": null,\r\n",
      "   \"id\": \"40574853\",\r\n",
      "   \"metadata\": {},\r\n",
      "   \"outputs\": [],\r\n",
      "   \"source\": []\r\n",
      "  },\r\n",
      "  {\r\n",
      "   \"cell_type\": \"code\",\r\n",
      "   \"execution_count\": null,\r\n",
      "   \"id\": \"36609f3e\",\r\n",
      "   \"metadata\": {},\r\n",
      "   \"outputs\": [],\r\n",
      "   \"source\": []\r\n",
      "  },\r\n",
      "  {\r\n",
      "   \"cell_type\": \"code\",\r\n",
      "   \"execution_count\": 123,\r\n",
      "   \"id\": \"3bdd3593\",\r\n",
      "   \"metadata\": {},\r\n",
      "   \"outputs\": [\r\n",
      "    {\r\n",
      "     \"name\": \"stdout\",\r\n",
      "     \"output_type\": \"stream\",\r\n",
      "     \"text\": [\r\n",
      "      \" 2021-04-09-e-claudia-test\\t\\t\\t   'Source Code.ipynb'\\r\\n\",\r\n",
      "      \"'Backup-Copy_Create a New Dataset-04-09-21.ipynb'   test\\r\\n\",\r\n",
      "      \"'Data Uploader.ipynb'\\t\\t\\t\\t    z_merged_output.txt\\r\\n\",\r\n",
      "      \" metadata.json\\r\\n\"\r\n",
      "     ]\r\n",
      "    }\r\n",
      "   ],\r\n",
      "   \"source\": [\r\n",
      "    \"!ls\"\r\n",
      "   ]\r\n",
      "  },\r\n",
      "  {\r\n",
      "   \"cell_type\": \"code\",\r\n",
      "   \"execution_count\": null,\r\n",
      "   \"id\": \"30cb939b\",\r\n",
      "   \"metadata\": {},\r\n",
      "   \"outputs\": [],\r\n",
      "   \"source\": [\r\n",
      "    \"!cat Source Code.ipynb\"\r\n",
      "   ]\r\n",
      "  },\r\n",
      "  {\r\n",
      "   \"cell_type\": \"markdown\",\r\n",
      "   \"id\": \"19942d12\",\r\n",
      "   \"metadata\": {},\r\n",
      "   \"source\": [\r\n",
      "    \"### <font color=\\\"green\\\">Upload Button\"\r\n",
      "   ]\r\n",
      "  },\r\n",
      "  {\r\n",
      "   \"cell_type\": \"code\",\r\n",
      "   \"execution_count\": null,\r\n",
      "   \"id\": \"d9a1e819\",\r\n",
      "   \"metadata\": {},\r\n",
      "   \"outputs\": [],\r\n",
      "   \"source\": [\r\n",
      "    \"#dont use\\n\",\r\n",
      "    \"from ipywidgets import FileUpload\\n\",\r\n",
      "    \"from IPython.display import display\\n\",\r\n",
      "    \"\\n\",\r\n",
      "    \"\\n\",\r\n",
      "    \"with open('z_merged_output.txt', 'wb') as output_file: \\n\",\r\n",
      "    \"    for uploaded_filename in upload.value:\\n\",\r\n",
      "    \"        content = upload.value[uploaded_filename]['content']   \\n\",\r\n",
      "    \"        output_file.write(content)\\n\",\r\n",
      "    \"        \\n\",\r\n",
      "    \"\\n\",\r\n",
      "    \"upload = FileUpload(multiple=True)\\n\",\r\n",
      "    \"display(upload)\\n\",\r\n",
      "    \"\\n\",\r\n",
      "    \"\\n\",\r\n",
      "    \"print(upload.value)\"\r\n",
      "   ]\r\n",
      "  },\r\n",
      "  {\r\n",
      "   \"cell_type\": \"markdown\",\r\n",
      "   \"id\": \"90773849\",\r\n",
      "   \"metadata\": {},\r\n",
      "   \"source\": [\r\n",
      "    \"## <font color=\\\"orchid\\\"> Put widgets in pretty box\"\r\n",
      "   ]\r\n",
      "  },\r\n",
      "  {\r\n",
      "   \"cell_type\": \"code\",\r\n",
      "   \"execution_count\": null,\r\n",
      "   \"id\": \"516ef8eb\",\r\n",
      "   \"metadata\": {},\r\n",
      "   \"outputs\": [],\r\n",
      "   \"source\": []\r\n",
      "  },\r\n",
      "  {\r\n",
      "   \"cell_type\": \"markdown\",\r\n",
      "   \"id\": \"ae6860bc\",\r\n",
      "   \"metadata\": {},\r\n",
      "   \"source\": [\r\n",
      "    \"## <font color=\\\"blue\\\">Add function for uploading\"\r\n",
      "   ]\r\n",
      "  },\r\n",
      "  {\r\n",
      "   \"cell_type\": \"markdown\",\r\n",
      "   \"id\": \"b07f0d53\",\r\n",
      "   \"metadata\": {},\r\n",
      "   \"source\": [\r\n",
      "    \"useful code\"\r\n",
      "   ]\r\n",
      "  },\r\n",
      "  {\r\n",
      "   \"cell_type\": \"code\",\r\n",
      "   \"execution_count\": null,\r\n",
      "   \"id\": \"c5f46952\",\r\n",
      "   \"metadata\": {},\r\n",
      "   \"outputs\": [],\r\n",
      "   \"source\": [\r\n",
      "    \"!mkdir {ExpUploader.uuid}\"\r\n",
      "   ]\r\n",
      "  },\r\n",
      "  {\r\n",
      "   \"cell_type\": \"code\",\r\n",
      "   \"execution_count\": null,\r\n",
      "   \"id\": \"82605bd5\",\r\n",
      "   \"metadata\": {},\r\n",
      "   \"outputs\": [],\r\n",
      "   \"source\": []\r\n",
      "  },\r\n",
      "  {\r\n",
      "   \"cell_type\": \"markdown\",\r\n",
      "   \"id\": \"cbbf7206\",\r\n",
      "   \"metadata\": {},\r\n",
      "   \"source\": [\r\n",
      "    \"## <font color=\\\"gray\\\">Reference Material: AWS command line examples:\"\r\n",
      "   ]\r\n",
      "  },\r\n",
      "  {\r\n",
      "   \"cell_type\": \"markdown\",\r\n",
      "   \"id\": \"5b05a394\",\r\n",
      "   \"metadata\": {},\r\n",
      "   \"source\": [\r\n",
      "    \"list files on this computer (relative to the folder where this Jupyter notebook is)\"\r\n",
      "   ]\r\n",
      "  },\r\n",
      "  {\r\n",
      "   \"cell_type\": \"code\",\r\n",
      "   \"execution_count\": null,\r\n",
      "   \"id\": \"5263cca0\",\r\n",
      "   \"metadata\": {},\r\n",
      "   \"outputs\": [],\r\n",
      "   \"source\": [\r\n",
      "    \"!ls\"\r\n",
      "   ]\r\n",
      "  },\r\n",
      "  {\r\n",
      "   \"cell_type\": \"markdown\",\r\n",
      "   \"id\": \"64dc3cb4\",\r\n",
      "   \"metadata\": {},\r\n",
      "   \"source\": [\r\n",
      "    \"list all files in Braingeneers S3 folder on PRP  (long version)\"\r\n",
      "   ]\r\n",
      "  },\r\n",
      "  {\r\n",
      "   \"cell_type\": \"code\",\r\n",
      "   \"execution_count\": null,\r\n",
      "   \"id\": \"f9b1f082\",\r\n",
      "   \"metadata\": {},\r\n",
      "   \"outputs\": [],\r\n",
      "   \"source\": [\r\n",
      "    \"!aws3 ls\"\r\n",
      "   ]\r\n",
      "  },\r\n",
      "  {\r\n",
      "   \"cell_type\": \"markdown\",\r\n",
      "   \"id\": \"964c0a47\",\r\n",
      "   \"metadata\": {},\r\n",
      "   \"source\": [\r\n",
      "    \"list all files in Braingeneers S3 folder on PRP (short version with alias/enviroment variable screated by Elliott)\"\r\n",
      "   ]\r\n",
      "  },\r\n",
      "  {\r\n",
      "   \"cell_type\": \"code\",\r\n",
      "   \"execution_count\": 120,\r\n",
      "   \"id\": \"955dd000\",\r\n",
      "   \"metadata\": {},\r\n",
      "   \"outputs\": [\r\n",
      "    {\r\n",
      "     \"name\": \"stdout\",\r\n",
      "     \"output_type\": \"stream\",\r\n",
      "     \"text\": [\r\n",
      "      \"                           PRE archive/\\r\\n\",\r\n",
      "      \"                           PRE ephys/\\r\\n\",\r\n",
      "      \"                           PRE fluidics/\\r\\n\",\r\n",
      "      \"                           PRE imaging/\\r\\n\",\r\n",
      "      \"                           PRE personal/\\r\\n\",\r\n",
      "      \"2020-11-16 15:05:20  124223564 file_list.json\\r\\n\",\r\n",
      "      \"2021-01-14 01:36:21  337773221 glacier_list.json\\r\\n\"\r\n",
      "     ]\r\n",
      "    }\r\n",
      "   ],\r\n",
      "   \"source\": [\r\n",
      "    \"!aws3 ls s3://braingeneers/\"\r\n",
      "   ]\r\n",
      "  },\r\n",
      "  {\r\n",
      "   \"cell_type\": \"markdown\",\r\n",
      "   \"id\": \"61fee891\",\r\n",
      "   \"metadata\": {\r\n",
      "    \"slideshow\": {\r\n",
      "     \"slide_type\": \"slide\"\r\n",
      "    }\r\n",
      "   },\r\n",
      "   \"source\": [\r\n",
      "    \"**Downloading from cloud:** copy file *from* PRP AWS S3 down to this computer (Format: cp {SOURCE} {DESTINATION})\"\r\n",
      "   ]\r\n",
      "  },\r\n",
      "  {\r\n",
      "   \"cell_type\": \"code\",\r\n",
      "   \"execution_count\": null,\r\n",
      "   \"id\": \"30be1b4c\",\r\n",
      "   \"metadata\": {\r\n",
      "    \"slideshow\": {\r\n",
      "     \"slide_type\": \"slide\"\r\n",
      "    }\r\n",
      "   },\r\n",
      "   \"outputs\": [],\r\n",
      "   \"source\": [\r\n",
      "    \"!aws3 cp s3://braingeneers/ephys/2020-11-27-e-UCSF-axionplate/derived/metadata.json .\"\r\n",
      "   ]\r\n",
      "  },\r\n",
      "  {\r\n",
      "   \"cell_type\": \"markdown\",\r\n",
      "   \"id\": \"44a93c87\",\r\n",
      "   \"metadata\": {\r\n",
      "    \"slideshow\": {\r\n",
      "     \"slide_type\": \"slide\"\r\n",
      "    }\r\n",
      "   },\r\n",
      "   \"source\": [\r\n",
      "    \"How to pass variables from Jupyter to Command line\"\r\n",
      "   ]\r\n",
      "  },\r\n",
      "  {\r\n",
      "   \"cell_type\": \"code\",\r\n",
      "   \"execution_count\": null,\r\n",
      "   \"id\": \"6b916ea1\",\r\n",
      "   \"metadata\": {\r\n",
      "    \"slideshow\": {\r\n",
      "     \"slide_type\": \"slide\"\r\n",
      "    }\r\n",
      "   },\r\n",
      "   \"outputs\": [],\r\n",
      "   \"source\": [\r\n",
      "    \"x = \\\"ahjkgk\\\"\\n\",\r\n",
      "    \"if True: \\n\",\r\n",
      "    \"    !echo {x}\\n\"\r\n",
      "   ]\r\n",
      "  },\r\n",
      "  {\r\n",
      "   \"cell_type\": \"markdown\",\r\n",
      "   \"id\": \"78a97c9d\",\r\n",
      "   \"metadata\": {},\r\n",
      "   \"source\": [\r\n",
      "    \"**Upload everything** in local UUID folder --- {UUID} plugs in the variable storing UUID into the terminal command\"\r\n",
      "   ]\r\n",
      "  },\r\n",
      "  {\r\n",
      "   \"cell_type\": \"code\",\r\n",
      "   \"execution_count\": null,\r\n",
      "   \"id\": \"91dfebb3\",\r\n",
      "   \"metadata\": {},\r\n",
      "   \"outputs\": [],\r\n",
      "   \"source\": [\r\n",
      "    \"expUploader.uuid\"\r\n",
      "   ]\r\n",
      "  },\r\n",
      "  {\r\n",
      "   \"cell_type\": \"code\",\r\n",
      "   \"execution_count\": null,\r\n",
      "   \"id\": \"36aa4b4a\",\r\n",
      "   \"metadata\": {},\r\n",
      "   \"outputs\": [],\r\n",
      "   \"source\": [\r\n",
      "    \"!aws3 cp ./{UUID}/ s3://braingeneers/ephys/2020-11-27-e-UCSF-axionplate/ --recursive --public-read\\n\"\r\n",
      "   ]\r\n",
      "  },\r\n",
      "  {\r\n",
      "   \"cell_type\": \"markdown\",\r\n",
      "   \"id\": \"eb374b85\",\r\n",
      "   \"metadata\": {},\r\n",
      "   \"source\": [\r\n",
      "    \"copy file *to* PRP AWS S3 from this computer (Format: cp {SOURCE} {DESTINATION}) -- in this case the command is also recursive and copying everything inside \\\"2021-04-09-e-claudia-test/\\\" folder on this computer\"\r\n",
      "   ]\r\n",
      "  },\r\n",
      "  {\r\n",
      "   \"cell_type\": \"code\",\r\n",
      "   \"execution_count\": null,\r\n",
      "   \"id\": \"fa9a383b\",\r\n",
      "   \"metadata\": {},\r\n",
      "   \"outputs\": [],\r\n",
      "   \"source\": [\r\n",
      "    \"!aws3 cp ./2021-04-09-e-claudia-test/ s3://braingeneers/ephys/2021-04-09-e-claudia-test/ --acl public-read --recursive #use when uploading to prp\\n\"\r\n",
      "   ]\r\n",
      "  },\r\n",
      "  {\r\n",
      "   \"cell_type\": \"markdown\",\r\n",
      "   \"id\": \"f1a5439a\",\r\n",
      "   \"metadata\": {},\r\n",
      "   \"source\": [\r\n",
      "    \"list files in claudia test foler on PRP to check\"\r\n",
      "   ]\r\n",
      "  },\r\n",
      "  {\r\n",
      "   \"cell_type\": \"code\",\r\n",
      "   \"execution_count\": null,\r\n",
      "   \"id\": \"a0d85b92\",\r\n",
      "   \"metadata\": {},\r\n",
      "   \"outputs\": [],\r\n",
      "   \"source\": [\r\n",
      "    \"!aws3 ls s3://braingeneers/ephys/2021-04-09-e-claudia-test/\\n\"\r\n",
      "   ]\r\n",
      "  },\r\n",
      "  {\r\n",
      "   \"cell_type\": \"markdown\",\r\n",
      "   \"id\": \"0174c5e4\",\r\n",
      "   \"metadata\": {},\r\n",
      "   \"source\": [\r\n",
      "    \"# Read JSON\"\r\n",
      "   ]\r\n",
      "  },\r\n",
      "  {\r\n",
      "   \"cell_type\": \"markdown\",\r\n",
      "   \"id\": \"514c335d\",\r\n",
      "   \"metadata\": {},\r\n",
      "   \"source\": [\r\n",
      "    \"### Simple example\"\r\n",
      "   ]\r\n",
      "  },\r\n",
      "  {\r\n",
      "   \"cell_type\": \"code\",\r\n",
      "   \"execution_count\": null,\r\n",
      "   \"id\": \"735af075\",\r\n",
      "   \"metadata\": {},\r\n",
      "   \"outputs\": [],\r\n",
      "   \"source\": [\r\n",
      "    \"#Read a JSON and print it out with nice formatting\\n\",\r\n",
      "    \"import json\\n\",\r\n",
      "    \"path_to_json = \\\"./2021-04-09-e-claudia-test/metadata.json\\\"\\n\",\r\n",
      "    \"with open(path_to_json, \\\"r\\\") as fp:\\n\",\r\n",
      "    \"    metadata = json.load(fp)\\n\",\r\n",
      "    \"    json_formatted_str = json.dumps(metadata, indent=5)\\n\",\r\n",
      "    \"    print(json_formatted_str)\"\r\n",
      "   ]\r\n",
      "  },\r\n",
      "  {\r\n",
      "   \"cell_type\": \"markdown\",\r\n",
      "   \"id\": \"3e5a618f\",\r\n",
      "   \"metadata\": {},\r\n",
      "   \"source\": [\r\n",
      "    \"### Fancy Example\"\r\n",
      "   ]\r\n",
      "  },\r\n",
      "  {\r\n",
      "   \"cell_type\": \"markdown\",\r\n",
      "   \"id\": \"c33309f2\",\r\n",
      "   \"metadata\": {},\r\n",
      "   \"source\": [\r\n",
      "    \"#### Helper function\"\r\n",
      "   ]\r\n",
      "  },\r\n",
      "  {\r\n",
      "   \"cell_type\": \"code\",\r\n",
      "   \"execution_count\": null,\r\n",
      "   \"id\": \"fbf5e908\",\r\n",
      "   \"metadata\": {},\r\n",
      "   \"outputs\": [],\r\n",
      "   \"source\": [\r\n",
      "    \"renderJSON(metadata )\"\r\n",
      "   ]\r\n",
      "  },\r\n",
      "  {\r\n",
      "   \"cell_type\": \"code\",\r\n",
      "   \"execution_count\": null,\r\n",
      "   \"id\": \"fc41cdb3\",\r\n",
      "   \"metadata\": {},\r\n",
      "   \"outputs\": [],\r\n",
      "   \"source\": [\r\n",
      "    \"#Elliott's code for JSON\\n\",\r\n",
      "    \"import uuid\\n\",\r\n",
      "    \"class renderJSON(object):\\n\",\r\n",
      "    \"    def __init__(self, json_data):\\n\",\r\n",
      "    \"        if isinstance(json_data, dict):\\n\",\r\n",
      "    \"            self.json_str = json.dumps(json_data)\\n\",\r\n",
      "    \"        else:\\n\",\r\n",
      "    \"            self.json_str = json_data\\n\",\r\n",
      "    \"        self.uuid = str(uuid.uuid4())\\n\",\r\n",
      "    \"        # This line is missed out in most of the versions of this script across the web, it is essential for this to work interleaved with print statements\\n\",\r\n",
      "    \"        self._ipython_display_()\\n\",\r\n",
      "    \"        \\n\",\r\n",
      "    \"    def _ipython_display_(self):\\n\",\r\n",
      "    \"        display(HTML('<div id=\\\"{}\\\" style=\\\"height: auto; width:100%;\\\"></div>'.format(self.uuid)))\\n\",\r\n",
      "    \"        display(HTML(\\\"\\\"\\\"<script>\\n\",\r\n",
      "    \"        require([\\\"https://rawgit.com/caldwell/renderjson/master/renderjson.js\\\"], function() {\\n\",\r\n",
      "    \"          renderjson.set_show_to_level(1)\\n\",\r\n",
      "    \"          document.getElementById('%s').appendChild(renderjson(%s))\\n\",\r\n",
      "    \"        });</script>\\n\",\r\n",
      "    \"        \\\"\\\"\\\" % (self.uuid, self.json_str)))\\n\",\r\n",
      "    \"        \\n\"\r\n",
      "   ]\r\n",
      "  },\r\n",
      "  {\r\n",
      "   \"cell_type\": \"markdown\",\r\n",
      "   \"id\": \"1bc8ba7a\",\r\n",
      "   \"metadata\": {},\r\n",
      "   \"source\": [\r\n",
      "    \"# References for Developers <small>(aka: Claudia)\"\r\n",
      "   ]\r\n",
      "  },\r\n",
      "  {\r\n",
      "   \"cell_type\": \"code\",\r\n",
      "   \"execution_count\": null,\r\n",
      "   \"id\": \"c0b82c45\",\r\n",
      "   \"metadata\": {},\r\n",
      "   \"outputs\": [],\r\n",
      "   \"source\": [\r\n",
      "    \"#jupyter widgets tutorial for \\n\",\r\n",
      "    \"#buttons, \\n\",\r\n",
      "    \"#assigning button function, \\n\",\r\n",
      "    \"#dropdown menu \"\r\n",
      "   ]\r\n",
      "  },\r\n",
      "  {\r\n",
      "   \"cell_type\": \"markdown\",\r\n",
      "   \"id\": \"f7687070\",\r\n",
      "   \"metadata\": {},\r\n",
      "   \"source\": [\r\n",
      "    \"Use this section to jot down and useful links you may want to remember. Also use this space to write log and errors or issues that you may want to fix later.\"\r\n",
      "   ]\r\n",
      "  },\r\n",
      "  {\r\n",
      "   \"cell_type\": \"markdown\",\r\n",
      "   \"id\": \"63f6cded\",\r\n",
      "   \"metadata\": {},\r\n",
      "   \"source\": [\r\n",
      "    \"**Useful Links**\\n\",\r\n",
      "    \"* [Organizing Data Wiki](https://github.com/braingeneers/wiki/blob/main/shared/organizing-data.md)\\n\",\r\n",
      "    \"* [Do the wetAI tutorials](http://wetai.gi.ucsc.edu:8008/tree/Apps/braingeneers/Learn_WetAI)\\n\",\r\n",
      "    \"* [List of jupyter widgets](https://ipywidgets.readthedocs.io/en/latest/examples/Widget%20List.html)\\n\"\r\n",
      "   ]\r\n",
      "  },\r\n",
      "  {\r\n",
      "   \"cell_type\": \"code\",\r\n",
      "   \"execution_count\": null,\r\n",
      "   \"id\": \"minus-extraction\",\r\n",
      "   \"metadata\": {},\r\n",
      "   \"outputs\": [],\r\n",
      "   \"source\": [\r\n",
      "    \"from ipywidgets import FileUpload\\n\",\r\n",
      "    \"from IPython.display import display\\n\",\r\n",
      "    \"upload = FileUpload(multiple=True)\\n\",\r\n",
      "    \"display(upload)\"\r\n",
      "   ]\r\n",
      "  },\r\n",
      "  {\r\n",
      "   \"cell_type\": \"code\",\r\n",
      "   \"execution_count\": null,\r\n",
      "   \"id\": \"de949d90\",\r\n",
      "   \"metadata\": {},\r\n",
      "   \"outputs\": [],\r\n",
      "   \"source\": [\r\n",
      "    \"print(upload.value)\"\r\n",
      "   ]\r\n",
      "  },\r\n",
      "  {\r\n",
      "   \"cell_type\": \"code\",\r\n",
      "   \"execution_count\": null,\r\n",
      "   \"id\": \"e98b1b04\",\r\n",
      "   \"metadata\": {},\r\n",
      "   \"outputs\": [],\r\n",
      "   \"source\": [\r\n",
      "    \"with open('z_merged_output.txt', 'wb') as output_file: \\n\",\r\n",
      "    \"    for uploaded_filename in upload.value:\\n\",\r\n",
      "    \"        content = upload.value[uploaded_filename]['content']   \\n\",\r\n",
      "    \"        output_file.write(content) \"\r\n",
      "   ]\r\n",
      "  },\r\n",
      "  {\r\n",
      "   \"cell_type\": \"code\",\r\n",
      "   \"execution_count\": null,\r\n",
      "   \"id\": \"4c9b0293\",\r\n",
      "   \"metadata\": {},\r\n",
      "   \"outputs\": [],\r\n",
      "   \"source\": []\r\n",
      "  },\r\n",
      "  {\r\n",
      "   \"cell_type\": \"markdown\",\r\n",
      "   \"id\": \"musical-component\",\r\n",
      "   \"metadata\": {},\r\n",
      "   \"source\": [\r\n",
      "    \"### Create Experiment JSONS\\n\",\r\n",
      "    \"Each experiment with \\\"filename\\\".* should have a corresponding \\\"filename\\\".json file, which describes the experiment\"\r\n",
      "   ]\r\n",
      "  },\r\n",
      "  {\r\n",
      "   \"cell_type\": \"markdown\",\r\n",
      "   \"id\": \"capital-chick\",\r\n",
      "   \"metadata\": {},\r\n",
      "   \"source\": [\r\n",
      "    \"Example: **6well-intancontroller.json**\\n\",\r\n",
      "    \"\\n\",\r\n",
      "    \"        {\\n\",\r\n",
      "    \"            \\\"blocks\\\": [\\n\",\r\n",
      "    \"                {\\n\",\r\n",
      "    \"                    \\\"num_frames\\\": 1200240,\\n\",\r\n",
      "    \"                    \\\"path\\\": \\\"6well-intancontroller_201006_182018.bin\\\",\\n\",\r\n",
      "    \"                    \\\"source\\\": \\\"./original/2020-10-06-e-UCSF-neurons-axionplate/6well-intancontroller_201006_182018.rhd\\\",\\n\",\r\n",
      "    \"                    \\\"timestamp\\\": \\\"2020-10-06T18:20:18\\\"\\n\",\r\n",
      "    \"                },\\n\",\r\n",
      "    \"                {\\n\",\r\n",
      "    \"                    \\\"num_frames\\\": 1200240,\\n\",\r\n",
      "    \"                    \\\"path\\\": \\\"6well-intancontroller_201006_182124.bin\\\",\\n\",\r\n",
      "    \"                    \\\"source\\\": \\\"./original/2020-10-06-e-UCSF-neurons-axionplate/6well-intancontroller_201006_182124.rhd\\\",\\n\",\r\n",
      "    \"                    \\\"timestamp\\\": \\\"2020-10-06T18:21:24\\\"\\n\",\r\n",
      "    \"                },\\n\",\r\n",
      "    \"                {\\n\",\r\n",
      "    \"                    \\\"num_frames\\\": 300240,\\n\",\r\n",
      "    \"                    \\\"path\\\": \\\"6well-intancontroller_201006_182235.bin\\\",\\n\",\r\n",
      "    \"                    \\\"source\\\": \\\"./original/2020-10-06-e-UCSF-neurons-axionplate/6well-intancontroller_201006_182235.rhd\\\",\\n\",\r\n",
      "    \"                    \\\"timestamp\\\": \\\"2020-10-06T18:22:35\\\"\\n\",\r\n",
      "    \"                }\\n\",\r\n",
      "    \"            ],\\n\",\r\n",
      "    \"            \\\"channels\\\": [],\\n\",\r\n",
      "    \"            \\\"hardware\\\": \\\"Intan RHD 2000 Controller\\\",\\n\",\r\n",
      "    \"            \\\"name\\\": \\\"6well-intancontroller\\\",\\n\",\r\n",
      "    \"            \\\"notes\\\": \\\"\\\",\\n\",\r\n",
      "    \"            \\\"num_channels\\\": 32,\\n\",\r\n",
      "    \"            \\\"num_current_input_channels\\\": 0,\\n\",\r\n",
      "    \"            \\\"num_voltage_channels\\\": 32,\\n\",\r\n",
      "    \"            \\\"offset\\\": 0,\\n\",\r\n",
      "    \"            \\\"sample_rate\\\": 20000,\\n\",\r\n",
      "    \"            \\\"scaler\\\": 0.195,\\n\",\r\n",
      "    \"            \\\"timestamp\\\": \\\"2020-10-06T18:20:18\\\",\\n\",\r\n",
      "    \"            \\\"units\\\": \\\"\\\\u00b5V\\\",\\n\",\r\n",
      "    \"            \\\"version\\\": \\\"0.0.1\\\"\\n\",\r\n",
      "    \"        }\\n\",\r\n",
      "    \"    \"\r\n",
      "   ]\r\n",
      "  },\r\n",
      "  {\r\n",
      "   \"cell_type\": \"markdown\",\r\n",
      "   \"id\": \"innocent-scholar\",\r\n",
      "   \"metadata\": {},\r\n",
      "   \"source\": [\r\n",
      "    \"Provide ephys, fluidics, imaging, calcium, patchclamp templates\"\r\n",
      "   ]\r\n",
      "  },\r\n",
      "  {\r\n",
      "   \"cell_type\": \"markdown\",\r\n",
      "   \"id\": \"incorporated-bernard\",\r\n",
      "   \"metadata\": {},\r\n",
      "   \"source\": [\r\n",
      "    \"For each experiment, provide a JSON:\"\r\n",
      "   ]\r\n",
      "  },\r\n",
      "  {\r\n",
      "   \"cell_type\": \"code\",\r\n",
      "   \"execution_count\": null,\r\n",
      "   \"id\": \"specialized-virtue\",\r\n",
      "   \"metadata\": {},\r\n",
      "   \"outputs\": [],\r\n",
      "   \"source\": [\r\n",
      "    \"#Make JSONs\\n\"\r\n",
      "   ]\r\n",
      "  },\r\n",
      "  {\r\n",
      "   \"cell_type\": \"markdown\",\r\n",
      "   \"id\": \"sticky-cliff\",\r\n",
      "   \"metadata\": {},\r\n",
      "   \"source\": [\r\n",
      "    \"### Copy Your Data to PRP S3\"\r\n",
      "   ]\r\n",
      "  },\r\n",
      "  {\r\n",
      "   \"cell_type\": \"code\",\r\n",
      "   \"execution_count\": null,\r\n",
      "   \"id\": \"located-thanksgiving\",\r\n",
      "   \"metadata\": {},\r\n",
      "   \"outputs\": [],\r\n",
      "   \"source\": [\r\n",
      "    \"#[press a button to copy]\\n\"\r\n",
      "   ]\r\n",
      "  },\r\n",
      "  {\r\n",
      "   \"cell_type\": \"code\",\r\n",
      "   \"execution_count\": null,\r\n",
      "   \"id\": \"ba395fe6\",\r\n",
      "   \"metadata\": {},\r\n",
      "   \"outputs\": [],\r\n",
      "   \"source\": []\r\n",
      "  },\r\n",
      "  {\r\n",
      "   \"cell_type\": \"code\",\r\n",
      "   \"execution_count\": null,\r\n",
      "   \"id\": \"23ddc6b9\",\r\n",
      "   \"metadata\": {},\r\n",
      "   \"outputs\": [],\r\n",
      "   \"source\": []\r\n",
      "  },\r\n",
      "  {\r\n",
      "   \"cell_type\": \"code\",\r\n",
      "   \"execution_count\": null,\r\n",
      "   \"id\": \"45692ff9\",\r\n",
      "   \"metadata\": {},\r\n",
      "   \"outputs\": [],\r\n",
      "   \"source\": []\r\n",
      "  },\r\n",
      "  {\r\n",
      "   \"cell_type\": \"code\",\r\n",
      "   \"execution_count\": null,\r\n",
      "   \"id\": \"05fd3e2f\",\r\n",
      "   \"metadata\": {},\r\n",
      "   \"outputs\": [],\r\n",
      "   \"source\": []\r\n",
      "  },\r\n",
      "  {\r\n",
      "   \"cell_type\": \"markdown\",\r\n",
      "   \"id\": \"adolescent-patrol\",\r\n",
      "   \"metadata\": {},\r\n",
      "   \"source\": [\r\n",
      "    \"### Post a Github Issue To Announce the Dataset\"\r\n",
      "   ]\r\n",
      "  },\r\n",
      "  {\r\n",
      "   \"cell_type\": \"markdown\",\r\n",
      "   \"id\": \"cultural-victoria\",\r\n",
      "   \"metadata\": {},\r\n",
      "   \"source\": [\r\n",
      "    \"**Github issue content:**\\n\",\r\n",
      "    \"\\n\",\r\n",
      "    \"Title: Experiment UUID\\n\",\r\n",
      "    \"\\n\",\r\n",
      "    \"Body: Medatata.json?? as plaintext? \\n\",\r\n",
      "    \"\\n\",\r\n",
      "    \"+ info about who uploaded it & did the experiment\"\r\n",
      "   ]\r\n",
      "  },\r\n",
      "  {\r\n",
      "   \"cell_type\": \"code\",\r\n",
      "   \"execution_count\": null,\r\n",
      "   \"id\": \"moving-regular\",\r\n",
      "   \"metadata\": {},\r\n",
      "   \"outputs\": [],\r\n",
      "   \"source\": [\r\n",
      "    \"#Preview content before posting???\\n\",\r\n",
      "    \"# print JSONs, etc.\"\r\n",
      "   ]\r\n",
      "  },\r\n",
      "  {\r\n",
      "   \"cell_type\": \"code\",\r\n",
      "   \"execution_count\": null,\r\n",
      "   \"id\": \"computational-anchor\",\r\n",
      "   \"metadata\": {},\r\n",
      "   \"outputs\": [],\r\n",
      "   \"source\": [\r\n",
      "    \"#[press a button to post github issue]\\n\",\r\n",
      "    \"# How to post an automated github issue with Python: https://gist.github.com/JeffPaine/3145490\"\r\n",
      "   ]\r\n",
      "  },\r\n",
      "  {\r\n",
      "   \"cell_type\": \"markdown\",\r\n",
      "   \"id\": \"comprehensive-sender\",\r\n",
      "   \"metadata\": {},\r\n",
      "   \"source\": []\r\n",
      "  },\r\n",
      "  {\r\n",
      "   \"cell_type\": \"code\",\r\n",
      "   \"execution_count\": null,\r\n",
      "   \"id\": \"7abcac52\",\r\n",
      "   \"metadata\": {},\r\n",
      "   \"outputs\": [],\r\n",
      "   \"source\": []\r\n",
      "  },\r\n",
      "  {\r\n",
      "   \"cell_type\": \"code\",\r\n",
      "   \"execution_count\": null,\r\n",
      "   \"id\": \"aa80fd94\",\r\n",
      "   \"metadata\": {},\r\n",
      "   \"outputs\": [],\r\n",
      "   \"source\": []\r\n",
      "  },\r\n",
      "  {\r\n",
      "   \"cell_type\": \"code\",\r\n",
      "   \"execution_count\": null,\r\n",
      "   \"id\": \"d812d53d\",\r\n",
      "   \"metadata\": {},\r\n",
      "   \"outputs\": [],\r\n",
      "   \"source\": []\r\n",
      "  },\r\n",
      "  {\r\n",
      "   \"cell_type\": \"markdown\",\r\n",
      "   \"id\": \"organic-giving\",\r\n",
      "   \"metadata\": {},\r\n",
      "   \"source\": [\r\n",
      "    \"# Create a Metadata JSON File\"\r\n",
      "   ]\r\n",
      "  },\r\n",
      "  {\r\n",
      "   \"cell_type\": \"markdown\",\r\n",
      "   \"id\": \"conscious-village\",\r\n",
      "   \"metadata\": {},\r\n",
      "   \"source\": [\r\n",
      "    \"Experiment should have a **metadata.json** file which looks like this: \\n\",\r\n",
      "    \"\\n\",\r\n",
      "    \"        {\\n\",\r\n",
      "    \"        \\\"experiments\\\": [\\n\",\r\n",
      "    \"            \\\"6well-raspi-2020-10-06-18-28-54.json\\\",\\n\",\r\n",
      "    \"            \\\"6well-raspi-2020-10-06-18-30-17.json\\\",\\n\",\r\n",
      "    \"            \\\"6well-intancontroller.json\\\",\\n\",\r\n",
      "    \"            \\\"24well-intancontroller.json\\\"\\n\",\r\n",
      "    \"        ],\\n\",\r\n",
      "    \"        \\\"issue\\\": \\\" \\\",\\n\",\r\n",
      "    \"        \\\"notes\\\": \\\" \\\",\\n\",\r\n",
      "    \"        \\\"timestamp\\\": \\\"2020-10-06T17:41:31\\\",\\n\",\r\n",
      "    \"        \\\"uuid\\\": \\\"2020-10-06-e-UCSF-neurons-axionplate\\\"\\n\",\r\n",
      "    \"        }\"\r\n",
      "   ]\r\n",
      "  },\r\n",
      "  {\r\n",
      "   \"cell_type\": \"code\",\r\n",
      "   \"execution_count\": null,\r\n",
      "   \"id\": \"american-benefit\",\r\n",
      "   \"metadata\": {},\r\n",
      "   \"outputs\": [],\r\n",
      "   \"source\": [\r\n",
      "    \"# Create & save metadata.json\\n\",\r\n",
      "    \"\\n\",\r\n",
      "    \"# Save JSON file\\n\",\r\n",
      "    \"with open(UUID, \\\"rw\\\") as fp:\\n\",\r\n",
      "    \"    metadata = json.load(fp)\\n\",\r\n",
      "    \"    #metadata[\\\"experiments\\\"] = json_names\\n\",\r\n",
      "    \"    #metadata[\\\"timestamp\\\"] = \\\"2020-10-06T12:49:12\\\"\\n\",\r\n",
      "    \"    #metadata[\\\"uuid\\\"] = \\\"2020-10-06-e-UCSF-neurons-axionplate\\\"\\n\",\r\n",
      "    \"    #metadata[\\\"notes\\\"] = \\\"https://docs.google.com/document/d/1rphuB7pzRtAYW-MH67JWsbju1k_fUGopBwyqy2NniSk/edit?usp=sharing\\\"\\n\",\r\n",
      "    \"    json.dump(metadata, fp)\\n\",\r\n",
      "    \"print(\\\"Saved!\\\\n\\\")\\n\",\r\n",
      "    \"# Display JSON\\n\",\r\n",
      "    \"print(json.dumps(metadata, indent=4))\"\r\n",
      "   ]\r\n",
      "  },\r\n",
      "  {\r\n",
      "   \"cell_type\": \"code\",\r\n",
      "   \"execution_count\": null,\r\n",
      "   \"id\": \"proper-thumbnail\",\r\n",
      "   \"metadata\": {},\r\n",
      "   \"outputs\": [],\r\n",
      "   \"source\": [\r\n",
      "    \"#check an exitsing json\\n\",\r\n",
      "    \"e_guid = \\\"derived/2020-11-27-e-UCSF-axionplate/cells_faraday_1.json\\\"\\n\",\r\n",
      "    \"\\n\",\r\n",
      "    \"with open(e_guid, \\\"r\\\") as fp:\\n\",\r\n",
      "    \"    metadata = json.load(fp)\\n\",\r\n",
      "    \"\\n\",\r\n",
      "    \"# Display JSON\\n\",\r\n",
      "    \"print(json.dumps(metadata, indent=4))\\n\",\r\n",
      "    \"\\n\"\r\n",
      "   ]\r\n",
      "  },\r\n",
      "  {\r\n",
      "   \"cell_type\": \"markdown\",\r\n",
      "   \"id\": \"1c536796\",\r\n",
      "   \"metadata\": {},\r\n",
      "   \"source\": [\r\n",
      "    \"# Extra Code dump\"\r\n",
      "   ]\r\n",
      "  },\r\n",
      "  {\r\n",
      "   \"cell_type\": \"code\",\r\n",
      "   \"execution_count\": null,\r\n",
      "   \"id\": \"ambient-procedure\",\r\n",
      "   \"metadata\": {\r\n",
      "    \"slideshow\": {\r\n",
      "     \"slide_type\": \"slide\"\r\n",
      "    }\r\n",
      "   },\r\n",
      "   \"outputs\": [],\r\n",
      "   \"source\": [\r\n",
      "    \"#scrap code\\n\",\r\n",
      "    \"if UUID[11] == 'e': experiment_type = \\\"ephys\\\"\\n\",\r\n",
      "    \"if UUID[11] == 'f': experiment_type = \\\"fluidics\\\"\\n\",\r\n",
      "    \"if UUID[11] == 'i': experiment_type = \\\"imaging\\\"\\n\",\r\n",
      "    \"if UUID[11] == 'c': experiment_type = \\\"calcium\\\"\\n\",\r\n",
      "    \"if UUID[11] == 'p': experiment_type = \\\"patchclamp\\\"\\n\",\r\n",
      "    \"\\n\",\r\n",
      "    \"\\n\",\r\n",
      "    \"SOURCE=\\\"./*\\\"\\n\",\r\n",
      "    \"DESTINATION=\\\"s3://braingeneers/\\\" + experiment_type +\\\"/\\\" + UUID + \\\"/\\\"\\n\",\r\n",
      "    \"\\n\",\r\n",
      "    \"!aws --endpoint https://s3.nautilus.optiputer.net s3 cp $SOURCE $DESTINATION\\n\",\r\n",
      "    \"!aws --endpoint https://s3.nautilus.optiputer.net s3 ls s3://braingeneers/\\n\",\r\n",
      "    \"!aws3 ls s3://braingeneers/ \"\r\n",
      "   ]\r\n",
      "  },\r\n",
      "  {\r\n",
      "   \"cell_type\": \"code\",\r\n",
      "   \"execution_count\": null,\r\n",
      "   \"id\": \"1b416313\",\r\n",
      "   \"metadata\": {},\r\n",
      "   \"outputs\": [],\r\n",
      "   \"source\": [\r\n",
      "    \"#Elliott's code for JSON\\n\",\r\n",
      "    \"class renderJSON(object):\\n\",\r\n",
      "    \"    def __init__(self, json_data):\\n\",\r\n",
      "    \"        if isinstance(json_data, dict):\\n\",\r\n",
      "    \"            self.json_str = json.dumps(json_data)\\n\",\r\n",
      "    \"        else:\\n\",\r\n",
      "    \"            self.json_str = json_data\\n\",\r\n",
      "    \"        self.uuid = str(uuid.uuid4())\\n\",\r\n",
      "    \"        # This line is missed out in most of the versions of this script across the web, it is essential for this to work interleaved with print statements\\n\",\r\n",
      "    \"        self._ipython_display_()\\n\",\r\n",
      "    \"        \\n\",\r\n",
      "    \"    def _ipython_display_(self):\\n\",\r\n",
      "    \"        display(HTML('<div id=\\\"{}\\\" style=\\\"height: auto; width:100%;\\\"></div>'.format(self.uuid)))\\n\",\r\n",
      "    \"        display(HTML(\\\"\\\"\\\"<script>\\n\",\r\n",
      "    \"        require([\\\"https://rawgit.com/caldwell/renderjson/master/renderjson.js\\\"], function() {\\n\",\r\n",
      "    \"          renderjson.set_show_to_level(1)\\n\",\r\n",
      "    \"          document.getElementById('%s').appendChild(renderjson(%s))\\n\",\r\n",
      "    \"        });</script>\\n\",\r\n",
      "    \"        \\\"\\\"\\\" % (self.uuid, self.json_str)))\\n\",\r\n",
      "    \"        \\n\"\r\n",
      "   ]\r\n",
      "  },\r\n",
      "  {\r\n",
      "   \"cell_type\": \"code\",\r\n",
      "   \"execution_count\": null,\r\n",
      "   \"id\": \"915f7e66\",\r\n",
      "   \"metadata\": {},\r\n",
      "   \"outputs\": [],\r\n",
      "   \"source\": [\r\n",
      "    \"import uuid\"\r\n",
      "   ]\r\n",
      "  },\r\n",
      "  {\r\n",
      "   \"cell_type\": \"code\",\r\n",
      "   \"execution_count\": null,\r\n",
      "   \"id\": \"91df2f44\",\r\n",
      "   \"metadata\": {},\r\n",
      "   \"outputs\": [],\r\n",
      "   \"source\": [\r\n",
      "    \"renderJSON(metadata )\"\r\n",
      "   ]\r\n",
      "  },\r\n",
      "  {\r\n",
      "   \"cell_type\": \"code\",\r\n",
      "   \"execution_count\": null,\r\n",
      "   \"id\": \"286ee819\",\r\n",
      "   \"metadata\": {},\r\n",
      "   \"outputs\": [],\r\n",
      "   \"source\": []\r\n",
      "  },\r\n",
      "  {\r\n",
      "   \"cell_type\": \"code\",\r\n",
      "   \"execution_count\": null,\r\n",
      "   \"id\": \"2375d8c4\",\r\n",
      "   \"metadata\": {},\r\n",
      "   \"outputs\": [],\r\n",
      "   \"source\": [\r\n",
      "    \"#renderJSON(metadata)\"\r\n",
      "   ]\r\n",
      "  }\r\n",
      " ],\r\n",
      " \"metadata\": {\r\n",
      "  \"hide_input\": false,\r\n",
      "  \"kernelspec\": {\r\n",
      "   \"display_name\": \"Python 3\",\r\n",
      "   \"language\": \"python\",\r\n",
      "   \"name\": \"python3\"\r\n",
      "  },\r\n",
      "  \"language_info\": {\r\n",
      "   \"codemirror_mode\": {\r\n",
      "    \"name\": \"ipython\",\r\n",
      "    \"version\": 3\r\n",
      "   },\r\n",
      "   \"file_extension\": \".py\",\r\n",
      "   \"mimetype\": \"text/x-python\",\r\n",
      "   \"name\": \"python\",\r\n",
      "   \"nbconvert_exporter\": \"python\",\r\n",
      "   \"pygments_lexer\": \"ipython3\",\r\n",
      "   \"version\": \"3.8.8\"\r\n",
      "  },\r\n",
      "  \"toc\": {\r\n",
      "   \"base_numbering\": 1,\r\n",
      "   \"nav_menu\": {},\r\n",
      "   \"number_sections\": true,\r\n",
      "   \"sideBar\": true,\r\n",
      "   \"skip_h1_title\": false,\r\n",
      "   \"title_cell\": \"Table of Contents\",\r\n",
      "   \"title_sidebar\": \"Contents\",\r\n",
      "   \"toc_cell\": false,\r\n",
      "   \"toc_position\": {},\r\n",
      "   \"toc_section_display\": true,\r\n",
      "   \"toc_window_display\": false\r\n",
      "  },\r\n",
      "  \"varInspector\": {\r\n",
      "   \"cols\": {\r\n",
      "    \"lenName\": 16,\r\n",
      "    \"lenType\": 16,\r\n",
      "    \"lenVar\": 40\r\n",
      "   },\r\n",
      "   \"kernels_config\": {\r\n",
      "    \"python\": {\r\n",
      "     \"delete_cmd_postfix\": \"\",\r\n",
      "     \"delete_cmd_prefix\": \"del \",\r\n",
      "     \"library\": \"var_list.py\",\r\n",
      "     \"varRefreshCmd\": \"print(var_dic_list())\"\r\n",
      "    },\r\n",
      "    \"r\": {\r\n",
      "     \"delete_cmd_postfix\": \") \",\r\n",
      "     \"delete_cmd_prefix\": \"rm(\",\r\n",
      "     \"library\": \"var_list.r\",\r\n",
      "     \"varRefreshCmd\": \"cat(var_dic_list()) \"\r\n",
      "    }\r\n",
      "   },\r\n",
      "   \"types_to_exclude\": [\r\n",
      "    \"module\",\r\n",
      "    \"function\",\r\n",
      "    \"builtin_function_or_method\",\r\n",
      "    \"instance\",\r\n",
      "    \"_Feature\"\r\n",
      "   ],\r\n",
      "   \"window_display\": false\r\n",
      "  },\r\n",
      "  \"widgets\": {\r\n",
      "   \"application/vnd.jupyter.widget-state+json\": {\r\n",
      "    \"state\": {\r\n",
      "     \"00206c53f56445f7b81e5a84a59ca8b8\": {\r\n",
      "      \"model_module\": \"@jupyter-widgets/controls\",\r\n",
      "      \"model_module_version\": \"1.5.0\",\r\n",
      "      \"model_name\": \"DescriptionStyleModel\",\r\n",
      "      \"state\": {\r\n",
      "       \"description_width\": \"\"\r\n",
      "      }\r\n",
      "     },\r\n",
      "     \"0125b3df10864bc28c7aa72c16761893\": {\r\n",
      "      \"model_module\": \"@jupyter-widgets/base\",\r\n",
      "      \"model_module_version\": \"1.2.0\",\r\n",
      "      \"model_name\": \"LayoutModel\",\r\n",
      "      \"state\": {}\r\n",
      "     },\r\n",
      "     \"014b03db57894f2ea254cb030459be75\": {\r\n",
      "      \"model_module\": \"@jupyter-widgets/base\",\r\n",
      "      \"model_module_version\": \"1.2.0\",\r\n",
      "      \"model_name\": \"LayoutModel\",\r\n",
      "      \"state\": {}\r\n",
      "     },\r\n",
      "     \"01872858336b4f149fa4f085fdf7ee34\": {\r\n",
      "      \"model_module\": \"@jupyter-widgets/controls\",\r\n",
      "      \"model_module_version\": \"1.5.0\",\r\n",
      "      \"model_name\": \"DescriptionStyleModel\",\r\n",
      "      \"state\": {\r\n",
      "       \"description_width\": \"\"\r\n",
      "      }\r\n",
      "     },\r\n",
      "     \"0189947d5bda4b58a1c66d9427c710f9\": {\r\n",
      "      \"model_module\": \"@jupyter-widgets/controls\",\r\n",
      "      \"model_module_version\": \"1.5.0\",\r\n",
      "      \"model_name\": \"DatePickerModel\",\r\n",
      "      \"state\": {\r\n",
      "       \"description\": \"Exp. Date:\",\r\n",
      "       \"disabled\": false,\r\n",
      "       \"layout\": \"IPY_MODEL_81ac8ee36ac2417687d201b565a9da25\",\r\n",
      "       \"style\": \"IPY_MODEL_ed11a7cd0a87405b9d9437066e250b9c\"\r\n",
      "      }\r\n",
      "     },\r\n",
      "     \"01b13c18f8cc44ccae570619bca9c4d9\": {\r\n",
      "      \"model_module\": \"@jupyter-widgets/controls\",\r\n",
      "      \"model_module_version\": \"1.5.0\",\r\n",
      "      \"model_name\": \"HTMLModel\",\r\n",
      "      \"state\": {\r\n",
      "       \"layout\": \"IPY_MODEL_cdc3818e8ecd4d4f9536be296682ee96\",\r\n",
      "       \"style\": \"IPY_MODEL_00206c53f56445f7b81e5a84a59ca8b8\",\r\n",
      "       \"value\": \"<h3 class = 'text-center'><font color='purple'>createUUID</font>\"\r\n",
      "      }\r\n",
      "     },\r\n",
      "     \"02e5234163434ce28e77103628150e51\": {\r\n",
      "      \"model_module\": \"@jupyter-widgets/controls\",\r\n",
      "      \"model_module_version\": \"1.5.0\",\r\n",
      "      \"model_name\": \"ButtonStyleModel\",\r\n",
      "      \"state\": {}\r\n",
      "     },\r\n",
      "     \"03946f8f6d8a42928edb78a91f1c20cc\": {\r\n",
      "      \"model_module\": \"@jupyter-widgets/controls\",\r\n",
      "      \"model_module_version\": \"1.5.0\",\r\n",
      "      \"model_name\": \"DescriptionStyleModel\",\r\n",
      "      \"state\": {\r\n",
      "       \"description_width\": \"\"\r\n",
      "      }\r\n",
      "     },\r\n",
      "     \"043b104d4c4b48e88725f4c3c1d4c5e0\": {\r\n",
      "      \"model_module\": \"@jupyter-widgets/controls\",\r\n",
      "      \"model_module_version\": \"1.5.0\",\r\n",
      "      \"model_name\": \"ButtonModel\",\r\n",
      "      \"state\": {\r\n",
      "       \"description\": \"Create UUID\",\r\n",
      "       \"layout\": \"IPY_MODEL_dcaab493706f46a594f1bd88cd39b0cc\",\r\n",
      "       \"style\": \"IPY_MODEL_e33bb9f52e1342dfa001b701fbb7227c\",\r\n",
      "       \"tooltip\": \"UUID format: YYYY-MM-DD- experiment type - experiment shorthand\"\r\n",
      "      }\r\n",
      "     },\r\n",
      "     \"04416a8311374952be95108635895d69\": {\r\n",
      "      \"model_module\": \"@jupyter-widgets/controls\",\r\n",
      "      \"model_module_version\": \"1.5.0\",\r\n",
      "      \"model_name\": \"DescriptionStyleModel\",\r\n",
      "      \"state\": {\r\n",
      "       \"description_width\": \"\"\r\n",
      "      }\r\n",
      "     },\r\n",
      "     \"04d7c58bb80c4638918ea2d83e0d4fda\": {\r\n",
      "      \"model_module\": \"@jupyter-widgets/controls\",\r\n",
      "      \"model_module_version\": \"1.5.0\",\r\n",
      "      \"model_name\": \"ButtonStyleModel\",\r\n",
      "      \"state\": {}\r\n",
      "     },\r\n",
      "     \"05ba809ffef04b4389574c21e0e14633\": {\r\n",
      "      \"model_module\": \"@jupyter-widgets/base\",\r\n",
      "      \"model_module_version\": \"1.2.0\",\r\n",
      "      \"model_name\": \"LayoutModel\",\r\n",
      "      \"state\": {}\r\n",
      "     },\r\n",
      "     \"0613f092cd46488fbe68cef654ba6b53\": {\r\n",
      "      \"model_module\": \"@jupyter-widgets/controls\",\r\n",
      "      \"model_module_version\": \"1.5.0\",\r\n",
      "      \"model_name\": \"ButtonModel\",\r\n",
      "      \"state\": {\r\n",
      "       \"description\": \"Create UUID\",\r\n",
      "       \"layout\": \"IPY_MODEL_1b04a6d25f694a25a7b24f6142b91521\",\r\n",
      "       \"style\": \"IPY_MODEL_6742a928b9994912916d03a6ae97ca60\",\r\n",
      "       \"tooltip\": \"Create UUID\"\r\n",
      "      }\r\n",
      "     },\r\n",
      "     \"06277a43dedc4cf78d51977382824df5\": {\r\n",
      "      \"model_module\": \"@jupyter-widgets/controls\",\r\n",
      "      \"model_module_version\": \"1.5.0\",\r\n",
      "      \"model_name\": \"ButtonStyleModel\",\r\n",
      "      \"state\": {}\r\n",
      "     },\r\n",
      "     \"068d462235b4408d990c21b2a54218c6\": {\r\n",
      "      \"model_module\": \"@jupyter-widgets/base\",\r\n",
      "      \"model_module_version\": \"1.2.0\",\r\n",
      "      \"model_name\": \"LayoutModel\",\r\n",
      "      \"state\": {}\r\n",
      "     },\r\n",
      "     \"06c1e7d99f6846fcb9323cf2e54b6c69\": {\r\n",
      "      \"model_module\": \"@jupyter-widgets/controls\",\r\n",
      "      \"model_module_version\": \"1.5.0\",\r\n",
      "      \"model_name\": \"DropdownModel\",\r\n",
      "      \"state\": {\r\n",
      "       \"_options_labels\": [\r\n",
      "        \"Patch clamp\",\r\n",
      "        \"whole cell\",\r\n",
      "        \"micromanipulator\"\r\n",
      "       ],\r\n",
      "       \"description\": \"Clamp type:\",\r\n",
      "       \"index\": 0,\r\n",
      "       \"layout\": \"IPY_MODEL_a3d75f8cbb974c66b3265ae0c7c2e349\",\r\n",
      "       \"style\": \"IPY_MODEL_1021633910a04aeb8aa4952d829cc7ee\"\r\n",
      "      }\r\n",
      "     },\r\n",
      "     \"087937753c644fe88c68f898d59de717\": {\r\n",
      "      \"model_module\": \"@jupyter-widgets/base\",\r\n",
      "      \"model_module_version\": \"1.2.0\",\r\n",
      "      \"model_name\": \"LayoutModel\",\r\n",
      "      \"state\": {}\r\n",
      "     },\r\n",
      "     \"08bd2d4ce4cd4c80b9ba182f683e37d9\": {\r\n",
      "      \"model_module\": \"@jupyter-widgets/controls\",\r\n",
      "      \"model_module_version\": \"1.5.0\",\r\n",
      "      \"model_name\": \"DescriptionStyleModel\",\r\n",
      "      \"state\": {\r\n",
      "       \"description_width\": \"\"\r\n",
      "      }\r\n",
      "     },\r\n",
      "     \"09ef5cd9c5b549c88798c57a91554b6a\": {\r\n",
      "      \"model_module\": \"@jupyter-widgets/controls\",\r\n",
      "      \"model_module_version\": \"1.5.0\",\r\n",
      "      \"model_name\": \"ButtonStyleModel\",\r\n",
      "      \"state\": {}\r\n",
      "     },\r\n",
      "     \"0bdd7af2c31f4fb7984c55dfb6dcfef7\": {\r\n",
      "      \"model_module\": \"@jupyter-widgets/controls\",\r\n",
      "      \"model_module_version\": \"1.5.0\",\r\n",
      "      \"model_name\": \"DescriptionStyleModel\",\r\n",
      "      \"state\": {\r\n",
      "       \"description_width\": \"\"\r\n",
      "      }\r\n",
      "     },\r\n",
      "     \"0c206f04037c447e8d213899af075893\": {\r\n",
      "      \"model_module\": \"@jupyter-widgets/controls\",\r\n",
      "      \"model_module_version\": \"1.5.0\",\r\n",
      "      \"model_name\": \"DescriptionStyleModel\",\r\n",
      "      \"state\": {\r\n",
      "       \"description_width\": \"\"\r\n",
      "      }\r\n",
      "     },\r\n",
      "     \"0c4ba759b2aa480da2e5f9006f6fedfb\": {\r\n",
      "      \"model_module\": \"@jupyter-widgets/controls\",\r\n",
      "      \"model_module_version\": \"1.5.0\",\r\n",
      "      \"model_name\": \"VBoxModel\",\r\n",
      "      \"state\": {\r\n",
      "       \"children\": [\r\n",
      "        \"IPY_MODEL_52e374a952264bf9a0c3b0fe7dcdacd3\",\r\n",
      "        \"IPY_MODEL_6fc8cff7d568472a913c226f6d875cbb\"\r\n",
      "       ],\r\n",
      "       \"layout\": \"IPY_MODEL_344af883c23346758aae2c30a529f386\"\r\n",
      "      }\r\n",
      "     },\r\n",
      "     \"0c9022f2dd37465691fddd2a7e971813\": {\r\n",
      "      \"model_module\": \"@jupyter-widgets/controls\",\r\n",
      "      \"model_module_version\": \"1.5.0\",\r\n",
      "      \"model_name\": \"TextModel\",\r\n",
      "      \"state\": {\r\n",
      "       \"layout\": \"IPY_MODEL_a6ed29c49a3b4a76a34882be8a682a9f\",\r\n",
      "       \"style\": \"IPY_MODEL_08bd2d4ce4cd4c80b9ba182f683e37d9\"\r\n",
      "      }\r\n",
      "     },\r\n",
      "     \"0d71dce423ac456ca13a973275bf4b95\": {\r\n",
      "      \"model_module\": \"@jupyter-widgets/controls\",\r\n",
      "      \"model_module_version\": \"1.5.0\",\r\n",
      "      \"model_name\": \"TextModel\",\r\n",
      "      \"state\": {\r\n",
      "       \"description\": \"Name: \",\r\n",
      "       \"layout\": \"IPY_MODEL_8c6763073fea4387a1e4296827ff4cee\",\r\n",
      "       \"placeholder\": \"Enter experiment name\",\r\n",
      "       \"style\": \"IPY_MODEL_b8c45263e25c418284f0a99de21fa63f\"\r\n",
      "      }\r\n",
      "     },\r\n",
      "     \"0db373cfdb724987899ff9ef1399eeff\": {\r\n",
      "      \"model_module\": \"@jupyter-widgets/base\",\r\n",
      "      \"model_module_version\": \"1.2.0\",\r\n",
      "      \"model_name\": \"LayoutModel\",\r\n",
      "      \"state\": {}\r\n",
      "     },\r\n",
      "     \"0db4ce97afbf41f3af90b1f39159c18e\": {\r\n",
      "      \"model_module\": \"@jupyter-widgets/controls\",\r\n",
      "      \"model_module_version\": \"1.5.0\",\r\n",
      "      \"model_name\": \"DropdownModel\",\r\n",
      "      \"state\": {\r\n",
      "       \"_options_labels\": [\r\n",
      "        \"MEA\",\r\n",
      "        \"Axion\",\r\n",
      "        \"SeaMoss\",\r\n",
      "        \"Roberts\"\r\n",
      "       ],\r\n",
      "       \"description\": \"Type:\",\r\n",
      "       \"index\": 0,\r\n",
      "       \"layout\": \"IPY_MODEL_d2baf602595c4d49a4a84788222e3ad4\",\r\n",
      "       \"style\": \"IPY_MODEL_a596ce1d7352441a86ae80d87f4b2547\"\r\n",
      "      }\r\n",
      "     },\r\n",
      "     \"0e6bdc1e096148c0a8796c28910dc194\": {\r\n",
      "      \"model_module\": \"@jupyter-widgets/controls\",\r\n",
      "      \"model_module_version\": \"1.5.0\",\r\n",
      "      \"model_name\": \"DescriptionStyleModel\",\r\n",
      "      \"state\": {\r\n",
      "       \"description_width\": \"\"\r\n",
      "      }\r\n",
      "     },\r\n",
      "     \"0e73e2f614d1423a95b8884f147a99c3\": {\r\n",
      "      \"model_module\": \"@jupyter-widgets/base\",\r\n",
      "      \"model_module_version\": \"1.2.0\",\r\n",
      "      \"model_name\": \"LayoutModel\",\r\n",
      "      \"state\": {}\r\n",
      "     },\r\n",
      "     \"0e96bd81c0a041dcb5b1c6101bce9c71\": {\r\n",
      "      \"model_module\": \"@jupyter-widgets/controls\",\r\n",
      "      \"model_module_version\": \"1.5.0\",\r\n",
      "      \"model_name\": \"ButtonModel\",\r\n",
      "      \"state\": {\r\n",
      "       \"description\": \"Create UUID\",\r\n",
      "       \"layout\": \"IPY_MODEL_e80cfb63127645c59bdedbbd2c02b1db\",\r\n",
      "       \"style\": \"IPY_MODEL_fbe8dc92e46b43359bcf43f0aa3aed80\",\r\n",
      "       \"tooltip\": \"UUID format: YYYY-MM-DD- experiment type - experiment shorthand\"\r\n",
      "      }\r\n",
      "     },\r\n",
      "     \"0e9e973a4c0a4f5aa6809df38842aafe\": {\r\n",
      "      \"model_module\": \"@jupyter-widgets/controls\",\r\n",
      "      \"model_module_version\": \"1.5.0\",\r\n",
      "      \"model_name\": \"DescriptionStyleModel\",\r\n",
      "      \"state\": {\r\n",
      "       \"description_width\": \"\"\r\n",
      "      }\r\n",
      "     },\r\n",
      "     \"0ea62bdeb65e43768fec10fb08e28bac\": {\r\n",
      "      \"model_module\": \"@jupyter-widgets/controls\",\r\n",
      "      \"model_module_version\": \"1.5.0\",\r\n",
      "      \"model_name\": \"DropdownModel\",\r\n",
      "      \"state\": {\r\n",
      "       \"_options_labels\": [\r\n",
      "        \"Calcium\",\r\n",
      "        \"Ephys\",\r\n",
      "        \"Fluidics\",\r\n",
      "        \"Imagingi\",\r\n",
      "        \"MEA\",\r\n",
      "        \"Patch Clamp\"\r\n",
      "       ],\r\n",
      "       \"description\": \"Type:\",\r\n",
      "       \"index\": 0,\r\n",
      "       \"layout\": \"IPY_MODEL_2c523b5bcbdb4ea0b5f23fa09b8ed298\",\r\n",
      "       \"style\": \"IPY_MODEL_9ae648a5d5b24c5b9d64d83cca8dc267\"\r\n",
      "      }\r\n",
      "     },\r\n",
      "     \"0ed21d4cbb75435d856e161a11390acf\": {\r\n",
      "      \"model_module\": \"@jupyter-widgets/base\",\r\n",
      "      \"model_module_version\": \"1.2.0\",\r\n",
      "      \"model_name\": \"LayoutModel\",\r\n",
      "      \"state\": {}\r\n",
      "     },\r\n",
      "     \"0f33cb942f33466fa772493da0636510\": {\r\n",
      "      \"model_module\": \"@jupyter-widgets/controls\",\r\n",
      "      \"model_module_version\": \"1.5.0\",\r\n",
      "      \"model_name\": \"TextModel\",\r\n",
      "      \"state\": {\r\n",
      "       \"description\": \"Name: \",\r\n",
      "       \"layout\": \"IPY_MODEL_bd7f0b0570044fbdaa95ddbdf904edb2\",\r\n",
      "       \"placeholder\": \"Enter experiment name\",\r\n",
      "       \"style\": \"IPY_MODEL_04416a8311374952be95108635895d69\",\r\n",
      "       \"value\": \"MaxOne\"\r\n",
      "      }\r\n",
      "     },\r\n",
      "     \"0f66fddc2eb64c99ac1b1db62699144e\": {\r\n",
      "      \"model_module\": \"@jupyter-widgets/base\",\r\n",
      "      \"model_module_version\": \"1.2.0\",\r\n",
      "      \"model_name\": \"LayoutModel\",\r\n",
      "      \"state\": {}\r\n",
      "     },\r\n",
      "     \"0fb748e0360649fc9799b95f92f4d7fa\": {\r\n",
      "      \"model_module\": \"@jupyter-widgets/controls\",\r\n",
      "      \"model_module_version\": \"1.5.0\",\r\n",
      "      \"model_name\": \"FileUploadModel\",\r\n",
      "      \"state\": {\r\n",
      "       \"description_tooltip\": null,\r\n",
      "       \"layout\": \"IPY_MODEL_f481c5ff1d954d619d0016cccf776a5c\",\r\n",
      "       \"multiple\": true,\r\n",
      "       \"style\": \"IPY_MODEL_a0cadf2aa2674dd0abf2b01c8d09303b\"\r\n",
      "      }\r\n",
      "     },\r\n",
      "     \"0fe317ed2b14466481b5d212d48cc0ae\": {\r\n",
      "      \"model_module\": \"@jupyter-widgets/controls\",\r\n",
      "      \"model_module_version\": \"1.5.0\",\r\n",
      "      \"model_name\": \"ButtonModel\",\r\n",
      "      \"state\": {\r\n",
      "       \"description\": \"Create UUID\",\r\n",
      "       \"layout\": \"IPY_MODEL_d259da5e96114272a370175d7467043b\",\r\n",
      "       \"style\": \"IPY_MODEL_659697b6aa914cc6bb5d0de2a21097fc\",\r\n",
      "       \"tooltip\": \"UUID format: YYYY-MM-DD- experiment type - experiment shorthand\"\r\n",
      "      }\r\n",
      "     },\r\n",
      "     \"1021633910a04aeb8aa4952d829cc7ee\": {\r\n",
      "      \"model_module\": \"@jupyter-widgets/controls\",\r\n",
      "      \"model_module_version\": \"1.5.0\",\r\n",
      "      \"model_name\": \"DescriptionStyleModel\",\r\n",
      "      \"state\": {\r\n",
      "       \"description_width\": \"\"\r\n",
      "      }\r\n",
      "     },\r\n",
      "     \"10607d03153047deada9da495707b420\": {\r\n",
      "      \"model_module\": \"@jupyter-widgets/controls\",\r\n",
      "      \"model_module_version\": \"1.5.0\",\r\n",
      "      \"model_name\": \"DropdownModel\",\r\n",
      "      \"state\": {\r\n",
      "       \"_options_labels\": [\r\n",
      "        \"MEA\",\r\n",
      "        \"Axion\",\r\n",
      "        \"SeaMoss\",\r\n",
      "        \"Roberts\"\r\n",
      "       ],\r\n",
      "       \"description\": \"Type:\",\r\n",
      "       \"index\": 0,\r\n",
      "       \"layout\": \"IPY_MODEL_fd6d443ee595427795390706af304eec\",\r\n",
      "       \"style\": \"IPY_MODEL_10fcfb50626241119ff71a6c76556e80\"\r\n",
      "      }\r\n",
      "     },\r\n",
      "     \"10af70f7cfd148368037a5ca0737565f\": {\r\n",
      "      \"model_module\": \"@jupyter-widgets/controls\",\r\n",
      "      \"model_module_version\": \"1.5.0\",\r\n",
      "      \"model_name\": \"DescriptionStyleModel\",\r\n",
      "      \"state\": {\r\n",
      "       \"description_width\": \"\"\r\n",
      "      }\r\n",
      "     },\r\n",
      "     \"10e1745c43da4e1a93e9db95ece112ef\": {\r\n",
      "      \"model_module\": \"@jupyter-widgets/base\",\r\n",
      "      \"model_module_version\": \"1.2.0\",\r\n",
      "      \"model_name\": \"LayoutModel\",\r\n",
      "      \"state\": {}\r\n",
      "     },\r\n",
      "     \"10fcfb50626241119ff71a6c76556e80\": {\r\n",
      "      \"model_module\": \"@jupyter-widgets/controls\",\r\n",
      "      \"model_module_version\": \"1.5.0\",\r\n",
      "      \"model_name\": \"DescriptionStyleModel\",\r\n",
      "      \"state\": {\r\n",
      "       \"description_width\": \"\"\r\n",
      "      }\r\n",
      "     },\r\n",
      "     \"12856c32566f45f9afb1878636ca27bb\": {\r\n",
      "      \"model_module\": \"@jupyter-widgets/controls\",\r\n",
      "      \"model_module_version\": \"1.5.0\",\r\n",
      "      \"model_name\": \"DescriptionStyleModel\",\r\n",
      "      \"state\": {\r\n",
      "       \"description_width\": \"\"\r\n",
      "      }\r\n",
      "     },\r\n",
      "     \"12d017187bcd482a87461fc14f6bd0b4\": {\r\n",
      "      \"model_module\": \"@jupyter-widgets/base\",\r\n",
      "      \"model_module_version\": \"1.2.0\",\r\n",
      "      \"model_name\": \"LayoutModel\",\r\n",
      "      \"state\": {}\r\n",
      "     },\r\n",
      "     \"13287f5202c842989e6d27c76814d422\": {\r\n",
      "      \"model_module\": \"@jupyter-widgets/controls\",\r\n",
      "      \"model_module_version\": \"1.5.0\",\r\n",
      "      \"model_name\": \"ButtonStyleModel\",\r\n",
      "      \"state\": {}\r\n",
      "     },\r\n",
      "     \"1441d838d72a45e4ac69b60afbf6ef76\": {\r\n",
      "      \"model_module\": \"@jupyter-widgets/controls\",\r\n",
      "      \"model_module_version\": \"1.5.0\",\r\n",
      "      \"model_name\": \"DropdownModel\",\r\n",
      "      \"state\": {\r\n",
      "       \"_options_labels\": [\r\n",
      "        \"MEA\",\r\n",
      "        \"Axion\",\r\n",
      "        \"SeaMoss\",\r\n",
      "        \"Roberts\"\r\n",
      "       ],\r\n",
      "       \"description\": \"Type:\",\r\n",
      "       \"index\": 0,\r\n",
      "       \"layout\": \"IPY_MODEL_4797d244902e45f5b756ebd2ee6117df\",\r\n",
      "       \"style\": \"IPY_MODEL_f5b6b4f3de894206b91dbaab06124f22\"\r\n",
      "      }\r\n",
      "     },\r\n",
      "     \"146d759ea91a4bd19b646b9dac31482c\": {\r\n",
      "      \"model_module\": \"@jupyter-widgets/base\",\r\n",
      "      \"model_module_version\": \"1.2.0\",\r\n",
      "      \"model_name\": \"LayoutModel\",\r\n",
      "      \"state\": {}\r\n",
      "     },\r\n",
      "     \"146fc64d2d35468ab9219ccabb6c73d7\": {\r\n",
      "      \"model_module\": \"@jupyter-widgets/controls\",\r\n",
      "      \"model_module_version\": \"1.5.0\",\r\n",
      "      \"model_name\": \"DescriptionStyleModel\",\r\n",
      "      \"state\": {\r\n",
      "       \"description_width\": \"\"\r\n",
      "      }\r\n",
      "     },\r\n",
      "     \"1508c1b406434a919ee334fe9e8a168d\": {\r\n",
      "      \"model_module\": \"@jupyter-widgets/base\",\r\n",
      "      \"model_module_version\": \"1.2.0\",\r\n",
      "      \"model_name\": \"LayoutModel\",\r\n",
      "      \"state\": {}\r\n",
      "     },\r\n",
      "     \"15bd7c58a4f44805a9b60059c5eea5e3\": {\r\n",
      "      \"model_module\": \"@jupyter-widgets/base\",\r\n",
      "      \"model_module_version\": \"1.2.0\",\r\n",
      "      \"model_name\": \"LayoutModel\",\r\n",
      "      \"state\": {}\r\n",
      "     },\r\n",
      "     \"15e1178446b148c2a362038ffeca2a32\": {\r\n",
      "      \"model_module\": \"@jupyter-widgets/base\",\r\n",
      "      \"model_module_version\": \"1.2.0\",\r\n",
      "      \"model_name\": \"LayoutModel\",\r\n",
      "      \"state\": {}\r\n",
      "     },\r\n",
      "     \"16335bb5ff89461ab2a7b86dd09f635d\": {\r\n",
      "      \"model_module\": \"@jupyter-widgets/base\",\r\n",
      "      \"model_module_version\": \"1.2.0\",\r\n",
      "      \"model_name\": \"LayoutModel\",\r\n",
      "      \"state\": {}\r\n",
      "     },\r\n",
      "     \"16f128cfb33c4f3e9d0b7b6d34563b37\": {\r\n",
      "      \"model_module\": \"@jupyter-widgets/controls\",\r\n",
      "      \"model_module_version\": \"1.5.0\",\r\n",
      "      \"model_name\": \"DescriptionStyleModel\",\r\n",
      "      \"state\": {\r\n",
      "       \"description_width\": \"\"\r\n",
      "      }\r\n",
      "     },\r\n",
      "     \"17d011a2e26c440f923ab6310b3e516a\": {\r\n",
      "      \"model_module\": \"@jupyter-widgets/controls\",\r\n",
      "      \"model_module_version\": \"1.5.0\",\r\n",
      "      \"model_name\": \"DescriptionStyleModel\",\r\n",
      "      \"state\": {\r\n",
      "       \"description_width\": \"\"\r\n",
      "      }\r\n",
      "     },\r\n",
      "     \"17d73719afd043a0be6a4cdaec09e57d\": {\r\n",
      "      \"model_module\": \"@jupyter-widgets/base\",\r\n",
      "      \"model_module_version\": \"1.2.0\",\r\n",
      "      \"model_name\": \"LayoutModel\",\r\n",
      "      \"state\": {}\r\n",
      "     },\r\n",
      "     \"1883cb7fc044409b9c1c30e34762b2bb\": {\r\n",
      "      \"model_module\": \"@jupyter-widgets/base\",\r\n",
      "      \"model_module_version\": \"1.2.0\",\r\n",
      "      \"model_name\": \"LayoutModel\",\r\n",
      "      \"state\": {}\r\n",
      "     },\r\n",
      "     \"197c87f71d66475488746a501aec869f\": {\r\n",
      "      \"model_module\": \"@jupyter-widgets/base\",\r\n",
      "      \"model_module_version\": \"1.2.0\",\r\n",
      "      \"model_name\": \"LayoutModel\",\r\n",
      "      \"state\": {}\r\n",
      "     },\r\n",
      "     \"19b29c42d7bd44ce9beba39eb6c813ce\": {\r\n",
      "      \"model_module\": \"@jupyter-widgets/controls\",\r\n",
      "      \"model_module_version\": \"1.5.0\",\r\n",
      "      \"model_name\": \"DescriptionStyleModel\",\r\n",
      "      \"state\": {\r\n",
      "       \"description_width\": \"\"\r\n",
      "      }\r\n",
      "     },\r\n",
      "     \"19f47bcdffce49c5bbd0ea0d4bf59e58\": {\r\n",
      "      \"model_module\": \"@jupyter-widgets/base\",\r\n",
      "      \"model_module_version\": \"1.2.0\",\r\n",
      "      \"model_name\": \"LayoutModel\",\r\n",
      "      \"state\": {}\r\n",
      "     },\r\n",
      "     \"1b04a6d25f694a25a7b24f6142b91521\": {\r\n",
      "      \"model_module\": \"@jupyter-widgets/base\",\r\n",
      "      \"model_module_version\": \"1.2.0\",\r\n",
      "      \"model_name\": \"LayoutModel\",\r\n",
      "      \"state\": {}\r\n",
      "     },\r\n",
      "     \"1b1abf1181584f7c82213b6a7124d742\": {\r\n",
      "      \"model_module\": \"@jupyter-widgets/controls\",\r\n",
      "      \"model_module_version\": \"1.5.0\",\r\n",
      "      \"model_name\": \"DescriptionStyleModel\",\r\n",
      "      \"state\": {\r\n",
      "       \"description_width\": \"\"\r\n",
      "      }\r\n",
      "     },\r\n",
      "     \"1bcbfd39cfb042a090ad8471ddf519d4\": {\r\n",
      "      \"model_module\": \"@jupyter-widgets/base\",\r\n",
      "      \"model_module_version\": \"1.2.0\",\r\n",
      "      \"model_name\": \"LayoutModel\",\r\n",
      "      \"state\": {}\r\n",
      "     },\r\n",
      "     \"1c4600ebba694c4d80e24b7e193c9c0b\": {\r\n",
      "      \"model_module\": \"@jupyter-widgets/controls\",\r\n",
      "      \"model_module_version\": \"1.5.0\",\r\n",
      "      \"model_name\": \"DescriptionStyleModel\",\r\n",
      "      \"state\": {\r\n",
      "       \"description_width\": \"\"\r\n",
      "      }\r\n",
      "     },\r\n",
      "     \"1d5c63b8430545ee99d70f1f89d06668\": {\r\n",
      "      \"model_module\": \"@jupyter-widgets/base\",\r\n",
      "      \"model_module_version\": \"1.2.0\",\r\n",
      "      \"model_name\": \"LayoutModel\",\r\n",
      "      \"state\": {}\r\n",
      "     },\r\n",
      "     \"1d7801b6065747fcae2780a78bda2b62\": {\r\n",
      "      \"model_module\": \"@jupyter-widgets/controls\",\r\n",
      "      \"model_module_version\": \"1.5.0\",\r\n",
      "      \"model_name\": \"DescriptionStyleModel\",\r\n",
      "      \"state\": {\r\n",
      "       \"description_width\": \"\"\r\n",
      "      }\r\n",
      "     },\r\n",
      "     \"1d85d2d7587c4aea8477c579889626b9\": {\r\n",
      "      \"model_module\": \"@jupyter-widgets/controls\",\r\n",
      "      \"model_module_version\": \"1.5.0\",\r\n",
      "      \"model_name\": \"ButtonModel\",\r\n",
      "      \"state\": {\r\n",
      "       \"description\": \"Create UUID\",\r\n",
      "       \"layout\": \"IPY_MODEL_e48df8d371ad4d1a9d12d30551fadca8\",\r\n",
      "       \"style\": \"IPY_MODEL_39bccc9dd8484f93b08a068c270cb616\",\r\n",
      "       \"tooltip\": \"UUID format: YYYY-MM-DD- experiment type - experiment shorthand\"\r\n",
      "      }\r\n",
      "     },\r\n",
      "     \"1efd02f686f9434bbbe7b4a53ffd5b04\": {\r\n",
      "      \"model_module\": \"@jupyter-widgets/controls\",\r\n",
      "      \"model_module_version\": \"1.5.0\",\r\n",
      "      \"model_name\": \"DescriptionStyleModel\",\r\n",
      "      \"state\": {\r\n",
      "       \"description_width\": \"\"\r\n",
      "      }\r\n",
      "     },\r\n",
      "     \"1f5ffa33e7aa43fcb3f5c8c05eef0ce1\": {\r\n",
      "      \"model_module\": \"@jupyter-widgets/controls\",\r\n",
      "      \"model_module_version\": \"1.5.0\",\r\n",
      "      \"model_name\": \"ButtonStyleModel\",\r\n",
      "      \"state\": {}\r\n",
      "     },\r\n",
      "     \"1fed37d68f4c4a6d8dcaacab22056f38\": {\r\n",
      "      \"model_module\": \"@jupyter-widgets/controls\",\r\n",
      "      \"model_module_version\": \"1.5.0\",\r\n",
      "      \"model_name\": \"ButtonModel\",\r\n",
      "      \"state\": {\r\n",
      "       \"description\": \"Create UUID\",\r\n",
      "       \"layout\": \"IPY_MODEL_7f2fdfc03c084668a223ae1f008c1378\",\r\n",
      "       \"style\": \"IPY_MODEL_4c64afb4e3944a8d85417fd720840696\",\r\n",
      "       \"tooltip\": \"UUID format: YYYY-MM-DD- experiment type - experiment shorthand\"\r\n",
      "      }\r\n",
      "     },\r\n",
      "     \"2088e518090047ecb01fe1cae1265bc9\": {\r\n",
      "      \"model_module\": \"@jupyter-widgets/controls\",\r\n",
      "      \"model_module_version\": \"1.5.0\",\r\n",
      "      \"model_name\": \"DropdownModel\",\r\n",
      "      \"state\": {\r\n",
      "       \"_options_labels\": [\r\n",
      "        \"ca2+\",\r\n",
      "        \"eGFP\",\r\n",
      "        \"k+\"\r\n",
      "       ],\r\n",
      "       \"description\": \"Type:\",\r\n",
      "       \"index\": 0,\r\n",
      "       \"layout\": \"IPY_MODEL_726a1924a0d3445ab6df969a928971d5\",\r\n",
      "       \"style\": \"IPY_MODEL_5e28e5a54b3445abb996099c4f508f39\"\r\n",
      "      }\r\n",
      "     },\r\n",
      "     \"21f26d8fa6c847ef9d85514b9fdfeddb\": {\r\n",
      "      \"model_module\": \"@jupyter-widgets/controls\",\r\n",
      "      \"model_module_version\": \"1.5.0\",\r\n",
      "      \"model_name\": \"DescriptionStyleModel\",\r\n",
      "      \"state\": {\r\n",
      "       \"description_width\": \"\"\r\n",
      "      }\r\n",
      "     },\r\n",
      "     \"22f9c48a6b6749eb84a14af5c65cece4\": {\r\n",
      "      \"model_module\": \"@jupyter-widgets/base\",\r\n",
      "      \"model_module_version\": \"1.2.0\",\r\n",
      "      \"model_name\": \"LayoutModel\",\r\n",
      "      \"state\": {}\r\n",
      "     },\r\n",
      "     \"233d0e08b63645d1a27966e6e0f591c2\": {\r\n",
      "      \"model_module\": \"@jupyter-widgets/controls\",\r\n",
      "      \"model_module_version\": \"1.5.0\",\r\n",
      "      \"model_name\": \"DescriptionStyleModel\",\r\n",
      "      \"state\": {\r\n",
      "       \"description_width\": \"\"\r\n",
      "      }\r\n",
      "     },\r\n",
      "     \"246588975ec74c29ad72e4a61fbaea88\": {\r\n",
      "      \"model_module\": \"@jupyter-widgets/controls\",\r\n",
      "      \"model_module_version\": \"1.5.0\",\r\n",
      "      \"model_name\": \"DescriptionStyleModel\",\r\n",
      "      \"state\": {\r\n",
      "       \"description_width\": \"\"\r\n",
      "      }\r\n",
      "     },\r\n",
      "     \"24e13b47e7794e11a1276e76470b9be6\": {\r\n",
      "      \"model_module\": \"@jupyter-widgets/base\",\r\n",
      "      \"model_module_version\": \"1.2.0\",\r\n",
      "      \"model_name\": \"LayoutModel\",\r\n",
      "      \"state\": {}\r\n",
      "     },\r\n",
      "     \"2543a1a61768467b8ae46e97cbcfa556\": {\r\n",
      "      \"model_module\": \"@jupyter-widgets/base\",\r\n",
      "      \"model_module_version\": \"1.2.0\",\r\n",
      "      \"model_name\": \"LayoutModel\",\r\n",
      "      \"state\": {}\r\n",
      "     },\r\n",
      "     \"25a902e66ef14c8ab3e7757223f1eadf\": {\r\n",
      "      \"model_module\": \"@jupyter-widgets/controls\",\r\n",
      "      \"model_module_version\": \"1.5.0\",\r\n",
      "      \"model_name\": \"ButtonModel\",\r\n",
      "      \"state\": {\r\n",
      "       \"description\": \"Create UUID\",\r\n",
      "       \"layout\": \"IPY_MODEL_d62d8d1c432244e1bb789dc51beb57bd\",\r\n",
      "       \"style\": \"IPY_MODEL_7cc58d367259434094adc6beb8455cc5\",\r\n",
      "       \"tooltip\": \"UUID format: YYYY-MM-DD- experiment type - experiment shorthand\"\r\n",
      "      }\r\n",
      "     },\r\n",
      "     \"267771e8079741ebbeb3d68957a7798a\": {\r\n",
      "      \"model_module\": \"@jupyter-widgets/controls\",\r\n",
      "      \"model_module_version\": \"1.5.0\",\r\n",
      "      \"model_name\": \"VBoxModel\",\r\n",
      "      \"state\": {\r\n",
      "       \"children\": [\r\n",
      "        \"IPY_MODEL_c180ed0cb5494ca8aa932e9bddce4eec\",\r\n",
      "        \"IPY_MODEL_e01e8be3123544f9b63f23a289e36af2\",\r\n",
      "        \"IPY_MODEL_d33c85ddfe7646c3b9d03a788d74316c\"\r\n",
      "       ],\r\n",
      "       \"layout\": \"IPY_MODEL_28c8d04a916b4a638e74bd8c54ef2ef0\"\r\n",
      "      }\r\n",
      "     },\r\n",
      "     \"282d24f33f02400d91c7ac8fd5c9278d\": {\r\n",
      "      \"model_module\": \"@jupyter-widgets/controls\",\r\n",
      "      \"model_module_version\": \"1.5.0\",\r\n",
      "      \"model_name\": \"DescriptionStyleModel\",\r\n",
      "      \"state\": {\r\n",
      "       \"description_width\": \"\"\r\n",
      "      }\r\n",
      "     },\r\n",
      "     \"28c8d04a916b4a638e74bd8c54ef2ef0\": {\r\n",
      "      \"model_module\": \"@jupyter-widgets/base\",\r\n",
      "      \"model_module_version\": \"1.2.0\",\r\n",
      "      \"model_name\": \"LayoutModel\",\r\n",
      "      \"state\": {}\r\n",
      "     },\r\n",
      "     \"297f93246093431e9a2ecba3f0c8346e\": {\r\n",
      "      \"model_module\": \"@jupyter-widgets/controls\",\r\n",
      "      \"model_module_version\": \"1.5.0\",\r\n",
      "      \"model_name\": \"ButtonStyleModel\",\r\n",
      "      \"state\": {}\r\n",
      "     },\r\n",
      "     \"2a6fc407d62d4d2cbd5da893e905c68a\": {\r\n",
      "      \"model_module\": \"@jupyter-widgets/controls\",\r\n",
      "      \"model_module_version\": \"1.5.0\",\r\n",
      "      \"model_name\": \"VBoxModel\",\r\n",
      "      \"state\": {\r\n",
      "       \"children\": [\r\n",
      "        \"IPY_MODEL_56020677244f4821b7383c1e9c06af55\",\r\n",
      "        \"IPY_MODEL_81ef746cc4fb4932b2669930fb674e07\",\r\n",
      "        \"IPY_MODEL_e49f4563050b42fe9c9a42a5d5fbaa43\"\r\n",
      "       ],\r\n",
      "       \"layout\": \"IPY_MODEL_6fc33914177a4b988c2c872eb5460603\"\r\n",
      "      }\r\n",
      "     },\r\n",
      "     \"2b5523ae71ee42bc80d57dcb8dec4cf3\": {\r\n",
      "      \"model_module\": \"@jupyter-widgets/controls\",\r\n",
      "      \"model_module_version\": \"1.5.0\",\r\n",
      "      \"model_name\": \"DatePickerModel\",\r\n",
      "      \"state\": {\r\n",
      "       \"description\": \"Exp. Date:\",\r\n",
      "       \"disabled\": false,\r\n",
      "       \"layout\": \"IPY_MODEL_e23b48f864d64900a59e6e343d066da0\",\r\n",
      "       \"style\": \"IPY_MODEL_401903b6a67a4ef1b5342b519491da31\"\r\n",
      "      }\r\n",
      "     },\r\n",
      "     \"2c12e8dadd584405860ce3f1ad57f26f\": {\r\n",
      "      \"model_module\": \"@jupyter-widgets/controls\",\r\n",
      "      \"model_module_version\": \"1.5.0\",\r\n",
      "      \"model_name\": \"DropdownModel\",\r\n",
      "      \"state\": {\r\n",
      "       \"_options_labels\": [\r\n",
      "        \"Patch clamp\",\r\n",
      "        \"whole cell\",\r\n",
      "        \"micromanipulator\"\r\n",
      "       ],\r\n",
      "       \"description\": \"Clamp type:\",\r\n",
      "       \"index\": 0,\r\n",
      "       \"layout\": \"IPY_MODEL_87c3ab05c70c4da289d63a1d88f769b3\",\r\n",
      "       \"style\": \"IPY_MODEL_bbd0bee01479422b9b533faf9ec3ab2a\"\r\n",
      "      }\r\n",
      "     },\r\n",
      "     \"2c40166f641949ab8c668abddb801f88\": {\r\n",
      "      \"model_module\": \"@jupyter-widgets/controls\",\r\n",
      "      \"model_module_version\": \"1.5.0\",\r\n",
      "      \"model_name\": \"ButtonStyleModel\",\r\n",
      "      \"state\": {}\r\n",
      "     },\r\n",
      "     \"2c4afc59477a4069b7c8d2c7f5514c5e\": {\r\n",
      "      \"model_module\": \"@jupyter-widgets/base\",\r\n",
      "      \"model_module_version\": \"1.2.0\",\r\n",
      "      \"model_name\": \"LayoutModel\",\r\n",
      "      \"state\": {}\r\n",
      "     },\r\n",
      "     \"2c523b5bcbdb4ea0b5f23fa09b8ed298\": {\r\n",
      "      \"model_module\": \"@jupyter-widgets/base\",\r\n",
      "      \"model_module_version\": \"1.2.0\",\r\n",
      "      \"model_name\": \"LayoutModel\",\r\n",
      "      \"state\": {}\r\n",
      "     },\r\n",
      "     \"2c77da93f1fc4e6ab197e6f70e8c014b\": {\r\n",
      "      \"model_module\": \"@jupyter-widgets/controls\",\r\n",
      "      \"model_module_version\": \"1.5.0\",\r\n",
      "      \"model_name\": \"TextModel\",\r\n",
      "      \"state\": {\r\n",
      "       \"description\": \"Name: \",\r\n",
      "       \"layout\": \"IPY_MODEL_e3b94087c997461dac5f114c14a36763\",\r\n",
      "       \"placeholder\": \"Enter experiment name\",\r\n",
      "       \"style\": \"IPY_MODEL_50358196b4a049a4aaa0ec0718d5604b\"\r\n",
      "      }\r\n",
      "     },\r\n",
      "     \"2d85eb4472264d16b97334402df6a696\": {\r\n",
      "      \"model_module\": \"@jupyter-widgets/base\",\r\n",
      "      \"model_module_version\": \"1.2.0\",\r\n",
      "      \"model_name\": \"LayoutModel\",\r\n",
      "      \"state\": {}\r\n",
      "     },\r\n",
      "     \"2dcd16c880044e96b6ec6f48cc4d2251\": {\r\n",
      "      \"model_module\": \"@jupyter-widgets/controls\",\r\n",
      "      \"model_module_version\": \"1.5.0\",\r\n",
      "      \"model_name\": \"ButtonModel\",\r\n",
      "      \"state\": {\r\n",
      "       \"description\": \"Create UUID\",\r\n",
      "       \"layout\": \"IPY_MODEL_df4e44ad696b4c06b15907a3fd7c44b5\",\r\n",
      "       \"style\": \"IPY_MODEL_4bbec1510bdc45dfa89c039b8352b183\",\r\n",
      "       \"tooltip\": \"UUID format: YYYY-MM-DD- experiment type - experiment shorthand\"\r\n",
      "      }\r\n",
      "     },\r\n",
      "     \"2ed5c862ea954028b4251ba5feeadd06\": {\r\n",
      "      \"model_module\": \"@jupyter-widgets/base\",\r\n",
      "      \"model_module_version\": \"1.2.0\",\r\n",
      "      \"model_name\": \"LayoutModel\",\r\n",
      "      \"state\": {}\r\n",
      "     },\r\n",
      "     \"3053b63360d34c72bbe58b8f39d48724\": {\r\n",
      "      \"model_module\": \"@jupyter-widgets/controls\",\r\n",
      "      \"model_module_version\": \"1.5.0\",\r\n",
      "      \"model_name\": \"DatePickerModel\",\r\n",
      "      \"state\": {\r\n",
      "       \"description\": \"Exp. Date:\",\r\n",
      "       \"disabled\": false,\r\n",
      "       \"layout\": \"IPY_MODEL_6d27ca4dcbcb4343ace7d636e0774a6e\",\r\n",
      "       \"style\": \"IPY_MODEL_0e9e973a4c0a4f5aa6809df38842aafe\"\r\n",
      "      }\r\n",
      "     },\r\n",
      "     \"319c4ed1ea24446f9497c21cbb74761b\": {\r\n",
      "      \"model_module\": \"@jupyter-widgets/base\",\r\n",
      "      \"model_module_version\": \"1.2.0\",\r\n",
      "      \"model_name\": \"LayoutModel\",\r\n",
      "      \"state\": {}\r\n",
      "     },\r\n",
      "     \"322a3c569c25435eab14663245a94db8\": {\r\n",
      "      \"model_module\": \"@jupyter-widgets/controls\",\r\n",
      "      \"model_module_version\": \"1.5.0\",\r\n",
      "      \"model_name\": \"FileUploadModel\",\r\n",
      "      \"state\": {\r\n",
      "       \"description_tooltip\": null,\r\n",
      "       \"layout\": \"IPY_MODEL_15bd7c58a4f44805a9b60059c5eea5e3\",\r\n",
      "       \"multiple\": true,\r\n",
      "       \"style\": \"IPY_MODEL_2c40166f641949ab8c668abddb801f88\"\r\n",
      "      }\r\n",
      "     },\r\n",
      "     \"3292792f7625423eae7930251e696c0b\": {\r\n",
      "      \"model_module\": \"@jupyter-widgets/controls\",\r\n",
      "      \"model_module_version\": \"1.5.0\",\r\n",
      "      \"model_name\": \"DescriptionStyleModel\",\r\n",
      "      \"state\": {\r\n",
      "       \"description_width\": \"\"\r\n",
      "      }\r\n",
      "     },\r\n",
      "     \"32ed6577c12b43f3b1ee3d8e13416ee8\": {\r\n",
      "      \"model_module\": \"@jupyter-widgets/controls\",\r\n",
      "      \"model_module_version\": \"1.5.0\",\r\n",
      "      \"model_name\": \"DescriptionStyleModel\",\r\n",
      "      \"state\": {\r\n",
      "       \"description_width\": \"\"\r\n",
      "      }\r\n",
      "     },\r\n",
      "     \"33001a54f08b41d980474df04d750f27\": {\r\n",
      "      \"model_module\": \"@jupyter-widgets/base\",\r\n",
      "      \"model_module_version\": \"1.2.0\",\r\n",
      "      \"model_name\": \"LayoutModel\",\r\n",
      "      \"state\": {}\r\n",
      "     },\r\n",
      "     \"3378f937a8f547f4b977f405fc30acff\": {\r\n",
      "      \"model_module\": \"@jupyter-widgets/controls\",\r\n",
      "      \"model_module_version\": \"1.5.0\",\r\n",
      "      \"model_name\": \"DescriptionStyleModel\",\r\n",
      "      \"state\": {\r\n",
      "       \"description_width\": \"\"\r\n",
      "      }\r\n",
      "     },\r\n",
      "     \"33d8b76c8dd744e5bc2a507347030f51\": {\r\n",
      "      \"model_module\": \"@jupyter-widgets/controls\",\r\n",
      "      \"model_module_version\": \"1.5.0\",\r\n",
      "      \"model_name\": \"DescriptionStyleModel\",\r\n",
      "      \"state\": {\r\n",
      "       \"description_width\": \"\"\r\n",
      "      }\r\n",
      "     },\r\n",
      "     \"344af883c23346758aae2c30a529f386\": {\r\n",
      "      \"model_module\": \"@jupyter-widgets/base\",\r\n",
      "      \"model_module_version\": \"1.2.0\",\r\n",
      "      \"model_name\": \"LayoutModel\",\r\n",
      "      \"state\": {}\r\n",
      "     },\r\n",
      "     \"36023b26f58d4763aa9b0fda7c33b7c5\": {\r\n",
      "      \"model_module\": \"@jupyter-widgets/controls\",\r\n",
      "      \"model_module_version\": \"1.5.0\",\r\n",
      "      \"model_name\": \"HTMLModel\",\r\n",
      "      \"state\": {\r\n",
      "       \"layout\": \"IPY_MODEL_53458d11df8948d38795faf6e335cc6d\",\r\n",
      "       \"style\": \"IPY_MODEL_19b29c42d7bd44ce9beba39eb6c813ce\",\r\n",
      "       \"value\": \"<h3 class = 'text-center'><font color='purple'>createUUID</font>\"\r\n",
      "      }\r\n",
      "     },\r\n",
      "     \"361754f3e53c4cdeaa0831f5da0a8910\": {\r\n",
      "      \"model_module\": \"@jupyter-widgets/base\",\r\n",
      "      \"model_module_version\": \"1.2.0\",\r\n",
      "      \"model_name\": \"LayoutModel\",\r\n",
      "      \"state\": {}\r\n",
      "     },\r\n",
      "     \"3637729adbd4416088cd5cb9971982d2\": {\r\n",
      "      \"model_module\": \"@jupyter-widgets/base\",\r\n",
      "      \"model_module_version\": \"1.2.0\",\r\n",
      "      \"model_name\": \"LayoutModel\",\r\n",
      "      \"state\": {}\r\n",
      "     },\r\n",
      "     \"36398361549d4411a8be9ee8535e6688\": {\r\n",
      "      \"model_module\": \"@jupyter-widgets/controls\",\r\n",
      "      \"model_module_version\": \"1.5.0\",\r\n",
      "      \"model_name\": \"ButtonStyleModel\",\r\n",
      "      \"state\": {}\r\n",
      "     },\r\n",
      "     \"368bdd4c32ac43f3a58eb7e777b19520\": {\r\n",
      "      \"model_module\": \"@jupyter-widgets/controls\",\r\n",
      "      \"model_module_version\": \"1.5.0\",\r\n",
      "      \"model_name\": \"DropdownModel\",\r\n",
      "      \"state\": {\r\n",
      "       \"_options_labels\": [\r\n",
      "        \"MEA\",\r\n",
      "        \"Axion\",\r\n",
      "        \"SeaMoss\",\r\n",
      "        \"Roberts\"\r\n",
      "       ],\r\n",
      "       \"description\": \"Type:\",\r\n",
      "       \"index\": 0,\r\n",
      "       \"layout\": \"IPY_MODEL_4bc77b542e65413b92f008a18cb5af98\",\r\n",
      "       \"style\": \"IPY_MODEL_246588975ec74c29ad72e4a61fbaea88\"\r\n",
      "      }\r\n",
      "     },\r\n",
      "     \"37597fb667164fa2aee80d0785a46093\": {\r\n",
      "      \"model_module\": \"@jupyter-widgets/base\",\r\n",
      "      \"model_module_version\": \"1.2.0\",\r\n",
      "      \"model_name\": \"LayoutModel\",\r\n",
      "      \"state\": {}\r\n",
      "     },\r\n",
      "     \"382ae318f2094765ba4b7d205cdc7ceb\": {\r\n",
      "      \"model_module\": \"@jupyter-widgets/controls\",\r\n",
      "      \"model_module_version\": \"1.5.0\",\r\n",
      "      \"model_name\": \"DropdownModel\",\r\n",
      "      \"state\": {\r\n",
      "       \"_options_labels\": [\r\n",
      "        \"Calcium (c)\",\r\n",
      "        \"Ephys (e)\",\r\n",
      "        \"Fluidics (f)\",\r\n",
      "        \"Imaging (i)\",\r\n",
      "        \"MEA (m)\",\r\n",
      "        \"Patch Clamp (p)\"\r\n",
      "       ],\r\n",
      "       \"description\": \"Type:\",\r\n",
      "       \"index\": 0,\r\n",
      "       \"layout\": \"IPY_MODEL_e523c877a1e44a7eb2b2d55e5f276e02\",\r\n",
      "       \"style\": \"IPY_MODEL_852606a48a01460aacc10c13f5e2a849\"\r\n",
      "      }\r\n",
      "     },\r\n",
      "     \"386eeff744a04a9a8d8ce23123cbec5f\": {\r\n",
      "      \"model_module\": \"@jupyter-widgets/controls\",\r\n",
      "      \"model_module_version\": \"1.5.0\",\r\n",
      "      \"model_name\": \"DescriptionStyleModel\",\r\n",
      "      \"state\": {\r\n",
      "       \"description_width\": \"\"\r\n",
      "      }\r\n",
      "     },\r\n",
      "     \"390a5dcca5934d048e0015be2634e8f4\": {\r\n",
      "      \"model_module\": \"@jupyter-widgets/base\",\r\n",
      "      \"model_module_version\": \"1.2.0\",\r\n",
      "      \"model_name\": \"LayoutModel\",\r\n",
      "      \"state\": {}\r\n",
      "     },\r\n",
      "     \"390bd03e651642edb2083953d9fda500\": {\r\n",
      "      \"model_module\": \"@jupyter-widgets/controls\",\r\n",
      "      \"model_module_version\": \"1.5.0\",\r\n",
      "      \"model_name\": \"HTMLModel\",\r\n",
      "      \"state\": {\r\n",
      "       \"layout\": \"IPY_MODEL_3e2b89f028474caa9d63dd5c16de4586\",\r\n",
      "       \"style\": \"IPY_MODEL_dab8314353f8431791f06169fd67074e\",\r\n",
      "       \"value\": \"<h3 class = 'text-center'><font color='purple'>UUID</font>\"\r\n",
      "      }\r\n",
      "     },\r\n",
      "     \"398c7439b8b54fc49cb10d438b215beb\": {\r\n",
      "      \"model_module\": \"@jupyter-widgets/controls\",\r\n",
      "      \"model_module_version\": \"1.5.0\",\r\n",
      "      \"model_name\": \"DropdownModel\",\r\n",
      "      \"state\": {\r\n",
      "       \"_options_labels\": [\r\n",
      "        \"Calcium\",\r\n",
      "        \"Ephys\",\r\n",
      "        \"Fluidics\",\r\n",
      "        \"Imagingi\",\r\n",
      "        \"MEA\",\r\n",
      "        \"Patch Clamp\"\r\n",
      "       ],\r\n",
      "       \"description\": \"Type:\",\r\n",
      "       \"index\": 0,\r\n",
      "       \"layout\": \"IPY_MODEL_8dec39bea045402699c980eed7a1732d\",\r\n",
      "       \"style\": \"IPY_MODEL_b0d436857ba54d7f8d2dcf18935c884b\"\r\n",
      "      }\r\n",
      "     },\r\n",
      "     \"39bccc9dd8484f93b08a068c270cb616\": {\r\n",
      "      \"model_module\": \"@jupyter-widgets/controls\",\r\n",
      "      \"model_module_version\": \"1.5.0\",\r\n",
      "      \"model_name\": \"ButtonStyleModel\",\r\n",
      "      \"state\": {}\r\n",
      "     },\r\n",
      "     \"3a3c62fdaf5a4f8c965765cbb1416124\": {\r\n",
      "      \"model_module\": \"@jupyter-widgets/controls\",\r\n",
      "      \"model_module_version\": \"1.5.0\",\r\n",
      "      \"model_name\": \"DatePickerModel\",\r\n",
      "      \"state\": {\r\n",
      "       \"description\": \"Exp. Date:\",\r\n",
      "       \"disabled\": false,\r\n",
      "       \"layout\": \"IPY_MODEL_d23f791b2fa94492b7d2eeaa6fb2b3e7\",\r\n",
      "       \"style\": \"IPY_MODEL_7fc98811460c4161a43e916fbf3b14bc\",\r\n",
      "       \"value\": {\r\n",
      "        \"date\": 24,\r\n",
      "        \"month\": 6,\r\n",
      "        \"year\": 2021\r\n",
      "       }\r\n",
      "      }\r\n",
      "     },\r\n",
      "     \"3b4f548d90b241ba86f20ae43d4f30f8\": {\r\n",
      "      \"model_module\": \"@jupyter-widgets/controls\",\r\n",
      "      \"model_module_version\": \"1.5.0\",\r\n",
      "      \"model_name\": \"DropdownModel\",\r\n",
      "      \"state\": {\r\n",
      "       \"_options_labels\": [\r\n",
      "        \"ca2+\",\r\n",
      "        \"eGFP\",\r\n",
      "        \"k+\"\r\n",
      "       ],\r\n",
      "       \"description\": \"Type:\",\r\n",
      "       \"index\": 0,\r\n",
      "       \"layout\": \"IPY_MODEL_bc5cce90cea942e1be07a75cb1a951f1\",\r\n",
      "       \"style\": \"IPY_MODEL_1d7801b6065747fcae2780a78bda2b62\"\r\n",
      "      }\r\n",
      "     },\r\n",
      "     \"3d8951af9ecc4714940bc623520edd67\": {\r\n",
      "      \"model_module\": \"@jupyter-widgets/base\",\r\n",
      "      \"model_module_version\": \"1.2.0\",\r\n",
      "      \"model_name\": \"LayoutModel\",\r\n",
      "      \"state\": {}\r\n",
      "     },\r\n",
      "     \"3d9156b6e888491ea6fa4a329b993b63\": {\r\n",
      "      \"model_module\": \"@jupyter-widgets/base\",\r\n",
      "      \"model_module_version\": \"1.2.0\",\r\n",
      "      \"model_name\": \"LayoutModel\",\r\n",
      "      \"state\": {\r\n",
      "       \"justify_content\": \"center\"\r\n",
      "      }\r\n",
      "     },\r\n",
      "     \"3d9f40e7b57f4900a032e96892031d76\": {\r\n",
      "      \"model_module\": \"@jupyter-widgets/base\",\r\n",
      "      \"model_module_version\": \"1.2.0\",\r\n",
      "      \"model_name\": \"LayoutModel\",\r\n",
      "      \"state\": {}\r\n",
      "     },\r\n",
      "     \"3df840c41c42408c80556f08993fd98b\": {\r\n",
      "      \"model_module\": \"@jupyter-widgets/controls\",\r\n",
      "      \"model_module_version\": \"1.5.0\",\r\n",
      "      \"model_name\": \"TextModel\",\r\n",
      "      \"state\": {\r\n",
      "       \"description\": \"Name: \",\r\n",
      "       \"layout\": \"IPY_MODEL_65f7c288b6fc4411bde9066d3684d718\",\r\n",
      "       \"placeholder\": \"Enter experiment name\",\r\n",
      "       \"style\": \"IPY_MODEL_56b65ae878b24b878ddaafd962b912fa\"\r\n",
      "      }\r\n",
      "     },\r\n",
      "     \"3e2b89f028474caa9d63dd5c16de4586\": {\r\n",
      "      \"model_module\": \"@jupyter-widgets/base\",\r\n",
      "      \"model_module_version\": \"1.2.0\",\r\n",
      "      \"model_name\": \"LayoutModel\",\r\n",
      "      \"state\": {}\r\n",
      "     },\r\n",
      "     \"401903b6a67a4ef1b5342b519491da31\": {\r\n",
      "      \"model_module\": \"@jupyter-widgets/controls\",\r\n",
      "      \"model_module_version\": \"1.5.0\",\r\n",
      "      \"model_name\": \"DescriptionStyleModel\",\r\n",
      "      \"state\": {\r\n",
      "       \"description_width\": \"\"\r\n",
      "      }\r\n",
      "     },\r\n",
      "     \"412a5e4e253b4eb58b857e5cfe55cf03\": {\r\n",
      "      \"model_module\": \"@jupyter-widgets/controls\",\r\n",
      "      \"model_module_version\": \"1.5.0\",\r\n",
      "      \"model_name\": \"TextModel\",\r\n",
      "      \"state\": {\r\n",
      "       \"description\": \"Name: \",\r\n",
      "       \"layout\": \"IPY_MODEL_e4ae3600d1124369a9916b9221301075\",\r\n",
      "       \"placeholder\": \"Enter experiment name\",\r\n",
      "       \"style\": \"IPY_MODEL_3378f937a8f547f4b977f405fc30acff\"\r\n",
      "      }\r\n",
      "     },\r\n",
      "     \"41b2b1041cf34e07a3861bbfc65e7300\": {\r\n",
      "      \"model_module\": \"@jupyter-widgets/controls\",\r\n",
      "      \"model_module_version\": \"1.5.0\",\r\n",
      "      \"model_name\": \"ButtonModel\",\r\n",
      "      \"state\": {\r\n",
      "       \"description\": \"Create UUID\",\r\n",
      "       \"layout\": \"IPY_MODEL_e15bb2ae99704c5d835ba735d362d724\",\r\n",
      "       \"style\": \"IPY_MODEL_e32d9ea872dd47f7b3463f9a0ca43658\",\r\n",
      "       \"tooltip\": \"UUID format: YYYY-MM-DD- experiment type - experiment shorthand\"\r\n",
      "      }\r\n",
      "     },\r\n",
      "     \"41cbc551698549bea5a952b064671b46\": {\r\n",
      "      \"model_module\": \"@jupyter-widgets/controls\",\r\n",
      "      \"model_module_version\": \"1.5.0\",\r\n",
      "      \"model_name\": \"DescriptionStyleModel\",\r\n",
      "      \"state\": {\r\n",
      "       \"description_width\": \"\"\r\n",
      "      }\r\n",
      "     },\r\n",
      "     \"41cd9bc83e1b478388d476be5752554e\": {\r\n",
      "      \"model_module\": \"@jupyter-widgets/controls\",\r\n",
      "      \"model_module_version\": \"1.5.0\",\r\n",
      "      \"model_name\": \"DescriptionStyleModel\",\r\n",
      "      \"state\": {\r\n",
      "       \"description_width\": \"\"\r\n",
      "      }\r\n",
      "     },\r\n",
      "     \"42ac2e7b24e743b3be5bb11eaeeacbf1\": {\r\n",
      "      \"model_module\": \"@jupyter-widgets/controls\",\r\n",
      "      \"model_module_version\": \"1.5.0\",\r\n",
      "      \"model_name\": \"HTMLModel\",\r\n",
      "      \"state\": {\r\n",
      "       \"layout\": \"IPY_MODEL_73f000b1f343479a9df085e9005d7c3e\",\r\n",
      "       \"style\": \"IPY_MODEL_16f128cfb33c4f3e9d0b7b6d34563b37\",\r\n",
      "       \"value\": \"<h3 class = 'text-center'><font color='purple'>createUUID</font>\"\r\n",
      "      }\r\n",
      "     },\r\n",
      "     \"43ae91b8a51c4b92b11bf199b9624600\": {\r\n",
      "      \"model_module\": \"@jupyter-widgets/base\",\r\n",
      "      \"model_module_version\": \"1.2.0\",\r\n",
      "      \"model_name\": \"LayoutModel\",\r\n",
      "      \"state\": {}\r\n",
      "     },\r\n",
      "     \"462afb60761a471dbd651fb848d3d6ac\": {\r\n",
      "      \"model_module\": \"@jupyter-widgets/controls\",\r\n",
      "      \"model_module_version\": \"1.5.0\",\r\n",
      "      \"model_name\": \"DropdownModel\",\r\n",
      "      \"state\": {\r\n",
      "       \"_options_labels\": [\r\n",
      "        \"Calcium (c)\",\r\n",
      "        \"Ephys (e)\",\r\n",
      "        \"Fluidics (f)\",\r\n",
      "        \"Imaging (i)\",\r\n",
      "        \"MEA (m)\",\r\n",
      "        \"Patch Clamp (p)\"\r\n",
      "       ],\r\n",
      "       \"description\": \"Type:\",\r\n",
      "       \"index\": 0,\r\n",
      "       \"layout\": \"IPY_MODEL_b17daa51547e477f8f2bb018a0f86429\",\r\n",
      "       \"style\": \"IPY_MODEL_9ba46fa37928422286e5b729df44fbd9\"\r\n",
      "      }\r\n",
      "     },\r\n",
      "     \"467c0b1af85d4e0badb05b3963ed4384\": {\r\n",
      "      \"model_module\": \"@jupyter-widgets/base\",\r\n",
      "      \"model_module_version\": \"1.2.0\",\r\n",
      "      \"model_name\": \"LayoutModel\",\r\n",
      "      \"state\": {}\r\n",
      "     },\r\n",
      "     \"4794f36694874e90a4a5f863953ac394\": {\r\n",
      "      \"model_module\": \"@jupyter-widgets/controls\",\r\n",
      "      \"model_module_version\": \"1.5.0\",\r\n",
      "      \"model_name\": \"DescriptionStyleModel\",\r\n",
      "      \"state\": {\r\n",
      "       \"description_width\": \"\"\r\n",
      "      }\r\n",
      "     },\r\n",
      "     \"4797d244902e45f5b756ebd2ee6117df\": {\r\n",
      "      \"model_module\": \"@jupyter-widgets/base\",\r\n",
      "      \"model_module_version\": \"1.2.0\",\r\n",
      "      \"model_name\": \"LayoutModel\",\r\n",
      "      \"state\": {}\r\n",
      "     },\r\n",
      "     \"47bce7de35794a9fa6a22e62bb25f4f1\": {\r\n",
      "      \"model_module\": \"@jupyter-widgets/base\",\r\n",
      "      \"model_module_version\": \"1.2.0\",\r\n",
      "      \"model_name\": \"LayoutModel\",\r\n",
      "      \"state\": {}\r\n",
      "     },\r\n",
      "     \"47d838c31769440d8789ef90ebc00f4c\": {\r\n",
      "      \"model_module\": \"@jupyter-widgets/controls\",\r\n",
      "      \"model_module_version\": \"1.5.0\",\r\n",
      "      \"model_name\": \"DropdownModel\",\r\n",
      "      \"state\": {\r\n",
      "       \"_options_labels\": [\r\n",
      "        \"ca2+\",\r\n",
      "        \"eGFP\",\r\n",
      "        \"k+\"\r\n",
      "       ],\r\n",
      "       \"description\": \"Type:\",\r\n",
      "       \"index\": 0,\r\n",
      "       \"layout\": \"IPY_MODEL_63278f19a0c64b11b9875ef6408f42c8\",\r\n",
      "       \"style\": \"IPY_MODEL_69dfbd2fe51b4103bb544cfa81d22f08\"\r\n",
      "      }\r\n",
      "     },\r\n",
      "     \"49ae777eb21040498af6ea3119b08ebe\": {\r\n",
      "      \"model_module\": \"@jupyter-widgets/controls\",\r\n",
      "      \"model_module_version\": \"1.5.0\",\r\n",
      "      \"model_name\": \"ButtonStyleModel\",\r\n",
      "      \"state\": {}\r\n",
      "     },\r\n",
      "     \"4a20d612b13343ed84c972c50392f034\": {\r\n",
      "      \"model_module\": \"@jupyter-widgets/controls\",\r\n",
      "      \"model_module_version\": \"1.5.0\",\r\n",
      "      \"model_name\": \"DescriptionStyleModel\",\r\n",
      "      \"state\": {\r\n",
      "       \"description_width\": \"\"\r\n",
      "      }\r\n",
      "     },\r\n",
      "     \"4a69c55d2f924465af151ce751822aa1\": {\r\n",
      "      \"model_module\": \"@jupyter-widgets/controls\",\r\n",
      "      \"model_module_version\": \"1.5.0\",\r\n",
      "      \"model_name\": \"DescriptionStyleModel\",\r\n",
      "      \"state\": {\r\n",
      "       \"description_width\": \"\"\r\n",
      "      }\r\n",
      "     },\r\n",
      "     \"4ad2d4b3422a4ef88822cfa8c3ad70dd\": {\r\n",
      "      \"model_module\": \"@jupyter-widgets/controls\",\r\n",
      "      \"model_module_version\": \"1.5.0\",\r\n",
      "      \"model_name\": \"DescriptionStyleModel\",\r\n",
      "      \"state\": {\r\n",
      "       \"description_width\": \"\"\r\n",
      "      }\r\n",
      "     },\r\n",
      "     \"4bb89b514b97452ead8c976e05a8fcba\": {\r\n",
      "      \"model_module\": \"@jupyter-widgets/controls\",\r\n",
      "      \"model_module_version\": \"1.5.0\",\r\n",
      "      \"model_name\": \"DescriptionStyleModel\",\r\n",
      "      \"state\": {\r\n",
      "       \"description_width\": \"\"\r\n",
      "      }\r\n",
      "     },\r\n",
      "     \"4bbec1510bdc45dfa89c039b8352b183\": {\r\n",
      "      \"model_module\": \"@jupyter-widgets/controls\",\r\n",
      "      \"model_module_version\": \"1.5.0\",\r\n",
      "      \"model_name\": \"ButtonStyleModel\",\r\n",
      "      \"state\": {}\r\n",
      "     },\r\n",
      "     \"4bc77b542e65413b92f008a18cb5af98\": {\r\n",
      "      \"model_module\": \"@jupyter-widgets/base\",\r\n",
      "      \"model_module_version\": \"1.2.0\",\r\n",
      "      \"model_name\": \"LayoutModel\",\r\n",
      "      \"state\": {}\r\n",
      "     },\r\n",
      "     \"4be4ad0a6b1e40979dbf5680a9490706\": {\r\n",
      "      \"model_module\": \"@jupyter-widgets/controls\",\r\n",
      "      \"model_module_version\": \"1.5.0\",\r\n",
      "      \"model_name\": \"DescriptionStyleModel\",\r\n",
      "      \"state\": {\r\n",
      "       \"description_width\": \"\"\r\n",
      "      }\r\n",
      "     },\r\n",
      "     \"4c64afb4e3944a8d85417fd720840696\": {\r\n",
      "      \"model_module\": \"@jupyter-widgets/controls\",\r\n",
      "      \"model_module_version\": \"1.5.0\",\r\n",
      "      \"model_name\": \"ButtonStyleModel\",\r\n",
      "      \"state\": {}\r\n",
      "     },\r\n",
      "     \"4c88704c77cb402584e33448777e50da\": {\r\n",
      "      \"model_module\": \"@jupyter-widgets/controls\",\r\n",
      "      \"model_module_version\": \"1.5.0\",\r\n",
      "      \"model_name\": \"DropdownModel\",\r\n",
      "      \"state\": {\r\n",
      "       \"_options_labels\": [\r\n",
      "        \"MEA\",\r\n",
      "        \"Axonion\",\r\n",
      "        \"SeaMoss\",\r\n",
      "        \"Roberts\"\r\n",
      "       ],\r\n",
      "       \"description\": \"Type:\",\r\n",
      "       \"index\": 1,\r\n",
      "       \"layout\": \"IPY_MODEL_d4ae7de6df154c139c5fdc1761f7a650\",\r\n",
      "       \"style\": \"IPY_MODEL_3292792f7625423eae7930251e696c0b\"\r\n",
      "      }\r\n",
      "     },\r\n",
      "     \"4ccc8d8b528848ed8aa8a57d8c2fdccd\": {\r\n",
      "      \"model_module\": \"@jupyter-widgets/base\",\r\n",
      "      \"model_module_version\": \"1.2.0\",\r\n",
      "      \"model_name\": \"LayoutModel\",\r\n",
      "      \"state\": {}\r\n",
      "     },\r\n",
      "     \"4d2bade21d5f4fb3909e6c6b53c47099\": {\r\n",
      "      \"model_module\": \"@jupyter-widgets/controls\",\r\n",
      "      \"model_module_version\": \"1.5.0\",\r\n",
      "      \"model_name\": \"HBoxModel\",\r\n",
      "      \"state\": {\r\n",
      "       \"children\": [\r\n",
      "        \"IPY_MODEL_9fc4051ccc144786a3a1b2a82407e011\",\r\n",
      "        \"IPY_MODEL_d864b11bd1c34d2eac1f20bd19e50ad4\",\r\n",
      "        \"IPY_MODEL_a336e1f7853541fc8fe1c343d8abf0fe\"\r\n",
      "       ],\r\n",
      "       \"layout\": \"IPY_MODEL_cb453487dea74628bf36b478f8c03deb\"\r\n",
      "      }\r\n",
      "     },\r\n",
      "     \"4da28ecfd4f647df88c07e695f9b2f7b\": {\r\n",
      "      \"model_module\": \"@jupyter-widgets/controls\",\r\n",
      "      \"model_module_version\": \"1.5.0\",\r\n",
      "      \"model_name\": \"DescriptionStyleModel\",\r\n",
      "      \"state\": {\r\n",
      "       \"description_width\": \"\"\r\n",
      "      }\r\n",
      "     },\r\n",
      "     \"4da4291de13247039120648fbb0184fc\": {\r\n",
      "      \"model_module\": \"@jupyter-widgets/controls\",\r\n",
      "      \"model_module_version\": \"1.5.0\",\r\n",
      "      \"model_name\": \"ButtonModel\",\r\n",
      "      \"state\": {\r\n",
      "       \"description\": \"Create UUID\",\r\n",
      "       \"layout\": \"IPY_MODEL_1bcbfd39cfb042a090ad8471ddf519d4\",\r\n",
      "       \"style\": \"IPY_MODEL_5e9d9cd29d074d2983df9ee918e9f7e5\",\r\n",
      "       \"tooltip\": \"UUID format: YYYY-MM-DD- experiment type - experiment shorthand\"\r\n",
      "      }\r\n",
      "     },\r\n",
      "     \"4ec6ef3dea7947d0b916bb826cf4b42b\": {\r\n",
      "      \"model_module\": \"@jupyter-widgets/base\",\r\n",
      "      \"model_module_version\": \"1.2.0\",\r\n",
      "      \"model_name\": \"LayoutModel\",\r\n",
      "      \"state\": {}\r\n",
      "     },\r\n",
      "     \"4fc25e78e5ba42d28bb72ac334ebabe9\": {\r\n",
      "      \"model_module\": \"@jupyter-widgets/controls\",\r\n",
      "      \"model_module_version\": \"1.5.0\",\r\n",
      "      \"model_name\": \"ButtonStyleModel\",\r\n",
      "      \"state\": {}\r\n",
      "     },\r\n",
      "     \"50358196b4a049a4aaa0ec0718d5604b\": {\r\n",
      "      \"model_module\": \"@jupyter-widgets/controls\",\r\n",
      "      \"model_module_version\": \"1.5.0\",\r\n",
      "      \"model_name\": \"DescriptionStyleModel\",\r\n",
      "      \"state\": {\r\n",
      "       \"description_width\": \"\"\r\n",
      "      }\r\n",
      "     },\r\n",
      "     \"5092cf8ee17440b2af6c7526ed9dc77d\": {\r\n",
      "      \"model_module\": \"@jupyter-widgets/controls\",\r\n",
      "      \"model_module_version\": \"1.5.0\",\r\n",
      "      \"model_name\": \"DescriptionStyleModel\",\r\n",
      "      \"state\": {\r\n",
      "       \"description_width\": \"\"\r\n",
      "      }\r\n",
      "     },\r\n",
      "     \"5114f52debae45e6921997889c63b5c2\": {\r\n",
      "      \"model_module\": \"@jupyter-widgets/controls\",\r\n",
      "      \"model_module_version\": \"1.5.0\",\r\n",
      "      \"model_name\": \"ButtonModel\",\r\n",
      "      \"state\": {\r\n",
      "       \"description\": \"Create UUID\",\r\n",
      "       \"layout\": \"IPY_MODEL_37597fb667164fa2aee80d0785a46093\",\r\n",
      "       \"style\": \"IPY_MODEL_5aafff0ad4ed4ffdb806cf59425a21d8\",\r\n",
      "       \"tooltip\": \"UUID format: YYYY-MM-DD- experiment type - experiment shorthand\"\r\n",
      "      }\r\n",
      "     },\r\n",
      "     \"518a3507e66c4fe1bd470fda9ead02be\": {\r\n",
      "      \"model_module\": \"@jupyter-widgets/controls\",\r\n",
      "      \"model_module_version\": \"1.5.0\",\r\n",
      "      \"model_name\": \"ButtonModel\",\r\n",
      "      \"state\": {\r\n",
      "       \"description\": \"Create UUID\",\r\n",
      "       \"layout\": \"IPY_MODEL_c436752e43e54c058a393f59eae4fab0\",\r\n",
      "       \"style\": \"IPY_MODEL_04d7c58bb80c4638918ea2d83e0d4fda\",\r\n",
      "       \"tooltip\": \"UUID format: YYYY-MM-DD- experiment type - experiment shorthand\"\r\n",
      "      }\r\n",
      "     },\r\n",
      "     \"51a294ede3eb45c983db09d5419202dd\": {\r\n",
      "      \"model_module\": \"@jupyter-widgets/base\",\r\n",
      "      \"model_module_version\": \"1.2.0\",\r\n",
      "      \"model_name\": \"LayoutModel\",\r\n",
      "      \"state\": {}\r\n",
      "     },\r\n",
      "     \"51af267e851841588e64102d090f5c5d\": {\r\n",
      "      \"model_module\": \"@jupyter-widgets/controls\",\r\n",
      "      \"model_module_version\": \"1.5.0\",\r\n",
      "      \"model_name\": \"DropdownModel\",\r\n",
      "      \"state\": {\r\n",
      "       \"_options_labels\": [\r\n",
      "        \"Calcium (c)\",\r\n",
      "        \"Ephys (e)\",\r\n",
      "        \"Fluidics (f)\",\r\n",
      "        \"Imaging (i)\",\r\n",
      "        \"MEA (m)\",\r\n",
      "        \"Patch Clamp (p)\"\r\n",
      "       ],\r\n",
      "       \"description\": \"Type:\",\r\n",
      "       \"index\": 0,\r\n",
      "       \"layout\": \"IPY_MODEL_ef23d93c0d9d441ca3bbee49496332e5\",\r\n",
      "       \"style\": \"IPY_MODEL_4a69c55d2f924465af151ce751822aa1\"\r\n",
      "      }\r\n",
      "     },\r\n",
      "     \"51efec10493845159c59e22129980fc2\": {\r\n",
      "      \"model_module\": \"@jupyter-widgets/controls\",\r\n",
      "      \"model_module_version\": \"1.5.0\",\r\n",
      "      \"model_name\": \"ButtonModel\",\r\n",
      "      \"state\": {\r\n",
      "       \"description\": \"Create UUID\",\r\n",
      "       \"layout\": \"IPY_MODEL_63e31d6fa0d549629521153856f9f01e\",\r\n",
      "       \"style\": \"IPY_MODEL_4fc25e78e5ba42d28bb72ac334ebabe9\",\r\n",
      "       \"tooltip\": \"UUID format: YYYY-MM-DD- experiment type - experiment shorthand\"\r\n",
      "      }\r\n",
      "     },\r\n",
      "     \"528aa7bf0b6c461ab7f57612118401ad\": {\r\n",
      "      \"model_module\": \"@jupyter-widgets/controls\",\r\n",
      "      \"model_module_version\": \"1.5.0\",\r\n",
      "      \"model_name\": \"ButtonStyleModel\",\r\n",
      "      \"state\": {}\r\n",
      "     },\r\n",
      "     \"52a2497027974180a6d8575e2a4b0473\": {\r\n",
      "      \"model_module\": \"@jupyter-widgets/controls\",\r\n",
      "      \"model_module_version\": \"1.5.0\",\r\n",
      "      \"model_name\": \"TextModel\",\r\n",
      "      \"state\": {\r\n",
      "       \"layout\": \"IPY_MODEL_de41f82dbb864cb493cab3c6e2f25e6d\",\r\n",
      "       \"style\": \"IPY_MODEL_b6a203c7a9d44bce84e5d7d81af8f055\"\r\n",
      "      }\r\n",
      "     },\r\n",
      "     \"52e374a952264bf9a0c3b0fe7dcdacd3\": {\r\n",
      "      \"model_module\": \"@jupyter-widgets/controls\",\r\n",
      "      \"model_module_version\": \"1.5.0\",\r\n",
      "      \"model_name\": \"HTMLModel\",\r\n",
      "      \"state\": {\r\n",
      "       \"layout\": \"IPY_MODEL_6b82148f8e354844bff113b20f39f04b\",\r\n",
      "       \"style\": \"IPY_MODEL_12856c32566f45f9afb1878636ca27bb\",\r\n",
      "       \"value\": \"<h3 class = 'text-center'><font color='purple'>createUUID</font>\"\r\n",
      "      }\r\n",
      "     },\r\n",
      "     \"53458d11df8948d38795faf6e335cc6d\": {\r\n",
      "      \"model_module\": \"@jupyter-widgets/base\",\r\n",
      "      \"model_module_version\": \"1.2.0\",\r\n",
      "      \"model_name\": \"LayoutModel\",\r\n",
      "      \"state\": {}\r\n",
      "     },\r\n",
      "     \"53603e971db04c4684a0fab77edf3641\": {\r\n",
      "      \"model_module\": \"@jupyter-widgets/controls\",\r\n",
      "      \"model_module_version\": \"1.5.0\",\r\n",
      "      \"model_name\": \"DescriptionStyleModel\",\r\n",
      "      \"state\": {\r\n",
      "       \"description_width\": \"\"\r\n",
      "      }\r\n",
      "     },\r\n",
      "     \"538068cb626840c8879c81360418c49d\": {\r\n",
      "      \"model_module\": \"@jupyter-widgets/controls\",\r\n",
      "      \"model_module_version\": \"1.5.0\",\r\n",
      "      \"model_name\": \"ButtonModel\",\r\n",
      "      \"state\": {\r\n",
      "       \"description\": \"Create UUID\",\r\n",
      "       \"layout\": \"IPY_MODEL_b2513c0d9e0a4ca5b27dfe0f2257cb18\",\r\n",
      "       \"style\": \"IPY_MODEL_988e3de9947a4c88aef96c9743dc6500\",\r\n",
      "       \"tooltip\": \"Create UUID\"\r\n",
      "      }\r\n",
      "     },\r\n",
      "     \"53979001ba8c47e08d5467964b47268c\": {\r\n",
      "      \"model_module\": \"@jupyter-widgets/controls\",\r\n",
      "      \"model_module_version\": \"1.5.0\",\r\n",
      "      \"model_name\": \"DatePickerModel\",\r\n",
      "      \"state\": {\r\n",
      "       \"description\": \"Exp. Date:\",\r\n",
      "       \"disabled\": false,\r\n",
      "       \"layout\": \"IPY_MODEL_2543a1a61768467b8ae46e97cbcfa556\",\r\n",
      "       \"style\": \"IPY_MODEL_d1c3cace53cf4142864b74f29581004c\",\r\n",
      "       \"value\": {\r\n",
      "        \"date\": 19,\r\n",
      "        \"month\": 4,\r\n",
      "        \"year\": 2021\r\n",
      "       }\r\n",
      "      }\r\n",
      "     },\r\n",
      "     \"54bd7eb75edf4f398bd1ac79535ebc12\": {\r\n",
      "      \"model_module\": \"@jupyter-widgets/controls\",\r\n",
      "      \"model_module_version\": \"1.5.0\",\r\n",
      "      \"model_name\": \"DescriptionStyleModel\",\r\n",
      "      \"state\": {\r\n",
      "       \"description_width\": \"\"\r\n",
      "      }\r\n",
      "     },\r\n",
      "     \"56020677244f4821b7383c1e9c06af55\": {\r\n",
      "      \"model_module\": \"@jupyter-widgets/controls\",\r\n",
      "      \"model_module_version\": \"1.5.0\",\r\n",
      "      \"model_name\": \"HTMLModel\",\r\n",
      "      \"state\": {\r\n",
      "       \"layout\": \"IPY_MODEL_fd6a19ae100d47b8b8e46a7289872e63\",\r\n",
      "       \"style\": \"IPY_MODEL_b42b201c847a43e3aed0b290d5692f67\",\r\n",
      "       \"value\": \"<h3 class = 'text-center'><font color='purple'>createUUID</font>\"\r\n",
      "      }\r\n",
      "     },\r\n",
      "     \"5617d8fa878249cd98e2e2a4b70877f0\": {\r\n",
      "      \"model_module\": \"@jupyter-widgets/controls\",\r\n",
      "      \"model_module_version\": \"1.5.0\",\r\n",
      "      \"model_name\": \"DescriptionStyleModel\",\r\n",
      "      \"state\": {\r\n",
      "       \"description_width\": \"\"\r\n",
      "      }\r\n",
      "     },\r\n",
      "     \"563be7d3d2664a84a1281a1a7adaa48d\": {\r\n",
      "      \"model_module\": \"@jupyter-widgets/controls\",\r\n",
      "      \"model_module_version\": \"1.5.0\",\r\n",
      "      \"model_name\": \"DescriptionStyleModel\",\r\n",
      "      \"state\": {\r\n",
      "       \"description_width\": \"\"\r\n",
      "      }\r\n",
      "     },\r\n",
      "     \"56b65ae878b24b878ddaafd962b912fa\": {\r\n",
      "      \"model_module\": \"@jupyter-widgets/controls\",\r\n",
      "      \"model_module_version\": \"1.5.0\",\r\n",
      "      \"model_name\": \"DescriptionStyleModel\",\r\n",
      "      \"state\": {\r\n",
      "       \"description_width\": \"\"\r\n",
      "      }\r\n",
      "     },\r\n",
      "     \"57d18ac01b704889b7aff883a7f9a5fb\": {\r\n",
      "      \"model_module\": \"@jupyter-widgets/base\",\r\n",
      "      \"model_module_version\": \"1.2.0\",\r\n",
      "      \"model_name\": \"LayoutModel\",\r\n",
      "      \"state\": {}\r\n",
      "     },\r\n",
      "     \"58eb4f7ff65243f4ae9cfe19734b6073\": {\r\n",
      "      \"model_module\": \"@jupyter-widgets/controls\",\r\n",
      "      \"model_module_version\": \"1.5.0\",\r\n",
      "      \"model_name\": \"ButtonModel\",\r\n",
      "      \"state\": {\r\n",
      "       \"description\": \"Create UUID\",\r\n",
      "       \"layout\": \"IPY_MODEL_33001a54f08b41d980474df04d750f27\",\r\n",
      "       \"style\": \"IPY_MODEL_f96c8998e1a8466485fedc6453df0343\",\r\n",
      "       \"tooltip\": \"UUID format: YYYY-MM-DD- experiment type - experiment shorthand\"\r\n",
      "      }\r\n",
      "     },\r\n",
      "     \"59caa9839f2f41ddaa363bcecc78e322\": {\r\n",
      "      \"model_module\": \"@jupyter-widgets/controls\",\r\n",
      "      \"model_module_version\": \"1.5.0\",\r\n",
      "      \"model_name\": \"HTMLModel\",\r\n",
      "      \"state\": {\r\n",
      "       \"layout\": \"IPY_MODEL_f2c4a961cb404c7daf3b56dddce01c11\",\r\n",
      "       \"style\": \"IPY_MODEL_03946f8f6d8a42928edb78a91f1c20cc\",\r\n",
      "       \"value\": \"<h3 class = 'text-center'><font color='purple'>createUUID</font>\"\r\n",
      "      }\r\n",
      "     },\r\n",
      "     \"5a4124f872f04f8c958abdb4f24ec350\": {\r\n",
      "      \"model_module\": \"@jupyter-widgets/base\",\r\n",
      "      \"model_module_version\": \"1.2.0\",\r\n",
      "      \"model_name\": \"LayoutModel\",\r\n",
      "      \"state\": {}\r\n",
      "     },\r\n",
      "     \"5aafff0ad4ed4ffdb806cf59425a21d8\": {\r\n",
      "      \"model_module\": \"@jupyter-widgets/controls\",\r\n",
      "      \"model_module_version\": \"1.5.0\",\r\n",
      "      \"model_name\": \"ButtonStyleModel\",\r\n",
      "      \"state\": {}\r\n",
      "     },\r\n",
      "     \"5b1ded52163a4d1b83cabea714fb0777\": {\r\n",
      "      \"model_module\": \"@jupyter-widgets/controls\",\r\n",
      "      \"model_module_version\": \"1.5.0\",\r\n",
      "      \"model_name\": \"DatePickerModel\",\r\n",
      "      \"state\": {\r\n",
      "       \"description\": \"Exp. Date:\",\r\n",
      "       \"disabled\": false,\r\n",
      "       \"layout\": \"IPY_MODEL_6617c7f20ba04ffbbe0ccd713c8c62d1\",\r\n",
      "       \"style\": \"IPY_MODEL_282d24f33f02400d91c7ac8fd5c9278d\",\r\n",
      "       \"value\": {\r\n",
      "        \"date\": 28,\r\n",
      "        \"month\": 3,\r\n",
      "        \"year\": 2021\r\n",
      "       }\r\n",
      "      }\r\n",
      "     },\r\n",
      "     \"5b75e88f9cff417fa1fd0a32781ee3b4\": {\r\n",
      "      \"model_module\": \"@jupyter-widgets/base\",\r\n",
      "      \"model_module_version\": \"1.2.0\",\r\n",
      "      \"model_name\": \"LayoutModel\",\r\n",
      "      \"state\": {}\r\n",
      "     },\r\n",
      "     \"5bdc32e3d9da4db1b1d0aa8606eec3af\": {\r\n",
      "      \"model_module\": \"@jupyter-widgets/controls\",\r\n",
      "      \"model_module_version\": \"1.5.0\",\r\n",
      "      \"model_name\": \"DatePickerModel\",\r\n",
      "      \"state\": {\r\n",
      "       \"description\": \"Exp. Date:\",\r\n",
      "       \"disabled\": false,\r\n",
      "       \"layout\": \"IPY_MODEL_72a99c199d65413487b4d95808080e7c\",\r\n",
      "       \"style\": \"IPY_MODEL_dd11eac3017d4fbaa57336ccf945bbc7\"\r\n",
      "      }\r\n",
      "     },\r\n",
      "     \"5c822c2201fa41d5b5ed2ed0e2a2340b\": {\r\n",
      "      \"model_module\": \"@jupyter-widgets/base\",\r\n",
      "      \"model_module_version\": \"1.2.0\",\r\n",
      "      \"model_name\": \"LayoutModel\",\r\n",
      "      \"state\": {}\r\n",
      "     },\r\n",
      "     \"5cd836fdf2ae4751835469896ddca2f9\": {\r\n",
      "      \"model_module\": \"@jupyter-widgets/controls\",\r\n",
      "      \"model_module_version\": \"1.5.0\",\r\n",
      "      \"model_name\": \"DatePickerModel\",\r\n",
      "      \"state\": {\r\n",
      "       \"description\": \"Exp. Date:\",\r\n",
      "       \"disabled\": false,\r\n",
      "       \"layout\": \"IPY_MODEL_e3dbc3ae7f3947f29a5d565506dc694b\",\r\n",
      "       \"style\": \"IPY_MODEL_7f6c29b2b95d4887a18b5f70fb98bbb3\"\r\n",
      "      }\r\n",
      "     },\r\n",
      "     \"5d056b753bd84c9cb964635d1a4b1ac7\": {\r\n",
      "      \"model_module\": \"@jupyter-widgets/base\",\r\n",
      "      \"model_module_version\": \"1.2.0\",\r\n",
      "      \"model_name\": \"LayoutModel\",\r\n",
      "      \"state\": {}\r\n",
      "     },\r\n",
      "     \"5d666c1c8b254a6c98629f6230d840f7\": {\r\n",
      "      \"model_module\": \"@jupyter-widgets/base\",\r\n",
      "      \"model_module_version\": \"1.2.0\",\r\n",
      "      \"model_name\": \"LayoutModel\",\r\n",
      "      \"state\": {}\r\n",
      "     },\r\n",
      "     \"5d792ea8a6d44145920ec1f30f74262f\": {\r\n",
      "      \"model_module\": \"@jupyter-widgets/controls\",\r\n",
      "      \"model_module_version\": \"1.5.0\",\r\n",
      "      \"model_name\": \"VBoxModel\",\r\n",
      "      \"state\": {\r\n",
      "       \"children\": [\r\n",
      "        \"IPY_MODEL_36023b26f58d4763aa9b0fda7c33b7c5\",\r\n",
      "        \"IPY_MODEL_be3bce488d4c4aad98de72c4418e182b\",\r\n",
      "        \"IPY_MODEL_74178733e1714673a227b733dfde31ae\"\r\n",
      "       ],\r\n",
      "       \"layout\": \"IPY_MODEL_5d666c1c8b254a6c98629f6230d840f7\"\r\n",
      "      }\r\n",
      "     },\r\n",
      "     \"5dc0b07321a6497c9fce68c5c0bedf0b\": {\r\n",
      "      \"model_module\": \"@jupyter-widgets/base\",\r\n",
      "      \"model_module_version\": \"1.2.0\",\r\n",
      "      \"model_name\": \"LayoutModel\",\r\n",
      "      \"state\": {}\r\n",
      "     },\r\n",
      "     \"5dfc409ac16a473eac4a7352becfe856\": {\r\n",
      "      \"model_module\": \"@jupyter-widgets/controls\",\r\n",
      "      \"model_module_version\": \"1.5.0\",\r\n",
      "      \"model_name\": \"ButtonModel\",\r\n",
      "      \"state\": {\r\n",
      "       \"description\": \"Create UUID\",\r\n",
      "       \"layout\": \"IPY_MODEL_f5f9e1f149f645e89ef656685538ee5f\",\r\n",
      "       \"style\": \"IPY_MODEL_09ef5cd9c5b549c88798c57a91554b6a\",\r\n",
      "       \"tooltip\": \"Create UUID\"\r\n",
      "      }\r\n",
      "     },\r\n",
      "     \"5e0292393c304e78825135f6c8cfe925\": {\r\n",
      "      \"model_module\": \"@jupyter-widgets/controls\",\r\n",
      "      \"model_module_version\": \"1.5.0\",\r\n",
      "      \"model_name\": \"TextModel\",\r\n",
      "      \"state\": {\r\n",
      "       \"layout\": \"IPY_MODEL_319c4ed1ea24446f9497c21cbb74761b\",\r\n",
      "       \"style\": \"IPY_MODEL_4a20d612b13343ed84c972c50392f034\"\r\n",
      "      }\r\n",
      "     },\r\n",
      "     \"5e28e5a54b3445abb996099c4f508f39\": {\r\n",
      "      \"model_module\": \"@jupyter-widgets/controls\",\r\n",
      "      \"model_module_version\": \"1.5.0\",\r\n",
      "      \"model_name\": \"DescriptionStyleModel\",\r\n",
      "      \"state\": {\r\n",
      "       \"description_width\": \"\"\r\n",
      "      }\r\n",
      "     },\r\n",
      "     \"5e38531b65b64fa6b55b7f7204c668a1\": {\r\n",
      "      \"model_module\": \"@jupyter-widgets/base\",\r\n",
      "      \"model_module_version\": \"1.2.0\",\r\n",
      "      \"model_name\": \"LayoutModel\",\r\n",
      "      \"state\": {}\r\n",
      "     },\r\n",
      "     \"5e892a277c924a1396c538004577d21d\": {\r\n",
      "      \"model_module\": \"@jupyter-widgets/controls\",\r\n",
      "      \"model_module_version\": \"1.5.0\",\r\n",
      "      \"model_name\": \"DropdownModel\",\r\n",
      "      \"state\": {\r\n",
      "       \"_options_labels\": [\r\n",
      "        \"MEA\",\r\n",
      "        \"Axion\",\r\n",
      "        \"SeaMoss\",\r\n",
      "        \"Roberts\"\r\n",
      "       ],\r\n",
      "       \"description\": \"Type:\",\r\n",
      "       \"index\": 0,\r\n",
      "       \"layout\": \"IPY_MODEL_7c4105e423ba40b3978cea52d9624e5c\",\r\n",
      "       \"style\": \"IPY_MODEL_32ed6577c12b43f3b1ee3d8e13416ee8\"\r\n",
      "      }\r\n",
      "     },\r\n",
      "     \"5e9d9cd29d074d2983df9ee918e9f7e5\": {\r\n",
      "      \"model_module\": \"@jupyter-widgets/controls\",\r\n",
      "      \"model_module_version\": \"1.5.0\",\r\n",
      "      \"model_name\": \"ButtonStyleModel\",\r\n",
      "      \"state\": {}\r\n",
      "     },\r\n",
      "     \"606e0c848aa54ee08db2e3216ea92680\": {\r\n",
      "      \"model_module\": \"@jupyter-widgets/base\",\r\n",
      "      \"model_module_version\": \"1.2.0\",\r\n",
      "      \"model_name\": \"LayoutModel\",\r\n",
      "      \"state\": {\r\n",
      "       \"justify_content\": \"center\"\r\n",
      "      }\r\n",
      "     },\r\n",
      "     \"60e42bd16fe34b90ba53711ef3d374a3\": {\r\n",
      "      \"model_module\": \"@jupyter-widgets/controls\",\r\n",
      "      \"model_module_version\": \"1.5.0\",\r\n",
      "      \"model_name\": \"DescriptionStyleModel\",\r\n",
      "      \"state\": {\r\n",
      "       \"description_width\": \"\"\r\n",
      "      }\r\n",
      "     },\r\n",
      "     \"61747be3b9f34526b506d14eae514895\": {\r\n",
      "      \"model_module\": \"@jupyter-widgets/base\",\r\n",
      "      \"model_module_version\": \"1.2.0\",\r\n",
      "      \"model_name\": \"LayoutModel\",\r\n",
      "      \"state\": {}\r\n",
      "     },\r\n",
      "     \"6202ea83130e40c6991aff6782888264\": {\r\n",
      "      \"model_module\": \"@jupyter-widgets/base\",\r\n",
      "      \"model_module_version\": \"1.2.0\",\r\n",
      "      \"model_name\": \"LayoutModel\",\r\n",
      "      \"state\": {}\r\n",
      "     },\r\n",
      "     \"63278f19a0c64b11b9875ef6408f42c8\": {\r\n",
      "      \"model_module\": \"@jupyter-widgets/base\",\r\n",
      "      \"model_module_version\": \"1.2.0\",\r\n",
      "      \"model_name\": \"LayoutModel\",\r\n",
      "      \"state\": {}\r\n",
      "     },\r\n",
      "     \"6398933f32d444adb689653b6e5dbf79\": {\r\n",
      "      \"model_module\": \"@jupyter-widgets/controls\",\r\n",
      "      \"model_module_version\": \"1.5.0\",\r\n",
      "      \"model_name\": \"TextModel\",\r\n",
      "      \"state\": {\r\n",
      "       \"description\": \"Name: \",\r\n",
      "       \"layout\": \"IPY_MODEL_c6540bb231cc44019a9c0f7aad9015d7\",\r\n",
      "       \"placeholder\": \"Enter experiment name\",\r\n",
      "       \"style\": \"IPY_MODEL_0bdd7af2c31f4fb7984c55dfb6dcfef7\",\r\n",
      "       \"value\": \"testititit\"\r\n",
      "      }\r\n",
      "     },\r\n",
      "     \"63be2a3ac07a438fab29f19674404d17\": {\r\n",
      "      \"model_module\": \"@jupyter-widgets/base\",\r\n",
      "      \"model_module_version\": \"1.2.0\",\r\n",
      "      \"model_name\": \"LayoutModel\",\r\n",
      "      \"state\": {\r\n",
      "       \"justify_content\": \"center\"\r\n",
      "      }\r\n",
      "     },\r\n",
      "     \"63e31d6fa0d549629521153856f9f01e\": {\r\n",
      "      \"model_module\": \"@jupyter-widgets/base\",\r\n",
      "      \"model_module_version\": \"1.2.0\",\r\n",
      "      \"model_name\": \"LayoutModel\",\r\n",
      "      \"state\": {}\r\n",
      "     },\r\n",
      "     \"63f971f08dda4c58a2b4fba629cc85b2\": {\r\n",
      "      \"model_module\": \"@jupyter-widgets/controls\",\r\n",
      "      \"model_module_version\": \"1.5.0\",\r\n",
      "      \"model_name\": \"DescriptionStyleModel\",\r\n",
      "      \"state\": {\r\n",
      "       \"description_width\": \"\"\r\n",
      "      }\r\n",
      "     },\r\n",
      "     \"64b358cc28254abc9ec204d7e1db5630\": {\r\n",
      "      \"model_module\": \"@jupyter-widgets/controls\",\r\n",
      "      \"model_module_version\": \"1.5.0\",\r\n",
      "      \"model_name\": \"DescriptionStyleModel\",\r\n",
      "      \"state\": {\r\n",
      "       \"description_width\": \"\"\r\n",
      "      }\r\n",
      "     },\r\n",
      "     \"654263138ef840d189bfbb65379116f2\": {\r\n",
      "      \"model_module\": \"@jupyter-widgets/controls\",\r\n",
      "      \"model_module_version\": \"1.5.0\",\r\n",
      "      \"model_name\": \"FileUploadModel\",\r\n",
      "      \"state\": {\r\n",
      "       \"description_tooltip\": null,\r\n",
      "       \"layout\": \"IPY_MODEL_68efaa81372443d49a4f34343ae8590c\",\r\n",
      "       \"multiple\": true,\r\n",
      "       \"style\": \"IPY_MODEL_13287f5202c842989e6d27c76814d422\"\r\n",
      "      }\r\n",
      "     },\r\n",
      "     \"659697b6aa914cc6bb5d0de2a21097fc\": {\r\n",
      "      \"model_module\": \"@jupyter-widgets/controls\",\r\n",
      "      \"model_module_version\": \"1.5.0\",\r\n",
      "      \"model_name\": \"ButtonStyleModel\",\r\n",
      "      \"state\": {}\r\n",
      "     },\r\n",
      "     \"65f7c288b6fc4411bde9066d3684d718\": {\r\n",
      "      \"model_module\": \"@jupyter-widgets/base\",\r\n",
      "      \"model_module_version\": \"1.2.0\",\r\n",
      "      \"model_name\": \"LayoutModel\",\r\n",
      "      \"state\": {}\r\n",
      "     },\r\n",
      "     \"6617c7f20ba04ffbbe0ccd713c8c62d1\": {\r\n",
      "      \"model_module\": \"@jupyter-widgets/base\",\r\n",
      "      \"model_module_version\": \"1.2.0\",\r\n",
      "      \"model_name\": \"LayoutModel\",\r\n",
      "      \"state\": {}\r\n",
      "     },\r\n",
      "     \"6742a928b9994912916d03a6ae97ca60\": {\r\n",
      "      \"model_module\": \"@jupyter-widgets/controls\",\r\n",
      "      \"model_module_version\": \"1.5.0\",\r\n",
      "      \"model_name\": \"ButtonStyleModel\",\r\n",
      "      \"state\": {}\r\n",
      "     },\r\n",
      "     \"674f84cca0ab45feacaa03b3982fef3a\": {\r\n",
      "      \"model_module\": \"@jupyter-widgets/controls\",\r\n",
      "      \"model_module_version\": \"1.5.0\",\r\n",
      "      \"model_name\": \"TextModel\",\r\n",
      "      \"state\": {\r\n",
      "       \"description\": \"Name: \",\r\n",
      "       \"layout\": \"IPY_MODEL_467c0b1af85d4e0badb05b3963ed4384\",\r\n",
      "       \"placeholder\": \"Enter experiment name\",\r\n",
      "       \"style\": \"IPY_MODEL_386eeff744a04a9a8d8ce23123cbec5f\"\r\n",
      "      }\r\n",
      "     },\r\n",
      "     \"678f903b72bf4277952c8775593646c6\": {\r\n",
      "      \"model_module\": \"@jupyter-widgets/base\",\r\n",
      "      \"model_module_version\": \"1.2.0\",\r\n",
      "      \"model_name\": \"LayoutModel\",\r\n",
      "      \"state\": {}\r\n",
      "     },\r\n",
      "     \"68069991e2d0412295a43a186da2fd71\": {\r\n",
      "      \"model_module\": \"@jupyter-widgets/base\",\r\n",
      "      \"model_module_version\": \"1.2.0\",\r\n",
      "      \"model_name\": \"LayoutModel\",\r\n",
      "      \"state\": {}\r\n",
      "     },\r\n",
      "     \"68e7e7547c3b405d88dfcac67e1cc19d\": {\r\n",
      "      \"model_module\": \"@jupyter-widgets/controls\",\r\n",
      "      \"model_module_version\": \"1.5.0\",\r\n",
      "      \"model_name\": \"DescriptionStyleModel\",\r\n",
      "      \"state\": {\r\n",
      "       \"description_width\": \"\"\r\n",
      "      }\r\n",
      "     },\r\n",
      "     \"68efaa81372443d49a4f34343ae8590c\": {\r\n",
      "      \"model_module\": \"@jupyter-widgets/base\",\r\n",
      "      \"model_module_version\": \"1.2.0\",\r\n",
      "      \"model_name\": \"LayoutModel\",\r\n",
      "      \"state\": {}\r\n",
      "     },\r\n",
      "     \"69dfbd2fe51b4103bb544cfa81d22f08\": {\r\n",
      "      \"model_module\": \"@jupyter-widgets/controls\",\r\n",
      "      \"model_module_version\": \"1.5.0\",\r\n",
      "      \"model_name\": \"DescriptionStyleModel\",\r\n",
      "      \"state\": {\r\n",
      "       \"description_width\": \"\"\r\n",
      "      }\r\n",
      "     },\r\n",
      "     \"6a854b04787146ca924a65e64b3c7c42\": {\r\n",
      "      \"model_module\": \"@jupyter-widgets/controls\",\r\n",
      "      \"model_module_version\": \"1.5.0\",\r\n",
      "      \"model_name\": \"HBoxModel\",\r\n",
      "      \"state\": {\r\n",
      "       \"children\": [\r\n",
      "        \"IPY_MODEL_d5b2855a49be47b486229ee843d1f0e4\"\r\n",
      "       ],\r\n",
      "       \"layout\": \"IPY_MODEL_606e0c848aa54ee08db2e3216ea92680\"\r\n",
      "      }\r\n",
      "     },\r\n",
      "     \"6b82148f8e354844bff113b20f39f04b\": {\r\n",
      "      \"model_module\": \"@jupyter-widgets/base\",\r\n",
      "      \"model_module_version\": \"1.2.0\",\r\n",
      "      \"model_name\": \"LayoutModel\",\r\n",
      "      \"state\": {}\r\n",
      "     },\r\n",
      "     \"6c1f8b89a7164ec9926bc2df0a023fc6\": {\r\n",
      "      \"model_module\": \"@jupyter-widgets/controls\",\r\n",
      "      \"model_module_version\": \"1.5.0\",\r\n",
      "      \"model_name\": \"HBoxModel\",\r\n",
      "      \"state\": {\r\n",
      "       \"children\": [\r\n",
      "        \"IPY_MODEL_9fc4051ccc144786a3a1b2a82407e011\",\r\n",
      "        \"IPY_MODEL_fdfe2cdb87d944cdb3ee690ba4286d13\",\r\n",
      "        \"IPY_MODEL_a336e1f7853541fc8fe1c343d8abf0fe\"\r\n",
      "       ],\r\n",
      "       \"layout\": \"IPY_MODEL_74795ae0310244e5804b9591fbe030c7\"\r\n",
      "      }\r\n",
      "     },\r\n",
      "     \"6d27ca4dcbcb4343ace7d636e0774a6e\": {\r\n",
      "      \"model_module\": \"@jupyter-widgets/base\",\r\n",
      "      \"model_module_version\": \"1.2.0\",\r\n",
      "      \"model_name\": \"LayoutModel\",\r\n",
      "      \"state\": {}\r\n",
      "     },\r\n",
      "     \"6d4bae31223b4324919330857045a08b\": {\r\n",
      "      \"model_module\": \"@jupyter-widgets/base\",\r\n",
      "      \"model_module_version\": \"1.2.0\",\r\n",
      "      \"model_name\": \"LayoutModel\",\r\n",
      "      \"state\": {}\r\n",
      "     },\r\n",
      "     \"6d522cbc37884d6da1e0dd6da25d574a\": {\r\n",
      "      \"model_module\": \"@jupyter-widgets/controls\",\r\n",
      "      \"model_module_version\": \"1.5.0\",\r\n",
      "      \"model_name\": \"DropdownModel\",\r\n",
      "      \"state\": {\r\n",
      "       \"_options_labels\": [\r\n",
      "        \"Calcium\",\r\n",
      "        \"Ephys\",\r\n",
      "        \"Fluidics\",\r\n",
      "        \"Imagingi\",\r\n",
      "        \"MEA\",\r\n",
      "        \"Patch Clamp\"\r\n",
      "       ],\r\n",
      "       \"description\": \"Type:\",\r\n",
      "       \"index\": 0,\r\n",
      "       \"layout\": \"IPY_MODEL_c8cdbab1c97149a9a29471c95b1c2828\",\r\n",
      "       \"style\": \"IPY_MODEL_63f971f08dda4c58a2b4fba629cc85b2\"\r\n",
      "      }\r\n",
      "     },\r\n",
      "     \"6e5b17a04abd4fabb1477abc66ee03e2\": {\r\n",
      "      \"model_module\": \"@jupyter-widgets/controls\",\r\n",
      "      \"model_module_version\": \"1.5.0\",\r\n",
      "      \"model_name\": \"FileUploadModel\",\r\n",
      "      \"state\": {\r\n",
      "       \"description_tooltip\": null,\r\n",
      "       \"layout\": \"IPY_MODEL_704a4a8bb51c45379fb49dd7b890cc88\",\r\n",
      "       \"multiple\": true,\r\n",
      "       \"style\": \"IPY_MODEL_cffafd7787bd4a579932ed4935d54b13\"\r\n",
      "      }\r\n",
      "     },\r\n",
      "     \"6eed2611d6b64a7da920987537ec5cf1\": {\r\n",
      "      \"model_module\": \"@jupyter-widgets/controls\",\r\n",
      "      \"model_module_version\": \"1.5.0\",\r\n",
      "      \"model_name\": \"VBoxModel\",\r\n",
      "      \"state\": {\r\n",
      "       \"children\": [\r\n",
      "        \"IPY_MODEL_56020677244f4821b7383c1e9c06af55\",\r\n",
      "        \"IPY_MODEL_81ef746cc4fb4932b2669930fb674e07\",\r\n",
      "        \"IPY_MODEL_e49f4563050b42fe9c9a42a5d5fbaa43\"\r\n",
      "       ],\r\n",
      "       \"layout\": \"IPY_MODEL_ffad1442a54640e79c240bfd4179bbab\"\r\n",
      "      }\r\n",
      "     },\r\n",
      "     \"6efffe2d32cf47ddad9c9b40416dfcec\": {\r\n",
      "      \"model_module\": \"@jupyter-widgets/controls\",\r\n",
      "      \"model_module_version\": \"1.5.0\",\r\n",
      "      \"model_name\": \"VBoxModel\",\r\n",
      "      \"state\": {\r\n",
      "       \"children\": [\r\n",
      "        \"IPY_MODEL_c180ed0cb5494ca8aa932e9bddce4eec\",\r\n",
      "        \"IPY_MODEL_ffb3daf5c07241f0828f0de137da60db\",\r\n",
      "        \"IPY_MODEL_d33c85ddfe7646c3b9d03a788d74316c\"\r\n",
      "       ],\r\n",
      "       \"layout\": \"IPY_MODEL_5e38531b65b64fa6b55b7f7204c668a1\"\r\n",
      "      }\r\n",
      "     },\r\n",
      "     \"6fc33914177a4b988c2c872eb5460603\": {\r\n",
      "      \"model_module\": \"@jupyter-widgets/base\",\r\n",
      "      \"model_module_version\": \"1.2.0\",\r\n",
      "      \"model_name\": \"LayoutModel\",\r\n",
      "      \"state\": {}\r\n",
      "     },\r\n",
      "     \"6fc8cff7d568472a913c226f6d875cbb\": {\r\n",
      "      \"model_module\": \"@jupyter-widgets/controls\",\r\n",
      "      \"model_module_version\": \"1.5.0\",\r\n",
      "      \"model_name\": \"HBoxModel\",\r\n",
      "      \"state\": {\r\n",
      "       \"children\": [\r\n",
      "        \"IPY_MODEL_53979001ba8c47e08d5467964b47268c\",\r\n",
      "        \"IPY_MODEL_e3a6e1156afc459cb4a51a355661121f\",\r\n",
      "        \"IPY_MODEL_bb2ec0a7ff07486bb334a453817084a1\"\r\n",
      "       ],\r\n",
      "       \"layout\": \"IPY_MODEL_2ed5c862ea954028b4251ba5feeadd06\"\r\n",
      "      }\r\n",
      "     },\r\n",
      "     \"704a4a8bb51c45379fb49dd7b890cc88\": {\r\n",
      "      \"model_module\": \"@jupyter-widgets/base\",\r\n",
      "      \"model_module_version\": \"1.2.0\",\r\n",
      "      \"model_name\": \"LayoutModel\",\r\n",
      "      \"state\": {}\r\n",
      "     },\r\n",
      "     \"7059b75e5f154c8981d41adc9cccd7ea\": {\r\n",
      "      \"model_module\": \"@jupyter-widgets/controls\",\r\n",
      "      \"model_module_version\": \"1.5.0\",\r\n",
      "      \"model_name\": \"DatePickerModel\",\r\n",
      "      \"state\": {\r\n",
      "       \"description\": \"Exp. Date:\",\r\n",
      "       \"disabled\": false,\r\n",
      "       \"layout\": \"IPY_MODEL_75b8da0016fd4159bd46144d7b60c2ba\",\r\n",
      "       \"style\": \"IPY_MODEL_764e592ea05647b2a04366336216e5a2\",\r\n",
      "       \"value\": {\r\n",
      "        \"date\": 11,\r\n",
      "        \"month\": 4,\r\n",
      "        \"year\": 2021\r\n",
      "       }\r\n",
      "      }\r\n",
      "     },\r\n",
      "     \"706377c52ecc474f8d56b1d47ee57ce1\": {\r\n",
      "      \"model_module\": \"@jupyter-widgets/base\",\r\n",
      "      \"model_module_version\": \"1.2.0\",\r\n",
      "      \"model_name\": \"LayoutModel\",\r\n",
      "      \"state\": {}\r\n",
      "     },\r\n",
      "     \"7143cbd024074c039164f69b0b46d70a\": {\r\n",
      "      \"model_module\": \"@jupyter-widgets/controls\",\r\n",
      "      \"model_module_version\": \"1.5.0\",\r\n",
      "      \"model_name\": \"FileUploadModel\",\r\n",
      "      \"state\": {\r\n",
      "       \"description_tooltip\": null,\r\n",
      "       \"layout\": \"IPY_MODEL_b1809143d87c417085331ca28256d877\",\r\n",
      "       \"multiple\": true,\r\n",
      "       \"style\": \"IPY_MODEL_36398361549d4411a8be9ee8535e6688\"\r\n",
      "      }\r\n",
      "     },\r\n",
      "     \"72349edeb40d4201b41106b5436fc827\": {\r\n",
      "      \"model_module\": \"@jupyter-widgets/base\",\r\n",
      "      \"model_module_version\": \"1.2.0\",\r\n",
      "      \"model_name\": \"LayoutModel\",\r\n",
      "      \"state\": {}\r\n",
      "     },\r\n",
      "     \"724e7d58974146ba9a1adeee949eaac5\": {\r\n",
      "      \"model_module\": \"@jupyter-widgets/base\",\r\n",
      "      \"model_module_version\": \"1.2.0\",\r\n",
      "      \"model_name\": \"LayoutModel\",\r\n",
      "      \"state\": {}\r\n",
      "     },\r\n",
      "     \"726a1924a0d3445ab6df969a928971d5\": {\r\n",
      "      \"model_module\": \"@jupyter-widgets/base\",\r\n",
      "      \"model_module_version\": \"1.2.0\",\r\n",
      "      \"model_name\": \"LayoutModel\",\r\n",
      "      \"state\": {}\r\n",
      "     },\r\n",
      "     \"72a99c199d65413487b4d95808080e7c\": {\r\n",
      "      \"model_module\": \"@jupyter-widgets/base\",\r\n",
      "      \"model_module_version\": \"1.2.0\",\r\n",
      "      \"model_name\": \"LayoutModel\",\r\n",
      "      \"state\": {}\r\n",
      "     },\r\n",
      "     \"73031fb0ad134ef6a1bbdcc5c79a7197\": {\r\n",
      "      \"model_module\": \"@jupyter-widgets/base\",\r\n",
      "      \"model_module_version\": \"1.2.0\",\r\n",
      "      \"model_name\": \"LayoutModel\",\r\n",
      "      \"state\": {}\r\n",
      "     },\r\n",
      "     \"7367c1510d5040c68cff32a7c7407d0f\": {\r\n",
      "      \"model_module\": \"@jupyter-widgets/base\",\r\n",
      "      \"model_module_version\": \"1.2.0\",\r\n",
      "      \"model_name\": \"LayoutModel\",\r\n",
      "      \"state\": {}\r\n",
      "     },\r\n",
      "     \"73f000b1f343479a9df085e9005d7c3e\": {\r\n",
      "      \"model_module\": \"@jupyter-widgets/base\",\r\n",
      "      \"model_module_version\": \"1.2.0\",\r\n",
      "      \"model_name\": \"LayoutModel\",\r\n",
      "      \"state\": {}\r\n",
      "     },\r\n",
      "     \"74178733e1714673a227b733dfde31ae\": {\r\n",
      "      \"model_module\": \"@jupyter-widgets/controls\",\r\n",
      "      \"model_module_version\": \"1.5.0\",\r\n",
      "      \"model_name\": \"HBoxModel\",\r\n",
      "      \"state\": {\r\n",
      "       \"children\": [\r\n",
      "        \"IPY_MODEL_a6a7d38e81474c969056c40e4d05b37b\"\r\n",
      "       ],\r\n",
      "       \"layout\": \"IPY_MODEL_9bdadad229a0475da42f1ff9b149f568\"\r\n",
      "      }\r\n",
      "     },\r\n",
      "     \"7439d70295514aadbb27efdeeb2917b0\": {\r\n",
      "      \"model_module\": \"@jupyter-widgets/controls\",\r\n",
      "      \"model_module_version\": \"1.5.0\",\r\n",
      "      \"model_name\": \"DropdownModel\",\r\n",
      "      \"state\": {\r\n",
      "       \"_options_labels\": [\r\n",
      "        \"MEA\",\r\n",
      "        \"Axion\",\r\n",
      "        \"SeaMoss\",\r\n",
      "        \"Roberts\"\r\n",
      "       ],\r\n",
      "       \"description\": \"Type:\",\r\n",
      "       \"index\": 0,\r\n",
      "       \"layout\": \"IPY_MODEL_9ba38f40546e4fefb5645ef2843544f3\",\r\n",
      "       \"style\": \"IPY_MODEL_4ad2d4b3422a4ef88822cfa8c3ad70dd\"\r\n",
      "      }\r\n",
      "     },\r\n",
      "     \"7448d9b6d13f4b0187f06eef039fc251\": {\r\n",
      "      \"model_module\": \"@jupyter-widgets/controls\",\r\n",
      "      \"model_module_version\": \"1.5.0\",\r\n",
      "      \"model_name\": \"ButtonModel\",\r\n",
      "      \"state\": {\r\n",
      "       \"description\": \"Create UUID\",\r\n",
      "       \"layout\": \"IPY_MODEL_5b75e88f9cff417fa1fd0a32781ee3b4\",\r\n",
      "       \"style\": \"IPY_MODEL_1f5ffa33e7aa43fcb3f5c8c05eef0ce1\",\r\n",
      "       \"tooltip\": \"Create UUID\"\r\n",
      "      }\r\n",
      "     },\r\n",
      "     \"74696ba6f748442c9eda9be79ce0840e\": {\r\n",
      "      \"model_module\": \"@jupyter-widgets/controls\",\r\n",
      "      \"model_module_version\": \"1.5.0\",\r\n",
      "      \"model_name\": \"DescriptionStyleModel\",\r\n",
      "      \"state\": {\r\n",
      "       \"description_width\": \"\"\r\n",
      "      }\r\n",
      "     },\r\n",
      "     \"74795ae0310244e5804b9591fbe030c7\": {\r\n",
      "      \"model_module\": \"@jupyter-widgets/base\",\r\n",
      "      \"model_module_version\": \"1.2.0\",\r\n",
      "      \"model_name\": \"LayoutModel\",\r\n",
      "      \"state\": {}\r\n",
      "     },\r\n",
      "     \"75b8da0016fd4159bd46144d7b60c2ba\": {\r\n",
      "      \"model_module\": \"@jupyter-widgets/base\",\r\n",
      "      \"model_module_version\": \"1.2.0\",\r\n",
      "      \"model_name\": \"LayoutModel\",\r\n",
      "      \"state\": {}\r\n",
      "     },\r\n",
      "     \"764e592ea05647b2a04366336216e5a2\": {\r\n",
      "      \"model_module\": \"@jupyter-widgets/controls\",\r\n",
      "      \"model_module_version\": \"1.5.0\",\r\n",
      "      \"model_name\": \"DescriptionStyleModel\",\r\n",
      "      \"state\": {\r\n",
      "       \"description_width\": \"\"\r\n",
      "      }\r\n",
      "     },\r\n",
      "     \"777a2f60c43d4b29a81ed38d24c09eea\": {\r\n",
      "      \"model_module\": \"@jupyter-widgets/base\",\r\n",
      "      \"model_module_version\": \"1.2.0\",\r\n",
      "      \"model_name\": \"LayoutModel\",\r\n",
      "      \"state\": {}\r\n",
      "     },\r\n",
      "     \"77b71f67cc9e461ba0d91801fb3e95b1\": {\r\n",
      "      \"model_module\": \"@jupyter-widgets/controls\",\r\n",
      "      \"model_module_version\": \"1.5.0\",\r\n",
      "      \"model_name\": \"DropdownModel\",\r\n",
      "      \"state\": {\r\n",
      "       \"_options_labels\": [\r\n",
      "        \"Calcium\",\r\n",
      "        \"Ephys\",\r\n",
      "        \"Fluidics\",\r\n",
      "        \"Imaginging\",\r\n",
      "        \"MEA\",\r\n",
      "        \"Patch Clamp\"\r\n",
      "       ],\r\n",
      "       \"description\": \"Type:\",\r\n",
      "       \"index\": 0,\r\n",
      "       \"layout\": \"IPY_MODEL_94bd7b1703b749fab592a29df58e5495\",\r\n",
      "       \"style\": \"IPY_MODEL_a6c52a6580584b928198f85c3e6fe1c6\"\r\n",
      "      }\r\n",
      "     },\r\n",
      "     \"7870b6c459884fbb99e4612cf7d1bf72\": {\r\n",
      "      \"model_module\": \"@jupyter-widgets/controls\",\r\n",
      "      \"model_module_version\": \"1.5.0\",\r\n",
      "      \"model_name\": \"DropdownModel\",\r\n",
      "      \"state\": {\r\n",
      "       \"_options_labels\": [\r\n",
      "        \"Patch clamp\",\r\n",
      "        \"whole cell\",\r\n",
      "        \"micromanipulator\"\r\n",
      "       ],\r\n",
      "       \"description\": \"Clamp type:\",\r\n",
      "       \"index\": 0,\r\n",
      "       \"layout\": \"IPY_MODEL_72349edeb40d4201b41106b5436fc827\",\r\n",
      "       \"style\": \"IPY_MODEL_4be4ad0a6b1e40979dbf5680a9490706\"\r\n",
      "      }\r\n",
      "     },\r\n",
      "     \"7909175dacb940db94152fc3d8932eea\": {\r\n",
      "      \"model_module\": \"@jupyter-widgets/base\",\r\n",
      "      \"model_module_version\": \"1.2.0\",\r\n",
      "      \"model_name\": \"LayoutModel\",\r\n",
      "      \"state\": {\r\n",
      "       \"justify_content\": \"center\"\r\n",
      "      }\r\n",
      "     },\r\n",
      "     \"79dac097d4244c6ea206a09451e9eef8\": {\r\n",
      "      \"model_module\": \"@jupyter-widgets/controls\",\r\n",
      "      \"model_module_version\": \"1.5.0\",\r\n",
      "      \"model_name\": \"VBoxModel\",\r\n",
      "      \"state\": {\r\n",
      "       \"children\": [\r\n",
      "        \"IPY_MODEL_01b13c18f8cc44ccae570619bca9c4d9\",\r\n",
      "        \"IPY_MODEL_4d2bade21d5f4fb3909e6c6b53c47099\",\r\n",
      "        \"IPY_MODEL_c6720fbf58d64f5f89e3f09aecabf082\"\r\n",
      "       ],\r\n",
      "       \"layout\": \"IPY_MODEL_a3e4d799f6374752b531869b1b5773be\"\r\n",
      "      }\r\n",
      "     },\r\n",
      "     \"7a35b21b89a84d2fb0b61dd76d4e111c\": {\r\n",
      "      \"model_module\": \"@jupyter-widgets/controls\",\r\n",
      "      \"model_module_version\": \"1.5.0\",\r\n",
      "      \"model_name\": \"DescriptionStyleModel\",\r\n",
      "      \"state\": {\r\n",
      "       \"description_width\": \"\"\r\n",
      "      }\r\n",
      "     },\r\n",
      "     \"7a5dc69d4d3449639510a75e8b352d15\": {\r\n",
      "      \"model_module\": \"@jupyter-widgets/base\",\r\n",
      "      \"model_module_version\": \"1.2.0\",\r\n",
      "      \"model_name\": \"LayoutModel\",\r\n",
      "      \"state\": {}\r\n",
      "     },\r\n",
      "     \"7a9aeeee42814932bfedfdf64ef40885\": {\r\n",
      "      \"model_module\": \"@jupyter-widgets/controls\",\r\n",
      "      \"model_module_version\": \"1.5.0\",\r\n",
      "      \"model_name\": \"DropdownModel\",\r\n",
      "      \"state\": {\r\n",
      "       \"_options_labels\": [\r\n",
      "        \"MEA\",\r\n",
      "        \"Axion\",\r\n",
      "        \"SeaMoss\",\r\n",
      "        \"Roberts\"\r\n",
      "       ],\r\n",
      "       \"description\": \"Type:\",\r\n",
      "       \"index\": 0,\r\n",
      "       \"layout\": \"IPY_MODEL_146d759ea91a4bd19b646b9dac31482c\",\r\n",
      "       \"style\": \"IPY_MODEL_e219a79203b348748340ed2b99b265d2\"\r\n",
      "      }\r\n",
      "     },\r\n",
      "     \"7b4271e8c9a34aa19a632006fc4b8808\": {\r\n",
      "      \"model_module\": \"@jupyter-widgets/controls\",\r\n",
      "      \"model_module_version\": \"1.5.0\",\r\n",
      "      \"model_name\": \"DescriptionStyleModel\",\r\n",
      "      \"state\": {\r\n",
      "       \"description_width\": \"\"\r\n",
      "      }\r\n",
      "     },\r\n",
      "     \"7bd603ffe7c340908d1fc279a51da306\": {\r\n",
      "      \"model_module\": \"@jupyter-widgets/controls\",\r\n",
      "      \"model_module_version\": \"1.5.0\",\r\n",
      "      \"model_name\": \"DropdownModel\",\r\n",
      "      \"state\": {\r\n",
      "       \"_options_labels\": [\r\n",
      "        \"Patch clamp\",\r\n",
      "        \"whole cell\",\r\n",
      "        \"micromanipulator\"\r\n",
      "       ],\r\n",
      "       \"description\": \"Clamp type:\",\r\n",
      "       \"index\": 0,\r\n",
      "       \"layout\": \"IPY_MODEL_6d4bae31223b4324919330857045a08b\",\r\n",
      "       \"style\": \"IPY_MODEL_fa6e4f945c1c4de0be6f1cec92b3ca8f\"\r\n",
      "      }\r\n",
      "     },\r\n",
      "     \"7c4105e423ba40b3978cea52d9624e5c\": {\r\n",
      "      \"model_module\": \"@jupyter-widgets/base\",\r\n",
      "      \"model_module_version\": \"1.2.0\",\r\n",
      "      \"model_name\": \"LayoutModel\",\r\n",
      "      \"state\": {}\r\n",
      "     },\r\n",
      "     \"7cc58d367259434094adc6beb8455cc5\": {\r\n",
      "      \"model_module\": \"@jupyter-widgets/controls\",\r\n",
      "      \"model_module_version\": \"1.5.0\",\r\n",
      "      \"model_name\": \"ButtonStyleModel\",\r\n",
      "      \"state\": {}\r\n",
      "     },\r\n",
      "     \"7ecc752659b04fa8bd593278658cd76c\": {\r\n",
      "      \"model_module\": \"@jupyter-widgets/base\",\r\n",
      "      \"model_module_version\": \"1.2.0\",\r\n",
      "      \"model_name\": \"LayoutModel\",\r\n",
      "      \"state\": {}\r\n",
      "     },\r\n",
      "     \"7f07e0fcb2e34f5899eee5f54bf63433\": {\r\n",
      "      \"model_module\": \"@jupyter-widgets/controls\",\r\n",
      "      \"model_module_version\": \"1.5.0\",\r\n",
      "      \"model_name\": \"TextModel\",\r\n",
      "      \"state\": {\r\n",
      "       \"description\": \"Name: \",\r\n",
      "       \"layout\": \"IPY_MODEL_bafbcbe43f214859a10dcab4c5933a22\",\r\n",
      "       \"placeholder\": \"Enter experiment name\",\r\n",
      "       \"style\": \"IPY_MODEL_95e9150e617246b985bebe918b0b8c04\"\r\n",
      "      }\r\n",
      "     },\r\n",
      "     \"7f2fdfc03c084668a223ae1f008c1378\": {\r\n",
      "      \"model_module\": \"@jupyter-widgets/base\",\r\n",
      "      \"model_module_version\": \"1.2.0\",\r\n",
      "      \"model_name\": \"LayoutModel\",\r\n",
      "      \"state\": {}\r\n",
      "     },\r\n",
      "     \"7f6c29b2b95d4887a18b5f70fb98bbb3\": {\r\n",
      "      \"model_module\": \"@jupyter-widgets/controls\",\r\n",
      "      \"model_module_version\": \"1.5.0\",\r\n",
      "      \"model_name\": \"DescriptionStyleModel\",\r\n",
      "      \"state\": {\r\n",
      "       \"description_width\": \"\"\r\n",
      "      }\r\n",
      "     },\r\n",
      "     \"7f71b8f064284aa887a859089d58b532\": {\r\n",
      "      \"model_module\": \"@jupyter-widgets/controls\",\r\n",
      "      \"model_module_version\": \"1.5.0\",\r\n",
      "      \"model_name\": \"ButtonStyleModel\",\r\n",
      "      \"state\": {}\r\n",
      "     },\r\n",
      "     \"7fc98811460c4161a43e916fbf3b14bc\": {\r\n",
      "      \"model_module\": \"@jupyter-widgets/controls\",\r\n",
      "      \"model_module_version\": \"1.5.0\",\r\n",
      "      \"model_name\": \"DescriptionStyleModel\",\r\n",
      "      \"state\": {\r\n",
      "       \"description_width\": \"\"\r\n",
      "      }\r\n",
      "     },\r\n",
      "     \"7fe64b9ffa7a465ba0be277b8eeb6b0f\": {\r\n",
      "      \"model_module\": \"@jupyter-widgets/controls\",\r\n",
      "      \"model_module_version\": \"1.5.0\",\r\n",
      "      \"model_name\": \"DescriptionStyleModel\",\r\n",
      "      \"state\": {\r\n",
      "       \"description_width\": \"\"\r\n",
      "      }\r\n",
      "     },\r\n",
      "     \"7fee737d38f3411ea633b61d29c610dc\": {\r\n",
      "      \"model_module\": \"@jupyter-widgets/controls\",\r\n",
      "      \"model_module_version\": \"1.5.0\",\r\n",
      "      \"model_name\": \"VBoxModel\",\r\n",
      "      \"state\": {\r\n",
      "       \"children\": [\r\n",
      "        \"IPY_MODEL_56020677244f4821b7383c1e9c06af55\",\r\n",
      "        \"IPY_MODEL_81ef746cc4fb4932b2669930fb674e07\",\r\n",
      "        \"IPY_MODEL_e49f4563050b42fe9c9a42a5d5fbaa43\"\r\n",
      "       ],\r\n",
      "       \"layout\": \"IPY_MODEL_57d18ac01b704889b7aff883a7f9a5fb\"\r\n",
      "      }\r\n",
      "     },\r\n",
      "     \"800436adf2644242af8a17543c4be4ab\": {\r\n",
      "      \"model_module\": \"@jupyter-widgets/controls\",\r\n",
      "      \"model_module_version\": \"1.5.0\",\r\n",
      "      \"model_name\": \"VBoxModel\",\r\n",
      "      \"state\": {\r\n",
      "       \"children\": [\r\n",
      "        \"IPY_MODEL_59caa9839f2f41ddaa363bcecc78e322\",\r\n",
      "        \"IPY_MODEL_83e1da126a9e43b78b9a1eac70ec70d9\",\r\n",
      "        \"IPY_MODEL_d5b2855a49be47b486229ee843d1f0e4\"\r\n",
      "       ],\r\n",
      "       \"layout\": \"IPY_MODEL_777a2f60c43d4b29a81ed38d24c09eea\"\r\n",
      "      }\r\n",
      "     },\r\n",
      "     \"8008bd3d7c76431ca572a4d77d8d9c81\": {\r\n",
      "      \"model_module\": \"@jupyter-widgets/controls\",\r\n",
      "      \"model_module_version\": \"1.5.0\",\r\n",
      "      \"model_name\": \"VBoxModel\",\r\n",
      "      \"state\": {\r\n",
      "       \"children\": [\r\n",
      "        \"IPY_MODEL_56020677244f4821b7383c1e9c06af55\",\r\n",
      "        \"IPY_MODEL_81ef746cc4fb4932b2669930fb674e07\",\r\n",
      "        \"IPY_MODEL_e49f4563050b42fe9c9a42a5d5fbaa43\"\r\n",
      "       ],\r\n",
      "       \"layout\": \"IPY_MODEL_19f47bcdffce49c5bbd0ea0d4bf59e58\"\r\n",
      "      }\r\n",
      "     },\r\n",
      "     \"80a1303344f246e09855792e2514eb51\": {\r\n",
      "      \"model_module\": \"@jupyter-widgets/base\",\r\n",
      "      \"model_module_version\": \"1.2.0\",\r\n",
      "      \"model_name\": \"LayoutModel\",\r\n",
      "      \"state\": {}\r\n",
      "     },\r\n",
      "     \"81ac8ee36ac2417687d201b565a9da25\": {\r\n",
      "      \"model_module\": \"@jupyter-widgets/base\",\r\n",
      "      \"model_module_version\": \"1.2.0\",\r\n",
      "      \"model_name\": \"LayoutModel\",\r\n",
      "      \"state\": {}\r\n",
      "     },\r\n",
      "     \"81ef746cc4fb4932b2669930fb674e07\": {\r\n",
      "      \"model_module\": \"@jupyter-widgets/controls\",\r\n",
      "      \"model_module_version\": \"1.5.0\",\r\n",
      "      \"model_name\": \"HBoxModel\",\r\n",
      "      \"state\": {\r\n",
      "       \"children\": [\r\n",
      "        \"IPY_MODEL_3a3c62fdaf5a4f8c965765cbb1416124\",\r\n",
      "        \"IPY_MODEL_398c7439b8b54fc49cb10d438b215beb\",\r\n",
      "        \"IPY_MODEL_eb22b8a2a0f1470896d43f34aac87aaa\"\r\n",
      "       ],\r\n",
      "       \"layout\": \"IPY_MODEL_16335bb5ff89461ab2a7b86dd09f635d\"\r\n",
      "      }\r\n",
      "     },\r\n",
      "     \"825e709634394410909a52df05915fc3\": {\r\n",
      "      \"model_module\": \"@jupyter-widgets/controls\",\r\n",
      "      \"model_module_version\": \"1.5.0\",\r\n",
      "      \"model_name\": \"DescriptionStyleModel\",\r\n",
      "      \"state\": {\r\n",
      "       \"description_width\": \"\"\r\n",
      "      }\r\n",
      "     },\r\n",
      "     \"837773e8c02a4fb09c589921de6f2c0a\": {\r\n",
      "      \"model_module\": \"@jupyter-widgets/controls\",\r\n",
      "      \"model_module_version\": \"1.5.0\",\r\n",
      "      \"model_name\": \"ButtonStyleModel\",\r\n",
      "      \"state\": {}\r\n",
      "     },\r\n",
      "     \"83e1da126a9e43b78b9a1eac70ec70d9\": {\r\n",
      "      \"model_module\": \"@jupyter-widgets/controls\",\r\n",
      "      \"model_module_version\": \"1.5.0\",\r\n",
      "      \"model_name\": \"HBoxModel\",\r\n",
      "      \"state\": {\r\n",
      "       \"children\": [\r\n",
      "        \"IPY_MODEL_9fc4051ccc144786a3a1b2a82407e011\",\r\n",
      "        \"IPY_MODEL_fdfe2cdb87d944cdb3ee690ba4286d13\",\r\n",
      "        \"IPY_MODEL_a336e1f7853541fc8fe1c343d8abf0fe\"\r\n",
      "       ],\r\n",
      "       \"layout\": \"IPY_MODEL_68069991e2d0412295a43a186da2fd71\"\r\n",
      "      }\r\n",
      "     },\r\n",
      "     \"852606a48a01460aacc10c13f5e2a849\": {\r\n",
      "      \"model_module\": \"@jupyter-widgets/controls\",\r\n",
      "      \"model_module_version\": \"1.5.0\",\r\n",
      "      \"model_name\": \"DescriptionStyleModel\",\r\n",
      "      \"state\": {\r\n",
      "       \"description_width\": \"\"\r\n",
      "      }\r\n",
      "     },\r\n",
      "     \"85751e3e796049dfad79ec864cd756a6\": {\r\n",
      "      \"model_module\": \"@jupyter-widgets/base\",\r\n",
      "      \"model_module_version\": \"1.2.0\",\r\n",
      "      \"model_name\": \"LayoutModel\",\r\n",
      "      \"state\": {}\r\n",
      "     },\r\n",
      "     \"85bb4490bacc4803aa52f7e88f143764\": {\r\n",
      "      \"model_module\": \"@jupyter-widgets/base\",\r\n",
      "      \"model_module_version\": \"1.2.0\",\r\n",
      "      \"model_name\": \"LayoutModel\",\r\n",
      "      \"state\": {}\r\n",
      "     },\r\n",
      "     \"85dce981a49f4a79aef479f75fec62fa\": {\r\n",
      "      \"model_module\": \"@jupyter-widgets/base\",\r\n",
      "      \"model_module_version\": \"1.2.0\",\r\n",
      "      \"model_name\": \"LayoutModel\",\r\n",
      "      \"state\": {}\r\n",
      "     },\r\n",
      "     \"86270a2b0e194f0499bc02ed11a87717\": {\r\n",
      "      \"model_module\": \"@jupyter-widgets/base\",\r\n",
      "      \"model_module_version\": \"1.2.0\",\r\n",
      "      \"model_name\": \"LayoutModel\",\r\n",
      "      \"state\": {}\r\n",
      "     },\r\n",
      "     \"86bddc1cd2084b48ba7923990a12d4f1\": {\r\n",
      "      \"model_module\": \"@jupyter-widgets/base\",\r\n",
      "      \"model_module_version\": \"1.2.0\",\r\n",
      "      \"model_name\": \"LayoutModel\",\r\n",
      "      \"state\": {}\r\n",
      "     },\r\n",
      "     \"87c3ab05c70c4da289d63a1d88f769b3\": {\r\n",
      "      \"model_module\": \"@jupyter-widgets/base\",\r\n",
      "      \"model_module_version\": \"1.2.0\",\r\n",
      "      \"model_name\": \"LayoutModel\",\r\n",
      "      \"state\": {}\r\n",
      "     },\r\n",
      "     \"881b277fef824f10972a35513f9e9085\": {\r\n",
      "      \"model_module\": \"@jupyter-widgets/controls\",\r\n",
      "      \"model_module_version\": \"1.5.0\",\r\n",
      "      \"model_name\": \"DescriptionStyleModel\",\r\n",
      "      \"state\": {\r\n",
      "       \"description_width\": \"\"\r\n",
      "      }\r\n",
      "     },\r\n",
      "     \"8846b5d5e9394f33b48840d99b41c73a\": {\r\n",
      "      \"model_module\": \"@jupyter-widgets/controls\",\r\n",
      "      \"model_module_version\": \"1.5.0\",\r\n",
      "      \"model_name\": \"DropdownModel\",\r\n",
      "      \"state\": {\r\n",
      "       \"_options_labels\": [\r\n",
      "        \"Patch clamp\",\r\n",
      "        \"whole cell\",\r\n",
      "        \"micromanipulator\"\r\n",
      "       ],\r\n",
      "       \"description\": \"Clamp type:\",\r\n",
      "       \"index\": 0,\r\n",
      "       \"layout\": \"IPY_MODEL_0125b3df10864bc28c7aa72c16761893\",\r\n",
      "       \"style\": \"IPY_MODEL_f2e4889116064f038b3e0d1e337a1c64\"\r\n",
      "      }\r\n",
      "     },\r\n",
      "     \"88b0f04c1ac949288cdc05491ae40dad\": {\r\n",
      "      \"model_module\": \"@jupyter-widgets/controls\",\r\n",
      "      \"model_module_version\": \"1.5.0\",\r\n",
      "      \"model_name\": \"DropdownModel\",\r\n",
      "      \"state\": {\r\n",
      "       \"_options_labels\": [\r\n",
      "        \"MEA\",\r\n",
      "        \"Axion\",\r\n",
      "        \"SeaMoss\",\r\n",
      "        \"Roberts\"\r\n",
      "       ],\r\n",
      "       \"description\": \"Type:\",\r\n",
      "       \"index\": 0,\r\n",
      "       \"layout\": \"IPY_MODEL_d5bba82cf6c840429b7bd6a19ad4fc7d\",\r\n",
      "       \"style\": \"IPY_MODEL_0e6bdc1e096148c0a8796c28910dc194\"\r\n",
      "      }\r\n",
      "     },\r\n",
      "     \"897c97794c3a4f268da6cd1353a80ba5\": {\r\n",
      "      \"model_module\": \"@jupyter-widgets/controls\",\r\n",
      "      \"model_module_version\": \"1.5.0\",\r\n",
      "      \"model_name\": \"ButtonModel\",\r\n",
      "      \"state\": {\r\n",
      "       \"description\": \"Create UUID\",\r\n",
      "       \"layout\": \"IPY_MODEL_1d5c63b8430545ee99d70f1f89d06668\",\r\n",
      "       \"style\": \"IPY_MODEL_a28665d4d0dd4fc09c7db638124fc247\",\r\n",
      "       \"tooltip\": \"UUID format: YYYY-MM-DD- experiment type - experiment shorthand\"\r\n",
      "      }\r\n",
      "     },\r\n",
      "     \"89bd96684bc64b07a491f45491c400c2\": {\r\n",
      "      \"model_module\": \"@jupyter-widgets/controls\",\r\n",
      "      \"model_module_version\": \"1.5.0\",\r\n",
      "      \"model_name\": \"DatePickerModel\",\r\n",
      "      \"state\": {\r\n",
      "       \"description\": \"Exp. Date:\",\r\n",
      "       \"disabled\": false,\r\n",
      "       \"layout\": \"IPY_MODEL_706377c52ecc474f8d56b1d47ee57ce1\",\r\n",
      "       \"style\": \"IPY_MODEL_db8e4874ad3949179732b9f80c8ad561\"\r\n",
      "      }\r\n",
      "     },\r\n",
      "     \"8b5c38385a48402b9173cc6110424e23\": {\r\n",
      "      \"model_module\": \"@jupyter-widgets/controls\",\r\n",
      "      \"model_module_version\": \"1.5.0\",\r\n",
      "      \"model_name\": \"DropdownModel\",\r\n",
      "      \"state\": {\r\n",
      "       \"_options_labels\": [\r\n",
      "        \"Calcium\",\r\n",
      "        \"Ephys\",\r\n",
      "        \"Fluidics\",\r\n",
      "        \"Imagingi\",\r\n",
      "        \"MEA\",\r\n",
      "        \"Patch Clamp\"\r\n",
      "       ],\r\n",
      "       \"description\": \"Type:\",\r\n",
      "       \"index\": 0,\r\n",
      "       \"layout\": \"IPY_MODEL_f882455530e7494ea018bd0f0f44ccb2\",\r\n",
      "       \"style\": \"IPY_MODEL_de1eb49f9c6b49ccbf337341f4f42504\"\r\n",
      "      }\r\n",
      "     },\r\n",
      "     \"8c6763073fea4387a1e4296827ff4cee\": {\r\n",
      "      \"model_module\": \"@jupyter-widgets/base\",\r\n",
      "      \"model_module_version\": \"1.2.0\",\r\n",
      "      \"model_name\": \"LayoutModel\",\r\n",
      "      \"state\": {}\r\n",
      "     },\r\n",
      "     \"8c9d4ac2b3b6431da7cb5382ba625f3f\": {\r\n",
      "      \"model_module\": \"@jupyter-widgets/base\",\r\n",
      "      \"model_module_version\": \"1.2.0\",\r\n",
      "      \"model_name\": \"LayoutModel\",\r\n",
      "      \"state\": {\r\n",
      "       \"justify_content\": \"center\"\r\n",
      "      }\r\n",
      "     },\r\n",
      "     \"8d8bdfb2bb5b442d9ab81e48151efbc6\": {\r\n",
      "      \"model_module\": \"@jupyter-widgets/controls\",\r\n",
      "      \"model_module_version\": \"1.5.0\",\r\n",
      "      \"model_name\": \"DropdownModel\",\r\n",
      "      \"state\": {\r\n",
      "       \"_options_labels\": [\r\n",
      "        \"ca2+\",\r\n",
      "        \"eGFP\",\r\n",
      "        \"k+\"\r\n",
      "       ],\r\n",
      "       \"description\": \"Type:\",\r\n",
      "       \"index\": 0,\r\n",
      "       \"layout\": \"IPY_MODEL_390a5dcca5934d048e0015be2634e8f4\",\r\n",
      "       \"style\": \"IPY_MODEL_964dfe35cb664c619edc534cd70d0e37\"\r\n",
      "      }\r\n",
      "     },\r\n",
      "     \"8dec39bea045402699c980eed7a1732d\": {\r\n",
      "      \"model_module\": \"@jupyter-widgets/base\",\r\n",
      "      \"model_module_version\": \"1.2.0\",\r\n",
      "      \"model_name\": \"LayoutModel\",\r\n",
      "      \"state\": {}\r\n",
      "     },\r\n",
      "     \"8ee3b8a7c8234b92a28b4bfc33115cb4\": {\r\n",
      "      \"model_module\": \"@jupyter-widgets/controls\",\r\n",
      "      \"model_module_version\": \"1.5.0\",\r\n",
      "      \"model_name\": \"DropdownModel\",\r\n",
      "      \"state\": {\r\n",
      "       \"_options_labels\": [\r\n",
      "        \"ca2+\",\r\n",
      "        \"eGFP\",\r\n",
      "        \"k+\"\r\n",
      "       ],\r\n",
      "       \"description\": \"Type:\",\r\n",
      "       \"index\": 0,\r\n",
      "       \"layout\": \"IPY_MODEL_a0d7d6382087478fb6d0232564d64696\",\r\n",
      "       \"style\": \"IPY_MODEL_4bb89b514b97452ead8c976e05a8fcba\"\r\n",
      "      }\r\n",
      "     },\r\n",
      "     \"91d993962cfb44d6af104a65668dd953\": {\r\n",
      "      \"model_module\": \"@jupyter-widgets/base\",\r\n",
      "      \"model_module_version\": \"1.2.0\",\r\n",
      "      \"model_name\": \"LayoutModel\",\r\n",
      "      \"state\": {}\r\n",
      "     },\r\n",
      "     \"9297c763a6fe450d8bfcb183bebd3117\": {\r\n",
      "      \"model_module\": \"@jupyter-widgets/controls\",\r\n",
      "      \"model_module_version\": \"1.5.0\",\r\n",
      "      \"model_name\": \"TextModel\",\r\n",
      "      \"state\": {\r\n",
      "       \"description\": \"Name: \",\r\n",
      "       \"layout\": \"IPY_MODEL_2d85eb4472264d16b97334402df6a696\",\r\n",
      "       \"placeholder\": \"Enter experiment name\",\r\n",
      "       \"style\": \"IPY_MODEL_33d8b76c8dd744e5bc2a507347030f51\"\r\n",
      "      }\r\n",
      "     },\r\n",
      "     \"940d683daabd4f808c5a937ed4bcc0c5\": {\r\n",
      "      \"model_module\": \"@jupyter-widgets/controls\",\r\n",
      "      \"model_module_version\": \"1.5.0\",\r\n",
      "      \"model_name\": \"VBoxModel\",\r\n",
      "      \"state\": {\r\n",
      "       \"children\": [\r\n",
      "        \"IPY_MODEL_56020677244f4821b7383c1e9c06af55\",\r\n",
      "        \"IPY_MODEL_9be8e8708b1f4f2faa9ec3ff94382952\",\r\n",
      "        \"IPY_MODEL_e49f4563050b42fe9c9a42a5d5fbaa43\"\r\n",
      "       ],\r\n",
      "       \"layout\": \"IPY_MODEL_22f9c48a6b6749eb84a14af5c65cece4\"\r\n",
      "      }\r\n",
      "     },\r\n",
      "     \"943d259137074e65b0c7c4ad794bc9ba\": {\r\n",
      "      \"model_module\": \"@jupyter-widgets/controls\",\r\n",
      "      \"model_module_version\": \"1.5.0\",\r\n",
      "      \"model_name\": \"HBoxModel\",\r\n",
      "      \"state\": {\r\n",
      "       \"children\": [\r\n",
      "        \"IPY_MODEL_3a3c62fdaf5a4f8c965765cbb1416124\",\r\n",
      "        \"IPY_MODEL_398c7439b8b54fc49cb10d438b215beb\",\r\n",
      "        \"IPY_MODEL_eb22b8a2a0f1470896d43f34aac87aaa\"\r\n",
      "       ],\r\n",
      "       \"layout\": \"IPY_MODEL_c7dde2d0325c422f9e4deac6c0aee39b\"\r\n",
      "      }\r\n",
      "     },\r\n",
      "     \"9480b61827784bb9ac6a082969d99cb1\": {\r\n",
      "      \"model_module\": \"@jupyter-widgets/controls\",\r\n",
      "      \"model_module_version\": \"1.5.0\",\r\n",
      "      \"model_name\": \"TextModel\",\r\n",
      "      \"state\": {\r\n",
      "       \"description\": \"Name: \",\r\n",
      "       \"layout\": \"IPY_MODEL_197c87f71d66475488746a501aec869f\",\r\n",
      "       \"placeholder\": \"Enter experiment name\",\r\n",
      "       \"style\": \"IPY_MODEL_881b277fef824f10972a35513f9e9085\"\r\n",
      "      }\r\n",
      "     },\r\n",
      "     \"94bd7b1703b749fab592a29df58e5495\": {\r\n",
      "      \"model_module\": \"@jupyter-widgets/base\",\r\n",
      "      \"model_module_version\": \"1.2.0\",\r\n",
      "      \"model_name\": \"LayoutModel\",\r\n",
      "      \"state\": {}\r\n",
      "     },\r\n",
      "     \"95e9150e617246b985bebe918b0b8c04\": {\r\n",
      "      \"model_module\": \"@jupyter-widgets/controls\",\r\n",
      "      \"model_module_version\": \"1.5.0\",\r\n",
      "      \"model_name\": \"DescriptionStyleModel\",\r\n",
      "      \"state\": {\r\n",
      "       \"description_width\": \"\"\r\n",
      "      }\r\n",
      "     },\r\n",
      "     \"964dfe35cb664c619edc534cd70d0e37\": {\r\n",
      "      \"model_module\": \"@jupyter-widgets/controls\",\r\n",
      "      \"model_module_version\": \"1.5.0\",\r\n",
      "      \"model_name\": \"DescriptionStyleModel\",\r\n",
      "      \"state\": {\r\n",
      "       \"description_width\": \"\"\r\n",
      "      }\r\n",
      "     },\r\n",
      "     \"96787025502841c0bdfa7d239880b2dc\": {\r\n",
      "      \"model_module\": \"@jupyter-widgets/controls\",\r\n",
      "      \"model_module_version\": \"1.5.0\",\r\n",
      "      \"model_name\": \"DropdownModel\",\r\n",
      "      \"state\": {\r\n",
      "       \"_options_labels\": [\r\n",
      "        \"ca2+\",\r\n",
      "        \"eGFP\",\r\n",
      "        \"k+\"\r\n",
      "       ],\r\n",
      "       \"description\": \"Type:\",\r\n",
      "       \"index\": 0,\r\n",
      "       \"layout\": \"IPY_MODEL_abd963b928784923aecc22d3196e4ee7\",\r\n",
      "       \"style\": \"IPY_MODEL_64b358cc28254abc9ec204d7e1db5630\"\r\n",
      "      }\r\n",
      "     },\r\n",
      "     \"988e3de9947a4c88aef96c9743dc6500\": {\r\n",
      "      \"model_module\": \"@jupyter-widgets/controls\",\r\n",
      "      \"model_module_version\": \"1.5.0\",\r\n",
      "      \"model_name\": \"ButtonStyleModel\",\r\n",
      "      \"state\": {}\r\n",
      "     },\r\n",
      "     \"9ae648a5d5b24c5b9d64d83cca8dc267\": {\r\n",
      "      \"model_module\": \"@jupyter-widgets/controls\",\r\n",
      "      \"model_module_version\": \"1.5.0\",\r\n",
      "      \"model_name\": \"DescriptionStyleModel\",\r\n",
      "      \"state\": {\r\n",
      "       \"description_width\": \"\"\r\n",
      "      }\r\n",
      "     },\r\n",
      "     \"9b854d209ddb42989350a26616fc51e7\": {\r\n",
      "      \"model_module\": \"@jupyter-widgets/controls\",\r\n",
      "      \"model_module_version\": \"1.5.0\",\r\n",
      "      \"model_name\": \"DropdownModel\",\r\n",
      "      \"state\": {\r\n",
      "       \"_options_labels\": [\r\n",
      "        \"Calcium\",\r\n",
      "        \"Ephys\",\r\n",
      "        \"Fluidics\",\r\n",
      "        \"Imagingi\",\r\n",
      "        \"MEA\",\r\n",
      "        \"Patch Clamp\"\r\n",
      "       ],\r\n",
      "       \"description\": \"Type:\",\r\n",
      "       \"index\": 0,\r\n",
      "       \"layout\": \"IPY_MODEL_724e7d58974146ba9a1adeee949eaac5\",\r\n",
      "       \"style\": \"IPY_MODEL_53603e971db04c4684a0fab77edf3641\"\r\n",
      "      }\r\n",
      "     },\r\n",
      "     \"9ba38f40546e4fefb5645ef2843544f3\": {\r\n",
      "      \"model_module\": \"@jupyter-widgets/base\",\r\n",
      "      \"model_module_version\": \"1.2.0\",\r\n",
      "      \"model_name\": \"LayoutModel\",\r\n",
      "      \"state\": {}\r\n",
      "     },\r\n",
      "     \"9ba46fa37928422286e5b729df44fbd9\": {\r\n",
      "      \"model_module\": \"@jupyter-widgets/controls\",\r\n",
      "      \"model_module_version\": \"1.5.0\",\r\n",
      "      \"model_name\": \"DescriptionStyleModel\",\r\n",
      "      \"state\": {\r\n",
      "       \"description_width\": \"\"\r\n",
      "      }\r\n",
      "     },\r\n",
      "     \"9bdadad229a0475da42f1ff9b149f568\": {\r\n",
      "      \"model_module\": \"@jupyter-widgets/base\",\r\n",
      "      \"model_module_version\": \"1.2.0\",\r\n",
      "      \"model_name\": \"LayoutModel\",\r\n",
      "      \"state\": {\r\n",
      "       \"justify_content\": \"center\"\r\n",
      "      }\r\n",
      "     },\r\n",
      "     \"9be8e8708b1f4f2faa9ec3ff94382952\": {\r\n",
      "      \"model_module\": \"@jupyter-widgets/controls\",\r\n",
      "      \"model_module_version\": \"1.5.0\",\r\n",
      "      \"model_name\": \"HBoxModel\",\r\n",
      "      \"state\": {\r\n",
      "       \"children\": [\r\n",
      "        \"IPY_MODEL_3a3c62fdaf5a4f8c965765cbb1416124\",\r\n",
      "        \"IPY_MODEL_398c7439b8b54fc49cb10d438b215beb\",\r\n",
      "        \"IPY_MODEL_eb22b8a2a0f1470896d43f34aac87aaa\"\r\n",
      "       ],\r\n",
      "       \"layout\": \"IPY_MODEL_e6b9ff00ddd9462f953d15206a6a56a8\"\r\n",
      "      }\r\n",
      "     },\r\n",
      "     \"9ca8bea922c6448d94cf4dd351a14d8e\": {\r\n",
      "      \"model_module\": \"@jupyter-widgets/controls\",\r\n",
      "      \"model_module_version\": \"1.5.0\",\r\n",
      "      \"model_name\": \"TextModel\",\r\n",
      "      \"state\": {\r\n",
      "       \"description\": \"Name: \",\r\n",
      "       \"layout\": \"IPY_MODEL_73031fb0ad134ef6a1bbdcc5c79a7197\",\r\n",
      "       \"placeholder\": \"Enter experiment name\",\r\n",
      "       \"style\": \"IPY_MODEL_f662b06e4d744450b7b2aa9cf704617b\"\r\n",
      "      }\r\n",
      "     },\r\n",
      "     \"9de8daed66a94ccb998cb3e07c62b24b\": {\r\n",
      "      \"model_module\": \"@jupyter-widgets/base\",\r\n",
      "      \"model_module_version\": \"1.2.0\",\r\n",
      "      \"model_name\": \"LayoutModel\",\r\n",
      "      \"state\": {\r\n",
      "       \"justify_content\": \"center\"\r\n",
      "      }\r\n",
      "     },\r\n",
      "     \"9e8063854c1c4efd927d1b5ea7242ac6\": {\r\n",
      "      \"model_module\": \"@jupyter-widgets/controls\",\r\n",
      "      \"model_module_version\": \"1.5.0\",\r\n",
      "      \"model_name\": \"ButtonModel\",\r\n",
      "      \"state\": {\r\n",
      "       \"description\": \"Create UUID\",\r\n",
      "       \"layout\": \"IPY_MODEL_c726ede939e74448b915f28b4bfe4f68\",\r\n",
      "       \"style\": \"IPY_MODEL_ddfd89c48fe741fcb4cd0428afc60826\"\r\n",
      "      }\r\n",
      "     },\r\n",
      "     \"9fc4051ccc144786a3a1b2a82407e011\": {\r\n",
      "      \"model_module\": \"@jupyter-widgets/controls\",\r\n",
      "      \"model_module_version\": \"1.5.0\",\r\n",
      "      \"model_name\": \"DatePickerModel\",\r\n",
      "      \"state\": {\r\n",
      "       \"description\": \"Exp. Date:\",\r\n",
      "       \"disabled\": false,\r\n",
      "       \"layout\": \"IPY_MODEL_cda0962863cd49a0936f381fd4e026bd\",\r\n",
      "       \"style\": \"IPY_MODEL_1efd02f686f9434bbbe7b4a53ffd5b04\",\r\n",
      "       \"value\": {\r\n",
      "        \"date\": 12,\r\n",
      "        \"month\": 4,\r\n",
      "        \"year\": 2021\r\n",
      "       }\r\n",
      "      }\r\n",
      "     },\r\n",
      "     \"9ffbc461bd8247d38938ea2889154366\": {\r\n",
      "      \"model_module\": \"@jupyter-widgets/controls\",\r\n",
      "      \"model_module_version\": \"1.5.0\",\r\n",
      "      \"model_name\": \"DescriptionStyleModel\",\r\n",
      "      \"state\": {\r\n",
      "       \"description_width\": \"\"\r\n",
      "      }\r\n",
      "     },\r\n",
      "     \"a0345bdc2d064838a09cc1ce738bd36c\": {\r\n",
      "      \"model_module\": \"@jupyter-widgets/controls\",\r\n",
      "      \"model_module_version\": \"1.5.0\",\r\n",
      "      \"model_name\": \"DatePickerModel\",\r\n",
      "      \"state\": {\r\n",
      "       \"description\": \"Exp. Date:\",\r\n",
      "       \"disabled\": false,\r\n",
      "       \"layout\": \"IPY_MODEL_f2b98c893f7f4dd1a3f10450b2621933\",\r\n",
      "       \"style\": \"IPY_MODEL_c3597ee7cf344c049d0ceac64dc7fddf\",\r\n",
      "       \"value\": {\r\n",
      "        \"date\": 21,\r\n",
      "        \"month\": 3,\r\n",
      "        \"year\": 2021\r\n",
      "       }\r\n",
      "      }\r\n",
      "     },\r\n",
      "     \"a0cadf2aa2674dd0abf2b01c8d09303b\": {\r\n",
      "      \"model_module\": \"@jupyter-widgets/controls\",\r\n",
      "      \"model_module_version\": \"1.5.0\",\r\n",
      "      \"model_name\": \"ButtonStyleModel\",\r\n",
      "      \"state\": {}\r\n",
      "     },\r\n",
      "     \"a0d7d6382087478fb6d0232564d64696\": {\r\n",
      "      \"model_module\": \"@jupyter-widgets/base\",\r\n",
      "      \"model_module_version\": \"1.2.0\",\r\n",
      "      \"model_name\": \"LayoutModel\",\r\n",
      "      \"state\": {}\r\n",
      "     },\r\n",
      "     \"a1c7f8961fd149b29b545bb77f062963\": {\r\n",
      "      \"model_module\": \"@jupyter-widgets/base\",\r\n",
      "      \"model_module_version\": \"1.2.0\",\r\n",
      "      \"model_name\": \"LayoutModel\",\r\n",
      "      \"state\": {}\r\n",
      "     },\r\n",
      "     \"a28665d4d0dd4fc09c7db638124fc247\": {\r\n",
      "      \"model_module\": \"@jupyter-widgets/controls\",\r\n",
      "      \"model_module_version\": \"1.5.0\",\r\n",
      "      \"model_name\": \"ButtonStyleModel\",\r\n",
      "      \"state\": {}\r\n",
      "     },\r\n",
      "     \"a336e1f7853541fc8fe1c343d8abf0fe\": {\r\n",
      "      \"model_module\": \"@jupyter-widgets/controls\",\r\n",
      "      \"model_module_version\": \"1.5.0\",\r\n",
      "      \"model_name\": \"TextModel\",\r\n",
      "      \"state\": {\r\n",
      "       \"description\": \"Name: \",\r\n",
      "       \"layout\": \"IPY_MODEL_068d462235b4408d990c21b2a54218c6\",\r\n",
      "       \"placeholder\": \"Enter experiment name\",\r\n",
      "       \"style\": \"IPY_MODEL_5092cf8ee17440b2af6c7526ed9dc77d\",\r\n",
      "       \"value\": \"testit\"\r\n",
      "      }\r\n",
      "     },\r\n",
      "     \"a3c7ce10152d45aab90a71e7608db4b8\": {\r\n",
      "      \"model_module\": \"@jupyter-widgets/base\",\r\n",
      "      \"model_module_version\": \"1.2.0\",\r\n",
      "      \"model_name\": \"LayoutModel\",\r\n",
      "      \"state\": {}\r\n",
      "     },\r\n",
      "     \"a3d75f8cbb974c66b3265ae0c7c2e349\": {\r\n",
      "      \"model_module\": \"@jupyter-widgets/base\",\r\n",
      "      \"model_module_version\": \"1.2.0\",\r\n",
      "      \"model_name\": \"LayoutModel\",\r\n",
      "      \"state\": {}\r\n",
      "     },\r\n",
      "     \"a3e4d799f6374752b531869b1b5773be\": {\r\n",
      "      \"model_module\": \"@jupyter-widgets/base\",\r\n",
      "      \"model_module_version\": \"1.2.0\",\r\n",
      "      \"model_name\": \"LayoutModel\",\r\n",
      "      \"state\": {}\r\n",
      "     },\r\n",
      "     \"a46599ba838b49949969279a5ea19601\": {\r\n",
      "      \"model_module\": \"@jupyter-widgets/base\",\r\n",
      "      \"model_module_version\": \"1.2.0\",\r\n",
      "      \"model_name\": \"LayoutModel\",\r\n",
      "      \"state\": {}\r\n",
      "     },\r\n",
      "     \"a596ce1d7352441a86ae80d87f4b2547\": {\r\n",
      "      \"model_module\": \"@jupyter-widgets/controls\",\r\n",
      "      \"model_module_version\": \"1.5.0\",\r\n",
      "      \"model_name\": \"DescriptionStyleModel\",\r\n",
      "      \"state\": {\r\n",
      "       \"description_width\": \"\"\r\n",
      "      }\r\n",
      "     },\r\n",
      "     \"a5ea1faf45724b2e8cdaffce0c3b63be\": {\r\n",
      "      \"model_module\": \"@jupyter-widgets/controls\",\r\n",
      "      \"model_module_version\": \"1.5.0\",\r\n",
      "      \"model_name\": \"TextModel\",\r\n",
      "      \"state\": {\r\n",
      "       \"description\": \"Name: \",\r\n",
      "       \"layout\": \"IPY_MODEL_80a1303344f246e09855792e2514eb51\",\r\n",
      "       \"placeholder\": \"Enter experiment name\",\r\n",
      "       \"style\": \"IPY_MODEL_fe189dbd5f984848936c3a3610665505\"\r\n",
      "      }\r\n",
      "     },\r\n",
      "     \"a6a7d38e81474c969056c40e4d05b37b\": {\r\n",
      "      \"model_module\": \"@jupyter-widgets/controls\",\r\n",
      "      \"model_module_version\": \"1.5.0\",\r\n",
      "      \"model_name\": \"ButtonModel\",\r\n",
      "      \"state\": {\r\n",
      "       \"description\": \"Create UUID\",\r\n",
      "       \"layout\": \"IPY_MODEL_2c4afc59477a4069b7c8d2c7f5514c5e\",\r\n",
      "       \"style\": \"IPY_MODEL_02e5234163434ce28e77103628150e51\",\r\n",
      "       \"tooltip\": \"UUID format: YYYY-MM-DD- experiment type - experiment shorthand\"\r\n",
      "      }\r\n",
      "     },\r\n",
      "     \"a6c52a6580584b928198f85c3e6fe1c6\": {\r\n",
      "      \"model_module\": \"@jupyter-widgets/controls\",\r\n",
      "      \"model_module_version\": \"1.5.0\",\r\n",
      "      \"model_name\": \"DescriptionStyleModel\",\r\n",
      "      \"state\": {\r\n",
      "       \"description_width\": \"\"\r\n",
      "      }\r\n",
      "     },\r\n",
      "     \"a6ed29c49a3b4a76a34882be8a682a9f\": {\r\n",
      "      \"model_module\": \"@jupyter-widgets/base\",\r\n",
      "      \"model_module_version\": \"1.2.0\",\r\n",
      "      \"model_name\": \"LayoutModel\",\r\n",
      "      \"state\": {}\r\n",
      "     },\r\n",
      "     \"a910f95a2c6847be9f20f5cb0fa04526\": {\r\n",
      "      \"model_module\": \"@jupyter-widgets/controls\",\r\n",
      "      \"model_module_version\": \"1.5.0\",\r\n",
      "      \"model_name\": \"DescriptionStyleModel\",\r\n",
      "      \"state\": {\r\n",
      "       \"description_width\": \"\"\r\n",
      "      }\r\n",
      "     },\r\n",
      "     \"a94ac13e195b407b9f46becd6ac5de88\": {\r\n",
      "      \"model_module\": \"@jupyter-widgets/controls\",\r\n",
      "      \"model_module_version\": \"1.5.0\",\r\n",
      "      \"model_name\": \"DropdownModel\",\r\n",
      "      \"state\": {\r\n",
      "       \"_options_labels\": [\r\n",
      "        \"Calcium\",\r\n",
      "        \"Ephys\",\r\n",
      "        \"Fluidics\",\r\n",
      "        \"Imagingi\",\r\n",
      "        \"MEA\",\r\n",
      "        \"Patch Clamp\"\r\n",
      "       ],\r\n",
      "       \"description\": \"Type:\",\r\n",
      "       \"index\": 4,\r\n",
      "       \"layout\": \"IPY_MODEL_10e1745c43da4e1a93e9db95ece112ef\",\r\n",
      "       \"style\": \"IPY_MODEL_1b1abf1181584f7c82213b6a7124d742\"\r\n",
      "      }\r\n",
      "     },\r\n",
      "     \"a9e77b3cb49b4a7f815b5dbe47e97c15\": {\r\n",
      "      \"model_module\": \"@jupyter-widgets/base\",\r\n",
      "      \"model_module_version\": \"1.2.0\",\r\n",
      "      \"model_name\": \"LayoutModel\",\r\n",
      "      \"state\": {}\r\n",
      "     },\r\n",
      "     \"aa3e45c048dd48ab9523d710bd68bd99\": {\r\n",
      "      \"model_module\": \"@jupyter-widgets/controls\",\r\n",
      "      \"model_module_version\": \"1.5.0\",\r\n",
      "      \"model_name\": \"FileUploadModel\",\r\n",
      "      \"state\": {\r\n",
      "       \"description_tooltip\": null,\r\n",
      "       \"layout\": \"IPY_MODEL_5c822c2201fa41d5b5ed2ed0e2a2340b\",\r\n",
      "       \"multiple\": true,\r\n",
      "       \"style\": \"IPY_MODEL_b40096ce194e4e91ae3f54cb4d0648ac\"\r\n",
      "      }\r\n",
      "     },\r\n",
      "     \"abd963b928784923aecc22d3196e4ee7\": {\r\n",
      "      \"model_module\": \"@jupyter-widgets/base\",\r\n",
      "      \"model_module_version\": \"1.2.0\",\r\n",
      "      \"model_name\": \"LayoutModel\",\r\n",
      "      \"state\": {}\r\n",
      "     },\r\n",
      "     \"ae3a667efdfa4ffbaaac93574fb0e3b2\": {\r\n",
      "      \"model_module\": \"@jupyter-widgets/base\",\r\n",
      "      \"model_module_version\": \"1.2.0\",\r\n",
      "      \"model_name\": \"LayoutModel\",\r\n",
      "      \"state\": {}\r\n",
      "     },\r\n",
      "     \"aeaebe1f4013447ba42aefdd2ea01985\": {\r\n",
      "      \"model_module\": \"@jupyter-widgets/controls\",\r\n",
      "      \"model_module_version\": \"1.5.0\",\r\n",
      "      \"model_name\": \"DropdownModel\",\r\n",
      "      \"state\": {\r\n",
      "       \"_options_labels\": [\r\n",
      "        \"Calcium (c)\",\r\n",
      "        \"Ephys (e)\",\r\n",
      "        \"Fluidics (f)\",\r\n",
      "        \"Imaging (i)\",\r\n",
      "        \"MEA (m)\",\r\n",
      "        \"Patch Clamp (p)\"\r\n",
      "       ],\r\n",
      "       \"description\": \"Type:\",\r\n",
      "       \"index\": 0,\r\n",
      "       \"layout\": \"IPY_MODEL_05ba809ffef04b4389574c21e0e14633\",\r\n",
      "       \"style\": \"IPY_MODEL_74696ba6f748442c9eda9be79ce0840e\"\r\n",
      "      }\r\n",
      "     },\r\n",
      "     \"b029c684c4ba4a85b8e0dc043292e24f\": {\r\n",
      "      \"model_module\": \"@jupyter-widgets/controls\",\r\n",
      "      \"model_module_version\": \"1.5.0\",\r\n",
      "      \"model_name\": \"DescriptionStyleModel\",\r\n",
      "      \"state\": {\r\n",
      "       \"description_width\": \"\"\r\n",
      "      }\r\n",
      "     },\r\n",
      "     \"b0a41408c68040209ad045f20b901ca6\": {\r\n",
      "      \"model_module\": \"@jupyter-widgets/base\",\r\n",
      "      \"model_module_version\": \"1.2.0\",\r\n",
      "      \"model_name\": \"LayoutModel\",\r\n",
      "      \"state\": {}\r\n",
      "     },\r\n",
      "     \"b0d436857ba54d7f8d2dcf18935c884b\": {\r\n",
      "      \"model_module\": \"@jupyter-widgets/controls\",\r\n",
      "      \"model_module_version\": \"1.5.0\",\r\n",
      "      \"model_name\": \"DescriptionStyleModel\",\r\n",
      "      \"state\": {\r\n",
      "       \"description_width\": \"\"\r\n",
      "      }\r\n",
      "     },\r\n",
      "     \"b10d2ff2d6cb41fb9447ccf0f7134bc5\": {\r\n",
      "      \"model_module\": \"@jupyter-widgets/controls\",\r\n",
      "      \"model_module_version\": \"1.5.0\",\r\n",
      "      \"model_name\": \"DropdownModel\",\r\n",
      "      \"state\": {\r\n",
      "       \"_options_labels\": [\r\n",
      "        \"Calcium\",\r\n",
      "        \"Ephys\",\r\n",
      "        \"Fluidics\",\r\n",
      "        \"Imagingi\",\r\n",
      "        \"MEA\",\r\n",
      "        \"Patch Clamp\"\r\n",
      "       ],\r\n",
      "       \"description\": \"Type:\",\r\n",
      "       \"index\": 0,\r\n",
      "       \"layout\": \"IPY_MODEL_0f66fddc2eb64c99ac1b1db62699144e\",\r\n",
      "       \"style\": \"IPY_MODEL_10af70f7cfd148368037a5ca0737565f\"\r\n",
      "      }\r\n",
      "     },\r\n",
      "     \"b11f2309e5c946bcb2ecd9dfc9077b02\": {\r\n",
      "      \"model_module\": \"@jupyter-widgets/controls\",\r\n",
      "      \"model_module_version\": \"1.5.0\",\r\n",
      "      \"model_name\": \"TextModel\",\r\n",
      "      \"state\": {\r\n",
      "       \"description\": \"Name: \",\r\n",
      "       \"layout\": \"IPY_MODEL_51a294ede3eb45c983db09d5419202dd\",\r\n",
      "       \"placeholder\": \"Enter experiment name\",\r\n",
      "       \"style\": \"IPY_MODEL_17d011a2e26c440f923ab6310b3e516a\"\r\n",
      "      }\r\n",
      "     },\r\n",
      "     \"b17daa51547e477f8f2bb018a0f86429\": {\r\n",
      "      \"model_module\": \"@jupyter-widgets/base\",\r\n",
      "      \"model_module_version\": \"1.2.0\",\r\n",
      "      \"model_name\": \"LayoutModel\",\r\n",
      "      \"state\": {}\r\n",
      "     },\r\n",
      "     \"b1809143d87c417085331ca28256d877\": {\r\n",
      "      \"model_module\": \"@jupyter-widgets/base\",\r\n",
      "      \"model_module_version\": \"1.2.0\",\r\n",
      "      \"model_name\": \"LayoutModel\",\r\n",
      "      \"state\": {}\r\n",
      "     },\r\n",
      "     \"b2513c0d9e0a4ca5b27dfe0f2257cb18\": {\r\n",
      "      \"model_module\": \"@jupyter-widgets/base\",\r\n",
      "      \"model_module_version\": \"1.2.0\",\r\n",
      "      \"model_name\": \"LayoutModel\",\r\n",
      "      \"state\": {}\r\n",
      "     },\r\n",
      "     \"b2e349da1943467c94f8d28022aba0b1\": {\r\n",
      "      \"model_module\": \"@jupyter-widgets/base\",\r\n",
      "      \"model_module_version\": \"1.2.0\",\r\n",
      "      \"model_name\": \"LayoutModel\",\r\n",
      "      \"state\": {}\r\n",
      "     },\r\n",
      "     \"b40096ce194e4e91ae3f54cb4d0648ac\": {\r\n",
      "      \"model_module\": \"@jupyter-widgets/controls\",\r\n",
      "      \"model_module_version\": \"1.5.0\",\r\n",
      "      \"model_name\": \"ButtonStyleModel\",\r\n",
      "      \"state\": {}\r\n",
      "     },\r\n",
      "     \"b42b201c847a43e3aed0b290d5692f67\": {\r\n",
      "      \"model_module\": \"@jupyter-widgets/controls\",\r\n",
      "      \"model_module_version\": \"1.5.0\",\r\n",
      "      \"model_name\": \"DescriptionStyleModel\",\r\n",
      "      \"state\": {\r\n",
      "       \"description_width\": \"\"\r\n",
      "      }\r\n",
      "     },\r\n",
      "     \"b54e1527062c40e2a9df0e0ad89f4ecc\": {\r\n",
      "      \"model_module\": \"@jupyter-widgets/controls\",\r\n",
      "      \"model_module_version\": \"1.5.0\",\r\n",
      "      \"model_name\": \"DescriptionStyleModel\",\r\n",
      "      \"state\": {\r\n",
      "       \"description_width\": \"\"\r\n",
      "      }\r\n",
      "     },\r\n",
      "     \"b6425b541a974d80a563cbed2cda2f29\": {\r\n",
      "      \"model_module\": \"@jupyter-widgets/controls\",\r\n",
      "      \"model_module_version\": \"1.5.0\",\r\n",
      "      \"model_name\": \"VBoxModel\",\r\n",
      "      \"state\": {\r\n",
      "       \"children\": [\r\n",
      "        \"IPY_MODEL_01b13c18f8cc44ccae570619bca9c4d9\",\r\n",
      "        \"IPY_MODEL_4d2bade21d5f4fb3909e6c6b53c47099\",\r\n",
      "        \"IPY_MODEL_c6720fbf58d64f5f89e3f09aecabf082\"\r\n",
      "       ],\r\n",
      "       \"layout\": \"IPY_MODEL_b0a41408c68040209ad045f20b901ca6\"\r\n",
      "      }\r\n",
      "     },\r\n",
      "     \"b6a203c7a9d44bce84e5d7d81af8f055\": {\r\n",
      "      \"model_module\": \"@jupyter-widgets/controls\",\r\n",
      "      \"model_module_version\": \"1.5.0\",\r\n",
      "      \"model_name\": \"DescriptionStyleModel\",\r\n",
      "      \"state\": {\r\n",
      "       \"description_width\": \"\"\r\n",
      "      }\r\n",
      "     },\r\n",
      "     \"b7a097002020498392dd7645f7feb512\": {\r\n",
      "      \"model_module\": \"@jupyter-widgets/base\",\r\n",
      "      \"model_module_version\": \"1.2.0\",\r\n",
      "      \"model_name\": \"LayoutModel\",\r\n",
      "      \"state\": {}\r\n",
      "     },\r\n",
      "     \"b8321dccafcd4f34a9dce67f86c6e9b1\": {\r\n",
      "      \"model_module\": \"@jupyter-widgets/controls\",\r\n",
      "      \"model_module_version\": \"1.5.0\",\r\n",
      "      \"model_name\": \"FileUploadModel\",\r\n",
      "      \"state\": {\r\n",
      "       \"description_tooltip\": null,\r\n",
      "       \"layout\": \"IPY_MODEL_a46599ba838b49949969279a5ea19601\",\r\n",
      "       \"multiple\": true,\r\n",
      "       \"style\": \"IPY_MODEL_f2743c5729084a04bc7d41e81e492d34\"\r\n",
      "      }\r\n",
      "     },\r\n",
      "     \"b868d8d91f1a4d84a5944ed3b105e4cb\": {\r\n",
      "      \"model_module\": \"@jupyter-widgets/controls\",\r\n",
      "      \"model_module_version\": \"1.5.0\",\r\n",
      "      \"model_name\": \"DatePickerModel\",\r\n",
      "      \"state\": {\r\n",
      "       \"description\": \"Exp. Date:\",\r\n",
      "       \"disabled\": false,\r\n",
      "       \"layout\": \"IPY_MODEL_b7a097002020498392dd7645f7feb512\",\r\n",
      "       \"style\": \"IPY_MODEL_4da28ecfd4f647df88c07e695f9b2f7b\"\r\n",
      "      }\r\n",
      "     },\r\n",
      "     \"b8c45263e25c418284f0a99de21fa63f\": {\r\n",
      "      \"model_module\": \"@jupyter-widgets/controls\",\r\n",
      "      \"model_module_version\": \"1.5.0\",\r\n",
      "      \"model_name\": \"DescriptionStyleModel\",\r\n",
      "      \"state\": {\r\n",
      "       \"description_width\": \"\"\r\n",
      "      }\r\n",
      "     },\r\n",
      "     \"b8d1e36bc8e245059e50b84ddf64ac25\": {\r\n",
      "      \"model_module\": \"@jupyter-widgets/controls\",\r\n",
      "      \"model_module_version\": \"1.5.0\",\r\n",
      "      \"model_name\": \"DropdownModel\",\r\n",
      "      \"state\": {\r\n",
      "       \"_options_labels\": [\r\n",
      "        \"MEA\",\r\n",
      "        \"Axonion\",\r\n",
      "        \"SeaMoss\",\r\n",
      "        \"Roberts\"\r\n",
      "       ],\r\n",
      "       \"description\": \"Type:\",\r\n",
      "       \"index\": 0,\r\n",
      "       \"layout\": \"IPY_MODEL_ed6b944e72134af4b8e10d89a13185f7\",\r\n",
      "       \"style\": \"IPY_MODEL_7b4271e8c9a34aa19a632006fc4b8808\"\r\n",
      "      }\r\n",
      "     },\r\n",
      "     \"b9bd866689a1479982c787bdc29bad4d\": {\r\n",
      "      \"model_module\": \"@jupyter-widgets/controls\",\r\n",
      "      \"model_module_version\": \"1.5.0\",\r\n",
      "      \"model_name\": \"TextModel\",\r\n",
      "      \"state\": {\r\n",
      "       \"description\": \"Name: \",\r\n",
      "       \"layout\": \"IPY_MODEL_3637729adbd4416088cd5cb9971982d2\",\r\n",
      "       \"placeholder\": \"Enter experiment name\",\r\n",
      "       \"style\": \"IPY_MODEL_b54e1527062c40e2a9df0e0ad89f4ecc\"\r\n",
      "      }\r\n",
      "     },\r\n",
      "     \"bafbcbe43f214859a10dcab4c5933a22\": {\r\n",
      "      \"model_module\": \"@jupyter-widgets/base\",\r\n",
      "      \"model_module_version\": \"1.2.0\",\r\n",
      "      \"model_name\": \"LayoutModel\",\r\n",
      "      \"state\": {}\r\n",
      "     },\r\n",
      "     \"bb2ec0a7ff07486bb334a453817084a1\": {\r\n",
      "      \"model_module\": \"@jupyter-widgets/controls\",\r\n",
      "      \"model_module_version\": \"1.5.0\",\r\n",
      "      \"model_name\": \"TextModel\",\r\n",
      "      \"state\": {\r\n",
      "       \"description\": \"Name: \",\r\n",
      "       \"layout\": \"IPY_MODEL_1508c1b406434a919ee334fe9e8a168d\",\r\n",
      "       \"placeholder\": \"Enter experiment name\",\r\n",
      "       \"style\": \"IPY_MODEL_563be7d3d2664a84a1281a1a7adaa48d\",\r\n",
      "       \"value\": \"experiment\"\r\n",
      "      }\r\n",
      "     },\r\n",
      "     \"bbd0bee01479422b9b533faf9ec3ab2a\": {\r\n",
      "      \"model_module\": \"@jupyter-widgets/controls\",\r\n",
      "      \"model_module_version\": \"1.5.0\",\r\n",
      "      \"model_name\": \"DescriptionStyleModel\",\r\n",
      "      \"state\": {\r\n",
      "       \"description_width\": \"\"\r\n",
      "      }\r\n",
      "     },\r\n",
      "     \"bc5cce90cea942e1be07a75cb1a951f1\": {\r\n",
      "      \"model_module\": \"@jupyter-widgets/base\",\r\n",
      "      \"model_module_version\": \"1.2.0\",\r\n",
      "      \"model_name\": \"LayoutModel\",\r\n",
      "      \"state\": {}\r\n",
      "     },\r\n",
      "     \"bcb91037ab9142e9990e1642bac81725\": {\r\n",
      "      \"model_module\": \"@jupyter-widgets/base\",\r\n",
      "      \"model_module_version\": \"1.2.0\",\r\n",
      "      \"model_name\": \"LayoutModel\",\r\n",
      "      \"state\": {}\r\n",
      "     },\r\n",
      "     \"bcceea9a826e4291ad86d5d7dde7ff83\": {\r\n",
      "      \"model_module\": \"@jupyter-widgets/controls\",\r\n",
      "      \"model_module_version\": \"1.5.0\",\r\n",
      "      \"model_name\": \"DescriptionStyleModel\",\r\n",
      "      \"state\": {\r\n",
      "       \"description_width\": \"\"\r\n",
      "      }\r\n",
      "     },\r\n",
      "     \"bd7f0b0570044fbdaa95ddbdf904edb2\": {\r\n",
      "      \"model_module\": \"@jupyter-widgets/base\",\r\n",
      "      \"model_module_version\": \"1.2.0\",\r\n",
      "      \"model_name\": \"LayoutModel\",\r\n",
      "      \"state\": {}\r\n",
      "     },\r\n",
      "     \"be0e7e3459c44fd19acb81d43dbb87fc\": {\r\n",
      "      \"model_module\": \"@jupyter-widgets/controls\",\r\n",
      "      \"model_module_version\": \"1.5.0\",\r\n",
      "      \"model_name\": \"DropdownModel\",\r\n",
      "      \"state\": {\r\n",
      "       \"_options_labels\": [\r\n",
      "        \"Patch clamp\",\r\n",
      "        \"whole cell\",\r\n",
      "        \"micromanipulator\"\r\n",
      "       ],\r\n",
      "       \"description\": \"Clamp type:\",\r\n",
      "       \"index\": 0,\r\n",
      "       \"layout\": \"IPY_MODEL_a9e77b3cb49b4a7f815b5dbe47e97c15\",\r\n",
      "       \"style\": \"IPY_MODEL_cb6bea3608624e779e421ddb027b5c61\"\r\n",
      "      }\r\n",
      "     },\r\n",
      "     \"be3bce488d4c4aad98de72c4418e182b\": {\r\n",
      "      \"model_module\": \"@jupyter-widgets/controls\",\r\n",
      "      \"model_module_version\": \"1.5.0\",\r\n",
      "      \"model_name\": \"HBoxModel\",\r\n",
      "      \"state\": {\r\n",
      "       \"children\": [\r\n",
      "        \"IPY_MODEL_7059b75e5f154c8981d41adc9cccd7ea\",\r\n",
      "        \"IPY_MODEL_a94ac13e195b407b9f46becd6ac5de88\",\r\n",
      "        \"IPY_MODEL_6398933f32d444adb689653b6e5dbf79\"\r\n",
      "       ],\r\n",
      "       \"layout\": \"IPY_MODEL_a1c7f8961fd149b29b545bb77f062963\"\r\n",
      "      }\r\n",
      "     },\r\n",
      "     \"be4d2e34d7d5407caf2864af9e18ad5d\": {\r\n",
      "      \"model_module\": \"@jupyter-widgets/base\",\r\n",
      "      \"model_module_version\": \"1.2.0\",\r\n",
      "      \"model_name\": \"LayoutModel\",\r\n",
      "      \"state\": {}\r\n",
      "     },\r\n",
      "     \"be8726a10e7947bb811858de69d3b2b2\": {\r\n",
      "      \"model_module\": \"@jupyter-widgets/controls\",\r\n",
      "      \"model_module_version\": \"1.5.0\",\r\n",
      "      \"model_name\": \"DescriptionStyleModel\",\r\n",
      "      \"state\": {\r\n",
      "       \"description_width\": \"\"\r\n",
      "      }\r\n",
      "     },\r\n",
      "     \"bf854616bff2431ca8d55ade15ce1423\": {\r\n",
      "      \"model_module\": \"@jupyter-widgets/controls\",\r\n",
      "      \"model_module_version\": \"1.5.0\",\r\n",
      "      \"model_name\": \"DropdownModel\",\r\n",
      "      \"state\": {\r\n",
      "       \"_options_labels\": [\r\n",
      "        \"Patch clamp\",\r\n",
      "        \"whole cell\",\r\n",
      "        \"micromanipulator\"\r\n",
      "       ],\r\n",
      "       \"description\": \"Type:\",\r\n",
      "       \"index\": 0,\r\n",
      "       \"layout\": \"IPY_MODEL_7367c1510d5040c68cff32a7c7407d0f\",\r\n",
      "       \"style\": \"IPY_MODEL_ddf5204d1dd04644bfe9034c57c11445\"\r\n",
      "      }\r\n",
      "     },\r\n",
      "     \"c180ed0cb5494ca8aa932e9bddce4eec\": {\r\n",
      "      \"model_module\": \"@jupyter-widgets/controls\",\r\n",
      "      \"model_module_version\": \"1.5.0\",\r\n",
      "      \"model_name\": \"HTMLModel\",\r\n",
      "      \"state\": {\r\n",
      "       \"layout\": \"IPY_MODEL_b2e349da1943467c94f8d28022aba0b1\",\r\n",
      "       \"style\": \"IPY_MODEL_0c206f04037c447e8d213899af075893\",\r\n",
      "       \"value\": \"<h3 class = 'text-center'><font color='purple'>createUUID</font>\"\r\n",
      "      }\r\n",
      "     },\r\n",
      "     \"c1c60f57551f4d6db220813f976a304b\": {\r\n",
      "      \"model_module\": \"@jupyter-widgets/controls\",\r\n",
      "      \"model_module_version\": \"1.5.0\",\r\n",
      "      \"model_name\": \"TextModel\",\r\n",
      "      \"state\": {\r\n",
      "       \"layout\": \"IPY_MODEL_15e1178446b148c2a362038ffeca2a32\",\r\n",
      "       \"style\": \"IPY_MODEL_dc46cd81b18d41209540c571263d378d\"\r\n",
      "      }\r\n",
      "     },\r\n",
      "     \"c273b1cadd2b474daf16a51d71b83fa2\": {\r\n",
      "      \"model_module\": \"@jupyter-widgets/controls\",\r\n",
      "      \"model_module_version\": \"1.5.0\",\r\n",
      "      \"model_name\": \"TextModel\",\r\n",
      "      \"state\": {\r\n",
      "       \"description\": \"Name: \",\r\n",
      "       \"layout\": \"IPY_MODEL_361754f3e53c4cdeaa0831f5da0a8910\",\r\n",
      "       \"placeholder\": \"Enter experiment name\",\r\n",
      "       \"style\": \"IPY_MODEL_b029c684c4ba4a85b8e0dc043292e24f\"\r\n",
      "      }\r\n",
      "     },\r\n",
      "     \"c280289f2f704fb998cf09190595ec9b\": {\r\n",
      "      \"model_module\": \"@jupyter-widgets/controls\",\r\n",
      "      \"model_module_version\": \"1.5.0\",\r\n",
      "      \"model_name\": \"DescriptionStyleModel\",\r\n",
      "      \"state\": {\r\n",
      "       \"description_width\": \"\"\r\n",
      "      }\r\n",
      "     },\r\n",
      "     \"c3597ee7cf344c049d0ceac64dc7fddf\": {\r\n",
      "      \"model_module\": \"@jupyter-widgets/controls\",\r\n",
      "      \"model_module_version\": \"1.5.0\",\r\n",
      "      \"model_name\": \"DescriptionStyleModel\",\r\n",
      "      \"state\": {\r\n",
      "       \"description_width\": \"\"\r\n",
      "      }\r\n",
      "     },\r\n",
      "     \"c3b8f2f1266d46a0a5058861a37ad207\": {\r\n",
      "      \"model_module\": \"@jupyter-widgets/base\",\r\n",
      "      \"model_module_version\": \"1.2.0\",\r\n",
      "      \"model_name\": \"LayoutModel\",\r\n",
      "      \"state\": {}\r\n",
      "     },\r\n",
      "     \"c436752e43e54c058a393f59eae4fab0\": {\r\n",
      "      \"model_module\": \"@jupyter-widgets/base\",\r\n",
      "      \"model_module_version\": \"1.2.0\",\r\n",
      "      \"model_name\": \"LayoutModel\",\r\n",
      "      \"state\": {}\r\n",
      "     },\r\n",
      "     \"c45e83c69772449abb0ebf623b3dd0e9\": {\r\n",
      "      \"model_module\": \"@jupyter-widgets/controls\",\r\n",
      "      \"model_module_version\": \"1.5.0\",\r\n",
      "      \"model_name\": \"FileUploadModel\",\r\n",
      "      \"state\": {\r\n",
      "       \"description_tooltip\": null,\r\n",
      "       \"layout\": \"IPY_MODEL_7ecc752659b04fa8bd593278658cd76c\",\r\n",
      "       \"multiple\": true,\r\n",
      "       \"style\": \"IPY_MODEL_db5ababe264e4ff8aa027b342d0542cc\"\r\n",
      "      }\r\n",
      "     },\r\n",
      "     \"c62c5a24d87f473fa062a8007b4b0873\": {\r\n",
      "      \"model_module\": \"@jupyter-widgets/controls\",\r\n",
      "      \"model_module_version\": \"1.5.0\",\r\n",
      "      \"model_name\": \"ButtonModel\",\r\n",
      "      \"state\": {\r\n",
      "       \"description\": \"Create UUID\",\r\n",
      "       \"layout\": \"IPY_MODEL_43ae91b8a51c4b92b11bf199b9624600\",\r\n",
      "       \"style\": \"IPY_MODEL_e240d94bdb4849cf8e8fbbcf6d94455c\",\r\n",
      "       \"tooltip\": \"UUID format: YYYY-MM-DD- experiment type - experiment shorthand\"\r\n",
      "      }\r\n",
      "     },\r\n",
      "     \"c6540bb231cc44019a9c0f7aad9015d7\": {\r\n",
      "      \"model_module\": \"@jupyter-widgets/base\",\r\n",
      "      \"model_module_version\": \"1.2.0\",\r\n",
      "      \"model_name\": \"LayoutModel\",\r\n",
      "      \"state\": {}\r\n",
      "     },\r\n",
      "     \"c6720fbf58d64f5f89e3f09aecabf082\": {\r\n",
      "      \"model_module\": \"@jupyter-widgets/controls\",\r\n",
      "      \"model_module_version\": \"1.5.0\",\r\n",
      "      \"model_name\": \"HBoxModel\",\r\n",
      "      \"state\": {\r\n",
      "       \"children\": [\r\n",
      "        \"IPY_MODEL_1fed37d68f4c4a6d8dcaacab22056f38\"\r\n",
      "       ],\r\n",
      "       \"layout\": \"IPY_MODEL_7909175dacb940db94152fc3d8932eea\"\r\n",
      "      }\r\n",
      "     },\r\n",
      "     \"c726ede939e74448b915f28b4bfe4f68\": {\r\n",
      "      \"model_module\": \"@jupyter-widgets/base\",\r\n",
      "      \"model_module_version\": \"1.2.0\",\r\n",
      "      \"model_name\": \"LayoutModel\",\r\n",
      "      \"state\": {}\r\n",
      "     },\r\n",
      "     \"c7dde2d0325c422f9e4deac6c0aee39b\": {\r\n",
      "      \"model_module\": \"@jupyter-widgets/base\",\r\n",
      "      \"model_module_version\": \"1.2.0\",\r\n",
      "      \"model_name\": \"LayoutModel\",\r\n",
      "      \"state\": {}\r\n",
      "     },\r\n",
      "     \"c8959ec90316487ca28692c486ed3a0e\": {\r\n",
      "      \"model_module\": \"@jupyter-widgets/controls\",\r\n",
      "      \"model_module_version\": \"1.5.0\",\r\n",
      "      \"model_name\": \"DropdownModel\",\r\n",
      "      \"state\": {\r\n",
      "       \"_options_labels\": [\r\n",
      "        \"Patch clamp\",\r\n",
      "        \"whole cell\",\r\n",
      "        \"micromanipulator\"\r\n",
      "       ],\r\n",
      "       \"description\": \"Clamp type:\",\r\n",
      "       \"index\": 0,\r\n",
      "       \"layout\": \"IPY_MODEL_3d9f40e7b57f4900a032e96892031d76\",\r\n",
      "       \"style\": \"IPY_MODEL_7fe64b9ffa7a465ba0be277b8eeb6b0f\"\r\n",
      "      }\r\n",
      "     },\r\n",
      "     \"c8aa4c3812dc4ed9998939180b83bd15\": {\r\n",
      "      \"model_module\": \"@jupyter-widgets/controls\",\r\n",
      "      \"model_module_version\": \"1.5.0\",\r\n",
      "      \"model_name\": \"VBoxModel\",\r\n",
      "      \"state\": {\r\n",
      "       \"children\": [\r\n",
      "        \"IPY_MODEL_56020677244f4821b7383c1e9c06af55\",\r\n",
      "        \"IPY_MODEL_81ef746cc4fb4932b2669930fb674e07\",\r\n",
      "        \"IPY_MODEL_e49f4563050b42fe9c9a42a5d5fbaa43\"\r\n",
      "       ],\r\n",
      "       \"layout\": \"IPY_MODEL_bcb91037ab9142e9990e1642bac81725\"\r\n",
      "      }\r\n",
      "     },\r\n",
      "     \"c8cdbab1c97149a9a29471c95b1c2828\": {\r\n",
      "      \"model_module\": \"@jupyter-widgets/base\",\r\n",
      "      \"model_module_version\": \"1.2.0\",\r\n",
      "      \"model_name\": \"LayoutModel\",\r\n",
      "      \"state\": {}\r\n",
      "     },\r\n",
      "     \"c92fae74debc40d0869a79766bf39f11\": {\r\n",
      "      \"model_module\": \"@jupyter-widgets/controls\",\r\n",
      "      \"model_module_version\": \"1.5.0\",\r\n",
      "      \"model_name\": \"TextModel\",\r\n",
      "      \"state\": {\r\n",
      "       \"description\": \"Name: \",\r\n",
      "       \"layout\": \"IPY_MODEL_4ec6ef3dea7947d0b916bb826cf4b42b\",\r\n",
      "       \"placeholder\": \"Enter experiment name\",\r\n",
      "       \"style\": \"IPY_MODEL_60e42bd16fe34b90ba53711ef3d374a3\"\r\n",
      "      }\r\n",
      "     },\r\n",
      "     \"cad590ee7be74e7abaee62fa3f96757b\": {\r\n",
      "      \"model_module\": \"@jupyter-widgets/controls\",\r\n",
      "      \"model_module_version\": \"1.5.0\",\r\n",
      "      \"model_name\": \"DropdownModel\",\r\n",
      "      \"state\": {\r\n",
      "       \"_options_labels\": [\r\n",
      "        \"Calcium\",\r\n",
      "        \"Ephys\",\r\n",
      "        \"Fluidics\",\r\n",
      "        \"Imagingi\",\r\n",
      "        \"MEA\",\r\n",
      "        \"Patch Clamp\"\r\n",
      "       ],\r\n",
      "       \"description\": \"Type:\",\r\n",
      "       \"index\": 0,\r\n",
      "       \"layout\": \"IPY_MODEL_12d017187bcd482a87461fc14f6bd0b4\",\r\n",
      "       \"style\": \"IPY_MODEL_9ffbc461bd8247d38938ea2889154366\"\r\n",
      "      }\r\n",
      "     },\r\n",
      "     \"cb453487dea74628bf36b478f8c03deb\": {\r\n",
      "      \"model_module\": \"@jupyter-widgets/base\",\r\n",
      "      \"model_module_version\": \"1.2.0\",\r\n",
      "      \"model_name\": \"LayoutModel\",\r\n",
      "      \"state\": {}\r\n",
      "     },\r\n",
      "     \"cb6bea3608624e779e421ddb027b5c61\": {\r\n",
      "      \"model_module\": \"@jupyter-widgets/controls\",\r\n",
      "      \"model_module_version\": \"1.5.0\",\r\n",
      "      \"model_name\": \"DescriptionStyleModel\",\r\n",
      "      \"state\": {\r\n",
      "       \"description_width\": \"\"\r\n",
      "      }\r\n",
      "     },\r\n",
      "     \"cbda4ecde90a42718cb45631ac5ef9e8\": {\r\n",
      "      \"model_module\": \"@jupyter-widgets/controls\",\r\n",
      "      \"model_module_version\": \"1.5.0\",\r\n",
      "      \"model_name\": \"TextModel\",\r\n",
      "      \"state\": {\r\n",
      "       \"description\": \"Name: \",\r\n",
      "       \"layout\": \"IPY_MODEL_85dce981a49f4a79aef479f75fec62fa\",\r\n",
      "       \"placeholder\": \"Enter experiment name\",\r\n",
      "       \"style\": \"IPY_MODEL_21f26d8fa6c847ef9d85514b9fdfeddb\",\r\n",
      "       \"value\": \"cells\"\r\n",
      "      }\r\n",
      "     },\r\n",
      "     \"cbf42832851949b2ac708e0c06e5d683\": {\r\n",
      "      \"model_module\": \"@jupyter-widgets/controls\",\r\n",
      "      \"model_module_version\": \"1.5.0\",\r\n",
      "      \"model_name\": \"DropdownModel\",\r\n",
      "      \"state\": {\r\n",
      "       \"_options_labels\": [\r\n",
      "        \"ca2+\",\r\n",
      "        \"eGFP\",\r\n",
      "        \"k+\"\r\n",
      "       ],\r\n",
      "       \"description\": \"Type:\",\r\n",
      "       \"index\": 0,\r\n",
      "       \"layout\": \"IPY_MODEL_24e13b47e7794e11a1276e76470b9be6\",\r\n",
      "       \"style\": \"IPY_MODEL_da213216150a43a382d9e77d82a049f7\"\r\n",
      "      }\r\n",
      "     },\r\n",
      "     \"ccd8ab3447bc45fabfb447605de68cd9\": {\r\n",
      "      \"model_module\": \"@jupyter-widgets/base\",\r\n",
      "      \"model_module_version\": \"1.2.0\",\r\n",
      "      \"model_name\": \"LayoutModel\",\r\n",
      "      \"state\": {}\r\n",
      "     },\r\n",
      "     \"ccf717ea8f5b4e69a9e3f3e6c5509bf4\": {\r\n",
      "      \"model_module\": \"@jupyter-widgets/base\",\r\n",
      "      \"model_module_version\": \"1.2.0\",\r\n",
      "      \"model_name\": \"LayoutModel\",\r\n",
      "      \"state\": {}\r\n",
      "     },\r\n",
      "     \"cd17f4058d834509887884e6632d8ee9\": {\r\n",
      "      \"model_module\": \"@jupyter-widgets/controls\",\r\n",
      "      \"model_module_version\": \"1.5.0\",\r\n",
      "      \"model_name\": \"VBoxModel\",\r\n",
      "      \"state\": {\r\n",
      "       \"children\": [\r\n",
      "        \"IPY_MODEL_42ac2e7b24e743b3be5bb11eaeeacbf1\",\r\n",
      "        \"IPY_MODEL_6c1f8b89a7164ec9926bc2df0a023fc6\",\r\n",
      "        \"IPY_MODEL_d5b2855a49be47b486229ee843d1f0e4\"\r\n",
      "       ],\r\n",
      "       \"layout\": \"IPY_MODEL_7a5dc69d4d3449639510a75e8b352d15\"\r\n",
      "      }\r\n",
      "     },\r\n",
      "     \"cd6ff4ddbcb847ed9513b2692d6dad35\": {\r\n",
      "      \"model_module\": \"@jupyter-widgets/controls\",\r\n",
      "      \"model_module_version\": \"1.5.0\",\r\n",
      "      \"model_name\": \"DatePickerModel\",\r\n",
      "      \"state\": {\r\n",
      "       \"description\": \"Exp. Date:\",\r\n",
      "       \"disabled\": false,\r\n",
      "       \"layout\": \"IPY_MODEL_0db373cfdb724987899ff9ef1399eeff\",\r\n",
      "       \"style\": \"IPY_MODEL_233d0e08b63645d1a27966e6e0f591c2\"\r\n",
      "      }\r\n",
      "     },\r\n",
      "     \"cda0962863cd49a0936f381fd4e026bd\": {\r\n",
      "      \"model_module\": \"@jupyter-widgets/base\",\r\n",
      "      \"model_module_version\": \"1.2.0\",\r\n",
      "      \"model_name\": \"LayoutModel\",\r\n",
      "      \"state\": {}\r\n",
      "     },\r\n",
      "     \"cdc3818e8ecd4d4f9536be296682ee96\": {\r\n",
      "      \"model_module\": \"@jupyter-widgets/base\",\r\n",
      "      \"model_module_version\": \"1.2.0\",\r\n",
      "      \"model_name\": \"LayoutModel\",\r\n",
      "      \"state\": {}\r\n",
      "     },\r\n",
      "     \"cefcff0df3f449a89da1ccb1c379d899\": {\r\n",
      "      \"model_module\": \"@jupyter-widgets/controls\",\r\n",
      "      \"model_module_version\": \"1.5.0\",\r\n",
      "      \"model_name\": \"DropdownModel\",\r\n",
      "      \"state\": {\r\n",
      "       \"_options_labels\": [\r\n",
      "        \"Calcium\",\r\n",
      "        \"Ephys\",\r\n",
      "        \"Fluidics\",\r\n",
      "        \"Imagingi\",\r\n",
      "        \"MEA\",\r\n",
      "        \"Patch Clamp\"\r\n",
      "       ],\r\n",
      "       \"description\": \"Type:\",\r\n",
      "       \"index\": 0,\r\n",
      "       \"layout\": \"IPY_MODEL_1883cb7fc044409b9c1c30e34762b2bb\",\r\n",
      "       \"style\": \"IPY_MODEL_4794f36694874e90a4a5f863953ac394\"\r\n",
      "      }\r\n",
      "     },\r\n",
      "     \"cffafd7787bd4a579932ed4935d54b13\": {\r\n",
      "      \"model_module\": \"@jupyter-widgets/controls\",\r\n",
      "      \"model_module_version\": \"1.5.0\",\r\n",
      "      \"model_name\": \"ButtonStyleModel\",\r\n",
      "      \"state\": {}\r\n",
      "     },\r\n",
      "     \"d1c3cace53cf4142864b74f29581004c\": {\r\n",
      "      \"model_module\": \"@jupyter-widgets/controls\",\r\n",
      "      \"model_module_version\": \"1.5.0\",\r\n",
      "      \"model_name\": \"DescriptionStyleModel\",\r\n",
      "      \"state\": {\r\n",
      "       \"description_width\": \"\"\r\n",
      "      }\r\n",
      "     },\r\n",
      "     \"d23f791b2fa94492b7d2eeaa6fb2b3e7\": {\r\n",
      "      \"model_module\": \"@jupyter-widgets/base\",\r\n",
      "      \"model_module_version\": \"1.2.0\",\r\n",
      "      \"model_name\": \"LayoutModel\",\r\n",
      "      \"state\": {}\r\n",
      "     },\r\n",
      "     \"d259da5e96114272a370175d7467043b\": {\r\n",
      "      \"model_module\": \"@jupyter-widgets/base\",\r\n",
      "      \"model_module_version\": \"1.2.0\",\r\n",
      "      \"model_name\": \"LayoutModel\",\r\n",
      "      \"state\": {}\r\n",
      "     },\r\n",
      "     \"d2baf602595c4d49a4a84788222e3ad4\": {\r\n",
      "      \"model_module\": \"@jupyter-widgets/base\",\r\n",
      "      \"model_module_version\": \"1.2.0\",\r\n",
      "      \"model_name\": \"LayoutModel\",\r\n",
      "      \"state\": {}\r\n",
      "     },\r\n",
      "     \"d2d8476e63b846959a611ae17e91f8c1\": {\r\n",
      "      \"model_module\": \"@jupyter-widgets/controls\",\r\n",
      "      \"model_module_version\": \"1.5.0\",\r\n",
      "      \"model_name\": \"ButtonModel\",\r\n",
      "      \"state\": {\r\n",
      "       \"description\": \"Create UUID\",\r\n",
      "       \"layout\": \"IPY_MODEL_014b03db57894f2ea254cb030459be75\",\r\n",
      "       \"style\": \"IPY_MODEL_d81022ce8a7643089a5b94bc73177c6f\",\r\n",
      "       \"tooltip\": \"Create UUID\"\r\n",
      "      }\r\n",
      "     },\r\n",
      "     \"d3108e89f1e743588d48c5bd85495857\": {\r\n",
      "      \"model_module\": \"@jupyter-widgets/controls\",\r\n",
      "      \"model_module_version\": \"1.5.0\",\r\n",
      "      \"model_name\": \"DropdownModel\",\r\n",
      "      \"state\": {\r\n",
      "       \"_options_labels\": [\r\n",
      "        \"MEA\",\r\n",
      "        \"Axion\",\r\n",
      "        \"SeaMoss\",\r\n",
      "        \"Roberts\"\r\n",
      "       ],\r\n",
      "       \"description\": \"Type:\",\r\n",
      "       \"index\": 0,\r\n",
      "       \"layout\": \"IPY_MODEL_61747be3b9f34526b506d14eae514895\",\r\n",
      "       \"style\": \"IPY_MODEL_c280289f2f704fb998cf09190595ec9b\"\r\n",
      "      }\r\n",
      "     },\r\n",
      "     \"d33c85ddfe7646c3b9d03a788d74316c\": {\r\n",
      "      \"model_module\": \"@jupyter-widgets/controls\",\r\n",
      "      \"model_module_version\": \"1.5.0\",\r\n",
      "      \"model_name\": \"HBoxModel\",\r\n",
      "      \"state\": {\r\n",
      "       \"children\": [\r\n",
      "        \"IPY_MODEL_897c97794c3a4f268da6cd1353a80ba5\"\r\n",
      "       ],\r\n",
      "       \"layout\": \"IPY_MODEL_63be2a3ac07a438fab29f19674404d17\"\r\n",
      "      }\r\n",
      "     },\r\n",
      "     \"d388e10fd2954803a805e180b8dd14da\": {\r\n",
      "      \"model_module\": \"@jupyter-widgets/controls\",\r\n",
      "      \"model_module_version\": \"1.5.0\",\r\n",
      "      \"model_name\": \"TextModel\",\r\n",
      "      \"state\": {\r\n",
      "       \"description\": \"Name: \",\r\n",
      "       \"layout\": \"IPY_MODEL_de37b175911e424fb29e191371c0c20f\",\r\n",
      "       \"placeholder\": \"Enter experiment name\",\r\n",
      "       \"style\": \"IPY_MODEL_f9528522a1eb4988872382b56bbc777d\"\r\n",
      "      }\r\n",
      "     },\r\n",
      "     \"d40ff979dab04ee39d9ec9bdc784c934\": {\r\n",
      "      \"model_module\": \"@jupyter-widgets/controls\",\r\n",
      "      \"model_module_version\": \"1.5.0\",\r\n",
      "      \"model_name\": \"DescriptionStyleModel\",\r\n",
      "      \"state\": {\r\n",
      "       \"description_width\": \"\"\r\n",
      "      }\r\n",
      "     },\r\n",
      "     \"d4ae7de6df154c139c5fdc1761f7a650\": {\r\n",
      "      \"model_module\": \"@jupyter-widgets/base\",\r\n",
      "      \"model_module_version\": \"1.2.0\",\r\n",
      "      \"model_name\": \"LayoutModel\",\r\n",
      "      \"state\": {}\r\n",
      "     },\r\n",
      "     \"d5b2855a49be47b486229ee843d1f0e4\": {\r\n",
      "      \"model_module\": \"@jupyter-widgets/controls\",\r\n",
      "      \"model_module_version\": \"1.5.0\",\r\n",
      "      \"model_name\": \"ButtonModel\",\r\n",
      "      \"state\": {\r\n",
      "       \"description\": \"Create UUID\",\r\n",
      "       \"layout\": \"IPY_MODEL_8c9d4ac2b3b6431da7cb5382ba625f3f\",\r\n",
      "       \"style\": \"IPY_MODEL_06277a43dedc4cf78d51977382824df5\",\r\n",
      "       \"tooltip\": \"UUID format: YYYY-MM-DD- experiment type - experiment shorthand\"\r\n",
      "      }\r\n",
      "     },\r\n",
      "     \"d5bba82cf6c840429b7bd6a19ad4fc7d\": {\r\n",
      "      \"model_module\": \"@jupyter-widgets/base\",\r\n",
      "      \"model_module_version\": \"1.2.0\",\r\n",
      "      \"model_name\": \"LayoutModel\",\r\n",
      "      \"state\": {}\r\n",
      "     },\r\n",
      "     \"d62d8d1c432244e1bb789dc51beb57bd\": {\r\n",
      "      \"model_module\": \"@jupyter-widgets/base\",\r\n",
      "      \"model_module_version\": \"1.2.0\",\r\n",
      "      \"model_name\": \"LayoutModel\",\r\n",
      "      \"state\": {}\r\n",
      "     },\r\n",
      "     \"d6a008def90747a99db8ee0a0899f5ca\": {\r\n",
      "      \"model_module\": \"@jupyter-widgets/controls\",\r\n",
      "      \"model_module_version\": \"1.5.0\",\r\n",
      "      \"model_name\": \"FileUploadModel\",\r\n",
      "      \"state\": {\r\n",
      "       \"description_tooltip\": null,\r\n",
      "       \"layout\": \"IPY_MODEL_85751e3e796049dfad79ec864cd756a6\",\r\n",
      "       \"multiple\": true,\r\n",
      "       \"style\": \"IPY_MODEL_49ae777eb21040498af6ea3119b08ebe\"\r\n",
      "      }\r\n",
      "     },\r\n",
      "     \"d81022ce8a7643089a5b94bc73177c6f\": {\r\n",
      "      \"model_module\": \"@jupyter-widgets/controls\",\r\n",
      "      \"model_module_version\": \"1.5.0\",\r\n",
      "      \"model_name\": \"ButtonStyleModel\",\r\n",
      "      \"state\": {}\r\n",
      "     },\r\n",
      "     \"d83f79b1c0cd4347b358bfb7853422f5\": {\r\n",
      "      \"model_module\": \"@jupyter-widgets/controls\",\r\n",
      "      \"model_module_version\": \"1.5.0\",\r\n",
      "      \"model_name\": \"FileUploadModel\",\r\n",
      "      \"state\": {\r\n",
      "       \"description_tooltip\": null,\r\n",
      "       \"layout\": \"IPY_MODEL_5a4124f872f04f8c958abdb4f24ec350\",\r\n",
      "       \"multiple\": true,\r\n",
      "       \"style\": \"IPY_MODEL_837773e8c02a4fb09c589921de6f2c0a\"\r\n",
      "      }\r\n",
      "     },\r\n",
      "     \"d864b11bd1c34d2eac1f20bd19e50ad4\": {\r\n",
      "      \"model_module\": \"@jupyter-widgets/controls\",\r\n",
      "      \"model_module_version\": \"1.5.0\",\r\n",
      "      \"model_name\": \"DropdownModel\",\r\n",
      "      \"state\": {\r\n",
      "       \"_options_labels\": [\r\n",
      "        \"Calcium\",\r\n",
      "        \"Ephys\",\r\n",
      "        \"Fluidics\",\r\n",
      "        \"Imagingi\",\r\n",
      "        \"MEA\",\r\n",
      "        \"Patch Clamp\"\r\n",
      "       ],\r\n",
      "       \"description\": \"Type:\",\r\n",
      "       \"index\": 0,\r\n",
      "       \"layout\": \"IPY_MODEL_ccf717ea8f5b4e69a9e3f3e6c5509bf4\",\r\n",
      "       \"style\": \"IPY_MODEL_68e7e7547c3b405d88dfcac67e1cc19d\"\r\n",
      "      }\r\n",
      "     },\r\n",
      "     \"d8980eeea44b4a2593e4c43068c144bd\": {\r\n",
      "      \"model_module\": \"@jupyter-widgets/controls\",\r\n",
      "      \"model_module_version\": \"1.5.0\",\r\n",
      "      \"model_name\": \"VBoxModel\",\r\n",
      "      \"state\": {\r\n",
      "       \"children\": [\r\n",
      "        \"IPY_MODEL_42ac2e7b24e743b3be5bb11eaeeacbf1\",\r\n",
      "        \"IPY_MODEL_6c1f8b89a7164ec9926bc2df0a023fc6\",\r\n",
      "        \"IPY_MODEL_6a854b04787146ca924a65e64b3c7c42\"\r\n",
      "       ],\r\n",
      "       \"layout\": \"IPY_MODEL_ccd8ab3447bc45fabfb447605de68cd9\"\r\n",
      "      }\r\n",
      "     },\r\n",
      "     \"d969903dfde24937a118344b9b5c9432\": {\r\n",
      "      \"model_module\": \"@jupyter-widgets/controls\",\r\n",
      "      \"model_module_version\": \"1.5.0\",\r\n",
      "      \"model_name\": \"HTMLModel\",\r\n",
      "      \"state\": {\r\n",
      "       \"layout\": \"IPY_MODEL_5d056b753bd84c9cb964635d1a4b1ac7\",\r\n",
      "       \"style\": \"IPY_MODEL_5617d8fa878249cd98e2e2a4b70877f0\",\r\n",
      "       \"value\": \"<h3 class = 'text-center'><font color='purple'>UUID</font>\"\r\n",
      "      }\r\n",
      "     },\r\n",
      "     \"da213216150a43a382d9e77d82a049f7\": {\r\n",
      "      \"model_module\": \"@jupyter-widgets/controls\",\r\n",
      "      \"model_module_version\": \"1.5.0\",\r\n",
      "      \"model_name\": \"DescriptionStyleModel\",\r\n",
      "      \"state\": {\r\n",
      "       \"description_width\": \"\"\r\n",
      "      }\r\n",
      "     },\r\n",
      "     \"da46a0767d8e47cb8aa933b650840036\": {\r\n",
      "      \"model_module\": \"@jupyter-widgets/controls\",\r\n",
      "      \"model_module_version\": \"1.5.0\",\r\n",
      "      \"model_name\": \"DescriptionStyleModel\",\r\n",
      "      \"state\": {\r\n",
      "       \"description_width\": \"\"\r\n",
      "      }\r\n",
      "     },\r\n",
      "     \"dab8314353f8431791f06169fd67074e\": {\r\n",
      "      \"model_module\": \"@jupyter-widgets/controls\",\r\n",
      "      \"model_module_version\": \"1.5.0\",\r\n",
      "      \"model_name\": \"DescriptionStyleModel\",\r\n",
      "      \"state\": {\r\n",
      "       \"description_width\": \"\"\r\n",
      "      }\r\n",
      "     },\r\n",
      "     \"db5ababe264e4ff8aa027b342d0542cc\": {\r\n",
      "      \"model_module\": \"@jupyter-widgets/controls\",\r\n",
      "      \"model_module_version\": \"1.5.0\",\r\n",
      "      \"model_name\": \"ButtonStyleModel\",\r\n",
      "      \"state\": {}\r\n",
      "     },\r\n",
      "     \"db8e4874ad3949179732b9f80c8ad561\": {\r\n",
      "      \"model_module\": \"@jupyter-widgets/controls\",\r\n",
      "      \"model_module_version\": \"1.5.0\",\r\n",
      "      \"model_name\": \"DescriptionStyleModel\",\r\n",
      "      \"state\": {\r\n",
      "       \"description_width\": \"\"\r\n",
      "      }\r\n",
      "     },\r\n",
      "     \"dc46cd81b18d41209540c571263d378d\": {\r\n",
      "      \"model_module\": \"@jupyter-widgets/controls\",\r\n",
      "      \"model_module_version\": \"1.5.0\",\r\n",
      "      \"model_name\": \"DescriptionStyleModel\",\r\n",
      "      \"state\": {\r\n",
      "       \"description_width\": \"\"\r\n",
      "      }\r\n",
      "     },\r\n",
      "     \"dcaab493706f46a594f1bd88cd39b0cc\": {\r\n",
      "      \"model_module\": \"@jupyter-widgets/base\",\r\n",
      "      \"model_module_version\": \"1.2.0\",\r\n",
      "      \"model_name\": \"LayoutModel\",\r\n",
      "      \"state\": {}\r\n",
      "     },\r\n",
      "     \"dd11eac3017d4fbaa57336ccf945bbc7\": {\r\n",
      "      \"model_module\": \"@jupyter-widgets/controls\",\r\n",
      "      \"model_module_version\": \"1.5.0\",\r\n",
      "      \"model_name\": \"DescriptionStyleModel\",\r\n",
      "      \"state\": {\r\n",
      "       \"description_width\": \"\"\r\n",
      "      }\r\n",
      "     },\r\n",
      "     \"dd4f26fbc8b44a0fbff6259fb75b0f33\": {\r\n",
      "      \"model_module\": \"@jupyter-widgets/controls\",\r\n",
      "      \"model_module_version\": \"1.5.0\",\r\n",
      "      \"model_name\": \"DropdownModel\",\r\n",
      "      \"state\": {\r\n",
      "       \"_options_labels\": [\r\n",
      "        \"Patch clamp\",\r\n",
      "        \"whole cell\",\r\n",
      "        \"micromanipulator\"\r\n",
      "       ],\r\n",
      "       \"description\": \"Clamp type:\",\r\n",
      "       \"index\": 0,\r\n",
      "       \"layout\": \"IPY_MODEL_e66e0da9b47142ba8dc72931ff676882\",\r\n",
      "       \"style\": \"IPY_MODEL_da46a0767d8e47cb8aa933b650840036\"\r\n",
      "      }\r\n",
      "     },\r\n",
      "     \"dd7e8d105be64d53b71457ced1336085\": {\r\n",
      "      \"model_module\": \"@jupyter-widgets/controls\",\r\n",
      "      \"model_module_version\": \"1.5.0\",\r\n",
      "      \"model_name\": \"DropdownModel\",\r\n",
      "      \"state\": {\r\n",
      "       \"_options_labels\": [\r\n",
      "        \"Calcium (c)\",\r\n",
      "        \"Ephys (e)\",\r\n",
      "        \"Fluidics (f)\",\r\n",
      "        \"Imaging (i)\",\r\n",
      "        \"MEA (m)\",\r\n",
      "        \"Patch Clamp (p)\"\r\n",
      "       ],\r\n",
      "       \"description\": \"Type:\",\r\n",
      "       \"index\": 0,\r\n",
      "       \"layout\": \"IPY_MODEL_6202ea83130e40c6991aff6782888264\",\r\n",
      "       \"style\": \"IPY_MODEL_146fc64d2d35468ab9219ccabb6c73d7\"\r\n",
      "      }\r\n",
      "     },\r\n",
      "     \"ddf5204d1dd04644bfe9034c57c11445\": {\r\n",
      "      \"model_module\": \"@jupyter-widgets/controls\",\r\n",
      "      \"model_module_version\": \"1.5.0\",\r\n",
      "      \"model_name\": \"DescriptionStyleModel\",\r\n",
      "      \"state\": {\r\n",
      "       \"description_width\": \"\"\r\n",
      "      }\r\n",
      "     },\r\n",
      "     \"ddfd89c48fe741fcb4cd0428afc60826\": {\r\n",
      "      \"model_module\": \"@jupyter-widgets/controls\",\r\n",
      "      \"model_module_version\": \"1.5.0\",\r\n",
      "      \"model_name\": \"ButtonStyleModel\",\r\n",
      "      \"state\": {}\r\n",
      "     },\r\n",
      "     \"de1eb49f9c6b49ccbf337341f4f42504\": {\r\n",
      "      \"model_module\": \"@jupyter-widgets/controls\",\r\n",
      "      \"model_module_version\": \"1.5.0\",\r\n",
      "      \"model_name\": \"DescriptionStyleModel\",\r\n",
      "      \"state\": {\r\n",
      "       \"description_width\": \"\"\r\n",
      "      }\r\n",
      "     },\r\n",
      "     \"de37b175911e424fb29e191371c0c20f\": {\r\n",
      "      \"model_module\": \"@jupyter-widgets/base\",\r\n",
      "      \"model_module_version\": \"1.2.0\",\r\n",
      "      \"model_name\": \"LayoutModel\",\r\n",
      "      \"state\": {}\r\n",
      "     },\r\n",
      "     \"de41f82dbb864cb493cab3c6e2f25e6d\": {\r\n",
      "      \"model_module\": \"@jupyter-widgets/base\",\r\n",
      "      \"model_module_version\": \"1.2.0\",\r\n",
      "      \"model_name\": \"LayoutModel\",\r\n",
      "      \"state\": {}\r\n",
      "     },\r\n",
      "     \"df4e44ad696b4c06b15907a3fd7c44b5\": {\r\n",
      "      \"model_module\": \"@jupyter-widgets/base\",\r\n",
      "      \"model_module_version\": \"1.2.0\",\r\n",
      "      \"model_name\": \"LayoutModel\",\r\n",
      "      \"state\": {}\r\n",
      "     },\r\n",
      "     \"e015a98787a34961ae6a50f00129c356\": {\r\n",
      "      \"model_module\": \"@jupyter-widgets/controls\",\r\n",
      "      \"model_module_version\": \"1.5.0\",\r\n",
      "      \"model_name\": \"ButtonModel\",\r\n",
      "      \"state\": {\r\n",
      "       \"description\": \"Create UUID\",\r\n",
      "       \"layout\": \"IPY_MODEL_f49657355efc48a1aa65591b01e31312\",\r\n",
      "       \"style\": \"IPY_MODEL_7f71b8f064284aa887a859089d58b532\"\r\n",
      "      }\r\n",
      "     },\r\n",
      "     \"e01e8be3123544f9b63f23a289e36af2\": {\r\n",
      "      \"model_module\": \"@jupyter-widgets/controls\",\r\n",
      "      \"model_module_version\": \"1.5.0\",\r\n",
      "      \"model_name\": \"HBoxModel\",\r\n",
      "      \"state\": {\r\n",
      "       \"children\": [\r\n",
      "        \"IPY_MODEL_3a3c62fdaf5a4f8c965765cbb1416124\",\r\n",
      "        \"IPY_MODEL_398c7439b8b54fc49cb10d438b215beb\",\r\n",
      "        \"IPY_MODEL_eb22b8a2a0f1470896d43f34aac87aaa\"\r\n",
      "       ],\r\n",
      "       \"layout\": \"IPY_MODEL_4ccc8d8b528848ed8aa8a57d8c2fdccd\"\r\n",
      "      }\r\n",
      "     },\r\n",
      "     \"e039a71b93f546dba3e328ba424b1f0a\": {\r\n",
      "      \"model_module\": \"@jupyter-widgets/controls\",\r\n",
      "      \"model_module_version\": \"1.5.0\",\r\n",
      "      \"model_name\": \"DropdownModel\",\r\n",
      "      \"state\": {\r\n",
      "       \"_options_labels\": [\r\n",
      "        \"Calcium\",\r\n",
      "        \"Ephys\",\r\n",
      "        \"Fluidics\",\r\n",
      "        \"Imagingi\",\r\n",
      "        \"MEA\",\r\n",
      "        \"Patch Clamp\"\r\n",
      "       ],\r\n",
      "       \"description\": \"Type:\",\r\n",
      "       \"index\": 0,\r\n",
      "       \"layout\": \"IPY_MODEL_be4d2e34d7d5407caf2864af9e18ad5d\",\r\n",
      "       \"style\": \"IPY_MODEL_41cd9bc83e1b478388d476be5752554e\"\r\n",
      "      }\r\n",
      "     },\r\n",
      "     \"e15bb2ae99704c5d835ba735d362d724\": {\r\n",
      "      \"model_module\": \"@jupyter-widgets/base\",\r\n",
      "      \"model_module_version\": \"1.2.0\",\r\n",
      "      \"model_name\": \"LayoutModel\",\r\n",
      "      \"state\": {}\r\n",
      "     },\r\n",
      "     \"e1cb5a3755b741adb095af7d55574523\": {\r\n",
      "      \"model_module\": \"@jupyter-widgets/base\",\r\n",
      "      \"model_module_version\": \"1.2.0\",\r\n",
      "      \"model_name\": \"LayoutModel\",\r\n",
      "      \"state\": {}\r\n",
      "     },\r\n",
      "     \"e1ea06757c56421f85c8335b186f39f7\": {\r\n",
      "      \"model_module\": \"@jupyter-widgets/controls\",\r\n",
      "      \"model_module_version\": \"1.5.0\",\r\n",
      "      \"model_name\": \"DatePickerModel\",\r\n",
      "      \"state\": {\r\n",
      "       \"description\": \"Exp. Date:\",\r\n",
      "       \"disabled\": false,\r\n",
      "       \"layout\": \"IPY_MODEL_eeb9f23bc50246b294217338e9e6d8b1\",\r\n",
      "       \"style\": \"IPY_MODEL_d40ff979dab04ee39d9ec9bdc784c934\"\r\n",
      "      }\r\n",
      "     },\r\n",
      "     \"e1eb2afe310a4bdfb908266e1a895bd2\": {\r\n",
      "      \"model_module\": \"@jupyter-widgets/controls\",\r\n",
      "      \"model_module_version\": \"1.5.0\",\r\n",
      "      \"model_name\": \"DescriptionStyleModel\",\r\n",
      "      \"state\": {\r\n",
      "       \"description_width\": \"\"\r\n",
      "      }\r\n",
      "     },\r\n",
      "     \"e219a79203b348748340ed2b99b265d2\": {\r\n",
      "      \"model_module\": \"@jupyter-widgets/controls\",\r\n",
      "      \"model_module_version\": \"1.5.0\",\r\n",
      "      \"model_name\": \"DescriptionStyleModel\",\r\n",
      "      \"state\": {\r\n",
      "       \"description_width\": \"\"\r\n",
      "      }\r\n",
      "     },\r\n",
      "     \"e23b48f864d64900a59e6e343d066da0\": {\r\n",
      "      \"model_module\": \"@jupyter-widgets/base\",\r\n",
      "      \"model_module_version\": \"1.2.0\",\r\n",
      "      \"model_name\": \"LayoutModel\",\r\n",
      "      \"state\": {}\r\n",
      "     },\r\n",
      "     \"e240d94bdb4849cf8e8fbbcf6d94455c\": {\r\n",
      "      \"model_module\": \"@jupyter-widgets/controls\",\r\n",
      "      \"model_module_version\": \"1.5.0\",\r\n",
      "      \"model_name\": \"ButtonStyleModel\",\r\n",
      "      \"state\": {}\r\n",
      "     },\r\n",
      "     \"e32d9ea872dd47f7b3463f9a0ca43658\": {\r\n",
      "      \"model_module\": \"@jupyter-widgets/controls\",\r\n",
      "      \"model_module_version\": \"1.5.0\",\r\n",
      "      \"model_name\": \"ButtonStyleModel\",\r\n",
      "      \"state\": {}\r\n",
      "     },\r\n",
      "     \"e33bb9f52e1342dfa001b701fbb7227c\": {\r\n",
      "      \"model_module\": \"@jupyter-widgets/controls\",\r\n",
      "      \"model_module_version\": \"1.5.0\",\r\n",
      "      \"model_name\": \"ButtonStyleModel\",\r\n",
      "      \"state\": {}\r\n",
      "     },\r\n",
      "     \"e3a6e1156afc459cb4a51a355661121f\": {\r\n",
      "      \"model_module\": \"@jupyter-widgets/controls\",\r\n",
      "      \"model_module_version\": \"1.5.0\",\r\n",
      "      \"model_name\": \"DropdownModel\",\r\n",
      "      \"state\": {\r\n",
      "       \"_options_labels\": [\r\n",
      "        \"Calcium (c)\",\r\n",
      "        \"Ephys (e)\",\r\n",
      "        \"Fluidics (f)\",\r\n",
      "        \"Imaging (i)\",\r\n",
      "        \"MEA (m)\",\r\n",
      "        \"Patch Clamp (p)\"\r\n",
      "       ],\r\n",
      "       \"description\": \"Type:\",\r\n",
      "       \"index\": 0,\r\n",
      "       \"layout\": \"IPY_MODEL_a3c7ce10152d45aab90a71e7608db4b8\",\r\n",
      "       \"style\": \"IPY_MODEL_e1eb2afe310a4bdfb908266e1a895bd2\"\r\n",
      "      }\r\n",
      "     },\r\n",
      "     \"e3b94087c997461dac5f114c14a36763\": {\r\n",
      "      \"model_module\": \"@jupyter-widgets/base\",\r\n",
      "      \"model_module_version\": \"1.2.0\",\r\n",
      "      \"model_name\": \"LayoutModel\",\r\n",
      "      \"state\": {}\r\n",
      "     },\r\n",
      "     \"e3dbc3ae7f3947f29a5d565506dc694b\": {\r\n",
      "      \"model_module\": \"@jupyter-widgets/base\",\r\n",
      "      \"model_module_version\": \"1.2.0\",\r\n",
      "      \"model_name\": \"LayoutModel\",\r\n",
      "      \"state\": {}\r\n",
      "     },\r\n",
      "     \"e48df8d371ad4d1a9d12d30551fadca8\": {\r\n",
      "      \"model_module\": \"@jupyter-widgets/base\",\r\n",
      "      \"model_module_version\": \"1.2.0\",\r\n",
      "      \"model_name\": \"LayoutModel\",\r\n",
      "      \"state\": {}\r\n",
      "     },\r\n",
      "     \"e49f4563050b42fe9c9a42a5d5fbaa43\": {\r\n",
      "      \"model_module\": \"@jupyter-widgets/controls\",\r\n",
      "      \"model_module_version\": \"1.5.0\",\r\n",
      "      \"model_name\": \"HBoxModel\",\r\n",
      "      \"state\": {\r\n",
      "       \"children\": [\r\n",
      "        \"IPY_MODEL_0e96bd81c0a041dcb5b1c6101bce9c71\"\r\n",
      "       ],\r\n",
      "       \"layout\": \"IPY_MODEL_3d9156b6e888491ea6fa4a329b993b63\"\r\n",
      "      }\r\n",
      "     },\r\n",
      "     \"e4ae3600d1124369a9916b9221301075\": {\r\n",
      "      \"model_module\": \"@jupyter-widgets/base\",\r\n",
      "      \"model_module_version\": \"1.2.0\",\r\n",
      "      \"model_name\": \"LayoutModel\",\r\n",
      "      \"state\": {}\r\n",
      "     },\r\n",
      "     \"e50af494aaf04495bae8c1867ff18258\": {\r\n",
      "      \"model_module\": \"@jupyter-widgets/base\",\r\n",
      "      \"model_module_version\": \"1.2.0\",\r\n",
      "      \"model_name\": \"LayoutModel\",\r\n",
      "      \"state\": {}\r\n",
      "     },\r\n",
      "     \"e523c877a1e44a7eb2b2d55e5f276e02\": {\r\n",
      "      \"model_module\": \"@jupyter-widgets/base\",\r\n",
      "      \"model_module_version\": \"1.2.0\",\r\n",
      "      \"model_name\": \"LayoutModel\",\r\n",
      "      \"state\": {}\r\n",
      "     },\r\n",
      "     \"e66e0da9b47142ba8dc72931ff676882\": {\r\n",
      "      \"model_module\": \"@jupyter-widgets/base\",\r\n",
      "      \"model_module_version\": \"1.2.0\",\r\n",
      "      \"model_name\": \"LayoutModel\",\r\n",
      "      \"state\": {}\r\n",
      "     },\r\n",
      "     \"e681effd1c654ed58fed98e0096b6a7c\": {\r\n",
      "      \"model_module\": \"@jupyter-widgets/controls\",\r\n",
      "      \"model_module_version\": \"1.5.0\",\r\n",
      "      \"model_name\": \"ButtonModel\",\r\n",
      "      \"state\": {\r\n",
      "       \"description\": \"Create UUID\",\r\n",
      "       \"layout\": \"IPY_MODEL_85bb4490bacc4803aa52f7e88f143764\",\r\n",
      "       \"style\": \"IPY_MODEL_528aa7bf0b6c461ab7f57612118401ad\",\r\n",
      "       \"tooltip\": \"UUID format: YYYY-MM-DD- experiment type - experiment shorthand\"\r\n",
      "      }\r\n",
      "     },\r\n",
      "     \"e6b9ff00ddd9462f953d15206a6a56a8\": {\r\n",
      "      \"model_module\": \"@jupyter-widgets/base\",\r\n",
      "      \"model_module_version\": \"1.2.0\",\r\n",
      "      \"model_name\": \"LayoutModel\",\r\n",
      "      \"state\": {}\r\n",
      "     },\r\n",
      "     \"e78cde408b1846eaa42ada7799184887\": {\r\n",
      "      \"model_module\": \"@jupyter-widgets/base\",\r\n",
      "      \"model_module_version\": \"1.2.0\",\r\n",
      "      \"model_name\": \"LayoutModel\",\r\n",
      "      \"state\": {}\r\n",
      "     },\r\n",
      "     \"e80cfb63127645c59bdedbbd2c02b1db\": {\r\n",
      "      \"model_module\": \"@jupyter-widgets/base\",\r\n",
      "      \"model_module_version\": \"1.2.0\",\r\n",
      "      \"model_name\": \"LayoutModel\",\r\n",
      "      \"state\": {}\r\n",
      "     },\r\n",
      "     \"e81b2b57deb54a88a9d72891124a10ef\": {\r\n",
      "      \"model_module\": \"@jupyter-widgets/controls\",\r\n",
      "      \"model_module_version\": \"1.5.0\",\r\n",
      "      \"model_name\": \"VBoxModel\",\r\n",
      "      \"state\": {\r\n",
      "       \"children\": [\r\n",
      "        \"IPY_MODEL_36023b26f58d4763aa9b0fda7c33b7c5\",\r\n",
      "        \"IPY_MODEL_be3bce488d4c4aad98de72c4418e182b\",\r\n",
      "        \"IPY_MODEL_74178733e1714673a227b733dfde31ae\"\r\n",
      "       ],\r\n",
      "       \"layout\": \"IPY_MODEL_e78cde408b1846eaa42ada7799184887\"\r\n",
      "      }\r\n",
      "     },\r\n",
      "     \"e927b369f0f547dfb7a501b9dfa821ea\": {\r\n",
      "      \"model_module\": \"@jupyter-widgets/base\",\r\n",
      "      \"model_module_version\": \"1.2.0\",\r\n",
      "      \"model_name\": \"LayoutModel\",\r\n",
      "      \"state\": {}\r\n",
      "     },\r\n",
      "     \"e9a73b1d4026465a8e6460a049f25d70\": {\r\n",
      "      \"model_module\": \"@jupyter-widgets/controls\",\r\n",
      "      \"model_module_version\": \"1.5.0\",\r\n",
      "      \"model_name\": \"VBoxModel\",\r\n",
      "      \"state\": {\r\n",
      "       \"children\": [\r\n",
      "        \"IPY_MODEL_56020677244f4821b7383c1e9c06af55\",\r\n",
      "        \"IPY_MODEL_81ef746cc4fb4932b2669930fb674e07\",\r\n",
      "        \"IPY_MODEL_e49f4563050b42fe9c9a42a5d5fbaa43\"\r\n",
      "       ],\r\n",
      "       \"layout\": \"IPY_MODEL_e50af494aaf04495bae8c1867ff18258\"\r\n",
      "      }\r\n",
      "     },\r\n",
      "     \"e9abf53790264d21abb4844e802ca67d\": {\r\n",
      "      \"model_module\": \"@jupyter-widgets/controls\",\r\n",
      "      \"model_module_version\": \"1.5.0\",\r\n",
      "      \"model_name\": \"HBoxModel\",\r\n",
      "      \"state\": {\r\n",
      "       \"children\": [\r\n",
      "        \"IPY_MODEL_2dcd16c880044e96b6ec6f48cc4d2251\"\r\n",
      "       ],\r\n",
      "       \"layout\": \"IPY_MODEL_9de8daed66a94ccb998cb3e07c62b24b\"\r\n",
      "      }\r\n",
      "     },\r\n",
      "     \"eb22b8a2a0f1470896d43f34aac87aaa\": {\r\n",
      "      \"model_module\": \"@jupyter-widgets/controls\",\r\n",
      "      \"model_module_version\": \"1.5.0\",\r\n",
      "      \"model_name\": \"TextModel\",\r\n",
      "      \"state\": {\r\n",
      "       \"description\": \"Name: \",\r\n",
      "       \"layout\": \"IPY_MODEL_3d8951af9ecc4714940bc623520edd67\",\r\n",
      "       \"placeholder\": \"Enter experiment name\",\r\n",
      "       \"style\": \"IPY_MODEL_7a35b21b89a84d2fb0b61dd76d4e111c\",\r\n",
      "       \"value\": \"test\"\r\n",
      "      }\r\n",
      "     },\r\n",
      "     \"eb9ee706776c4fb6b8d184127f12be0e\": {\r\n",
      "      \"model_module\": \"@jupyter-widgets/controls\",\r\n",
      "      \"model_module_version\": \"1.5.0\",\r\n",
      "      \"model_name\": \"DropdownModel\",\r\n",
      "      \"state\": {\r\n",
      "       \"_options_labels\": [\r\n",
      "        \"ca2+\",\r\n",
      "        \"eGFP\",\r\n",
      "        \"k+\"\r\n",
      "       ],\r\n",
      "       \"description\": \"Type:\",\r\n",
      "       \"index\": 0,\r\n",
      "       \"layout\": \"IPY_MODEL_087937753c644fe88c68f898d59de717\",\r\n",
      "       \"style\": \"IPY_MODEL_be8726a10e7947bb811858de69d3b2b2\"\r\n",
      "      }\r\n",
      "     },\r\n",
      "     \"ed11a7cd0a87405b9d9437066e250b9c\": {\r\n",
      "      \"model_module\": \"@jupyter-widgets/controls\",\r\n",
      "      \"model_module_version\": \"1.5.0\",\r\n",
      "      \"model_name\": \"DescriptionStyleModel\",\r\n",
      "      \"state\": {\r\n",
      "       \"description_width\": \"\"\r\n",
      "      }\r\n",
      "     },\r\n",
      "     \"ed6b944e72134af4b8e10d89a13185f7\": {\r\n",
      "      \"model_module\": \"@jupyter-widgets/base\",\r\n",
      "      \"model_module_version\": \"1.2.0\",\r\n",
      "      \"model_name\": \"LayoutModel\",\r\n",
      "      \"state\": {}\r\n",
      "     },\r\n",
      "     \"eeb9f23bc50246b294217338e9e6d8b1\": {\r\n",
      "      \"model_module\": \"@jupyter-widgets/base\",\r\n",
      "      \"model_module_version\": \"1.2.0\",\r\n",
      "      \"model_name\": \"LayoutModel\",\r\n",
      "      \"state\": {}\r\n",
      "     },\r\n",
      "     \"ef23d93c0d9d441ca3bbee49496332e5\": {\r\n",
      "      \"model_module\": \"@jupyter-widgets/base\",\r\n",
      "      \"model_module_version\": \"1.2.0\",\r\n",
      "      \"model_name\": \"LayoutModel\",\r\n",
      "      \"state\": {}\r\n",
      "     },\r\n",
      "     \"f04fac46565b4722b7fb8a9bec55e25f\": {\r\n",
      "      \"model_module\": \"@jupyter-widgets/controls\",\r\n",
      "      \"model_module_version\": \"1.5.0\",\r\n",
      "      \"model_name\": \"ButtonModel\",\r\n",
      "      \"state\": {\r\n",
      "       \"description\": \"Create UUID\",\r\n",
      "       \"layout\": \"IPY_MODEL_91d993962cfb44d6af104a65668dd953\",\r\n",
      "       \"style\": \"IPY_MODEL_297f93246093431e9a2ecba3f0c8346e\"\r\n",
      "      }\r\n",
      "     },\r\n",
      "     \"f0b269ecf76a482889fbd062e14ce710\": {\r\n",
      "      \"model_module\": \"@jupyter-widgets/controls\",\r\n",
      "      \"model_module_version\": \"1.5.0\",\r\n",
      "      \"model_name\": \"DatePickerModel\",\r\n",
      "      \"state\": {\r\n",
      "       \"description\": \"Exp. Date:\",\r\n",
      "       \"disabled\": false,\r\n",
      "       \"layout\": \"IPY_MODEL_47bce7de35794a9fa6a22e62bb25f4f1\",\r\n",
      "       \"style\": \"IPY_MODEL_fd29a4a4b35f4fc1a7b881855b6bff14\"\r\n",
      "      }\r\n",
      "     },\r\n",
      "     \"f1a783665e8b414898c3b5c5c55ec157\": {\r\n",
      "      \"model_module\": \"@jupyter-widgets/controls\",\r\n",
      "      \"model_module_version\": \"1.5.0\",\r\n",
      "      \"model_name\": \"VBoxModel\",\r\n",
      "      \"state\": {\r\n",
      "       \"children\": [\r\n",
      "        \"IPY_MODEL_52e374a952264bf9a0c3b0fe7dcdacd3\",\r\n",
      "        \"IPY_MODEL_6fc8cff7d568472a913c226f6d875cbb\",\r\n",
      "        \"IPY_MODEL_1d85d2d7587c4aea8477c579889626b9\"\r\n",
      "       ],\r\n",
      "       \"layout\": \"IPY_MODEL_0ed21d4cbb75435d856e161a11390acf\"\r\n",
      "      }\r\n",
      "     },\r\n",
      "     \"f2743c5729084a04bc7d41e81e492d34\": {\r\n",
      "      \"model_module\": \"@jupyter-widgets/controls\",\r\n",
      "      \"model_module_version\": \"1.5.0\",\r\n",
      "      \"model_name\": \"ButtonStyleModel\",\r\n",
      "      \"state\": {}\r\n",
      "     },\r\n",
      "     \"f2868be32c0045b88dc057eb1df6a807\": {\r\n",
      "      \"model_module\": \"@jupyter-widgets/base\",\r\n",
      "      \"model_module_version\": \"1.2.0\",\r\n",
      "      \"model_name\": \"LayoutModel\",\r\n",
      "      \"state\": {}\r\n",
      "     },\r\n",
      "     \"f2b98c893f7f4dd1a3f10450b2621933\": {\r\n",
      "      \"model_module\": \"@jupyter-widgets/base\",\r\n",
      "      \"model_module_version\": \"1.2.0\",\r\n",
      "      \"model_name\": \"LayoutModel\",\r\n",
      "      \"state\": {}\r\n",
      "     },\r\n",
      "     \"f2c4a961cb404c7daf3b56dddce01c11\": {\r\n",
      "      \"model_module\": \"@jupyter-widgets/base\",\r\n",
      "      \"model_module_version\": \"1.2.0\",\r\n",
      "      \"model_name\": \"LayoutModel\",\r\n",
      "      \"state\": {}\r\n",
      "     },\r\n",
      "     \"f2e4889116064f038b3e0d1e337a1c64\": {\r\n",
      "      \"model_module\": \"@jupyter-widgets/controls\",\r\n",
      "      \"model_module_version\": \"1.5.0\",\r\n",
      "      \"model_name\": \"DescriptionStyleModel\",\r\n",
      "      \"state\": {\r\n",
      "       \"description_width\": \"\"\r\n",
      "      }\r\n",
      "     },\r\n",
      "     \"f481c5ff1d954d619d0016cccf776a5c\": {\r\n",
      "      \"model_module\": \"@jupyter-widgets/base\",\r\n",
      "      \"model_module_version\": \"1.2.0\",\r\n",
      "      \"model_name\": \"LayoutModel\",\r\n",
      "      \"state\": {}\r\n",
      "     },\r\n",
      "     \"f49657355efc48a1aa65591b01e31312\": {\r\n",
      "      \"model_module\": \"@jupyter-widgets/base\",\r\n",
      "      \"model_module_version\": \"1.2.0\",\r\n",
      "      \"model_name\": \"LayoutModel\",\r\n",
      "      \"state\": {}\r\n",
      "     },\r\n",
      "     \"f502236dbe5e483bb1c58030676e68b3\": {\r\n",
      "      \"model_module\": \"@jupyter-widgets/controls\",\r\n",
      "      \"model_module_version\": \"1.5.0\",\r\n",
      "      \"model_name\": \"DatePickerModel\",\r\n",
      "      \"state\": {\r\n",
      "       \"description\": \"Exp. Date:\",\r\n",
      "       \"disabled\": false,\r\n",
      "       \"layout\": \"IPY_MODEL_e927b369f0f547dfb7a501b9dfa821ea\",\r\n",
      "       \"style\": \"IPY_MODEL_01872858336b4f149fa4f085fdf7ee34\"\r\n",
      "      }\r\n",
      "     },\r\n",
      "     \"f5b6b4f3de894206b91dbaab06124f22\": {\r\n",
      "      \"model_module\": \"@jupyter-widgets/controls\",\r\n",
      "      \"model_module_version\": \"1.5.0\",\r\n",
      "      \"model_name\": \"DescriptionStyleModel\",\r\n",
      "      \"state\": {\r\n",
      "       \"description_width\": \"\"\r\n",
      "      }\r\n",
      "     },\r\n",
      "     \"f5f9e1f149f645e89ef656685538ee5f\": {\r\n",
      "      \"model_module\": \"@jupyter-widgets/base\",\r\n",
      "      \"model_module_version\": \"1.2.0\",\r\n",
      "      \"model_name\": \"LayoutModel\",\r\n",
      "      \"state\": {}\r\n",
      "     },\r\n",
      "     \"f5ff5f79b38140fdb65752b2507ab8e6\": {\r\n",
      "      \"model_module\": \"@jupyter-widgets/controls\",\r\n",
      "      \"model_module_version\": \"1.5.0\",\r\n",
      "      \"model_name\": \"VBoxModel\",\r\n",
      "      \"state\": {\r\n",
      "       \"children\": [\r\n",
      "        \"IPY_MODEL_56020677244f4821b7383c1e9c06af55\",\r\n",
      "        \"IPY_MODEL_81ef746cc4fb4932b2669930fb674e07\",\r\n",
      "        \"IPY_MODEL_e49f4563050b42fe9c9a42a5d5fbaa43\"\r\n",
      "       ],\r\n",
      "       \"layout\": \"IPY_MODEL_ae3a667efdfa4ffbaaac93574fb0e3b2\"\r\n",
      "      }\r\n",
      "     },\r\n",
      "     \"f60a554415ce4537a0312b668e828e7c\": {\r\n",
      "      \"model_module\": \"@jupyter-widgets/controls\",\r\n",
      "      \"model_module_version\": \"1.5.0\",\r\n",
      "      \"model_name\": \"VBoxModel\",\r\n",
      "      \"state\": {\r\n",
      "       \"children\": [\r\n",
      "        \"IPY_MODEL_56020677244f4821b7383c1e9c06af55\",\r\n",
      "        \"IPY_MODEL_81ef746cc4fb4932b2669930fb674e07\",\r\n",
      "        \"IPY_MODEL_e49f4563050b42fe9c9a42a5d5fbaa43\"\r\n",
      "       ],\r\n",
      "       \"layout\": \"IPY_MODEL_86bddc1cd2084b48ba7923990a12d4f1\"\r\n",
      "      }\r\n",
      "     },\r\n",
      "     \"f662b06e4d744450b7b2aa9cf704617b\": {\r\n",
      "      \"model_module\": \"@jupyter-widgets/controls\",\r\n",
      "      \"model_module_version\": \"1.5.0\",\r\n",
      "      \"model_name\": \"DescriptionStyleModel\",\r\n",
      "      \"state\": {\r\n",
      "       \"description_width\": \"\"\r\n",
      "      }\r\n",
      "     },\r\n",
      "     \"f6f9e5a587f341c6b405be372a877e91\": {\r\n",
      "      \"model_module\": \"@jupyter-widgets/controls\",\r\n",
      "      \"model_module_version\": \"1.5.0\",\r\n",
      "      \"model_name\": \"DropdownModel\",\r\n",
      "      \"state\": {\r\n",
      "       \"_options_labels\": [\r\n",
      "        \"Calcium\",\r\n",
      "        \"Ephys\",\r\n",
      "        \"Fluidics\",\r\n",
      "        \"Imaginging\",\r\n",
      "        \"MEA\",\r\n",
      "        \"Patch Clamp\"\r\n",
      "       ],\r\n",
      "       \"description\": \"Type:\",\r\n",
      "       \"index\": 0,\r\n",
      "       \"layout\": \"IPY_MODEL_c3b8f2f1266d46a0a5058861a37ad207\",\r\n",
      "       \"style\": \"IPY_MODEL_54bd7eb75edf4f398bd1ac79535ebc12\"\r\n",
      "      }\r\n",
      "     },\r\n",
      "     \"f7779043b0d240ffa25315d2758eeb22\": {\r\n",
      "      \"model_module\": \"@jupyter-widgets/controls\",\r\n",
      "      \"model_module_version\": \"1.5.0\",\r\n",
      "      \"model_name\": \"DropdownModel\",\r\n",
      "      \"state\": {\r\n",
      "       \"_options_labels\": [\r\n",
      "        \"Calcium\",\r\n",
      "        \"Ephys\",\r\n",
      "        \"Fluidics\",\r\n",
      "        \"Imagingi\",\r\n",
      "        \"MEA\",\r\n",
      "        \"Patch Clamp\"\r\n",
      "       ],\r\n",
      "       \"description\": \"Type:\",\r\n",
      "       \"index\": 0,\r\n",
      "       \"layout\": \"IPY_MODEL_86270a2b0e194f0499bc02ed11a87717\",\r\n",
      "       \"style\": \"IPY_MODEL_41cbc551698549bea5a952b064671b46\"\r\n",
      "      }\r\n",
      "     },\r\n",
      "     \"f82803bcefeb4f5ab437d8c30133c16d\": {\r\n",
      "      \"model_module\": \"@jupyter-widgets/controls\",\r\n",
      "      \"model_module_version\": \"1.5.0\",\r\n",
      "      \"model_name\": \"TextModel\",\r\n",
      "      \"state\": {\r\n",
      "       \"description\": \"Name: \",\r\n",
      "       \"layout\": \"IPY_MODEL_678f903b72bf4277952c8775593646c6\",\r\n",
      "       \"placeholder\": \"Enter experiment name\",\r\n",
      "       \"style\": \"IPY_MODEL_a910f95a2c6847be9f20f5cb0fa04526\"\r\n",
      "      }\r\n",
      "     },\r\n",
      "     \"f882455530e7494ea018bd0f0f44ccb2\": {\r\n",
      "      \"model_module\": \"@jupyter-widgets/base\",\r\n",
      "      \"model_module_version\": \"1.2.0\",\r\n",
      "      \"model_name\": \"LayoutModel\",\r\n",
      "      \"state\": {}\r\n",
      "     },\r\n",
      "     \"f8b02b924b174aa880e949e41e35ad92\": {\r\n",
      "      \"model_module\": \"@jupyter-widgets/controls\",\r\n",
      "      \"model_module_version\": \"1.5.0\",\r\n",
      "      \"model_name\": \"HBoxModel\",\r\n",
      "      \"state\": {\r\n",
      "       \"children\": [\r\n",
      "        \"IPY_MODEL_53979001ba8c47e08d5467964b47268c\",\r\n",
      "        \"IPY_MODEL_e3a6e1156afc459cb4a51a355661121f\",\r\n",
      "        \"IPY_MODEL_bb2ec0a7ff07486bb334a453817084a1\"\r\n",
      "       ],\r\n",
      "       \"layout\": \"IPY_MODEL_0e73e2f614d1423a95b8884f147a99c3\"\r\n",
      "      }\r\n",
      "     },\r\n",
      "     \"f9528522a1eb4988872382b56bbc777d\": {\r\n",
      "      \"model_module\": \"@jupyter-widgets/controls\",\r\n",
      "      \"model_module_version\": \"1.5.0\",\r\n",
      "      \"model_name\": \"DescriptionStyleModel\",\r\n",
      "      \"state\": {\r\n",
      "       \"description_width\": \"\"\r\n",
      "      }\r\n",
      "     },\r\n",
      "     \"f96c8998e1a8466485fedc6453df0343\": {\r\n",
      "      \"model_module\": \"@jupyter-widgets/controls\",\r\n",
      "      \"model_module_version\": \"1.5.0\",\r\n",
      "      \"model_name\": \"ButtonStyleModel\",\r\n",
      "      \"state\": {}\r\n",
      "     },\r\n",
      "     \"fa6e4f945c1c4de0be6f1cec92b3ca8f\": {\r\n",
      "      \"model_module\": \"@jupyter-widgets/controls\",\r\n",
      "      \"model_module_version\": \"1.5.0\",\r\n",
      "      \"model_name\": \"DescriptionStyleModel\",\r\n",
      "      \"state\": {\r\n",
      "       \"description_width\": \"\"\r\n",
      "      }\r\n",
      "     },\r\n",
      "     \"fbc99fe353c247e4b2fa7bc8d2b89185\": {\r\n",
      "      \"model_module\": \"@jupyter-widgets/controls\",\r\n",
      "      \"model_module_version\": \"1.5.0\",\r\n",
      "      \"model_name\": \"DropdownModel\",\r\n",
      "      \"state\": {\r\n",
      "       \"_options_labels\": [\r\n",
      "        \"MEA\",\r\n",
      "        \"Axion\",\r\n",
      "        \"SeaMoss\",\r\n",
      "        \"Roberts\"\r\n",
      "       ],\r\n",
      "       \"description\": \"Type:\",\r\n",
      "       \"index\": 0,\r\n",
      "       \"layout\": \"IPY_MODEL_17d73719afd043a0be6a4cdaec09e57d\",\r\n",
      "       \"style\": \"IPY_MODEL_825e709634394410909a52df05915fc3\"\r\n",
      "      }\r\n",
      "     },\r\n",
      "     \"fbe8dc92e46b43359bcf43f0aa3aed80\": {\r\n",
      "      \"model_module\": \"@jupyter-widgets/controls\",\r\n",
      "      \"model_module_version\": \"1.5.0\",\r\n",
      "      \"model_name\": \"ButtonStyleModel\",\r\n",
      "      \"state\": {}\r\n",
      "     },\r\n",
      "     \"fd29a4a4b35f4fc1a7b881855b6bff14\": {\r\n",
      "      \"model_module\": \"@jupyter-widgets/controls\",\r\n",
      "      \"model_module_version\": \"1.5.0\",\r\n",
      "      \"model_name\": \"DescriptionStyleModel\",\r\n",
      "      \"state\": {\r\n",
      "       \"description_width\": \"\"\r\n",
      "      }\r\n",
      "     },\r\n",
      "     \"fd6a19ae100d47b8b8e46a7289872e63\": {\r\n",
      "      \"model_module\": \"@jupyter-widgets/base\",\r\n",
      "      \"model_module_version\": \"1.2.0\",\r\n",
      "      \"model_name\": \"LayoutModel\",\r\n",
      "      \"state\": {}\r\n",
      "     },\r\n",
      "     \"fd6d443ee595427795390706af304eec\": {\r\n",
      "      \"model_module\": \"@jupyter-widgets/base\",\r\n",
      "      \"model_module_version\": \"1.2.0\",\r\n",
      "      \"model_name\": \"LayoutModel\",\r\n",
      "      \"state\": {}\r\n",
      "     },\r\n",
      "     \"fd84d25779f24a4098d861e3ddcc4ab4\": {\r\n",
      "      \"model_module\": \"@jupyter-widgets/controls\",\r\n",
      "      \"model_module_version\": \"1.5.0\",\r\n",
      "      \"model_name\": \"TextModel\",\r\n",
      "      \"state\": {\r\n",
      "       \"layout\": \"IPY_MODEL_f2868be32c0045b88dc057eb1df6a807\",\r\n",
      "       \"style\": \"IPY_MODEL_1c4600ebba694c4d80e24b7e193c9c0b\"\r\n",
      "      }\r\n",
      "     },\r\n",
      "     \"fdfe2cdb87d944cdb3ee690ba4286d13\": {\r\n",
      "      \"model_module\": \"@jupyter-widgets/controls\",\r\n",
      "      \"model_module_version\": \"1.5.0\",\r\n",
      "      \"model_name\": \"DropdownModel\",\r\n",
      "      \"state\": {\r\n",
      "       \"_options_labels\": [\r\n",
      "        \"Calcium (c)\",\r\n",
      "        \"Ephys (e)\",\r\n",
      "        \"Fluidics (f)\",\r\n",
      "        \"Imaging (i)\",\r\n",
      "        \"MEA (m)\",\r\n",
      "        \"Patch Clamp (p)\"\r\n",
      "       ],\r\n",
      "       \"description\": \"Type:\",\r\n",
      "       \"index\": 2,\r\n",
      "       \"layout\": \"IPY_MODEL_e1cb5a3755b741adb095af7d55574523\",\r\n",
      "       \"style\": \"IPY_MODEL_bcceea9a826e4291ad86d5d7dde7ff83\"\r\n",
      "      }\r\n",
      "     },\r\n",
      "     \"fe189dbd5f984848936c3a3610665505\": {\r\n",
      "      \"model_module\": \"@jupyter-widgets/controls\",\r\n",
      "      \"model_module_version\": \"1.5.0\",\r\n",
      "      \"model_name\": \"DescriptionStyleModel\",\r\n",
      "      \"state\": {\r\n",
      "       \"description_width\": \"\"\r\n",
      "      }\r\n",
      "     },\r\n",
      "     \"ffad1442a54640e79c240bfd4179bbab\": {\r\n",
      "      \"model_module\": \"@jupyter-widgets/base\",\r\n",
      "      \"model_module_version\": \"1.2.0\",\r\n",
      "      \"model_name\": \"LayoutModel\",\r\n",
      "      \"state\": {}\r\n",
      "     },\r\n",
      "     \"ffb3daf5c07241f0828f0de137da60db\": {\r\n",
      "      \"model_module\": \"@jupyter-widgets/controls\",\r\n",
      "      \"model_module_version\": \"1.5.0\",\r\n",
      "      \"model_name\": \"HBoxModel\",\r\n",
      "      \"state\": {\r\n",
      "       \"children\": [\r\n",
      "        \"IPY_MODEL_3a3c62fdaf5a4f8c965765cbb1416124\",\r\n",
      "        \"IPY_MODEL_398c7439b8b54fc49cb10d438b215beb\",\r\n",
      "        \"IPY_MODEL_0f33cb942f33466fa772493da0636510\"\r\n",
      "       ],\r\n",
      "       \"layout\": \"IPY_MODEL_5dc0b07321a6497c9fce68c5c0bedf0b\"\r\n",
      "      }\r\n",
      "     }\r\n",
      "    },\r\n",
      "    \"version_major\": 2,\r\n",
      "    \"version_minor\": 0\r\n",
      "   }\r\n",
      "  }\r\n",
      " },\r\n",
      " \"nbformat\": 4,\r\n",
      " \"nbformat_minor\": 5\r\n",
      "}\r\n"
     ]
    }
   ],
   "source": [
    "!cat 'Source Code.ipynb'"
   ]
  },
  {
   "cell_type": "code",
   "execution_count": 130,
   "id": "579151c0",
   "metadata": {
    "hidden": true
   },
   "outputs": [
    {
     "ename": "SyntaxError",
     "evalue": "invalid syntax (<ipython-input-130-d9a9a4f7056f>, line 2)",
     "output_type": "error",
     "traceback": [
      "\u001b[0;36m  File \u001b[0;32m\"<ipython-input-130-d9a9a4f7056f>\"\u001b[0;36m, line \u001b[0;32m2\u001b[0m\n\u001b[0;31m    def saveUser( 'Source Code.ipynb' ):\u001b[0m\n\u001b[0m                  ^\u001b[0m\n\u001b[0;31mSyntaxError\u001b[0m\u001b[0;31m:\u001b[0m invalid syntax\n"
     ]
    }
   ],
   "source": [
    "@interact_manual('Source Code.ipynb' = \"\")\n",
    "def saveUser( 'Source Code.ipynb' ):\n",
    "    !echo \"{uuid}\" > 'Source Code.ipynb'"
   ]
  },
  {
   "cell_type": "code",
   "execution_count": null,
   "id": "fb581c84",
   "metadata": {
    "hidden": true
   },
   "outputs": [],
   "source": [
    "@interact_manual()\n",
    "def getUser():\n",
    "    !cat username"
   ]
  },
  {
   "cell_type": "markdown",
   "id": "19942d12",
   "metadata": {
    "hidden": true
   },
   "source": [
    "### <font color=\"green\">Upload Button"
   ]
  },
  {
   "cell_type": "code",
   "execution_count": null,
   "id": "d9a1e819",
   "metadata": {
    "hidden": true
   },
   "outputs": [],
   "source": [
    "#dont use\n",
    "from ipywidgets import FileUpload\n",
    "from IPython.display import display\n",
    "\n",
    "\n",
    "with open('z_merged_output.txt', 'wb') as output_file: \n",
    "    for uploaded_filename in upload.value:\n",
    "        content = upload.value[uploaded_filename]['content']   \n",
    "        output_file.write(content)\n",
    "        \n",
    "\n",
    "upload = FileUpload(multiple=True)\n",
    "display(upload)\n",
    "\n",
    "\n",
    "print(upload.value)"
   ]
  },
  {
   "cell_type": "markdown",
   "id": "90773849",
   "metadata": {
    "hidden": true
   },
   "source": [
    "## <font color=\"orchid\"> Put widgets in pretty box"
   ]
  },
  {
   "cell_type": "code",
   "execution_count": null,
   "id": "516ef8eb",
   "metadata": {
    "hidden": true
   },
   "outputs": [],
   "source": []
  },
  {
   "cell_type": "markdown",
   "id": "ae6860bc",
   "metadata": {
    "hidden": true
   },
   "source": [
    "## <font color=\"blue\">Add function for uploading"
   ]
  },
  {
   "cell_type": "markdown",
   "id": "b07f0d53",
   "metadata": {
    "hidden": true
   },
   "source": [
    "useful code"
   ]
  },
  {
   "cell_type": "code",
   "execution_count": null,
   "id": "c5f46952",
   "metadata": {
    "hidden": true
   },
   "outputs": [],
   "source": [
    "!mkdir {ExpUploader.uuid}"
   ]
  },
  {
   "cell_type": "code",
   "execution_count": null,
   "id": "82605bd5",
   "metadata": {
    "hidden": true
   },
   "outputs": [],
   "source": []
  },
  {
   "cell_type": "markdown",
   "id": "cbbf7206",
   "metadata": {
    "hidden": true
   },
   "source": [
    "## <font color=\"gray\">Reference Material: AWS command line examples:"
   ]
  },
  {
   "cell_type": "markdown",
   "id": "5b05a394",
   "metadata": {
    "hidden": true
   },
   "source": [
    "list files on this computer (relative to the folder where this Jupyter notebook is)"
   ]
  },
  {
   "cell_type": "code",
   "execution_count": null,
   "id": "5263cca0",
   "metadata": {
    "hidden": true
   },
   "outputs": [],
   "source": [
    "!ls"
   ]
  },
  {
   "cell_type": "markdown",
   "id": "64dc3cb4",
   "metadata": {
    "hidden": true
   },
   "source": [
    "list all files in Braingeneers S3 folder on PRP  (long version)"
   ]
  },
  {
   "cell_type": "code",
   "execution_count": null,
   "id": "f9b1f082",
   "metadata": {
    "hidden": true
   },
   "outputs": [],
   "source": [
    "!aws3 ls"
   ]
  },
  {
   "cell_type": "markdown",
   "id": "964c0a47",
   "metadata": {
    "hidden": true
   },
   "source": [
    "list all files in Braingeneers S3 folder on PRP (short version with alias/enviroment variable screated by Elliott)"
   ]
  },
  {
   "cell_type": "code",
   "execution_count": 120,
   "id": "955dd000",
   "metadata": {
    "hidden": true
   },
   "outputs": [
    {
     "name": "stdout",
     "output_type": "stream",
     "text": [
      "                           PRE archive/\r\n",
      "                           PRE ephys/\r\n",
      "                           PRE fluidics/\r\n",
      "                           PRE imaging/\r\n",
      "                           PRE personal/\r\n",
      "2020-11-16 15:05:20  124223564 file_list.json\r\n",
      "2021-01-14 01:36:21  337773221 glacier_list.json\r\n"
     ]
    }
   ],
   "source": [
    "!aws3 ls s3://braingeneers/"
   ]
  },
  {
   "cell_type": "markdown",
   "id": "61fee891",
   "metadata": {
    "hidden": true,
    "slideshow": {
     "slide_type": "slide"
    }
   },
   "source": [
    "**Downloading from cloud:** copy file *from* PRP AWS S3 down to this computer (Format: cp {SOURCE} {DESTINATION})"
   ]
  },
  {
   "cell_type": "code",
   "execution_count": null,
   "id": "30be1b4c",
   "metadata": {
    "hidden": true,
    "slideshow": {
     "slide_type": "slide"
    }
   },
   "outputs": [],
   "source": [
    "!aws3 cp s3://braingeneers/ephys/2020-11-27-e-UCSF-axionplate/derived/metadata.json ."
   ]
  },
  {
   "cell_type": "markdown",
   "id": "44a93c87",
   "metadata": {
    "hidden": true,
    "slideshow": {
     "slide_type": "slide"
    }
   },
   "source": [
    "How to pass variables from Jupyter to Command line"
   ]
  },
  {
   "cell_type": "code",
   "execution_count": null,
   "id": "6b916ea1",
   "metadata": {
    "hidden": true,
    "slideshow": {
     "slide_type": "slide"
    }
   },
   "outputs": [],
   "source": [
    "x = \"ahjkgk\"\n",
    "if True: \n",
    "    !echo {x}\n"
   ]
  },
  {
   "cell_type": "markdown",
   "id": "78a97c9d",
   "metadata": {
    "hidden": true
   },
   "source": [
    "**Upload everything** in local UUID folder --- {UUID} plugs in the variable storing UUID into the terminal command"
   ]
  },
  {
   "cell_type": "code",
   "execution_count": null,
   "id": "91dfebb3",
   "metadata": {
    "hidden": true
   },
   "outputs": [],
   "source": [
    "expUploader.uuid"
   ]
  },
  {
   "cell_type": "code",
   "execution_count": null,
   "id": "36aa4b4a",
   "metadata": {
    "hidden": true
   },
   "outputs": [],
   "source": [
    "!aws3 cp ./{UUID}/ s3://braingeneers/ephys/2020-11-27-e-UCSF-axionplate/ --recursive --public-read\n"
   ]
  },
  {
   "cell_type": "markdown",
   "id": "eb374b85",
   "metadata": {
    "hidden": true
   },
   "source": [
    "copy file *to* PRP AWS S3 from this computer (Format: cp {SOURCE} {DESTINATION}) -- in this case the command is also recursive and copying everything inside \"2021-04-09-e-claudia-test/\" folder on this computer"
   ]
  },
  {
   "cell_type": "code",
   "execution_count": null,
   "id": "fa9a383b",
   "metadata": {
    "hidden": true
   },
   "outputs": [],
   "source": [
    "!aws3 cp ./2021-04-09-e-claudia-test/ s3://braingeneers/ephys/2021-04-09-e-claudia-test/ --acl public-read --recursive #use when uploading to prp\n"
   ]
  },
  {
   "cell_type": "markdown",
   "id": "f1a5439a",
   "metadata": {
    "hidden": true
   },
   "source": [
    "list files in claudia test foler on PRP to check"
   ]
  },
  {
   "cell_type": "code",
   "execution_count": null,
   "id": "a0d85b92",
   "metadata": {
    "hidden": true
   },
   "outputs": [],
   "source": [
    "!aws3 ls s3://braingeneers/ephys/2021-04-09-e-claudia-test/\n"
   ]
  },
  {
   "cell_type": "markdown",
   "id": "0174c5e4",
   "metadata": {
    "heading_collapsed": true
   },
   "source": [
    "# Read JSON"
   ]
  },
  {
   "cell_type": "markdown",
   "id": "514c335d",
   "metadata": {
    "heading_collapsed": true,
    "hidden": true
   },
   "source": [
    "### Simple example"
   ]
  },
  {
   "cell_type": "code",
   "execution_count": null,
   "id": "735af075",
   "metadata": {
    "hidden": true
   },
   "outputs": [],
   "source": [
    "#Read a JSON and print it out with nice formatting\n",
    "import json\n",
    "path_to_json = \"./2021-04-09-e-claudia-test/metadata.json\"\n",
    "with open(path_to_json, \"r\") as fp:\n",
    "    metadata = json.load(fp)\n",
    "    json_formatted_str = json.dumps(metadata, indent=5)\n",
    "    print(json_formatted_str)"
   ]
  },
  {
   "cell_type": "markdown",
   "id": "3e5a618f",
   "metadata": {
    "hidden": true
   },
   "source": [
    "### Fancy Example"
   ]
  },
  {
   "cell_type": "markdown",
   "id": "c33309f2",
   "metadata": {
    "heading_collapsed": true,
    "hidden": true
   },
   "source": [
    "#### Helper function"
   ]
  },
  {
   "cell_type": "code",
   "execution_count": null,
   "id": "fbf5e908",
   "metadata": {
    "hidden": true
   },
   "outputs": [],
   "source": [
    "renderJSON(metadata )"
   ]
  },
  {
   "cell_type": "code",
   "execution_count": null,
   "id": "fc41cdb3",
   "metadata": {
    "hidden": true
   },
   "outputs": [],
   "source": [
    "#Elliott's code for JSON\n",
    "import uuid\n",
    "class renderJSON(object):\n",
    "    def __init__(self, json_data):\n",
    "        if isinstance(json_data, dict):\n",
    "            self.json_str = json.dumps(json_data)\n",
    "        else:\n",
    "            self.json_str = json_data\n",
    "        self.uuid = str(uuid.uuid4())\n",
    "        # This line is missed out in most of the versions of this script across the web, it is essential for this to work interleaved with print statements\n",
    "        self._ipython_display_()\n",
    "        \n",
    "    def _ipython_display_(self):\n",
    "        display(HTML('<div id=\"{}\" style=\"height: auto; width:100%;\"></div>'.format(self.uuid)))\n",
    "        display(HTML(\"\"\"<script>\n",
    "        require([\"https://rawgit.com/caldwell/renderjson/master/renderjson.js\"], function() {\n",
    "          renderjson.set_show_to_level(1)\n",
    "          document.getElementById('%s').appendChild(renderjson(%s))\n",
    "        });</script>\n",
    "        \"\"\" % (self.uuid, self.json_str)))\n",
    "        \n"
   ]
  },
  {
   "cell_type": "markdown",
   "id": "1bc8ba7a",
   "metadata": {},
   "source": [
    "# References for Developers <small>(aka: Claudia)"
   ]
  },
  {
   "cell_type": "code",
   "execution_count": null,
   "id": "c0b82c45",
   "metadata": {},
   "outputs": [],
   "source": [
    "#jupyter widgets tutorial for \n",
    "#buttons, \n",
    "#assigning button function, \n",
    "#dropdown menu "
   ]
  },
  {
   "cell_type": "markdown",
   "id": "f7687070",
   "metadata": {},
   "source": [
    "Use this section to jot down and useful links you may want to remember. Also use this space to write log and errors or issues that you may want to fix later."
   ]
  },
  {
   "cell_type": "markdown",
   "id": "63f6cded",
   "metadata": {},
   "source": [
    "**Useful Links**\n",
    "* [Organizing Data Wiki](https://github.com/braingeneers/wiki/blob/main/shared/organizing-data.md)\n",
    "* [Do the wetAI tutorials](http://wetai.gi.ucsc.edu:8008/tree/Apps/braingeneers/Learn_WetAI)\n",
    "* [List of jupyter widgets](https://ipywidgets.readthedocs.io/en/latest/examples/Widget%20List.html)\n"
   ]
  },
  {
   "cell_type": "code",
   "execution_count": null,
   "id": "minus-extraction",
   "metadata": {},
   "outputs": [],
   "source": [
    "from ipywidgets import FileUpload\n",
    "from IPython.display import display\n",
    "upload = FileUpload(multiple=True)\n",
    "display(upload)"
   ]
  },
  {
   "cell_type": "code",
   "execution_count": null,
   "id": "de949d90",
   "metadata": {},
   "outputs": [],
   "source": [
    "print(upload.value)"
   ]
  },
  {
   "cell_type": "code",
   "execution_count": null,
   "id": "e98b1b04",
   "metadata": {},
   "outputs": [],
   "source": [
    "with open('z_merged_output.txt', 'wb') as output_file: \n",
    "    for uploaded_filename in upload.value:\n",
    "        content = upload.value[uploaded_filename]['content']   \n",
    "        output_file.write(content) "
   ]
  },
  {
   "cell_type": "code",
   "execution_count": null,
   "id": "4c9b0293",
   "metadata": {},
   "outputs": [],
   "source": []
  },
  {
   "cell_type": "markdown",
   "id": "musical-component",
   "metadata": {
    "heading_collapsed": true
   },
   "source": [
    "### Create Experiment JSONS\n",
    "Each experiment with \"filename\".* should have a corresponding \"filename\".json file, which describes the experiment"
   ]
  },
  {
   "cell_type": "markdown",
   "id": "capital-chick",
   "metadata": {
    "hidden": true
   },
   "source": [
    "Example: **6well-intancontroller.json**\n",
    "\n",
    "        {\n",
    "            \"blocks\": [\n",
    "                {\n",
    "                    \"num_frames\": 1200240,\n",
    "                    \"path\": \"6well-intancontroller_201006_182018.bin\",\n",
    "                    \"source\": \"./original/2020-10-06-e-UCSF-neurons-axionplate/6well-intancontroller_201006_182018.rhd\",\n",
    "                    \"timestamp\": \"2020-10-06T18:20:18\"\n",
    "                },\n",
    "                {\n",
    "                    \"num_frames\": 1200240,\n",
    "                    \"path\": \"6well-intancontroller_201006_182124.bin\",\n",
    "                    \"source\": \"./original/2020-10-06-e-UCSF-neurons-axionplate/6well-intancontroller_201006_182124.rhd\",\n",
    "                    \"timestamp\": \"2020-10-06T18:21:24\"\n",
    "                },\n",
    "                {\n",
    "                    \"num_frames\": 300240,\n",
    "                    \"path\": \"6well-intancontroller_201006_182235.bin\",\n",
    "                    \"source\": \"./original/2020-10-06-e-UCSF-neurons-axionplate/6well-intancontroller_201006_182235.rhd\",\n",
    "                    \"timestamp\": \"2020-10-06T18:22:35\"\n",
    "                }\n",
    "            ],\n",
    "            \"channels\": [],\n",
    "            \"hardware\": \"Intan RHD 2000 Controller\",\n",
    "            \"name\": \"6well-intancontroller\",\n",
    "            \"notes\": \"\",\n",
    "            \"num_channels\": 32,\n",
    "            \"num_current_input_channels\": 0,\n",
    "            \"num_voltage_channels\": 32,\n",
    "            \"offset\": 0,\n",
    "            \"sample_rate\": 20000,\n",
    "            \"scaler\": 0.195,\n",
    "            \"timestamp\": \"2020-10-06T18:20:18\",\n",
    "            \"units\": \"\\u00b5V\",\n",
    "            \"version\": \"0.0.1\"\n",
    "        }\n",
    "    "
   ]
  },
  {
   "cell_type": "markdown",
   "id": "innocent-scholar",
   "metadata": {
    "hidden": true
   },
   "source": [
    "Provide ephys, fluidics, imaging, calcium, patchclamp templates"
   ]
  },
  {
   "cell_type": "markdown",
   "id": "incorporated-bernard",
   "metadata": {
    "hidden": true
   },
   "source": [
    "For each experiment, provide a JSON:"
   ]
  },
  {
   "cell_type": "code",
   "execution_count": null,
   "id": "specialized-virtue",
   "metadata": {
    "hidden": true
   },
   "outputs": [],
   "source": [
    "#Make JSONs\n"
   ]
  },
  {
   "cell_type": "markdown",
   "id": "sticky-cliff",
   "metadata": {},
   "source": [
    "### Copy Your Data to PRP S3"
   ]
  },
  {
   "cell_type": "code",
   "execution_count": null,
   "id": "located-thanksgiving",
   "metadata": {},
   "outputs": [],
   "source": [
    "#[press a button to copy]\n"
   ]
  },
  {
   "cell_type": "code",
   "execution_count": null,
   "id": "ba395fe6",
   "metadata": {},
   "outputs": [],
   "source": []
  },
  {
   "cell_type": "code",
   "execution_count": null,
   "id": "23ddc6b9",
   "metadata": {},
   "outputs": [],
   "source": []
  },
  {
   "cell_type": "code",
   "execution_count": null,
   "id": "45692ff9",
   "metadata": {},
   "outputs": [],
   "source": []
  },
  {
   "cell_type": "code",
   "execution_count": null,
   "id": "05fd3e2f",
   "metadata": {},
   "outputs": [],
   "source": []
  },
  {
   "cell_type": "markdown",
   "id": "adolescent-patrol",
   "metadata": {},
   "source": [
    "### Post a Github Issue To Announce the Dataset"
   ]
  },
  {
   "cell_type": "markdown",
   "id": "cultural-victoria",
   "metadata": {},
   "source": [
    "**Github issue content:**\n",
    "\n",
    "Title: Experiment UUID\n",
    "\n",
    "Body: Medatata.json?? as plaintext? \n",
    "\n",
    "+ info about who uploaded it & did the experiment"
   ]
  },
  {
   "cell_type": "code",
   "execution_count": null,
   "id": "moving-regular",
   "metadata": {},
   "outputs": [],
   "source": [
    "#Preview content before posting???\n",
    "# print JSONs, etc."
   ]
  },
  {
   "cell_type": "code",
   "execution_count": null,
   "id": "computational-anchor",
   "metadata": {},
   "outputs": [],
   "source": [
    "#[press a button to post github issue]\n",
    "# How to post an automated github issue with Python: https://gist.github.com/JeffPaine/3145490"
   ]
  },
  {
   "cell_type": "markdown",
   "id": "comprehensive-sender",
   "metadata": {},
   "source": []
  },
  {
   "cell_type": "code",
   "execution_count": null,
   "id": "7abcac52",
   "metadata": {},
   "outputs": [],
   "source": []
  },
  {
   "cell_type": "code",
   "execution_count": null,
   "id": "aa80fd94",
   "metadata": {},
   "outputs": [],
   "source": []
  },
  {
   "cell_type": "code",
   "execution_count": null,
   "id": "d812d53d",
   "metadata": {},
   "outputs": [],
   "source": []
  },
  {
   "cell_type": "markdown",
   "id": "organic-giving",
   "metadata": {},
   "source": [
    "# Create a Metadata JSON File"
   ]
  },
  {
   "cell_type": "markdown",
   "id": "conscious-village",
   "metadata": {},
   "source": [
    "Experiment should have a **metadata.json** file which looks like this: \n",
    "\n",
    "        {\n",
    "        \"experiments\": [\n",
    "            \"6well-raspi-2020-10-06-18-28-54.json\",\n",
    "            \"6well-raspi-2020-10-06-18-30-17.json\",\n",
    "            \"6well-intancontroller.json\",\n",
    "            \"24well-intancontroller.json\"\n",
    "        ],\n",
    "        \"issue\": \" \",\n",
    "        \"notes\": \" \",\n",
    "        \"timestamp\": \"2020-10-06T17:41:31\",\n",
    "        \"uuid\": \"2020-10-06-e-UCSF-neurons-axionplate\"\n",
    "        }"
   ]
  },
  {
   "cell_type": "code",
   "execution_count": null,
   "id": "american-benefit",
   "metadata": {},
   "outputs": [],
   "source": [
    "# Create & save metadata.json\n",
    "\n",
    "# Save JSON file\n",
    "with open(UUID, \"rw\") as fp:\n",
    "    metadata = json.load(fp)\n",
    "    #metadata[\"experiments\"] = json_names\n",
    "    #metadata[\"timestamp\"] = \"2020-10-06T12:49:12\"\n",
    "    #metadata[\"uuid\"] = \"2020-10-06-e-UCSF-neurons-axionplate\"\n",
    "    #metadata[\"notes\"] = \"https://docs.google.com/document/d/1rphuB7pzRtAYW-MH67JWsbju1k_fUGopBwyqy2NniSk/edit?usp=sharing\"\n",
    "    json.dump(metadata, fp)\n",
    "print(\"Saved!\\n\")\n",
    "# Display JSON\n",
    "print(json.dumps(metadata, indent=4))"
   ]
  },
  {
   "cell_type": "code",
   "execution_count": null,
   "id": "proper-thumbnail",
   "metadata": {},
   "outputs": [],
   "source": [
    "#check an exitsing json\n",
    "e_guid = \"derived/2020-11-27-e-UCSF-axionplate/cells_faraday_1.json\"\n",
    "\n",
    "with open(e_guid, \"r\") as fp:\n",
    "    metadata = json.load(fp)\n",
    "\n",
    "# Display JSON\n",
    "print(json.dumps(metadata, indent=4))\n",
    "\n"
   ]
  },
  {
   "cell_type": "markdown",
   "id": "1c536796",
   "metadata": {},
   "source": [
    "# Extra Code dump"
   ]
  },
  {
   "cell_type": "code",
   "execution_count": null,
   "id": "ambient-procedure",
   "metadata": {
    "slideshow": {
     "slide_type": "slide"
    }
   },
   "outputs": [],
   "source": [
    "#scrap code\n",
    "if UUID[11] == 'e': experiment_type = \"ephys\"\n",
    "if UUID[11] == 'f': experiment_type = \"fluidics\"\n",
    "if UUID[11] == 'i': experiment_type = \"imaging\"\n",
    "if UUID[11] == 'c': experiment_type = \"calcium\"\n",
    "if UUID[11] == 'p': experiment_type = \"patchclamp\"\n",
    "\n",
    "\n",
    "SOURCE=\"./*\"\n",
    "DESTINATION=\"s3://braingeneers/\" + experiment_type +\"/\" + UUID + \"/\"\n",
    "\n",
    "!aws --endpoint https://s3.nautilus.optiputer.net s3 cp $SOURCE $DESTINATION\n",
    "!aws --endpoint https://s3.nautilus.optiputer.net s3 ls s3://braingeneers/\n",
    "!aws3 ls s3://braingeneers/ "
   ]
  },
  {
   "cell_type": "code",
   "execution_count": null,
   "id": "1b416313",
   "metadata": {},
   "outputs": [],
   "source": [
    "#Elliott's code for JSON\n",
    "class renderJSON(object):\n",
    "    def __init__(self, json_data):\n",
    "        if isinstance(json_data, dict):\n",
    "            self.json_str = json.dumps(json_data)\n",
    "        else:\n",
    "            self.json_str = json_data\n",
    "        self.uuid = str(uuid.uuid4())\n",
    "        # This line is missed out in most of the versions of this script across the web, it is essential for this to work interleaved with print statements\n",
    "        self._ipython_display_()\n",
    "        \n",
    "    def _ipython_display_(self):\n",
    "        display(HTML('<div id=\"{}\" style=\"height: auto; width:100%;\"></div>'.format(self.uuid)))\n",
    "        display(HTML(\"\"\"<script>\n",
    "        require([\"https://rawgit.com/caldwell/renderjson/master/renderjson.js\"], function() {\n",
    "          renderjson.set_show_to_level(1)\n",
    "          document.getElementById('%s').appendChild(renderjson(%s))\n",
    "        });</script>\n",
    "        \"\"\" % (self.uuid, self.json_str)))\n",
    "        \n"
   ]
  },
  {
   "cell_type": "code",
   "execution_count": null,
   "id": "915f7e66",
   "metadata": {},
   "outputs": [],
   "source": [
    "import uuid"
   ]
  },
  {
   "cell_type": "code",
   "execution_count": null,
   "id": "91df2f44",
   "metadata": {},
   "outputs": [],
   "source": [
    "renderJSON(metadata )"
   ]
  },
  {
   "cell_type": "code",
   "execution_count": null,
   "id": "286ee819",
   "metadata": {},
   "outputs": [],
   "source": []
  },
  {
   "cell_type": "code",
   "execution_count": null,
   "id": "2375d8c4",
   "metadata": {},
   "outputs": [],
   "source": [
    "#renderJSON(metadata)"
   ]
  }
 ],
 "metadata": {
  "hide_input": false,
  "kernelspec": {
   "display_name": "Python 3",
   "language": "python",
   "name": "python3"
  },
  "language_info": {
   "codemirror_mode": {
    "name": "ipython",
    "version": 3
   },
   "file_extension": ".py",
   "mimetype": "text/x-python",
   "name": "python",
   "nbconvert_exporter": "python",
   "pygments_lexer": "ipython3",
   "version": "3.8.8"
  },
  "toc": {
   "base_numbering": 1,
   "nav_menu": {},
   "number_sections": true,
   "sideBar": true,
   "skip_h1_title": false,
   "title_cell": "Table of Contents",
   "title_sidebar": "Contents",
   "toc_cell": false,
   "toc_position": {},
   "toc_section_display": true,
   "toc_window_display": false
  },
  "varInspector": {
   "cols": {
    "lenName": 16,
    "lenType": 16,
    "lenVar": 40
   },
   "kernels_config": {
    "python": {
     "delete_cmd_postfix": "",
     "delete_cmd_prefix": "del ",
     "library": "var_list.py",
     "varRefreshCmd": "print(var_dic_list())"
    },
    "r": {
     "delete_cmd_postfix": ") ",
     "delete_cmd_prefix": "rm(",
     "library": "var_list.r",
     "varRefreshCmd": "cat(var_dic_list()) "
    }
   },
   "types_to_exclude": [
    "module",
    "function",
    "builtin_function_or_method",
    "instance",
    "_Feature"
   ],
   "window_display": false
  },
  "widgets": {
   "application/vnd.jupyter.widget-state+json": {
    "state": {
     "00206c53f56445f7b81e5a84a59ca8b8": {
      "model_module": "@jupyter-widgets/controls",
      "model_module_version": "1.5.0",
      "model_name": "DescriptionStyleModel",
      "state": {
       "description_width": ""
      }
     },
     "0125b3df10864bc28c7aa72c16761893": {
      "model_module": "@jupyter-widgets/base",
      "model_module_version": "1.2.0",
      "model_name": "LayoutModel",
      "state": {}
     },
     "014b03db57894f2ea254cb030459be75": {
      "model_module": "@jupyter-widgets/base",
      "model_module_version": "1.2.0",
      "model_name": "LayoutModel",
      "state": {}
     },
     "01872858336b4f149fa4f085fdf7ee34": {
      "model_module": "@jupyter-widgets/controls",
      "model_module_version": "1.5.0",
      "model_name": "DescriptionStyleModel",
      "state": {
       "description_width": ""
      }
     },
     "0189947d5bda4b58a1c66d9427c710f9": {
      "model_module": "@jupyter-widgets/controls",
      "model_module_version": "1.5.0",
      "model_name": "DatePickerModel",
      "state": {
       "description": "Exp. Date:",
       "disabled": false,
       "layout": "IPY_MODEL_81ac8ee36ac2417687d201b565a9da25",
       "style": "IPY_MODEL_ed11a7cd0a87405b9d9437066e250b9c"
      }
     },
     "01b13c18f8cc44ccae570619bca9c4d9": {
      "model_module": "@jupyter-widgets/controls",
      "model_module_version": "1.5.0",
      "model_name": "HTMLModel",
      "state": {
       "layout": "IPY_MODEL_cdc3818e8ecd4d4f9536be296682ee96",
       "style": "IPY_MODEL_00206c53f56445f7b81e5a84a59ca8b8",
       "value": "<h3 class = 'text-center'><font color='purple'>createUUID</font>"
      }
     },
     "02e5234163434ce28e77103628150e51": {
      "model_module": "@jupyter-widgets/controls",
      "model_module_version": "1.5.0",
      "model_name": "ButtonStyleModel",
      "state": {}
     },
     "03946f8f6d8a42928edb78a91f1c20cc": {
      "model_module": "@jupyter-widgets/controls",
      "model_module_version": "1.5.0",
      "model_name": "DescriptionStyleModel",
      "state": {
       "description_width": ""
      }
     },
     "043b104d4c4b48e88725f4c3c1d4c5e0": {
      "model_module": "@jupyter-widgets/controls",
      "model_module_version": "1.5.0",
      "model_name": "ButtonModel",
      "state": {
       "description": "Create UUID",
       "layout": "IPY_MODEL_dcaab493706f46a594f1bd88cd39b0cc",
       "style": "IPY_MODEL_e33bb9f52e1342dfa001b701fbb7227c",
       "tooltip": "UUID format: YYYY-MM-DD- experiment type - experiment shorthand"
      }
     },
     "04416a8311374952be95108635895d69": {
      "model_module": "@jupyter-widgets/controls",
      "model_module_version": "1.5.0",
      "model_name": "DescriptionStyleModel",
      "state": {
       "description_width": ""
      }
     },
     "04d7c58bb80c4638918ea2d83e0d4fda": {
      "model_module": "@jupyter-widgets/controls",
      "model_module_version": "1.5.0",
      "model_name": "ButtonStyleModel",
      "state": {}
     },
     "05ba809ffef04b4389574c21e0e14633": {
      "model_module": "@jupyter-widgets/base",
      "model_module_version": "1.2.0",
      "model_name": "LayoutModel",
      "state": {}
     },
     "0613f092cd46488fbe68cef654ba6b53": {
      "model_module": "@jupyter-widgets/controls",
      "model_module_version": "1.5.0",
      "model_name": "ButtonModel",
      "state": {
       "description": "Create UUID",
       "layout": "IPY_MODEL_1b04a6d25f694a25a7b24f6142b91521",
       "style": "IPY_MODEL_6742a928b9994912916d03a6ae97ca60",
       "tooltip": "Create UUID"
      }
     },
     "06277a43dedc4cf78d51977382824df5": {
      "model_module": "@jupyter-widgets/controls",
      "model_module_version": "1.5.0",
      "model_name": "ButtonStyleModel",
      "state": {}
     },
     "068d462235b4408d990c21b2a54218c6": {
      "model_module": "@jupyter-widgets/base",
      "model_module_version": "1.2.0",
      "model_name": "LayoutModel",
      "state": {}
     },
     "06c1e7d99f6846fcb9323cf2e54b6c69": {
      "model_module": "@jupyter-widgets/controls",
      "model_module_version": "1.5.0",
      "model_name": "DropdownModel",
      "state": {
       "_options_labels": [
        "Patch clamp",
        "whole cell",
        "micromanipulator"
       ],
       "description": "Clamp type:",
       "index": 0,
       "layout": "IPY_MODEL_a3d75f8cbb974c66b3265ae0c7c2e349",
       "style": "IPY_MODEL_1021633910a04aeb8aa4952d829cc7ee"
      }
     },
     "087937753c644fe88c68f898d59de717": {
      "model_module": "@jupyter-widgets/base",
      "model_module_version": "1.2.0",
      "model_name": "LayoutModel",
      "state": {}
     },
     "08bd2d4ce4cd4c80b9ba182f683e37d9": {
      "model_module": "@jupyter-widgets/controls",
      "model_module_version": "1.5.0",
      "model_name": "DescriptionStyleModel",
      "state": {
       "description_width": ""
      }
     },
     "09ef5cd9c5b549c88798c57a91554b6a": {
      "model_module": "@jupyter-widgets/controls",
      "model_module_version": "1.5.0",
      "model_name": "ButtonStyleModel",
      "state": {}
     },
     "0bdd7af2c31f4fb7984c55dfb6dcfef7": {
      "model_module": "@jupyter-widgets/controls",
      "model_module_version": "1.5.0",
      "model_name": "DescriptionStyleModel",
      "state": {
       "description_width": ""
      }
     },
     "0c206f04037c447e8d213899af075893": {
      "model_module": "@jupyter-widgets/controls",
      "model_module_version": "1.5.0",
      "model_name": "DescriptionStyleModel",
      "state": {
       "description_width": ""
      }
     },
     "0c4ba759b2aa480da2e5f9006f6fedfb": {
      "model_module": "@jupyter-widgets/controls",
      "model_module_version": "1.5.0",
      "model_name": "VBoxModel",
      "state": {
       "children": [
        "IPY_MODEL_52e374a952264bf9a0c3b0fe7dcdacd3",
        "IPY_MODEL_6fc8cff7d568472a913c226f6d875cbb"
       ],
       "layout": "IPY_MODEL_344af883c23346758aae2c30a529f386"
      }
     },
     "0c9022f2dd37465691fddd2a7e971813": {
      "model_module": "@jupyter-widgets/controls",
      "model_module_version": "1.5.0",
      "model_name": "TextModel",
      "state": {
       "layout": "IPY_MODEL_a6ed29c49a3b4a76a34882be8a682a9f",
       "style": "IPY_MODEL_08bd2d4ce4cd4c80b9ba182f683e37d9"
      }
     },
     "0d71dce423ac456ca13a973275bf4b95": {
      "model_module": "@jupyter-widgets/controls",
      "model_module_version": "1.5.0",
      "model_name": "TextModel",
      "state": {
       "description": "Name: ",
       "layout": "IPY_MODEL_8c6763073fea4387a1e4296827ff4cee",
       "placeholder": "Enter experiment name",
       "style": "IPY_MODEL_b8c45263e25c418284f0a99de21fa63f"
      }
     },
     "0db373cfdb724987899ff9ef1399eeff": {
      "model_module": "@jupyter-widgets/base",
      "model_module_version": "1.2.0",
      "model_name": "LayoutModel",
      "state": {}
     },
     "0db4ce97afbf41f3af90b1f39159c18e": {
      "model_module": "@jupyter-widgets/controls",
      "model_module_version": "1.5.0",
      "model_name": "DropdownModel",
      "state": {
       "_options_labels": [
        "MEA",
        "Axion",
        "SeaMoss",
        "Roberts"
       ],
       "description": "Type:",
       "index": 0,
       "layout": "IPY_MODEL_d2baf602595c4d49a4a84788222e3ad4",
       "style": "IPY_MODEL_a596ce1d7352441a86ae80d87f4b2547"
      }
     },
     "0e6bdc1e096148c0a8796c28910dc194": {
      "model_module": "@jupyter-widgets/controls",
      "model_module_version": "1.5.0",
      "model_name": "DescriptionStyleModel",
      "state": {
       "description_width": ""
      }
     },
     "0e73e2f614d1423a95b8884f147a99c3": {
      "model_module": "@jupyter-widgets/base",
      "model_module_version": "1.2.0",
      "model_name": "LayoutModel",
      "state": {}
     },
     "0e96bd81c0a041dcb5b1c6101bce9c71": {
      "model_module": "@jupyter-widgets/controls",
      "model_module_version": "1.5.0",
      "model_name": "ButtonModel",
      "state": {
       "description": "Create UUID",
       "layout": "IPY_MODEL_e80cfb63127645c59bdedbbd2c02b1db",
       "style": "IPY_MODEL_fbe8dc92e46b43359bcf43f0aa3aed80",
       "tooltip": "UUID format: YYYY-MM-DD- experiment type - experiment shorthand"
      }
     },
     "0e9e973a4c0a4f5aa6809df38842aafe": {
      "model_module": "@jupyter-widgets/controls",
      "model_module_version": "1.5.0",
      "model_name": "DescriptionStyleModel",
      "state": {
       "description_width": ""
      }
     },
     "0ea62bdeb65e43768fec10fb08e28bac": {
      "model_module": "@jupyter-widgets/controls",
      "model_module_version": "1.5.0",
      "model_name": "DropdownModel",
      "state": {
       "_options_labels": [
        "Calcium",
        "Ephys",
        "Fluidics",
        "Imagingi",
        "MEA",
        "Patch Clamp"
       ],
       "description": "Type:",
       "index": 0,
       "layout": "IPY_MODEL_2c523b5bcbdb4ea0b5f23fa09b8ed298",
       "style": "IPY_MODEL_9ae648a5d5b24c5b9d64d83cca8dc267"
      }
     },
     "0ed21d4cbb75435d856e161a11390acf": {
      "model_module": "@jupyter-widgets/base",
      "model_module_version": "1.2.0",
      "model_name": "LayoutModel",
      "state": {}
     },
     "0f33cb942f33466fa772493da0636510": {
      "model_module": "@jupyter-widgets/controls",
      "model_module_version": "1.5.0",
      "model_name": "TextModel",
      "state": {
       "description": "Name: ",
       "layout": "IPY_MODEL_bd7f0b0570044fbdaa95ddbdf904edb2",
       "placeholder": "Enter experiment name",
       "style": "IPY_MODEL_04416a8311374952be95108635895d69",
       "value": "MaxOne"
      }
     },
     "0f66fddc2eb64c99ac1b1db62699144e": {
      "model_module": "@jupyter-widgets/base",
      "model_module_version": "1.2.0",
      "model_name": "LayoutModel",
      "state": {}
     },
     "0fb748e0360649fc9799b95f92f4d7fa": {
      "model_module": "@jupyter-widgets/controls",
      "model_module_version": "1.5.0",
      "model_name": "FileUploadModel",
      "state": {
       "description_tooltip": null,
       "layout": "IPY_MODEL_f481c5ff1d954d619d0016cccf776a5c",
       "multiple": true,
       "style": "IPY_MODEL_a0cadf2aa2674dd0abf2b01c8d09303b"
      }
     },
     "0fe317ed2b14466481b5d212d48cc0ae": {
      "model_module": "@jupyter-widgets/controls",
      "model_module_version": "1.5.0",
      "model_name": "ButtonModel",
      "state": {
       "description": "Create UUID",
       "layout": "IPY_MODEL_d259da5e96114272a370175d7467043b",
       "style": "IPY_MODEL_659697b6aa914cc6bb5d0de2a21097fc",
       "tooltip": "UUID format: YYYY-MM-DD- experiment type - experiment shorthand"
      }
     },
     "1021633910a04aeb8aa4952d829cc7ee": {
      "model_module": "@jupyter-widgets/controls",
      "model_module_version": "1.5.0",
      "model_name": "DescriptionStyleModel",
      "state": {
       "description_width": ""
      }
     },
     "10607d03153047deada9da495707b420": {
      "model_module": "@jupyter-widgets/controls",
      "model_module_version": "1.5.0",
      "model_name": "DropdownModel",
      "state": {
       "_options_labels": [
        "MEA",
        "Axion",
        "SeaMoss",
        "Roberts"
       ],
       "description": "Type:",
       "index": 0,
       "layout": "IPY_MODEL_fd6d443ee595427795390706af304eec",
       "style": "IPY_MODEL_10fcfb50626241119ff71a6c76556e80"
      }
     },
     "10af70f7cfd148368037a5ca0737565f": {
      "model_module": "@jupyter-widgets/controls",
      "model_module_version": "1.5.0",
      "model_name": "DescriptionStyleModel",
      "state": {
       "description_width": ""
      }
     },
     "10e1745c43da4e1a93e9db95ece112ef": {
      "model_module": "@jupyter-widgets/base",
      "model_module_version": "1.2.0",
      "model_name": "LayoutModel",
      "state": {}
     },
     "10fcfb50626241119ff71a6c76556e80": {
      "model_module": "@jupyter-widgets/controls",
      "model_module_version": "1.5.0",
      "model_name": "DescriptionStyleModel",
      "state": {
       "description_width": ""
      }
     },
     "12856c32566f45f9afb1878636ca27bb": {
      "model_module": "@jupyter-widgets/controls",
      "model_module_version": "1.5.0",
      "model_name": "DescriptionStyleModel",
      "state": {
       "description_width": ""
      }
     },
     "12d017187bcd482a87461fc14f6bd0b4": {
      "model_module": "@jupyter-widgets/base",
      "model_module_version": "1.2.0",
      "model_name": "LayoutModel",
      "state": {}
     },
     "13287f5202c842989e6d27c76814d422": {
      "model_module": "@jupyter-widgets/controls",
      "model_module_version": "1.5.0",
      "model_name": "ButtonStyleModel",
      "state": {}
     },
     "1441d838d72a45e4ac69b60afbf6ef76": {
      "model_module": "@jupyter-widgets/controls",
      "model_module_version": "1.5.0",
      "model_name": "DropdownModel",
      "state": {
       "_options_labels": [
        "MEA",
        "Axion",
        "SeaMoss",
        "Roberts"
       ],
       "description": "Type:",
       "index": 0,
       "layout": "IPY_MODEL_4797d244902e45f5b756ebd2ee6117df",
       "style": "IPY_MODEL_f5b6b4f3de894206b91dbaab06124f22"
      }
     },
     "146d759ea91a4bd19b646b9dac31482c": {
      "model_module": "@jupyter-widgets/base",
      "model_module_version": "1.2.0",
      "model_name": "LayoutModel",
      "state": {}
     },
     "146fc64d2d35468ab9219ccabb6c73d7": {
      "model_module": "@jupyter-widgets/controls",
      "model_module_version": "1.5.0",
      "model_name": "DescriptionStyleModel",
      "state": {
       "description_width": ""
      }
     },
     "1508c1b406434a919ee334fe9e8a168d": {
      "model_module": "@jupyter-widgets/base",
      "model_module_version": "1.2.0",
      "model_name": "LayoutModel",
      "state": {}
     },
     "15bd7c58a4f44805a9b60059c5eea5e3": {
      "model_module": "@jupyter-widgets/base",
      "model_module_version": "1.2.0",
      "model_name": "LayoutModel",
      "state": {}
     },
     "15e1178446b148c2a362038ffeca2a32": {
      "model_module": "@jupyter-widgets/base",
      "model_module_version": "1.2.0",
      "model_name": "LayoutModel",
      "state": {}
     },
     "16335bb5ff89461ab2a7b86dd09f635d": {
      "model_module": "@jupyter-widgets/base",
      "model_module_version": "1.2.0",
      "model_name": "LayoutModel",
      "state": {}
     },
     "16f128cfb33c4f3e9d0b7b6d34563b37": {
      "model_module": "@jupyter-widgets/controls",
      "model_module_version": "1.5.0",
      "model_name": "DescriptionStyleModel",
      "state": {
       "description_width": ""
      }
     },
     "17d011a2e26c440f923ab6310b3e516a": {
      "model_module": "@jupyter-widgets/controls",
      "model_module_version": "1.5.0",
      "model_name": "DescriptionStyleModel",
      "state": {
       "description_width": ""
      }
     },
     "17d73719afd043a0be6a4cdaec09e57d": {
      "model_module": "@jupyter-widgets/base",
      "model_module_version": "1.2.0",
      "model_name": "LayoutModel",
      "state": {}
     },
     "1883cb7fc044409b9c1c30e34762b2bb": {
      "model_module": "@jupyter-widgets/base",
      "model_module_version": "1.2.0",
      "model_name": "LayoutModel",
      "state": {}
     },
     "197c87f71d66475488746a501aec869f": {
      "model_module": "@jupyter-widgets/base",
      "model_module_version": "1.2.0",
      "model_name": "LayoutModel",
      "state": {}
     },
     "19b29c42d7bd44ce9beba39eb6c813ce": {
      "model_module": "@jupyter-widgets/controls",
      "model_module_version": "1.5.0",
      "model_name": "DescriptionStyleModel",
      "state": {
       "description_width": ""
      }
     },
     "19f47bcdffce49c5bbd0ea0d4bf59e58": {
      "model_module": "@jupyter-widgets/base",
      "model_module_version": "1.2.0",
      "model_name": "LayoutModel",
      "state": {}
     },
     "1b04a6d25f694a25a7b24f6142b91521": {
      "model_module": "@jupyter-widgets/base",
      "model_module_version": "1.2.0",
      "model_name": "LayoutModel",
      "state": {}
     },
     "1b1abf1181584f7c82213b6a7124d742": {
      "model_module": "@jupyter-widgets/controls",
      "model_module_version": "1.5.0",
      "model_name": "DescriptionStyleModel",
      "state": {
       "description_width": ""
      }
     },
     "1bcbfd39cfb042a090ad8471ddf519d4": {
      "model_module": "@jupyter-widgets/base",
      "model_module_version": "1.2.0",
      "model_name": "LayoutModel",
      "state": {}
     },
     "1c4600ebba694c4d80e24b7e193c9c0b": {
      "model_module": "@jupyter-widgets/controls",
      "model_module_version": "1.5.0",
      "model_name": "DescriptionStyleModel",
      "state": {
       "description_width": ""
      }
     },
     "1d5c63b8430545ee99d70f1f89d06668": {
      "model_module": "@jupyter-widgets/base",
      "model_module_version": "1.2.0",
      "model_name": "LayoutModel",
      "state": {}
     },
     "1d7801b6065747fcae2780a78bda2b62": {
      "model_module": "@jupyter-widgets/controls",
      "model_module_version": "1.5.0",
      "model_name": "DescriptionStyleModel",
      "state": {
       "description_width": ""
      }
     },
     "1d85d2d7587c4aea8477c579889626b9": {
      "model_module": "@jupyter-widgets/controls",
      "model_module_version": "1.5.0",
      "model_name": "ButtonModel",
      "state": {
       "description": "Create UUID",
       "layout": "IPY_MODEL_e48df8d371ad4d1a9d12d30551fadca8",
       "style": "IPY_MODEL_39bccc9dd8484f93b08a068c270cb616",
       "tooltip": "UUID format: YYYY-MM-DD- experiment type - experiment shorthand"
      }
     },
     "1efd02f686f9434bbbe7b4a53ffd5b04": {
      "model_module": "@jupyter-widgets/controls",
      "model_module_version": "1.5.0",
      "model_name": "DescriptionStyleModel",
      "state": {
       "description_width": ""
      }
     },
     "1f5ffa33e7aa43fcb3f5c8c05eef0ce1": {
      "model_module": "@jupyter-widgets/controls",
      "model_module_version": "1.5.0",
      "model_name": "ButtonStyleModel",
      "state": {}
     },
     "1fed37d68f4c4a6d8dcaacab22056f38": {
      "model_module": "@jupyter-widgets/controls",
      "model_module_version": "1.5.0",
      "model_name": "ButtonModel",
      "state": {
       "description": "Create UUID",
       "layout": "IPY_MODEL_7f2fdfc03c084668a223ae1f008c1378",
       "style": "IPY_MODEL_4c64afb4e3944a8d85417fd720840696",
       "tooltip": "UUID format: YYYY-MM-DD- experiment type - experiment shorthand"
      }
     },
     "2088e518090047ecb01fe1cae1265bc9": {
      "model_module": "@jupyter-widgets/controls",
      "model_module_version": "1.5.0",
      "model_name": "DropdownModel",
      "state": {
       "_options_labels": [
        "ca2+",
        "eGFP",
        "k+"
       ],
       "description": "Type:",
       "index": 0,
       "layout": "IPY_MODEL_726a1924a0d3445ab6df969a928971d5",
       "style": "IPY_MODEL_5e28e5a54b3445abb996099c4f508f39"
      }
     },
     "21f26d8fa6c847ef9d85514b9fdfeddb": {
      "model_module": "@jupyter-widgets/controls",
      "model_module_version": "1.5.0",
      "model_name": "DescriptionStyleModel",
      "state": {
       "description_width": ""
      }
     },
     "22f9c48a6b6749eb84a14af5c65cece4": {
      "model_module": "@jupyter-widgets/base",
      "model_module_version": "1.2.0",
      "model_name": "LayoutModel",
      "state": {}
     },
     "233d0e08b63645d1a27966e6e0f591c2": {
      "model_module": "@jupyter-widgets/controls",
      "model_module_version": "1.5.0",
      "model_name": "DescriptionStyleModel",
      "state": {
       "description_width": ""
      }
     },
     "246588975ec74c29ad72e4a61fbaea88": {
      "model_module": "@jupyter-widgets/controls",
      "model_module_version": "1.5.0",
      "model_name": "DescriptionStyleModel",
      "state": {
       "description_width": ""
      }
     },
     "24e13b47e7794e11a1276e76470b9be6": {
      "model_module": "@jupyter-widgets/base",
      "model_module_version": "1.2.0",
      "model_name": "LayoutModel",
      "state": {}
     },
     "2543a1a61768467b8ae46e97cbcfa556": {
      "model_module": "@jupyter-widgets/base",
      "model_module_version": "1.2.0",
      "model_name": "LayoutModel",
      "state": {}
     },
     "25a902e66ef14c8ab3e7757223f1eadf": {
      "model_module": "@jupyter-widgets/controls",
      "model_module_version": "1.5.0",
      "model_name": "ButtonModel",
      "state": {
       "description": "Create UUID",
       "layout": "IPY_MODEL_d62d8d1c432244e1bb789dc51beb57bd",
       "style": "IPY_MODEL_7cc58d367259434094adc6beb8455cc5",
       "tooltip": "UUID format: YYYY-MM-DD- experiment type - experiment shorthand"
      }
     },
     "267771e8079741ebbeb3d68957a7798a": {
      "model_module": "@jupyter-widgets/controls",
      "model_module_version": "1.5.0",
      "model_name": "VBoxModel",
      "state": {
       "children": [
        "IPY_MODEL_c180ed0cb5494ca8aa932e9bddce4eec",
        "IPY_MODEL_e01e8be3123544f9b63f23a289e36af2",
        "IPY_MODEL_d33c85ddfe7646c3b9d03a788d74316c"
       ],
       "layout": "IPY_MODEL_28c8d04a916b4a638e74bd8c54ef2ef0"
      }
     },
     "282d24f33f02400d91c7ac8fd5c9278d": {
      "model_module": "@jupyter-widgets/controls",
      "model_module_version": "1.5.0",
      "model_name": "DescriptionStyleModel",
      "state": {
       "description_width": ""
      }
     },
     "28c8d04a916b4a638e74bd8c54ef2ef0": {
      "model_module": "@jupyter-widgets/base",
      "model_module_version": "1.2.0",
      "model_name": "LayoutModel",
      "state": {}
     },
     "297f93246093431e9a2ecba3f0c8346e": {
      "model_module": "@jupyter-widgets/controls",
      "model_module_version": "1.5.0",
      "model_name": "ButtonStyleModel",
      "state": {}
     },
     "2a6fc407d62d4d2cbd5da893e905c68a": {
      "model_module": "@jupyter-widgets/controls",
      "model_module_version": "1.5.0",
      "model_name": "VBoxModel",
      "state": {
       "children": [
        "IPY_MODEL_56020677244f4821b7383c1e9c06af55",
        "IPY_MODEL_81ef746cc4fb4932b2669930fb674e07",
        "IPY_MODEL_e49f4563050b42fe9c9a42a5d5fbaa43"
       ],
       "layout": "IPY_MODEL_6fc33914177a4b988c2c872eb5460603"
      }
     },
     "2b5523ae71ee42bc80d57dcb8dec4cf3": {
      "model_module": "@jupyter-widgets/controls",
      "model_module_version": "1.5.0",
      "model_name": "DatePickerModel",
      "state": {
       "description": "Exp. Date:",
       "disabled": false,
       "layout": "IPY_MODEL_e23b48f864d64900a59e6e343d066da0",
       "style": "IPY_MODEL_401903b6a67a4ef1b5342b519491da31"
      }
     },
     "2c12e8dadd584405860ce3f1ad57f26f": {
      "model_module": "@jupyter-widgets/controls",
      "model_module_version": "1.5.0",
      "model_name": "DropdownModel",
      "state": {
       "_options_labels": [
        "Patch clamp",
        "whole cell",
        "micromanipulator"
       ],
       "description": "Clamp type:",
       "index": 0,
       "layout": "IPY_MODEL_87c3ab05c70c4da289d63a1d88f769b3",
       "style": "IPY_MODEL_bbd0bee01479422b9b533faf9ec3ab2a"
      }
     },
     "2c40166f641949ab8c668abddb801f88": {
      "model_module": "@jupyter-widgets/controls",
      "model_module_version": "1.5.0",
      "model_name": "ButtonStyleModel",
      "state": {}
     },
     "2c4afc59477a4069b7c8d2c7f5514c5e": {
      "model_module": "@jupyter-widgets/base",
      "model_module_version": "1.2.0",
      "model_name": "LayoutModel",
      "state": {}
     },
     "2c523b5bcbdb4ea0b5f23fa09b8ed298": {
      "model_module": "@jupyter-widgets/base",
      "model_module_version": "1.2.0",
      "model_name": "LayoutModel",
      "state": {}
     },
     "2c77da93f1fc4e6ab197e6f70e8c014b": {
      "model_module": "@jupyter-widgets/controls",
      "model_module_version": "1.5.0",
      "model_name": "TextModel",
      "state": {
       "description": "Name: ",
       "layout": "IPY_MODEL_e3b94087c997461dac5f114c14a36763",
       "placeholder": "Enter experiment name",
       "style": "IPY_MODEL_50358196b4a049a4aaa0ec0718d5604b"
      }
     },
     "2d85eb4472264d16b97334402df6a696": {
      "model_module": "@jupyter-widgets/base",
      "model_module_version": "1.2.0",
      "model_name": "LayoutModel",
      "state": {}
     },
     "2dcd16c880044e96b6ec6f48cc4d2251": {
      "model_module": "@jupyter-widgets/controls",
      "model_module_version": "1.5.0",
      "model_name": "ButtonModel",
      "state": {
       "description": "Create UUID",
       "layout": "IPY_MODEL_df4e44ad696b4c06b15907a3fd7c44b5",
       "style": "IPY_MODEL_4bbec1510bdc45dfa89c039b8352b183",
       "tooltip": "UUID format: YYYY-MM-DD- experiment type - experiment shorthand"
      }
     },
     "2ed5c862ea954028b4251ba5feeadd06": {
      "model_module": "@jupyter-widgets/base",
      "model_module_version": "1.2.0",
      "model_name": "LayoutModel",
      "state": {}
     },
     "3053b63360d34c72bbe58b8f39d48724": {
      "model_module": "@jupyter-widgets/controls",
      "model_module_version": "1.5.0",
      "model_name": "DatePickerModel",
      "state": {
       "description": "Exp. Date:",
       "disabled": false,
       "layout": "IPY_MODEL_6d27ca4dcbcb4343ace7d636e0774a6e",
       "style": "IPY_MODEL_0e9e973a4c0a4f5aa6809df38842aafe"
      }
     },
     "319c4ed1ea24446f9497c21cbb74761b": {
      "model_module": "@jupyter-widgets/base",
      "model_module_version": "1.2.0",
      "model_name": "LayoutModel",
      "state": {}
     },
     "322a3c569c25435eab14663245a94db8": {
      "model_module": "@jupyter-widgets/controls",
      "model_module_version": "1.5.0",
      "model_name": "FileUploadModel",
      "state": {
       "description_tooltip": null,
       "layout": "IPY_MODEL_15bd7c58a4f44805a9b60059c5eea5e3",
       "multiple": true,
       "style": "IPY_MODEL_2c40166f641949ab8c668abddb801f88"
      }
     },
     "3292792f7625423eae7930251e696c0b": {
      "model_module": "@jupyter-widgets/controls",
      "model_module_version": "1.5.0",
      "model_name": "DescriptionStyleModel",
      "state": {
       "description_width": ""
      }
     },
     "32ed6577c12b43f3b1ee3d8e13416ee8": {
      "model_module": "@jupyter-widgets/controls",
      "model_module_version": "1.5.0",
      "model_name": "DescriptionStyleModel",
      "state": {
       "description_width": ""
      }
     },
     "33001a54f08b41d980474df04d750f27": {
      "model_module": "@jupyter-widgets/base",
      "model_module_version": "1.2.0",
      "model_name": "LayoutModel",
      "state": {}
     },
     "3378f937a8f547f4b977f405fc30acff": {
      "model_module": "@jupyter-widgets/controls",
      "model_module_version": "1.5.0",
      "model_name": "DescriptionStyleModel",
      "state": {
       "description_width": ""
      }
     },
     "33d8b76c8dd744e5bc2a507347030f51": {
      "model_module": "@jupyter-widgets/controls",
      "model_module_version": "1.5.0",
      "model_name": "DescriptionStyleModel",
      "state": {
       "description_width": ""
      }
     },
     "344af883c23346758aae2c30a529f386": {
      "model_module": "@jupyter-widgets/base",
      "model_module_version": "1.2.0",
      "model_name": "LayoutModel",
      "state": {}
     },
     "36023b26f58d4763aa9b0fda7c33b7c5": {
      "model_module": "@jupyter-widgets/controls",
      "model_module_version": "1.5.0",
      "model_name": "HTMLModel",
      "state": {
       "layout": "IPY_MODEL_53458d11df8948d38795faf6e335cc6d",
       "style": "IPY_MODEL_19b29c42d7bd44ce9beba39eb6c813ce",
       "value": "<h3 class = 'text-center'><font color='purple'>createUUID</font>"
      }
     },
     "361754f3e53c4cdeaa0831f5da0a8910": {
      "model_module": "@jupyter-widgets/base",
      "model_module_version": "1.2.0",
      "model_name": "LayoutModel",
      "state": {}
     },
     "3637729adbd4416088cd5cb9971982d2": {
      "model_module": "@jupyter-widgets/base",
      "model_module_version": "1.2.0",
      "model_name": "LayoutModel",
      "state": {}
     },
     "36398361549d4411a8be9ee8535e6688": {
      "model_module": "@jupyter-widgets/controls",
      "model_module_version": "1.5.0",
      "model_name": "ButtonStyleModel",
      "state": {}
     },
     "368bdd4c32ac43f3a58eb7e777b19520": {
      "model_module": "@jupyter-widgets/controls",
      "model_module_version": "1.5.0",
      "model_name": "DropdownModel",
      "state": {
       "_options_labels": [
        "MEA",
        "Axion",
        "SeaMoss",
        "Roberts"
       ],
       "description": "Type:",
       "index": 0,
       "layout": "IPY_MODEL_4bc77b542e65413b92f008a18cb5af98",
       "style": "IPY_MODEL_246588975ec74c29ad72e4a61fbaea88"
      }
     },
     "37597fb667164fa2aee80d0785a46093": {
      "model_module": "@jupyter-widgets/base",
      "model_module_version": "1.2.0",
      "model_name": "LayoutModel",
      "state": {}
     },
     "382ae318f2094765ba4b7d205cdc7ceb": {
      "model_module": "@jupyter-widgets/controls",
      "model_module_version": "1.5.0",
      "model_name": "DropdownModel",
      "state": {
       "_options_labels": [
        "Calcium (c)",
        "Ephys (e)",
        "Fluidics (f)",
        "Imaging (i)",
        "MEA (m)",
        "Patch Clamp (p)"
       ],
       "description": "Type:",
       "index": 0,
       "layout": "IPY_MODEL_e523c877a1e44a7eb2b2d55e5f276e02",
       "style": "IPY_MODEL_852606a48a01460aacc10c13f5e2a849"
      }
     },
     "386eeff744a04a9a8d8ce23123cbec5f": {
      "model_module": "@jupyter-widgets/controls",
      "model_module_version": "1.5.0",
      "model_name": "DescriptionStyleModel",
      "state": {
       "description_width": ""
      }
     },
     "390a5dcca5934d048e0015be2634e8f4": {
      "model_module": "@jupyter-widgets/base",
      "model_module_version": "1.2.0",
      "model_name": "LayoutModel",
      "state": {}
     },
     "390bd03e651642edb2083953d9fda500": {
      "model_module": "@jupyter-widgets/controls",
      "model_module_version": "1.5.0",
      "model_name": "HTMLModel",
      "state": {
       "layout": "IPY_MODEL_3e2b89f028474caa9d63dd5c16de4586",
       "style": "IPY_MODEL_dab8314353f8431791f06169fd67074e",
       "value": "<h3 class = 'text-center'><font color='purple'>UUID</font>"
      }
     },
     "398c7439b8b54fc49cb10d438b215beb": {
      "model_module": "@jupyter-widgets/controls",
      "model_module_version": "1.5.0",
      "model_name": "DropdownModel",
      "state": {
       "_options_labels": [
        "Calcium",
        "Ephys",
        "Fluidics",
        "Imagingi",
        "MEA",
        "Patch Clamp"
       ],
       "description": "Type:",
       "index": 0,
       "layout": "IPY_MODEL_8dec39bea045402699c980eed7a1732d",
       "style": "IPY_MODEL_b0d436857ba54d7f8d2dcf18935c884b"
      }
     },
     "39bccc9dd8484f93b08a068c270cb616": {
      "model_module": "@jupyter-widgets/controls",
      "model_module_version": "1.5.0",
      "model_name": "ButtonStyleModel",
      "state": {}
     },
     "3a3c62fdaf5a4f8c965765cbb1416124": {
      "model_module": "@jupyter-widgets/controls",
      "model_module_version": "1.5.0",
      "model_name": "DatePickerModel",
      "state": {
       "description": "Exp. Date:",
       "disabled": false,
       "layout": "IPY_MODEL_d23f791b2fa94492b7d2eeaa6fb2b3e7",
       "style": "IPY_MODEL_7fc98811460c4161a43e916fbf3b14bc",
       "value": {
        "date": 24,
        "month": 6,
        "year": 2021
       }
      }
     },
     "3b4f548d90b241ba86f20ae43d4f30f8": {
      "model_module": "@jupyter-widgets/controls",
      "model_module_version": "1.5.0",
      "model_name": "DropdownModel",
      "state": {
       "_options_labels": [
        "ca2+",
        "eGFP",
        "k+"
       ],
       "description": "Type:",
       "index": 0,
       "layout": "IPY_MODEL_bc5cce90cea942e1be07a75cb1a951f1",
       "style": "IPY_MODEL_1d7801b6065747fcae2780a78bda2b62"
      }
     },
     "3d8951af9ecc4714940bc623520edd67": {
      "model_module": "@jupyter-widgets/base",
      "model_module_version": "1.2.0",
      "model_name": "LayoutModel",
      "state": {}
     },
     "3d9156b6e888491ea6fa4a329b993b63": {
      "model_module": "@jupyter-widgets/base",
      "model_module_version": "1.2.0",
      "model_name": "LayoutModel",
      "state": {
       "justify_content": "center"
      }
     },
     "3d9f40e7b57f4900a032e96892031d76": {
      "model_module": "@jupyter-widgets/base",
      "model_module_version": "1.2.0",
      "model_name": "LayoutModel",
      "state": {}
     },
     "3df840c41c42408c80556f08993fd98b": {
      "model_module": "@jupyter-widgets/controls",
      "model_module_version": "1.5.0",
      "model_name": "TextModel",
      "state": {
       "description": "Name: ",
       "layout": "IPY_MODEL_65f7c288b6fc4411bde9066d3684d718",
       "placeholder": "Enter experiment name",
       "style": "IPY_MODEL_56b65ae878b24b878ddaafd962b912fa"
      }
     },
     "3e2b89f028474caa9d63dd5c16de4586": {
      "model_module": "@jupyter-widgets/base",
      "model_module_version": "1.2.0",
      "model_name": "LayoutModel",
      "state": {}
     },
     "401903b6a67a4ef1b5342b519491da31": {
      "model_module": "@jupyter-widgets/controls",
      "model_module_version": "1.5.0",
      "model_name": "DescriptionStyleModel",
      "state": {
       "description_width": ""
      }
     },
     "412a5e4e253b4eb58b857e5cfe55cf03": {
      "model_module": "@jupyter-widgets/controls",
      "model_module_version": "1.5.0",
      "model_name": "TextModel",
      "state": {
       "description": "Name: ",
       "layout": "IPY_MODEL_e4ae3600d1124369a9916b9221301075",
       "placeholder": "Enter experiment name",
       "style": "IPY_MODEL_3378f937a8f547f4b977f405fc30acff"
      }
     },
     "41b2b1041cf34e07a3861bbfc65e7300": {
      "model_module": "@jupyter-widgets/controls",
      "model_module_version": "1.5.0",
      "model_name": "ButtonModel",
      "state": {
       "description": "Create UUID",
       "layout": "IPY_MODEL_e15bb2ae99704c5d835ba735d362d724",
       "style": "IPY_MODEL_e32d9ea872dd47f7b3463f9a0ca43658",
       "tooltip": "UUID format: YYYY-MM-DD- experiment type - experiment shorthand"
      }
     },
     "41cbc551698549bea5a952b064671b46": {
      "model_module": "@jupyter-widgets/controls",
      "model_module_version": "1.5.0",
      "model_name": "DescriptionStyleModel",
      "state": {
       "description_width": ""
      }
     },
     "41cd9bc83e1b478388d476be5752554e": {
      "model_module": "@jupyter-widgets/controls",
      "model_module_version": "1.5.0",
      "model_name": "DescriptionStyleModel",
      "state": {
       "description_width": ""
      }
     },
     "42ac2e7b24e743b3be5bb11eaeeacbf1": {
      "model_module": "@jupyter-widgets/controls",
      "model_module_version": "1.5.0",
      "model_name": "HTMLModel",
      "state": {
       "layout": "IPY_MODEL_73f000b1f343479a9df085e9005d7c3e",
       "style": "IPY_MODEL_16f128cfb33c4f3e9d0b7b6d34563b37",
       "value": "<h3 class = 'text-center'><font color='purple'>createUUID</font>"
      }
     },
     "43ae91b8a51c4b92b11bf199b9624600": {
      "model_module": "@jupyter-widgets/base",
      "model_module_version": "1.2.0",
      "model_name": "LayoutModel",
      "state": {}
     },
     "462afb60761a471dbd651fb848d3d6ac": {
      "model_module": "@jupyter-widgets/controls",
      "model_module_version": "1.5.0",
      "model_name": "DropdownModel",
      "state": {
       "_options_labels": [
        "Calcium (c)",
        "Ephys (e)",
        "Fluidics (f)",
        "Imaging (i)",
        "MEA (m)",
        "Patch Clamp (p)"
       ],
       "description": "Type:",
       "index": 0,
       "layout": "IPY_MODEL_b17daa51547e477f8f2bb018a0f86429",
       "style": "IPY_MODEL_9ba46fa37928422286e5b729df44fbd9"
      }
     },
     "467c0b1af85d4e0badb05b3963ed4384": {
      "model_module": "@jupyter-widgets/base",
      "model_module_version": "1.2.0",
      "model_name": "LayoutModel",
      "state": {}
     },
     "4794f36694874e90a4a5f863953ac394": {
      "model_module": "@jupyter-widgets/controls",
      "model_module_version": "1.5.0",
      "model_name": "DescriptionStyleModel",
      "state": {
       "description_width": ""
      }
     },
     "4797d244902e45f5b756ebd2ee6117df": {
      "model_module": "@jupyter-widgets/base",
      "model_module_version": "1.2.0",
      "model_name": "LayoutModel",
      "state": {}
     },
     "47bce7de35794a9fa6a22e62bb25f4f1": {
      "model_module": "@jupyter-widgets/base",
      "model_module_version": "1.2.0",
      "model_name": "LayoutModel",
      "state": {}
     },
     "47d838c31769440d8789ef90ebc00f4c": {
      "model_module": "@jupyter-widgets/controls",
      "model_module_version": "1.5.0",
      "model_name": "DropdownModel",
      "state": {
       "_options_labels": [
        "ca2+",
        "eGFP",
        "k+"
       ],
       "description": "Type:",
       "index": 0,
       "layout": "IPY_MODEL_63278f19a0c64b11b9875ef6408f42c8",
       "style": "IPY_MODEL_69dfbd2fe51b4103bb544cfa81d22f08"
      }
     },
     "49ae777eb21040498af6ea3119b08ebe": {
      "model_module": "@jupyter-widgets/controls",
      "model_module_version": "1.5.0",
      "model_name": "ButtonStyleModel",
      "state": {}
     },
     "4a20d612b13343ed84c972c50392f034": {
      "model_module": "@jupyter-widgets/controls",
      "model_module_version": "1.5.0",
      "model_name": "DescriptionStyleModel",
      "state": {
       "description_width": ""
      }
     },
     "4a69c55d2f924465af151ce751822aa1": {
      "model_module": "@jupyter-widgets/controls",
      "model_module_version": "1.5.0",
      "model_name": "DescriptionStyleModel",
      "state": {
       "description_width": ""
      }
     },
     "4ad2d4b3422a4ef88822cfa8c3ad70dd": {
      "model_module": "@jupyter-widgets/controls",
      "model_module_version": "1.5.0",
      "model_name": "DescriptionStyleModel",
      "state": {
       "description_width": ""
      }
     },
     "4bb89b514b97452ead8c976e05a8fcba": {
      "model_module": "@jupyter-widgets/controls",
      "model_module_version": "1.5.0",
      "model_name": "DescriptionStyleModel",
      "state": {
       "description_width": ""
      }
     },
     "4bbec1510bdc45dfa89c039b8352b183": {
      "model_module": "@jupyter-widgets/controls",
      "model_module_version": "1.5.0",
      "model_name": "ButtonStyleModel",
      "state": {}
     },
     "4bc77b542e65413b92f008a18cb5af98": {
      "model_module": "@jupyter-widgets/base",
      "model_module_version": "1.2.0",
      "model_name": "LayoutModel",
      "state": {}
     },
     "4be4ad0a6b1e40979dbf5680a9490706": {
      "model_module": "@jupyter-widgets/controls",
      "model_module_version": "1.5.0",
      "model_name": "DescriptionStyleModel",
      "state": {
       "description_width": ""
      }
     },
     "4c64afb4e3944a8d85417fd720840696": {
      "model_module": "@jupyter-widgets/controls",
      "model_module_version": "1.5.0",
      "model_name": "ButtonStyleModel",
      "state": {}
     },
     "4c88704c77cb402584e33448777e50da": {
      "model_module": "@jupyter-widgets/controls",
      "model_module_version": "1.5.0",
      "model_name": "DropdownModel",
      "state": {
       "_options_labels": [
        "MEA",
        "Axonion",
        "SeaMoss",
        "Roberts"
       ],
       "description": "Type:",
       "index": 1,
       "layout": "IPY_MODEL_d4ae7de6df154c139c5fdc1761f7a650",
       "style": "IPY_MODEL_3292792f7625423eae7930251e696c0b"
      }
     },
     "4ccc8d8b528848ed8aa8a57d8c2fdccd": {
      "model_module": "@jupyter-widgets/base",
      "model_module_version": "1.2.0",
      "model_name": "LayoutModel",
      "state": {}
     },
     "4d2bade21d5f4fb3909e6c6b53c47099": {
      "model_module": "@jupyter-widgets/controls",
      "model_module_version": "1.5.0",
      "model_name": "HBoxModel",
      "state": {
       "children": [
        "IPY_MODEL_9fc4051ccc144786a3a1b2a82407e011",
        "IPY_MODEL_d864b11bd1c34d2eac1f20bd19e50ad4",
        "IPY_MODEL_a336e1f7853541fc8fe1c343d8abf0fe"
       ],
       "layout": "IPY_MODEL_cb453487dea74628bf36b478f8c03deb"
      }
     },
     "4da28ecfd4f647df88c07e695f9b2f7b": {
      "model_module": "@jupyter-widgets/controls",
      "model_module_version": "1.5.0",
      "model_name": "DescriptionStyleModel",
      "state": {
       "description_width": ""
      }
     },
     "4da4291de13247039120648fbb0184fc": {
      "model_module": "@jupyter-widgets/controls",
      "model_module_version": "1.5.0",
      "model_name": "ButtonModel",
      "state": {
       "description": "Create UUID",
       "layout": "IPY_MODEL_1bcbfd39cfb042a090ad8471ddf519d4",
       "style": "IPY_MODEL_5e9d9cd29d074d2983df9ee918e9f7e5",
       "tooltip": "UUID format: YYYY-MM-DD- experiment type - experiment shorthand"
      }
     },
     "4ec6ef3dea7947d0b916bb826cf4b42b": {
      "model_module": "@jupyter-widgets/base",
      "model_module_version": "1.2.0",
      "model_name": "LayoutModel",
      "state": {}
     },
     "4fc25e78e5ba42d28bb72ac334ebabe9": {
      "model_module": "@jupyter-widgets/controls",
      "model_module_version": "1.5.0",
      "model_name": "ButtonStyleModel",
      "state": {}
     },
     "50358196b4a049a4aaa0ec0718d5604b": {
      "model_module": "@jupyter-widgets/controls",
      "model_module_version": "1.5.0",
      "model_name": "DescriptionStyleModel",
      "state": {
       "description_width": ""
      }
     },
     "5092cf8ee17440b2af6c7526ed9dc77d": {
      "model_module": "@jupyter-widgets/controls",
      "model_module_version": "1.5.0",
      "model_name": "DescriptionStyleModel",
      "state": {
       "description_width": ""
      }
     },
     "5114f52debae45e6921997889c63b5c2": {
      "model_module": "@jupyter-widgets/controls",
      "model_module_version": "1.5.0",
      "model_name": "ButtonModel",
      "state": {
       "description": "Create UUID",
       "layout": "IPY_MODEL_37597fb667164fa2aee80d0785a46093",
       "style": "IPY_MODEL_5aafff0ad4ed4ffdb806cf59425a21d8",
       "tooltip": "UUID format: YYYY-MM-DD- experiment type - experiment shorthand"
      }
     },
     "518a3507e66c4fe1bd470fda9ead02be": {
      "model_module": "@jupyter-widgets/controls",
      "model_module_version": "1.5.0",
      "model_name": "ButtonModel",
      "state": {
       "description": "Create UUID",
       "layout": "IPY_MODEL_c436752e43e54c058a393f59eae4fab0",
       "style": "IPY_MODEL_04d7c58bb80c4638918ea2d83e0d4fda",
       "tooltip": "UUID format: YYYY-MM-DD- experiment type - experiment shorthand"
      }
     },
     "51a294ede3eb45c983db09d5419202dd": {
      "model_module": "@jupyter-widgets/base",
      "model_module_version": "1.2.0",
      "model_name": "LayoutModel",
      "state": {}
     },
     "51af267e851841588e64102d090f5c5d": {
      "model_module": "@jupyter-widgets/controls",
      "model_module_version": "1.5.0",
      "model_name": "DropdownModel",
      "state": {
       "_options_labels": [
        "Calcium (c)",
        "Ephys (e)",
        "Fluidics (f)",
        "Imaging (i)",
        "MEA (m)",
        "Patch Clamp (p)"
       ],
       "description": "Type:",
       "index": 0,
       "layout": "IPY_MODEL_ef23d93c0d9d441ca3bbee49496332e5",
       "style": "IPY_MODEL_4a69c55d2f924465af151ce751822aa1"
      }
     },
     "51efec10493845159c59e22129980fc2": {
      "model_module": "@jupyter-widgets/controls",
      "model_module_version": "1.5.0",
      "model_name": "ButtonModel",
      "state": {
       "description": "Create UUID",
       "layout": "IPY_MODEL_63e31d6fa0d549629521153856f9f01e",
       "style": "IPY_MODEL_4fc25e78e5ba42d28bb72ac334ebabe9",
       "tooltip": "UUID format: YYYY-MM-DD- experiment type - experiment shorthand"
      }
     },
     "528aa7bf0b6c461ab7f57612118401ad": {
      "model_module": "@jupyter-widgets/controls",
      "model_module_version": "1.5.0",
      "model_name": "ButtonStyleModel",
      "state": {}
     },
     "52a2497027974180a6d8575e2a4b0473": {
      "model_module": "@jupyter-widgets/controls",
      "model_module_version": "1.5.0",
      "model_name": "TextModel",
      "state": {
       "layout": "IPY_MODEL_de41f82dbb864cb493cab3c6e2f25e6d",
       "style": "IPY_MODEL_b6a203c7a9d44bce84e5d7d81af8f055"
      }
     },
     "52e374a952264bf9a0c3b0fe7dcdacd3": {
      "model_module": "@jupyter-widgets/controls",
      "model_module_version": "1.5.0",
      "model_name": "HTMLModel",
      "state": {
       "layout": "IPY_MODEL_6b82148f8e354844bff113b20f39f04b",
       "style": "IPY_MODEL_12856c32566f45f9afb1878636ca27bb",
       "value": "<h3 class = 'text-center'><font color='purple'>createUUID</font>"
      }
     },
     "53458d11df8948d38795faf6e335cc6d": {
      "model_module": "@jupyter-widgets/base",
      "model_module_version": "1.2.0",
      "model_name": "LayoutModel",
      "state": {}
     },
     "53603e971db04c4684a0fab77edf3641": {
      "model_module": "@jupyter-widgets/controls",
      "model_module_version": "1.5.0",
      "model_name": "DescriptionStyleModel",
      "state": {
       "description_width": ""
      }
     },
     "538068cb626840c8879c81360418c49d": {
      "model_module": "@jupyter-widgets/controls",
      "model_module_version": "1.5.0",
      "model_name": "ButtonModel",
      "state": {
       "description": "Create UUID",
       "layout": "IPY_MODEL_b2513c0d9e0a4ca5b27dfe0f2257cb18",
       "style": "IPY_MODEL_988e3de9947a4c88aef96c9743dc6500",
       "tooltip": "Create UUID"
      }
     },
     "53979001ba8c47e08d5467964b47268c": {
      "model_module": "@jupyter-widgets/controls",
      "model_module_version": "1.5.0",
      "model_name": "DatePickerModel",
      "state": {
       "description": "Exp. Date:",
       "disabled": false,
       "layout": "IPY_MODEL_2543a1a61768467b8ae46e97cbcfa556",
       "style": "IPY_MODEL_d1c3cace53cf4142864b74f29581004c",
       "value": {
        "date": 19,
        "month": 4,
        "year": 2021
       }
      }
     },
     "54bd7eb75edf4f398bd1ac79535ebc12": {
      "model_module": "@jupyter-widgets/controls",
      "model_module_version": "1.5.0",
      "model_name": "DescriptionStyleModel",
      "state": {
       "description_width": ""
      }
     },
     "56020677244f4821b7383c1e9c06af55": {
      "model_module": "@jupyter-widgets/controls",
      "model_module_version": "1.5.0",
      "model_name": "HTMLModel",
      "state": {
       "layout": "IPY_MODEL_fd6a19ae100d47b8b8e46a7289872e63",
       "style": "IPY_MODEL_b42b201c847a43e3aed0b290d5692f67",
       "value": "<h3 class = 'text-center'><font color='purple'>createUUID</font>"
      }
     },
     "5617d8fa878249cd98e2e2a4b70877f0": {
      "model_module": "@jupyter-widgets/controls",
      "model_module_version": "1.5.0",
      "model_name": "DescriptionStyleModel",
      "state": {
       "description_width": ""
      }
     },
     "563be7d3d2664a84a1281a1a7adaa48d": {
      "model_module": "@jupyter-widgets/controls",
      "model_module_version": "1.5.0",
      "model_name": "DescriptionStyleModel",
      "state": {
       "description_width": ""
      }
     },
     "56b65ae878b24b878ddaafd962b912fa": {
      "model_module": "@jupyter-widgets/controls",
      "model_module_version": "1.5.0",
      "model_name": "DescriptionStyleModel",
      "state": {
       "description_width": ""
      }
     },
     "57d18ac01b704889b7aff883a7f9a5fb": {
      "model_module": "@jupyter-widgets/base",
      "model_module_version": "1.2.0",
      "model_name": "LayoutModel",
      "state": {}
     },
     "58eb4f7ff65243f4ae9cfe19734b6073": {
      "model_module": "@jupyter-widgets/controls",
      "model_module_version": "1.5.0",
      "model_name": "ButtonModel",
      "state": {
       "description": "Create UUID",
       "layout": "IPY_MODEL_33001a54f08b41d980474df04d750f27",
       "style": "IPY_MODEL_f96c8998e1a8466485fedc6453df0343",
       "tooltip": "UUID format: YYYY-MM-DD- experiment type - experiment shorthand"
      }
     },
     "59caa9839f2f41ddaa363bcecc78e322": {
      "model_module": "@jupyter-widgets/controls",
      "model_module_version": "1.5.0",
      "model_name": "HTMLModel",
      "state": {
       "layout": "IPY_MODEL_f2c4a961cb404c7daf3b56dddce01c11",
       "style": "IPY_MODEL_03946f8f6d8a42928edb78a91f1c20cc",
       "value": "<h3 class = 'text-center'><font color='purple'>createUUID</font>"
      }
     },
     "5a4124f872f04f8c958abdb4f24ec350": {
      "model_module": "@jupyter-widgets/base",
      "model_module_version": "1.2.0",
      "model_name": "LayoutModel",
      "state": {}
     },
     "5aafff0ad4ed4ffdb806cf59425a21d8": {
      "model_module": "@jupyter-widgets/controls",
      "model_module_version": "1.5.0",
      "model_name": "ButtonStyleModel",
      "state": {}
     },
     "5b1ded52163a4d1b83cabea714fb0777": {
      "model_module": "@jupyter-widgets/controls",
      "model_module_version": "1.5.0",
      "model_name": "DatePickerModel",
      "state": {
       "description": "Exp. Date:",
       "disabled": false,
       "layout": "IPY_MODEL_6617c7f20ba04ffbbe0ccd713c8c62d1",
       "style": "IPY_MODEL_282d24f33f02400d91c7ac8fd5c9278d",
       "value": {
        "date": 28,
        "month": 3,
        "year": 2021
       }
      }
     },
     "5b75e88f9cff417fa1fd0a32781ee3b4": {
      "model_module": "@jupyter-widgets/base",
      "model_module_version": "1.2.0",
      "model_name": "LayoutModel",
      "state": {}
     },
     "5bdc32e3d9da4db1b1d0aa8606eec3af": {
      "model_module": "@jupyter-widgets/controls",
      "model_module_version": "1.5.0",
      "model_name": "DatePickerModel",
      "state": {
       "description": "Exp. Date:",
       "disabled": false,
       "layout": "IPY_MODEL_72a99c199d65413487b4d95808080e7c",
       "style": "IPY_MODEL_dd11eac3017d4fbaa57336ccf945bbc7"
      }
     },
     "5c822c2201fa41d5b5ed2ed0e2a2340b": {
      "model_module": "@jupyter-widgets/base",
      "model_module_version": "1.2.0",
      "model_name": "LayoutModel",
      "state": {}
     },
     "5cd836fdf2ae4751835469896ddca2f9": {
      "model_module": "@jupyter-widgets/controls",
      "model_module_version": "1.5.0",
      "model_name": "DatePickerModel",
      "state": {
       "description": "Exp. Date:",
       "disabled": false,
       "layout": "IPY_MODEL_e3dbc3ae7f3947f29a5d565506dc694b",
       "style": "IPY_MODEL_7f6c29b2b95d4887a18b5f70fb98bbb3"
      }
     },
     "5d056b753bd84c9cb964635d1a4b1ac7": {
      "model_module": "@jupyter-widgets/base",
      "model_module_version": "1.2.0",
      "model_name": "LayoutModel",
      "state": {}
     },
     "5d666c1c8b254a6c98629f6230d840f7": {
      "model_module": "@jupyter-widgets/base",
      "model_module_version": "1.2.0",
      "model_name": "LayoutModel",
      "state": {}
     },
     "5d792ea8a6d44145920ec1f30f74262f": {
      "model_module": "@jupyter-widgets/controls",
      "model_module_version": "1.5.0",
      "model_name": "VBoxModel",
      "state": {
       "children": [
        "IPY_MODEL_36023b26f58d4763aa9b0fda7c33b7c5",
        "IPY_MODEL_be3bce488d4c4aad98de72c4418e182b",
        "IPY_MODEL_74178733e1714673a227b733dfde31ae"
       ],
       "layout": "IPY_MODEL_5d666c1c8b254a6c98629f6230d840f7"
      }
     },
     "5dc0b07321a6497c9fce68c5c0bedf0b": {
      "model_module": "@jupyter-widgets/base",
      "model_module_version": "1.2.0",
      "model_name": "LayoutModel",
      "state": {}
     },
     "5dfc409ac16a473eac4a7352becfe856": {
      "model_module": "@jupyter-widgets/controls",
      "model_module_version": "1.5.0",
      "model_name": "ButtonModel",
      "state": {
       "description": "Create UUID",
       "layout": "IPY_MODEL_f5f9e1f149f645e89ef656685538ee5f",
       "style": "IPY_MODEL_09ef5cd9c5b549c88798c57a91554b6a",
       "tooltip": "Create UUID"
      }
     },
     "5e0292393c304e78825135f6c8cfe925": {
      "model_module": "@jupyter-widgets/controls",
      "model_module_version": "1.5.0",
      "model_name": "TextModel",
      "state": {
       "layout": "IPY_MODEL_319c4ed1ea24446f9497c21cbb74761b",
       "style": "IPY_MODEL_4a20d612b13343ed84c972c50392f034"
      }
     },
     "5e28e5a54b3445abb996099c4f508f39": {
      "model_module": "@jupyter-widgets/controls",
      "model_module_version": "1.5.0",
      "model_name": "DescriptionStyleModel",
      "state": {
       "description_width": ""
      }
     },
     "5e38531b65b64fa6b55b7f7204c668a1": {
      "model_module": "@jupyter-widgets/base",
      "model_module_version": "1.2.0",
      "model_name": "LayoutModel",
      "state": {}
     },
     "5e892a277c924a1396c538004577d21d": {
      "model_module": "@jupyter-widgets/controls",
      "model_module_version": "1.5.0",
      "model_name": "DropdownModel",
      "state": {
       "_options_labels": [
        "MEA",
        "Axion",
        "SeaMoss",
        "Roberts"
       ],
       "description": "Type:",
       "index": 0,
       "layout": "IPY_MODEL_7c4105e423ba40b3978cea52d9624e5c",
       "style": "IPY_MODEL_32ed6577c12b43f3b1ee3d8e13416ee8"
      }
     },
     "5e9d9cd29d074d2983df9ee918e9f7e5": {
      "model_module": "@jupyter-widgets/controls",
      "model_module_version": "1.5.0",
      "model_name": "ButtonStyleModel",
      "state": {}
     },
     "606e0c848aa54ee08db2e3216ea92680": {
      "model_module": "@jupyter-widgets/base",
      "model_module_version": "1.2.0",
      "model_name": "LayoutModel",
      "state": {
       "justify_content": "center"
      }
     },
     "60e42bd16fe34b90ba53711ef3d374a3": {
      "model_module": "@jupyter-widgets/controls",
      "model_module_version": "1.5.0",
      "model_name": "DescriptionStyleModel",
      "state": {
       "description_width": ""
      }
     },
     "61747be3b9f34526b506d14eae514895": {
      "model_module": "@jupyter-widgets/base",
      "model_module_version": "1.2.0",
      "model_name": "LayoutModel",
      "state": {}
     },
     "6202ea83130e40c6991aff6782888264": {
      "model_module": "@jupyter-widgets/base",
      "model_module_version": "1.2.0",
      "model_name": "LayoutModel",
      "state": {}
     },
     "63278f19a0c64b11b9875ef6408f42c8": {
      "model_module": "@jupyter-widgets/base",
      "model_module_version": "1.2.0",
      "model_name": "LayoutModel",
      "state": {}
     },
     "6398933f32d444adb689653b6e5dbf79": {
      "model_module": "@jupyter-widgets/controls",
      "model_module_version": "1.5.0",
      "model_name": "TextModel",
      "state": {
       "description": "Name: ",
       "layout": "IPY_MODEL_c6540bb231cc44019a9c0f7aad9015d7",
       "placeholder": "Enter experiment name",
       "style": "IPY_MODEL_0bdd7af2c31f4fb7984c55dfb6dcfef7",
       "value": "testititit"
      }
     },
     "63be2a3ac07a438fab29f19674404d17": {
      "model_module": "@jupyter-widgets/base",
      "model_module_version": "1.2.0",
      "model_name": "LayoutModel",
      "state": {
       "justify_content": "center"
      }
     },
     "63e31d6fa0d549629521153856f9f01e": {
      "model_module": "@jupyter-widgets/base",
      "model_module_version": "1.2.0",
      "model_name": "LayoutModel",
      "state": {}
     },
     "63f971f08dda4c58a2b4fba629cc85b2": {
      "model_module": "@jupyter-widgets/controls",
      "model_module_version": "1.5.0",
      "model_name": "DescriptionStyleModel",
      "state": {
       "description_width": ""
      }
     },
     "64b358cc28254abc9ec204d7e1db5630": {
      "model_module": "@jupyter-widgets/controls",
      "model_module_version": "1.5.0",
      "model_name": "DescriptionStyleModel",
      "state": {
       "description_width": ""
      }
     },
     "654263138ef840d189bfbb65379116f2": {
      "model_module": "@jupyter-widgets/controls",
      "model_module_version": "1.5.0",
      "model_name": "FileUploadModel",
      "state": {
       "description_tooltip": null,
       "layout": "IPY_MODEL_68efaa81372443d49a4f34343ae8590c",
       "multiple": true,
       "style": "IPY_MODEL_13287f5202c842989e6d27c76814d422"
      }
     },
     "659697b6aa914cc6bb5d0de2a21097fc": {
      "model_module": "@jupyter-widgets/controls",
      "model_module_version": "1.5.0",
      "model_name": "ButtonStyleModel",
      "state": {}
     },
     "65f7c288b6fc4411bde9066d3684d718": {
      "model_module": "@jupyter-widgets/base",
      "model_module_version": "1.2.0",
      "model_name": "LayoutModel",
      "state": {}
     },
     "6617c7f20ba04ffbbe0ccd713c8c62d1": {
      "model_module": "@jupyter-widgets/base",
      "model_module_version": "1.2.0",
      "model_name": "LayoutModel",
      "state": {}
     },
     "6742a928b9994912916d03a6ae97ca60": {
      "model_module": "@jupyter-widgets/controls",
      "model_module_version": "1.5.0",
      "model_name": "ButtonStyleModel",
      "state": {}
     },
     "674f84cca0ab45feacaa03b3982fef3a": {
      "model_module": "@jupyter-widgets/controls",
      "model_module_version": "1.5.0",
      "model_name": "TextModel",
      "state": {
       "description": "Name: ",
       "layout": "IPY_MODEL_467c0b1af85d4e0badb05b3963ed4384",
       "placeholder": "Enter experiment name",
       "style": "IPY_MODEL_386eeff744a04a9a8d8ce23123cbec5f"
      }
     },
     "678f903b72bf4277952c8775593646c6": {
      "model_module": "@jupyter-widgets/base",
      "model_module_version": "1.2.0",
      "model_name": "LayoutModel",
      "state": {}
     },
     "68069991e2d0412295a43a186da2fd71": {
      "model_module": "@jupyter-widgets/base",
      "model_module_version": "1.2.0",
      "model_name": "LayoutModel",
      "state": {}
     },
     "68e7e7547c3b405d88dfcac67e1cc19d": {
      "model_module": "@jupyter-widgets/controls",
      "model_module_version": "1.5.0",
      "model_name": "DescriptionStyleModel",
      "state": {
       "description_width": ""
      }
     },
     "68efaa81372443d49a4f34343ae8590c": {
      "model_module": "@jupyter-widgets/base",
      "model_module_version": "1.2.0",
      "model_name": "LayoutModel",
      "state": {}
     },
     "69dfbd2fe51b4103bb544cfa81d22f08": {
      "model_module": "@jupyter-widgets/controls",
      "model_module_version": "1.5.0",
      "model_name": "DescriptionStyleModel",
      "state": {
       "description_width": ""
      }
     },
     "6a854b04787146ca924a65e64b3c7c42": {
      "model_module": "@jupyter-widgets/controls",
      "model_module_version": "1.5.0",
      "model_name": "HBoxModel",
      "state": {
       "children": [
        "IPY_MODEL_d5b2855a49be47b486229ee843d1f0e4"
       ],
       "layout": "IPY_MODEL_606e0c848aa54ee08db2e3216ea92680"
      }
     },
     "6b82148f8e354844bff113b20f39f04b": {
      "model_module": "@jupyter-widgets/base",
      "model_module_version": "1.2.0",
      "model_name": "LayoutModel",
      "state": {}
     },
     "6c1f8b89a7164ec9926bc2df0a023fc6": {
      "model_module": "@jupyter-widgets/controls",
      "model_module_version": "1.5.0",
      "model_name": "HBoxModel",
      "state": {
       "children": [
        "IPY_MODEL_9fc4051ccc144786a3a1b2a82407e011",
        "IPY_MODEL_fdfe2cdb87d944cdb3ee690ba4286d13",
        "IPY_MODEL_a336e1f7853541fc8fe1c343d8abf0fe"
       ],
       "layout": "IPY_MODEL_74795ae0310244e5804b9591fbe030c7"
      }
     },
     "6d27ca4dcbcb4343ace7d636e0774a6e": {
      "model_module": "@jupyter-widgets/base",
      "model_module_version": "1.2.0",
      "model_name": "LayoutModel",
      "state": {}
     },
     "6d4bae31223b4324919330857045a08b": {
      "model_module": "@jupyter-widgets/base",
      "model_module_version": "1.2.0",
      "model_name": "LayoutModel",
      "state": {}
     },
     "6d522cbc37884d6da1e0dd6da25d574a": {
      "model_module": "@jupyter-widgets/controls",
      "model_module_version": "1.5.0",
      "model_name": "DropdownModel",
      "state": {
       "_options_labels": [
        "Calcium",
        "Ephys",
        "Fluidics",
        "Imagingi",
        "MEA",
        "Patch Clamp"
       ],
       "description": "Type:",
       "index": 0,
       "layout": "IPY_MODEL_c8cdbab1c97149a9a29471c95b1c2828",
       "style": "IPY_MODEL_63f971f08dda4c58a2b4fba629cc85b2"
      }
     },
     "6e5b17a04abd4fabb1477abc66ee03e2": {
      "model_module": "@jupyter-widgets/controls",
      "model_module_version": "1.5.0",
      "model_name": "FileUploadModel",
      "state": {
       "description_tooltip": null,
       "layout": "IPY_MODEL_704a4a8bb51c45379fb49dd7b890cc88",
       "multiple": true,
       "style": "IPY_MODEL_cffafd7787bd4a579932ed4935d54b13"
      }
     },
     "6eed2611d6b64a7da920987537ec5cf1": {
      "model_module": "@jupyter-widgets/controls",
      "model_module_version": "1.5.0",
      "model_name": "VBoxModel",
      "state": {
       "children": [
        "IPY_MODEL_56020677244f4821b7383c1e9c06af55",
        "IPY_MODEL_81ef746cc4fb4932b2669930fb674e07",
        "IPY_MODEL_e49f4563050b42fe9c9a42a5d5fbaa43"
       ],
       "layout": "IPY_MODEL_ffad1442a54640e79c240bfd4179bbab"
      }
     },
     "6efffe2d32cf47ddad9c9b40416dfcec": {
      "model_module": "@jupyter-widgets/controls",
      "model_module_version": "1.5.0",
      "model_name": "VBoxModel",
      "state": {
       "children": [
        "IPY_MODEL_c180ed0cb5494ca8aa932e9bddce4eec",
        "IPY_MODEL_ffb3daf5c07241f0828f0de137da60db",
        "IPY_MODEL_d33c85ddfe7646c3b9d03a788d74316c"
       ],
       "layout": "IPY_MODEL_5e38531b65b64fa6b55b7f7204c668a1"
      }
     },
     "6fc33914177a4b988c2c872eb5460603": {
      "model_module": "@jupyter-widgets/base",
      "model_module_version": "1.2.0",
      "model_name": "LayoutModel",
      "state": {}
     },
     "6fc8cff7d568472a913c226f6d875cbb": {
      "model_module": "@jupyter-widgets/controls",
      "model_module_version": "1.5.0",
      "model_name": "HBoxModel",
      "state": {
       "children": [
        "IPY_MODEL_53979001ba8c47e08d5467964b47268c",
        "IPY_MODEL_e3a6e1156afc459cb4a51a355661121f",
        "IPY_MODEL_bb2ec0a7ff07486bb334a453817084a1"
       ],
       "layout": "IPY_MODEL_2ed5c862ea954028b4251ba5feeadd06"
      }
     },
     "704a4a8bb51c45379fb49dd7b890cc88": {
      "model_module": "@jupyter-widgets/base",
      "model_module_version": "1.2.0",
      "model_name": "LayoutModel",
      "state": {}
     },
     "7059b75e5f154c8981d41adc9cccd7ea": {
      "model_module": "@jupyter-widgets/controls",
      "model_module_version": "1.5.0",
      "model_name": "DatePickerModel",
      "state": {
       "description": "Exp. Date:",
       "disabled": false,
       "layout": "IPY_MODEL_75b8da0016fd4159bd46144d7b60c2ba",
       "style": "IPY_MODEL_764e592ea05647b2a04366336216e5a2",
       "value": {
        "date": 11,
        "month": 4,
        "year": 2021
       }
      }
     },
     "706377c52ecc474f8d56b1d47ee57ce1": {
      "model_module": "@jupyter-widgets/base",
      "model_module_version": "1.2.0",
      "model_name": "LayoutModel",
      "state": {}
     },
     "7143cbd024074c039164f69b0b46d70a": {
      "model_module": "@jupyter-widgets/controls",
      "model_module_version": "1.5.0",
      "model_name": "FileUploadModel",
      "state": {
       "description_tooltip": null,
       "layout": "IPY_MODEL_b1809143d87c417085331ca28256d877",
       "multiple": true,
       "style": "IPY_MODEL_36398361549d4411a8be9ee8535e6688"
      }
     },
     "72349edeb40d4201b41106b5436fc827": {
      "model_module": "@jupyter-widgets/base",
      "model_module_version": "1.2.0",
      "model_name": "LayoutModel",
      "state": {}
     },
     "724e7d58974146ba9a1adeee949eaac5": {
      "model_module": "@jupyter-widgets/base",
      "model_module_version": "1.2.0",
      "model_name": "LayoutModel",
      "state": {}
     },
     "726a1924a0d3445ab6df969a928971d5": {
      "model_module": "@jupyter-widgets/base",
      "model_module_version": "1.2.0",
      "model_name": "LayoutModel",
      "state": {}
     },
     "72a99c199d65413487b4d95808080e7c": {
      "model_module": "@jupyter-widgets/base",
      "model_module_version": "1.2.0",
      "model_name": "LayoutModel",
      "state": {}
     },
     "73031fb0ad134ef6a1bbdcc5c79a7197": {
      "model_module": "@jupyter-widgets/base",
      "model_module_version": "1.2.0",
      "model_name": "LayoutModel",
      "state": {}
     },
     "7367c1510d5040c68cff32a7c7407d0f": {
      "model_module": "@jupyter-widgets/base",
      "model_module_version": "1.2.0",
      "model_name": "LayoutModel",
      "state": {}
     },
     "73f000b1f343479a9df085e9005d7c3e": {
      "model_module": "@jupyter-widgets/base",
      "model_module_version": "1.2.0",
      "model_name": "LayoutModel",
      "state": {}
     },
     "74178733e1714673a227b733dfde31ae": {
      "model_module": "@jupyter-widgets/controls",
      "model_module_version": "1.5.0",
      "model_name": "HBoxModel",
      "state": {
       "children": [
        "IPY_MODEL_a6a7d38e81474c969056c40e4d05b37b"
       ],
       "layout": "IPY_MODEL_9bdadad229a0475da42f1ff9b149f568"
      }
     },
     "7439d70295514aadbb27efdeeb2917b0": {
      "model_module": "@jupyter-widgets/controls",
      "model_module_version": "1.5.0",
      "model_name": "DropdownModel",
      "state": {
       "_options_labels": [
        "MEA",
        "Axion",
        "SeaMoss",
        "Roberts"
       ],
       "description": "Type:",
       "index": 0,
       "layout": "IPY_MODEL_9ba38f40546e4fefb5645ef2843544f3",
       "style": "IPY_MODEL_4ad2d4b3422a4ef88822cfa8c3ad70dd"
      }
     },
     "7448d9b6d13f4b0187f06eef039fc251": {
      "model_module": "@jupyter-widgets/controls",
      "model_module_version": "1.5.0",
      "model_name": "ButtonModel",
      "state": {
       "description": "Create UUID",
       "layout": "IPY_MODEL_5b75e88f9cff417fa1fd0a32781ee3b4",
       "style": "IPY_MODEL_1f5ffa33e7aa43fcb3f5c8c05eef0ce1",
       "tooltip": "Create UUID"
      }
     },
     "74696ba6f748442c9eda9be79ce0840e": {
      "model_module": "@jupyter-widgets/controls",
      "model_module_version": "1.5.0",
      "model_name": "DescriptionStyleModel",
      "state": {
       "description_width": ""
      }
     },
     "74795ae0310244e5804b9591fbe030c7": {
      "model_module": "@jupyter-widgets/base",
      "model_module_version": "1.2.0",
      "model_name": "LayoutModel",
      "state": {}
     },
     "75b8da0016fd4159bd46144d7b60c2ba": {
      "model_module": "@jupyter-widgets/base",
      "model_module_version": "1.2.0",
      "model_name": "LayoutModel",
      "state": {}
     },
     "764e592ea05647b2a04366336216e5a2": {
      "model_module": "@jupyter-widgets/controls",
      "model_module_version": "1.5.0",
      "model_name": "DescriptionStyleModel",
      "state": {
       "description_width": ""
      }
     },
     "777a2f60c43d4b29a81ed38d24c09eea": {
      "model_module": "@jupyter-widgets/base",
      "model_module_version": "1.2.0",
      "model_name": "LayoutModel",
      "state": {}
     },
     "77b71f67cc9e461ba0d91801fb3e95b1": {
      "model_module": "@jupyter-widgets/controls",
      "model_module_version": "1.5.0",
      "model_name": "DropdownModel",
      "state": {
       "_options_labels": [
        "Calcium",
        "Ephys",
        "Fluidics",
        "Imaginging",
        "MEA",
        "Patch Clamp"
       ],
       "description": "Type:",
       "index": 0,
       "layout": "IPY_MODEL_94bd7b1703b749fab592a29df58e5495",
       "style": "IPY_MODEL_a6c52a6580584b928198f85c3e6fe1c6"
      }
     },
     "7870b6c459884fbb99e4612cf7d1bf72": {
      "model_module": "@jupyter-widgets/controls",
      "model_module_version": "1.5.0",
      "model_name": "DropdownModel",
      "state": {
       "_options_labels": [
        "Patch clamp",
        "whole cell",
        "micromanipulator"
       ],
       "description": "Clamp type:",
       "index": 0,
       "layout": "IPY_MODEL_72349edeb40d4201b41106b5436fc827",
       "style": "IPY_MODEL_4be4ad0a6b1e40979dbf5680a9490706"
      }
     },
     "7909175dacb940db94152fc3d8932eea": {
      "model_module": "@jupyter-widgets/base",
      "model_module_version": "1.2.0",
      "model_name": "LayoutModel",
      "state": {
       "justify_content": "center"
      }
     },
     "79dac097d4244c6ea206a09451e9eef8": {
      "model_module": "@jupyter-widgets/controls",
      "model_module_version": "1.5.0",
      "model_name": "VBoxModel",
      "state": {
       "children": [
        "IPY_MODEL_01b13c18f8cc44ccae570619bca9c4d9",
        "IPY_MODEL_4d2bade21d5f4fb3909e6c6b53c47099",
        "IPY_MODEL_c6720fbf58d64f5f89e3f09aecabf082"
       ],
       "layout": "IPY_MODEL_a3e4d799f6374752b531869b1b5773be"
      }
     },
     "7a35b21b89a84d2fb0b61dd76d4e111c": {
      "model_module": "@jupyter-widgets/controls",
      "model_module_version": "1.5.0",
      "model_name": "DescriptionStyleModel",
      "state": {
       "description_width": ""
      }
     },
     "7a5dc69d4d3449639510a75e8b352d15": {
      "model_module": "@jupyter-widgets/base",
      "model_module_version": "1.2.0",
      "model_name": "LayoutModel",
      "state": {}
     },
     "7a9aeeee42814932bfedfdf64ef40885": {
      "model_module": "@jupyter-widgets/controls",
      "model_module_version": "1.5.0",
      "model_name": "DropdownModel",
      "state": {
       "_options_labels": [
        "MEA",
        "Axion",
        "SeaMoss",
        "Roberts"
       ],
       "description": "Type:",
       "index": 0,
       "layout": "IPY_MODEL_146d759ea91a4bd19b646b9dac31482c",
       "style": "IPY_MODEL_e219a79203b348748340ed2b99b265d2"
      }
     },
     "7b4271e8c9a34aa19a632006fc4b8808": {
      "model_module": "@jupyter-widgets/controls",
      "model_module_version": "1.5.0",
      "model_name": "DescriptionStyleModel",
      "state": {
       "description_width": ""
      }
     },
     "7bd603ffe7c340908d1fc279a51da306": {
      "model_module": "@jupyter-widgets/controls",
      "model_module_version": "1.5.0",
      "model_name": "DropdownModel",
      "state": {
       "_options_labels": [
        "Patch clamp",
        "whole cell",
        "micromanipulator"
       ],
       "description": "Clamp type:",
       "index": 0,
       "layout": "IPY_MODEL_6d4bae31223b4324919330857045a08b",
       "style": "IPY_MODEL_fa6e4f945c1c4de0be6f1cec92b3ca8f"
      }
     },
     "7c4105e423ba40b3978cea52d9624e5c": {
      "model_module": "@jupyter-widgets/base",
      "model_module_version": "1.2.0",
      "model_name": "LayoutModel",
      "state": {}
     },
     "7cc58d367259434094adc6beb8455cc5": {
      "model_module": "@jupyter-widgets/controls",
      "model_module_version": "1.5.0",
      "model_name": "ButtonStyleModel",
      "state": {}
     },
     "7ecc752659b04fa8bd593278658cd76c": {
      "model_module": "@jupyter-widgets/base",
      "model_module_version": "1.2.0",
      "model_name": "LayoutModel",
      "state": {}
     },
     "7f07e0fcb2e34f5899eee5f54bf63433": {
      "model_module": "@jupyter-widgets/controls",
      "model_module_version": "1.5.0",
      "model_name": "TextModel",
      "state": {
       "description": "Name: ",
       "layout": "IPY_MODEL_bafbcbe43f214859a10dcab4c5933a22",
       "placeholder": "Enter experiment name",
       "style": "IPY_MODEL_95e9150e617246b985bebe918b0b8c04"
      }
     },
     "7f2fdfc03c084668a223ae1f008c1378": {
      "model_module": "@jupyter-widgets/base",
      "model_module_version": "1.2.0",
      "model_name": "LayoutModel",
      "state": {}
     },
     "7f6c29b2b95d4887a18b5f70fb98bbb3": {
      "model_module": "@jupyter-widgets/controls",
      "model_module_version": "1.5.0",
      "model_name": "DescriptionStyleModel",
      "state": {
       "description_width": ""
      }
     },
     "7f71b8f064284aa887a859089d58b532": {
      "model_module": "@jupyter-widgets/controls",
      "model_module_version": "1.5.0",
      "model_name": "ButtonStyleModel",
      "state": {}
     },
     "7fc98811460c4161a43e916fbf3b14bc": {
      "model_module": "@jupyter-widgets/controls",
      "model_module_version": "1.5.0",
      "model_name": "DescriptionStyleModel",
      "state": {
       "description_width": ""
      }
     },
     "7fe64b9ffa7a465ba0be277b8eeb6b0f": {
      "model_module": "@jupyter-widgets/controls",
      "model_module_version": "1.5.0",
      "model_name": "DescriptionStyleModel",
      "state": {
       "description_width": ""
      }
     },
     "7fee737d38f3411ea633b61d29c610dc": {
      "model_module": "@jupyter-widgets/controls",
      "model_module_version": "1.5.0",
      "model_name": "VBoxModel",
      "state": {
       "children": [
        "IPY_MODEL_56020677244f4821b7383c1e9c06af55",
        "IPY_MODEL_81ef746cc4fb4932b2669930fb674e07",
        "IPY_MODEL_e49f4563050b42fe9c9a42a5d5fbaa43"
       ],
       "layout": "IPY_MODEL_57d18ac01b704889b7aff883a7f9a5fb"
      }
     },
     "800436adf2644242af8a17543c4be4ab": {
      "model_module": "@jupyter-widgets/controls",
      "model_module_version": "1.5.0",
      "model_name": "VBoxModel",
      "state": {
       "children": [
        "IPY_MODEL_59caa9839f2f41ddaa363bcecc78e322",
        "IPY_MODEL_83e1da126a9e43b78b9a1eac70ec70d9",
        "IPY_MODEL_d5b2855a49be47b486229ee843d1f0e4"
       ],
       "layout": "IPY_MODEL_777a2f60c43d4b29a81ed38d24c09eea"
      }
     },
     "8008bd3d7c76431ca572a4d77d8d9c81": {
      "model_module": "@jupyter-widgets/controls",
      "model_module_version": "1.5.0",
      "model_name": "VBoxModel",
      "state": {
       "children": [
        "IPY_MODEL_56020677244f4821b7383c1e9c06af55",
        "IPY_MODEL_81ef746cc4fb4932b2669930fb674e07",
        "IPY_MODEL_e49f4563050b42fe9c9a42a5d5fbaa43"
       ],
       "layout": "IPY_MODEL_19f47bcdffce49c5bbd0ea0d4bf59e58"
      }
     },
     "80a1303344f246e09855792e2514eb51": {
      "model_module": "@jupyter-widgets/base",
      "model_module_version": "1.2.0",
      "model_name": "LayoutModel",
      "state": {}
     },
     "81ac8ee36ac2417687d201b565a9da25": {
      "model_module": "@jupyter-widgets/base",
      "model_module_version": "1.2.0",
      "model_name": "LayoutModel",
      "state": {}
     },
     "81ef746cc4fb4932b2669930fb674e07": {
      "model_module": "@jupyter-widgets/controls",
      "model_module_version": "1.5.0",
      "model_name": "HBoxModel",
      "state": {
       "children": [
        "IPY_MODEL_3a3c62fdaf5a4f8c965765cbb1416124",
        "IPY_MODEL_398c7439b8b54fc49cb10d438b215beb",
        "IPY_MODEL_eb22b8a2a0f1470896d43f34aac87aaa"
       ],
       "layout": "IPY_MODEL_16335bb5ff89461ab2a7b86dd09f635d"
      }
     },
     "825e709634394410909a52df05915fc3": {
      "model_module": "@jupyter-widgets/controls",
      "model_module_version": "1.5.0",
      "model_name": "DescriptionStyleModel",
      "state": {
       "description_width": ""
      }
     },
     "837773e8c02a4fb09c589921de6f2c0a": {
      "model_module": "@jupyter-widgets/controls",
      "model_module_version": "1.5.0",
      "model_name": "ButtonStyleModel",
      "state": {}
     },
     "83e1da126a9e43b78b9a1eac70ec70d9": {
      "model_module": "@jupyter-widgets/controls",
      "model_module_version": "1.5.0",
      "model_name": "HBoxModel",
      "state": {
       "children": [
        "IPY_MODEL_9fc4051ccc144786a3a1b2a82407e011",
        "IPY_MODEL_fdfe2cdb87d944cdb3ee690ba4286d13",
        "IPY_MODEL_a336e1f7853541fc8fe1c343d8abf0fe"
       ],
       "layout": "IPY_MODEL_68069991e2d0412295a43a186da2fd71"
      }
     },
     "852606a48a01460aacc10c13f5e2a849": {
      "model_module": "@jupyter-widgets/controls",
      "model_module_version": "1.5.0",
      "model_name": "DescriptionStyleModel",
      "state": {
       "description_width": ""
      }
     },
     "85751e3e796049dfad79ec864cd756a6": {
      "model_module": "@jupyter-widgets/base",
      "model_module_version": "1.2.0",
      "model_name": "LayoutModel",
      "state": {}
     },
     "85bb4490bacc4803aa52f7e88f143764": {
      "model_module": "@jupyter-widgets/base",
      "model_module_version": "1.2.0",
      "model_name": "LayoutModel",
      "state": {}
     },
     "85dce981a49f4a79aef479f75fec62fa": {
      "model_module": "@jupyter-widgets/base",
      "model_module_version": "1.2.0",
      "model_name": "LayoutModel",
      "state": {}
     },
     "86270a2b0e194f0499bc02ed11a87717": {
      "model_module": "@jupyter-widgets/base",
      "model_module_version": "1.2.0",
      "model_name": "LayoutModel",
      "state": {}
     },
     "86bddc1cd2084b48ba7923990a12d4f1": {
      "model_module": "@jupyter-widgets/base",
      "model_module_version": "1.2.0",
      "model_name": "LayoutModel",
      "state": {}
     },
     "87c3ab05c70c4da289d63a1d88f769b3": {
      "model_module": "@jupyter-widgets/base",
      "model_module_version": "1.2.0",
      "model_name": "LayoutModel",
      "state": {}
     },
     "881b277fef824f10972a35513f9e9085": {
      "model_module": "@jupyter-widgets/controls",
      "model_module_version": "1.5.0",
      "model_name": "DescriptionStyleModel",
      "state": {
       "description_width": ""
      }
     },
     "8846b5d5e9394f33b48840d99b41c73a": {
      "model_module": "@jupyter-widgets/controls",
      "model_module_version": "1.5.0",
      "model_name": "DropdownModel",
      "state": {
       "_options_labels": [
        "Patch clamp",
        "whole cell",
        "micromanipulator"
       ],
       "description": "Clamp type:",
       "index": 0,
       "layout": "IPY_MODEL_0125b3df10864bc28c7aa72c16761893",
       "style": "IPY_MODEL_f2e4889116064f038b3e0d1e337a1c64"
      }
     },
     "88b0f04c1ac949288cdc05491ae40dad": {
      "model_module": "@jupyter-widgets/controls",
      "model_module_version": "1.5.0",
      "model_name": "DropdownModel",
      "state": {
       "_options_labels": [
        "MEA",
        "Axion",
        "SeaMoss",
        "Roberts"
       ],
       "description": "Type:",
       "index": 0,
       "layout": "IPY_MODEL_d5bba82cf6c840429b7bd6a19ad4fc7d",
       "style": "IPY_MODEL_0e6bdc1e096148c0a8796c28910dc194"
      }
     },
     "897c97794c3a4f268da6cd1353a80ba5": {
      "model_module": "@jupyter-widgets/controls",
      "model_module_version": "1.5.0",
      "model_name": "ButtonModel",
      "state": {
       "description": "Create UUID",
       "layout": "IPY_MODEL_1d5c63b8430545ee99d70f1f89d06668",
       "style": "IPY_MODEL_a28665d4d0dd4fc09c7db638124fc247",
       "tooltip": "UUID format: YYYY-MM-DD- experiment type - experiment shorthand"
      }
     },
     "89bd96684bc64b07a491f45491c400c2": {
      "model_module": "@jupyter-widgets/controls",
      "model_module_version": "1.5.0",
      "model_name": "DatePickerModel",
      "state": {
       "description": "Exp. Date:",
       "disabled": false,
       "layout": "IPY_MODEL_706377c52ecc474f8d56b1d47ee57ce1",
       "style": "IPY_MODEL_db8e4874ad3949179732b9f80c8ad561"
      }
     },
     "8b5c38385a48402b9173cc6110424e23": {
      "model_module": "@jupyter-widgets/controls",
      "model_module_version": "1.5.0",
      "model_name": "DropdownModel",
      "state": {
       "_options_labels": [
        "Calcium",
        "Ephys",
        "Fluidics",
        "Imagingi",
        "MEA",
        "Patch Clamp"
       ],
       "description": "Type:",
       "index": 0,
       "layout": "IPY_MODEL_f882455530e7494ea018bd0f0f44ccb2",
       "style": "IPY_MODEL_de1eb49f9c6b49ccbf337341f4f42504"
      }
     },
     "8c6763073fea4387a1e4296827ff4cee": {
      "model_module": "@jupyter-widgets/base",
      "model_module_version": "1.2.0",
      "model_name": "LayoutModel",
      "state": {}
     },
     "8c9d4ac2b3b6431da7cb5382ba625f3f": {
      "model_module": "@jupyter-widgets/base",
      "model_module_version": "1.2.0",
      "model_name": "LayoutModel",
      "state": {
       "justify_content": "center"
      }
     },
     "8d8bdfb2bb5b442d9ab81e48151efbc6": {
      "model_module": "@jupyter-widgets/controls",
      "model_module_version": "1.5.0",
      "model_name": "DropdownModel",
      "state": {
       "_options_labels": [
        "ca2+",
        "eGFP",
        "k+"
       ],
       "description": "Type:",
       "index": 0,
       "layout": "IPY_MODEL_390a5dcca5934d048e0015be2634e8f4",
       "style": "IPY_MODEL_964dfe35cb664c619edc534cd70d0e37"
      }
     },
     "8dec39bea045402699c980eed7a1732d": {
      "model_module": "@jupyter-widgets/base",
      "model_module_version": "1.2.0",
      "model_name": "LayoutModel",
      "state": {}
     },
     "8ee3b8a7c8234b92a28b4bfc33115cb4": {
      "model_module": "@jupyter-widgets/controls",
      "model_module_version": "1.5.0",
      "model_name": "DropdownModel",
      "state": {
       "_options_labels": [
        "ca2+",
        "eGFP",
        "k+"
       ],
       "description": "Type:",
       "index": 0,
       "layout": "IPY_MODEL_a0d7d6382087478fb6d0232564d64696",
       "style": "IPY_MODEL_4bb89b514b97452ead8c976e05a8fcba"
      }
     },
     "91d993962cfb44d6af104a65668dd953": {
      "model_module": "@jupyter-widgets/base",
      "model_module_version": "1.2.0",
      "model_name": "LayoutModel",
      "state": {}
     },
     "9297c763a6fe450d8bfcb183bebd3117": {
      "model_module": "@jupyter-widgets/controls",
      "model_module_version": "1.5.0",
      "model_name": "TextModel",
      "state": {
       "description": "Name: ",
       "layout": "IPY_MODEL_2d85eb4472264d16b97334402df6a696",
       "placeholder": "Enter experiment name",
       "style": "IPY_MODEL_33d8b76c8dd744e5bc2a507347030f51"
      }
     },
     "940d683daabd4f808c5a937ed4bcc0c5": {
      "model_module": "@jupyter-widgets/controls",
      "model_module_version": "1.5.0",
      "model_name": "VBoxModel",
      "state": {
       "children": [
        "IPY_MODEL_56020677244f4821b7383c1e9c06af55",
        "IPY_MODEL_9be8e8708b1f4f2faa9ec3ff94382952",
        "IPY_MODEL_e49f4563050b42fe9c9a42a5d5fbaa43"
       ],
       "layout": "IPY_MODEL_22f9c48a6b6749eb84a14af5c65cece4"
      }
     },
     "943d259137074e65b0c7c4ad794bc9ba": {
      "model_module": "@jupyter-widgets/controls",
      "model_module_version": "1.5.0",
      "model_name": "HBoxModel",
      "state": {
       "children": [
        "IPY_MODEL_3a3c62fdaf5a4f8c965765cbb1416124",
        "IPY_MODEL_398c7439b8b54fc49cb10d438b215beb",
        "IPY_MODEL_eb22b8a2a0f1470896d43f34aac87aaa"
       ],
       "layout": "IPY_MODEL_c7dde2d0325c422f9e4deac6c0aee39b"
      }
     },
     "9480b61827784bb9ac6a082969d99cb1": {
      "model_module": "@jupyter-widgets/controls",
      "model_module_version": "1.5.0",
      "model_name": "TextModel",
      "state": {
       "description": "Name: ",
       "layout": "IPY_MODEL_197c87f71d66475488746a501aec869f",
       "placeholder": "Enter experiment name",
       "style": "IPY_MODEL_881b277fef824f10972a35513f9e9085"
      }
     },
     "94bd7b1703b749fab592a29df58e5495": {
      "model_module": "@jupyter-widgets/base",
      "model_module_version": "1.2.0",
      "model_name": "LayoutModel",
      "state": {}
     },
     "95e9150e617246b985bebe918b0b8c04": {
      "model_module": "@jupyter-widgets/controls",
      "model_module_version": "1.5.0",
      "model_name": "DescriptionStyleModel",
      "state": {
       "description_width": ""
      }
     },
     "964dfe35cb664c619edc534cd70d0e37": {
      "model_module": "@jupyter-widgets/controls",
      "model_module_version": "1.5.0",
      "model_name": "DescriptionStyleModel",
      "state": {
       "description_width": ""
      }
     },
     "96787025502841c0bdfa7d239880b2dc": {
      "model_module": "@jupyter-widgets/controls",
      "model_module_version": "1.5.0",
      "model_name": "DropdownModel",
      "state": {
       "_options_labels": [
        "ca2+",
        "eGFP",
        "k+"
       ],
       "description": "Type:",
       "index": 0,
       "layout": "IPY_MODEL_abd963b928784923aecc22d3196e4ee7",
       "style": "IPY_MODEL_64b358cc28254abc9ec204d7e1db5630"
      }
     },
     "988e3de9947a4c88aef96c9743dc6500": {
      "model_module": "@jupyter-widgets/controls",
      "model_module_version": "1.5.0",
      "model_name": "ButtonStyleModel",
      "state": {}
     },
     "9ae648a5d5b24c5b9d64d83cca8dc267": {
      "model_module": "@jupyter-widgets/controls",
      "model_module_version": "1.5.0",
      "model_name": "DescriptionStyleModel",
      "state": {
       "description_width": ""
      }
     },
     "9b854d209ddb42989350a26616fc51e7": {
      "model_module": "@jupyter-widgets/controls",
      "model_module_version": "1.5.0",
      "model_name": "DropdownModel",
      "state": {
       "_options_labels": [
        "Calcium",
        "Ephys",
        "Fluidics",
        "Imagingi",
        "MEA",
        "Patch Clamp"
       ],
       "description": "Type:",
       "index": 0,
       "layout": "IPY_MODEL_724e7d58974146ba9a1adeee949eaac5",
       "style": "IPY_MODEL_53603e971db04c4684a0fab77edf3641"
      }
     },
     "9ba38f40546e4fefb5645ef2843544f3": {
      "model_module": "@jupyter-widgets/base",
      "model_module_version": "1.2.0",
      "model_name": "LayoutModel",
      "state": {}
     },
     "9ba46fa37928422286e5b729df44fbd9": {
      "model_module": "@jupyter-widgets/controls",
      "model_module_version": "1.5.0",
      "model_name": "DescriptionStyleModel",
      "state": {
       "description_width": ""
      }
     },
     "9bdadad229a0475da42f1ff9b149f568": {
      "model_module": "@jupyter-widgets/base",
      "model_module_version": "1.2.0",
      "model_name": "LayoutModel",
      "state": {
       "justify_content": "center"
      }
     },
     "9be8e8708b1f4f2faa9ec3ff94382952": {
      "model_module": "@jupyter-widgets/controls",
      "model_module_version": "1.5.0",
      "model_name": "HBoxModel",
      "state": {
       "children": [
        "IPY_MODEL_3a3c62fdaf5a4f8c965765cbb1416124",
        "IPY_MODEL_398c7439b8b54fc49cb10d438b215beb",
        "IPY_MODEL_eb22b8a2a0f1470896d43f34aac87aaa"
       ],
       "layout": "IPY_MODEL_e6b9ff00ddd9462f953d15206a6a56a8"
      }
     },
     "9ca8bea922c6448d94cf4dd351a14d8e": {
      "model_module": "@jupyter-widgets/controls",
      "model_module_version": "1.5.0",
      "model_name": "TextModel",
      "state": {
       "description": "Name: ",
       "layout": "IPY_MODEL_73031fb0ad134ef6a1bbdcc5c79a7197",
       "placeholder": "Enter experiment name",
       "style": "IPY_MODEL_f662b06e4d744450b7b2aa9cf704617b"
      }
     },
     "9de8daed66a94ccb998cb3e07c62b24b": {
      "model_module": "@jupyter-widgets/base",
      "model_module_version": "1.2.0",
      "model_name": "LayoutModel",
      "state": {
       "justify_content": "center"
      }
     },
     "9e8063854c1c4efd927d1b5ea7242ac6": {
      "model_module": "@jupyter-widgets/controls",
      "model_module_version": "1.5.0",
      "model_name": "ButtonModel",
      "state": {
       "description": "Create UUID",
       "layout": "IPY_MODEL_c726ede939e74448b915f28b4bfe4f68",
       "style": "IPY_MODEL_ddfd89c48fe741fcb4cd0428afc60826"
      }
     },
     "9fc4051ccc144786a3a1b2a82407e011": {
      "model_module": "@jupyter-widgets/controls",
      "model_module_version": "1.5.0",
      "model_name": "DatePickerModel",
      "state": {
       "description": "Exp. Date:",
       "disabled": false,
       "layout": "IPY_MODEL_cda0962863cd49a0936f381fd4e026bd",
       "style": "IPY_MODEL_1efd02f686f9434bbbe7b4a53ffd5b04",
       "value": {
        "date": 12,
        "month": 4,
        "year": 2021
       }
      }
     },
     "9ffbc461bd8247d38938ea2889154366": {
      "model_module": "@jupyter-widgets/controls",
      "model_module_version": "1.5.0",
      "model_name": "DescriptionStyleModel",
      "state": {
       "description_width": ""
      }
     },
     "a0345bdc2d064838a09cc1ce738bd36c": {
      "model_module": "@jupyter-widgets/controls",
      "model_module_version": "1.5.0",
      "model_name": "DatePickerModel",
      "state": {
       "description": "Exp. Date:",
       "disabled": false,
       "layout": "IPY_MODEL_f2b98c893f7f4dd1a3f10450b2621933",
       "style": "IPY_MODEL_c3597ee7cf344c049d0ceac64dc7fddf",
       "value": {
        "date": 21,
        "month": 3,
        "year": 2021
       }
      }
     },
     "a0cadf2aa2674dd0abf2b01c8d09303b": {
      "model_module": "@jupyter-widgets/controls",
      "model_module_version": "1.5.0",
      "model_name": "ButtonStyleModel",
      "state": {}
     },
     "a0d7d6382087478fb6d0232564d64696": {
      "model_module": "@jupyter-widgets/base",
      "model_module_version": "1.2.0",
      "model_name": "LayoutModel",
      "state": {}
     },
     "a1c7f8961fd149b29b545bb77f062963": {
      "model_module": "@jupyter-widgets/base",
      "model_module_version": "1.2.0",
      "model_name": "LayoutModel",
      "state": {}
     },
     "a28665d4d0dd4fc09c7db638124fc247": {
      "model_module": "@jupyter-widgets/controls",
      "model_module_version": "1.5.0",
      "model_name": "ButtonStyleModel",
      "state": {}
     },
     "a336e1f7853541fc8fe1c343d8abf0fe": {
      "model_module": "@jupyter-widgets/controls",
      "model_module_version": "1.5.0",
      "model_name": "TextModel",
      "state": {
       "description": "Name: ",
       "layout": "IPY_MODEL_068d462235b4408d990c21b2a54218c6",
       "placeholder": "Enter experiment name",
       "style": "IPY_MODEL_5092cf8ee17440b2af6c7526ed9dc77d",
       "value": "testit"
      }
     },
     "a3c7ce10152d45aab90a71e7608db4b8": {
      "model_module": "@jupyter-widgets/base",
      "model_module_version": "1.2.0",
      "model_name": "LayoutModel",
      "state": {}
     },
     "a3d75f8cbb974c66b3265ae0c7c2e349": {
      "model_module": "@jupyter-widgets/base",
      "model_module_version": "1.2.0",
      "model_name": "LayoutModel",
      "state": {}
     },
     "a3e4d799f6374752b531869b1b5773be": {
      "model_module": "@jupyter-widgets/base",
      "model_module_version": "1.2.0",
      "model_name": "LayoutModel",
      "state": {}
     },
     "a46599ba838b49949969279a5ea19601": {
      "model_module": "@jupyter-widgets/base",
      "model_module_version": "1.2.0",
      "model_name": "LayoutModel",
      "state": {}
     },
     "a596ce1d7352441a86ae80d87f4b2547": {
      "model_module": "@jupyter-widgets/controls",
      "model_module_version": "1.5.0",
      "model_name": "DescriptionStyleModel",
      "state": {
       "description_width": ""
      }
     },
     "a5ea1faf45724b2e8cdaffce0c3b63be": {
      "model_module": "@jupyter-widgets/controls",
      "model_module_version": "1.5.0",
      "model_name": "TextModel",
      "state": {
       "description": "Name: ",
       "layout": "IPY_MODEL_80a1303344f246e09855792e2514eb51",
       "placeholder": "Enter experiment name",
       "style": "IPY_MODEL_fe189dbd5f984848936c3a3610665505"
      }
     },
     "a6a7d38e81474c969056c40e4d05b37b": {
      "model_module": "@jupyter-widgets/controls",
      "model_module_version": "1.5.0",
      "model_name": "ButtonModel",
      "state": {
       "description": "Create UUID",
       "layout": "IPY_MODEL_2c4afc59477a4069b7c8d2c7f5514c5e",
       "style": "IPY_MODEL_02e5234163434ce28e77103628150e51",
       "tooltip": "UUID format: YYYY-MM-DD- experiment type - experiment shorthand"
      }
     },
     "a6c52a6580584b928198f85c3e6fe1c6": {
      "model_module": "@jupyter-widgets/controls",
      "model_module_version": "1.5.0",
      "model_name": "DescriptionStyleModel",
      "state": {
       "description_width": ""
      }
     },
     "a6ed29c49a3b4a76a34882be8a682a9f": {
      "model_module": "@jupyter-widgets/base",
      "model_module_version": "1.2.0",
      "model_name": "LayoutModel",
      "state": {}
     },
     "a910f95a2c6847be9f20f5cb0fa04526": {
      "model_module": "@jupyter-widgets/controls",
      "model_module_version": "1.5.0",
      "model_name": "DescriptionStyleModel",
      "state": {
       "description_width": ""
      }
     },
     "a94ac13e195b407b9f46becd6ac5de88": {
      "model_module": "@jupyter-widgets/controls",
      "model_module_version": "1.5.0",
      "model_name": "DropdownModel",
      "state": {
       "_options_labels": [
        "Calcium",
        "Ephys",
        "Fluidics",
        "Imagingi",
        "MEA",
        "Patch Clamp"
       ],
       "description": "Type:",
       "index": 4,
       "layout": "IPY_MODEL_10e1745c43da4e1a93e9db95ece112ef",
       "style": "IPY_MODEL_1b1abf1181584f7c82213b6a7124d742"
      }
     },
     "a9e77b3cb49b4a7f815b5dbe47e97c15": {
      "model_module": "@jupyter-widgets/base",
      "model_module_version": "1.2.0",
      "model_name": "LayoutModel",
      "state": {}
     },
     "aa3e45c048dd48ab9523d710bd68bd99": {
      "model_module": "@jupyter-widgets/controls",
      "model_module_version": "1.5.0",
      "model_name": "FileUploadModel",
      "state": {
       "description_tooltip": null,
       "layout": "IPY_MODEL_5c822c2201fa41d5b5ed2ed0e2a2340b",
       "multiple": true,
       "style": "IPY_MODEL_b40096ce194e4e91ae3f54cb4d0648ac"
      }
     },
     "abd963b928784923aecc22d3196e4ee7": {
      "model_module": "@jupyter-widgets/base",
      "model_module_version": "1.2.0",
      "model_name": "LayoutModel",
      "state": {}
     },
     "ae3a667efdfa4ffbaaac93574fb0e3b2": {
      "model_module": "@jupyter-widgets/base",
      "model_module_version": "1.2.0",
      "model_name": "LayoutModel",
      "state": {}
     },
     "aeaebe1f4013447ba42aefdd2ea01985": {
      "model_module": "@jupyter-widgets/controls",
      "model_module_version": "1.5.0",
      "model_name": "DropdownModel",
      "state": {
       "_options_labels": [
        "Calcium (c)",
        "Ephys (e)",
        "Fluidics (f)",
        "Imaging (i)",
        "MEA (m)",
        "Patch Clamp (p)"
       ],
       "description": "Type:",
       "index": 0,
       "layout": "IPY_MODEL_05ba809ffef04b4389574c21e0e14633",
       "style": "IPY_MODEL_74696ba6f748442c9eda9be79ce0840e"
      }
     },
     "b029c684c4ba4a85b8e0dc043292e24f": {
      "model_module": "@jupyter-widgets/controls",
      "model_module_version": "1.5.0",
      "model_name": "DescriptionStyleModel",
      "state": {
       "description_width": ""
      }
     },
     "b0a41408c68040209ad045f20b901ca6": {
      "model_module": "@jupyter-widgets/base",
      "model_module_version": "1.2.0",
      "model_name": "LayoutModel",
      "state": {}
     },
     "b0d436857ba54d7f8d2dcf18935c884b": {
      "model_module": "@jupyter-widgets/controls",
      "model_module_version": "1.5.0",
      "model_name": "DescriptionStyleModel",
      "state": {
       "description_width": ""
      }
     },
     "b10d2ff2d6cb41fb9447ccf0f7134bc5": {
      "model_module": "@jupyter-widgets/controls",
      "model_module_version": "1.5.0",
      "model_name": "DropdownModel",
      "state": {
       "_options_labels": [
        "Calcium",
        "Ephys",
        "Fluidics",
        "Imagingi",
        "MEA",
        "Patch Clamp"
       ],
       "description": "Type:",
       "index": 0,
       "layout": "IPY_MODEL_0f66fddc2eb64c99ac1b1db62699144e",
       "style": "IPY_MODEL_10af70f7cfd148368037a5ca0737565f"
      }
     },
     "b11f2309e5c946bcb2ecd9dfc9077b02": {
      "model_module": "@jupyter-widgets/controls",
      "model_module_version": "1.5.0",
      "model_name": "TextModel",
      "state": {
       "description": "Name: ",
       "layout": "IPY_MODEL_51a294ede3eb45c983db09d5419202dd",
       "placeholder": "Enter experiment name",
       "style": "IPY_MODEL_17d011a2e26c440f923ab6310b3e516a"
      }
     },
     "b17daa51547e477f8f2bb018a0f86429": {
      "model_module": "@jupyter-widgets/base",
      "model_module_version": "1.2.0",
      "model_name": "LayoutModel",
      "state": {}
     },
     "b1809143d87c417085331ca28256d877": {
      "model_module": "@jupyter-widgets/base",
      "model_module_version": "1.2.0",
      "model_name": "LayoutModel",
      "state": {}
     },
     "b2513c0d9e0a4ca5b27dfe0f2257cb18": {
      "model_module": "@jupyter-widgets/base",
      "model_module_version": "1.2.0",
      "model_name": "LayoutModel",
      "state": {}
     },
     "b2e349da1943467c94f8d28022aba0b1": {
      "model_module": "@jupyter-widgets/base",
      "model_module_version": "1.2.0",
      "model_name": "LayoutModel",
      "state": {}
     },
     "b40096ce194e4e91ae3f54cb4d0648ac": {
      "model_module": "@jupyter-widgets/controls",
      "model_module_version": "1.5.0",
      "model_name": "ButtonStyleModel",
      "state": {}
     },
     "b42b201c847a43e3aed0b290d5692f67": {
      "model_module": "@jupyter-widgets/controls",
      "model_module_version": "1.5.0",
      "model_name": "DescriptionStyleModel",
      "state": {
       "description_width": ""
      }
     },
     "b54e1527062c40e2a9df0e0ad89f4ecc": {
      "model_module": "@jupyter-widgets/controls",
      "model_module_version": "1.5.0",
      "model_name": "DescriptionStyleModel",
      "state": {
       "description_width": ""
      }
     },
     "b6425b541a974d80a563cbed2cda2f29": {
      "model_module": "@jupyter-widgets/controls",
      "model_module_version": "1.5.0",
      "model_name": "VBoxModel",
      "state": {
       "children": [
        "IPY_MODEL_01b13c18f8cc44ccae570619bca9c4d9",
        "IPY_MODEL_4d2bade21d5f4fb3909e6c6b53c47099",
        "IPY_MODEL_c6720fbf58d64f5f89e3f09aecabf082"
       ],
       "layout": "IPY_MODEL_b0a41408c68040209ad045f20b901ca6"
      }
     },
     "b6a203c7a9d44bce84e5d7d81af8f055": {
      "model_module": "@jupyter-widgets/controls",
      "model_module_version": "1.5.0",
      "model_name": "DescriptionStyleModel",
      "state": {
       "description_width": ""
      }
     },
     "b7a097002020498392dd7645f7feb512": {
      "model_module": "@jupyter-widgets/base",
      "model_module_version": "1.2.0",
      "model_name": "LayoutModel",
      "state": {}
     },
     "b8321dccafcd4f34a9dce67f86c6e9b1": {
      "model_module": "@jupyter-widgets/controls",
      "model_module_version": "1.5.0",
      "model_name": "FileUploadModel",
      "state": {
       "description_tooltip": null,
       "layout": "IPY_MODEL_a46599ba838b49949969279a5ea19601",
       "multiple": true,
       "style": "IPY_MODEL_f2743c5729084a04bc7d41e81e492d34"
      }
     },
     "b868d8d91f1a4d84a5944ed3b105e4cb": {
      "model_module": "@jupyter-widgets/controls",
      "model_module_version": "1.5.0",
      "model_name": "DatePickerModel",
      "state": {
       "description": "Exp. Date:",
       "disabled": false,
       "layout": "IPY_MODEL_b7a097002020498392dd7645f7feb512",
       "style": "IPY_MODEL_4da28ecfd4f647df88c07e695f9b2f7b"
      }
     },
     "b8c45263e25c418284f0a99de21fa63f": {
      "model_module": "@jupyter-widgets/controls",
      "model_module_version": "1.5.0",
      "model_name": "DescriptionStyleModel",
      "state": {
       "description_width": ""
      }
     },
     "b8d1e36bc8e245059e50b84ddf64ac25": {
      "model_module": "@jupyter-widgets/controls",
      "model_module_version": "1.5.0",
      "model_name": "DropdownModel",
      "state": {
       "_options_labels": [
        "MEA",
        "Axonion",
        "SeaMoss",
        "Roberts"
       ],
       "description": "Type:",
       "index": 0,
       "layout": "IPY_MODEL_ed6b944e72134af4b8e10d89a13185f7",
       "style": "IPY_MODEL_7b4271e8c9a34aa19a632006fc4b8808"
      }
     },
     "b9bd866689a1479982c787bdc29bad4d": {
      "model_module": "@jupyter-widgets/controls",
      "model_module_version": "1.5.0",
      "model_name": "TextModel",
      "state": {
       "description": "Name: ",
       "layout": "IPY_MODEL_3637729adbd4416088cd5cb9971982d2",
       "placeholder": "Enter experiment name",
       "style": "IPY_MODEL_b54e1527062c40e2a9df0e0ad89f4ecc"
      }
     },
     "bafbcbe43f214859a10dcab4c5933a22": {
      "model_module": "@jupyter-widgets/base",
      "model_module_version": "1.2.0",
      "model_name": "LayoutModel",
      "state": {}
     },
     "bb2ec0a7ff07486bb334a453817084a1": {
      "model_module": "@jupyter-widgets/controls",
      "model_module_version": "1.5.0",
      "model_name": "TextModel",
      "state": {
       "description": "Name: ",
       "layout": "IPY_MODEL_1508c1b406434a919ee334fe9e8a168d",
       "placeholder": "Enter experiment name",
       "style": "IPY_MODEL_563be7d3d2664a84a1281a1a7adaa48d",
       "value": "experiment"
      }
     },
     "bbd0bee01479422b9b533faf9ec3ab2a": {
      "model_module": "@jupyter-widgets/controls",
      "model_module_version": "1.5.0",
      "model_name": "DescriptionStyleModel",
      "state": {
       "description_width": ""
      }
     },
     "bc5cce90cea942e1be07a75cb1a951f1": {
      "model_module": "@jupyter-widgets/base",
      "model_module_version": "1.2.0",
      "model_name": "LayoutModel",
      "state": {}
     },
     "bcb91037ab9142e9990e1642bac81725": {
      "model_module": "@jupyter-widgets/base",
      "model_module_version": "1.2.0",
      "model_name": "LayoutModel",
      "state": {}
     },
     "bcceea9a826e4291ad86d5d7dde7ff83": {
      "model_module": "@jupyter-widgets/controls",
      "model_module_version": "1.5.0",
      "model_name": "DescriptionStyleModel",
      "state": {
       "description_width": ""
      }
     },
     "bd7f0b0570044fbdaa95ddbdf904edb2": {
      "model_module": "@jupyter-widgets/base",
      "model_module_version": "1.2.0",
      "model_name": "LayoutModel",
      "state": {}
     },
     "be0e7e3459c44fd19acb81d43dbb87fc": {
      "model_module": "@jupyter-widgets/controls",
      "model_module_version": "1.5.0",
      "model_name": "DropdownModel",
      "state": {
       "_options_labels": [
        "Patch clamp",
        "whole cell",
        "micromanipulator"
       ],
       "description": "Clamp type:",
       "index": 0,
       "layout": "IPY_MODEL_a9e77b3cb49b4a7f815b5dbe47e97c15",
       "style": "IPY_MODEL_cb6bea3608624e779e421ddb027b5c61"
      }
     },
     "be3bce488d4c4aad98de72c4418e182b": {
      "model_module": "@jupyter-widgets/controls",
      "model_module_version": "1.5.0",
      "model_name": "HBoxModel",
      "state": {
       "children": [
        "IPY_MODEL_7059b75e5f154c8981d41adc9cccd7ea",
        "IPY_MODEL_a94ac13e195b407b9f46becd6ac5de88",
        "IPY_MODEL_6398933f32d444adb689653b6e5dbf79"
       ],
       "layout": "IPY_MODEL_a1c7f8961fd149b29b545bb77f062963"
      }
     },
     "be4d2e34d7d5407caf2864af9e18ad5d": {
      "model_module": "@jupyter-widgets/base",
      "model_module_version": "1.2.0",
      "model_name": "LayoutModel",
      "state": {}
     },
     "be8726a10e7947bb811858de69d3b2b2": {
      "model_module": "@jupyter-widgets/controls",
      "model_module_version": "1.5.0",
      "model_name": "DescriptionStyleModel",
      "state": {
       "description_width": ""
      }
     },
     "bf854616bff2431ca8d55ade15ce1423": {
      "model_module": "@jupyter-widgets/controls",
      "model_module_version": "1.5.0",
      "model_name": "DropdownModel",
      "state": {
       "_options_labels": [
        "Patch clamp",
        "whole cell",
        "micromanipulator"
       ],
       "description": "Type:",
       "index": 0,
       "layout": "IPY_MODEL_7367c1510d5040c68cff32a7c7407d0f",
       "style": "IPY_MODEL_ddf5204d1dd04644bfe9034c57c11445"
      }
     },
     "c180ed0cb5494ca8aa932e9bddce4eec": {
      "model_module": "@jupyter-widgets/controls",
      "model_module_version": "1.5.0",
      "model_name": "HTMLModel",
      "state": {
       "layout": "IPY_MODEL_b2e349da1943467c94f8d28022aba0b1",
       "style": "IPY_MODEL_0c206f04037c447e8d213899af075893",
       "value": "<h3 class = 'text-center'><font color='purple'>createUUID</font>"
      }
     },
     "c1c60f57551f4d6db220813f976a304b": {
      "model_module": "@jupyter-widgets/controls",
      "model_module_version": "1.5.0",
      "model_name": "TextModel",
      "state": {
       "layout": "IPY_MODEL_15e1178446b148c2a362038ffeca2a32",
       "style": "IPY_MODEL_dc46cd81b18d41209540c571263d378d"
      }
     },
     "c273b1cadd2b474daf16a51d71b83fa2": {
      "model_module": "@jupyter-widgets/controls",
      "model_module_version": "1.5.0",
      "model_name": "TextModel",
      "state": {
       "description": "Name: ",
       "layout": "IPY_MODEL_361754f3e53c4cdeaa0831f5da0a8910",
       "placeholder": "Enter experiment name",
       "style": "IPY_MODEL_b029c684c4ba4a85b8e0dc043292e24f"
      }
     },
     "c280289f2f704fb998cf09190595ec9b": {
      "model_module": "@jupyter-widgets/controls",
      "model_module_version": "1.5.0",
      "model_name": "DescriptionStyleModel",
      "state": {
       "description_width": ""
      }
     },
     "c3597ee7cf344c049d0ceac64dc7fddf": {
      "model_module": "@jupyter-widgets/controls",
      "model_module_version": "1.5.0",
      "model_name": "DescriptionStyleModel",
      "state": {
       "description_width": ""
      }
     },
     "c3b8f2f1266d46a0a5058861a37ad207": {
      "model_module": "@jupyter-widgets/base",
      "model_module_version": "1.2.0",
      "model_name": "LayoutModel",
      "state": {}
     },
     "c436752e43e54c058a393f59eae4fab0": {
      "model_module": "@jupyter-widgets/base",
      "model_module_version": "1.2.0",
      "model_name": "LayoutModel",
      "state": {}
     },
     "c45e83c69772449abb0ebf623b3dd0e9": {
      "model_module": "@jupyter-widgets/controls",
      "model_module_version": "1.5.0",
      "model_name": "FileUploadModel",
      "state": {
       "description_tooltip": null,
       "layout": "IPY_MODEL_7ecc752659b04fa8bd593278658cd76c",
       "multiple": true,
       "style": "IPY_MODEL_db5ababe264e4ff8aa027b342d0542cc"
      }
     },
     "c62c5a24d87f473fa062a8007b4b0873": {
      "model_module": "@jupyter-widgets/controls",
      "model_module_version": "1.5.0",
      "model_name": "ButtonModel",
      "state": {
       "description": "Create UUID",
       "layout": "IPY_MODEL_43ae91b8a51c4b92b11bf199b9624600",
       "style": "IPY_MODEL_e240d94bdb4849cf8e8fbbcf6d94455c",
       "tooltip": "UUID format: YYYY-MM-DD- experiment type - experiment shorthand"
      }
     },
     "c6540bb231cc44019a9c0f7aad9015d7": {
      "model_module": "@jupyter-widgets/base",
      "model_module_version": "1.2.0",
      "model_name": "LayoutModel",
      "state": {}
     },
     "c6720fbf58d64f5f89e3f09aecabf082": {
      "model_module": "@jupyter-widgets/controls",
      "model_module_version": "1.5.0",
      "model_name": "HBoxModel",
      "state": {
       "children": [
        "IPY_MODEL_1fed37d68f4c4a6d8dcaacab22056f38"
       ],
       "layout": "IPY_MODEL_7909175dacb940db94152fc3d8932eea"
      }
     },
     "c726ede939e74448b915f28b4bfe4f68": {
      "model_module": "@jupyter-widgets/base",
      "model_module_version": "1.2.0",
      "model_name": "LayoutModel",
      "state": {}
     },
     "c7dde2d0325c422f9e4deac6c0aee39b": {
      "model_module": "@jupyter-widgets/base",
      "model_module_version": "1.2.0",
      "model_name": "LayoutModel",
      "state": {}
     },
     "c8959ec90316487ca28692c486ed3a0e": {
      "model_module": "@jupyter-widgets/controls",
      "model_module_version": "1.5.0",
      "model_name": "DropdownModel",
      "state": {
       "_options_labels": [
        "Patch clamp",
        "whole cell",
        "micromanipulator"
       ],
       "description": "Clamp type:",
       "index": 0,
       "layout": "IPY_MODEL_3d9f40e7b57f4900a032e96892031d76",
       "style": "IPY_MODEL_7fe64b9ffa7a465ba0be277b8eeb6b0f"
      }
     },
     "c8aa4c3812dc4ed9998939180b83bd15": {
      "model_module": "@jupyter-widgets/controls",
      "model_module_version": "1.5.0",
      "model_name": "VBoxModel",
      "state": {
       "children": [
        "IPY_MODEL_56020677244f4821b7383c1e9c06af55",
        "IPY_MODEL_81ef746cc4fb4932b2669930fb674e07",
        "IPY_MODEL_e49f4563050b42fe9c9a42a5d5fbaa43"
       ],
       "layout": "IPY_MODEL_bcb91037ab9142e9990e1642bac81725"
      }
     },
     "c8cdbab1c97149a9a29471c95b1c2828": {
      "model_module": "@jupyter-widgets/base",
      "model_module_version": "1.2.0",
      "model_name": "LayoutModel",
      "state": {}
     },
     "c92fae74debc40d0869a79766bf39f11": {
      "model_module": "@jupyter-widgets/controls",
      "model_module_version": "1.5.0",
      "model_name": "TextModel",
      "state": {
       "description": "Name: ",
       "layout": "IPY_MODEL_4ec6ef3dea7947d0b916bb826cf4b42b",
       "placeholder": "Enter experiment name",
       "style": "IPY_MODEL_60e42bd16fe34b90ba53711ef3d374a3"
      }
     },
     "cad590ee7be74e7abaee62fa3f96757b": {
      "model_module": "@jupyter-widgets/controls",
      "model_module_version": "1.5.0",
      "model_name": "DropdownModel",
      "state": {
       "_options_labels": [
        "Calcium",
        "Ephys",
        "Fluidics",
        "Imagingi",
        "MEA",
        "Patch Clamp"
       ],
       "description": "Type:",
       "index": 0,
       "layout": "IPY_MODEL_12d017187bcd482a87461fc14f6bd0b4",
       "style": "IPY_MODEL_9ffbc461bd8247d38938ea2889154366"
      }
     },
     "cb453487dea74628bf36b478f8c03deb": {
      "model_module": "@jupyter-widgets/base",
      "model_module_version": "1.2.0",
      "model_name": "LayoutModel",
      "state": {}
     },
     "cb6bea3608624e779e421ddb027b5c61": {
      "model_module": "@jupyter-widgets/controls",
      "model_module_version": "1.5.0",
      "model_name": "DescriptionStyleModel",
      "state": {
       "description_width": ""
      }
     },
     "cbda4ecde90a42718cb45631ac5ef9e8": {
      "model_module": "@jupyter-widgets/controls",
      "model_module_version": "1.5.0",
      "model_name": "TextModel",
      "state": {
       "description": "Name: ",
       "layout": "IPY_MODEL_85dce981a49f4a79aef479f75fec62fa",
       "placeholder": "Enter experiment name",
       "style": "IPY_MODEL_21f26d8fa6c847ef9d85514b9fdfeddb",
       "value": "cells"
      }
     },
     "cbf42832851949b2ac708e0c06e5d683": {
      "model_module": "@jupyter-widgets/controls",
      "model_module_version": "1.5.0",
      "model_name": "DropdownModel",
      "state": {
       "_options_labels": [
        "ca2+",
        "eGFP",
        "k+"
       ],
       "description": "Type:",
       "index": 0,
       "layout": "IPY_MODEL_24e13b47e7794e11a1276e76470b9be6",
       "style": "IPY_MODEL_da213216150a43a382d9e77d82a049f7"
      }
     },
     "ccd8ab3447bc45fabfb447605de68cd9": {
      "model_module": "@jupyter-widgets/base",
      "model_module_version": "1.2.0",
      "model_name": "LayoutModel",
      "state": {}
     },
     "ccf717ea8f5b4e69a9e3f3e6c5509bf4": {
      "model_module": "@jupyter-widgets/base",
      "model_module_version": "1.2.0",
      "model_name": "LayoutModel",
      "state": {}
     },
     "cd17f4058d834509887884e6632d8ee9": {
      "model_module": "@jupyter-widgets/controls",
      "model_module_version": "1.5.0",
      "model_name": "VBoxModel",
      "state": {
       "children": [
        "IPY_MODEL_42ac2e7b24e743b3be5bb11eaeeacbf1",
        "IPY_MODEL_6c1f8b89a7164ec9926bc2df0a023fc6",
        "IPY_MODEL_d5b2855a49be47b486229ee843d1f0e4"
       ],
       "layout": "IPY_MODEL_7a5dc69d4d3449639510a75e8b352d15"
      }
     },
     "cd6ff4ddbcb847ed9513b2692d6dad35": {
      "model_module": "@jupyter-widgets/controls",
      "model_module_version": "1.5.0",
      "model_name": "DatePickerModel",
      "state": {
       "description": "Exp. Date:",
       "disabled": false,
       "layout": "IPY_MODEL_0db373cfdb724987899ff9ef1399eeff",
       "style": "IPY_MODEL_233d0e08b63645d1a27966e6e0f591c2"
      }
     },
     "cda0962863cd49a0936f381fd4e026bd": {
      "model_module": "@jupyter-widgets/base",
      "model_module_version": "1.2.0",
      "model_name": "LayoutModel",
      "state": {}
     },
     "cdc3818e8ecd4d4f9536be296682ee96": {
      "model_module": "@jupyter-widgets/base",
      "model_module_version": "1.2.0",
      "model_name": "LayoutModel",
      "state": {}
     },
     "cefcff0df3f449a89da1ccb1c379d899": {
      "model_module": "@jupyter-widgets/controls",
      "model_module_version": "1.5.0",
      "model_name": "DropdownModel",
      "state": {
       "_options_labels": [
        "Calcium",
        "Ephys",
        "Fluidics",
        "Imagingi",
        "MEA",
        "Patch Clamp"
       ],
       "description": "Type:",
       "index": 0,
       "layout": "IPY_MODEL_1883cb7fc044409b9c1c30e34762b2bb",
       "style": "IPY_MODEL_4794f36694874e90a4a5f863953ac394"
      }
     },
     "cffafd7787bd4a579932ed4935d54b13": {
      "model_module": "@jupyter-widgets/controls",
      "model_module_version": "1.5.0",
      "model_name": "ButtonStyleModel",
      "state": {}
     },
     "d1c3cace53cf4142864b74f29581004c": {
      "model_module": "@jupyter-widgets/controls",
      "model_module_version": "1.5.0",
      "model_name": "DescriptionStyleModel",
      "state": {
       "description_width": ""
      }
     },
     "d23f791b2fa94492b7d2eeaa6fb2b3e7": {
      "model_module": "@jupyter-widgets/base",
      "model_module_version": "1.2.0",
      "model_name": "LayoutModel",
      "state": {}
     },
     "d259da5e96114272a370175d7467043b": {
      "model_module": "@jupyter-widgets/base",
      "model_module_version": "1.2.0",
      "model_name": "LayoutModel",
      "state": {}
     },
     "d2baf602595c4d49a4a84788222e3ad4": {
      "model_module": "@jupyter-widgets/base",
      "model_module_version": "1.2.0",
      "model_name": "LayoutModel",
      "state": {}
     },
     "d2d8476e63b846959a611ae17e91f8c1": {
      "model_module": "@jupyter-widgets/controls",
      "model_module_version": "1.5.0",
      "model_name": "ButtonModel",
      "state": {
       "description": "Create UUID",
       "layout": "IPY_MODEL_014b03db57894f2ea254cb030459be75",
       "style": "IPY_MODEL_d81022ce8a7643089a5b94bc73177c6f",
       "tooltip": "Create UUID"
      }
     },
     "d3108e89f1e743588d48c5bd85495857": {
      "model_module": "@jupyter-widgets/controls",
      "model_module_version": "1.5.0",
      "model_name": "DropdownModel",
      "state": {
       "_options_labels": [
        "MEA",
        "Axion",
        "SeaMoss",
        "Roberts"
       ],
       "description": "Type:",
       "index": 0,
       "layout": "IPY_MODEL_61747be3b9f34526b506d14eae514895",
       "style": "IPY_MODEL_c280289f2f704fb998cf09190595ec9b"
      }
     },
     "d33c85ddfe7646c3b9d03a788d74316c": {
      "model_module": "@jupyter-widgets/controls",
      "model_module_version": "1.5.0",
      "model_name": "HBoxModel",
      "state": {
       "children": [
        "IPY_MODEL_897c97794c3a4f268da6cd1353a80ba5"
       ],
       "layout": "IPY_MODEL_63be2a3ac07a438fab29f19674404d17"
      }
     },
     "d388e10fd2954803a805e180b8dd14da": {
      "model_module": "@jupyter-widgets/controls",
      "model_module_version": "1.5.0",
      "model_name": "TextModel",
      "state": {
       "description": "Name: ",
       "layout": "IPY_MODEL_de37b175911e424fb29e191371c0c20f",
       "placeholder": "Enter experiment name",
       "style": "IPY_MODEL_f9528522a1eb4988872382b56bbc777d"
      }
     },
     "d40ff979dab04ee39d9ec9bdc784c934": {
      "model_module": "@jupyter-widgets/controls",
      "model_module_version": "1.5.0",
      "model_name": "DescriptionStyleModel",
      "state": {
       "description_width": ""
      }
     },
     "d4ae7de6df154c139c5fdc1761f7a650": {
      "model_module": "@jupyter-widgets/base",
      "model_module_version": "1.2.0",
      "model_name": "LayoutModel",
      "state": {}
     },
     "d5b2855a49be47b486229ee843d1f0e4": {
      "model_module": "@jupyter-widgets/controls",
      "model_module_version": "1.5.0",
      "model_name": "ButtonModel",
      "state": {
       "description": "Create UUID",
       "layout": "IPY_MODEL_8c9d4ac2b3b6431da7cb5382ba625f3f",
       "style": "IPY_MODEL_06277a43dedc4cf78d51977382824df5",
       "tooltip": "UUID format: YYYY-MM-DD- experiment type - experiment shorthand"
      }
     },
     "d5bba82cf6c840429b7bd6a19ad4fc7d": {
      "model_module": "@jupyter-widgets/base",
      "model_module_version": "1.2.0",
      "model_name": "LayoutModel",
      "state": {}
     },
     "d62d8d1c432244e1bb789dc51beb57bd": {
      "model_module": "@jupyter-widgets/base",
      "model_module_version": "1.2.0",
      "model_name": "LayoutModel",
      "state": {}
     },
     "d6a008def90747a99db8ee0a0899f5ca": {
      "model_module": "@jupyter-widgets/controls",
      "model_module_version": "1.5.0",
      "model_name": "FileUploadModel",
      "state": {
       "description_tooltip": null,
       "layout": "IPY_MODEL_85751e3e796049dfad79ec864cd756a6",
       "multiple": true,
       "style": "IPY_MODEL_49ae777eb21040498af6ea3119b08ebe"
      }
     },
     "d81022ce8a7643089a5b94bc73177c6f": {
      "model_module": "@jupyter-widgets/controls",
      "model_module_version": "1.5.0",
      "model_name": "ButtonStyleModel",
      "state": {}
     },
     "d83f79b1c0cd4347b358bfb7853422f5": {
      "model_module": "@jupyter-widgets/controls",
      "model_module_version": "1.5.0",
      "model_name": "FileUploadModel",
      "state": {
       "description_tooltip": null,
       "layout": "IPY_MODEL_5a4124f872f04f8c958abdb4f24ec350",
       "multiple": true,
       "style": "IPY_MODEL_837773e8c02a4fb09c589921de6f2c0a"
      }
     },
     "d864b11bd1c34d2eac1f20bd19e50ad4": {
      "model_module": "@jupyter-widgets/controls",
      "model_module_version": "1.5.0",
      "model_name": "DropdownModel",
      "state": {
       "_options_labels": [
        "Calcium",
        "Ephys",
        "Fluidics",
        "Imagingi",
        "MEA",
        "Patch Clamp"
       ],
       "description": "Type:",
       "index": 0,
       "layout": "IPY_MODEL_ccf717ea8f5b4e69a9e3f3e6c5509bf4",
       "style": "IPY_MODEL_68e7e7547c3b405d88dfcac67e1cc19d"
      }
     },
     "d8980eeea44b4a2593e4c43068c144bd": {
      "model_module": "@jupyter-widgets/controls",
      "model_module_version": "1.5.0",
      "model_name": "VBoxModel",
      "state": {
       "children": [
        "IPY_MODEL_42ac2e7b24e743b3be5bb11eaeeacbf1",
        "IPY_MODEL_6c1f8b89a7164ec9926bc2df0a023fc6",
        "IPY_MODEL_6a854b04787146ca924a65e64b3c7c42"
       ],
       "layout": "IPY_MODEL_ccd8ab3447bc45fabfb447605de68cd9"
      }
     },
     "d969903dfde24937a118344b9b5c9432": {
      "model_module": "@jupyter-widgets/controls",
      "model_module_version": "1.5.0",
      "model_name": "HTMLModel",
      "state": {
       "layout": "IPY_MODEL_5d056b753bd84c9cb964635d1a4b1ac7",
       "style": "IPY_MODEL_5617d8fa878249cd98e2e2a4b70877f0",
       "value": "<h3 class = 'text-center'><font color='purple'>UUID</font>"
      }
     },
     "da213216150a43a382d9e77d82a049f7": {
      "model_module": "@jupyter-widgets/controls",
      "model_module_version": "1.5.0",
      "model_name": "DescriptionStyleModel",
      "state": {
       "description_width": ""
      }
     },
     "da46a0767d8e47cb8aa933b650840036": {
      "model_module": "@jupyter-widgets/controls",
      "model_module_version": "1.5.0",
      "model_name": "DescriptionStyleModel",
      "state": {
       "description_width": ""
      }
     },
     "dab8314353f8431791f06169fd67074e": {
      "model_module": "@jupyter-widgets/controls",
      "model_module_version": "1.5.0",
      "model_name": "DescriptionStyleModel",
      "state": {
       "description_width": ""
      }
     },
     "db5ababe264e4ff8aa027b342d0542cc": {
      "model_module": "@jupyter-widgets/controls",
      "model_module_version": "1.5.0",
      "model_name": "ButtonStyleModel",
      "state": {}
     },
     "db8e4874ad3949179732b9f80c8ad561": {
      "model_module": "@jupyter-widgets/controls",
      "model_module_version": "1.5.0",
      "model_name": "DescriptionStyleModel",
      "state": {
       "description_width": ""
      }
     },
     "dc46cd81b18d41209540c571263d378d": {
      "model_module": "@jupyter-widgets/controls",
      "model_module_version": "1.5.0",
      "model_name": "DescriptionStyleModel",
      "state": {
       "description_width": ""
      }
     },
     "dcaab493706f46a594f1bd88cd39b0cc": {
      "model_module": "@jupyter-widgets/base",
      "model_module_version": "1.2.0",
      "model_name": "LayoutModel",
      "state": {}
     },
     "dd11eac3017d4fbaa57336ccf945bbc7": {
      "model_module": "@jupyter-widgets/controls",
      "model_module_version": "1.5.0",
      "model_name": "DescriptionStyleModel",
      "state": {
       "description_width": ""
      }
     },
     "dd4f26fbc8b44a0fbff6259fb75b0f33": {
      "model_module": "@jupyter-widgets/controls",
      "model_module_version": "1.5.0",
      "model_name": "DropdownModel",
      "state": {
       "_options_labels": [
        "Patch clamp",
        "whole cell",
        "micromanipulator"
       ],
       "description": "Clamp type:",
       "index": 0,
       "layout": "IPY_MODEL_e66e0da9b47142ba8dc72931ff676882",
       "style": "IPY_MODEL_da46a0767d8e47cb8aa933b650840036"
      }
     },
     "dd7e8d105be64d53b71457ced1336085": {
      "model_module": "@jupyter-widgets/controls",
      "model_module_version": "1.5.0",
      "model_name": "DropdownModel",
      "state": {
       "_options_labels": [
        "Calcium (c)",
        "Ephys (e)",
        "Fluidics (f)",
        "Imaging (i)",
        "MEA (m)",
        "Patch Clamp (p)"
       ],
       "description": "Type:",
       "index": 0,
       "layout": "IPY_MODEL_6202ea83130e40c6991aff6782888264",
       "style": "IPY_MODEL_146fc64d2d35468ab9219ccabb6c73d7"
      }
     },
     "ddf5204d1dd04644bfe9034c57c11445": {
      "model_module": "@jupyter-widgets/controls",
      "model_module_version": "1.5.0",
      "model_name": "DescriptionStyleModel",
      "state": {
       "description_width": ""
      }
     },
     "ddfd89c48fe741fcb4cd0428afc60826": {
      "model_module": "@jupyter-widgets/controls",
      "model_module_version": "1.5.0",
      "model_name": "ButtonStyleModel",
      "state": {}
     },
     "de1eb49f9c6b49ccbf337341f4f42504": {
      "model_module": "@jupyter-widgets/controls",
      "model_module_version": "1.5.0",
      "model_name": "DescriptionStyleModel",
      "state": {
       "description_width": ""
      }
     },
     "de37b175911e424fb29e191371c0c20f": {
      "model_module": "@jupyter-widgets/base",
      "model_module_version": "1.2.0",
      "model_name": "LayoutModel",
      "state": {}
     },
     "de41f82dbb864cb493cab3c6e2f25e6d": {
      "model_module": "@jupyter-widgets/base",
      "model_module_version": "1.2.0",
      "model_name": "LayoutModel",
      "state": {}
     },
     "df4e44ad696b4c06b15907a3fd7c44b5": {
      "model_module": "@jupyter-widgets/base",
      "model_module_version": "1.2.0",
      "model_name": "LayoutModel",
      "state": {}
     },
     "e015a98787a34961ae6a50f00129c356": {
      "model_module": "@jupyter-widgets/controls",
      "model_module_version": "1.5.0",
      "model_name": "ButtonModel",
      "state": {
       "description": "Create UUID",
       "layout": "IPY_MODEL_f49657355efc48a1aa65591b01e31312",
       "style": "IPY_MODEL_7f71b8f064284aa887a859089d58b532"
      }
     },
     "e01e8be3123544f9b63f23a289e36af2": {
      "model_module": "@jupyter-widgets/controls",
      "model_module_version": "1.5.0",
      "model_name": "HBoxModel",
      "state": {
       "children": [
        "IPY_MODEL_3a3c62fdaf5a4f8c965765cbb1416124",
        "IPY_MODEL_398c7439b8b54fc49cb10d438b215beb",
        "IPY_MODEL_eb22b8a2a0f1470896d43f34aac87aaa"
       ],
       "layout": "IPY_MODEL_4ccc8d8b528848ed8aa8a57d8c2fdccd"
      }
     },
     "e039a71b93f546dba3e328ba424b1f0a": {
      "model_module": "@jupyter-widgets/controls",
      "model_module_version": "1.5.0",
      "model_name": "DropdownModel",
      "state": {
       "_options_labels": [
        "Calcium",
        "Ephys",
        "Fluidics",
        "Imagingi",
        "MEA",
        "Patch Clamp"
       ],
       "description": "Type:",
       "index": 0,
       "layout": "IPY_MODEL_be4d2e34d7d5407caf2864af9e18ad5d",
       "style": "IPY_MODEL_41cd9bc83e1b478388d476be5752554e"
      }
     },
     "e15bb2ae99704c5d835ba735d362d724": {
      "model_module": "@jupyter-widgets/base",
      "model_module_version": "1.2.0",
      "model_name": "LayoutModel",
      "state": {}
     },
     "e1cb5a3755b741adb095af7d55574523": {
      "model_module": "@jupyter-widgets/base",
      "model_module_version": "1.2.0",
      "model_name": "LayoutModel",
      "state": {}
     },
     "e1ea06757c56421f85c8335b186f39f7": {
      "model_module": "@jupyter-widgets/controls",
      "model_module_version": "1.5.0",
      "model_name": "DatePickerModel",
      "state": {
       "description": "Exp. Date:",
       "disabled": false,
       "layout": "IPY_MODEL_eeb9f23bc50246b294217338e9e6d8b1",
       "style": "IPY_MODEL_d40ff979dab04ee39d9ec9bdc784c934"
      }
     },
     "e1eb2afe310a4bdfb908266e1a895bd2": {
      "model_module": "@jupyter-widgets/controls",
      "model_module_version": "1.5.0",
      "model_name": "DescriptionStyleModel",
      "state": {
       "description_width": ""
      }
     },
     "e219a79203b348748340ed2b99b265d2": {
      "model_module": "@jupyter-widgets/controls",
      "model_module_version": "1.5.0",
      "model_name": "DescriptionStyleModel",
      "state": {
       "description_width": ""
      }
     },
     "e23b48f864d64900a59e6e343d066da0": {
      "model_module": "@jupyter-widgets/base",
      "model_module_version": "1.2.0",
      "model_name": "LayoutModel",
      "state": {}
     },
     "e240d94bdb4849cf8e8fbbcf6d94455c": {
      "model_module": "@jupyter-widgets/controls",
      "model_module_version": "1.5.0",
      "model_name": "ButtonStyleModel",
      "state": {}
     },
     "e32d9ea872dd47f7b3463f9a0ca43658": {
      "model_module": "@jupyter-widgets/controls",
      "model_module_version": "1.5.0",
      "model_name": "ButtonStyleModel",
      "state": {}
     },
     "e33bb9f52e1342dfa001b701fbb7227c": {
      "model_module": "@jupyter-widgets/controls",
      "model_module_version": "1.5.0",
      "model_name": "ButtonStyleModel",
      "state": {}
     },
     "e3a6e1156afc459cb4a51a355661121f": {
      "model_module": "@jupyter-widgets/controls",
      "model_module_version": "1.5.0",
      "model_name": "DropdownModel",
      "state": {
       "_options_labels": [
        "Calcium (c)",
        "Ephys (e)",
        "Fluidics (f)",
        "Imaging (i)",
        "MEA (m)",
        "Patch Clamp (p)"
       ],
       "description": "Type:",
       "index": 0,
       "layout": "IPY_MODEL_a3c7ce10152d45aab90a71e7608db4b8",
       "style": "IPY_MODEL_e1eb2afe310a4bdfb908266e1a895bd2"
      }
     },
     "e3b94087c997461dac5f114c14a36763": {
      "model_module": "@jupyter-widgets/base",
      "model_module_version": "1.2.0",
      "model_name": "LayoutModel",
      "state": {}
     },
     "e3dbc3ae7f3947f29a5d565506dc694b": {
      "model_module": "@jupyter-widgets/base",
      "model_module_version": "1.2.0",
      "model_name": "LayoutModel",
      "state": {}
     },
     "e48df8d371ad4d1a9d12d30551fadca8": {
      "model_module": "@jupyter-widgets/base",
      "model_module_version": "1.2.0",
      "model_name": "LayoutModel",
      "state": {}
     },
     "e49f4563050b42fe9c9a42a5d5fbaa43": {
      "model_module": "@jupyter-widgets/controls",
      "model_module_version": "1.5.0",
      "model_name": "HBoxModel",
      "state": {
       "children": [
        "IPY_MODEL_0e96bd81c0a041dcb5b1c6101bce9c71"
       ],
       "layout": "IPY_MODEL_3d9156b6e888491ea6fa4a329b993b63"
      }
     },
     "e4ae3600d1124369a9916b9221301075": {
      "model_module": "@jupyter-widgets/base",
      "model_module_version": "1.2.0",
      "model_name": "LayoutModel",
      "state": {}
     },
     "e50af494aaf04495bae8c1867ff18258": {
      "model_module": "@jupyter-widgets/base",
      "model_module_version": "1.2.0",
      "model_name": "LayoutModel",
      "state": {}
     },
     "e523c877a1e44a7eb2b2d55e5f276e02": {
      "model_module": "@jupyter-widgets/base",
      "model_module_version": "1.2.0",
      "model_name": "LayoutModel",
      "state": {}
     },
     "e66e0da9b47142ba8dc72931ff676882": {
      "model_module": "@jupyter-widgets/base",
      "model_module_version": "1.2.0",
      "model_name": "LayoutModel",
      "state": {}
     },
     "e681effd1c654ed58fed98e0096b6a7c": {
      "model_module": "@jupyter-widgets/controls",
      "model_module_version": "1.5.0",
      "model_name": "ButtonModel",
      "state": {
       "description": "Create UUID",
       "layout": "IPY_MODEL_85bb4490bacc4803aa52f7e88f143764",
       "style": "IPY_MODEL_528aa7bf0b6c461ab7f57612118401ad",
       "tooltip": "UUID format: YYYY-MM-DD- experiment type - experiment shorthand"
      }
     },
     "e6b9ff00ddd9462f953d15206a6a56a8": {
      "model_module": "@jupyter-widgets/base",
      "model_module_version": "1.2.0",
      "model_name": "LayoutModel",
      "state": {}
     },
     "e78cde408b1846eaa42ada7799184887": {
      "model_module": "@jupyter-widgets/base",
      "model_module_version": "1.2.0",
      "model_name": "LayoutModel",
      "state": {}
     },
     "e80cfb63127645c59bdedbbd2c02b1db": {
      "model_module": "@jupyter-widgets/base",
      "model_module_version": "1.2.0",
      "model_name": "LayoutModel",
      "state": {}
     },
     "e81b2b57deb54a88a9d72891124a10ef": {
      "model_module": "@jupyter-widgets/controls",
      "model_module_version": "1.5.0",
      "model_name": "VBoxModel",
      "state": {
       "children": [
        "IPY_MODEL_36023b26f58d4763aa9b0fda7c33b7c5",
        "IPY_MODEL_be3bce488d4c4aad98de72c4418e182b",
        "IPY_MODEL_74178733e1714673a227b733dfde31ae"
       ],
       "layout": "IPY_MODEL_e78cde408b1846eaa42ada7799184887"
      }
     },
     "e927b369f0f547dfb7a501b9dfa821ea": {
      "model_module": "@jupyter-widgets/base",
      "model_module_version": "1.2.0",
      "model_name": "LayoutModel",
      "state": {}
     },
     "e9a73b1d4026465a8e6460a049f25d70": {
      "model_module": "@jupyter-widgets/controls",
      "model_module_version": "1.5.0",
      "model_name": "VBoxModel",
      "state": {
       "children": [
        "IPY_MODEL_56020677244f4821b7383c1e9c06af55",
        "IPY_MODEL_81ef746cc4fb4932b2669930fb674e07",
        "IPY_MODEL_e49f4563050b42fe9c9a42a5d5fbaa43"
       ],
       "layout": "IPY_MODEL_e50af494aaf04495bae8c1867ff18258"
      }
     },
     "e9abf53790264d21abb4844e802ca67d": {
      "model_module": "@jupyter-widgets/controls",
      "model_module_version": "1.5.0",
      "model_name": "HBoxModel",
      "state": {
       "children": [
        "IPY_MODEL_2dcd16c880044e96b6ec6f48cc4d2251"
       ],
       "layout": "IPY_MODEL_9de8daed66a94ccb998cb3e07c62b24b"
      }
     },
     "eb22b8a2a0f1470896d43f34aac87aaa": {
      "model_module": "@jupyter-widgets/controls",
      "model_module_version": "1.5.0",
      "model_name": "TextModel",
      "state": {
       "description": "Name: ",
       "layout": "IPY_MODEL_3d8951af9ecc4714940bc623520edd67",
       "placeholder": "Enter experiment name",
       "style": "IPY_MODEL_7a35b21b89a84d2fb0b61dd76d4e111c",
       "value": "test"
      }
     },
     "eb9ee706776c4fb6b8d184127f12be0e": {
      "model_module": "@jupyter-widgets/controls",
      "model_module_version": "1.5.0",
      "model_name": "DropdownModel",
      "state": {
       "_options_labels": [
        "ca2+",
        "eGFP",
        "k+"
       ],
       "description": "Type:",
       "index": 0,
       "layout": "IPY_MODEL_087937753c644fe88c68f898d59de717",
       "style": "IPY_MODEL_be8726a10e7947bb811858de69d3b2b2"
      }
     },
     "ed11a7cd0a87405b9d9437066e250b9c": {
      "model_module": "@jupyter-widgets/controls",
      "model_module_version": "1.5.0",
      "model_name": "DescriptionStyleModel",
      "state": {
       "description_width": ""
      }
     },
     "ed6b944e72134af4b8e10d89a13185f7": {
      "model_module": "@jupyter-widgets/base",
      "model_module_version": "1.2.0",
      "model_name": "LayoutModel",
      "state": {}
     },
     "eeb9f23bc50246b294217338e9e6d8b1": {
      "model_module": "@jupyter-widgets/base",
      "model_module_version": "1.2.0",
      "model_name": "LayoutModel",
      "state": {}
     },
     "ef23d93c0d9d441ca3bbee49496332e5": {
      "model_module": "@jupyter-widgets/base",
      "model_module_version": "1.2.0",
      "model_name": "LayoutModel",
      "state": {}
     },
     "f04fac46565b4722b7fb8a9bec55e25f": {
      "model_module": "@jupyter-widgets/controls",
      "model_module_version": "1.5.0",
      "model_name": "ButtonModel",
      "state": {
       "description": "Create UUID",
       "layout": "IPY_MODEL_91d993962cfb44d6af104a65668dd953",
       "style": "IPY_MODEL_297f93246093431e9a2ecba3f0c8346e"
      }
     },
     "f0b269ecf76a482889fbd062e14ce710": {
      "model_module": "@jupyter-widgets/controls",
      "model_module_version": "1.5.0",
      "model_name": "DatePickerModel",
      "state": {
       "description": "Exp. Date:",
       "disabled": false,
       "layout": "IPY_MODEL_47bce7de35794a9fa6a22e62bb25f4f1",
       "style": "IPY_MODEL_fd29a4a4b35f4fc1a7b881855b6bff14"
      }
     },
     "f1a783665e8b414898c3b5c5c55ec157": {
      "model_module": "@jupyter-widgets/controls",
      "model_module_version": "1.5.0",
      "model_name": "VBoxModel",
      "state": {
       "children": [
        "IPY_MODEL_52e374a952264bf9a0c3b0fe7dcdacd3",
        "IPY_MODEL_6fc8cff7d568472a913c226f6d875cbb",
        "IPY_MODEL_1d85d2d7587c4aea8477c579889626b9"
       ],
       "layout": "IPY_MODEL_0ed21d4cbb75435d856e161a11390acf"
      }
     },
     "f2743c5729084a04bc7d41e81e492d34": {
      "model_module": "@jupyter-widgets/controls",
      "model_module_version": "1.5.0",
      "model_name": "ButtonStyleModel",
      "state": {}
     },
     "f2868be32c0045b88dc057eb1df6a807": {
      "model_module": "@jupyter-widgets/base",
      "model_module_version": "1.2.0",
      "model_name": "LayoutModel",
      "state": {}
     },
     "f2b98c893f7f4dd1a3f10450b2621933": {
      "model_module": "@jupyter-widgets/base",
      "model_module_version": "1.2.0",
      "model_name": "LayoutModel",
      "state": {}
     },
     "f2c4a961cb404c7daf3b56dddce01c11": {
      "model_module": "@jupyter-widgets/base",
      "model_module_version": "1.2.0",
      "model_name": "LayoutModel",
      "state": {}
     },
     "f2e4889116064f038b3e0d1e337a1c64": {
      "model_module": "@jupyter-widgets/controls",
      "model_module_version": "1.5.0",
      "model_name": "DescriptionStyleModel",
      "state": {
       "description_width": ""
      }
     },
     "f481c5ff1d954d619d0016cccf776a5c": {
      "model_module": "@jupyter-widgets/base",
      "model_module_version": "1.2.0",
      "model_name": "LayoutModel",
      "state": {}
     },
     "f49657355efc48a1aa65591b01e31312": {
      "model_module": "@jupyter-widgets/base",
      "model_module_version": "1.2.0",
      "model_name": "LayoutModel",
      "state": {}
     },
     "f502236dbe5e483bb1c58030676e68b3": {
      "model_module": "@jupyter-widgets/controls",
      "model_module_version": "1.5.0",
      "model_name": "DatePickerModel",
      "state": {
       "description": "Exp. Date:",
       "disabled": false,
       "layout": "IPY_MODEL_e927b369f0f547dfb7a501b9dfa821ea",
       "style": "IPY_MODEL_01872858336b4f149fa4f085fdf7ee34"
      }
     },
     "f5b6b4f3de894206b91dbaab06124f22": {
      "model_module": "@jupyter-widgets/controls",
      "model_module_version": "1.5.0",
      "model_name": "DescriptionStyleModel",
      "state": {
       "description_width": ""
      }
     },
     "f5f9e1f149f645e89ef656685538ee5f": {
      "model_module": "@jupyter-widgets/base",
      "model_module_version": "1.2.0",
      "model_name": "LayoutModel",
      "state": {}
     },
     "f5ff5f79b38140fdb65752b2507ab8e6": {
      "model_module": "@jupyter-widgets/controls",
      "model_module_version": "1.5.0",
      "model_name": "VBoxModel",
      "state": {
       "children": [
        "IPY_MODEL_56020677244f4821b7383c1e9c06af55",
        "IPY_MODEL_81ef746cc4fb4932b2669930fb674e07",
        "IPY_MODEL_e49f4563050b42fe9c9a42a5d5fbaa43"
       ],
       "layout": "IPY_MODEL_ae3a667efdfa4ffbaaac93574fb0e3b2"
      }
     },
     "f60a554415ce4537a0312b668e828e7c": {
      "model_module": "@jupyter-widgets/controls",
      "model_module_version": "1.5.0",
      "model_name": "VBoxModel",
      "state": {
       "children": [
        "IPY_MODEL_56020677244f4821b7383c1e9c06af55",
        "IPY_MODEL_81ef746cc4fb4932b2669930fb674e07",
        "IPY_MODEL_e49f4563050b42fe9c9a42a5d5fbaa43"
       ],
       "layout": "IPY_MODEL_86bddc1cd2084b48ba7923990a12d4f1"
      }
     },
     "f662b06e4d744450b7b2aa9cf704617b": {
      "model_module": "@jupyter-widgets/controls",
      "model_module_version": "1.5.0",
      "model_name": "DescriptionStyleModel",
      "state": {
       "description_width": ""
      }
     },
     "f6f9e5a587f341c6b405be372a877e91": {
      "model_module": "@jupyter-widgets/controls",
      "model_module_version": "1.5.0",
      "model_name": "DropdownModel",
      "state": {
       "_options_labels": [
        "Calcium",
        "Ephys",
        "Fluidics",
        "Imaginging",
        "MEA",
        "Patch Clamp"
       ],
       "description": "Type:",
       "index": 0,
       "layout": "IPY_MODEL_c3b8f2f1266d46a0a5058861a37ad207",
       "style": "IPY_MODEL_54bd7eb75edf4f398bd1ac79535ebc12"
      }
     },
     "f7779043b0d240ffa25315d2758eeb22": {
      "model_module": "@jupyter-widgets/controls",
      "model_module_version": "1.5.0",
      "model_name": "DropdownModel",
      "state": {
       "_options_labels": [
        "Calcium",
        "Ephys",
        "Fluidics",
        "Imagingi",
        "MEA",
        "Patch Clamp"
       ],
       "description": "Type:",
       "index": 0,
       "layout": "IPY_MODEL_86270a2b0e194f0499bc02ed11a87717",
       "style": "IPY_MODEL_41cbc551698549bea5a952b064671b46"
      }
     },
     "f82803bcefeb4f5ab437d8c30133c16d": {
      "model_module": "@jupyter-widgets/controls",
      "model_module_version": "1.5.0",
      "model_name": "TextModel",
      "state": {
       "description": "Name: ",
       "layout": "IPY_MODEL_678f903b72bf4277952c8775593646c6",
       "placeholder": "Enter experiment name",
       "style": "IPY_MODEL_a910f95a2c6847be9f20f5cb0fa04526"
      }
     },
     "f882455530e7494ea018bd0f0f44ccb2": {
      "model_module": "@jupyter-widgets/base",
      "model_module_version": "1.2.0",
      "model_name": "LayoutModel",
      "state": {}
     },
     "f8b02b924b174aa880e949e41e35ad92": {
      "model_module": "@jupyter-widgets/controls",
      "model_module_version": "1.5.0",
      "model_name": "HBoxModel",
      "state": {
       "children": [
        "IPY_MODEL_53979001ba8c47e08d5467964b47268c",
        "IPY_MODEL_e3a6e1156afc459cb4a51a355661121f",
        "IPY_MODEL_bb2ec0a7ff07486bb334a453817084a1"
       ],
       "layout": "IPY_MODEL_0e73e2f614d1423a95b8884f147a99c3"
      }
     },
     "f9528522a1eb4988872382b56bbc777d": {
      "model_module": "@jupyter-widgets/controls",
      "model_module_version": "1.5.0",
      "model_name": "DescriptionStyleModel",
      "state": {
       "description_width": ""
      }
     },
     "f96c8998e1a8466485fedc6453df0343": {
      "model_module": "@jupyter-widgets/controls",
      "model_module_version": "1.5.0",
      "model_name": "ButtonStyleModel",
      "state": {}
     },
     "fa6e4f945c1c4de0be6f1cec92b3ca8f": {
      "model_module": "@jupyter-widgets/controls",
      "model_module_version": "1.5.0",
      "model_name": "DescriptionStyleModel",
      "state": {
       "description_width": ""
      }
     },
     "fbc99fe353c247e4b2fa7bc8d2b89185": {
      "model_module": "@jupyter-widgets/controls",
      "model_module_version": "1.5.0",
      "model_name": "DropdownModel",
      "state": {
       "_options_labels": [
        "MEA",
        "Axion",
        "SeaMoss",
        "Roberts"
       ],
       "description": "Type:",
       "index": 0,
       "layout": "IPY_MODEL_17d73719afd043a0be6a4cdaec09e57d",
       "style": "IPY_MODEL_825e709634394410909a52df05915fc3"
      }
     },
     "fbe8dc92e46b43359bcf43f0aa3aed80": {
      "model_module": "@jupyter-widgets/controls",
      "model_module_version": "1.5.0",
      "model_name": "ButtonStyleModel",
      "state": {}
     },
     "fd29a4a4b35f4fc1a7b881855b6bff14": {
      "model_module": "@jupyter-widgets/controls",
      "model_module_version": "1.5.0",
      "model_name": "DescriptionStyleModel",
      "state": {
       "description_width": ""
      }
     },
     "fd6a19ae100d47b8b8e46a7289872e63": {
      "model_module": "@jupyter-widgets/base",
      "model_module_version": "1.2.0",
      "model_name": "LayoutModel",
      "state": {}
     },
     "fd6d443ee595427795390706af304eec": {
      "model_module": "@jupyter-widgets/base",
      "model_module_version": "1.2.0",
      "model_name": "LayoutModel",
      "state": {}
     },
     "fd84d25779f24a4098d861e3ddcc4ab4": {
      "model_module": "@jupyter-widgets/controls",
      "model_module_version": "1.5.0",
      "model_name": "TextModel",
      "state": {
       "layout": "IPY_MODEL_f2868be32c0045b88dc057eb1df6a807",
       "style": "IPY_MODEL_1c4600ebba694c4d80e24b7e193c9c0b"
      }
     },
     "fdfe2cdb87d944cdb3ee690ba4286d13": {
      "model_module": "@jupyter-widgets/controls",
      "model_module_version": "1.5.0",
      "model_name": "DropdownModel",
      "state": {
       "_options_labels": [
        "Calcium (c)",
        "Ephys (e)",
        "Fluidics (f)",
        "Imaging (i)",
        "MEA (m)",
        "Patch Clamp (p)"
       ],
       "description": "Type:",
       "index": 2,
       "layout": "IPY_MODEL_e1cb5a3755b741adb095af7d55574523",
       "style": "IPY_MODEL_bcceea9a826e4291ad86d5d7dde7ff83"
      }
     },
     "fe189dbd5f984848936c3a3610665505": {
      "model_module": "@jupyter-widgets/controls",
      "model_module_version": "1.5.0",
      "model_name": "DescriptionStyleModel",
      "state": {
       "description_width": ""
      }
     },
     "ffad1442a54640e79c240bfd4179bbab": {
      "model_module": "@jupyter-widgets/base",
      "model_module_version": "1.2.0",
      "model_name": "LayoutModel",
      "state": {}
     },
     "ffb3daf5c07241f0828f0de137da60db": {
      "model_module": "@jupyter-widgets/controls",
      "model_module_version": "1.5.0",
      "model_name": "HBoxModel",
      "state": {
       "children": [
        "IPY_MODEL_3a3c62fdaf5a4f8c965765cbb1416124",
        "IPY_MODEL_398c7439b8b54fc49cb10d438b215beb",
        "IPY_MODEL_0f33cb942f33466fa772493da0636510"
       ],
       "layout": "IPY_MODEL_5dc0b07321a6497c9fce68c5c0bedf0b"
      }
     }
    },
    "version_major": 2,
    "version_minor": 0
   }
  }
 },
 "nbformat": 4,
 "nbformat_minor": 5
}
