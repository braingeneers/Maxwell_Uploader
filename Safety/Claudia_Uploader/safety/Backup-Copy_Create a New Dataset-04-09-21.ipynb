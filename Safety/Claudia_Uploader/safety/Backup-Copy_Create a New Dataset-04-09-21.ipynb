{
 "cells": [
  {
   "cell_type": "code",
   "execution_count": null,
   "id": "after-sunrise",
   "metadata": {},
   "outputs": [],
   "source": [
    "import numpy as np\n",
    "import matplotlib.pyplot as plt\n",
    "\n",
    "\n",
    "from ipywidgets import interact, interactive, fixed, interact_manual\n",
    "import ipywidgets as widgets\n",
    "from IPython.display import display\n",
    "from IPython.display import clear_output\n",
    "\n",
    "import sys\n",
    "import os \n",
    "import glob\n",
    "import re\n",
    "import json\n",
    "import random\n",
    "\n",
    "#import braingeneers\n",
    "#from braingeneers import datasets_electrophysiology as ephys\n",
    "#from braingeneers import analysis"
   ]
  },
  {
   "cell_type": "markdown",
   "id": "medium-hours",
   "metadata": {},
   "source": [
    "## Register Experiment UUID"
   ]
  },
  {
   "cell_type": "markdown",
   "id": "beneficial-superintendent",
   "metadata": {},
   "source": [
    "Please enter UUID for the batch of experiments:\n",
    "\n",
    "Example: 2019-08-09-e-gmpopova"
   ]
  },
  {
   "cell_type": "markdown",
   "id": "written-arrest",
   "metadata": {},
   "source": [
    "First number sequence is date of experiment \n",
    "    \n",
    "    [year-month-day]\n",
    "\n",
    "Middle letter is type of experiment: \n",
    "        \n",
    "        ephys (e), fluidics (f), imaging (i), calcium (c), patch clamp (p)?"
   ]
  },
  {
   "cell_type": "code",
   "execution_count": null,
   "id": "offshore-slovakia",
   "metadata": {},
   "outputs": [],
   "source": [
    "#Nice to have:\n",
    "# enter date with calendar widget; or year, month, and day text fields\n",
    "# drop-down menu for experiment type: ephys (e), fluidics (f), imaging (i), calcium (c), patch clamp (p)?\n",
    "# experiment descriptor text fields\n",
    "#Code automatically checks UUID is correct format with no invalid characters \"*\\$/\"\n",
    "\n",
    "UUID = \"\""
   ]
  },
  {
   "cell_type": "markdown",
   "id": "organic-giving",
   "metadata": {},
   "source": [
    "## Create a Metadata JSON File"
   ]
  },
  {
   "cell_type": "markdown",
   "id": "conscious-village",
   "metadata": {},
   "source": [
    "Experiment should have a **metadata.json** file which looks like this: \n",
    "\n",
    "        {\n",
    "        \"experiments\": [\n",
    "            \"6well-raspi-2020-10-06-18-28-54.json\",\n",
    "            \"6well-raspi-2020-10-06-18-30-17.json\",\n",
    "            \"6well-intancontroller.json\",\n",
    "            \"24well-intancontroller.json\"\n",
    "        ],\n",
    "        \"issue\": \" \",\n",
    "        \"notes\": \" \",\n",
    "        \"timestamp\": \"2020-10-06T17:41:31\",\n",
    "        \"uuid\": \"2020-10-06-e-UCSF-neurons-axionplate\"\n",
    "        }"
   ]
  },
  {
   "cell_type": "code",
   "execution_count": null,
   "id": "american-benefit",
   "metadata": {},
   "outputs": [],
   "source": [
    "# Create & save metadata.json\n",
    "\n",
    "# Save JSON file\n",
    "with open(UUID, \"rw\") as fp:\n",
    "    metadata = json.load(fp)\n",
    "    #metadata[\"experiments\"] = json_names\n",
    "    #metadata[\"timestamp\"] = \"2020-10-06T12:49:12\"\n",
    "    #metadata[\"uuid\"] = \"2020-10-06-e-UCSF-neurons-axionplate\"\n",
    "    #metadata[\"notes\"] = \"https://docs.google.com/document/d/1rphuB7pzRtAYW-MH67JWsbju1k_fUGopBwyqy2NniSk/edit?usp=sharing\"\n",
    "    json.dump(metadata, fp)\n",
    "print(\"Saved!\\n\")\n",
    "# Display JSON\n",
    "print(json.dumps(metadata, indent=4))"
   ]
  },
  {
   "cell_type": "code",
   "execution_count": null,
   "id": "proper-thumbnail",
   "metadata": {},
   "outputs": [],
   "source": []
  },
  {
   "cell_type": "code",
   "execution_count": null,
   "id": "changed-default",
   "metadata": {},
   "outputs": [],
   "source": [
    "#check an exitsing json\n",
    "e_guid = \"derived/2020-11-27-e-UCSF-axionplate/cells_faraday_1.json\"\n",
    "\n",
    "with open(e_guid, \"r\") as fp:\n",
    "    metadata = json.load(fp)\n",
    "\n",
    "# Display JSON\n",
    "print(json.dumps(metadata, indent=4))"
   ]
  },
  {
   "cell_type": "markdown",
   "id": "informational-admission",
   "metadata": {},
   "source": [
    "## Upload your data files to WetAI\n"
   ]
  },
  {
   "cell_type": "code",
   "execution_count": null,
   "id": "pediatric-residence",
   "metadata": {},
   "outputs": [],
   "source": [
    "#[Press a button/select files to upload]\n"
   ]
  },
  {
   "cell_type": "code",
   "execution_count": null,
   "id": "minus-extraction",
   "metadata": {},
   "outputs": [],
   "source": [
    "from ipywidgets import FileUpload\n",
    "from IPython.display import display\n",
    "upload = FileUpload(multiple=True)\n",
    "display(upload)"
   ]
  },
  {
   "cell_type": "code",
   "execution_count": null,
   "id": "de949d90",
   "metadata": {},
   "outputs": [],
   "source": [
    "print(upload.value)"
   ]
  },
  {
   "cell_type": "code",
   "execution_count": null,
   "id": "e98b1b04",
   "metadata": {},
   "outputs": [],
   "source": [
    "with open('z_merged_output.txt', 'wb') as output_file: \n",
    "    for uploaded_filename in upload.value:\n",
    "        content = upload.value[uploaded_filename]['content']   \n",
    "        output_file.write(content) "
   ]
  },
  {
   "cell_type": "code",
   "execution_count": null,
   "id": "4c9b0293",
   "metadata": {},
   "outputs": [],
   "source": []
  },
  {
   "cell_type": "markdown",
   "id": "musical-component",
   "metadata": {},
   "source": [
    "### Create Experiment JSONS\n",
    "Each experiment with \"filename\".* should have a corresponding \"filename\".json file, which describes the experiment"
   ]
  },
  {
   "cell_type": "markdown",
   "id": "capital-chick",
   "metadata": {},
   "source": [
    "Example: **6well-intancontroller.json**\n",
    "\n",
    "        {\n",
    "            \"blocks\": [\n",
    "                {\n",
    "                    \"num_frames\": 1200240,\n",
    "                    \"path\": \"6well-intancontroller_201006_182018.bin\",\n",
    "                    \"source\": \"./original/2020-10-06-e-UCSF-neurons-axionplate/6well-intancontroller_201006_182018.rhd\",\n",
    "                    \"timestamp\": \"2020-10-06T18:20:18\"\n",
    "                },\n",
    "                {\n",
    "                    \"num_frames\": 1200240,\n",
    "                    \"path\": \"6well-intancontroller_201006_182124.bin\",\n",
    "                    \"source\": \"./original/2020-10-06-e-UCSF-neurons-axionplate/6well-intancontroller_201006_182124.rhd\",\n",
    "                    \"timestamp\": \"2020-10-06T18:21:24\"\n",
    "                },\n",
    "                {\n",
    "                    \"num_frames\": 300240,\n",
    "                    \"path\": \"6well-intancontroller_201006_182235.bin\",\n",
    "                    \"source\": \"./original/2020-10-06-e-UCSF-neurons-axionplate/6well-intancontroller_201006_182235.rhd\",\n",
    "                    \"timestamp\": \"2020-10-06T18:22:35\"\n",
    "                }\n",
    "            ],\n",
    "            \"channels\": [],\n",
    "            \"hardware\": \"Intan RHD 2000 Controller\",\n",
    "            \"name\": \"6well-intancontroller\",\n",
    "            \"notes\": \"\",\n",
    "            \"num_channels\": 32,\n",
    "            \"num_current_input_channels\": 0,\n",
    "            \"num_voltage_channels\": 32,\n",
    "            \"offset\": 0,\n",
    "            \"sample_rate\": 20000,\n",
    "            \"scaler\": 0.195,\n",
    "            \"timestamp\": \"2020-10-06T18:20:18\",\n",
    "            \"units\": \"\\u00b5V\",\n",
    "            \"version\": \"0.0.1\"\n",
    "        }\n",
    "    "
   ]
  },
  {
   "cell_type": "markdown",
   "id": "innocent-scholar",
   "metadata": {},
   "source": [
    "Provide ephys, fluidics, imaging, calcium, patchclamp templates"
   ]
  },
  {
   "cell_type": "markdown",
   "id": "incorporated-bernard",
   "metadata": {},
   "source": [
    "For each experiment, provide a JSON:"
   ]
  },
  {
   "cell_type": "code",
   "execution_count": null,
   "id": "specialized-virtue",
   "metadata": {},
   "outputs": [],
   "source": [
    "#Make JSONs\n"
   ]
  },
  {
   "cell_type": "markdown",
   "id": "sticky-cliff",
   "metadata": {},
   "source": [
    "### Copy Your Data to PRP S3"
   ]
  },
  {
   "cell_type": "code",
   "execution_count": null,
   "id": "located-thanksgiving",
   "metadata": {},
   "outputs": [],
   "source": [
    "#[press a button to copy]\n"
   ]
  },
  {
   "cell_type": "code",
   "execution_count": 31,
   "id": "5392210c",
   "metadata": {},
   "outputs": [
    {
     "name": "stdout",
     "output_type": "stream",
     "text": [
      "^C\r\n",
      "\r\n"
     ]
    }
   ],
   "source": [
    "!aws --endpoint https://s3.nautilus.optiputer.net/braingeneers/ s3 ls"
   ]
  },
  {
   "cell_type": "code",
   "execution_count": 41,
   "id": "23ddc6b9",
   "metadata": {},
   "outputs": [
    {
     "name": "stdout",
     "output_type": "stream",
     "text": [
      "2020-12-01 08:12:46       1854 cells_faraday_1.json\r\n",
      "2020-12-01 08:12:50   48007688 cells_faraday_1_201127_112211.bin\r\n",
      "2020-12-01 08:12:50   48007688 cells_faraday_1_201127_112324.bin\r\n",
      "2020-12-01 08:12:51   48007688 cells_faraday_1_201127_112439.bin\r\n",
      "2020-12-01 08:12:51   48007688 cells_faraday_1_201127_112553.bin\r\n",
      "2020-12-01 08:12:52   48007688 cells_faraday_1_201127_112700.bin\r\n",
      "2020-12-01 08:12:53   48007688 cells_faraday_1_201127_112811.bin\r\n",
      "2020-12-01 08:12:54   48007688 cells_faraday_1_201127_112924.bin\r\n",
      "2020-12-01 08:12:54   35374088 cells_faraday_1_201127_113036.bin\r\n",
      "2020-12-01 08:12:51       2237 cells_faraday_2.json\r\n",
      "2020-12-01 08:12:54   48007688 cells_faraday_2_201127_123113.bin\r\n",
      "2020-12-01 08:12:55   48007688 cells_faraday_2_201127_123220.bin\r\n",
      "2020-12-01 08:12:56   48007688 cells_faraday_2_201127_123334.bin\r\n",
      "2020-12-01 08:12:57   48007688 cells_faraday_2_201127_123452.bin\r\n",
      "2020-12-01 08:12:57   48007688 cells_faraday_2_201127_123602.bin\r\n",
      "2020-12-01 08:12:58   48007688 cells_faraday_2_201127_123708.bin\r\n",
      "2020-12-01 08:12:58   48007688 cells_faraday_2_201127_123823.bin\r\n",
      "2020-12-01 08:12:59   48007688 cells_faraday_2_201127_123936.bin\r\n",
      "2020-12-01 08:12:59   48007688 cells_faraday_2_201127_124044.bin\r\n",
      "2020-12-01 08:12:58    2956808 cells_faraday_2_201127_124146.bin\r\n",
      "2020-12-01 08:12:58        792 intan_noise_in_faraday_warm_plate.json\r\n",
      "2020-12-01 08:13:00   48007688 intan_noise_in_faraday_warm_plate_201127_114505.bin\r\n",
      "2020-12-01 08:13:00   48007688 intan_noise_in_faraday_warm_plate_201127_114620.bin\r\n",
      "2020-12-01 08:12:58        792 intan_noise_no_faraday_warm_plate.json\r\n",
      "2020-12-01 08:13:01   48007688 intan_noise_no_faraday_warm_plate_201127_113915.bin\r\n",
      "2020-12-01 08:13:02   45857288 intan_noise_no_faraday_warm_plate_201127_114029.bin\r\n",
      "2020-12-01 08:12:59        683 metadata.json\r\n",
      "2020-12-11 06:16:46        758 raspi-2020-11-27-12-49-12.json\r\n",
      "2020-12-10 05:57:37   51217920 raspi-2020-11-27-12-49-12_0\r\n",
      "2020-12-10 05:57:33     854784 raspi-2020-11-27-12-49-12_1\r\n",
      "2020-12-11 06:16:44       4151 raspi-2020-11-27-12-54-27.json\r\n",
      "2020-12-10 05:57:37   50503680 raspi-2020-11-27-12-54-27_0\r\n",
      "2020-12-10 05:57:37   50503680 raspi-2020-11-27-12-54-27_1\r\n",
      "2020-12-10 05:57:39   50503680 raspi-2020-11-27-12-54-27_10\r\n",
      "2020-12-10 05:57:38   50503680 raspi-2020-11-27-12-54-27_11\r\n",
      "2020-12-10 05:57:42   50503680 raspi-2020-11-27-12-54-27_12\r\n",
      "2020-12-10 05:57:42   50503680 raspi-2020-11-27-12-54-27_13\r\n",
      "2020-12-10 05:57:42   50503680 raspi-2020-11-27-12-54-27_14\r\n",
      "2020-12-10 05:57:42   50503680 raspi-2020-11-27-12-54-27_15\r\n",
      "2020-12-10 05:57:43   50503680 raspi-2020-11-27-12-54-27_16\r\n",
      "2020-12-10 05:57:46   50503680 raspi-2020-11-27-12-54-27_17\r\n",
      "2020-12-10 05:57:46   50503680 raspi-2020-11-27-12-54-27_18\r\n",
      "2020-12-10 05:57:46   50503680 raspi-2020-11-27-12-54-27_19\r\n",
      "2020-12-10 05:57:47   50503680 raspi-2020-11-27-12-54-27_2\r\n",
      "2020-12-10 05:57:43    3434112 raspi-2020-11-27-12-54-27_20\r\n",
      "2020-12-10 05:57:47   50503680 raspi-2020-11-27-12-54-27_3\r\n",
      "2020-12-10 05:57:50   50503680 raspi-2020-11-27-12-54-27_4\r\n",
      "2020-12-10 05:57:50   50503680 raspi-2020-11-27-12-54-27_5\r\n",
      "2020-12-10 05:57:50   50503680 raspi-2020-11-27-12-54-27_6\r\n",
      "2020-12-10 05:57:51   50503680 raspi-2020-11-27-12-54-27_7\r\n",
      "2020-12-10 05:57:51   50503680 raspi-2020-11-27-12-54-27_8\r\n",
      "2020-12-10 05:57:54   50503680 raspi-2020-11-27-12-54-27_9\r\n",
      "2020-12-11 06:16:44        759 raspi-2020-11-27-13-36-52.json\r\n",
      "2020-12-10 05:57:55   51586560 raspi-2020-11-27-13-36-52_0\r\n",
      "2020-12-10 05:57:53   10320960 raspi-2020-11-27-13-36-52_1\r\n",
      "2020-12-11 06:16:44       4152 raspi-2020-11-27-13-39-19.json\r\n",
      "2020-12-10 05:57:55   50826240 raspi-2020-11-27-13-39-19_0\r\n",
      "2020-12-10 05:57:55   50826240 raspi-2020-11-27-13-39-19_1\r\n",
      "2020-12-10 05:57:57   50826240 raspi-2020-11-27-13-39-19_10\r\n",
      "2020-12-10 05:58:01   50826240 raspi-2020-11-27-13-39-19_11\r\n",
      "2020-12-10 05:58:00   50826240 raspi-2020-11-27-13-39-19_12\r\n",
      "2020-12-10 05:58:00   50826240 raspi-2020-11-27-13-39-19_13\r\n",
      "2020-12-10 05:58:01   50826240 raspi-2020-11-27-13-39-19_14\r\n",
      "2020-12-10 05:58:02   50826240 raspi-2020-11-27-13-39-19_15\r\n",
      "2020-12-10 05:58:03   50826240 raspi-2020-11-27-13-39-19_16\r\n",
      "2020-12-10 05:58:05   50826240 raspi-2020-11-27-13-39-19_17\r\n",
      "2020-12-10 05:58:05   50826240 raspi-2020-11-27-13-39-19_18\r\n",
      "2020-12-10 05:58:05   50826240 raspi-2020-11-27-13-39-19_19\r\n",
      "2020-12-10 05:58:06   50826240 raspi-2020-11-27-13-39-19_2\r\n",
      "2020-12-10 05:58:05   22904320 raspi-2020-11-27-13-39-19_20\r\n",
      "2020-12-10 05:58:08   50826240 raspi-2020-11-27-13-39-19_3\r\n",
      "2020-12-10 05:58:09   50826240 raspi-2020-11-27-13-39-19_4\r\n",
      "2020-12-10 05:58:10   50826240 raspi-2020-11-27-13-39-19_5\r\n",
      "2020-12-10 05:58:10   50826240 raspi-2020-11-27-13-39-19_6\r\n",
      "2020-12-10 05:58:10   50826240 raspi-2020-11-27-13-39-19_7\r\n",
      "2020-12-10 05:58:20   50826240 raspi-2020-11-27-13-39-19_8\r\n",
      "2020-12-10 05:58:21   50826240 raspi-2020-11-27-13-39-19_9\r\n",
      "2020-12-11 06:16:44       7731 raspi-2020-11-27-14-06-45.json\r\n",
      "2020-12-10 05:58:16   50369280 raspi-2020-11-27-14-06-45_0\r\n",
      "2020-12-10 05:58:12   50369280 raspi-2020-11-27-14-06-45_1\r\n",
      "2020-12-10 05:58:19   50369280 raspi-2020-11-27-14-06-45_10\r\n",
      "2020-12-10 05:58:16   50369280 raspi-2020-11-27-14-06-45_11\r\n",
      "2020-12-10 05:58:21   50369280 raspi-2020-11-27-14-06-45_12\r\n",
      "2020-12-10 05:58:19   50369280 raspi-2020-11-27-14-06-45_13\r\n",
      "2020-12-10 05:58:23   50369280 raspi-2020-11-27-14-06-45_14\r\n",
      "2020-12-10 05:58:20   50369280 raspi-2020-11-27-14-06-45_15\r\n",
      "2020-12-10 05:58:23   50369280 raspi-2020-11-27-14-06-45_16\r\n",
      "2020-12-10 05:58:24   50369280 raspi-2020-11-27-14-06-45_17\r\n",
      "2020-12-10 05:58:24   50369280 raspi-2020-11-27-14-06-45_18\r\n",
      "2020-12-10 05:58:25   50369280 raspi-2020-11-27-14-06-45_19\r\n",
      "2020-12-10 05:58:27   50369280 raspi-2020-11-27-14-06-45_2\r\n",
      "2020-12-10 05:58:28   50369280 raspi-2020-11-27-14-06-45_20\r\n",
      "2020-12-10 05:58:29   50369280 raspi-2020-11-27-14-06-45_21\r\n",
      "2020-12-10 05:58:29   50369280 raspi-2020-11-27-14-06-45_22\r\n",
      "2020-12-10 05:58:29   50369280 raspi-2020-11-27-14-06-45_23\r\n",
      "2020-12-10 05:58:35   50369280 raspi-2020-11-27-14-06-45_24\r\n",
      "2020-12-10 05:58:35   50369280 raspi-2020-11-27-14-06-45_25\r\n",
      "2020-12-10 05:58:36   50369280 raspi-2020-11-27-14-06-45_26\r\n",
      "2020-12-10 05:58:37   50369280 raspi-2020-11-27-14-06-45_27\r\n",
      "2020-12-10 05:58:39   50369280 raspi-2020-11-27-14-06-45_28\r\n",
      "2020-12-10 05:58:42   50369280 raspi-2020-11-27-14-06-45_29\r\n",
      "2020-12-10 05:58:43   50369280 raspi-2020-11-27-14-06-45_3\r\n",
      "2020-12-10 05:58:43   50369280 raspi-2020-11-27-14-06-45_30\r\n",
      "2020-12-10 05:58:44   50369280 raspi-2020-11-27-14-06-45_31\r\n",
      "2020-12-10 05:58:44   50369280 raspi-2020-11-27-14-06-45_32\r\n",
      "2020-12-10 05:58:49   50369280 raspi-2020-11-27-14-06-45_33\r\n",
      "2020-12-10 05:58:51   50369280 raspi-2020-11-27-14-06-45_34\r\n",
      "2020-12-10 05:58:50   50369280 raspi-2020-11-27-14-06-45_35\r\n",
      "2020-12-10 05:58:51   50369280 raspi-2020-11-27-14-06-45_36\r\n",
      "2020-12-10 05:58:51   50369280 raspi-2020-11-27-14-06-45_37\r\n",
      "2020-12-10 05:58:56   50369280 raspi-2020-11-27-14-06-45_38\r\n",
      "2020-12-10 05:58:56   50369280 raspi-2020-11-27-14-06-45_39\r\n",
      "2020-12-10 05:58:58   50369280 raspi-2020-11-27-14-06-45_4\r\n",
      "2020-12-10 05:58:52    5187136 raspi-2020-11-27-14-06-45_40\r\n",
      "2020-12-10 05:58:58   50369280 raspi-2020-11-27-14-06-45_5\r\n",
      "2020-12-10 05:58:59   50369280 raspi-2020-11-27-14-06-45_6\r\n",
      "2020-12-10 05:59:03   50369280 raspi-2020-11-27-14-06-45_7\r\n",
      "2020-12-10 05:59:04   50369280 raspi-2020-11-27-14-06-45_8\r\n",
      "2020-12-10 05:59:03   50369280 raspi-2020-11-27-14-06-45_9\r\n",
      "2020-12-11 06:16:44       1055 raspi-noise-in-faraday-2020-11-27-13-27-18.json\r\n",
      "2020-12-10 05:59:06   50891520 raspi-noise-in-faraday-2020-11-27-13-27-18_0\r\n",
      "2020-12-10 05:59:06   50891520 raspi-noise-in-faraday-2020-11-27-13-27-18_1\r\n",
      "2020-12-10 05:59:04    3396800 raspi-noise-in-faraday-2020-11-27-13-27-18_2\r\n",
      "2020-12-11 06:16:44       1055 raspi-noise-in-faraday-2020-11-27-13-30-16.json\r\n",
      "2020-12-10 05:59:08   49977600 raspi-noise-in-faraday-2020-11-27-13-30-16_0\r\n",
      "2020-12-10 05:59:09   49977600 raspi-noise-in-faraday-2020-11-27-13-30-16_1\r\n",
      "2020-12-10 05:59:06    5834432 raspi-noise-in-faraday-2020-11-27-13-30-16_2\r\n"
     ]
    }
   ],
   "source": [
    "!aws3 ls s3://braingeneers/ephys/2020-11-27-e-UCSF-axionplate/derived/metadata.json"
   ]
  },
  {
   "cell_type": "code",
   "execution_count": 44,
   "id": "baee57c9",
   "metadata": {},
   "outputs": [
    {
     "name": "stdout",
     "output_type": "stream",
     "text": [
      "Completed 683 Bytes/683 Bytes (5.2 KiB/s) with 1 file(s) remaining\r",
      "download: s3://braingeneers/ephys/2020-11-27-e-UCSF-axionplate/derived/metadata.json to ./metadata.json\r\n"
     ]
    }
   ],
   "source": [
    "#list files in AWS S3 on PRP \n",
    "!aws3 cp s3://braingeneers/ephys/2020-11-27-e-UCSF-axionplate/derived/metadata.json ."
   ]
  },
  {
   "cell_type": "code",
   "execution_count": 49,
   "id": "45692ff9",
   "metadata": {},
   "outputs": [
    {
     "name": "stdout",
     "output_type": "stream",
     "text": [
      "'Create a New Dataset.ipynb'   metadata.json   test   z_merged_output.txt\r\n"
     ]
    }
   ],
   "source": [
    "#list files on this computer\n",
    "!ls"
   ]
  },
  {
   "cell_type": "code",
   "execution_count": null,
   "id": "05fd3e2f",
   "metadata": {},
   "outputs": [],
   "source": []
  },
  {
   "cell_type": "code",
   "execution_count": null,
   "id": "ambient-procedure",
   "metadata": {
    "slideshow": {
     "slide_type": "slide"
    }
   },
   "outputs": [],
   "source": [
    "if UUID[11] == 'e': experiment_type = \"ephys\"\n",
    "if UUID[11] == 'f': experiment_type = \"fluidics\"\n",
    "if UUID[11] == 'i': experiment_type = \"imaging\"\n",
    "if UUID[11] == 'c': experiment_type = \"calcium\"\n",
    "if UUID[11] == 'p': experiment_type = \"patchclamp\"\n",
    "\n",
    "\n",
    "SOURCE=\"./*\"\n",
    "DESTINATION=\"s3://braingeneers/\" + experiment_type +\"/\" + UUID + \"/\"\n",
    "\n",
    "!aws --endpoint https://s3.nautilus.optiputer.net s3 cp $SOURCE $DESTINATION\n",
    "!aws --endpoint https://s3.nautilus.optiputer.net s3 ls s3://braingeneers/\n",
    "!aws3 ls s3://braingeneers/ "
   ]
  },
  {
   "cell_type": "code",
   "execution_count": 55,
   "id": "b321e796",
   "metadata": {},
   "outputs": [
    {
     "name": "stdout",
     "output_type": "stream",
     "text": [
      "{\n",
      "     \"email\": \"\",\n",
      "     \"experiments\": [\n",
      "          \"cells_faraday_1.json\",\n",
      "          \"cells_faraday_2.json\",\n",
      "          \"intan_noise_no_faraday_warm_plate.json\",\n",
      "          \"intan_noise_in_faraday_warm_plate.json\",\n",
      "          \"raspi-noise-in-faraday-2020-11-27-13-27-18.json\",\n",
      "          \"raspi-noise-in-faraday-2020-11-27-13-30-16.json\",\n",
      "          \"raspi-2020-11-27-12-49-12.json\",\n",
      "          \"raspi-2020-11-27-12-54-27.json\",\n",
      "          \"raspi-2020-11-27-13-36-52.json\",\n",
      "          \"raspi-2020-11-27-13-39-19.json\",\n",
      "          \"raspi-2020-11-27-14-06-45.json\"\n",
      "     ],\n",
      "     \"issue\": \"https://github.com/braingeneers/internal/issues/N/A\",\n",
      "     \"notes\": \"https://docs.google.com/document/d/1rphuB7pzRtAYW-MH67JWsbju1k_fUGopBwyqy2NniSk/edit?usp=sharing\",\n",
      "     \"timestamp\": \"2020-11-27T11:22:11\",\n",
      "     \"uuid\": \"2020-11-27-e-UCSF-axionplate\"\n",
      "}\n"
     ]
    }
   ],
   "source": [
    "with open(\"metadata.json\", \"r\") as fp:\n",
    "    metadata = json.load(fp)\n",
    "    json_formatted_str = json.dumps(metadata, indent=5)\n",
    "    print(json_formatted_str)"
   ]
  },
  {
   "cell_type": "code",
   "execution_count": null,
   "id": "a083b1dd",
   "metadata": {},
   "outputs": [],
   "source": []
  },
  {
   "cell_type": "code",
   "execution_count": 57,
   "id": "1b416313",
   "metadata": {},
   "outputs": [],
   "source": [
    "class renderJSON(object):\n",
    "    def __init__(self, json_data):\n",
    "        if isinstance(json_data, dict):\n",
    "            self.json_str = json.dumps(json_data)\n",
    "        else:\n",
    "            self.json_str = json_data\n",
    "        self.uuid = str(uuid.uuid4())\n",
    "        # This line is missed out in most of the versions of this script across the web, it is essential for this to work interleaved with print statements\n",
    "        self._ipython_display_()\n",
    "        \n",
    "    def _ipython_display_(self):\n",
    "        display(HTML('<div id=\"{}\" style=\"height: auto; width:100%;\"></div>'.format(self.uuid)))\n",
    "        display(HTML(\"\"\"<script>\n",
    "        require([\"https://rawgit.com/caldwell/renderjson/master/renderjson.js\"], function() {\n",
    "          renderjson.set_show_to_level(1)\n",
    "          document.getElementById('%s').appendChild(renderjson(%s))\n",
    "        });</script>\n",
    "        \"\"\" % (self.uuid, self.json_str)))\n",
    "        \n"
   ]
  },
  {
   "cell_type": "code",
   "execution_count": 58,
   "id": "2375d8c4",
   "metadata": {},
   "outputs": [
    {
     "ename": "NameError",
     "evalue": "name 'uuid' is not defined",
     "output_type": "error",
     "traceback": [
      "\u001b[0;31m---------------------------------------------------------------------------\u001b[0m",
      "\u001b[0;31mNameError\u001b[0m                                 Traceback (most recent call last)",
      "\u001b[0;32m<ipython-input-58-4ff052be3fee>\u001b[0m in \u001b[0;36m<module>\u001b[0;34m\u001b[0m\n\u001b[0;32m----> 1\u001b[0;31m \u001b[0mrenderJSON\u001b[0m\u001b[0;34m(\u001b[0m\u001b[0mmetadata\u001b[0m\u001b[0;34m)\u001b[0m\u001b[0;34m\u001b[0m\u001b[0;34m\u001b[0m\u001b[0m\n\u001b[0m",
      "\u001b[0;32m<ipython-input-57-002872ac7da6>\u001b[0m in \u001b[0;36m__init__\u001b[0;34m(self, json_data)\u001b[0m\n\u001b[1;32m      5\u001b[0m         \u001b[0;32melse\u001b[0m\u001b[0;34m:\u001b[0m\u001b[0;34m\u001b[0m\u001b[0;34m\u001b[0m\u001b[0m\n\u001b[1;32m      6\u001b[0m             \u001b[0mself\u001b[0m\u001b[0;34m.\u001b[0m\u001b[0mjson_str\u001b[0m \u001b[0;34m=\u001b[0m \u001b[0mjson_data\u001b[0m\u001b[0;34m\u001b[0m\u001b[0;34m\u001b[0m\u001b[0m\n\u001b[0;32m----> 7\u001b[0;31m         \u001b[0mself\u001b[0m\u001b[0;34m.\u001b[0m\u001b[0muuid\u001b[0m \u001b[0;34m=\u001b[0m \u001b[0mstr\u001b[0m\u001b[0;34m(\u001b[0m\u001b[0muuid\u001b[0m\u001b[0;34m.\u001b[0m\u001b[0muuid4\u001b[0m\u001b[0;34m(\u001b[0m\u001b[0;34m)\u001b[0m\u001b[0;34m)\u001b[0m\u001b[0;34m\u001b[0m\u001b[0;34m\u001b[0m\u001b[0m\n\u001b[0m\u001b[1;32m      8\u001b[0m         \u001b[0;31m# This line is missed out in most of the versions of this script across the web, it is essential for this to work interleaved with print statements\u001b[0m\u001b[0;34m\u001b[0m\u001b[0;34m\u001b[0m\u001b[0;34m\u001b[0m\u001b[0m\n\u001b[1;32m      9\u001b[0m         \u001b[0mself\u001b[0m\u001b[0;34m.\u001b[0m\u001b[0m_ipython_display_\u001b[0m\u001b[0;34m(\u001b[0m\u001b[0;34m)\u001b[0m\u001b[0;34m\u001b[0m\u001b[0;34m\u001b[0m\u001b[0m\n",
      "\u001b[0;31mNameError\u001b[0m: name 'uuid' is not defined"
     ]
    }
   ],
   "source": [
    "#renderJSON(metadata)"
   ]
  },
  {
   "cell_type": "code",
   "execution_count": null,
   "id": "5d29e240",
   "metadata": {},
   "outputs": [],
   "source": [
    "#Upload everything \n",
    "\n",
    "!aws3 cp ./2020-11-27-e-UCSF-axionplate/ s3://braingeneers/ephys/2020-11-27-e-UCSF-axionplate/ --recursive --public-read"
   ]
  },
  {
   "cell_type": "code",
   "execution_count": 59,
   "id": "a2bc17dc",
   "metadata": {},
   "outputs": [
    {
     "name": "stdout",
     "output_type": "stream",
     "text": [
      " 2021-04-09-e-claudia-test     test\r\n",
      "'Create a New Dataset.ipynb'   z_merged_output.txt\r\n"
     ]
    }
   ],
   "source": [
    "!ls"
   ]
  },
  {
   "cell_type": "code",
   "execution_count": 64,
   "id": "627a10a2",
   "metadata": {},
   "outputs": [
    {
     "name": "stdout",
     "output_type": "stream",
     "text": [
      "Completed 683 Bytes/683 Bytes (1.4 KiB/s) with 1 file(s) remaining\r",
      "upload: 2021-04-09-e-claudia-test/metadata.json to s3://braingeneers/ephys/2021-04-09-e-claudia-test/metadata.json\r\n"
     ]
    }
   ],
   "source": [
    "!aws3 cp ./2021-04-09-e-claudia-test/ s3://braingeneers/ephys/2021-04-09-e-claudia-test/ --acl public-read --recursive"
   ]
  },
  {
   "cell_type": "code",
   "execution_count": 72,
   "id": "7f77b82f",
   "metadata": {},
   "outputs": [
    {
     "name": "stdout",
     "output_type": "stream",
     "text": [
      "2021-04-09 19:48:18        683 metadata.json\r\n"
     ]
    }
   ],
   "source": [
    "!aws3 ls s3://braingeneers/ephys/2021-04-09-e-claudia-test/"
   ]
  },
  {
   "cell_type": "code",
   "execution_count": null,
   "id": "1b62a929",
   "metadata": {},
   "outputs": [],
   "source": []
  },
  {
   "cell_type": "code",
   "execution_count": 65,
   "id": "300d4131",
   "metadata": {},
   "outputs": [],
   "source": []
  },
  {
   "cell_type": "code",
   "execution_count": 70,
   "id": "18548a55",
   "metadata": {},
   "outputs": [
    {
     "name": "stdout",
     "output_type": "stream",
     "text": [
      "ahjkgk\r\n"
     ]
    }
   ],
   "source": [
    "# How to pass variables from Jupyter to Command line\n",
    "x = \"ahjkgk\"\n",
    "if True: \n",
    "    !echo {x}"
   ]
  },
  {
   "cell_type": "code",
   "execution_count": null,
   "id": "6b5550d4",
   "metadata": {},
   "outputs": [],
   "source": []
  },
  {
   "cell_type": "markdown",
   "id": "adolescent-patrol",
   "metadata": {},
   "source": [
    "### Post a Github Issue To Announce the Dataset"
   ]
  },
  {
   "cell_type": "markdown",
   "id": "cultural-victoria",
   "metadata": {},
   "source": [
    "**Github issue content:**\n",
    "\n",
    "Title: Experiment UUID\n",
    "\n",
    "Body: Medatata.json?? as plaintext? \n",
    "\n",
    "+ info about who uploaded it & did the experiment"
   ]
  },
  {
   "cell_type": "code",
   "execution_count": null,
   "id": "moving-regular",
   "metadata": {},
   "outputs": [],
   "source": [
    "#Preview content before posting???\n",
    "# print JSONs, etc."
   ]
  },
  {
   "cell_type": "code",
   "execution_count": null,
   "id": "computational-anchor",
   "metadata": {},
   "outputs": [],
   "source": [
    "#[press a button to post github issue]\n",
    "# How to post an automated github issue with Python: https://gist.github.com/JeffPaine/3145490"
   ]
  },
  {
   "cell_type": "markdown",
   "id": "comprehensive-sender",
   "metadata": {},
   "source": []
  }
 ],
 "metadata": {
  "hide_input": false,
  "kernelspec": {
   "display_name": "Python 3",
   "language": "python",
   "name": "python3"
  },
  "language_info": {
   "codemirror_mode": {
    "name": "ipython",
    "version": 3
   },
   "file_extension": ".py",
   "mimetype": "text/x-python",
   "name": "python",
   "nbconvert_exporter": "python",
   "pygments_lexer": "ipython3",
   "version": "3.8.8"
  },
  "toc": {
   "base_numbering": 1,
   "nav_menu": {},
   "number_sections": true,
   "sideBar": true,
   "skip_h1_title": false,
   "title_cell": "Table of Contents",
   "title_sidebar": "Contents",
   "toc_cell": false,
   "toc_position": {},
   "toc_section_display": true,
   "toc_window_display": false
  },
  "varInspector": {
   "cols": {
    "lenName": 16,
    "lenType": 16,
    "lenVar": 40
   },
   "kernels_config": {
    "python": {
     "delete_cmd_postfix": "",
     "delete_cmd_prefix": "del ",
     "library": "var_list.py",
     "varRefreshCmd": "print(var_dic_list())"
    },
    "r": {
     "delete_cmd_postfix": ") ",
     "delete_cmd_prefix": "rm(",
     "library": "var_list.r",
     "varRefreshCmd": "cat(var_dic_list()) "
    }
   },
   "types_to_exclude": [
    "module",
    "function",
    "builtin_function_or_method",
    "instance",
    "_Feature"
   ],
   "window_display": false
  },
  "widgets": {
   "application/vnd.jupyter.widget-state+json": {
    "state": {
     "5c822c2201fa41d5b5ed2ed0e2a2340b": {
      "model_module": "@jupyter-widgets/base",
      "model_module_version": "1.2.0",
      "model_name": "LayoutModel",
      "state": {}
     },
     "aa3e45c048dd48ab9523d710bd68bd99": {
      "model_module": "@jupyter-widgets/controls",
      "model_module_version": "1.5.0",
      "model_name": "FileUploadModel",
      "state": {
       "description_tooltip": null,
       "layout": "IPY_MODEL_5c822c2201fa41d5b5ed2ed0e2a2340b",
       "multiple": true,
       "style": "IPY_MODEL_b40096ce194e4e91ae3f54cb4d0648ac"
      }
     },
     "b40096ce194e4e91ae3f54cb4d0648ac": {
      "model_module": "@jupyter-widgets/controls",
      "model_module_version": "1.5.0",
      "model_name": "ButtonStyleModel",
      "state": {}
     }
    },
    "version_major": 2,
    "version_minor": 0
   }
  }
 },
 "nbformat": 4,
 "nbformat_minor": 5
}
