{
 "cells": [
  {
   "cell_type": "markdown",
   "id": "bc843dd3",
   "metadata": {},
   "source": [
    "# install python tools"
   ]
  },
  {
   "cell_type": "code",
   "execution_count": 20,
   "id": "49cf84b0",
   "metadata": {},
   "outputs": [
    {
     "name": "stdout",
     "output_type": "stream",
     "text": [
      "'program with bash.ipynb'   test_file   username\r\n"
     ]
    }
   ],
   "source": [
    "! ls"
   ]
  },
  {
   "cell_type": "code",
   "execution_count": 21,
   "id": "b1cde502",
   "metadata": {},
   "outputs": [
    {
     "name": "stdout",
     "output_type": "stream",
     "text": [
      "\u001b[33mWARNING: The directory '/home/jovyan/.cache/pip' or its parent directory is not owned or is not writable by the current user. The cache has been disabled. Check the permissions and owner of that directory. If executing pip with sudo, you may want sudo's -H flag.\u001b[0m\n",
      "Requirement already satisfied: wasabi in /opt/conda/lib/python3.8/site-packages (0.8.2)\n"
     ]
    }
   ],
   "source": [
    "!pip install wasabi"
   ]
  },
  {
   "cell_type": "markdown",
   "id": "5750b5b4",
   "metadata": {},
   "source": [
    "# Save Username"
   ]
  },
  {
   "cell_type": "code",
   "execution_count": 22,
   "id": "37437d1e",
   "metadata": {},
   "outputs": [],
   "source": [
    "!echo \"user1\" > username"
   ]
  },
  {
   "cell_type": "code",
   "execution_count": 23,
   "id": "cdcf8b38",
   "metadata": {},
   "outputs": [
    {
     "name": "stdout",
     "output_type": "stream",
     "text": [
      "user1\r\n"
     ]
    }
   ],
   "source": [
    "!cat username\n",
    "\n"
   ]
  },
  {
   "cell_type": "code",
   "execution_count": 24,
   "id": "5e5b785e",
   "metadata": {},
   "outputs": [],
   "source": [
    "from ipywidgets import *"
   ]
  },
  {
   "cell_type": "code",
   "execution_count": 25,
   "id": "d78e28b7",
   "metadata": {},
   "outputs": [
    {
     "data": {
      "application/vnd.jupyter.widget-view+json": {
       "model_id": "fe2b89a014bb445e8fe1f889c493dd08",
       "version_major": 2,
       "version_minor": 0
      },
      "text/plain": [
       "interactive(children=(Text(value='', description='username'), Button(description='Run Interact', style=ButtonS…"
      ]
     },
     "metadata": {},
     "output_type": "display_data"
    }
   ],
   "source": [
    "@interact_manual(username = \"\")\n",
    "def saveUser( username ):\n",
    "    !echo \"{username}\" > username"
   ]
  },
  {
   "cell_type": "markdown",
   "id": "6e26a267",
   "metadata": {},
   "source": [
    "# Get username"
   ]
  },
  {
   "cell_type": "code",
   "execution_count": 26,
   "id": "5bda0de7",
   "metadata": {},
   "outputs": [
    {
     "data": {
      "application/vnd.jupyter.widget-view+json": {
       "model_id": "43e15127fdf54474a4e5c20c72cbade2",
       "version_major": 2,
       "version_minor": 0
      },
      "text/plain": [
       "interactive(children=(Button(description='Run Interact', style=ButtonStyle()), Output()), _dom_classes=('widge…"
      ]
     },
     "metadata": {},
     "output_type": "display_data"
    }
   ],
   "source": [
    "@interact_manual()\n",
    "def getUser():\n",
    "    !cat username"
   ]
  },
  {
   "cell_type": "markdown",
   "id": "475e75f6",
   "metadata": {},
   "source": [
    "# <font color=\"brown\">ELLIOTT Stuff"
   ]
  },
  {
   "cell_type": "markdown",
   "id": "e710efb7",
   "metadata": {},
   "source": [
    "<font color=\"red\">Claudia: Make sure you understand this code and the reimplement it in the correct jupyter notebook"
   ]
  },
  {
   "cell_type": "markdown",
   "id": "d81574b8",
   "metadata": {},
   "source": [
    "Select a folder to move to the prp"
   ]
  },
  {
   "cell_type": "code",
   "execution_count": 18,
   "id": "6d8b6149",
   "metadata": {},
   "outputs": [
    {
     "name": "stdout",
     "output_type": "stream",
     "text": [
      "2021-04-09-e-claudia-test/\r\n"
     ]
    }
   ],
   "source": [
    "!ls -d */"
   ]
  },
  {
   "cell_type": "code",
   "execution_count": 19,
   "id": "f05ea83a",
   "metadata": {},
   "outputs": [
    {
     "name": "stdout",
     "output_type": "stream",
     "text": [
      " 2021-04-09-e-claudia-test  'program with bash.ipynb'   username\r\n"
     ]
    }
   ],
   "source": [
    "!ls"
   ]
  },
  {
   "cell_type": "code",
   "execution_count": null,
   "id": "7a6f9f2e",
   "metadata": {},
   "outputs": [],
   "source": []
  },
  {
   "cell_type": "code",
   "execution_count": null,
   "id": "2f0504a3",
   "metadata": {},
   "outputs": [],
   "source": []
  },
  {
   "cell_type": "code",
   "execution_count": null,
   "id": "73a9e3c6",
   "metadata": {},
   "outputs": [],
   "source": []
  },
  {
   "cell_type": "code",
   "execution_count": null,
   "id": "55030826",
   "metadata": {},
   "outputs": [],
   "source": []
  },
  {
   "cell_type": "code",
   "execution_count": null,
   "id": "7c83947d",
   "metadata": {},
   "outputs": [],
   "source": []
  },
  {
   "cell_type": "code",
   "execution_count": null,
   "id": "0ccb1db9",
   "metadata": {},
   "outputs": [],
   "source": []
  },
  {
   "cell_type": "markdown",
   "id": "3e7f8887",
   "metadata": {},
   "source": [
    "# scratch paper"
   ]
  },
  {
   "cell_type": "code",
   "execution_count": null,
   "id": "fe037a4d",
   "metadata": {},
   "outputs": [],
   "source": [
    "!aws3 cp ./2021-04-09-e-claudia-test/ s3://braingeneers/ephys/2021-04-09-e-claudia-test/ --acl public-read --recursive"
   ]
  },
  {
   "cell_type": "code",
   "execution_count": null,
   "id": "61eea635",
   "metadata": {},
   "outputs": [],
   "source": [
    "!aws3 cp ./2021-04-09-e-claudia-test/ s3://braingeneers/ephys/2021-04-09-e-claudia-test/ --acl public-read --recursive #looking for folder and copies it to folder on the s3"
   ]
  },
  {
   "cell_type": "code",
   "execution_count": null,
   "id": "da676184",
   "metadata": {},
   "outputs": [],
   "source": []
  },
  {
   "cell_type": "code",
   "execution_count": null,
   "id": "d61c6417",
   "metadata": {},
   "outputs": [],
   "source": []
  },
  {
   "cell_type": "code",
   "execution_count": null,
   "id": "6658d92e",
   "metadata": {},
   "outputs": [],
   "source": []
  },
  {
   "cell_type": "code",
   "execution_count": null,
   "id": "4df128ed",
   "metadata": {},
   "outputs": [],
   "source": []
  },
  {
   "cell_type": "code",
   "execution_count": null,
   "id": "b9485b45",
   "metadata": {},
   "outputs": [],
   "source": []
  }
 ],
 "metadata": {
  "hide_input": false,
  "kernelspec": {
   "display_name": "Python 3",
   "language": "python",
   "name": "python3"
  },
  "language_info": {
   "codemirror_mode": {
    "name": "ipython",
    "version": 3
   },
   "file_extension": ".py",
   "mimetype": "text/x-python",
   "name": "python",
   "nbconvert_exporter": "python",
   "pygments_lexer": "ipython3",
   "version": "3.8.8"
  },
  "toc": {
   "base_numbering": 1,
   "nav_menu": {},
   "number_sections": true,
   "sideBar": true,
   "skip_h1_title": false,
   "title_cell": "Table of Contents",
   "title_sidebar": "Contents",
   "toc_cell": false,
   "toc_position": {},
   "toc_section_display": true,
   "toc_window_display": false
  }
 },
 "nbformat": 4,
 "nbformat_minor": 5
}
